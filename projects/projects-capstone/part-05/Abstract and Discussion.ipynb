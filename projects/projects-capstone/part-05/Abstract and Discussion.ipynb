{
 "cells": [
  {
   "cell_type": "markdown",
   "metadata": {},
   "source": [
    "## Abstract\n",
    "\n",
    "The data is from an insurance claims management company. The dataset is anonymized because it is a proprietory data to protect privacy. It has two categories of claims:\n",
    "\n",
    "* claims that had an accelerated approval leading to faster payments\n",
    "* claims for which additional information was required before approval could be made i.e. no accelerated approval was present\n",
    "\n",
    "The train set contains the target column which has already been classified. The test set does not have the target column. In am attempt to figure out the best performing model, a train-test split of the train set has been performed.\n",
    "\n",
    "An attempt has been made to fit different tree based models on the train set. Logarithmic loss function has been used to compare the performance of the models. It has been observed that Extra Tree Classifer with a few set of parameters had the best performance with a logloss value of 0.46. The Extra Tree Clssifier model has been used to make predictions on the test set."
   ]
  },
  {
   "cell_type": "markdown",
   "metadata": {},
   "source": [
    "## Discussion\n",
    "\n"
   ]
  }
 ],
 "metadata": {
  "kernelspec": {
   "display_name": "Python [Root]",
   "language": "python",
   "name": "Python [Root]"
  },
  "language_info": {
   "codemirror_mode": {
    "name": "ipython",
    "version": 2
   },
   "file_extension": ".py",
   "mimetype": "text/x-python",
   "name": "python",
   "nbconvert_exporter": "python",
   "pygments_lexer": "ipython2",
   "version": "2.7.12"
  }
 },
 "nbformat": 4,
 "nbformat_minor": 0
}
