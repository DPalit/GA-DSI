{
 "cells": [
  {
   "cell_type": "code",
   "execution_count": null,
   "metadata": {
    "collapsed": false
   },
   "outputs": [],
   "source": [
    "\n"
   ]
  },
  {
   "cell_type": "code",
   "execution_count": 73,
   "metadata": {
    "collapsed": false
   },
   "outputs": [],
   "source": [
    "def _getRomanDictOrdered():\n",
    "    #\n",
    "    from collections import OrderedDict\n",
    "    #\n",
    "    dIntRoman = OrderedDict()\n",
    "    #\n",
    "    dIntRoman[1000] = \"M\"\n",
    "    dIntRoman[900] = \"CM\"\n",
    "    dIntRoman[500] = \"D\"\n",
    "    dIntRoman[400] = \"CD\"\n",
    "    dIntRoman[100] = \"C\"\n",
    "    dIntRoman[90] = \"XC\"\n",
    "    dIntRoman[50] = \"L\"\n",
    "    dIntRoman[40] = \"XL\"\n",
    "    dIntRoman[10] = \"X\"\n",
    "    dIntRoman[9] = \"IX\"\n",
    "    dIntRoman[5] = \"V\"\n",
    "    dIntRoman[4] = \"IV\"\n",
    "    dIntRoman[1] = \"I\"\n",
    "    #\n",
    "    return dIntRoman\n",
    "\n",
    "_dIntRomanOrder = _getRomanDictOrdered() \n",
    "# called once on import\n",
    "\n",
    "def getRomanNumeralOffInt( iNum ):\n",
    "    #\n",
    "    lRomanNumerals = []\n",
    "    #\n",
    "    for iKey in _dIntRomanOrder:\n",
    "        #\n",
    "        if iKey > iNum: continue\n",
    "        #\n",
    "        iQuotient = iNum // iKey\n",
    "        #\n",
    "        if not iQuotient: continue\n",
    "        #\n",
    "        lRomanNumerals.append( _dIntRomanOrder[ iKey ] * iQuotient )\n",
    "        #\n",
    "        iNum -= ( iKey * iQuotient )\n",
    "        #\n",
    "        if not iNum: break\n",
    "        #\n",
    "    #\n",
    "    return ''.join( lRomanNumerals )"
   ]
  },
  {
   "cell_type": "code",
   "execution_count": 76,
   "metadata": {
    "collapsed": false
   },
   "outputs": [
    {
     "name": "stdout",
     "output_type": "stream",
     "text": [
      "CC\n"
     ]
    }
   ],
   "source": [
    "#n = int(raw_input(\"Please input a interger: \"))\n",
    "\n",
    "print getRomanNumeralOffInt(200)\n"
   ]
  },
  {
   "cell_type": "code",
   "execution_count": 78,
   "metadata": {
    "collapsed": false
   },
   "outputs": [
    {
     "ename": "NameError",
     "evalue": "name 'CC' is not defined",
     "output_type": "error",
     "traceback": [
      "\u001b[0;31m---------------------------------------------------------------------------\u001b[0m",
      "\u001b[0;31mNameError\u001b[0m                                 Traceback (most recent call last)",
      "\u001b[0;32m<ipython-input-78-2ccaedfe8832>\u001b[0m in \u001b[0;36m<module>\u001b[0;34m()\u001b[0m\n\u001b[1;32m      2\u001b[0m     \u001b[0;32mprint\u001b[0m \u001b[0mn\u001b[0m\u001b[0;34m\u001b[0m\u001b[0m\n\u001b[1;32m      3\u001b[0m \u001b[0;34m\u001b[0m\u001b[0m\n\u001b[0;32m----> 4\u001b[0;31m \u001b[0mroman_int\u001b[0m\u001b[0;34m(\u001b[0m\u001b[0mCC\u001b[0m\u001b[0;34m)\u001b[0m\u001b[0;34m\u001b[0m\u001b[0m\n\u001b[0m",
      "\u001b[0;31mNameError\u001b[0m: name 'CC' is not defined"
     ]
    }
   ],
   "source": [
    "def roman_int(n):\n",
    "    print n\n",
    "    \n",
    "roman_int(CC)    "
   ]
  },
  {
   "cell_type": "code",
   "execution_count": 41,
   "metadata": {
    "collapsed": false
   },
   "outputs": [],
   "source": [
    "#sara\n"
   ]
  },
  {
   "cell_type": "code",
   "execution_count": 2,
   "metadata": {
    "collapsed": false
   },
   "outputs": [
    {
     "name": "stdout",
     "output_type": "stream",
     "text": [
      "Enter number:880\n",
      "DCCCLXXX\n"
     ]
    }
   ],
   "source": [
    "def int_to_roman(n):\n",
    "\n",
    "    answer=''\n",
    "    table=[['M',1000],['CM',900],['D',500],['CD',400],['C',100],['XC',90],['L',50],['XL',40],['X',10],['IX',9],['V',5],['IV',4],['I',1]]\n",
    "\n",
    "    for pair in table:\n",
    "\n",
    "        while n-pair[1]>=0:\n",
    "\n",
    "            n-=pair[1]\n",
    "            answer+=pair[0]\n",
    "\n",
    "    return answer\n",
    "\n",
    "n = int(raw_input(\"Enter number:\"))\n",
    "\n",
    "if (n > 1) and ( n < 1001):\n",
    "    print int_to_roman(n)\n",
    "else: \n",
    "    print \"Nice try, number out of range :)\"       \n",
    "      "
   ]
  },
  {
   "cell_type": "code",
   "execution_count": null,
   "metadata": {
    "collapsed": true
   },
   "outputs": [],
   "source": [
    "#peter and JP"
   ]
  },
  {
   "cell_type": "code",
   "execution_count": null,
   "metadata": {
    "collapsed": true
   },
   "outputs": [],
   "source": [
    "# n is a single digit\n",
    "rom_dict = {'o':[\"I\", 'V', 'X'], 't':[\"X\", 'L', 'C'], 'h':[\"C\", 'D', 'M']}\n",
    "def conv_digit(n, oth):\n",
    "    \n",
    "    n = int(n)\n",
    "    \n",
    "    if n < 4:\n",
    "        return rom_dict[oth][0] * n\n",
    "    \n",
    "    elif n == 4:\n",
    "        return rom_dict[oth][0] + rom_dict[oth][1]\n",
    "        \n",
    "    elif n >= 5 and n <9:\n",
    "        return rom_dict[oth][1] + rom_dict[oth][0]*(n-5)\n",
    "    \n",
    "    elif n == 9:\n",
    "        return rom_dict[oth][0] + rom_dict[oth][2]\n",
    "def get_rom_num(num):\n",
    "    \n",
    "    try:\n",
    "        \n",
    "        int(num)\n",
    "    except:\n",
    "        return \"Need integers!\"\n",
    "    \n",
    "    huns = ''\n",
    "    tens = ''\n",
    "    ones = ''\n",
    "    if int(num) > 1000 or int(num) < 0:\n",
    "        return \"Don't be funny!\"\n",
    "    elif int(num) == 0:\n",
    "        return \"Romans didn't have zeros!! Sad...\"\n",
    "    elif len(num) == 4:\n",
    "        return \"M\"\n",
    "    elif len(num) == 3:\n",
    "        huns = conv_digit(num[0], 'h')\n",
    "        tens = conv_digit(num[1], 't')\n",
    "        ones = conv_digit(num[2], 'o')\n",
    "    elif len(num) == 2:\n",
    "        tens = conv_digit(num[0], 't')\n",
    "        ones = conv_digit(num[1], 'o')\n",
    "    elif len(num) == 1:\n",
    "        ones = conv_digit(num[0], 'o')\n",
    "    return huns+tens+ones\n",
    "    \n",
    "num = raw_input(\"What is the number? \")\n",
    "print \"Raw number is %s.\" % num\n",
    "print \"Roman equivalent is\", get_rom_num(num)"
   ]
  },
  {
   "cell_type": "code",
   "execution_count": null,
   "metadata": {
    "collapsed": true
   },
   "outputs": [],
   "source": []
  },
  {
   "cell_type": "code",
   "execution_count": null,
   "metadata": {
    "collapsed": true
   },
   "outputs": [],
   "source": []
  }
 ],
 "metadata": {
  "anaconda-cloud": {},
  "kernelspec": {
   "display_name": "Python [Root]",
   "language": "python",
   "name": "Python [Root]"
  },
  "language_info": {
   "codemirror_mode": {
    "name": "ipython",
    "version": 2
   },
   "file_extension": ".py",
   "mimetype": "text/x-python",
   "name": "python",
   "nbconvert_exporter": "python",
   "pygments_lexer": "ipython2",
   "version": "2.7.12"
  }
 },
 "nbformat": 4,
 "nbformat_minor": 0
}
