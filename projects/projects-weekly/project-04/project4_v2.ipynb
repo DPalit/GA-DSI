{
 "cells": [
  {
   "cell_type": "code",
   "execution_count": null,
   "metadata": {
    "collapsed": true
   },
   "outputs": [],
   "source": [
    "#webscraping code from the link slack https://github.com/ashalan/glassdoor-salary-scraper/blob/master/scraper.py\n",
    "import time\n",
    "import json\n",
    "import Salary\n",
    "from bs4 import BeautifulSoup\n",
    "from selenium import webdriver\n",
    "from selenium.webdriver.common.by import By\n",
    "from selenium.webdriver.support.ui import WebDriverWait\n",
    "from selenium.webdriver.support import expected_conditions as EC\n",
    "from selenium.common.exceptions import TimeoutException\n",
    "from selenium.webdriver.common.keys import Key"
   ]
  },
  {
   "cell_type": "code",
   "execution_count": null,
   "metadata": {
    "collapsed": true
   },
   "outputs": [],
   "source": [
    "username = \"\" # your email here\n",
    "password = \"\" # your password here\n",
    "\n",
    "# Manual options for the city, num pages to scrape, and URL\n",
    "pages = 6\n",
    "cityName = \"new-york-city\"\n",
    "cityURL = \"https://www.glassdoor.com/Salaries/new-york-city-data-scientist-salary-SRCH_IL.0,13_IM615_KO14,28.htm\""
   ]
  },
  {
   "cell_type": "code",
   "execution_count": null,
   "metadata": {
    "collapsed": true
   },
   "outputs": [],
   "source": [
    "def obj_dict(obj):\n",
    "    return obj.__dict__\n",
    "#enddef"
   ]
  },
  {
   "cell_type": "code",
   "execution_count": null,
   "metadata": {
    "collapsed": true
   },
   "outputs": [],
   "source": [
    "def json_export(data)\n",
    "    jsonFile = open(cityName + \".json\", \"w\")\n",
    "    jsonFile.write(json.dumps(data, indent=4, separators=(',', ': '), default=obj_dict))\n",
    "    jsonFile.close()\n",
    "#enddef"
   ]
  },
  {
   "cell_type": "code",
   "execution_count": null,
   "metadata": {
    "collapsed": true
   },
   "outputs": [],
   "source": [
    "def init_driver():\n",
    "    driver = webdriver.Chrome(executable_path = \"./chromedriver\")\n",
    "    driver.wait = WebDriverWait(driver, 10)\n",
    "    return driver\n",
    "#enddef"
   ]
  },
  {
   "cell_type": "code",
   "execution_count": null,
   "metadata": {
    "collapsed": true
   },
   "outputs": [],
   "source": [
    "def login(driver, username, password):\n",
    "    driver.get(\"http://www.glassdoor.com/profile/login_input.htm\")\n",
    "    try:\n",
    "        user_field = driver.wait.until(EC.presence_of_element_located(\n",
    "            (By.NAME, \"username\")))\n",
    "        pw_field = driver.find_element_by_class_name(\"signin-password\")\n",
    "        login_button = driver.find_element_by_id(\"signInBtn\")\n",
    "        user_field.send_keys(username)\n",
    "        user_field.send_keys(Keys.TAB)\n",
    "        time.sleep(1)\n",
    "        pw_field.send_keys(password)\n",
    "        time.sleep(1)\n",
    "        login_button.click()\n",
    "    except TimeoutException:\n",
    "        print(\"TimeoutException! Username/password field or login button not found on glassdoor.com\")\n",
    "#enddef"
   ]
  },
  {
   "cell_type": "code",
   "execution_count": null,
   "metadata": {
    "collapsed": true
   },
   "outputs": [],
   "source": [
    "def parse_salaries_HTML(salaries, data):\n",
    "    for salary in salaries:\n",
    "        jobTitle = \"-\"\n",
    "        company = \"-\"\n",
    "        meanPay = \"-\"\n",
    "        jobTitle = salary.find(\"a\", { \"class\" : \"jobTitle\"}).getText().strip()\n",
    "        company = salary.find(\"div\", { \"class\" : \"i-emp\"}).getText().strip()\n",
    "        try:\n",
    "        meanPay = salary.find(\"div\", { \"class\" : \"meanPay\"}).find(\"strong\").getText().strip()\n",
    "        except:\n",
    "        meanPay = 'xxx'\n",
    "        r = Salary.Salary(jobTitle, company, meanPay)\n",
    "        data.append(r)\n",
    "    #endfor\n",
    "    return data\n",
    "#enddef"
   ]
  },
  {
   "cell_type": "code",
   "execution_count": null,
   "metadata": {
    "collapsed": true
   },
   "outputs": [],
   "source": [
    "def get_data(driver, URL, startPage, endPage, data, refresh):\n",
    "    if (startPage > endPage):\n",
    "        return data\n",
    "    #endif\n",
    "    print \"\\nPage \" + str(startPage) + \" of \" + str(endPage)\n",
    "    currentURL = URL + \"_IP\" + str(startPage) + \".htm\"\n",
    "    time.sleep(2)\n",
    "    #endif\n",
    "    if (refresh):\n",
    "        driver.get(currentURL)\n",
    "        print \"Getting \" + currentURL\n",
    "    #endif\n",
    "    time.sleep(2)\n",
    "    HTML = driver.page_source\n",
    "    soup = BeautifulSoup(HTML, \"html.parser\")\n",
    "    salaries = soup.find(\"div\", { \"class\" : [\"salaryChartModule\"] }).find_all(\"div\", { \"class\" : [\"salaryRow\"] })\n",
    "    if (salaries):\n",
    "        data = parse_salaries_HTML(salaries, data)\n",
    "        print \"Page \" + str(startPage) + \" scraped.\"\n",
    "        if (startPage % 10 == 0):\n",
    "            print \"\\nTaking a breather for a few seconds ...\"\n",
    "            time.sleep(10)\n",
    "        #endif\n",
    "        get_data(driver, URL, startPage + 1, endPage, data, True)\n",
    "    else:\n",
    "        print \"Waiting ... page still loading or CAPTCHA input required\"\n",
    "        time.sleep(3)\n",
    "        get_data(driver, URL, startPage, endPage, data, False)\n",
    "    #endif\n",
    "    return data\n",
    "#enddef"
   ]
  },
  {
   "cell_type": "code",
   "execution_count": null,
   "metadata": {
    "collapsed": true
   },
   "outputs": [],
   "source": [
    "if __name__ == \"__main__\":\n",
    "    driver = init_driver()\n",
    "    time.sleep(3)\n",
    "    print \"Logging into Glassdoor account ...\"\n",
    "    login(driver, username, password)\n",
    "    time.sleep(10)\n",
    "    print \"\\nStarting data scraping ...\"\n",
    "    data = get_data(driver, cityURL[:-4], 1, pages, [], True)\n",
    "    print \"\\nExporting data to \" + cityName + \".json\"\n",
    "    json_export(data)\n",
    "    driver.quit()\n",
    "#endif"
   ]
  },
  {
   "cell_type": "code",
   "execution_count": 3,
   "metadata": {
    "collapsed": false
   },
   "outputs": [
    {
     "data": {
      "text/html": [
       "<div>\n",
       "<table border=\"1\" class=\"dataframe\">\n",
       "  <thead>\n",
       "    <tr style=\"text-align: right;\">\n",
       "      <th></th>\n",
       "      <th>meanPay</th>\n",
       "      <th>jobTitle</th>\n",
       "      <th>company</th>\n",
       "      <th>location</th>\n",
       "    </tr>\n",
       "  </thead>\n",
       "  <tbody>\n",
       "    <tr>\n",
       "      <th>0</th>\n",
       "      <td>$66,843</td>\n",
       "      <td>Business Analyst</td>\n",
       "      <td>Canvas InfoTech</td>\n",
       "      <td>San Francisco</td>\n",
       "    </tr>\n",
       "    <tr>\n",
       "      <th>1</th>\n",
       "      <td>$63,429</td>\n",
       "      <td>Business Analyst</td>\n",
       "      <td>BetaSoft Systems</td>\n",
       "      <td>San Francisco</td>\n",
       "    </tr>\n",
       "    <tr>\n",
       "      <th>2</th>\n",
       "      <td>$75,765</td>\n",
       "      <td>Business Analyst</td>\n",
       "      <td>Deloitte</td>\n",
       "      <td>San Francisco</td>\n",
       "    </tr>\n",
       "  </tbody>\n",
       "</table>\n",
       "</div>"
      ],
      "text/plain": [
       "   meanPay          jobTitle           company       location\n",
       "0  $66,843  Business Analyst   Canvas InfoTech  San Francisco\n",
       "1  $63,429  Business Analyst  BetaSoft Systems  San Francisco\n",
       "2  $75,765  Business Analyst          Deloitte  San Francisco"
      ]
     },
     "execution_count": 3,
     "metadata": {},
     "output_type": "execute_result"
    }
   ],
   "source": [
    "import pandas as pd\n",
    "\n",
    "df1 = pd.read_csv(\"/Users/Debjani/Downloads/SanFranciscoBA.csv\")\n",
    "df1[\"location\"] = \"San Francisco\"\n",
    "df1.head(3)"
   ]
  },
  {
   "cell_type": "code",
   "execution_count": 4,
   "metadata": {
    "collapsed": false
   },
   "outputs": [
    {
     "data": {
      "text/html": [
       "<div>\n",
       "<table border=\"1\" class=\"dataframe\">\n",
       "  <thead>\n",
       "    <tr style=\"text-align: right;\">\n",
       "      <th></th>\n",
       "      <th>meanPay</th>\n",
       "      <th>jobTitle</th>\n",
       "      <th>company</th>\n",
       "      <th>location</th>\n",
       "    </tr>\n",
       "  </thead>\n",
       "  <tbody>\n",
       "    <tr>\n",
       "      <th>0</th>\n",
       "      <td>$65,819</td>\n",
       "      <td>Business Analyst</td>\n",
       "      <td>JSMN International</td>\n",
       "      <td>New York</td>\n",
       "    </tr>\n",
       "    <tr>\n",
       "      <th>1</th>\n",
       "      <td>$75,262</td>\n",
       "      <td>Business Analyst</td>\n",
       "      <td>Deloitte</td>\n",
       "      <td>New York</td>\n",
       "    </tr>\n",
       "    <tr>\n",
       "      <th>2</th>\n",
       "      <td>$81,734</td>\n",
       "      <td>Business Analyst</td>\n",
       "      <td>J.P. Morgan</td>\n",
       "      <td>New York</td>\n",
       "    </tr>\n",
       "  </tbody>\n",
       "</table>\n",
       "</div>"
      ],
      "text/plain": [
       "   meanPay          jobTitle             company  location\n",
       "0  $65,819  Business Analyst  JSMN International  New York\n",
       "1  $75,262  Business Analyst            Deloitte  New York\n",
       "2  $81,734  Business Analyst         J.P. Morgan  New York"
      ]
     },
     "execution_count": 4,
     "metadata": {},
     "output_type": "execute_result"
    }
   ],
   "source": [
    "df2 = pd.read_csv(\"/Users/Debjani/Downloads/NewYorkBA.csv\")\n",
    "df2[\"location\"] = \"New York\"\n",
    "df2.head(3)"
   ]
  },
  {
   "cell_type": "code",
   "execution_count": 5,
   "metadata": {
    "collapsed": false
   },
   "outputs": [
    {
     "data": {
      "text/html": [
       "<div>\n",
       "<table border=\"1\" class=\"dataframe\">\n",
       "  <thead>\n",
       "    <tr style=\"text-align: right;\">\n",
       "      <th></th>\n",
       "      <th>meanPay</th>\n",
       "      <th>jobTitle</th>\n",
       "      <th>company</th>\n",
       "      <th>location</th>\n",
       "    </tr>\n",
       "  </thead>\n",
       "  <tbody>\n",
       "    <tr>\n",
       "      <th>0</th>\n",
       "      <td>$31.19</td>\n",
       "      <td>Business Analyst - Hourly</td>\n",
       "      <td>Xceltech</td>\n",
       "      <td>DC</td>\n",
       "    </tr>\n",
       "    <tr>\n",
       "      <th>1</th>\n",
       "      <td>$67,164</td>\n",
       "      <td>Business Analyst</td>\n",
       "      <td>Akvarr</td>\n",
       "      <td>DC</td>\n",
       "    </tr>\n",
       "    <tr>\n",
       "      <th>2</th>\n",
       "      <td>$31.46</td>\n",
       "      <td>Business Analyst - Hourly</td>\n",
       "      <td>Enterprise Business Solutions</td>\n",
       "      <td>DC</td>\n",
       "    </tr>\n",
       "  </tbody>\n",
       "</table>\n",
       "</div>"
      ],
      "text/plain": [
       "   meanPay                   jobTitle                        company location\n",
       "0   $31.19  Business Analyst - Hourly                       Xceltech       DC\n",
       "1  $67,164           Business Analyst                         Akvarr       DC\n",
       "2   $31.46  Business Analyst - Hourly  Enterprise Business Solutions       DC"
      ]
     },
     "execution_count": 5,
     "metadata": {},
     "output_type": "execute_result"
    }
   ],
   "source": [
    "df3 = pd.read_csv(\"/Users/Debjani/Downloads/DCBA.csv\")\n",
    "df3[\"location\"] = \"DC\"\n",
    "df3.head(3)"
   ]
  },
  {
   "cell_type": "code",
   "execution_count": 6,
   "metadata": {
    "collapsed": false
   },
   "outputs": [
    {
     "data": {
      "text/html": [
       "<div>\n",
       "<table border=\"1\" class=\"dataframe\">\n",
       "  <thead>\n",
       "    <tr style=\"text-align: right;\">\n",
       "      <th></th>\n",
       "      <th>meanPay</th>\n",
       "      <th>jobTitle</th>\n",
       "      <th>company</th>\n",
       "      <th>location</th>\n",
       "    </tr>\n",
       "  </thead>\n",
       "  <tbody>\n",
       "    <tr>\n",
       "      <th>0</th>\n",
       "      <td>$69,808</td>\n",
       "      <td>Business Analyst</td>\n",
       "      <td>State Street</td>\n",
       "      <td>Boston</td>\n",
       "    </tr>\n",
       "    <tr>\n",
       "      <th>1</th>\n",
       "      <td>$72,585</td>\n",
       "      <td>Business Analyst</td>\n",
       "      <td>Deloitte</td>\n",
       "      <td>Boston</td>\n",
       "    </tr>\n",
       "    <tr>\n",
       "      <th>2</th>\n",
       "      <td>$47,878</td>\n",
       "      <td>Business Analyst</td>\n",
       "      <td>Public Consulting Group</td>\n",
       "      <td>Boston</td>\n",
       "    </tr>\n",
       "  </tbody>\n",
       "</table>\n",
       "</div>"
      ],
      "text/plain": [
       "   meanPay          jobTitle                  company location\n",
       "0  $69,808  Business Analyst             State Street   Boston\n",
       "1  $72,585  Business Analyst                 Deloitte   Boston\n",
       "2  $47,878  Business Analyst  Public Consulting Group   Boston"
      ]
     },
     "execution_count": 6,
     "metadata": {},
     "output_type": "execute_result"
    }
   ],
   "source": [
    "df4 = pd.read_csv(\"/Users/Debjani/Downloads/BostonBA.csv\")\n",
    "df4[\"location\"] = \"Boston\"\n",
    "df4.head(3)"
   ]
  },
  {
   "cell_type": "code",
   "execution_count": 7,
   "metadata": {
    "collapsed": false
   },
   "outputs": [
    {
     "data": {
      "text/html": [
       "<div>\n",
       "<table border=\"1\" class=\"dataframe\">\n",
       "  <thead>\n",
       "    <tr style=\"text-align: right;\">\n",
       "      <th></th>\n",
       "      <th>meanPay</th>\n",
       "      <th>jobTitle</th>\n",
       "      <th>company</th>\n",
       "      <th>location</th>\n",
       "    </tr>\n",
       "  </thead>\n",
       "  <tbody>\n",
       "    <tr>\n",
       "      <th>0</th>\n",
       "      <td>$96,829</td>\n",
       "      <td>Data Analyst</td>\n",
       "      <td>Esurance</td>\n",
       "      <td>San Francisco</td>\n",
       "    </tr>\n",
       "    <tr>\n",
       "      <th>1</th>\n",
       "      <td>$103,271</td>\n",
       "      <td>Data Analyst</td>\n",
       "      <td>Zynga</td>\n",
       "      <td>San Francisco</td>\n",
       "    </tr>\n",
       "    <tr>\n",
       "      <th>2</th>\n",
       "      <td>$61,438</td>\n",
       "      <td>Data Analyst</td>\n",
       "      <td>Canvas InfoTech</td>\n",
       "      <td>San Francisco</td>\n",
       "    </tr>\n",
       "  </tbody>\n",
       "</table>\n",
       "</div>"
      ],
      "text/plain": [
       "    meanPay      jobTitle          company       location\n",
       "0   $96,829  Data Analyst         Esurance  San Francisco\n",
       "1  $103,271  Data Analyst            Zynga  San Francisco\n",
       "2   $61,438  Data Analyst  Canvas InfoTech  San Francisco"
      ]
     },
     "execution_count": 7,
     "metadata": {},
     "output_type": "execute_result"
    }
   ],
   "source": [
    "df5 = pd.read_csv(\"/Users/Debjani/Downloads/SanFranciscoDataAna.csv\")\n",
    "df5[\"location\"] = \"San Francisco\"\n",
    "df5.head(3)"
   ]
  },
  {
   "cell_type": "code",
   "execution_count": 8,
   "metadata": {
    "collapsed": false
   },
   "outputs": [
    {
     "data": {
      "text/html": [
       "<div>\n",
       "<table border=\"1\" class=\"dataframe\">\n",
       "  <thead>\n",
       "    <tr style=\"text-align: right;\">\n",
       "      <th></th>\n",
       "      <th>meanPay</th>\n",
       "      <th>jobTitle</th>\n",
       "      <th>company</th>\n",
       "      <th>location</th>\n",
       "    </tr>\n",
       "  </thead>\n",
       "  <tbody>\n",
       "    <tr>\n",
       "      <th>0</th>\n",
       "      <td>$68,746</td>\n",
       "      <td>Data Analyst</td>\n",
       "      <td>Bloomberg L.P.</td>\n",
       "      <td>New York</td>\n",
       "    </tr>\n",
       "    <tr>\n",
       "      <th>1</th>\n",
       "      <td>$62,209</td>\n",
       "      <td>Data Analyst</td>\n",
       "      <td>Gabriels Technology Solutions</td>\n",
       "      <td>New York</td>\n",
       "    </tr>\n",
       "    <tr>\n",
       "      <th>2</th>\n",
       "      <td>$119,786</td>\n",
       "      <td>Data Analyst</td>\n",
       "      <td>Vitech Systems Group</td>\n",
       "      <td>New York</td>\n",
       "    </tr>\n",
       "  </tbody>\n",
       "</table>\n",
       "</div>"
      ],
      "text/plain": [
       "    meanPay      jobTitle                        company  location\n",
       "0   $68,746  Data Analyst                 Bloomberg L.P.  New York\n",
       "1   $62,209  Data Analyst  Gabriels Technology Solutions  New York\n",
       "2  $119,786  Data Analyst           Vitech Systems Group  New York"
      ]
     },
     "execution_count": 8,
     "metadata": {},
     "output_type": "execute_result"
    }
   ],
   "source": [
    "df6 = pd.read_csv(\"/Users/Debjani/Downloads/NYDataAna.csv\")\n",
    "df6[\"location\"] = \"New York\"\n",
    "df6.head(3)"
   ]
  },
  {
   "cell_type": "code",
   "execution_count": 9,
   "metadata": {
    "collapsed": false
   },
   "outputs": [
    {
     "data": {
      "text/html": [
       "<div>\n",
       "<table border=\"1\" class=\"dataframe\">\n",
       "  <thead>\n",
       "    <tr style=\"text-align: right;\">\n",
       "      <th></th>\n",
       "      <th>meanPay</th>\n",
       "      <th>jobTitle</th>\n",
       "      <th>company</th>\n",
       "      <th>location</th>\n",
       "    </tr>\n",
       "  </thead>\n",
       "  <tbody>\n",
       "    <tr>\n",
       "      <th>0</th>\n",
       "      <td>$64,757</td>\n",
       "      <td>Data Analyst</td>\n",
       "      <td>comScore</td>\n",
       "      <td>DC</td>\n",
       "    </tr>\n",
       "    <tr>\n",
       "      <th>1</th>\n",
       "      <td>$67,459</td>\n",
       "      <td>Data Analyst</td>\n",
       "      <td>Capital One</td>\n",
       "      <td>DC</td>\n",
       "    </tr>\n",
       "    <tr>\n",
       "      <th>2</th>\n",
       "      <td>$59,495</td>\n",
       "      <td>Data Analyst</td>\n",
       "      <td>EDGAR Online</td>\n",
       "      <td>DC</td>\n",
       "    </tr>\n",
       "  </tbody>\n",
       "</table>\n",
       "</div>"
      ],
      "text/plain": [
       "   meanPay      jobTitle       company location\n",
       "0  $64,757  Data Analyst      comScore       DC\n",
       "1  $67,459  Data Analyst   Capital One       DC\n",
       "2  $59,495  Data Analyst  EDGAR Online       DC"
      ]
     },
     "execution_count": 9,
     "metadata": {},
     "output_type": "execute_result"
    }
   ],
   "source": [
    "df7 = pd.read_csv(\"/Users/Debjani/Downloads/DCDataAna.csv\")\n",
    "df7[\"location\"] = \"DC\"\n",
    "df7.head(3)"
   ]
  },
  {
   "cell_type": "code",
   "execution_count": 10,
   "metadata": {
    "collapsed": false
   },
   "outputs": [
    {
     "data": {
      "text/html": [
       "<div>\n",
       "<table border=\"1\" class=\"dataframe\">\n",
       "  <thead>\n",
       "    <tr style=\"text-align: right;\">\n",
       "      <th></th>\n",
       "      <th>meanPay</th>\n",
       "      <th>jobTitle</th>\n",
       "      <th>company</th>\n",
       "      <th>location</th>\n",
       "    </tr>\n",
       "  </thead>\n",
       "  <tbody>\n",
       "    <tr>\n",
       "      <th>0</th>\n",
       "      <td>$70,835</td>\n",
       "      <td>Data Analyst</td>\n",
       "      <td>Liberty Mutual Insurance</td>\n",
       "      <td>Boston</td>\n",
       "    </tr>\n",
       "    <tr>\n",
       "      <th>1</th>\n",
       "      <td>$56,658</td>\n",
       "      <td>Data Analyst</td>\n",
       "      <td>Compete, Inc</td>\n",
       "      <td>Boston</td>\n",
       "    </tr>\n",
       "    <tr>\n",
       "      <th>2</th>\n",
       "      <td>$55,619</td>\n",
       "      <td>Data Analyst</td>\n",
       "      <td>Boston University</td>\n",
       "      <td>Boston</td>\n",
       "    </tr>\n",
       "  </tbody>\n",
       "</table>\n",
       "</div>"
      ],
      "text/plain": [
       "   meanPay      jobTitle                   company location\n",
       "0  $70,835  Data Analyst  Liberty Mutual Insurance   Boston\n",
       "1  $56,658  Data Analyst              Compete, Inc   Boston\n",
       "2  $55,619  Data Analyst         Boston University   Boston"
      ]
     },
     "execution_count": 10,
     "metadata": {},
     "output_type": "execute_result"
    }
   ],
   "source": [
    "df8 = pd.read_csv(\"/Users/Debjani/Downloads/BostonDataAna.csv\")\n",
    "df8[\"location\"] = \"Boston\"\n",
    "df8.head(3)"
   ]
  },
  {
   "cell_type": "code",
   "execution_count": 11,
   "metadata": {
    "collapsed": false
   },
   "outputs": [
    {
     "data": {
      "text/html": [
       "<div>\n",
       "<table border=\"1\" class=\"dataframe\">\n",
       "  <thead>\n",
       "    <tr style=\"text-align: right;\">\n",
       "      <th></th>\n",
       "      <th>meanPay</th>\n",
       "      <th>jobTitle</th>\n",
       "      <th>company</th>\n",
       "      <th>location</th>\n",
       "    </tr>\n",
       "  </thead>\n",
       "  <tbody>\n",
       "    <tr>\n",
       "      <th>0</th>\n",
       "      <td>$139,144</td>\n",
       "      <td>Data Scientist</td>\n",
       "      <td>Facebook</td>\n",
       "      <td>San Francisco</td>\n",
       "    </tr>\n",
       "    <tr>\n",
       "      <th>1</th>\n",
       "      <td>$123,724</td>\n",
       "      <td>Data Scientist</td>\n",
       "      <td>Airbnb</td>\n",
       "      <td>San Francisco</td>\n",
       "    </tr>\n",
       "    <tr>\n",
       "      <th>2</th>\n",
       "      <td>$134,861</td>\n",
       "      <td>Data Scientist</td>\n",
       "      <td>Twitter</td>\n",
       "      <td>San Francisco</td>\n",
       "    </tr>\n",
       "  </tbody>\n",
       "</table>\n",
       "</div>"
      ],
      "text/plain": [
       "    meanPay        jobTitle   company       location\n",
       "0  $139,144  Data Scientist  Facebook  San Francisco\n",
       "1  $123,724  Data Scientist    Airbnb  San Francisco\n",
       "2  $134,861  Data Scientist   Twitter  San Francisco"
      ]
     },
     "execution_count": 11,
     "metadata": {},
     "output_type": "execute_result"
    }
   ],
   "source": [
    "df9 = pd.read_csv(\"/Users/Debjani/Downloads/SanFranciscoDS.csv\")\n",
    "df9[\"location\"] = \"San Francisco\"\n",
    "df9.head(3)"
   ]
  },
  {
   "cell_type": "code",
   "execution_count": 12,
   "metadata": {
    "collapsed": false
   },
   "outputs": [
    {
     "data": {
      "text/html": [
       "<div>\n",
       "<table border=\"1\" class=\"dataframe\">\n",
       "  <thead>\n",
       "    <tr style=\"text-align: right;\">\n",
       "      <th></th>\n",
       "      <th>meanPay</th>\n",
       "      <th>jobTitle</th>\n",
       "      <th>company</th>\n",
       "      <th>location</th>\n",
       "    </tr>\n",
       "  </thead>\n",
       "  <tbody>\n",
       "    <tr>\n",
       "      <th>0</th>\n",
       "      <td>$104,714</td>\n",
       "      <td>Data Scientist</td>\n",
       "      <td>AIG</td>\n",
       "      <td>New York</td>\n",
       "    </tr>\n",
       "    <tr>\n",
       "      <th>1</th>\n",
       "      <td>$136,000</td>\n",
       "      <td>Data Scientist</td>\n",
       "      <td>Knewton</td>\n",
       "      <td>New York</td>\n",
       "    </tr>\n",
       "    <tr>\n",
       "      <th>2</th>\n",
       "      <td>$101,667</td>\n",
       "      <td>Data Scientist</td>\n",
       "      <td>Audible</td>\n",
       "      <td>New York</td>\n",
       "    </tr>\n",
       "  </tbody>\n",
       "</table>\n",
       "</div>"
      ],
      "text/plain": [
       "    meanPay        jobTitle  company  location\n",
       "0  $104,714  Data Scientist      AIG  New York\n",
       "1  $136,000  Data Scientist  Knewton  New York\n",
       "2  $101,667  Data Scientist  Audible  New York"
      ]
     },
     "execution_count": 12,
     "metadata": {},
     "output_type": "execute_result"
    }
   ],
   "source": [
    "df10 = pd.read_csv(\"/Users/Debjani/Downloads/NYDS.csv\")\n",
    "df10[\"location\"] = \"New York\"\n",
    "df10.head(3)"
   ]
  },
  {
   "cell_type": "code",
   "execution_count": 13,
   "metadata": {
    "collapsed": false
   },
   "outputs": [
    {
     "data": {
      "text/html": [
       "<div>\n",
       "<table border=\"1\" class=\"dataframe\">\n",
       "  <thead>\n",
       "    <tr style=\"text-align: right;\">\n",
       "      <th></th>\n",
       "      <th>meanPay</th>\n",
       "      <th>jobTitle</th>\n",
       "      <th>company</th>\n",
       "      <th>location</th>\n",
       "    </tr>\n",
       "  </thead>\n",
       "  <tbody>\n",
       "    <tr>\n",
       "      <th>0</th>\n",
       "      <td>$104k - $113k</td>\n",
       "      <td>Junior Data Scientist</td>\n",
       "      <td>Verizon</td>\n",
       "      <td>DC</td>\n",
       "    </tr>\n",
       "    <tr>\n",
       "      <th>1</th>\n",
       "      <td>$97k - $104k</td>\n",
       "      <td>Junior Data Scientist</td>\n",
       "      <td>Verizon Wireless</td>\n",
       "      <td>DC</td>\n",
       "    </tr>\n",
       "    <tr>\n",
       "      <th>2</th>\n",
       "      <td>$98k - $107k</td>\n",
       "      <td>Junior Data Scientist</td>\n",
       "      <td>MITRE</td>\n",
       "      <td>DC</td>\n",
       "    </tr>\n",
       "  </tbody>\n",
       "</table>\n",
       "</div>"
      ],
      "text/plain": [
       "         meanPay               jobTitle           company location\n",
       "0  $104k - $113k  Junior Data Scientist           Verizon       DC\n",
       "1   $97k - $104k  Junior Data Scientist  Verizon Wireless       DC\n",
       "2   $98k - $107k  Junior Data Scientist             MITRE       DC"
      ]
     },
     "execution_count": 13,
     "metadata": {},
     "output_type": "execute_result"
    }
   ],
   "source": [
    "df11 = pd.read_csv(\"/Users/Debjani/Downloads/DCDS.csv\")\n",
    "df11[\"location\"] = \"DC\"\n",
    "df11.head(3)"
   ]
  },
  {
   "cell_type": "code",
   "execution_count": 14,
   "metadata": {
    "collapsed": false
   },
   "outputs": [
    {
     "data": {
      "text/html": [
       "<div>\n",
       "<table border=\"1\" class=\"dataframe\">\n",
       "  <thead>\n",
       "    <tr style=\"text-align: right;\">\n",
       "      <th></th>\n",
       "      <th>meanPay</th>\n",
       "      <th>jobTitle</th>\n",
       "      <th>company</th>\n",
       "      <th>location</th>\n",
       "    </tr>\n",
       "  </thead>\n",
       "  <tbody>\n",
       "    <tr>\n",
       "      <th>0</th>\n",
       "      <td>$94,496</td>\n",
       "      <td>Data Scientist</td>\n",
       "      <td>Wayfair</td>\n",
       "      <td>Boston</td>\n",
       "    </tr>\n",
       "    <tr>\n",
       "      <th>1</th>\n",
       "      <td>$119,000</td>\n",
       "      <td>Data Scientist</td>\n",
       "      <td>TripAdvisor</td>\n",
       "      <td>Boston</td>\n",
       "    </tr>\n",
       "    <tr>\n",
       "      <th>2</th>\n",
       "      <td>$106,250</td>\n",
       "      <td>Data Scientist</td>\n",
       "      <td>TrueMotion</td>\n",
       "      <td>Boston</td>\n",
       "    </tr>\n",
       "  </tbody>\n",
       "</table>\n",
       "</div>"
      ],
      "text/plain": [
       "    meanPay        jobTitle      company location\n",
       "0   $94,496  Data Scientist      Wayfair   Boston\n",
       "1  $119,000  Data Scientist  TripAdvisor   Boston\n",
       "2  $106,250  Data Scientist   TrueMotion   Boston"
      ]
     },
     "execution_count": 14,
     "metadata": {},
     "output_type": "execute_result"
    }
   ],
   "source": [
    "df12 = pd.read_csv(\"/Users/Debjani/Downloads/BostonDS.csv\")\n",
    "df12[\"location\"] = \"Boston\"\n",
    "df12.head(3)"
   ]
  },
  {
   "cell_type": "code",
   "execution_count": 36,
   "metadata": {
    "collapsed": false
   },
   "outputs": [
    {
     "name": "stdout",
     "output_type": "stream",
     "text": [
      "   meanPay                   jobTitle             company       location\n",
      "0  $66,843           Business Analyst     Canvas InfoTech  San Francisco\n",
      "1  $63,429           Business Analyst    BetaSoft Systems  San Francisco\n",
      "2  $75,765           Business Analyst            Deloitte  San Francisco\n",
      "3   $43.70  Business Analyst - Hourly             Infosys  San Francisco\n",
      "4  $81,972           Business Analyst  McKinsey & Company  San Francisco\n"
     ]
    }
   ],
   "source": [
    "#joining all the data frames together\n",
    "\n",
    "ndf = pd.concat([df1, df2, df3, df4, df5, df6, df7, df8, df9, df10, df11, df12])\n",
    "ndf = ndf.reset_index(drop=True)\n",
    "print ndf.head()"
   ]
  },
  {
   "cell_type": "code",
   "execution_count": 16,
   "metadata": {
    "collapsed": false
   },
   "outputs": [
    {
     "data": {
      "text/plain": [
       "(1111, 4)"
      ]
     },
     "execution_count": 16,
     "metadata": {},
     "output_type": "execute_result"
    }
   ],
   "source": [
    "ndf.shape"
   ]
  },
  {
   "cell_type": "code",
   "execution_count": 17,
   "metadata": {
    "collapsed": false
   },
   "outputs": [
    {
     "name": "stdout",
     "output_type": "stream",
     "text": [
      "<class 'pandas.core.frame.DataFrame'>\n",
      "RangeIndex: 1111 entries, 0 to 1110\n",
      "Data columns (total 4 columns):\n",
      "meanPay     1111 non-null object\n",
      "jobTitle    1111 non-null object\n",
      "company     1111 non-null object\n",
      "location    1111 non-null object\n",
      "dtypes: object(4)\n",
      "memory usage: 34.8+ KB\n"
     ]
    }
   ],
   "source": [
    "ndf.info()"
   ]
  },
  {
   "cell_type": "code",
   "execution_count": 18,
   "metadata": {
    "collapsed": false
   },
   "outputs": [
    {
     "data": {
      "text/plain": [
       "array(['Business Analyst', 'Business Analyst - Hourly',\n",
       "       'Business Analyst - Hourly Contractor',\n",
       "       'Business Analyst Intern - Hourly',\n",
       "       'Business Analyst Intern - Monthly', 'Data Analyst',\n",
       "       'Data Analyst Intern - Hourly', 'Data Analyst - Hourly',\n",
       "       'Data Analyst - Hourly Contractor', 'Data and Policy Analyst',\n",
       "       'Network Systems and Data Communications Analyst',\n",
       "       'Data Warehouse Analyst', 'Senior Data Analyst',\n",
       "       'Principal Data Analyst', 'Data Analyst Manager',\n",
       "       'Data Systems Analyst', 'Software Engineer/Data Analyst',\n",
       "       'Data and Policy Analyst I', 'Weka Data Analyst',\n",
       "       'Clinical Data Analyst', 'Quantitative Data Analyst',\n",
       "       'Business Data Analyst', 'Data Analyst I',\n",
       "       'Finance Data Management Analyst', 'Data Analyst II',\n",
       "       'Clinical Data Analyst/Manager', 'Chemical Data Systems Analyst',\n",
       "       'Business Data Analyst II', 'Research/Data Analyst',\n",
       "       'Data Scientist', 'Data Scientist Intern - Monthly',\n",
       "       'Data Scientist Intern - Hourly', 'Senior Data Scientist',\n",
       "       'Clinical Laboratory Scientist-data Analyst',\n",
       "       'Senior Data Scientist/Statistician',\n",
       "       'Scientist, Statistical and Data Sciences',\n",
       "       'Principal Data Scientist', 'Data Visualization Scientist',\n",
       "       'Staff Data Scientist', 'Entry Level Data Scientist',\n",
       "       'Data Scientist II', 'Junior Data Scientist',\n",
       "       'Chief Data Scientist', 'Data Scientist Intern'], dtype=object)"
      ]
     },
     "execution_count": 18,
     "metadata": {},
     "output_type": "execute_result"
    }
   ],
   "source": [
    "ndf[\"jobTitle\"].unique()"
   ]
  },
  {
   "cell_type": "code",
   "execution_count": 67,
   "metadata": {
    "collapsed": false
   },
   "outputs": [
    {
     "data": {
      "text/plain": [
       "array(['Data Analyst', 'Data Scientist'], dtype=object)"
      ]
     },
     "execution_count": 67,
     "metadata": {},
     "output_type": "execute_result"
    }
   ],
   "source": [
    "# creating two buckets for the job title: Data Analyst and Data Scientist\n",
    "\n",
    "def clean_cat(x):\n",
    "    if \"Analyst\" in x:\n",
    "        return \"Data Analyst\"\n",
    "    elif \"Scientist\" in x:\n",
    "        return \"Data Scientist\"\n",
    "    else:\n",
    "        return x\n",
    "\n",
    "ndf[\"jobTitle\"]= ndf[\"jobTitle\"].apply(clean_cat)\n",
    "ndf[\"jobTitle\"].unique()\n"
   ]
  },
  {
   "cell_type": "code",
   "execution_count": 68,
   "metadata": {
    "collapsed": false
   },
   "outputs": [
    {
     "name": "stdout",
     "output_type": "stream",
     "text": [
      "        meanPay        jobTitle                           company  \\\n",
      "0      66843.00    Data Analyst                   Canvas InfoTech   \n",
      "1      63429.00    Data Analyst                  BetaSoft Systems   \n",
      "2      75765.00    Data Analyst                          Deloitte   \n",
      "3         43.70    Data Analyst                           Infosys   \n",
      "4      81972.00    Data Analyst                McKinsey & Company   \n",
      "5      74301.00    Data Analyst                         Accenture   \n",
      "6      76798.00    Data Analyst                Hitachi Consulting   \n",
      "7      63146.00    Data Analyst             All State Consultants   \n",
      "8         31.82    Data Analyst  Business Intelligence Associates   \n",
      "9         31.48    Data Analyst                          Xceltech   \n",
      "10     68889.00    Data Analyst                  DGN Technologies   \n",
      "11        31.82    Data Analyst     Enterprise Business Solutions   \n",
      "12        31.09    Data Analyst                   Agama Solutions   \n",
      "13     81637.00    Data Analyst                Calypso Technology   \n",
      "14     69434.00    Data Analyst                      DS Soft Tech   \n",
      "15    100753.00    Data Analyst                           Chevron   \n",
      "16     82388.00    Data Analyst          Pacific Gas and Electric   \n",
      "17     64966.00    Data Analyst                          Equinett   \n",
      "18        32.12    Data Analyst                             Agama   \n",
      "19        30.49    Data Analyst                            ecalix   \n",
      "20     69238.00    Data Analyst                              Cswl   \n",
      "21     83102.00    Data Analyst                   Mahindra Satyam   \n",
      "22     83872.00    Data Analyst                 Kaiser Permanente   \n",
      "23     82177.00    Data Analyst                         Visa Inc.   \n",
      "24     70627.00    Data Analyst                           Detecon   \n",
      "25     66690.00    Data Analyst               ProSwift Consulting   \n",
      "26    122404.00    Data Analyst                     Cisco Systems   \n",
      "27     87809.00    Data Analyst                       Cognilytics   \n",
      "28     64794.00    Data Analyst                         Macro.Net   \n",
      "29     85728.00    Data Analyst                            Oracle   \n",
      "...         ...             ...                               ...   \n",
      "1081  112000.00  Data Scientist                        Amazon.com   \n",
      "1082   87000.00  Data Scientist                            ViaSat   \n",
      "1083  150000.00  Data Scientist                         Think Big   \n",
      "1084  126000.00  Data Scientist                        BNY Mellon   \n",
      "1085  132000.00  Data Scientist                               IBM   \n",
      "1086  144000.00  Data Scientist                         Microsoft   \n",
      "1087   93000.00  Data Scientist               Booz Allen Hamilton   \n",
      "1088  136000.00  Data Scientist                         Think Big   \n",
      "1089   98000.00  Data Scientist                          MaxPoint   \n",
      "1090  110000.00  Data Scientist                   Tiger Analytics   \n",
      "1091  134000.00  Data Scientist                              YuMe   \n",
      "1092  116000.00  Data Scientist                               FIS   \n",
      "1093  142000.00  Data Scientist                            Akamai   \n",
      "1094  111000.00  Data Scientist                        Amazon.com   \n",
      "1095   87000.00  Data Scientist                            ViaSat   \n",
      "1096  151000.00  Data Scientist                         Think Big   \n",
      "1097  128000.00  Data Scientist                        BNY Mellon   \n",
      "1098  131000.00  Data Scientist                               IBM   \n",
      "1099  146000.00  Data Scientist                         Microsoft   \n",
      "1100   93000.00  Data Scientist               Booz Allen Hamilton   \n",
      "1101  133000.00  Data Scientist                         Think Big   \n",
      "1102   98000.00  Data Scientist                          MaxPoint   \n",
      "1103  110000.00  Data Scientist                   Tiger Analytics   \n",
      "1104  132000.00  Data Scientist                              YuMe   \n",
      "1105  116000.00  Data Scientist                               FIS   \n",
      "1106  143000.00  Data Scientist                            Akamai   \n",
      "1107  112000.00  Data Scientist                        Amazon.com   \n",
      "1108   87000.00  Data Scientist                            ViaSat   \n",
      "1109  150000.00  Data Scientist                         Think Big   \n",
      "1110  128000.00  Data Scientist                        BNY Mellon   \n",
      "\n",
      "           location  \n",
      "0     San Francisco  \n",
      "1     San Francisco  \n",
      "2     San Francisco  \n",
      "3     San Francisco  \n",
      "4     San Francisco  \n",
      "5     San Francisco  \n",
      "6     San Francisco  \n",
      "7     San Francisco  \n",
      "8     San Francisco  \n",
      "9     San Francisco  \n",
      "10    San Francisco  \n",
      "11    San Francisco  \n",
      "12    San Francisco  \n",
      "13    San Francisco  \n",
      "14    San Francisco  \n",
      "15    San Francisco  \n",
      "16    San Francisco  \n",
      "17    San Francisco  \n",
      "18    San Francisco  \n",
      "19    San Francisco  \n",
      "20    San Francisco  \n",
      "21    San Francisco  \n",
      "22    San Francisco  \n",
      "23    San Francisco  \n",
      "24    San Francisco  \n",
      "25    San Francisco  \n",
      "26    San Francisco  \n",
      "27    San Francisco  \n",
      "28    San Francisco  \n",
      "29    San Francisco  \n",
      "...             ...  \n",
      "1081         Boston  \n",
      "1082         Boston  \n",
      "1083         Boston  \n",
      "1084         Boston  \n",
      "1085         Boston  \n",
      "1086         Boston  \n",
      "1087         Boston  \n",
      "1088         Boston  \n",
      "1089         Boston  \n",
      "1090         Boston  \n",
      "1091         Boston  \n",
      "1092         Boston  \n",
      "1093         Boston  \n",
      "1094         Boston  \n",
      "1095         Boston  \n",
      "1096         Boston  \n",
      "1097         Boston  \n",
      "1098         Boston  \n",
      "1099         Boston  \n",
      "1100         Boston  \n",
      "1101         Boston  \n",
      "1102         Boston  \n",
      "1103         Boston  \n",
      "1104         Boston  \n",
      "1105         Boston  \n",
      "1106         Boston  \n",
      "1107         Boston  \n",
      "1108         Boston  \n",
      "1109         Boston  \n",
      "1110         Boston  \n",
      "\n",
      "[1110 rows x 4 columns]\n"
     ]
    }
   ],
   "source": [
    "print ndf"
   ]
  },
  {
   "cell_type": "code",
   "execution_count": 37,
   "metadata": {
    "collapsed": false
   },
   "outputs": [
    {
     "name": "stdout",
     "output_type": "stream",
     "text": [
      "      meanPay                   jobTitle                           company  \\\n",
      "0       66843           Business Analyst                   Canvas InfoTech   \n",
      "1       63429           Business Analyst                  BetaSoft Systems   \n",
      "2       75765           Business Analyst                          Deloitte   \n",
      "3       43.70  Business Analyst - Hourly                           Infosys   \n",
      "4       81972           Business Analyst                McKinsey & Company   \n",
      "5       74301           Business Analyst                         Accenture   \n",
      "6       76798           Business Analyst                Hitachi Consulting   \n",
      "7       63146           Business Analyst             All State Consultants   \n",
      "8       31.82  Business Analyst - Hourly  Business Intelligence Associates   \n",
      "9       31.48  Business Analyst - Hourly                          Xceltech   \n",
      "10      68889           Business Analyst                  DGN Technologies   \n",
      "11      31.82  Business Analyst - Hourly     Enterprise Business Solutions   \n",
      "12      31.09  Business Analyst - Hourly                   Agama Solutions   \n",
      "13      81637           Business Analyst                Calypso Technology   \n",
      "14      69434           Business Analyst                      DS Soft Tech   \n",
      "15     100753           Business Analyst                           Chevron   \n",
      "16      82388           Business Analyst          Pacific Gas and Electric   \n",
      "17      64966           Business Analyst                          Equinett   \n",
      "18      32.12  Business Analyst - Hourly                             Agama   \n",
      "19      30.49  Business Analyst - Hourly                            ecalix   \n",
      "20      69238           Business Analyst                              Cswl   \n",
      "21      83102           Business Analyst                   Mahindra Satyam   \n",
      "22      83872           Business Analyst                 Kaiser Permanente   \n",
      "23      82177           Business Analyst                         Visa Inc.   \n",
      "24      70627           Business Analyst                           Detecon   \n",
      "25      66690           Business Analyst               ProSwift Consulting   \n",
      "26     122404           Business Analyst                     Cisco Systems   \n",
      "27      87809           Business Analyst                       Cognilytics   \n",
      "28      64794           Business Analyst                         Macro.Net   \n",
      "29      85728           Business Analyst                            Oracle   \n",
      "...       ...                        ...                               ...   \n",
      "1081  108-116      Data Scientist Intern                        Amazon.com   \n",
      "1082    84-90      Data Scientist Intern                            ViaSat   \n",
      "1083  144-157   Principal Data Scientist                         Think Big   \n",
      "1084  122-131   Principal Data Scientist                        BNY Mellon   \n",
      "1085  126-138      Senior Data Scientist                               IBM   \n",
      "1086  139-150      Senior Data Scientist                         Microsoft   \n",
      "1087    89-97      Senior Data Scientist               Booz Allen Hamilton   \n",
      "1088  131-141      Senior Data Scientist                         Think Big   \n",
      "1089   94-102      Senior Data Scientist                          MaxPoint   \n",
      "1090  106-114      Senior Data Scientist                   Tiger Analytics   \n",
      "1091  129-139      Senior Data Scientist                              YuMe   \n",
      "1092  111-122      Senior Data Scientist                               FIS   \n",
      "1093  136-149      Senior Data Scientist                            Akamai   \n",
      "1094  107-116      Data Scientist Intern                        Amazon.com   \n",
      "1095    84-91      Data Scientist Intern                            ViaSat   \n",
      "1096  146-156   Principal Data Scientist                         Think Big   \n",
      "1097  122-134   Principal Data Scientist                        BNY Mellon   \n",
      "1098  126-136      Senior Data Scientist                               IBM   \n",
      "1099  139-153      Senior Data Scientist                         Microsoft   \n",
      "1100    89-97      Senior Data Scientist               Booz Allen Hamilton   \n",
      "1101  128-139      Senior Data Scientist                         Think Big   \n",
      "1102   94-103      Senior Data Scientist                          MaxPoint   \n",
      "1103  106-114      Senior Data Scientist                   Tiger Analytics   \n",
      "1104  127-138      Senior Data Scientist                              YuMe   \n",
      "1105  112-121      Senior Data Scientist                               FIS   \n",
      "1106  137-149      Senior Data Scientist                            Akamai   \n",
      "1107  108-116      Data Scientist Intern                        Amazon.com   \n",
      "1108    83-91      Data Scientist Intern                            ViaSat   \n",
      "1109  144-157   Principal Data Scientist                         Think Big   \n",
      "1110  123-133   Principal Data Scientist                        BNY Mellon   \n",
      "\n",
      "           location  \n",
      "0     San Francisco  \n",
      "1     San Francisco  \n",
      "2     San Francisco  \n",
      "3     San Francisco  \n",
      "4     San Francisco  \n",
      "5     San Francisco  \n",
      "6     San Francisco  \n",
      "7     San Francisco  \n",
      "8     San Francisco  \n",
      "9     San Francisco  \n",
      "10    San Francisco  \n",
      "11    San Francisco  \n",
      "12    San Francisco  \n",
      "13    San Francisco  \n",
      "14    San Francisco  \n",
      "15    San Francisco  \n",
      "16    San Francisco  \n",
      "17    San Francisco  \n",
      "18    San Francisco  \n",
      "19    San Francisco  \n",
      "20    San Francisco  \n",
      "21    San Francisco  \n",
      "22    San Francisco  \n",
      "23    San Francisco  \n",
      "24    San Francisco  \n",
      "25    San Francisco  \n",
      "26    San Francisco  \n",
      "27    San Francisco  \n",
      "28    San Francisco  \n",
      "29    San Francisco  \n",
      "...             ...  \n",
      "1081         Boston  \n",
      "1082         Boston  \n",
      "1083         Boston  \n",
      "1084         Boston  \n",
      "1085         Boston  \n",
      "1086         Boston  \n",
      "1087         Boston  \n",
      "1088         Boston  \n",
      "1089         Boston  \n",
      "1090         Boston  \n",
      "1091         Boston  \n",
      "1092         Boston  \n",
      "1093         Boston  \n",
      "1094         Boston  \n",
      "1095         Boston  \n",
      "1096         Boston  \n",
      "1097         Boston  \n",
      "1098         Boston  \n",
      "1099         Boston  \n",
      "1100         Boston  \n",
      "1101         Boston  \n",
      "1102         Boston  \n",
      "1103         Boston  \n",
      "1104         Boston  \n",
      "1105         Boston  \n",
      "1106         Boston  \n",
      "1107         Boston  \n",
      "1108         Boston  \n",
      "1109         Boston  \n",
      "1110         Boston  \n",
      "\n",
      "[1111 rows x 4 columns]\n"
     ]
    }
   ],
   "source": [
    "ndf['meanPay'] = ndf['meanPay'].str.replace('\\$', '').str.replace('\\-', '').str.replace('\\k', '').str.replace('\\,', '')\n",
    "ndf['meanPay'] = ndf['meanPay'].str.replace('  ', '-')\n",
    "print ndf"
   ]
  },
  {
   "cell_type": "code",
   "execution_count": 38,
   "metadata": {
    "collapsed": true
   },
   "outputs": [],
   "source": [
    "def mean_sal(x):\n",
    "    if '-' in x and len(x)==5:\n",
    "        return ((int(x[0:2])+int(x[3:5]))/2)*1000\n",
    "    elif '-' in x and len(x)==6:\n",
    "        return ((int(x[0:2])+int(x[3:6]))/2)*1000\n",
    "    elif '-' in x and len(x)==7:\n",
    "        return ((int(x[0:3])+int(x[4:7]))/2)*1000\n",
    "    else:\n",
    "        return x\n",
    "ndf['meanPay'] = ndf['meanPay'].map(mean_sal)"
   ]
  },
  {
   "cell_type": "code",
   "execution_count": 39,
   "metadata": {
    "collapsed": true
   },
   "outputs": [],
   "source": [
    "ndf = ndf[ndf['meanPay']!='8-8']"
   ]
  },
  {
   "cell_type": "code",
   "execution_count": 40,
   "metadata": {
    "collapsed": true
   },
   "outputs": [],
   "source": [
    "ndf['meanPay'] = ndf['meanPay'].astype(float)"
   ]
  },
  {
   "cell_type": "code",
   "execution_count": 41,
   "metadata": {
    "collapsed": false
   },
   "outputs": [
    {
     "data": {
      "text/plain": [
       "(1110, 4)"
      ]
     },
     "execution_count": 41,
     "metadata": {},
     "output_type": "execute_result"
    }
   ],
   "source": [
    "ndf.shape"
   ]
  },
  {
   "cell_type": "code",
   "execution_count": 69,
   "metadata": {
    "collapsed": false
   },
   "outputs": [
    {
     "name": "stdout",
     "output_type": "stream",
     "text": [
      "        meanPay        jobTitle                           company  \\\n",
      "0      66843.00    Data Analyst                   Canvas InfoTech   \n",
      "1      63429.00    Data Analyst                  BetaSoft Systems   \n",
      "2      75765.00    Data Analyst                          Deloitte   \n",
      "3         43.70    Data Analyst                           Infosys   \n",
      "4      81972.00    Data Analyst                McKinsey & Company   \n",
      "5      74301.00    Data Analyst                         Accenture   \n",
      "6      76798.00    Data Analyst                Hitachi Consulting   \n",
      "7      63146.00    Data Analyst             All State Consultants   \n",
      "8         31.82    Data Analyst  Business Intelligence Associates   \n",
      "9         31.48    Data Analyst                          Xceltech   \n",
      "10     68889.00    Data Analyst                  DGN Technologies   \n",
      "11        31.82    Data Analyst     Enterprise Business Solutions   \n",
      "12        31.09    Data Analyst                   Agama Solutions   \n",
      "13     81637.00    Data Analyst                Calypso Technology   \n",
      "14     69434.00    Data Analyst                      DS Soft Tech   \n",
      "15    100753.00    Data Analyst                           Chevron   \n",
      "16     82388.00    Data Analyst          Pacific Gas and Electric   \n",
      "17     64966.00    Data Analyst                          Equinett   \n",
      "18        32.12    Data Analyst                             Agama   \n",
      "19        30.49    Data Analyst                            ecalix   \n",
      "20     69238.00    Data Analyst                              Cswl   \n",
      "21     83102.00    Data Analyst                   Mahindra Satyam   \n",
      "22     83872.00    Data Analyst                 Kaiser Permanente   \n",
      "23     82177.00    Data Analyst                         Visa Inc.   \n",
      "24     70627.00    Data Analyst                           Detecon   \n",
      "25     66690.00    Data Analyst               ProSwift Consulting   \n",
      "26    122404.00    Data Analyst                     Cisco Systems   \n",
      "27     87809.00    Data Analyst                       Cognilytics   \n",
      "28     64794.00    Data Analyst                         Macro.Net   \n",
      "29     85728.00    Data Analyst                            Oracle   \n",
      "...         ...             ...                               ...   \n",
      "1081  112000.00  Data Scientist                        Amazon.com   \n",
      "1082   87000.00  Data Scientist                            ViaSat   \n",
      "1083  150000.00  Data Scientist                         Think Big   \n",
      "1084  126000.00  Data Scientist                        BNY Mellon   \n",
      "1085  132000.00  Data Scientist                               IBM   \n",
      "1086  144000.00  Data Scientist                         Microsoft   \n",
      "1087   93000.00  Data Scientist               Booz Allen Hamilton   \n",
      "1088  136000.00  Data Scientist                         Think Big   \n",
      "1089   98000.00  Data Scientist                          MaxPoint   \n",
      "1090  110000.00  Data Scientist                   Tiger Analytics   \n",
      "1091  134000.00  Data Scientist                              YuMe   \n",
      "1092  116000.00  Data Scientist                               FIS   \n",
      "1093  142000.00  Data Scientist                            Akamai   \n",
      "1094  111000.00  Data Scientist                        Amazon.com   \n",
      "1095   87000.00  Data Scientist                            ViaSat   \n",
      "1096  151000.00  Data Scientist                         Think Big   \n",
      "1097  128000.00  Data Scientist                        BNY Mellon   \n",
      "1098  131000.00  Data Scientist                               IBM   \n",
      "1099  146000.00  Data Scientist                         Microsoft   \n",
      "1100   93000.00  Data Scientist               Booz Allen Hamilton   \n",
      "1101  133000.00  Data Scientist                         Think Big   \n",
      "1102   98000.00  Data Scientist                          MaxPoint   \n",
      "1103  110000.00  Data Scientist                   Tiger Analytics   \n",
      "1104  132000.00  Data Scientist                              YuMe   \n",
      "1105  116000.00  Data Scientist                               FIS   \n",
      "1106  143000.00  Data Scientist                            Akamai   \n",
      "1107  112000.00  Data Scientist                        Amazon.com   \n",
      "1108   87000.00  Data Scientist                            ViaSat   \n",
      "1109  150000.00  Data Scientist                         Think Big   \n",
      "1110  128000.00  Data Scientist                        BNY Mellon   \n",
      "\n",
      "           location  \n",
      "0     San Francisco  \n",
      "1     San Francisco  \n",
      "2     San Francisco  \n",
      "3     San Francisco  \n",
      "4     San Francisco  \n",
      "5     San Francisco  \n",
      "6     San Francisco  \n",
      "7     San Francisco  \n",
      "8     San Francisco  \n",
      "9     San Francisco  \n",
      "10    San Francisco  \n",
      "11    San Francisco  \n",
      "12    San Francisco  \n",
      "13    San Francisco  \n",
      "14    San Francisco  \n",
      "15    San Francisco  \n",
      "16    San Francisco  \n",
      "17    San Francisco  \n",
      "18    San Francisco  \n",
      "19    San Francisco  \n",
      "20    San Francisco  \n",
      "21    San Francisco  \n",
      "22    San Francisco  \n",
      "23    San Francisco  \n",
      "24    San Francisco  \n",
      "25    San Francisco  \n",
      "26    San Francisco  \n",
      "27    San Francisco  \n",
      "28    San Francisco  \n",
      "29    San Francisco  \n",
      "...             ...  \n",
      "1081         Boston  \n",
      "1082         Boston  \n",
      "1083         Boston  \n",
      "1084         Boston  \n",
      "1085         Boston  \n",
      "1086         Boston  \n",
      "1087         Boston  \n",
      "1088         Boston  \n",
      "1089         Boston  \n",
      "1090         Boston  \n",
      "1091         Boston  \n",
      "1092         Boston  \n",
      "1093         Boston  \n",
      "1094         Boston  \n",
      "1095         Boston  \n",
      "1096         Boston  \n",
      "1097         Boston  \n",
      "1098         Boston  \n",
      "1099         Boston  \n",
      "1100         Boston  \n",
      "1101         Boston  \n",
      "1102         Boston  \n",
      "1103         Boston  \n",
      "1104         Boston  \n",
      "1105         Boston  \n",
      "1106         Boston  \n",
      "1107         Boston  \n",
      "1108         Boston  \n",
      "1109         Boston  \n",
      "1110         Boston  \n",
      "\n",
      "[1110 rows x 4 columns]\n"
     ]
    }
   ],
   "source": [
    "print ndf"
   ]
  },
  {
   "cell_type": "code",
   "execution_count": 58,
   "metadata": {
    "collapsed": false
   },
   "outputs": [
    {
     "data": {
      "text/plain": [
       "<matplotlib.text.Text at 0x1119af390>"
      ]
     },
     "execution_count": 58,
     "metadata": {},
     "output_type": "execute_result"
    },
    {
     "data": {
      "image/png": "[encoded data removed]",
      "text/plain": [
       "<matplotlib.figure.Figure at 0x115a04110>"
      ]
     },
     "metadata": {},
     "output_type": "display_data"
    }
   ],
   "source": [
    "%matplotlib inline\n",
    "import numpy as np\n",
    "import pylab as pl\n",
    "import matplotlib.pyplot as plt\n",
    "\n",
    "ndf[\"meanPay\"].hist()\n",
    "pl.suptitle(\"meanPay Histogram\")"
   ]
  },
  {
   "cell_type": "code",
   "execution_count": 44,
   "metadata": {
    "collapsed": false
   },
   "outputs": [
    {
     "name": "stdout",
     "output_type": "stream",
     "text": [
      "mean of the meanPay:  80760.2707117\n",
      "median of the meanPay:  74000.0\n",
      "stdv of the meanPay:  34651.0334318\n",
      "miminum meanPay:  13.0\n",
      "maximum meanPay:  209000.0\n"
     ]
    }
   ],
   "source": [
    "print \"mean of the meanPay: \", ndf['meanPay'].mean()\n",
    "print \"median of the meanPay: \", ndf['meanPay'].median()\n",
    "print \"stdv of the meanPay: \", ndf['meanPay'].std()\n",
    "print \"miminum meanPay: \", ndf['meanPay'].min()\n",
    "print \"maximum meanPay: \", ndf['meanPay'].max()"
   ]
  },
  {
   "cell_type": "code",
   "execution_count": 70,
   "metadata": {
    "collapsed": false,
    "scrolled": true
   },
   "outputs": [
    {
     "data": {
      "text/html": [
       "<div>\n",
       "<table border=\"1\" class=\"dataframe\">\n",
       "  <thead>\n",
       "    <tr style=\"text-align: right;\">\n",
       "      <th></th>\n",
       "      <th>meanPay</th>\n",
       "      <th>jobTitle</th>\n",
       "      <th>company</th>\n",
       "      <th>location</th>\n",
       "    </tr>\n",
       "  </thead>\n",
       "  <tbody>\n",
       "    <tr>\n",
       "      <th>0</th>\n",
       "      <td>66843.0</td>\n",
       "      <td>Data Analyst</td>\n",
       "      <td>Canvas InfoTech</td>\n",
       "      <td>San Francisco</td>\n",
       "    </tr>\n",
       "    <tr>\n",
       "      <th>1</th>\n",
       "      <td>63429.0</td>\n",
       "      <td>Data Analyst</td>\n",
       "      <td>BetaSoft Systems</td>\n",
       "      <td>San Francisco</td>\n",
       "    </tr>\n",
       "    <tr>\n",
       "      <th>2</th>\n",
       "      <td>75765.0</td>\n",
       "      <td>Data Analyst</td>\n",
       "      <td>Deloitte</td>\n",
       "      <td>San Francisco</td>\n",
       "    </tr>\n",
       "    <tr>\n",
       "      <th>3</th>\n",
       "      <td>81972.0</td>\n",
       "      <td>Data Analyst</td>\n",
       "      <td>McKinsey &amp; Company</td>\n",
       "      <td>San Francisco</td>\n",
       "    </tr>\n",
       "    <tr>\n",
       "      <th>4</th>\n",
       "      <td>74301.0</td>\n",
       "      <td>Data Analyst</td>\n",
       "      <td>Accenture</td>\n",
       "      <td>San Francisco</td>\n",
       "    </tr>\n",
       "    <tr>\n",
       "      <th>5</th>\n",
       "      <td>76798.0</td>\n",
       "      <td>Data Analyst</td>\n",
       "      <td>Hitachi Consulting</td>\n",
       "      <td>San Francisco</td>\n",
       "    </tr>\n",
       "    <tr>\n",
       "      <th>6</th>\n",
       "      <td>63146.0</td>\n",
       "      <td>Data Analyst</td>\n",
       "      <td>All State Consultants</td>\n",
       "      <td>San Francisco</td>\n",
       "    </tr>\n",
       "    <tr>\n",
       "      <th>7</th>\n",
       "      <td>68889.0</td>\n",
       "      <td>Data Analyst</td>\n",
       "      <td>DGN Technologies</td>\n",
       "      <td>San Francisco</td>\n",
       "    </tr>\n",
       "    <tr>\n",
       "      <th>8</th>\n",
       "      <td>81637.0</td>\n",
       "      <td>Data Analyst</td>\n",
       "      <td>Calypso Technology</td>\n",
       "      <td>San Francisco</td>\n",
       "    </tr>\n",
       "    <tr>\n",
       "      <th>9</th>\n",
       "      <td>69434.0</td>\n",
       "      <td>Data Analyst</td>\n",
       "      <td>DS Soft Tech</td>\n",
       "      <td>San Francisco</td>\n",
       "    </tr>\n",
       "    <tr>\n",
       "      <th>10</th>\n",
       "      <td>100753.0</td>\n",
       "      <td>Data Analyst</td>\n",
       "      <td>Chevron</td>\n",
       "      <td>San Francisco</td>\n",
       "    </tr>\n",
       "    <tr>\n",
       "      <th>11</th>\n",
       "      <td>82388.0</td>\n",
       "      <td>Data Analyst</td>\n",
       "      <td>Pacific Gas and Electric</td>\n",
       "      <td>San Francisco</td>\n",
       "    </tr>\n",
       "    <tr>\n",
       "      <th>12</th>\n",
       "      <td>64966.0</td>\n",
       "      <td>Data Analyst</td>\n",
       "      <td>Equinett</td>\n",
       "      <td>San Francisco</td>\n",
       "    </tr>\n",
       "    <tr>\n",
       "      <th>13</th>\n",
       "      <td>69238.0</td>\n",
       "      <td>Data Analyst</td>\n",
       "      <td>Cswl</td>\n",
       "      <td>San Francisco</td>\n",
       "    </tr>\n",
       "    <tr>\n",
       "      <th>14</th>\n",
       "      <td>83102.0</td>\n",
       "      <td>Data Analyst</td>\n",
       "      <td>Mahindra Satyam</td>\n",
       "      <td>San Francisco</td>\n",
       "    </tr>\n",
       "    <tr>\n",
       "      <th>15</th>\n",
       "      <td>83872.0</td>\n",
       "      <td>Data Analyst</td>\n",
       "      <td>Kaiser Permanente</td>\n",
       "      <td>San Francisco</td>\n",
       "    </tr>\n",
       "    <tr>\n",
       "      <th>16</th>\n",
       "      <td>82177.0</td>\n",
       "      <td>Data Analyst</td>\n",
       "      <td>Visa Inc.</td>\n",
       "      <td>San Francisco</td>\n",
       "    </tr>\n",
       "    <tr>\n",
       "      <th>17</th>\n",
       "      <td>70627.0</td>\n",
       "      <td>Data Analyst</td>\n",
       "      <td>Detecon</td>\n",
       "      <td>San Francisco</td>\n",
       "    </tr>\n",
       "    <tr>\n",
       "      <th>18</th>\n",
       "      <td>66690.0</td>\n",
       "      <td>Data Analyst</td>\n",
       "      <td>ProSwift Consulting</td>\n",
       "      <td>San Francisco</td>\n",
       "    </tr>\n",
       "    <tr>\n",
       "      <th>19</th>\n",
       "      <td>122404.0</td>\n",
       "      <td>Data Analyst</td>\n",
       "      <td>Cisco Systems</td>\n",
       "      <td>San Francisco</td>\n",
       "    </tr>\n",
       "    <tr>\n",
       "      <th>20</th>\n",
       "      <td>87809.0</td>\n",
       "      <td>Data Analyst</td>\n",
       "      <td>Cognilytics</td>\n",
       "      <td>San Francisco</td>\n",
       "    </tr>\n",
       "    <tr>\n",
       "      <th>21</th>\n",
       "      <td>64794.0</td>\n",
       "      <td>Data Analyst</td>\n",
       "      <td>Macro.Net</td>\n",
       "      <td>San Francisco</td>\n",
       "    </tr>\n",
       "    <tr>\n",
       "      <th>22</th>\n",
       "      <td>85728.0</td>\n",
       "      <td>Data Analyst</td>\n",
       "      <td>Oracle</td>\n",
       "      <td>San Francisco</td>\n",
       "    </tr>\n",
       "    <tr>\n",
       "      <th>23</th>\n",
       "      <td>66598.0</td>\n",
       "      <td>Data Analyst</td>\n",
       "      <td>Sandlenet</td>\n",
       "      <td>San Francisco</td>\n",
       "    </tr>\n",
       "    <tr>\n",
       "      <th>24</th>\n",
       "      <td>68283.0</td>\n",
       "      <td>Data Analyst</td>\n",
       "      <td>DYNASOFT SYNERGY</td>\n",
       "      <td>San Francisco</td>\n",
       "    </tr>\n",
       "    <tr>\n",
       "      <th>25</th>\n",
       "      <td>79981.0</td>\n",
       "      <td>Data Analyst</td>\n",
       "      <td>Wells Fargo</td>\n",
       "      <td>San Francisco</td>\n",
       "    </tr>\n",
       "    <tr>\n",
       "      <th>26</th>\n",
       "      <td>71657.0</td>\n",
       "      <td>Data Analyst</td>\n",
       "      <td>Safeway</td>\n",
       "      <td>San Francisco</td>\n",
       "    </tr>\n",
       "    <tr>\n",
       "      <th>27</th>\n",
       "      <td>80901.0</td>\n",
       "      <td>Data Analyst</td>\n",
       "      <td>Genentech</td>\n",
       "      <td>San Francisco</td>\n",
       "    </tr>\n",
       "    <tr>\n",
       "      <th>28</th>\n",
       "      <td>68960.0</td>\n",
       "      <td>Data Analyst</td>\n",
       "      <td>Cognizant Technology Solutions</td>\n",
       "      <td>San Francisco</td>\n",
       "    </tr>\n",
       "    <tr>\n",
       "      <th>29</th>\n",
       "      <td>63805.0</td>\n",
       "      <td>Data Analyst</td>\n",
       "      <td>Agile Informatics</td>\n",
       "      <td>San Francisco</td>\n",
       "    </tr>\n",
       "    <tr>\n",
       "      <th>...</th>\n",
       "      <td>...</td>\n",
       "      <td>...</td>\n",
       "      <td>...</td>\n",
       "      <td>...</td>\n",
       "    </tr>\n",
       "    <tr>\n",
       "      <th>1021</th>\n",
       "      <td>112000.0</td>\n",
       "      <td>Data Scientist</td>\n",
       "      <td>Amazon.com</td>\n",
       "      <td>Boston</td>\n",
       "    </tr>\n",
       "    <tr>\n",
       "      <th>1022</th>\n",
       "      <td>87000.0</td>\n",
       "      <td>Data Scientist</td>\n",
       "      <td>ViaSat</td>\n",
       "      <td>Boston</td>\n",
       "    </tr>\n",
       "    <tr>\n",
       "      <th>1023</th>\n",
       "      <td>150000.0</td>\n",
       "      <td>Data Scientist</td>\n",
       "      <td>Think Big</td>\n",
       "      <td>Boston</td>\n",
       "    </tr>\n",
       "    <tr>\n",
       "      <th>1024</th>\n",
       "      <td>126000.0</td>\n",
       "      <td>Data Scientist</td>\n",
       "      <td>BNY Mellon</td>\n",
       "      <td>Boston</td>\n",
       "    </tr>\n",
       "    <tr>\n",
       "      <th>1025</th>\n",
       "      <td>132000.0</td>\n",
       "      <td>Data Scientist</td>\n",
       "      <td>IBM</td>\n",
       "      <td>Boston</td>\n",
       "    </tr>\n",
       "    <tr>\n",
       "      <th>1026</th>\n",
       "      <td>144000.0</td>\n",
       "      <td>Data Scientist</td>\n",
       "      <td>Microsoft</td>\n",
       "      <td>Boston</td>\n",
       "    </tr>\n",
       "    <tr>\n",
       "      <th>1027</th>\n",
       "      <td>93000.0</td>\n",
       "      <td>Data Scientist</td>\n",
       "      <td>Booz Allen Hamilton</td>\n",
       "      <td>Boston</td>\n",
       "    </tr>\n",
       "    <tr>\n",
       "      <th>1028</th>\n",
       "      <td>136000.0</td>\n",
       "      <td>Data Scientist</td>\n",
       "      <td>Think Big</td>\n",
       "      <td>Boston</td>\n",
       "    </tr>\n",
       "    <tr>\n",
       "      <th>1029</th>\n",
       "      <td>98000.0</td>\n",
       "      <td>Data Scientist</td>\n",
       "      <td>MaxPoint</td>\n",
       "      <td>Boston</td>\n",
       "    </tr>\n",
       "    <tr>\n",
       "      <th>1030</th>\n",
       "      <td>110000.0</td>\n",
       "      <td>Data Scientist</td>\n",
       "      <td>Tiger Analytics</td>\n",
       "      <td>Boston</td>\n",
       "    </tr>\n",
       "    <tr>\n",
       "      <th>1031</th>\n",
       "      <td>134000.0</td>\n",
       "      <td>Data Scientist</td>\n",
       "      <td>YuMe</td>\n",
       "      <td>Boston</td>\n",
       "    </tr>\n",
       "    <tr>\n",
       "      <th>1032</th>\n",
       "      <td>116000.0</td>\n",
       "      <td>Data Scientist</td>\n",
       "      <td>FIS</td>\n",
       "      <td>Boston</td>\n",
       "    </tr>\n",
       "    <tr>\n",
       "      <th>1033</th>\n",
       "      <td>142000.0</td>\n",
       "      <td>Data Scientist</td>\n",
       "      <td>Akamai</td>\n",
       "      <td>Boston</td>\n",
       "    </tr>\n",
       "    <tr>\n",
       "      <th>1034</th>\n",
       "      <td>111000.0</td>\n",
       "      <td>Data Scientist</td>\n",
       "      <td>Amazon.com</td>\n",
       "      <td>Boston</td>\n",
       "    </tr>\n",
       "    <tr>\n",
       "      <th>1035</th>\n",
       "      <td>87000.0</td>\n",
       "      <td>Data Scientist</td>\n",
       "      <td>ViaSat</td>\n",
       "      <td>Boston</td>\n",
       "    </tr>\n",
       "    <tr>\n",
       "      <th>1036</th>\n",
       "      <td>151000.0</td>\n",
       "      <td>Data Scientist</td>\n",
       "      <td>Think Big</td>\n",
       "      <td>Boston</td>\n",
       "    </tr>\n",
       "    <tr>\n",
       "      <th>1037</th>\n",
       "      <td>128000.0</td>\n",
       "      <td>Data Scientist</td>\n",
       "      <td>BNY Mellon</td>\n",
       "      <td>Boston</td>\n",
       "    </tr>\n",
       "    <tr>\n",
       "      <th>1038</th>\n",
       "      <td>131000.0</td>\n",
       "      <td>Data Scientist</td>\n",
       "      <td>IBM</td>\n",
       "      <td>Boston</td>\n",
       "    </tr>\n",
       "    <tr>\n",
       "      <th>1039</th>\n",
       "      <td>146000.0</td>\n",
       "      <td>Data Scientist</td>\n",
       "      <td>Microsoft</td>\n",
       "      <td>Boston</td>\n",
       "    </tr>\n",
       "    <tr>\n",
       "      <th>1040</th>\n",
       "      <td>93000.0</td>\n",
       "      <td>Data Scientist</td>\n",
       "      <td>Booz Allen Hamilton</td>\n",
       "      <td>Boston</td>\n",
       "    </tr>\n",
       "    <tr>\n",
       "      <th>1041</th>\n",
       "      <td>133000.0</td>\n",
       "      <td>Data Scientist</td>\n",
       "      <td>Think Big</td>\n",
       "      <td>Boston</td>\n",
       "    </tr>\n",
       "    <tr>\n",
       "      <th>1042</th>\n",
       "      <td>98000.0</td>\n",
       "      <td>Data Scientist</td>\n",
       "      <td>MaxPoint</td>\n",
       "      <td>Boston</td>\n",
       "    </tr>\n",
       "    <tr>\n",
       "      <th>1043</th>\n",
       "      <td>110000.0</td>\n",
       "      <td>Data Scientist</td>\n",
       "      <td>Tiger Analytics</td>\n",
       "      <td>Boston</td>\n",
       "    </tr>\n",
       "    <tr>\n",
       "      <th>1044</th>\n",
       "      <td>132000.0</td>\n",
       "      <td>Data Scientist</td>\n",
       "      <td>YuMe</td>\n",
       "      <td>Boston</td>\n",
       "    </tr>\n",
       "    <tr>\n",
       "      <th>1045</th>\n",
       "      <td>116000.0</td>\n",
       "      <td>Data Scientist</td>\n",
       "      <td>FIS</td>\n",
       "      <td>Boston</td>\n",
       "    </tr>\n",
       "    <tr>\n",
       "      <th>1046</th>\n",
       "      <td>143000.0</td>\n",
       "      <td>Data Scientist</td>\n",
       "      <td>Akamai</td>\n",
       "      <td>Boston</td>\n",
       "    </tr>\n",
       "    <tr>\n",
       "      <th>1047</th>\n",
       "      <td>112000.0</td>\n",
       "      <td>Data Scientist</td>\n",
       "      <td>Amazon.com</td>\n",
       "      <td>Boston</td>\n",
       "    </tr>\n",
       "    <tr>\n",
       "      <th>1048</th>\n",
       "      <td>87000.0</td>\n",
       "      <td>Data Scientist</td>\n",
       "      <td>ViaSat</td>\n",
       "      <td>Boston</td>\n",
       "    </tr>\n",
       "    <tr>\n",
       "      <th>1049</th>\n",
       "      <td>150000.0</td>\n",
       "      <td>Data Scientist</td>\n",
       "      <td>Think Big</td>\n",
       "      <td>Boston</td>\n",
       "    </tr>\n",
       "    <tr>\n",
       "      <th>1050</th>\n",
       "      <td>128000.0</td>\n",
       "      <td>Data Scientist</td>\n",
       "      <td>BNY Mellon</td>\n",
       "      <td>Boston</td>\n",
       "    </tr>\n",
       "  </tbody>\n",
       "</table>\n",
       "<p>1051 rows × 4 columns</p>\n",
       "</div>"
      ],
      "text/plain": [
       "       meanPay        jobTitle                         company       location\n",
       "0      66843.0    Data Analyst                 Canvas InfoTech  San Francisco\n",
       "1      63429.0    Data Analyst                BetaSoft Systems  San Francisco\n",
       "2      75765.0    Data Analyst                        Deloitte  San Francisco\n",
       "3      81972.0    Data Analyst              McKinsey & Company  San Francisco\n",
       "4      74301.0    Data Analyst                       Accenture  San Francisco\n",
       "5      76798.0    Data Analyst              Hitachi Consulting  San Francisco\n",
       "6      63146.0    Data Analyst           All State Consultants  San Francisco\n",
       "7      68889.0    Data Analyst                DGN Technologies  San Francisco\n",
       "8      81637.0    Data Analyst              Calypso Technology  San Francisco\n",
       "9      69434.0    Data Analyst                    DS Soft Tech  San Francisco\n",
       "10    100753.0    Data Analyst                         Chevron  San Francisco\n",
       "11     82388.0    Data Analyst        Pacific Gas and Electric  San Francisco\n",
       "12     64966.0    Data Analyst                        Equinett  San Francisco\n",
       "13     69238.0    Data Analyst                            Cswl  San Francisco\n",
       "14     83102.0    Data Analyst                 Mahindra Satyam  San Francisco\n",
       "15     83872.0    Data Analyst               Kaiser Permanente  San Francisco\n",
       "16     82177.0    Data Analyst                       Visa Inc.  San Francisco\n",
       "17     70627.0    Data Analyst                         Detecon  San Francisco\n",
       "18     66690.0    Data Analyst             ProSwift Consulting  San Francisco\n",
       "19    122404.0    Data Analyst                   Cisco Systems  San Francisco\n",
       "20     87809.0    Data Analyst                     Cognilytics  San Francisco\n",
       "21     64794.0    Data Analyst                       Macro.Net  San Francisco\n",
       "22     85728.0    Data Analyst                          Oracle  San Francisco\n",
       "23     66598.0    Data Analyst                       Sandlenet  San Francisco\n",
       "24     68283.0    Data Analyst                DYNASOFT SYNERGY  San Francisco\n",
       "25     79981.0    Data Analyst                     Wells Fargo  San Francisco\n",
       "26     71657.0    Data Analyst                         Safeway  San Francisco\n",
       "27     80901.0    Data Analyst                       Genentech  San Francisco\n",
       "28     68960.0    Data Analyst  Cognizant Technology Solutions  San Francisco\n",
       "29     63805.0    Data Analyst               Agile Informatics  San Francisco\n",
       "...        ...             ...                             ...            ...\n",
       "1021  112000.0  Data Scientist                      Amazon.com         Boston\n",
       "1022   87000.0  Data Scientist                          ViaSat         Boston\n",
       "1023  150000.0  Data Scientist                       Think Big         Boston\n",
       "1024  126000.0  Data Scientist                      BNY Mellon         Boston\n",
       "1025  132000.0  Data Scientist                             IBM         Boston\n",
       "1026  144000.0  Data Scientist                       Microsoft         Boston\n",
       "1027   93000.0  Data Scientist             Booz Allen Hamilton         Boston\n",
       "1028  136000.0  Data Scientist                       Think Big         Boston\n",
       "1029   98000.0  Data Scientist                        MaxPoint         Boston\n",
       "1030  110000.0  Data Scientist                 Tiger Analytics         Boston\n",
       "1031  134000.0  Data Scientist                            YuMe         Boston\n",
       "1032  116000.0  Data Scientist                             FIS         Boston\n",
       "1033  142000.0  Data Scientist                          Akamai         Boston\n",
       "1034  111000.0  Data Scientist                      Amazon.com         Boston\n",
       "1035   87000.0  Data Scientist                          ViaSat         Boston\n",
       "1036  151000.0  Data Scientist                       Think Big         Boston\n",
       "1037  128000.0  Data Scientist                      BNY Mellon         Boston\n",
       "1038  131000.0  Data Scientist                             IBM         Boston\n",
       "1039  146000.0  Data Scientist                       Microsoft         Boston\n",
       "1040   93000.0  Data Scientist             Booz Allen Hamilton         Boston\n",
       "1041  133000.0  Data Scientist                       Think Big         Boston\n",
       "1042   98000.0  Data Scientist                        MaxPoint         Boston\n",
       "1043  110000.0  Data Scientist                 Tiger Analytics         Boston\n",
       "1044  132000.0  Data Scientist                            YuMe         Boston\n",
       "1045  116000.0  Data Scientist                             FIS         Boston\n",
       "1046  143000.0  Data Scientist                          Akamai         Boston\n",
       "1047  112000.0  Data Scientist                      Amazon.com         Boston\n",
       "1048   87000.0  Data Scientist                          ViaSat         Boston\n",
       "1049  150000.0  Data Scientist                       Think Big         Boston\n",
       "1050  128000.0  Data Scientist                      BNY Mellon         Boston\n",
       "\n",
       "[1051 rows x 4 columns]"
      ]
     },
     "execution_count": 70,
     "metadata": {},
     "output_type": "execute_result"
    }
   ],
   "source": [
    "#removing outliers i.e removing meanPay < 20000\n",
    "df = ndf[ndf['meanPay'] > 20000]\n",
    "df = df.reset_index(drop=True)\n",
    "df"
   ]
  },
  {
   "cell_type": "code",
   "execution_count": 71,
   "metadata": {
    "collapsed": false
   },
   "outputs": [
    {
     "data": {
      "text/plain": [
       "<matplotlib.text.Text at 0x115b62390>"
      ]
     },
     "execution_count": 71,
     "metadata": {},
     "output_type": "execute_result"
    },
    {
     "data": {
      "image/png": "[encoded data removed]",
      "text/plain": [
       "<matplotlib.figure.Figure at 0x115afd4d0>"
      ]
     },
     "metadata": {},
     "output_type": "display_data"
    }
   ],
   "source": [
    "df['meanPay'].hist()\n",
    "pl.suptitle(\"meanPay Histogram without outliers\")"
   ]
  },
  {
   "cell_type": "code",
   "execution_count": 62,
   "metadata": {
    "collapsed": false
   },
   "outputs": [
    {
     "name": "stdout",
     "output_type": "stream",
     "text": [
      "mean of the meanPay:  85152.4833492\n",
      "median of the meanPay:  76000.0\n",
      "stdv of the meanPay:  30048.6626528\n",
      "miminum meanPay:  21000.0\n",
      "maximum meanPay:  209000.0\n"
     ]
    }
   ],
   "source": [
    "#after removing the outliers\n",
    "print \"mean of the meanPay: \", df['meanPay'].mean()\n",
    "print \"median of the meanPay: \", df['meanPay'].median()\n",
    "print \"stdv of the meanPay: \", df['meanPay'].std()\n",
    "print \"miminum meanPay: \", df['meanPay'].min()\n",
    "print \"maximum meanPay: \", df['meanPay'].max()"
   ]
  },
  {
   "cell_type": "code",
   "execution_count": 63,
   "metadata": {
    "collapsed": false
   },
   "outputs": [
    {
     "name": "stdout",
     "output_type": "stream",
     "text": [
      "<class 'pandas.core.frame.DataFrame'>\n",
      "RangeIndex: 1051 entries, 0 to 1050\n",
      "Data columns (total 4 columns):\n",
      "meanPay     1051 non-null float64\n",
      "jobTitle    1051 non-null object\n",
      "company     1051 non-null object\n",
      "location    1051 non-null object\n",
      "dtypes: float64(1), object(3)\n",
      "memory usage: 32.9+ KB\n"
     ]
    }
   ],
   "source": [
    "df.info()"
   ]
  },
  {
   "cell_type": "code",
   "execution_count": 50,
   "metadata": {
    "collapsed": false
   },
   "outputs": [
    {
     "name": "stdout",
     "output_type": "stream",
     "text": [
      "      Boston   DC  New York  San Francisco\n",
      "0        0.0  0.0       0.0            1.0\n",
      "1        0.0  0.0       0.0            1.0\n",
      "2        0.0  0.0       0.0            1.0\n",
      "3        0.0  0.0       0.0            1.0\n",
      "4        0.0  0.0       0.0            1.0\n",
      "5        0.0  0.0       0.0            1.0\n",
      "6        0.0  0.0       0.0            1.0\n",
      "7        0.0  0.0       0.0            1.0\n",
      "8        0.0  0.0       0.0            1.0\n",
      "9        0.0  0.0       0.0            1.0\n",
      "10       0.0  0.0       0.0            1.0\n",
      "11       0.0  0.0       0.0            1.0\n",
      "12       0.0  0.0       0.0            1.0\n",
      "13       0.0  0.0       0.0            1.0\n",
      "14       0.0  0.0       0.0            1.0\n",
      "15       0.0  0.0       0.0            1.0\n",
      "16       0.0  0.0       0.0            1.0\n",
      "17       0.0  0.0       0.0            1.0\n",
      "18       0.0  0.0       0.0            1.0\n",
      "19       0.0  0.0       0.0            1.0\n",
      "20       0.0  0.0       0.0            1.0\n",
      "21       0.0  0.0       0.0            1.0\n",
      "22       0.0  0.0       0.0            1.0\n",
      "23       0.0  0.0       0.0            1.0\n",
      "24       0.0  0.0       0.0            1.0\n",
      "25       0.0  0.0       0.0            1.0\n",
      "26       0.0  0.0       0.0            1.0\n",
      "27       0.0  0.0       0.0            1.0\n",
      "28       0.0  0.0       0.0            1.0\n",
      "29       0.0  0.0       0.0            1.0\n",
      "...      ...  ...       ...            ...\n",
      "1021     1.0  0.0       0.0            0.0\n",
      "1022     1.0  0.0       0.0            0.0\n",
      "1023     1.0  0.0       0.0            0.0\n",
      "1024     1.0  0.0       0.0            0.0\n",
      "1025     1.0  0.0       0.0            0.0\n",
      "1026     1.0  0.0       0.0            0.0\n",
      "1027     1.0  0.0       0.0            0.0\n",
      "1028     1.0  0.0       0.0            0.0\n",
      "1029     1.0  0.0       0.0            0.0\n",
      "1030     1.0  0.0       0.0            0.0\n",
      "1031     1.0  0.0       0.0            0.0\n",
      "1032     1.0  0.0       0.0            0.0\n",
      "1033     1.0  0.0       0.0            0.0\n",
      "1034     1.0  0.0       0.0            0.0\n",
      "1035     1.0  0.0       0.0            0.0\n",
      "1036     1.0  0.0       0.0            0.0\n",
      "1037     1.0  0.0       0.0            0.0\n",
      "1038     1.0  0.0       0.0            0.0\n",
      "1039     1.0  0.0       0.0            0.0\n",
      "1040     1.0  0.0       0.0            0.0\n",
      "1041     1.0  0.0       0.0            0.0\n",
      "1042     1.0  0.0       0.0            0.0\n",
      "1043     1.0  0.0       0.0            0.0\n",
      "1044     1.0  0.0       0.0            0.0\n",
      "1045     1.0  0.0       0.0            0.0\n",
      "1046     1.0  0.0       0.0            0.0\n",
      "1047     1.0  0.0       0.0            0.0\n",
      "1048     1.0  0.0       0.0            0.0\n",
      "1049     1.0  0.0       0.0            0.0\n",
      "1050     1.0  0.0       0.0            0.0\n",
      "\n",
      "[1051 rows x 4 columns]\n"
     ]
    }
   ],
   "source": [
    "#create dummies for the location\n",
    "\n",
    "df_location = pd.get_dummies(df['location'])\n",
    "df_location = df_location.reset_index(drop=True)\n",
    "print df_location"
   ]
  },
  {
   "cell_type": "code",
   "execution_count": 72,
   "metadata": {
    "collapsed": false
   },
   "outputs": [
    {
     "name": "stdout",
     "output_type": "stream",
     "text": [
      "       meanPay        jobTitle                         company       location  \\\n",
      "0      66843.0    Data Analyst                 Canvas InfoTech  San Francisco   \n",
      "1      63429.0    Data Analyst                BetaSoft Systems  San Francisco   \n",
      "2      75765.0    Data Analyst                        Deloitte  San Francisco   \n",
      "3      81972.0    Data Analyst              McKinsey & Company  San Francisco   \n",
      "4      74301.0    Data Analyst                       Accenture  San Francisco   \n",
      "5      76798.0    Data Analyst              Hitachi Consulting  San Francisco   \n",
      "6      63146.0    Data Analyst           All State Consultants  San Francisco   \n",
      "7      68889.0    Data Analyst                DGN Technologies  San Francisco   \n",
      "8      81637.0    Data Analyst              Calypso Technology  San Francisco   \n",
      "9      69434.0    Data Analyst                    DS Soft Tech  San Francisco   \n",
      "10    100753.0    Data Analyst                         Chevron  San Francisco   \n",
      "11     82388.0    Data Analyst        Pacific Gas and Electric  San Francisco   \n",
      "12     64966.0    Data Analyst                        Equinett  San Francisco   \n",
      "13     69238.0    Data Analyst                            Cswl  San Francisco   \n",
      "14     83102.0    Data Analyst                 Mahindra Satyam  San Francisco   \n",
      "15     83872.0    Data Analyst               Kaiser Permanente  San Francisco   \n",
      "16     82177.0    Data Analyst                       Visa Inc.  San Francisco   \n",
      "17     70627.0    Data Analyst                         Detecon  San Francisco   \n",
      "18     66690.0    Data Analyst             ProSwift Consulting  San Francisco   \n",
      "19    122404.0    Data Analyst                   Cisco Systems  San Francisco   \n",
      "20     87809.0    Data Analyst                     Cognilytics  San Francisco   \n",
      "21     64794.0    Data Analyst                       Macro.Net  San Francisco   \n",
      "22     85728.0    Data Analyst                          Oracle  San Francisco   \n",
      "23     66598.0    Data Analyst                       Sandlenet  San Francisco   \n",
      "24     68283.0    Data Analyst                DYNASOFT SYNERGY  San Francisco   \n",
      "25     79981.0    Data Analyst                     Wells Fargo  San Francisco   \n",
      "26     71657.0    Data Analyst                         Safeway  San Francisco   \n",
      "27     80901.0    Data Analyst                       Genentech  San Francisco   \n",
      "28     68960.0    Data Analyst  Cognizant Technology Solutions  San Francisco   \n",
      "29     63805.0    Data Analyst               Agile Informatics  San Francisco   \n",
      "...        ...             ...                             ...            ...   \n",
      "1021  112000.0  Data Scientist                      Amazon.com         Boston   \n",
      "1022   87000.0  Data Scientist                          ViaSat         Boston   \n",
      "1023  150000.0  Data Scientist                       Think Big         Boston   \n",
      "1024  126000.0  Data Scientist                      BNY Mellon         Boston   \n",
      "1025  132000.0  Data Scientist                             IBM         Boston   \n",
      "1026  144000.0  Data Scientist                       Microsoft         Boston   \n",
      "1027   93000.0  Data Scientist             Booz Allen Hamilton         Boston   \n",
      "1028  136000.0  Data Scientist                       Think Big         Boston   \n",
      "1029   98000.0  Data Scientist                        MaxPoint         Boston   \n",
      "1030  110000.0  Data Scientist                 Tiger Analytics         Boston   \n",
      "1031  134000.0  Data Scientist                            YuMe         Boston   \n",
      "1032  116000.0  Data Scientist                             FIS         Boston   \n",
      "1033  142000.0  Data Scientist                          Akamai         Boston   \n",
      "1034  111000.0  Data Scientist                      Amazon.com         Boston   \n",
      "1035   87000.0  Data Scientist                          ViaSat         Boston   \n",
      "1036  151000.0  Data Scientist                       Think Big         Boston   \n",
      "1037  128000.0  Data Scientist                      BNY Mellon         Boston   \n",
      "1038  131000.0  Data Scientist                             IBM         Boston   \n",
      "1039  146000.0  Data Scientist                       Microsoft         Boston   \n",
      "1040   93000.0  Data Scientist             Booz Allen Hamilton         Boston   \n",
      "1041  133000.0  Data Scientist                       Think Big         Boston   \n",
      "1042   98000.0  Data Scientist                        MaxPoint         Boston   \n",
      "1043  110000.0  Data Scientist                 Tiger Analytics         Boston   \n",
      "1044  132000.0  Data Scientist                            YuMe         Boston   \n",
      "1045  116000.0  Data Scientist                             FIS         Boston   \n",
      "1046  143000.0  Data Scientist                          Akamai         Boston   \n",
      "1047  112000.0  Data Scientist                      Amazon.com         Boston   \n",
      "1048   87000.0  Data Scientist                          ViaSat         Boston   \n",
      "1049  150000.0  Data Scientist                       Think Big         Boston   \n",
      "1050  128000.0  Data Scientist                      BNY Mellon         Boston   \n",
      "\n",
      "      Boston   DC  New York  San Francisco  \n",
      "0        0.0  0.0       0.0            1.0  \n",
      "1        0.0  0.0       0.0            1.0  \n",
      "2        0.0  0.0       0.0            1.0  \n",
      "3        0.0  0.0       0.0            1.0  \n",
      "4        0.0  0.0       0.0            1.0  \n",
      "5        0.0  0.0       0.0            1.0  \n",
      "6        0.0  0.0       0.0            1.0  \n",
      "7        0.0  0.0       0.0            1.0  \n",
      "8        0.0  0.0       0.0            1.0  \n",
      "9        0.0  0.0       0.0            1.0  \n",
      "10       0.0  0.0       0.0            1.0  \n",
      "11       0.0  0.0       0.0            1.0  \n",
      "12       0.0  0.0       0.0            1.0  \n",
      "13       0.0  0.0       0.0            1.0  \n",
      "14       0.0  0.0       0.0            1.0  \n",
      "15       0.0  0.0       0.0            1.0  \n",
      "16       0.0  0.0       0.0            1.0  \n",
      "17       0.0  0.0       0.0            1.0  \n",
      "18       0.0  0.0       0.0            1.0  \n",
      "19       0.0  0.0       0.0            1.0  \n",
      "20       0.0  0.0       0.0            1.0  \n",
      "21       0.0  0.0       0.0            1.0  \n",
      "22       0.0  0.0       0.0            1.0  \n",
      "23       0.0  0.0       0.0            1.0  \n",
      "24       0.0  0.0       0.0            1.0  \n",
      "25       0.0  0.0       0.0            1.0  \n",
      "26       0.0  0.0       0.0            1.0  \n",
      "27       0.0  0.0       0.0            1.0  \n",
      "28       0.0  0.0       0.0            1.0  \n",
      "29       0.0  0.0       0.0            1.0  \n",
      "...      ...  ...       ...            ...  \n",
      "1021     1.0  0.0       0.0            0.0  \n",
      "1022     1.0  0.0       0.0            0.0  \n",
      "1023     1.0  0.0       0.0            0.0  \n",
      "1024     1.0  0.0       0.0            0.0  \n",
      "1025     1.0  0.0       0.0            0.0  \n",
      "1026     1.0  0.0       0.0            0.0  \n",
      "1027     1.0  0.0       0.0            0.0  \n",
      "1028     1.0  0.0       0.0            0.0  \n",
      "1029     1.0  0.0       0.0            0.0  \n",
      "1030     1.0  0.0       0.0            0.0  \n",
      "1031     1.0  0.0       0.0            0.0  \n",
      "1032     1.0  0.0       0.0            0.0  \n",
      "1033     1.0  0.0       0.0            0.0  \n",
      "1034     1.0  0.0       0.0            0.0  \n",
      "1035     1.0  0.0       0.0            0.0  \n",
      "1036     1.0  0.0       0.0            0.0  \n",
      "1037     1.0  0.0       0.0            0.0  \n",
      "1038     1.0  0.0       0.0            0.0  \n",
      "1039     1.0  0.0       0.0            0.0  \n",
      "1040     1.0  0.0       0.0            0.0  \n",
      "1041     1.0  0.0       0.0            0.0  \n",
      "1042     1.0  0.0       0.0            0.0  \n",
      "1043     1.0  0.0       0.0            0.0  \n",
      "1044     1.0  0.0       0.0            0.0  \n",
      "1045     1.0  0.0       0.0            0.0  \n",
      "1046     1.0  0.0       0.0            0.0  \n",
      "1047     1.0  0.0       0.0            0.0  \n",
      "1048     1.0  0.0       0.0            0.0  \n",
      "1049     1.0  0.0       0.0            0.0  \n",
      "1050     1.0  0.0       0.0            0.0  \n",
      "\n",
      "[1051 rows x 8 columns]\n"
     ]
    }
   ],
   "source": [
    "#join the location dummies to the existing data frame\n",
    "new_df= pd.concat([df,df_location], axis = 1)\n",
    "print new_df"
   ]
  },
  {
   "cell_type": "code",
   "execution_count": 73,
   "metadata": {
    "collapsed": false
   },
   "outputs": [
    {
     "name": "stdout",
     "output_type": "stream",
     "text": [
      "       meanPay        jobTitle                         company       location  \\\n",
      "0      66843.0    Data Analyst                 Canvas InfoTech  San Francisco   \n",
      "1      63429.0    Data Analyst                BetaSoft Systems  San Francisco   \n",
      "2      75765.0    Data Analyst                        Deloitte  San Francisco   \n",
      "3      81972.0    Data Analyst              McKinsey & Company  San Francisco   \n",
      "4      74301.0    Data Analyst                       Accenture  San Francisco   \n",
      "5      76798.0    Data Analyst              Hitachi Consulting  San Francisco   \n",
      "6      63146.0    Data Analyst           All State Consultants  San Francisco   \n",
      "7      68889.0    Data Analyst                DGN Technologies  San Francisco   \n",
      "8      81637.0    Data Analyst              Calypso Technology  San Francisco   \n",
      "9      69434.0    Data Analyst                    DS Soft Tech  San Francisco   \n",
      "10    100753.0    Data Analyst                         Chevron  San Francisco   \n",
      "11     82388.0    Data Analyst        Pacific Gas and Electric  San Francisco   \n",
      "12     64966.0    Data Analyst                        Equinett  San Francisco   \n",
      "13     69238.0    Data Analyst                            Cswl  San Francisco   \n",
      "14     83102.0    Data Analyst                 Mahindra Satyam  San Francisco   \n",
      "15     83872.0    Data Analyst               Kaiser Permanente  San Francisco   \n",
      "16     82177.0    Data Analyst                       Visa Inc.  San Francisco   \n",
      "17     70627.0    Data Analyst                         Detecon  San Francisco   \n",
      "18     66690.0    Data Analyst             ProSwift Consulting  San Francisco   \n",
      "19    122404.0    Data Analyst                   Cisco Systems  San Francisco   \n",
      "20     87809.0    Data Analyst                     Cognilytics  San Francisco   \n",
      "21     64794.0    Data Analyst                       Macro.Net  San Francisco   \n",
      "22     85728.0    Data Analyst                          Oracle  San Francisco   \n",
      "23     66598.0    Data Analyst                       Sandlenet  San Francisco   \n",
      "24     68283.0    Data Analyst                DYNASOFT SYNERGY  San Francisco   \n",
      "25     79981.0    Data Analyst                     Wells Fargo  San Francisco   \n",
      "26     71657.0    Data Analyst                         Safeway  San Francisco   \n",
      "27     80901.0    Data Analyst                       Genentech  San Francisco   \n",
      "28     68960.0    Data Analyst  Cognizant Technology Solutions  San Francisco   \n",
      "29     63805.0    Data Analyst               Agile Informatics  San Francisco   \n",
      "...        ...             ...                             ...            ...   \n",
      "1021  112000.0  Data Scientist                      Amazon.com         Boston   \n",
      "1022   87000.0  Data Scientist                          ViaSat         Boston   \n",
      "1023  150000.0  Data Scientist                       Think Big         Boston   \n",
      "1024  126000.0  Data Scientist                      BNY Mellon         Boston   \n",
      "1025  132000.0  Data Scientist                             IBM         Boston   \n",
      "1026  144000.0  Data Scientist                       Microsoft         Boston   \n",
      "1027   93000.0  Data Scientist             Booz Allen Hamilton         Boston   \n",
      "1028  136000.0  Data Scientist                       Think Big         Boston   \n",
      "1029   98000.0  Data Scientist                        MaxPoint         Boston   \n",
      "1030  110000.0  Data Scientist                 Tiger Analytics         Boston   \n",
      "1031  134000.0  Data Scientist                            YuMe         Boston   \n",
      "1032  116000.0  Data Scientist                             FIS         Boston   \n",
      "1033  142000.0  Data Scientist                          Akamai         Boston   \n",
      "1034  111000.0  Data Scientist                      Amazon.com         Boston   \n",
      "1035   87000.0  Data Scientist                          ViaSat         Boston   \n",
      "1036  151000.0  Data Scientist                       Think Big         Boston   \n",
      "1037  128000.0  Data Scientist                      BNY Mellon         Boston   \n",
      "1038  131000.0  Data Scientist                             IBM         Boston   \n",
      "1039  146000.0  Data Scientist                       Microsoft         Boston   \n",
      "1040   93000.0  Data Scientist             Booz Allen Hamilton         Boston   \n",
      "1041  133000.0  Data Scientist                       Think Big         Boston   \n",
      "1042   98000.0  Data Scientist                        MaxPoint         Boston   \n",
      "1043  110000.0  Data Scientist                 Tiger Analytics         Boston   \n",
      "1044  132000.0  Data Scientist                            YuMe         Boston   \n",
      "1045  116000.0  Data Scientist                             FIS         Boston   \n",
      "1046  143000.0  Data Scientist                          Akamai         Boston   \n",
      "1047  112000.0  Data Scientist                      Amazon.com         Boston   \n",
      "1048   87000.0  Data Scientist                          ViaSat         Boston   \n",
      "1049  150000.0  Data Scientist                       Think Big         Boston   \n",
      "1050  128000.0  Data Scientist                      BNY Mellon         Boston   \n",
      "\n",
      "      Boston   DC  New York  San Francisco  Pay  \n",
      "0        0.0  0.0       0.0            1.0    0  \n",
      "1        0.0  0.0       0.0            1.0    0  \n",
      "2        0.0  0.0       0.0            1.0    0  \n",
      "3        0.0  0.0       0.0            1.0    0  \n",
      "4        0.0  0.0       0.0            1.0    0  \n",
      "5        0.0  0.0       0.0            1.0    0  \n",
      "6        0.0  0.0       0.0            1.0    0  \n",
      "7        0.0  0.0       0.0            1.0    0  \n",
      "8        0.0  0.0       0.0            1.0    0  \n",
      "9        0.0  0.0       0.0            1.0    0  \n",
      "10       0.0  0.0       0.0            1.0    0  \n",
      "11       0.0  0.0       0.0            1.0    0  \n",
      "12       0.0  0.0       0.0            1.0    0  \n",
      "13       0.0  0.0       0.0            1.0    0  \n",
      "14       0.0  0.0       0.0            1.0    0  \n",
      "15       0.0  0.0       0.0            1.0    0  \n",
      "16       0.0  0.0       0.0            1.0    0  \n",
      "17       0.0  0.0       0.0            1.0    0  \n",
      "18       0.0  0.0       0.0            1.0    0  \n",
      "19       0.0  0.0       0.0            1.0    0  \n",
      "20       0.0  0.0       0.0            1.0    0  \n",
      "21       0.0  0.0       0.0            1.0    0  \n",
      "22       0.0  0.0       0.0            1.0    0  \n",
      "23       0.0  0.0       0.0            1.0    0  \n",
      "24       0.0  0.0       0.0            1.0    0  \n",
      "25       0.0  0.0       0.0            1.0    0  \n",
      "26       0.0  0.0       0.0            1.0    0  \n",
      "27       0.0  0.0       0.0            1.0    0  \n",
      "28       0.0  0.0       0.0            1.0    0  \n",
      "29       0.0  0.0       0.0            1.0    0  \n",
      "...      ...  ...       ...            ...  ...  \n",
      "1021     1.0  0.0       0.0            0.0    0  \n",
      "1022     1.0  0.0       0.0            0.0    0  \n",
      "1023     1.0  0.0       0.0            0.0    0  \n",
      "1024     1.0  0.0       0.0            0.0    0  \n",
      "1025     1.0  0.0       0.0            0.0    0  \n",
      "1026     1.0  0.0       0.0            0.0    0  \n",
      "1027     1.0  0.0       0.0            0.0    0  \n",
      "1028     1.0  0.0       0.0            0.0    0  \n",
      "1029     1.0  0.0       0.0            0.0    0  \n",
      "1030     1.0  0.0       0.0            0.0    0  \n",
      "1031     1.0  0.0       0.0            0.0    0  \n",
      "1032     1.0  0.0       0.0            0.0    0  \n",
      "1033     1.0  0.0       0.0            0.0    0  \n",
      "1034     1.0  0.0       0.0            0.0    0  \n",
      "1035     1.0  0.0       0.0            0.0    0  \n",
      "1036     1.0  0.0       0.0            0.0    0  \n",
      "1037     1.0  0.0       0.0            0.0    0  \n",
      "1038     1.0  0.0       0.0            0.0    0  \n",
      "1039     1.0  0.0       0.0            0.0    0  \n",
      "1040     1.0  0.0       0.0            0.0    0  \n",
      "1041     1.0  0.0       0.0            0.0    0  \n",
      "1042     1.0  0.0       0.0            0.0    0  \n",
      "1043     1.0  0.0       0.0            0.0    0  \n",
      "1044     1.0  0.0       0.0            0.0    0  \n",
      "1045     1.0  0.0       0.0            0.0    0  \n",
      "1046     1.0  0.0       0.0            0.0    0  \n",
      "1047     1.0  0.0       0.0            0.0    0  \n",
      "1048     1.0  0.0       0.0            0.0    0  \n",
      "1049     1.0  0.0       0.0            0.0    0  \n",
      "1050     1.0  0.0       0.0            0.0    0  \n",
      "\n",
      "[1051 rows x 9 columns]\n"
     ]
    }
   ],
   "source": [
    "#introduce a new column 'Pay'. 'Pay' would be the dependent variable for the model\n",
    "new_df['Pay']=0\n",
    "print new_df"
   ]
  },
  {
   "cell_type": "code",
   "execution_count": 74,
   "metadata": {
    "collapsed": false
   },
   "outputs": [
    {
     "name": "stdout",
     "output_type": "stream",
     "text": [
      "       meanPay        jobTitle                         company       location  \\\n",
      "0      66843.0    Data Analyst                 Canvas InfoTech  San Francisco   \n",
      "1      63429.0    Data Analyst                BetaSoft Systems  San Francisco   \n",
      "2      75765.0    Data Analyst                        Deloitte  San Francisco   \n",
      "3      81972.0    Data Analyst              McKinsey & Company  San Francisco   \n",
      "4      74301.0    Data Analyst                       Accenture  San Francisco   \n",
      "5      76798.0    Data Analyst              Hitachi Consulting  San Francisco   \n",
      "6      63146.0    Data Analyst           All State Consultants  San Francisco   \n",
      "7      68889.0    Data Analyst                DGN Technologies  San Francisco   \n",
      "8      81637.0    Data Analyst              Calypso Technology  San Francisco   \n",
      "9      69434.0    Data Analyst                    DS Soft Tech  San Francisco   \n",
      "10    100753.0    Data Analyst                         Chevron  San Francisco   \n",
      "11     82388.0    Data Analyst        Pacific Gas and Electric  San Francisco   \n",
      "12     64966.0    Data Analyst                        Equinett  San Francisco   \n",
      "13     69238.0    Data Analyst                            Cswl  San Francisco   \n",
      "14     83102.0    Data Analyst                 Mahindra Satyam  San Francisco   \n",
      "15     83872.0    Data Analyst               Kaiser Permanente  San Francisco   \n",
      "16     82177.0    Data Analyst                       Visa Inc.  San Francisco   \n",
      "17     70627.0    Data Analyst                         Detecon  San Francisco   \n",
      "18     66690.0    Data Analyst             ProSwift Consulting  San Francisco   \n",
      "19    122404.0    Data Analyst                   Cisco Systems  San Francisco   \n",
      "20     87809.0    Data Analyst                     Cognilytics  San Francisco   \n",
      "21     64794.0    Data Analyst                       Macro.Net  San Francisco   \n",
      "22     85728.0    Data Analyst                          Oracle  San Francisco   \n",
      "23     66598.0    Data Analyst                       Sandlenet  San Francisco   \n",
      "24     68283.0    Data Analyst                DYNASOFT SYNERGY  San Francisco   \n",
      "25     79981.0    Data Analyst                     Wells Fargo  San Francisco   \n",
      "26     71657.0    Data Analyst                         Safeway  San Francisco   \n",
      "27     80901.0    Data Analyst                       Genentech  San Francisco   \n",
      "28     68960.0    Data Analyst  Cognizant Technology Solutions  San Francisco   \n",
      "29     63805.0    Data Analyst               Agile Informatics  San Francisco   \n",
      "...        ...             ...                             ...            ...   \n",
      "1021  112000.0  Data Scientist                      Amazon.com         Boston   \n",
      "1022   87000.0  Data Scientist                          ViaSat         Boston   \n",
      "1023  150000.0  Data Scientist                       Think Big         Boston   \n",
      "1024  126000.0  Data Scientist                      BNY Mellon         Boston   \n",
      "1025  132000.0  Data Scientist                             IBM         Boston   \n",
      "1026  144000.0  Data Scientist                       Microsoft         Boston   \n",
      "1027   93000.0  Data Scientist             Booz Allen Hamilton         Boston   \n",
      "1028  136000.0  Data Scientist                       Think Big         Boston   \n",
      "1029   98000.0  Data Scientist                        MaxPoint         Boston   \n",
      "1030  110000.0  Data Scientist                 Tiger Analytics         Boston   \n",
      "1031  134000.0  Data Scientist                            YuMe         Boston   \n",
      "1032  116000.0  Data Scientist                             FIS         Boston   \n",
      "1033  142000.0  Data Scientist                          Akamai         Boston   \n",
      "1034  111000.0  Data Scientist                      Amazon.com         Boston   \n",
      "1035   87000.0  Data Scientist                          ViaSat         Boston   \n",
      "1036  151000.0  Data Scientist                       Think Big         Boston   \n",
      "1037  128000.0  Data Scientist                      BNY Mellon         Boston   \n",
      "1038  131000.0  Data Scientist                             IBM         Boston   \n",
      "1039  146000.0  Data Scientist                       Microsoft         Boston   \n",
      "1040   93000.0  Data Scientist             Booz Allen Hamilton         Boston   \n",
      "1041  133000.0  Data Scientist                       Think Big         Boston   \n",
      "1042   98000.0  Data Scientist                        MaxPoint         Boston   \n",
      "1043  110000.0  Data Scientist                 Tiger Analytics         Boston   \n",
      "1044  132000.0  Data Scientist                            YuMe         Boston   \n",
      "1045  116000.0  Data Scientist                             FIS         Boston   \n",
      "1046  143000.0  Data Scientist                          Akamai         Boston   \n",
      "1047  112000.0  Data Scientist                      Amazon.com         Boston   \n",
      "1048   87000.0  Data Scientist                          ViaSat         Boston   \n",
      "1049  150000.0  Data Scientist                       Think Big         Boston   \n",
      "1050  128000.0  Data Scientist                      BNY Mellon         Boston   \n",
      "\n",
      "      Boston   DC  New York  San Francisco  Pay  \n",
      "0        0.0  0.0       0.0            1.0    0  \n",
      "1        0.0  0.0       0.0            1.0    0  \n",
      "2        0.0  0.0       0.0            1.0    0  \n",
      "3        0.0  0.0       0.0            1.0    1  \n",
      "4        0.0  0.0       0.0            1.0    0  \n",
      "5        0.0  0.0       0.0            1.0    0  \n",
      "6        0.0  0.0       0.0            1.0    0  \n",
      "7        0.0  0.0       0.0            1.0    0  \n",
      "8        0.0  0.0       0.0            1.0    1  \n",
      "9        0.0  0.0       0.0            1.0    0  \n",
      "10       0.0  0.0       0.0            1.0    1  \n",
      "11       0.0  0.0       0.0            1.0    1  \n",
      "12       0.0  0.0       0.0            1.0    0  \n",
      "13       0.0  0.0       0.0            1.0    0  \n",
      "14       0.0  0.0       0.0            1.0    1  \n",
      "15       0.0  0.0       0.0            1.0    1  \n",
      "16       0.0  0.0       0.0            1.0    1  \n",
      "17       0.0  0.0       0.0            1.0    0  \n",
      "18       0.0  0.0       0.0            1.0    0  \n",
      "19       0.0  0.0       0.0            1.0    1  \n",
      "20       0.0  0.0       0.0            1.0    1  \n",
      "21       0.0  0.0       0.0            1.0    0  \n",
      "22       0.0  0.0       0.0            1.0    1  \n",
      "23       0.0  0.0       0.0            1.0    0  \n",
      "24       0.0  0.0       0.0            1.0    0  \n",
      "25       0.0  0.0       0.0            1.0    0  \n",
      "26       0.0  0.0       0.0            1.0    0  \n",
      "27       0.0  0.0       0.0            1.0    1  \n",
      "28       0.0  0.0       0.0            1.0    0  \n",
      "29       0.0  0.0       0.0            1.0    0  \n",
      "...      ...  ...       ...            ...  ...  \n",
      "1021     1.0  0.0       0.0            0.0    1  \n",
      "1022     1.0  0.0       0.0            0.0    1  \n",
      "1023     1.0  0.0       0.0            0.0    1  \n",
      "1024     1.0  0.0       0.0            0.0    1  \n",
      "1025     1.0  0.0       0.0            0.0    1  \n",
      "1026     1.0  0.0       0.0            0.0    1  \n",
      "1027     1.0  0.0       0.0            0.0    1  \n",
      "1028     1.0  0.0       0.0            0.0    1  \n",
      "1029     1.0  0.0       0.0            0.0    1  \n",
      "1030     1.0  0.0       0.0            0.0    1  \n",
      "1031     1.0  0.0       0.0            0.0    1  \n",
      "1032     1.0  0.0       0.0            0.0    1  \n",
      "1033     1.0  0.0       0.0            0.0    1  \n",
      "1034     1.0  0.0       0.0            0.0    1  \n",
      "1035     1.0  0.0       0.0            0.0    1  \n",
      "1036     1.0  0.0       0.0            0.0    1  \n",
      "1037     1.0  0.0       0.0            0.0    1  \n",
      "1038     1.0  0.0       0.0            0.0    1  \n",
      "1039     1.0  0.0       0.0            0.0    1  \n",
      "1040     1.0  0.0       0.0            0.0    1  \n",
      "1041     1.0  0.0       0.0            0.0    1  \n",
      "1042     1.0  0.0       0.0            0.0    1  \n",
      "1043     1.0  0.0       0.0            0.0    1  \n",
      "1044     1.0  0.0       0.0            0.0    1  \n",
      "1045     1.0  0.0       0.0            0.0    1  \n",
      "1046     1.0  0.0       0.0            0.0    1  \n",
      "1047     1.0  0.0       0.0            0.0    1  \n",
      "1048     1.0  0.0       0.0            0.0    1  \n",
      "1049     1.0  0.0       0.0            0.0    1  \n",
      "1050     1.0  0.0       0.0            0.0    1  \n",
      "\n",
      "[1051 rows x 9 columns]\n"
     ]
    }
   ],
   "source": [
    "#creating two buckets for meanPay. less than 80K is 0 and greater than 80K is 1\n",
    "\n",
    "new_df.ix[new_df['meanPay'] > 80000,'Pay'] = 1\n",
    "print new_df\n"
   ]
  },
  {
   "cell_type": "markdown",
   "metadata": {},
   "source": [
    "# Analysis using statsmodel:"
   ]
  },
  {
   "cell_type": "code",
   "execution_count": 85,
   "metadata": {
    "collapsed": false
   },
   "outputs": [],
   "source": [
    "#create a new data frame with the location dummies and the \"Pay\" column\n",
    "\n",
    "import statsmodels.api as sm\n",
    "location_df = new_df[['Pay', 'Boston', 'DC', 'New York', 'San Francisco']]"
   ]
  },
  {
   "cell_type": "code",
   "execution_count": 86,
   "metadata": {
    "collapsed": true
   },
   "outputs": [],
   "source": [
    "#stats model has no intercept\n",
    "pd.options.mode.chained_assignment = None\n",
    "import statsmodels.api as sm\n",
    "location_df[\"intercept\"] = 1.0\n",
    "train_cols = location_df.columns[1:]"
   ]
  },
  {
   "cell_type": "code",
   "execution_count": 87,
   "metadata": {
    "collapsed": false
   },
   "outputs": [
    {
     "name": "stdout",
     "output_type": "stream",
     "text": [
      "Index([u'Boston', u'DC', u'New York', u'San Francisco', u'intercept'], dtype='object')\n"
     ]
    }
   ],
   "source": [
    "print train_cols"
   ]
  },
  {
   "cell_type": "code",
   "execution_count": 88,
   "metadata": {
    "collapsed": false
   },
   "outputs": [
    {
     "name": "stdout",
     "output_type": "stream",
     "text": [
      "['Boston', 'DC', 'New York', 'San Francisco', 'intercept']\n"
     ]
    }
   ],
   "source": [
    "print list(train_cols)"
   ]
  },
  {
   "cell_type": "code",
   "execution_count": 89,
   "metadata": {
    "collapsed": false
   },
   "outputs": [
    {
     "data": {
      "text/html": [
       "<div>\n",
       "<table border=\"1\" class=\"dataframe\">\n",
       "  <thead>\n",
       "    <tr style=\"text-align: right;\">\n",
       "      <th></th>\n",
       "      <th>Pay</th>\n",
       "      <th>Boston</th>\n",
       "      <th>DC</th>\n",
       "      <th>New York</th>\n",
       "      <th>San Francisco</th>\n",
       "      <th>intercept</th>\n",
       "    </tr>\n",
       "  </thead>\n",
       "  <tbody>\n",
       "    <tr>\n",
       "      <th>0</th>\n",
       "      <td>0</td>\n",
       "      <td>0.0</td>\n",
       "      <td>0.0</td>\n",
       "      <td>0.0</td>\n",
       "      <td>1.0</td>\n",
       "      <td>1.0</td>\n",
       "    </tr>\n",
       "    <tr>\n",
       "      <th>1</th>\n",
       "      <td>0</td>\n",
       "      <td>0.0</td>\n",
       "      <td>0.0</td>\n",
       "      <td>0.0</td>\n",
       "      <td>1.0</td>\n",
       "      <td>1.0</td>\n",
       "    </tr>\n",
       "    <tr>\n",
       "      <th>2</th>\n",
       "      <td>0</td>\n",
       "      <td>0.0</td>\n",
       "      <td>0.0</td>\n",
       "      <td>0.0</td>\n",
       "      <td>1.0</td>\n",
       "      <td>1.0</td>\n",
       "    </tr>\n",
       "    <tr>\n",
       "      <th>3</th>\n",
       "      <td>1</td>\n",
       "      <td>0.0</td>\n",
       "      <td>0.0</td>\n",
       "      <td>0.0</td>\n",
       "      <td>1.0</td>\n",
       "      <td>1.0</td>\n",
       "    </tr>\n",
       "    <tr>\n",
       "      <th>4</th>\n",
       "      <td>0</td>\n",
       "      <td>0.0</td>\n",
       "      <td>0.0</td>\n",
       "      <td>0.0</td>\n",
       "      <td>1.0</td>\n",
       "      <td>1.0</td>\n",
       "    </tr>\n",
       "  </tbody>\n",
       "</table>\n",
       "</div>"
      ],
      "text/plain": [
       "   Pay  Boston   DC  New York  San Francisco  intercept\n",
       "0    0     0.0  0.0       0.0            1.0        1.0\n",
       "1    0     0.0  0.0       0.0            1.0        1.0\n",
       "2    0     0.0  0.0       0.0            1.0        1.0\n",
       "3    1     0.0  0.0       0.0            1.0        1.0\n",
       "4    0     0.0  0.0       0.0            1.0        1.0"
      ]
     },
     "execution_count": 89,
     "metadata": {},
     "output_type": "execute_result"
    }
   ],
   "source": [
    "location_df.head()"
   ]
  },
  {
   "cell_type": "code",
   "execution_count": 90,
   "metadata": {
    "collapsed": false
   },
   "outputs": [],
   "source": [
    "logit = sm.Logit(location_df['Pay'], location_df[train_cols])"
   ]
  },
  {
   "cell_type": "code",
   "execution_count": 83,
   "metadata": {
    "collapsed": false
   },
   "outputs": [
    {
     "name": "stdout",
     "output_type": "stream",
     "text": [
      "Optimization terminated successfully.\n",
      "         Current function value: 0.664631\n",
      "         Iterations 5\n"
     ]
    }
   ],
   "source": [
    "result = logit.fit()"
   ]
  },
  {
   "cell_type": "code",
   "execution_count": 91,
   "metadata": {
    "collapsed": false
   },
   "outputs": [
    {
     "data": {
      "text/html": [
       "<table class=\"simpletable\">\n",
       "<tr>\n",
       "        <td>Model:</td>              <td>Logit</td>      <td>Pseudo R-squared:</td>    <td>0.032</td>  \n",
       "</tr>\n",
       "<tr>\n",
       "  <td>Dependent Variable:</td>        <td>Pay</td>             <td>AIC:</td>         <td>1405.0549</td>\n",
       "</tr>\n",
       "<tr>\n",
       "         <td>Date:</td>        <td>2016-10-18 11:05</td>       <td>BIC:</td>         <td>1424.8848</td>\n",
       "</tr>\n",
       "<tr>\n",
       "   <td>No. Observations:</td>        <td>1051</td>        <td>Log-Likelihood:</td>    <td>-698.53</td> \n",
       "</tr>\n",
       "<tr>\n",
       "       <td>Df Model:</td>              <td>3</td>            <td>LL-Null:</td>        <td>-721.52</td> \n",
       "</tr>\n",
       "<tr>\n",
       "     <td>Df Residuals:</td>          <td>1047</td>         <td>LLR p-value:</td>    <td>5.7300e-10</td>\n",
       "</tr>\n",
       "<tr>\n",
       "      <td>Converged:</td>           <td>1.0000</td>           <td>Scale:</td>         <td>1.0000</td>  \n",
       "</tr>\n",
       "<tr>\n",
       "    <td>No. Iterations:</td>        <td>5.0000</td>              <td></td>               <td></td>     \n",
       "</tr>\n",
       "</table>\n",
       "<table class=\"simpletable\">\n",
       "<tr>\n",
       "      <td></td>       <th>Coef.</th>  <th>Std.Err.</th>    <th>z</th>     <th>P>|z|</th> <th>[0.025</th>  <th>0.975]</th> \n",
       "</tr>\n",
       "<tr>\n",
       "  <th>Boston</th>    <td>-0.7362</td>  <td>0.1735</td>  <td>-4.2429</td> <td>0.0000</td> <td>-1.0763</td> <td>-0.3961</td>\n",
       "</tr>\n",
       "<tr>\n",
       "  <th>DC</th>        <td>-1.2397</td>  <td>0.1926</td>  <td>-6.4368</td> <td>0.0000</td> <td>-1.6171</td> <td>-0.8622</td>\n",
       "</tr>\n",
       "<tr>\n",
       "  <th>New York</th>  <td>-0.5566</td>  <td>0.1699</td>  <td>-3.2760</td> <td>0.0011</td> <td>-0.8896</td> <td>-0.2236</td>\n",
       "</tr>\n",
       "<tr>\n",
       "  <th>intercept</th> <td>0.3524</td>   <td>0.1212</td>  <td>2.9080</td>  <td>0.0036</td> <td>0.1149</td>  <td>0.5898</td> \n",
       "</tr>\n",
       "</table>"
      ],
      "text/plain": [
       "<class 'statsmodels.iolib.summary2.Summary'>\n",
       "\"\"\"\n",
       "                         Results: Logit\n",
       "=================================================================\n",
       "Model:              Logit            Pseudo R-squared: 0.032     \n",
       "Dependent Variable: Pay              AIC:              1405.0549 \n",
       "Date:               2016-10-18 11:05 BIC:              1424.8848 \n",
       "No. Observations:   1051             Log-Likelihood:   -698.53   \n",
       "Df Model:           3                LL-Null:          -721.52   \n",
       "Df Residuals:       1047             LLR p-value:      5.7300e-10\n",
       "Converged:          1.0000           Scale:            1.0000    \n",
       "No. Iterations:     5.0000                                       \n",
       "------------------------------------------------------------------\n",
       "               Coef.   Std.Err.     z     P>|z|    [0.025   0.975]\n",
       "------------------------------------------------------------------\n",
       "Boston        -0.7362    0.1735  -4.2429  0.0000  -1.0763  -0.3961\n",
       "DC            -1.2397    0.1926  -6.4368  0.0000  -1.6171  -0.8622\n",
       "New York      -0.5566    0.1699  -3.2760  0.0011  -0.8896  -0.2236\n",
       "intercept      0.3524    0.1212   2.9080  0.0036   0.1149   0.5898\n",
       "=================================================================\n",
       "\n",
       "\"\"\""
      ]
     },
     "execution_count": 91,
     "metadata": {},
     "output_type": "execute_result"
    }
   ],
   "source": [
    "result.summary2()"
   ]
  },
  {
   "cell_type": "markdown",
   "metadata": {
    "collapsed": false
   },
   "source": [
    "# Logistic regression with scikit learn"
   ]
  },
  {
   "cell_type": "code",
   "execution_count": 92,
   "metadata": {
    "collapsed": false
   },
   "outputs": [],
   "source": [
    "from patsy import dmatrices\n",
    "from sklearn.linear_model import LogisticRegression\n",
    "from sklearn.cross_validation import train_test_split\n",
    "from sklearn import metrics\n",
    "from sklearn.cross_validation import cross_val_score"
   ]
  },
  {
   "cell_type": "code",
   "execution_count": 93,
   "metadata": {
    "collapsed": false
   },
   "outputs": [
    {
     "name": "stdout",
     "output_type": "stream",
     "text": [
      "      Data Analyst  Data Scientist\n",
      "0              1.0             0.0\n",
      "1              1.0             0.0\n",
      "2              1.0             0.0\n",
      "3              1.0             0.0\n",
      "4              1.0             0.0\n",
      "5              1.0             0.0\n",
      "6              1.0             0.0\n",
      "7              1.0             0.0\n",
      "8              1.0             0.0\n",
      "9              1.0             0.0\n",
      "10             1.0             0.0\n",
      "11             1.0             0.0\n",
      "12             1.0             0.0\n",
      "13             1.0             0.0\n",
      "14             1.0             0.0\n",
      "15             1.0             0.0\n",
      "16             1.0             0.0\n",
      "17             1.0             0.0\n",
      "18             1.0             0.0\n",
      "19             1.0             0.0\n",
      "20             1.0             0.0\n",
      "21             1.0             0.0\n",
      "22             1.0             0.0\n",
      "23             1.0             0.0\n",
      "24             1.0             0.0\n",
      "25             1.0             0.0\n",
      "26             1.0             0.0\n",
      "27             1.0             0.0\n",
      "28             1.0             0.0\n",
      "29             1.0             0.0\n",
      "...            ...             ...\n",
      "1021           0.0             1.0\n",
      "1022           0.0             1.0\n",
      "1023           0.0             1.0\n",
      "1024           0.0             1.0\n",
      "1025           0.0             1.0\n",
      "1026           0.0             1.0\n",
      "1027           0.0             1.0\n",
      "1028           0.0             1.0\n",
      "1029           0.0             1.0\n",
      "1030           0.0             1.0\n",
      "1031           0.0             1.0\n",
      "1032           0.0             1.0\n",
      "1033           0.0             1.0\n",
      "1034           0.0             1.0\n",
      "1035           0.0             1.0\n",
      "1036           0.0             1.0\n",
      "1037           0.0             1.0\n",
      "1038           0.0             1.0\n",
      "1039           0.0             1.0\n",
      "1040           0.0             1.0\n",
      "1041           0.0             1.0\n",
      "1042           0.0             1.0\n",
      "1043           0.0             1.0\n",
      "1044           0.0             1.0\n",
      "1045           0.0             1.0\n",
      "1046           0.0             1.0\n",
      "1047           0.0             1.0\n",
      "1048           0.0             1.0\n",
      "1049           0.0             1.0\n",
      "1050           0.0             1.0\n",
      "\n",
      "[1051 rows x 2 columns]\n"
     ]
    }
   ],
   "source": [
    "#create dummies for the job titles\n",
    "\n",
    "df_title = pd.get_dummies(df['jobTitle'])\n",
    "df_title = df_title.reset_index(drop=True)\n",
    "print df_title"
   ]
  },
  {
   "cell_type": "code",
   "execution_count": 94,
   "metadata": {
    "collapsed": false
   },
   "outputs": [
    {
     "data": {
      "text/plain": [
       "(1051, 2)"
      ]
     },
     "execution_count": 94,
     "metadata": {},
     "output_type": "execute_result"
    }
   ],
   "source": [
    "df_title.shape"
   ]
  },
  {
   "cell_type": "code",
   "execution_count": 95,
   "metadata": {
    "collapsed": false
   },
   "outputs": [
    {
     "name": "stdout",
     "output_type": "stream",
     "text": [
      "      Pay  Boston   DC  New York  San Francisco\n",
      "0       0     0.0  0.0       0.0            1.0\n",
      "1       0     0.0  0.0       0.0            1.0\n",
      "2       0     0.0  0.0       0.0            1.0\n",
      "3       1     0.0  0.0       0.0            1.0\n",
      "4       0     0.0  0.0       0.0            1.0\n",
      "5       0     0.0  0.0       0.0            1.0\n",
      "6       0     0.0  0.0       0.0            1.0\n",
      "7       0     0.0  0.0       0.0            1.0\n",
      "8       1     0.0  0.0       0.0            1.0\n",
      "9       0     0.0  0.0       0.0            1.0\n",
      "10      1     0.0  0.0       0.0            1.0\n",
      "11      1     0.0  0.0       0.0            1.0\n",
      "12      0     0.0  0.0       0.0            1.0\n",
      "13      0     0.0  0.0       0.0            1.0\n",
      "14      1     0.0  0.0       0.0            1.0\n",
      "15      1     0.0  0.0       0.0            1.0\n",
      "16      1     0.0  0.0       0.0            1.0\n",
      "17      0     0.0  0.0       0.0            1.0\n",
      "18      0     0.0  0.0       0.0            1.0\n",
      "19      1     0.0  0.0       0.0            1.0\n",
      "20      1     0.0  0.0       0.0            1.0\n",
      "21      0     0.0  0.0       0.0            1.0\n",
      "22      1     0.0  0.0       0.0            1.0\n",
      "23      0     0.0  0.0       0.0            1.0\n",
      "24      0     0.0  0.0       0.0            1.0\n",
      "25      0     0.0  0.0       0.0            1.0\n",
      "26      0     0.0  0.0       0.0            1.0\n",
      "27      1     0.0  0.0       0.0            1.0\n",
      "28      0     0.0  0.0       0.0            1.0\n",
      "29      0     0.0  0.0       0.0            1.0\n",
      "...   ...     ...  ...       ...            ...\n",
      "1021    1     1.0  0.0       0.0            0.0\n",
      "1022    1     1.0  0.0       0.0            0.0\n",
      "1023    1     1.0  0.0       0.0            0.0\n",
      "1024    1     1.0  0.0       0.0            0.0\n",
      "1025    1     1.0  0.0       0.0            0.0\n",
      "1026    1     1.0  0.0       0.0            0.0\n",
      "1027    1     1.0  0.0       0.0            0.0\n",
      "1028    1     1.0  0.0       0.0            0.0\n",
      "1029    1     1.0  0.0       0.0            0.0\n",
      "1030    1     1.0  0.0       0.0            0.0\n",
      "1031    1     1.0  0.0       0.0            0.0\n",
      "1032    1     1.0  0.0       0.0            0.0\n",
      "1033    1     1.0  0.0       0.0            0.0\n",
      "1034    1     1.0  0.0       0.0            0.0\n",
      "1035    1     1.0  0.0       0.0            0.0\n",
      "1036    1     1.0  0.0       0.0            0.0\n",
      "1037    1     1.0  0.0       0.0            0.0\n",
      "1038    1     1.0  0.0       0.0            0.0\n",
      "1039    1     1.0  0.0       0.0            0.0\n",
      "1040    1     1.0  0.0       0.0            0.0\n",
      "1041    1     1.0  0.0       0.0            0.0\n",
      "1042    1     1.0  0.0       0.0            0.0\n",
      "1043    1     1.0  0.0       0.0            0.0\n",
      "1044    1     1.0  0.0       0.0            0.0\n",
      "1045    1     1.0  0.0       0.0            0.0\n",
      "1046    1     1.0  0.0       0.0            0.0\n",
      "1047    1     1.0  0.0       0.0            0.0\n",
      "1048    1     1.0  0.0       0.0            0.0\n",
      "1049    1     1.0  0.0       0.0            0.0\n",
      "1050    1     1.0  0.0       0.0            0.0\n",
      "\n",
      "[1051 rows x 5 columns]\n"
     ]
    }
   ],
   "source": [
    "df_4location = new_df[['Pay', 'Boston', 'DC', 'New York', 'San Francisco']]\n",
    "print df_4location"
   ]
  },
  {
   "cell_type": "code",
   "execution_count": 109,
   "metadata": {
    "collapsed": false,
    "scrolled": true
   },
   "outputs": [
    {
     "name": "stdout",
     "output_type": "stream",
     "text": [
      "      Pay  Boston   DC  New York  San Francisco  Data Analyst  Data Scientist\n",
      "0       0     0.0  0.0       0.0            1.0           1.0             0.0\n",
      "1       0     0.0  0.0       0.0            1.0           1.0             0.0\n",
      "2       0     0.0  0.0       0.0            1.0           1.0             0.0\n",
      "3       1     0.0  0.0       0.0            1.0           1.0             0.0\n",
      "4       0     0.0  0.0       0.0            1.0           1.0             0.0\n",
      "5       0     0.0  0.0       0.0            1.0           1.0             0.0\n",
      "6       0     0.0  0.0       0.0            1.0           1.0             0.0\n",
      "7       0     0.0  0.0       0.0            1.0           1.0             0.0\n",
      "8       1     0.0  0.0       0.0            1.0           1.0             0.0\n",
      "9       0     0.0  0.0       0.0            1.0           1.0             0.0\n",
      "10      1     0.0  0.0       0.0            1.0           1.0             0.0\n",
      "11      1     0.0  0.0       0.0            1.0           1.0             0.0\n",
      "12      0     0.0  0.0       0.0            1.0           1.0             0.0\n",
      "13      0     0.0  0.0       0.0            1.0           1.0             0.0\n",
      "14      1     0.0  0.0       0.0            1.0           1.0             0.0\n",
      "15      1     0.0  0.0       0.0            1.0           1.0             0.0\n",
      "16      1     0.0  0.0       0.0            1.0           1.0             0.0\n",
      "17      0     0.0  0.0       0.0            1.0           1.0             0.0\n",
      "18      0     0.0  0.0       0.0            1.0           1.0             0.0\n",
      "19      1     0.0  0.0       0.0            1.0           1.0             0.0\n",
      "20      1     0.0  0.0       0.0            1.0           1.0             0.0\n",
      "21      0     0.0  0.0       0.0            1.0           1.0             0.0\n",
      "22      1     0.0  0.0       0.0            1.0           1.0             0.0\n",
      "23      0     0.0  0.0       0.0            1.0           1.0             0.0\n",
      "24      0     0.0  0.0       0.0            1.0           1.0             0.0\n",
      "25      0     0.0  0.0       0.0            1.0           1.0             0.0\n",
      "26      0     0.0  0.0       0.0            1.0           1.0             0.0\n",
      "27      1     0.0  0.0       0.0            1.0           1.0             0.0\n",
      "28      0     0.0  0.0       0.0            1.0           1.0             0.0\n",
      "29      0     0.0  0.0       0.0            1.0           1.0             0.0\n",
      "...   ...     ...  ...       ...            ...           ...             ...\n",
      "1021    1     1.0  0.0       0.0            0.0           0.0             1.0\n",
      "1022    1     1.0  0.0       0.0            0.0           0.0             1.0\n",
      "1023    1     1.0  0.0       0.0            0.0           0.0             1.0\n",
      "1024    1     1.0  0.0       0.0            0.0           0.0             1.0\n",
      "1025    1     1.0  0.0       0.0            0.0           0.0             1.0\n",
      "1026    1     1.0  0.0       0.0            0.0           0.0             1.0\n",
      "1027    1     1.0  0.0       0.0            0.0           0.0             1.0\n",
      "1028    1     1.0  0.0       0.0            0.0           0.0             1.0\n",
      "1029    1     1.0  0.0       0.0            0.0           0.0             1.0\n",
      "1030    1     1.0  0.0       0.0            0.0           0.0             1.0\n",
      "1031    1     1.0  0.0       0.0            0.0           0.0             1.0\n",
      "1032    1     1.0  0.0       0.0            0.0           0.0             1.0\n",
      "1033    1     1.0  0.0       0.0            0.0           0.0             1.0\n",
      "1034    1     1.0  0.0       0.0            0.0           0.0             1.0\n",
      "1035    1     1.0  0.0       0.0            0.0           0.0             1.0\n",
      "1036    1     1.0  0.0       0.0            0.0           0.0             1.0\n",
      "1037    1     1.0  0.0       0.0            0.0           0.0             1.0\n",
      "1038    1     1.0  0.0       0.0            0.0           0.0             1.0\n",
      "1039    1     1.0  0.0       0.0            0.0           0.0             1.0\n",
      "1040    1     1.0  0.0       0.0            0.0           0.0             1.0\n",
      "1041    1     1.0  0.0       0.0            0.0           0.0             1.0\n",
      "1042    1     1.0  0.0       0.0            0.0           0.0             1.0\n",
      "1043    1     1.0  0.0       0.0            0.0           0.0             1.0\n",
      "1044    1     1.0  0.0       0.0            0.0           0.0             1.0\n",
      "1045    1     1.0  0.0       0.0            0.0           0.0             1.0\n",
      "1046    1     1.0  0.0       0.0            0.0           0.0             1.0\n",
      "1047    1     1.0  0.0       0.0            0.0           0.0             1.0\n",
      "1048    1     1.0  0.0       0.0            0.0           0.0             1.0\n",
      "1049    1     1.0  0.0       0.0            0.0           0.0             1.0\n",
      "1050    1     1.0  0.0       0.0            0.0           0.0             1.0\n",
      "\n",
      "[1051 rows x 7 columns]\n"
     ]
    }
   ],
   "source": [
    "#join the location dummies from location_df1 and df_title to get a new data frame with dummies\n",
    "new_df1= pd.concat([df_4location,df_title], axis = 1)\n",
    "print new_df1"
   ]
  },
  {
   "cell_type": "code",
   "execution_count": 110,
   "metadata": {
    "collapsed": false
   },
   "outputs": [
    {
     "name": "stdout",
     "output_type": "stream",
     "text": [
      "Index([u'Boston', u'DC', u'New York', u'San Francisco', u'Data Analyst',\n",
      "       u'Data Scientist'],\n",
      "      dtype='object')\n"
     ]
    }
   ],
   "source": [
    "#setting the data for the logistic regression\n",
    "\n",
    "y = new_df1['Pay']\n",
    "tcols = new_df1.columns[1:]\n",
    "\n",
    "print tcols\n",
    "\n",
    "X = new_df1[tcols]"
   ]
  },
  {
   "cell_type": "code",
   "execution_count": 111,
   "metadata": {
    "collapsed": false
   },
   "outputs": [
    {
     "name": "stdout",
     "output_type": "stream",
     "text": [
      "The score of the model:  0.810656517602\n"
     ]
    }
   ],
   "source": [
    "# instantiate a logistic regression model\n",
    "model = LogisticRegression()\n",
    "model = model.fit(X, y)\n",
    "print \"The score of the model: \", model.score(X,y)"
   ]
  },
  {
   "cell_type": "markdown",
   "metadata": {},
   "source": [
    "The accuracy of the model is 81%"
   ]
  },
  {
   "cell_type": "code",
   "execution_count": 112,
   "metadata": {
    "collapsed": false
   },
   "outputs": [
    {
     "name": "stdout",
     "output_type": "stream",
     "text": [
      "0.442435775452\n"
     ]
    }
   ],
   "source": [
    "# 44% of the jobs pay over 80K\n",
    "print y.mean()"
   ]
  },
  {
   "cell_type": "code",
   "execution_count": 113,
   "metadata": {
    "collapsed": false
   },
   "outputs": [
    {
     "data": {
      "text/html": [
       "<div>\n",
       "<table border=\"1\" class=\"dataframe\">\n",
       "  <thead>\n",
       "    <tr style=\"text-align: right;\">\n",
       "      <th></th>\n",
       "      <th>0</th>\n",
       "      <th>1</th>\n",
       "    </tr>\n",
       "  </thead>\n",
       "  <tbody>\n",
       "    <tr>\n",
       "      <th>0</th>\n",
       "      <td>Boston</td>\n",
       "      <td>[-0.128888914152]</td>\n",
       "    </tr>\n",
       "    <tr>\n",
       "      <th>1</th>\n",
       "      <td>DC</td>\n",
       "      <td>[-0.195295043737]</td>\n",
       "    </tr>\n",
       "    <tr>\n",
       "      <th>2</th>\n",
       "      <td>New York</td>\n",
       "      <td>[-0.105317349757]</td>\n",
       "    </tr>\n",
       "    <tr>\n",
       "      <th>3</th>\n",
       "      <td>San Francisco</td>\n",
       "      <td>[0.81047244054]</td>\n",
       "    </tr>\n",
       "    <tr>\n",
       "      <th>4</th>\n",
       "      <td>Data Analyst</td>\n",
       "      <td>[-1.65889801317]</td>\n",
       "    </tr>\n",
       "    <tr>\n",
       "      <th>5</th>\n",
       "      <td>Data Scientist</td>\n",
       "      <td>[2.03986914606]</td>\n",
       "    </tr>\n",
       "  </tbody>\n",
       "</table>\n",
       "</div>"
      ],
      "text/plain": [
       "                0                  1\n",
       "0          Boston  [-0.128888914152]\n",
       "1              DC  [-0.195295043737]\n",
       "2        New York  [-0.105317349757]\n",
       "3   San Francisco    [0.81047244054]\n",
       "4    Data Analyst   [-1.65889801317]\n",
       "5  Data Scientist    [2.03986914606]"
      ]
     },
     "execution_count": 113,
     "metadata": {},
     "output_type": "execute_result"
    }
   ],
   "source": [
    "#lets examine the co-efficients\n",
    "\n",
    "pd.DataFrame(zip(X.columns, np.transpose(model.coef_)))"
   ]
  },
  {
   "cell_type": "markdown",
   "metadata": {},
   "source": [
    "# Evaliation of the model using a Validation set"
   ]
  },
  {
   "cell_type": "code",
   "execution_count": 114,
   "metadata": {
    "collapsed": false
   },
   "outputs": [
    {
     "data": {
      "text/plain": [
       "LogisticRegression(C=1.0, class_weight=None, dual=False, fit_intercept=True,\n",
       "          intercept_scaling=1, max_iter=100, multi_class='ovr', n_jobs=1,\n",
       "          penalty='l2', random_state=None, solver='liblinear', tol=0.0001,\n",
       "          verbose=0, warm_start=False)"
      ]
     },
     "execution_count": 114,
     "metadata": {},
     "output_type": "execute_result"
    }
   ],
   "source": [
    "# evaluate the model by splitting into train and test sets\n",
    "X_train, X_test, y_train, y_test = train_test_split(X, y, test_size=0.3, random_state=0)\n",
    "model2 = LogisticRegression()\n",
    "model2.fit(X_train, y_train)"
   ]
  },
  {
   "cell_type": "code",
   "execution_count": 115,
   "metadata": {
    "collapsed": false
   },
   "outputs": [
    {
     "name": "stdout",
     "output_type": "stream",
     "text": [
      "[1 0 0 0 0 0 0 0 0 0 0 1 0 0 0 0 1 0 0 1 0 0 0 0 0 1 0 0 1 1 0 1 0 1 0 0 0\n",
      " 0 1 0 0 0 0 0 1 0 0 0 0 0 0 1 0 0 0 1 1 0 0 1 1 0 0 0 0 0 0 1 0 1 0 0 0 1\n",
      " 1 0 0 0 0 0 1 0 0 0 0 0 0 0 1 1 0 0 0 0 0 1 0 0 0 0 0 1 1 0 0 1 0 0 1 0 1\n",
      " 1 0 0 0 0 1 1 0 0 1 1 1 0 1 0 0 0 1 0 0 0 1 1 0 1 0 0 1 0 1 1 0 0 1 1 0 0\n",
      " 0 0 0 1 1 0 0 1 0 1 1 0 0 1 0 0 1 0 0 0 0 1 0 0 1 0 0 1 0 0 1 0 1 1 0 1 0\n",
      " 0 0 0 0 0 0 0 0 0 1 1 0 1 0 0 1 0 0 1 0 1 1 0 0 1 0 0 0 0 1 1 1 0 0 0 0 0\n",
      " 0 0 1 0 0 1 1 0 1 0 0 0 1 1 0 0 0 0 0 0 0 0 0 0 0 0 1 0 1 0 0 1 1 0 0 0 0\n",
      " 1 0 0 0 1 0 0 1 0 1 0 0 0 0 0 1 0 1 1 0 0 0 0 0 1 0 0 0 0 0 0 0 0 0 0 0 1\n",
      " 0 1 1 0 0 0 0 0 0 1 1 0 0 0 0 0 1 0 0 0]\n"
     ]
    }
   ],
   "source": [
    "# predict class labels for the test set\n",
    "predicted = model2.predict(X_test)\n",
    "print predicted"
   ]
  },
  {
   "cell_type": "code",
   "execution_count": 116,
   "metadata": {
    "collapsed": false
   },
   "outputs": [
    {
     "name": "stdout",
     "output_type": "stream",
     "text": [
      "[[ 0.04249712  0.95750288]\n",
      " [ 0.79465618  0.20534382]\n",
      " [ 0.79465618  0.20534382]\n",
      " [ 0.79465618  0.20534382]\n",
      " [ 0.78066386  0.21933614]\n",
      " [ 0.61419196  0.38580804]\n",
      " [ 0.61419196  0.38580804]\n",
      " [ 0.82004027  0.17995973]\n",
      " [ 0.79465618  0.20534382]\n",
      " [ 0.78066386  0.21933614]\n",
      " [ 0.79465618  0.20534382]\n",
      " [ 0.09738391  0.90261609]\n",
      " [ 0.78066386  0.21933614]\n",
      " [ 0.61419196  0.38580804]\n",
      " [ 0.78066386  0.21933614]\n",
      " [ 0.79465618  0.20534382]\n",
      " [ 0.09027179  0.90972821]\n",
      " [ 0.79465618  0.20534382]\n",
      " [ 0.79465618  0.20534382]\n",
      " [ 0.09027179  0.90972821]\n",
      " [ 0.79465618  0.20534382]\n",
      " [ 0.78066386  0.21933614]\n",
      " [ 0.79465618  0.20534382]\n",
      " [ 0.82004027  0.17995973]\n",
      " [ 0.61419196  0.38580804]\n",
      " [ 0.09738391  0.90261609]\n",
      " [ 0.79465618  0.20534382]\n",
      " [ 0.61419196  0.38580804]\n",
      " [ 0.04249712  0.95750288]\n",
      " [ 0.04249712  0.95750288]\n",
      " [ 0.78066386  0.21933614]\n",
      " [ 0.09738391  0.90261609]\n",
      " [ 0.78066386  0.21933614]\n",
      " [ 0.09027179  0.90972821]\n",
      " [ 0.61419196  0.38580804]\n",
      " [ 0.61419196  0.38580804]\n",
      " [ 0.61419196  0.38580804]\n",
      " [ 0.79465618  0.20534382]\n",
      " [ 0.11272139  0.88727861]\n",
      " [ 0.61419196  0.38580804]\n",
      " [ 0.79465618  0.20534382]\n",
      " [ 0.82004027  0.17995973]\n",
      " [ 0.61419196  0.38580804]\n",
      " [ 0.78066386  0.21933614]\n",
      " [ 0.04249712  0.95750288]\n",
      " [ 0.82004027  0.17995973]\n",
      " [ 0.61419196  0.38580804]\n",
      " [ 0.61419196  0.38580804]\n",
      " [ 0.61419196  0.38580804]\n",
      " [ 0.79465618  0.20534382]\n",
      " [ 0.79465618  0.20534382]\n",
      " [ 0.11272139  0.88727861]\n",
      " [ 0.78066386  0.21933614]\n",
      " [ 0.79465618  0.20534382]\n",
      " [ 0.78066386  0.21933614]\n",
      " [ 0.09027179  0.90972821]\n",
      " [ 0.09027179  0.90972821]\n",
      " [ 0.82004027  0.17995973]\n",
      " [ 0.82004027  0.17995973]\n",
      " [ 0.09738391  0.90261609]\n",
      " [ 0.09027179  0.90972821]\n",
      " [ 0.82004027  0.17995973]\n",
      " [ 0.79465618  0.20534382]\n",
      " [ 0.82004027  0.17995973]\n",
      " [ 0.79465618  0.20534382]\n",
      " [ 0.82004027  0.17995973]\n",
      " [ 0.61419196  0.38580804]\n",
      " [ 0.09027179  0.90972821]\n",
      " [ 0.61419196  0.38580804]\n",
      " [ 0.04249712  0.95750288]\n",
      " [ 0.78066386  0.21933614]\n",
      " [ 0.61419196  0.38580804]\n",
      " [ 0.61419196  0.38580804]\n",
      " [ 0.04249712  0.95750288]\n",
      " [ 0.09738391  0.90261609]\n",
      " [ 0.82004027  0.17995973]\n",
      " [ 0.78066386  0.21933614]\n",
      " [ 0.82004027  0.17995973]\n",
      " [ 0.78066386  0.21933614]\n",
      " [ 0.61419196  0.38580804]\n",
      " [ 0.09738391  0.90261609]\n",
      " [ 0.61419196  0.38580804]\n",
      " [ 0.79465618  0.20534382]\n",
      " [ 0.78066386  0.21933614]\n",
      " [ 0.79465618  0.20534382]\n",
      " [ 0.61419196  0.38580804]\n",
      " [ 0.78066386  0.21933614]\n",
      " [ 0.61419196  0.38580804]\n",
      " [ 0.09738391  0.90261609]\n",
      " [ 0.04249712  0.95750288]\n",
      " [ 0.79465618  0.20534382]\n",
      " [ 0.61419196  0.38580804]\n",
      " [ 0.82004027  0.17995973]\n",
      " [ 0.78066386  0.21933614]\n",
      " [ 0.82004027  0.17995973]\n",
      " [ 0.04249712  0.95750288]\n",
      " [ 0.79465618  0.20534382]\n",
      " [ 0.61419196  0.38580804]\n",
      " [ 0.61419196  0.38580804]\n",
      " [ 0.61419196  0.38580804]\n",
      " [ 0.82004027  0.17995973]\n",
      " [ 0.11272139  0.88727861]\n",
      " [ 0.04249712  0.95750288]\n",
      " [ 0.79465618  0.20534382]\n",
      " [ 0.61419196  0.38580804]\n",
      " [ 0.04249712  0.95750288]\n",
      " [ 0.82004027  0.17995973]\n",
      " [ 0.79465618  0.20534382]\n",
      " [ 0.04249712  0.95750288]\n",
      " [ 0.78066386  0.21933614]\n",
      " [ 0.04249712  0.95750288]\n",
      " [ 0.09738391  0.90261609]\n",
      " [ 0.79465618  0.20534382]\n",
      " [ 0.61419196  0.38580804]\n",
      " [ 0.78066386  0.21933614]\n",
      " [ 0.82004027  0.17995973]\n",
      " [ 0.09027179  0.90972821]\n",
      " [ 0.04249712  0.95750288]\n",
      " [ 0.78066386  0.21933614]\n",
      " [ 0.79465618  0.20534382]\n",
      " [ 0.09027179  0.90972821]\n",
      " [ 0.09027179  0.90972821]\n",
      " [ 0.09738391  0.90261609]\n",
      " [ 0.79465618  0.20534382]\n",
      " [ 0.04249712  0.95750288]\n",
      " [ 0.61419196  0.38580804]\n",
      " [ 0.61419196  0.38580804]\n",
      " [ 0.61419196  0.38580804]\n",
      " [ 0.09738391  0.90261609]\n",
      " [ 0.82004027  0.17995973]\n",
      " [ 0.78066386  0.21933614]\n",
      " [ 0.78066386  0.21933614]\n",
      " [ 0.09738391  0.90261609]\n",
      " [ 0.09738391  0.90261609]\n",
      " [ 0.79465618  0.20534382]\n",
      " [ 0.04249712  0.95750288]\n",
      " [ 0.79465618  0.20534382]\n",
      " [ 0.79465618  0.20534382]\n",
      " [ 0.11272139  0.88727861]\n",
      " [ 0.79465618  0.20534382]\n",
      " [ 0.09738391  0.90261609]\n",
      " [ 0.04249712  0.95750288]\n",
      " [ 0.61419196  0.38580804]\n",
      " [ 0.82004027  0.17995973]\n",
      " [ 0.11272139  0.88727861]\n",
      " [ 0.04249712  0.95750288]\n",
      " [ 0.82004027  0.17995973]\n",
      " [ 0.61419196  0.38580804]\n",
      " [ 0.82004027  0.17995973]\n",
      " [ 0.78066386  0.21933614]\n",
      " [ 0.61419196  0.38580804]\n",
      " [ 0.09738391  0.90261609]\n",
      " [ 0.04249712  0.95750288]\n",
      " [ 0.82004027  0.17995973]\n",
      " [ 0.79465618  0.20534382]\n",
      " [ 0.09027179  0.90972821]\n",
      " [ 0.79465618  0.20534382]\n",
      " [ 0.09738391  0.90261609]\n",
      " [ 0.04249712  0.95750288]\n",
      " [ 0.82004027  0.17995973]\n",
      " [ 0.61419196  0.38580804]\n",
      " [ 0.09738391  0.90261609]\n",
      " [ 0.78066386  0.21933614]\n",
      " [ 0.79465618  0.20534382]\n",
      " [ 0.11272139  0.88727861]\n",
      " [ 0.82004027  0.17995973]\n",
      " [ 0.82004027  0.17995973]\n",
      " [ 0.82004027  0.17995973]\n",
      " [ 0.82004027  0.17995973]\n",
      " [ 0.04249712  0.95750288]\n",
      " [ 0.82004027  0.17995973]\n",
      " [ 0.61419196  0.38580804]\n",
      " [ 0.04249712  0.95750288]\n",
      " [ 0.79465618  0.20534382]\n",
      " [ 0.61419196  0.38580804]\n",
      " [ 0.09738391  0.90261609]\n",
      " [ 0.61419196  0.38580804]\n",
      " [ 0.82004027  0.17995973]\n",
      " [ 0.09027179  0.90972821]\n",
      " [ 0.78066386  0.21933614]\n",
      " [ 0.09027179  0.90972821]\n",
      " [ 0.09738391  0.90261609]\n",
      " [ 0.78066386  0.21933614]\n",
      " [ 0.09027179  0.90972821]\n",
      " [ 0.82004027  0.17995973]\n",
      " [ 0.61419196  0.38580804]\n",
      " [ 0.82004027  0.17995973]\n",
      " [ 0.79465618  0.20534382]\n",
      " [ 0.82004027  0.17995973]\n",
      " [ 0.61419196  0.38580804]\n",
      " [ 0.61419196  0.38580804]\n",
      " [ 0.82004027  0.17995973]\n",
      " [ 0.61419196  0.38580804]\n",
      " [ 0.79465618  0.20534382]\n",
      " [ 0.09027179  0.90972821]\n",
      " [ 0.09027179  0.90972821]\n",
      " [ 0.79465618  0.20534382]\n",
      " [ 0.04249712  0.95750288]\n",
      " [ 0.79465618  0.20534382]\n",
      " [ 0.82004027  0.17995973]\n",
      " [ 0.09027179  0.90972821]\n",
      " [ 0.78066386  0.21933614]\n",
      " [ 0.82004027  0.17995973]\n",
      " [ 0.04249712  0.95750288]\n",
      " [ 0.79465618  0.20534382]\n",
      " [ 0.09027179  0.90972821]\n",
      " [ 0.09027179  0.90972821]\n",
      " [ 0.61419196  0.38580804]\n",
      " [ 0.82004027  0.17995973]\n",
      " [ 0.04249712  0.95750288]\n",
      " [ 0.61419196  0.38580804]\n",
      " [ 0.61419196  0.38580804]\n",
      " [ 0.78066386  0.21933614]\n",
      " [ 0.82004027  0.17995973]\n",
      " [ 0.04249712  0.95750288]\n",
      " [ 0.09738391  0.90261609]\n",
      " [ 0.09027179  0.90972821]\n",
      " [ 0.78066386  0.21933614]\n",
      " [ 0.79465618  0.20534382]\n",
      " [ 0.78066386  0.21933614]\n",
      " [ 0.79465618  0.20534382]\n",
      " [ 0.79465618  0.20534382]\n",
      " [ 0.61419196  0.38580804]\n",
      " [ 0.61419196  0.38580804]\n",
      " [ 0.11272139  0.88727861]\n",
      " [ 0.78066386  0.21933614]\n",
      " [ 0.78066386  0.21933614]\n",
      " [ 0.04249712  0.95750288]\n",
      " [ 0.04249712  0.95750288]\n",
      " [ 0.79465618  0.20534382]\n",
      " [ 0.11272139  0.88727861]\n",
      " [ 0.79465618  0.20534382]\n",
      " [ 0.82004027  0.17995973]\n",
      " [ 0.79465618  0.20534382]\n",
      " [ 0.09738391  0.90261609]\n",
      " [ 0.04249712  0.95750288]\n",
      " [ 0.79465618  0.20534382]\n",
      " [ 0.61419196  0.38580804]\n",
      " [ 0.82004027  0.17995973]\n",
      " [ 0.79465618  0.20534382]\n",
      " [ 0.82004027  0.17995973]\n",
      " [ 0.78066386  0.21933614]\n",
      " [ 0.82004027  0.17995973]\n",
      " [ 0.79465618  0.20534382]\n",
      " [ 0.61419196  0.38580804]\n",
      " [ 0.82004027  0.17995973]\n",
      " [ 0.61419196  0.38580804]\n",
      " [ 0.79465618  0.20534382]\n",
      " [ 0.04249712  0.95750288]\n",
      " [ 0.82004027  0.17995973]\n",
      " [ 0.09738391  0.90261609]\n",
      " [ 0.78066386  0.21933614]\n",
      " [ 0.82004027  0.17995973]\n",
      " [ 0.09027179  0.90972821]\n",
      " [ 0.09027179  0.90972821]\n",
      " [ 0.61419196  0.38580804]\n",
      " [ 0.78066386  0.21933614]\n",
      " [ 0.82004027  0.17995973]\n",
      " [ 0.79465618  0.20534382]\n",
      " [ 0.11272139  0.88727861]\n",
      " [ 0.78066386  0.21933614]\n",
      " [ 0.79465618  0.20534382]\n",
      " [ 0.61419196  0.38580804]\n",
      " [ 0.11272139  0.88727861]\n",
      " [ 0.78066386  0.21933614]\n",
      " [ 0.61419196  0.38580804]\n",
      " [ 0.09738391  0.90261609]\n",
      " [ 0.61419196  0.38580804]\n",
      " [ 0.09027179  0.90972821]\n",
      " [ 0.79465618  0.20534382]\n",
      " [ 0.79465618  0.20534382]\n",
      " [ 0.82004027  0.17995973]\n",
      " [ 0.78066386  0.21933614]\n",
      " [ 0.79465618  0.20534382]\n",
      " [ 0.04249712  0.95750288]\n",
      " [ 0.78066386  0.21933614]\n",
      " [ 0.09738391  0.90261609]\n",
      " [ 0.09738391  0.90261609]\n",
      " [ 0.82004027  0.17995973]\n",
      " [ 0.61419196  0.38580804]\n",
      " [ 0.61419196  0.38580804]\n",
      " [ 0.61419196  0.38580804]\n",
      " [ 0.82004027  0.17995973]\n",
      " [ 0.09738391  0.90261609]\n",
      " [ 0.82004027  0.17995973]\n",
      " [ 0.79465618  0.20534382]\n",
      " [ 0.61419196  0.38580804]\n",
      " [ 0.61419196  0.38580804]\n",
      " [ 0.78066386  0.21933614]\n",
      " [ 0.79465618  0.20534382]\n",
      " [ 0.78066386  0.21933614]\n",
      " [ 0.82004027  0.17995973]\n",
      " [ 0.82004027  0.17995973]\n",
      " [ 0.61419196  0.38580804]\n",
      " [ 0.79465618  0.20534382]\n",
      " [ 0.09738391  0.90261609]\n",
      " [ 0.61419196  0.38580804]\n",
      " [ 0.09738391  0.90261609]\n",
      " [ 0.09027179  0.90972821]\n",
      " [ 0.78066386  0.21933614]\n",
      " [ 0.79465618  0.20534382]\n",
      " [ 0.78066386  0.21933614]\n",
      " [ 0.79465618  0.20534382]\n",
      " [ 0.82004027  0.17995973]\n",
      " [ 0.79465618  0.20534382]\n",
      " [ 0.09027179  0.90972821]\n",
      " [ 0.09027179  0.90972821]\n",
      " [ 0.78066386  0.21933614]\n",
      " [ 0.78066386  0.21933614]\n",
      " [ 0.79465618  0.20534382]\n",
      " [ 0.61419196  0.38580804]\n",
      " [ 0.78066386  0.21933614]\n",
      " [ 0.09738391  0.90261609]\n",
      " [ 0.79465618  0.20534382]\n",
      " [ 0.61419196  0.38580804]\n",
      " [ 0.82004027  0.17995973]]\n"
     ]
    }
   ],
   "source": [
    "# generate class probabilities\n",
    "probs = model2.predict_proba(X_test)\n",
    "print probs"
   ]
  },
  {
   "cell_type": "code",
   "execution_count": 117,
   "metadata": {
    "collapsed": false
   },
   "outputs": [
    {
     "name": "stdout",
     "output_type": "stream",
     "text": [
      "0.816455696203\n",
      "0.8328125\n"
     ]
    }
   ],
   "source": [
    "# generate evaluation metrics\n",
    "print metrics.accuracy_score(y_test, predicted)\n",
    "print metrics.roc_auc_score(y_test, probs[:, 1])"
   ]
  },
  {
   "cell_type": "code",
   "execution_count": 118,
   "metadata": {
    "collapsed": false
   },
   "outputs": [
    {
     "name": "stdout",
     "output_type": "stream",
     "text": [
      "[[170   6]\n",
      " [ 52  88]]\n",
      "             precision    recall  f1-score   support\n",
      "\n",
      "          0       0.77      0.97      0.85       176\n",
      "          1       0.94      0.63      0.75       140\n",
      "\n",
      "avg / total       0.84      0.82      0.81       316\n",
      "\n"
     ]
    }
   ],
   "source": [
    "print metrics.confusion_matrix(y_test, predicted)\n",
    "print metrics.classification_report(y_test, predicted)"
   ]
  },
  {
   "cell_type": "code",
   "execution_count": 119,
   "metadata": {
    "collapsed": false
   },
   "outputs": [
    {
     "name": "stdout",
     "output_type": "stream",
     "text": [
      "[ 0.55660377  0.55660377  0.55660377  0.66037736  1.          0.99047619\n",
      "  1.          1.          1.          0.79807692]\n",
      "0.81187417928\n"
     ]
    }
   ],
   "source": [
    "# evaluate the model using 10-fold cross-validation\n",
    "scores = cross_val_score(LogisticRegression(), X, y, scoring='accuracy', cv=10)\n",
    "print scores\n",
    "print scores.mean()"
   ]
  },
  {
   "cell_type": "code",
   "execution_count": 120,
   "metadata": {
    "collapsed": false
   },
   "outputs": [
    {
     "name": "stdout",
     "output_type": "stream",
     "text": [
      "Index([u'Boston', u'DC', u'New York', u'San Francisco', u'Data Analyst',\n",
      "       u'Data Scientist'],\n",
      "      dtype='object')\n"
     ]
    }
   ],
   "source": [
    "print tcols"
   ]
  },
  {
   "cell_type": "code",
   "execution_count": 121,
   "metadata": {
    "collapsed": false
   },
   "outputs": [
    {
     "data": {
      "text/plain": [
       "6"
      ]
     },
     "execution_count": 121,
     "metadata": {},
     "output_type": "execute_result"
    }
   ],
   "source": [
    "len(tcols)"
   ]
  },
  {
   "cell_type": "code",
   "execution_count": 123,
   "metadata": {
    "collapsed": false
   },
   "outputs": [
    {
     "name": "stdout",
     "output_type": "stream",
     "text": [
      "[ 0.  0.  0.  0.  0.  0.]\n"
     ]
    }
   ],
   "source": [
    "pred =np.zeros(6)\n",
    "print pred"
   ]
  },
  {
   "cell_type": "code",
   "execution_count": 124,
   "metadata": {
    "collapsed": true
   },
   "outputs": [],
   "source": [
    "#trying to predict salary of Data Scientist in NY\n",
    "pred[2]=1\n",
    "pred[5]=1"
   ]
  },
  {
   "cell_type": "code",
   "execution_count": 125,
   "metadata": {
    "collapsed": false
   },
   "outputs": [
    {
     "name": "stderr",
     "output_type": "stream",
     "text": [
      "//anaconda/lib/python2.7/site-packages/sklearn/utils/validation.py:386: DeprecationWarning: Passing 1d arrays as data is deprecated in 0.17 and willraise ValueError in 0.19. Reshape your data either using X.reshape(-1, 1) if your data has a single feature or X.reshape(1, -1) if it contains a single sample.\n",
      "  DeprecationWarning)\n"
     ]
    },
    {
     "data": {
      "text/plain": [
       "array([[ 0.08984549,  0.91015451]])"
      ]
     },
     "execution_count": 125,
     "metadata": {},
     "output_type": "execute_result"
    }
   ],
   "source": [
    "model.predict_proba(pred)"
   ]
  },
  {
   "cell_type": "markdown",
   "metadata": {
    "collapsed": true
   },
   "source": [
    "# Summary of Project 4: Salary Prediction for Data Professionals\n",
    "\n",
    "In this project we are trying to gauge the industry factors that influence the pay scale of professionals in the field of Data Science. This information is considered to be a valuable information for hiring firms. \n",
    "\n",
    "We used webscrapping methods to collect the salary information from the web, converted the data into csv and have imported the data using pandas into a dataframe.\n",
    "\n",
    "The independent variables for the model are 'location' and 'job title'. The dependent variable for the model is 'pay' or 'salary of the individual'. Hence, according to the model, pay of an individual is influenced by the job title they hold and the location of their work. \n",
    "\n",
    "We have four work place locations: Boston, DC, New York, and San Francisco. We had a number of job titles in our original data which we have grouped into two buckets: Data Analyst and Data Scientist.\n",
    "\n",
    "\n",
    "Classification model has been applied to the data by creating binary variables. Analysis has been performed by  Logistic regression using Statsmodel as well as scikit learn.\n",
    "\n",
    "We have about 1110 rows of data for analysis. The following is the histogram of the pay(meanPay is the name of the column in the dataset) which presents the pay distribution.\n",
    "\n",
    "![](https://dpalit.github.io/images/project4_histogram1.png)\n",
    "\n",
    "\n",
    "The pay that is less than $20,000 has been considered as an outlier and has been removed from the dataset. The following histogram presents the pay distribution without the outliers.\n",
    "\n",
    "![](https://dpalit.github.io/images/project4_histogram2.png)\n",
    "\n",
    "The average pay has been calculate as $85,152.\n",
    "The median pay has been calculated as $76,000.\n",
    "Their is a standard deviation of 30048.\n",
    "\n",
    "For binary classification, the cut of has been taken as 80,000. Pay less than 80K has been classified as low (denoted 0) and a pay above 80K has been classified as high (denoted 1).\n",
    "\n",
    "The mean of the data is 44% i.e. 44% of the positions have  a pay above 80K.\n",
    "\n",
    "In scikit learn, a model score of 81% has been obtained. \n",
    "\n",
    "The co-efficients of the model are:\n",
    "\n",
    "| 0 | 1 | \n",
    "|:-:|---|\n",
    "| Boston | -0.128888914152 |\n",
    "| DC | -0.195295043737 | \n",
    "| New York\t| -0.105317349757 | \n",
    "| San Francisco | 0.81047244054 |\n",
    "| Data Analyst | -1.65889801317 |\n",
    "| Data Scientist | 2.03986914606 | \n",
    " \n",
    " \n",
    "# Prediction: \n",
    "\n",
    "We tried to predict the salary of a Data Scientist in New York using the model.\n",
    "\n",
    "The model predicted that the probability of finding a position as a Data Scientist in New York is 91%.\n",
    "\n",
    "\n",
    " \n"
   ]
  },
  {
   "cell_type": "code",
   "execution_count": null,
   "metadata": {
    "collapsed": true
   },
   "outputs": [],
   "source": []
  }
 ],
 "metadata": {
  "kernelspec": {
   "display_name": "Python [Root]",
   "language": "python",
   "name": "Python [Root]"
  },
  "language_info": {
   "codemirror_mode": {
    "name": "ipython",
    "version": 2
   },
   "file_extension": ".py",
   "mimetype": "text/x-python",
   "name": "python",
   "nbconvert_exporter": "python",
   "pygments_lexer": "ipython2",
   "version": "2.7.12"
  }
 },
 "nbformat": 4,
 "nbformat_minor": 0
}
