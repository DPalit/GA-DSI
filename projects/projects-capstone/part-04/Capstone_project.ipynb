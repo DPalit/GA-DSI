{
 "cells": [
  {
   "cell_type": "markdown",
   "metadata": {},
   "source": [
    "# Insurance Claims Management"
   ]
  },
  {
   "cell_type": "markdown",
   "metadata": {},
   "source": [
    "## Introduction\n",
    "\n",
    "The data is from an insurance claims management company. It is an anonymized database with two categories of claims:\n",
    "\n",
    "* claims that had an accelerated approval leading to faster payments\n",
    "* claims for which additional information was required before approval i.e. no accelerated approval \n",
    "\n",
    "In this project we would try to predict the category of a claim (0 or 1) based on features available early in the process, so that claims processing could be acclerated and therefore provide a better service to the customers."
   ]
  },
  {
   "cell_type": "markdown",
   "metadata": {},
   "source": [
    "## Problem Statement: \n",
    "\n",
    "When unexpected events happen, people expect their insurer to support them as quickly as possible. Claims management department at the insurer need to check several things before a claim can be processed and payments can be made. Data Science can play an important role in this sector and make claims processing faster and easier."
   ]
  },
  {
   "cell_type": "markdown",
   "metadata": {},
   "source": [
    "## Summary on the data: \n",
    "It has two parts: Train and Test set.\n",
    "\n",
    "The train set has 133 columns in all. The 'target' column is the dependent variable which has been classified into 1 and 0 depending on whether the claims had an accelerated approval or not.  suggests if the claims had an accelerated approval or not. If the claim had an accelerated approval the 'target' value has been set to 1 and if the claim did not have an accelerated approval the target value has been set to 0.\n",
    "\n",
    "\n",
    "The train set has 131 columns which are the variables either of categorical or numeric type. All string type variables are categorical. It has been mentioned that the dataset doesnot contain any ordinal variables. The dataset is anonymized because it is proprietory data to protect privacy.\n",
    "\n",
    "The test set contains 132 columns and does not have the target column. In this project we would predict the  probability (\"PredictedProb\") for each claim to be processed in the test set."
   ]
  },
  {
   "cell_type": "code",
   "execution_count": null,
   "metadata": {
    "collapsed": true
   },
   "outputs": [],
   "source": []
  },
  {
   "cell_type": "code",
   "execution_count": 109,
   "metadata": {
    "collapsed": true
   },
   "outputs": [],
   "source": [
    "import pandas as pd\n",
    "import numpy as np\n",
    "import csv\n",
    "from sklearn.ensemble import ExtraTreesClassifier"
   ]
  },
  {
   "cell_type": "code",
   "execution_count": 110,
   "metadata": {
    "collapsed": true
   },
   "outputs": [],
   "source": [
    "# Read the train set\n",
    "train1 = pd.read_csv('/Users/Debjani/Downloads/train_capstone.csv')"
   ]
  },
  {
   "cell_type": "code",
   "execution_count": 111,
   "metadata": {
    "collapsed": true
   },
   "outputs": [],
   "source": [
    "# Read the test set\n",
    "test1 = pd.read_csv('/Users/Debjani/Downloads/test_capstone.csv')"
   ]
  },
  {
   "cell_type": "code",
   "execution_count": 112,
   "metadata": {
    "collapsed": false
   },
   "outputs": [
    {
     "data": {
      "text/plain": [
       "Index([u'ID', u'v1', u'v2', u'v3', u'v4', u'v5', u'v6', u'v7', u'v8', u'v9',\n",
       "       ...\n",
       "       u'v122', u'v123', u'v124', u'v125', u'v126', u'v127', u'v128', u'v129',\n",
       "       u'v130', u'v131'],\n",
       "      dtype='object', length=132)"
      ]
     },
     "execution_count": 112,
     "metadata": {},
     "output_type": "execute_result"
    }
   ],
   "source": [
    "test1.columns\n"
   ]
  },
  {
   "cell_type": "code",
   "execution_count": 4,
   "metadata": {
    "collapsed": false
   },
   "outputs": [
    {
     "data": {
      "text/plain": [
       "(114321, 133)"
      ]
     },
     "execution_count": 4,
     "metadata": {},
     "output_type": "execute_result"
    }
   ],
   "source": [
    "train1.shape"
   ]
  },
  {
   "cell_type": "code",
   "execution_count": 5,
   "metadata": {
    "collapsed": false
   },
   "outputs": [
    {
     "data": {
      "text/plain": [
       "Index([u'ID', u'target', u'v1', u'v2', u'v3', u'v4', u'v5', u'v6', u'v7',\n",
       "       u'v8',\n",
       "       ...\n",
       "       u'v122', u'v123', u'v124', u'v125', u'v126', u'v127', u'v128', u'v129',\n",
       "       u'v130', u'v131'],\n",
       "      dtype='object', length=133)"
      ]
     },
     "execution_count": 5,
     "metadata": {},
     "output_type": "execute_result"
    }
   ],
   "source": [
    "train1.columns"
   ]
  },
  {
   "cell_type": "code",
   "execution_count": 113,
   "metadata": {
    "collapsed": false
   },
   "outputs": [
    {
     "name": "stdout",
     "output_type": "stream",
     "text": [
      "<class 'pandas.core.frame.DataFrame'>\n",
      "RangeIndex: 114321 entries, 0 to 114320\n",
      "Columns: 133 entries, ID to v131\n",
      "dtypes: float64(108), int64(6), object(19)\n",
      "memory usage: 116.0+ MB\n"
     ]
    }
   ],
   "source": [
    "train1.info()"
   ]
  },
  {
   "cell_type": "code",
   "execution_count": 4,
   "metadata": {
    "collapsed": false
   },
   "outputs": [
    {
     "data": {
      "text/html": [
       "<div>\n",
       "<table border=\"1\" class=\"dataframe\">\n",
       "  <thead>\n",
       "    <tr style=\"text-align: right;\">\n",
       "      <th></th>\n",
       "      <th>ID</th>\n",
       "      <th>target</th>\n",
       "      <th>v1</th>\n",
       "      <th>v2</th>\n",
       "      <th>v3</th>\n",
       "      <th>v4</th>\n",
       "      <th>v5</th>\n",
       "      <th>v6</th>\n",
       "      <th>v7</th>\n",
       "      <th>v8</th>\n",
       "      <th>...</th>\n",
       "      <th>v122</th>\n",
       "      <th>v123</th>\n",
       "      <th>v124</th>\n",
       "      <th>v125</th>\n",
       "      <th>v126</th>\n",
       "      <th>v127</th>\n",
       "      <th>v128</th>\n",
       "      <th>v129</th>\n",
       "      <th>v130</th>\n",
       "      <th>v131</th>\n",
       "    </tr>\n",
       "  </thead>\n",
       "  <tbody>\n",
       "    <tr>\n",
       "      <th>0</th>\n",
       "      <td>3</td>\n",
       "      <td>1</td>\n",
       "      <td>1.335739</td>\n",
       "      <td>8.727474</td>\n",
       "      <td>C</td>\n",
       "      <td>3.921026</td>\n",
       "      <td>7.915266</td>\n",
       "      <td>2.599278</td>\n",
       "      <td>3.176895</td>\n",
       "      <td>0.012941</td>\n",
       "      <td>...</td>\n",
       "      <td>8.000000</td>\n",
       "      <td>1.989780</td>\n",
       "      <td>0.035754</td>\n",
       "      <td>AU</td>\n",
       "      <td>1.804126</td>\n",
       "      <td>3.113719</td>\n",
       "      <td>2.024285</td>\n",
       "      <td>0</td>\n",
       "      <td>0.636365</td>\n",
       "      <td>2.857144</td>\n",
       "    </tr>\n",
       "    <tr>\n",
       "      <th>1</th>\n",
       "      <td>4</td>\n",
       "      <td>1</td>\n",
       "      <td>NaN</td>\n",
       "      <td>NaN</td>\n",
       "      <td>C</td>\n",
       "      <td>NaN</td>\n",
       "      <td>9.191265</td>\n",
       "      <td>NaN</td>\n",
       "      <td>NaN</td>\n",
       "      <td>2.301630</td>\n",
       "      <td>...</td>\n",
       "      <td>NaN</td>\n",
       "      <td>NaN</td>\n",
       "      <td>0.598896</td>\n",
       "      <td>AF</td>\n",
       "      <td>NaN</td>\n",
       "      <td>NaN</td>\n",
       "      <td>1.957825</td>\n",
       "      <td>0</td>\n",
       "      <td>NaN</td>\n",
       "      <td>NaN</td>\n",
       "    </tr>\n",
       "    <tr>\n",
       "      <th>2</th>\n",
       "      <td>5</td>\n",
       "      <td>1</td>\n",
       "      <td>0.943877</td>\n",
       "      <td>5.310079</td>\n",
       "      <td>C</td>\n",
       "      <td>4.410969</td>\n",
       "      <td>5.326159</td>\n",
       "      <td>3.979592</td>\n",
       "      <td>3.928571</td>\n",
       "      <td>0.019645</td>\n",
       "      <td>...</td>\n",
       "      <td>9.333333</td>\n",
       "      <td>2.477596</td>\n",
       "      <td>0.013452</td>\n",
       "      <td>AE</td>\n",
       "      <td>1.773709</td>\n",
       "      <td>3.922193</td>\n",
       "      <td>1.120468</td>\n",
       "      <td>2</td>\n",
       "      <td>0.883118</td>\n",
       "      <td>1.176472</td>\n",
       "    </tr>\n",
       "    <tr>\n",
       "      <th>3</th>\n",
       "      <td>6</td>\n",
       "      <td>1</td>\n",
       "      <td>0.797415</td>\n",
       "      <td>8.304757</td>\n",
       "      <td>C</td>\n",
       "      <td>4.225930</td>\n",
       "      <td>11.627438</td>\n",
       "      <td>2.097700</td>\n",
       "      <td>1.987549</td>\n",
       "      <td>0.171947</td>\n",
       "      <td>...</td>\n",
       "      <td>7.018256</td>\n",
       "      <td>1.812795</td>\n",
       "      <td>0.002267</td>\n",
       "      <td>CJ</td>\n",
       "      <td>1.415230</td>\n",
       "      <td>2.954381</td>\n",
       "      <td>1.990847</td>\n",
       "      <td>1</td>\n",
       "      <td>1.677108</td>\n",
       "      <td>1.034483</td>\n",
       "    </tr>\n",
       "    <tr>\n",
       "      <th>4</th>\n",
       "      <td>8</td>\n",
       "      <td>1</td>\n",
       "      <td>NaN</td>\n",
       "      <td>NaN</td>\n",
       "      <td>C</td>\n",
       "      <td>NaN</td>\n",
       "      <td>NaN</td>\n",
       "      <td>NaN</td>\n",
       "      <td>NaN</td>\n",
       "      <td>NaN</td>\n",
       "      <td>...</td>\n",
       "      <td>NaN</td>\n",
       "      <td>NaN</td>\n",
       "      <td>NaN</td>\n",
       "      <td>Z</td>\n",
       "      <td>NaN</td>\n",
       "      <td>NaN</td>\n",
       "      <td>NaN</td>\n",
       "      <td>0</td>\n",
       "      <td>NaN</td>\n",
       "      <td>NaN</td>\n",
       "    </tr>\n",
       "  </tbody>\n",
       "</table>\n",
       "<p>5 rows × 133 columns</p>\n",
       "</div>"
      ],
      "text/plain": [
       "   ID  target        v1        v2 v3        v4         v5        v6        v7  \\\n",
       "0   3       1  1.335739  8.727474  C  3.921026   7.915266  2.599278  3.176895   \n",
       "1   4       1       NaN       NaN  C       NaN   9.191265       NaN       NaN   \n",
       "2   5       1  0.943877  5.310079  C  4.410969   5.326159  3.979592  3.928571   \n",
       "3   6       1  0.797415  8.304757  C  4.225930  11.627438  2.097700  1.987549   \n",
       "4   8       1       NaN       NaN  C       NaN        NaN       NaN       NaN   \n",
       "\n",
       "         v8    ...         v122      v123      v124  v125      v126      v127  \\\n",
       "0  0.012941    ...     8.000000  1.989780  0.035754    AU  1.804126  3.113719   \n",
       "1  2.301630    ...          NaN       NaN  0.598896    AF       NaN       NaN   \n",
       "2  0.019645    ...     9.333333  2.477596  0.013452    AE  1.773709  3.922193   \n",
       "3  0.171947    ...     7.018256  1.812795  0.002267    CJ  1.415230  2.954381   \n",
       "4       NaN    ...          NaN       NaN       NaN     Z       NaN       NaN   \n",
       "\n",
       "       v128  v129      v130      v131  \n",
       "0  2.024285     0  0.636365  2.857144  \n",
       "1  1.957825     0       NaN       NaN  \n",
       "2  1.120468     2  0.883118  1.176472  \n",
       "3  1.990847     1  1.677108  1.034483  \n",
       "4       NaN     0       NaN       NaN  \n",
       "\n",
       "[5 rows x 133 columns]"
      ]
     },
     "execution_count": 4,
     "metadata": {},
     "output_type": "execute_result"
    }
   ],
   "source": [
    "train1.head()"
   ]
  },
  {
   "cell_type": "markdown",
   "metadata": {},
   "source": [
    "#### There are 108 columns that have float values."
   ]
  },
  {
   "cell_type": "code",
   "execution_count": 114,
   "metadata": {
    "collapsed": false
   },
   "outputs": [
    {
     "name": "stdout",
     "output_type": "stream",
     "text": [
      "Index([u'v1', u'v2', u'v4', u'v5', u'v6', u'v7', u'v8', u'v9', u'v10', u'v11',\n",
      "       ...\n",
      "       u'v120', u'v121', u'v122', u'v123', u'v124', u'v126', u'v127', u'v128',\n",
      "       u'v130', u'v131'],\n",
      "      dtype='object', length=108)\n",
      "(114321, 108)\n"
     ]
    }
   ],
   "source": [
    "#the float columns\n",
    " \n",
    "df_flt = train1.ix[:, train1.dtypes == np.float64]\n",
    "print df_flt.columns\n",
    "print df_flt.shape"
   ]
  },
  {
   "cell_type": "markdown",
   "metadata": {},
   "source": [
    "#### There are 19 columns with object values in them"
   ]
  },
  {
   "cell_type": "code",
   "execution_count": 115,
   "metadata": {
    "collapsed": false
   },
   "outputs": [
    {
     "name": "stdout",
     "output_type": "stream",
     "text": [
      "Index([u'v3', u'v22', u'v24', u'v30', u'v31', u'v47', u'v52', u'v56', u'v66',\n",
      "       u'v71', u'v74', u'v75', u'v79', u'v91', u'v107', u'v110', u'v112',\n",
      "       u'v113', u'v125'],\n",
      "      dtype='object')\n",
      "(114321, 19)\n"
     ]
    }
   ],
   "source": [
    "df_obj = train1.ix[:, train1.dtypes == np.object]\n",
    "print df_obj.columns\n",
    "print df_obj.shape"
   ]
  },
  {
   "cell_type": "code",
   "execution_count": 8,
   "metadata": {
    "collapsed": false
   },
   "outputs": [
    {
     "data": {
      "text/html": [
       "<div>\n",
       "<table border=\"1\" class=\"dataframe\">\n",
       "  <thead>\n",
       "    <tr style=\"text-align: right;\">\n",
       "      <th></th>\n",
       "      <th>v3</th>\n",
       "      <th>v22</th>\n",
       "      <th>v24</th>\n",
       "      <th>v30</th>\n",
       "      <th>v31</th>\n",
       "      <th>v47</th>\n",
       "      <th>v52</th>\n",
       "      <th>v56</th>\n",
       "      <th>v66</th>\n",
       "      <th>v71</th>\n",
       "      <th>v74</th>\n",
       "      <th>v75</th>\n",
       "      <th>v79</th>\n",
       "      <th>v91</th>\n",
       "      <th>v107</th>\n",
       "      <th>v110</th>\n",
       "      <th>v112</th>\n",
       "      <th>v113</th>\n",
       "      <th>v125</th>\n",
       "    </tr>\n",
       "  </thead>\n",
       "  <tbody>\n",
       "    <tr>\n",
       "      <th>0</th>\n",
       "      <td>C</td>\n",
       "      <td>XDX</td>\n",
       "      <td>C</td>\n",
       "      <td>C</td>\n",
       "      <td>A</td>\n",
       "      <td>C</td>\n",
       "      <td>G</td>\n",
       "      <td>DI</td>\n",
       "      <td>C</td>\n",
       "      <td>F</td>\n",
       "      <td>B</td>\n",
       "      <td>D</td>\n",
       "      <td>E</td>\n",
       "      <td>A</td>\n",
       "      <td>E</td>\n",
       "      <td>B</td>\n",
       "      <td>O</td>\n",
       "      <td>NaN</td>\n",
       "      <td>AU</td>\n",
       "    </tr>\n",
       "    <tr>\n",
       "      <th>1</th>\n",
       "      <td>C</td>\n",
       "      <td>GUV</td>\n",
       "      <td>C</td>\n",
       "      <td>C</td>\n",
       "      <td>A</td>\n",
       "      <td>E</td>\n",
       "      <td>G</td>\n",
       "      <td>DY</td>\n",
       "      <td>A</td>\n",
       "      <td>F</td>\n",
       "      <td>B</td>\n",
       "      <td>D</td>\n",
       "      <td>D</td>\n",
       "      <td>B</td>\n",
       "      <td>B</td>\n",
       "      <td>A</td>\n",
       "      <td>U</td>\n",
       "      <td>G</td>\n",
       "      <td>AF</td>\n",
       "    </tr>\n",
       "    <tr>\n",
       "      <th>2</th>\n",
       "      <td>C</td>\n",
       "      <td>FQ</td>\n",
       "      <td>E</td>\n",
       "      <td>NaN</td>\n",
       "      <td>A</td>\n",
       "      <td>C</td>\n",
       "      <td>F</td>\n",
       "      <td>AS</td>\n",
       "      <td>A</td>\n",
       "      <td>B</td>\n",
       "      <td>B</td>\n",
       "      <td>B</td>\n",
       "      <td>E</td>\n",
       "      <td>G</td>\n",
       "      <td>C</td>\n",
       "      <td>B</td>\n",
       "      <td>S</td>\n",
       "      <td>NaN</td>\n",
       "      <td>AE</td>\n",
       "    </tr>\n",
       "    <tr>\n",
       "      <th>3</th>\n",
       "      <td>C</td>\n",
       "      <td>ACUE</td>\n",
       "      <td>D</td>\n",
       "      <td>C</td>\n",
       "      <td>B</td>\n",
       "      <td>C</td>\n",
       "      <td>H</td>\n",
       "      <td>BW</td>\n",
       "      <td>A</td>\n",
       "      <td>F</td>\n",
       "      <td>B</td>\n",
       "      <td>D</td>\n",
       "      <td>B</td>\n",
       "      <td>B</td>\n",
       "      <td>B</td>\n",
       "      <td>B</td>\n",
       "      <td>J</td>\n",
       "      <td>NaN</td>\n",
       "      <td>CJ</td>\n",
       "    </tr>\n",
       "    <tr>\n",
       "      <th>4</th>\n",
       "      <td>C</td>\n",
       "      <td>HIT</td>\n",
       "      <td>E</td>\n",
       "      <td>NaN</td>\n",
       "      <td>A</td>\n",
       "      <td>I</td>\n",
       "      <td>H</td>\n",
       "      <td>NaN</td>\n",
       "      <td>C</td>\n",
       "      <td>F</td>\n",
       "      <td>B</td>\n",
       "      <td>D</td>\n",
       "      <td>C</td>\n",
       "      <td>G</td>\n",
       "      <td>C</td>\n",
       "      <td>A</td>\n",
       "      <td>T</td>\n",
       "      <td>G</td>\n",
       "      <td>Z</td>\n",
       "    </tr>\n",
       "  </tbody>\n",
       "</table>\n",
       "</div>"
      ],
      "text/plain": [
       "  v3   v22 v24  v30 v31 v47 v52  v56 v66 v71 v74 v75 v79 v91 v107 v110 v112  \\\n",
       "0  C   XDX   C    C   A   C   G   DI   C   F   B   D   E   A    E    B    O   \n",
       "1  C   GUV   C    C   A   E   G   DY   A   F   B   D   D   B    B    A    U   \n",
       "2  C    FQ   E  NaN   A   C   F   AS   A   B   B   B   E   G    C    B    S   \n",
       "3  C  ACUE   D    C   B   C   H   BW   A   F   B   D   B   B    B    B    J   \n",
       "4  C   HIT   E  NaN   A   I   H  NaN   C   F   B   D   C   G    C    A    T   \n",
       "\n",
       "  v113 v125  \n",
       "0  NaN   AU  \n",
       "1    G   AF  \n",
       "2  NaN   AE  \n",
       "3  NaN   CJ  \n",
       "4    G    Z  "
      ]
     },
     "execution_count": 8,
     "metadata": {},
     "output_type": "execute_result"
    }
   ],
   "source": [
    "df_obj.head()"
   ]
  },
  {
   "cell_type": "markdown",
   "metadata": {},
   "source": [
    "#### There are 6 columns with interger values. If we drop the ID and the target column, there are four columns that contain integer values."
   ]
  },
  {
   "cell_type": "code",
   "execution_count": 43,
   "metadata": {
    "collapsed": false
   },
   "outputs": [
    {
     "name": "stdout",
     "output_type": "stream",
     "text": [
      "Index([u'ID', u'target', u'v38', u'v62', u'v72', u'v129'], dtype='object')\n",
      "(114321, 6)\n"
     ]
    }
   ],
   "source": [
    "df_int = train1.ix[:, train1.dtypes == np.int]\n",
    "print df_int.columns\n",
    "print df_int.shape"
   ]
  },
  {
   "cell_type": "code",
   "execution_count": 6,
   "metadata": {
    "collapsed": false
   },
   "outputs": [
    {
     "data": {
      "text/plain": [
       "<matplotlib.axes._subplots.AxesSubplot at 0x115d7bd50>"
      ]
     },
     "execution_count": 6,
     "metadata": {},
     "output_type": "execute_result"
    },
    {
     "data": {
      "image/png": "[encoded data removed]",
      "text/plain": [
       "<matplotlib.figure.Figure at 0x115ce1b90>"
      ]
     },
     "metadata": {},
     "output_type": "display_data"
    }
   ],
   "source": [
    "%matplotlib inline\n",
    "import matplotlib.pyplot as plt\n",
    "\n",
    "train1.plot(x='v8', y='target', kind='scatter', color='dodgerblue', figsize=(7,4))"
   ]
  },
  {
   "cell_type": "code",
   "execution_count": 9,
   "metadata": {
    "collapsed": false
   },
   "outputs": [
    {
     "data": {
      "image/png": "[encoded data removed]",
      "text/plain": [
       "<matplotlib.figure.Figure at 0x11b1abcd0>"
      ]
     },
     "metadata": {},
     "output_type": "display_data"
    },
    {
     "data": {
      "image/png": "[encoded data removed]",
      "text/plain": [
       "<matplotlib.figure.Figure at 0x11b27b250>"
      ]
     },
     "metadata": {},
     "output_type": "display_data"
    },
    {
     "data": {
      "image/png": "[encoded data removed]",
      "text/plain": [
       "<matplotlib.figure.Figure at 0x11c1ad610>"
      ]
     },
     "metadata": {},
     "output_type": "display_data"
    },
    {
     "data": {
      "image/png": "[encoded data removed]",
      "text/plain": [
       "<matplotlib.figure.Figure at 0x11c1b6b50>"
      ]
     },
     "metadata": {},
     "output_type": "display_data"
    },
    {
     "data": {
      "image/png": "[encoded data removed]",
      "text/plain": [
       "<matplotlib.figure.Figure at 0x11b483990>"
      ]
     },
     "metadata": {},
     "output_type": "display_data"
    },
    {
     "data": {
      "image/png": "[encoded data removed]",
      "text/plain": [
       "<matplotlib.figure.Figure at 0x11b4a0e50>"
      ]
     },
     "metadata": {},
     "output_type": "display_data"
    },
    {
     "data": {
      "image/png": "[encoded data removed]",
      "text/plain": [
       "<matplotlib.figure.Figure at 0x11dc086d0>"
      ]
     },
     "metadata": {},
     "output_type": "display_data"
    }
   ],
   "source": [
    "%matplotlib inline\n",
    "import seaborn as sns\n",
    "from matplotlib import pyplot as plt\n",
    "names = [\"v23\", \"v25\", \"v36\", \"v37\", \"v46\", \"v51\", \"v53\"]\n",
    "\n",
    "for name in names:\n",
    "    train1.plot.scatter(x=name, y=\"target\")"
   ]
  },
  {
   "cell_type": "code",
   "execution_count": 27,
   "metadata": {
    "collapsed": false
   },
   "outputs": [
    {
     "data": {
      "text/plain": [
       "<matplotlib.axes._subplots.AxesSubplot at 0x11ddb9250>"
      ]
     },
     "execution_count": 27,
     "metadata": {},
     "output_type": "execute_result"
    },
    {
     "data": {
      "image/png": "[encoded data removed]",
      "text/plain": [
       "<matplotlib.figure.Figure at 0x117a0e650>"
      ]
     },
     "metadata": {},
     "output_type": "display_data"
    }
   ],
   "source": [
    "train1.plot(x='v10', y='v12', kind='scatter', color='dodgerblue', figsize=(7,4))"
   ]
  },
  {
   "cell_type": "code",
   "execution_count": 28,
   "metadata": {
    "collapsed": false
   },
   "outputs": [
    {
     "data": {
      "text/plain": [
       "<matplotlib.axes._subplots.AxesSubplot at 0x11b557810>"
      ]
     },
     "execution_count": 28,
     "metadata": {},
     "output_type": "execute_result"
    },
    {
     "data": {
      "image/png": "[encoded data removed]",
      "text/plain": [
       "<matplotlib.figure.Figure at 0x11b521910>"
      ]
     },
     "metadata": {},
     "output_type": "display_data"
    }
   ],
   "source": [
    "train1.plot(x='v10', y='v34', kind='scatter', color='dodgerblue', figsize=(7,4))"
   ]
  },
  {
   "cell_type": "code",
   "execution_count": 118,
   "metadata": {
    "collapsed": false
   },
   "outputs": [
    {
     "data": {
      "text/plain": [
       "0          7.270147\n",
       "1          3.615077\n",
       "2          4.043864\n",
       "3          8.703550\n",
       "4          6.083151\n",
       "5          7.496613\n",
       "6          3.964911\n",
       "7         11.077506\n",
       "8          6.952621\n",
       "9          6.498729\n",
       "10         3.004667\n",
       "11         5.125236\n",
       "12         6.796169\n",
       "13         5.090793\n",
       "14         4.603706\n",
       "15         2.156773\n",
       "16         2.038716\n",
       "17         6.537548\n",
       "18         8.565451\n",
       "19         7.804670\n",
       "20         7.400170\n",
       "21         9.149136\n",
       "22         6.432395\n",
       "23         9.177408\n",
       "24         8.081658\n",
       "25         6.568655\n",
       "26         5.813511\n",
       "27         7.206766\n",
       "28         4.682411\n",
       "29         7.243918\n",
       "            ...    \n",
       "114291     6.882417\n",
       "114292     4.665022\n",
       "114293     5.777855\n",
       "114294     5.357811\n",
       "114295     5.164645\n",
       "114296     6.577233\n",
       "114297     3.928776\n",
       "114298     5.913757\n",
       "114299     7.169265\n",
       "114300     4.604742\n",
       "114301     5.708103\n",
       "114302     6.912846\n",
       "114303     4.984705\n",
       "114304     5.234451\n",
       "114305     7.583298\n",
       "114306     7.635171\n",
       "114307     8.674333\n",
       "114308     5.169319\n",
       "114309     8.545732\n",
       "114310     5.657713\n",
       "114311     9.032249\n",
       "114312     8.504794\n",
       "114313     6.937660\n",
       "114314     5.803023\n",
       "114315     8.172110\n",
       "114316     7.281489\n",
       "114317     6.721720\n",
       "114318     3.029508\n",
       "114319     5.089198\n",
       "114320     6.533439\n",
       "Name: v34, dtype: float64"
      ]
     },
     "execution_count": 118,
     "metadata": {},
     "output_type": "execute_result"
    }
   ],
   "source": [
    "\n",
    "train1['v34']"
   ]
  },
  {
   "cell_type": "code",
   "execution_count": 25,
   "metadata": {
    "collapsed": false
   },
   "outputs": [
    {
     "data": {
      "text/plain": [
       "0         0.899420\n",
       "1         1.379210\n",
       "2         0.604504\n",
       "3         3.329176\n",
       "4         1.364536\n",
       "5         1.653583\n",
       "6         0.133520\n",
       "7         2.682121\n",
       "8         1.675592\n",
       "9         0.993324\n",
       "10        1.323454\n",
       "11        2.243416\n",
       "12        0.325729\n",
       "13        3.219132\n",
       "14        0.416698\n",
       "15        1.599296\n",
       "16        1.317584\n",
       "17        1.115105\n",
       "18        1.153254\n",
       "19        1.156189\n",
       "20        6.724379\n",
       "21        1.798841\n",
       "22        0.118846\n",
       "23        1.236886\n",
       "24        1.232485\n",
       "25        3.358522\n",
       "26        1.776833\n",
       "27        1.191401\n",
       "28        1.131245\n",
       "29        0.820188\n",
       "            ...   \n",
       "114291    2.508988\n",
       "114292    0.790844\n",
       "114293    2.177389\n",
       "114294    3.445089\n",
       "114295    3.954222\n",
       "114296    1.844326\n",
       "114297    1.812045\n",
       "114298    1.649181\n",
       "114299    4.940210\n",
       "114300    0.782041\n",
       "114301    1.823783\n",
       "114302    3.283691\n",
       "114303    2.576480\n",
       "114304    0.390287\n",
       "114305    3.208862\n",
       "114306    2.026263\n",
       "114307    0.707211\n",
       "114308    1.053480\n",
       "114309    1.355734\n",
       "114310    2.162716\n",
       "114311    1.897146\n",
       "114312    3.054801\n",
       "114313    2.893404\n",
       "114314    0.359475\n",
       "114315    1.175263\n",
       "114316    2.035067\n",
       "114317    3.269020\n",
       "114318    2.410681\n",
       "114319    0.821657\n",
       "114320    1.000661\n",
       "Name: v50, dtype: float64"
      ]
     },
     "execution_count": 25,
     "metadata": {},
     "output_type": "execute_result"
    }
   ],
   "source": [
    "train1['v50']"
   ]
  },
  {
   "cell_type": "code",
   "execution_count": 12,
   "metadata": {
    "collapsed": false
   },
   "outputs": [
    {
     "data": {
      "image/png": "[encoded data removed]",
      "text/plain": [
       "<matplotlib.figure.Figure at 0x11b4b3e10>"
      ]
     },
     "metadata": {},
     "output_type": "display_data"
    },
    {
     "data": {
      "image/png": "[encoded data removed]",
      "text/plain": [
       "<matplotlib.figure.Figure at 0x1144190d0>"
      ]
     },
     "metadata": {},
     "output_type": "display_data"
    },
    {
     "data": {
      "image/png": "[encoded data removed]",
      "text/plain": [
       "<matplotlib.figure.Figure at 0x11df634d0>"
      ]
     },
     "metadata": {},
     "output_type": "display_data"
    },
    {
     "data": {
      "image/png": "[encoded data removed]",
      "text/plain": [
       "<matplotlib.figure.Figure at 0x11eec1c10>"
      ]
     },
     "metadata": {},
     "output_type": "display_data"
    },
    {
     "data": {
      "image/png": "[encoded data removed]",
      "text/plain": [
       "<matplotlib.figure.Figure at 0x11dcdde10>"
      ]
     },
     "metadata": {},
     "output_type": "display_data"
    },
    {
     "data": {
      "image/png": "[encoded data removed]",
      "text/plain": [
       "<matplotlib.figure.Figure at 0x11dd39710>"
      ]
     },
     "metadata": {},
     "output_type": "display_data"
    },
    {
     "data": {
      "image/png": "[encoded data removed]",
      "text/plain": [
       "<matplotlib.figure.Figure at 0x11dc08610>"
      ]
     },
     "metadata": {},
     "output_type": "display_data"
    }
   ],
   "source": [
    "%matplotlib inline\n",
    "import seaborn as sns\n",
    "from matplotlib import pyplot as plt\n",
    "names = [\"v2\", \"v4\", \"v20\", \"v40\", \"v50\", \"v98\", \"v100\"]\n",
    "\n",
    "for name in names:\n",
    "    train1.plot.scatter(x=name, y=\"target\")"
   ]
  },
  {
   "cell_type": "code",
   "execution_count": 13,
   "metadata": {
    "collapsed": false
   },
   "outputs": [
    {
     "data": {
      "text/plain": [
       "<matplotlib.axes._subplots.AxesSubplot at 0x11ddd3210>"
      ]
     },
     "execution_count": 13,
     "metadata": {},
     "output_type": "execute_result"
    },
    {
     "data": {
      "image/png": "[encoded data removed]",
      "text/plain": [
       "<matplotlib.figure.Figure at 0x11ddb9310>"
      ]
     },
     "metadata": {},
     "output_type": "display_data"
    }
   ],
   "source": [
    "train1['v2'].hist()"
   ]
  },
  {
   "cell_type": "code",
   "execution_count": 14,
   "metadata": {
    "collapsed": false
   },
   "outputs": [
    {
     "data": {
      "text/plain": [
       "<matplotlib.axes._subplots.AxesSubplot at 0x114d7e650>"
      ]
     },
     "execution_count": 14,
     "metadata": {},
     "output_type": "execute_result"
    },
    {
     "data": {
      "image/png": "[encoded data removed]",
      "text/plain": [
       "<matplotlib.figure.Figure at 0x11b2bb5d0>"
      ]
     },
     "metadata": {},
     "output_type": "display_data"
    }
   ],
   "source": [
    "train1['v23'].hist()"
   ]
  },
  {
   "cell_type": "code",
   "execution_count": 15,
   "metadata": {
    "collapsed": false
   },
   "outputs": [
    {
     "data": {
      "text/plain": [
       "<matplotlib.axes._subplots.AxesSubplot at 0x11b218dd0>"
      ]
     },
     "execution_count": 15,
     "metadata": {},
     "output_type": "execute_result"
    },
    {
     "data": {
      "image/png": "[encoded data removed]",
      "text/plain": [
       "<matplotlib.figure.Figure at 0x11c4b91d0>"
      ]
     },
     "metadata": {},
     "output_type": "display_data"
    }
   ],
   "source": [
    "train1['v25'].hist()"
   ]
  },
  {
   "cell_type": "code",
   "execution_count": 17,
   "metadata": {
    "collapsed": false
   },
   "outputs": [
    {
     "data": {
      "text/plain": [
       "<matplotlib.axes._subplots.AxesSubplot at 0x11c4444d0>"
      ]
     },
     "execution_count": 17,
     "metadata": {},
     "output_type": "execute_result"
    },
    {
     "data": {
      "image/png": "[encoded data removed]",
      "text/plain": [
       "<matplotlib.figure.Figure at 0x11c423f10>"
      ]
     },
     "metadata": {},
     "output_type": "display_data"
    }
   ],
   "source": [
    "train1['v36'].hist()"
   ]
  },
  {
   "cell_type": "code",
   "execution_count": 18,
   "metadata": {
    "collapsed": false
   },
   "outputs": [
    {
     "data": {
      "text/plain": [
       "<matplotlib.axes._subplots.AxesSubplot at 0x11c450090>"
      ]
     },
     "execution_count": 18,
     "metadata": {},
     "output_type": "execute_result"
    },
    {
     "data": {
      "image/png": "[encoded data removed]",
      "text/plain": [
       "<matplotlib.figure.Figure at 0x117749cd0>"
      ]
     },
     "metadata": {},
     "output_type": "display_data"
    }
   ],
   "source": [
    "train1['v53'].hist()"
   ]
  },
  {
   "cell_type": "code",
   "execution_count": 19,
   "metadata": {
    "collapsed": false
   },
   "outputs": [
    {
     "data": {
      "text/plain": [
       "<matplotlib.axes._subplots.AxesSubplot at 0x11b2a1b50>"
      ]
     },
     "execution_count": 19,
     "metadata": {},
     "output_type": "execute_result"
    },
    {
     "data": {
      "image/png": "[encoded data removed]",
      "text/plain": [
       "<matplotlib.figure.Figure at 0x1163c4c10>"
      ]
     },
     "metadata": {},
     "output_type": "display_data"
    }
   ],
   "source": [
    "train1['v51'].hist()"
   ]
  },
  {
   "cell_type": "code",
   "execution_count": 20,
   "metadata": {
    "collapsed": false
   },
   "outputs": [
    {
     "data": {
      "text/plain": [
       "<matplotlib.axes._subplots.AxesSubplot at 0x1163c4f50>"
      ]
     },
     "execution_count": 20,
     "metadata": {},
     "output_type": "execute_result"
    },
    {
     "data": {
      "image/png": "[encoded data removed]",
      "text/plain": [
       "<matplotlib.figure.Figure at 0x117c91c10>"
      ]
     },
     "metadata": {},
     "output_type": "display_data"
    }
   ],
   "source": [
    "train1['v81'].hist()"
   ]
  },
  {
   "cell_type": "code",
   "execution_count": 21,
   "metadata": {
    "collapsed": false
   },
   "outputs": [
    {
     "data": {
      "text/plain": [
       "<matplotlib.axes._subplots.AxesSubplot at 0x11c316a10>"
      ]
     },
     "execution_count": 21,
     "metadata": {},
     "output_type": "execute_result"
    },
    {
     "data": {
      "image/png": "[encoded data removed]",
      "text/plain": [
       "<matplotlib.figure.Figure at 0x11c339a50>"
      ]
     },
     "metadata": {},
     "output_type": "display_data"
    }
   ],
   "source": [
    "train1['v100'].hist()"
   ]
  },
  {
   "cell_type": "code",
   "execution_count": 23,
   "metadata": {
    "collapsed": false
   },
   "outputs": [
    {
     "data": {
      "text/plain": [
       "<matplotlib.axes._subplots.AxesSubplot at 0x114907610>"
      ]
     },
     "execution_count": 23,
     "metadata": {},
     "output_type": "execute_result"
    },
    {
     "data": {
      "image/png": "[encoded data removed]",
      "text/plain": [
       "<matplotlib.figure.Figure at 0x11dde72d0>"
      ]
     },
     "metadata": {},
     "output_type": "display_data"
    }
   ],
   "source": [
    "train1['v40'].hist()"
   ]
  },
  {
   "cell_type": "markdown",
   "metadata": {},
   "source": [
    "## Defining the new target, train set and the test set"
   ]
  },
  {
   "cell_type": "code",
   "execution_count": 119,
   "metadata": {
    "collapsed": true
   },
   "outputs": [],
   "source": [
    "target = train1['target'].values"
   ]
  },
  {
   "cell_type": "code",
   "execution_count": 120,
   "metadata": {
    "collapsed": false
   },
   "outputs": [
    {
     "name": "stdout",
     "output_type": "stream",
     "text": [
      "[1 1 1 ..., 1 1 1]\n"
     ]
    }
   ],
   "source": [
    "print target"
   ]
  },
  {
   "cell_type": "code",
   "execution_count": 121,
   "metadata": {
    "collapsed": false
   },
   "outputs": [
    {
     "name": "stdout",
     "output_type": "stream",
     "text": [
      "87021\n"
     ]
    }
   ],
   "source": [
    "# Counting the number of 1 in the target\n",
    "print np.count_nonzero(target)"
   ]
  },
  {
   "cell_type": "code",
   "execution_count": 122,
   "metadata": {
    "collapsed": false
   },
   "outputs": [
    {
     "data": {
      "text/plain": [
       "0.761205388383485"
      ]
     },
     "execution_count": 122,
     "metadata": {},
     "output_type": "execute_result"
    }
   ],
   "source": [
    "# Calculating the percent of actual approvals\n",
    "87021/114320.0"
   ]
  },
  {
   "cell_type": "code",
   "execution_count": 123,
   "metadata": {
    "collapsed": false
   },
   "outputs": [
    {
     "name": "stdout",
     "output_type": "stream",
     "text": [
      "(114321, 131)\n"
     ]
    }
   ],
   "source": [
    "new_train = train1.drop(['ID','target'],axis=1)\n",
    "print new_train.shape"
   ]
  },
  {
   "cell_type": "code",
   "execution_count": 124,
   "metadata": {
    "collapsed": true
   },
   "outputs": [],
   "source": [
    "id_test = test1['ID'].values "
   ]
  },
  {
   "cell_type": "code",
   "execution_count": 125,
   "metadata": {
    "collapsed": false
   },
   "outputs": [
    {
     "name": "stdout",
     "output_type": "stream",
     "text": [
      "(114393, 131)\n"
     ]
    }
   ],
   "source": [
    "new_test = test1.drop(['ID'],axis=1)\n",
    "print new_test.shape"
   ]
  },
  {
   "cell_type": "markdown",
   "metadata": {},
   "source": [
    "## NaN Analysis"
   ]
  },
  {
   "cell_type": "code",
   "execution_count": 126,
   "metadata": {
    "collapsed": true
   },
   "outputs": [],
   "source": [
    "%matplotlib inline\n",
    "import matplotlib as mpl\n",
    "from sklearn.cluster import KMeans\n",
    "\n",
    "mpl.style.use('ggplot')\n"
   ]
  },
  {
   "cell_type": "code",
   "execution_count": 127,
   "metadata": {
    "collapsed": false
   },
   "outputs": [
    {
     "name": "stdout",
     "output_type": "stream",
     "text": [
      "      v1     v2     v3     v4     v5     v6     v7     v8     v9    v10  \\\n",
      "0  False  False  False  False  False  False  False  False  False  False   \n",
      "1   True   True  False   True  False   True   True  False   True  False   \n",
      "2  False  False  False  False  False  False  False  False  False  False   \n",
      "\n",
      "   ...     v122   v123   v124   v125   v126   v127   v128   v129   v130   v131  \n",
      "0  ...    False  False  False  False  False  False  False  False  False  False  \n",
      "1  ...     True   True  False  False   True   True  False  False   True   True  \n",
      "2  ...    False  False  False  False  False  False  False  False  False  False  \n",
      "\n",
      "[3 rows x 131 columns]\n"
     ]
    }
   ],
   "source": [
    "df=pd.isnull(new_train)\n",
    "print df.head(3)"
   ]
  },
  {
   "cell_type": "code",
   "execution_count": 128,
   "metadata": {
    "collapsed": false
   },
   "outputs": [
    {
     "name": "stdout",
     "output_type": "stream",
     "text": [
      "   v1  v2  v3  v4  v5  v6  v7  v8  v9  v10  ...   v122  v123  v124  v125  \\\n",
      "0   0   0   0   0   0   0   0   0   0    0  ...      0     0     0     0   \n",
      "1   1   1   0   1   0   1   1   0   1    0  ...      1     1     0     0   \n",
      "2   0   0   0   0   0   0   0   0   0    0  ...      0     0     0     0   \n",
      "\n",
      "   v126  v127  v128  v129  v130  v131  \n",
      "0     0     0     0     0     0     0  \n",
      "1     1     1     0     0     1     1  \n",
      "2     0     0     0     0     0     0  \n",
      "\n",
      "[3 rows x 131 columns]\n"
     ]
    }
   ],
   "source": [
    "df=pd.isnull(new_train).astype(int)\n",
    "print df.head(3)"
   ]
  },
  {
   "cell_type": "code",
   "execution_count": 129,
   "metadata": {
    "collapsed": false
   },
   "outputs": [
    {
     "data": {
      "text/plain": [
       "v1      49832\n",
       "v2      49796\n",
       "v3       3457\n",
       "v4      49796\n",
       "v5      48624\n",
       "v6      49832\n",
       "v7      49832\n",
       "v8      48619\n",
       "v9      49851\n",
       "v10        84\n",
       "v11     49836\n",
       "v12        86\n",
       "v13     49832\n",
       "v14         4\n",
       "v15     49836\n",
       "v16     49895\n",
       "v17     49796\n",
       "v18     49832\n",
       "v19     49843\n",
       "v20     49840\n",
       "v21       611\n",
       "v22       500\n",
       "v23     50675\n",
       "v24         0\n",
       "v25     48619\n",
       "v26     49832\n",
       "v27     49832\n",
       "v28     49832\n",
       "v29     49832\n",
       "v30     60110\n",
       "        ...  \n",
       "v102    51316\n",
       "v103    49832\n",
       "v104    49832\n",
       "v105    48658\n",
       "v106    49796\n",
       "v107        3\n",
       "v108    48624\n",
       "v109    48624\n",
       "v110        0\n",
       "v111    49832\n",
       "v112      382\n",
       "v113    55304\n",
       "v114       30\n",
       "v115    49895\n",
       "v116    49836\n",
       "v117    48624\n",
       "v118    49843\n",
       "v119    50680\n",
       "v120    49836\n",
       "v121    49840\n",
       "v122    49851\n",
       "v123    50678\n",
       "v124    48619\n",
       "v125       77\n",
       "v126    49832\n",
       "v127    49832\n",
       "v128    48624\n",
       "v129        0\n",
       "v130    49843\n",
       "v131    49895\n",
       "dtype: int64"
      ]
     },
     "execution_count": 129,
     "metadata": {},
     "output_type": "execute_result"
    }
   ],
   "source": [
    "\n",
    "df.sum(axis=0)"
   ]
  },
  {
   "cell_type": "code",
   "execution_count": 57,
   "metadata": {
    "collapsed": false
   },
   "outputs": [
    {
     "data": {
      "text/plain": [
       "v30     60110\n",
       "v113    55304\n",
       "v102    51316\n",
       "v85     50682\n",
       "v119    50680\n",
       "v51     50678\n",
       "v123    50678\n",
       "v23     50675\n",
       "v131    49895\n",
       "v78     49895\n",
       "v115    49895\n",
       "v16     49895\n",
       "v69     49895\n",
       "v9      49851\n",
       "v122    49851\n",
       "v80     49851\n",
       "v130    49843\n",
       "v92     49843\n",
       "v95     49843\n",
       "v97     49843\n",
       "v37     49843\n",
       "v118    49843\n",
       "v19     49843\n",
       "v20     49840\n",
       "v65     49840\n",
       "v121    49840\n",
       "v39     49836\n",
       "v90     49836\n",
       "v116    49836\n",
       "v43     49836\n",
       "        ...  \n",
       "v54     48619\n",
       "v56      6882\n",
       "v3       3457\n",
       "v31      3457\n",
       "v21       611\n",
       "v22       500\n",
       "v112      382\n",
       "v40       111\n",
       "v34       111\n",
       "v50        86\n",
       "v12        86\n",
       "v10        84\n",
       "v125       77\n",
       "v114       30\n",
       "v14         4\n",
       "v52         3\n",
       "v107        3\n",
       "v91         3\n",
       "v129        0\n",
       "v74         0\n",
       "v110        0\n",
       "v24         0\n",
       "v72         0\n",
       "v38         0\n",
       "v47         0\n",
       "v62         0\n",
       "v79         0\n",
       "v75         0\n",
       "v71         0\n",
       "v66         0\n",
       "dtype: int64"
      ]
     },
     "execution_count": 57,
     "metadata": {},
     "output_type": "execute_result"
    }
   ],
   "source": [
    "df.sum(axis=0).sort_values(axis=0, ascending=False)"
   ]
  },
  {
   "cell_type": "code",
   "execution_count": 59,
   "metadata": {
    "collapsed": false
   },
   "outputs": [
    {
     "name": "stdout",
     "output_type": "stream",
     "text": [
      "   v30  v113  v102  v85  v119  v51  v123  v23  v131  v78 ...   v79  v62  v47  \\\n",
      "0    0     1     0    0     0    0     0    0     0    0 ...     0    0    0   \n",
      "1    0     0     1    1     1    1     1    1     1    1 ...     0    0    0   \n",
      "2    1     1     0    0     0    0     0    0     0    0 ...     0    0    0   \n",
      "\n",
      "   v71  v72  v24  v110  v74  v129  v66  \n",
      "0    0    0    0     0    0     0    0  \n",
      "1    0    0    0     0    0     0    0  \n",
      "2    0    0    0     0    0     0    0  \n",
      "\n",
      "[3 rows x 131 columns]\n"
     ]
    }
   ],
   "source": [
    "df=df[df.sum(axis=0).sort_values(axis=0, ascending=False).index]\n",
    "print df.head(3)"
   ]
  },
  {
   "cell_type": "code",
   "execution_count": 60,
   "metadata": {
    "collapsed": false
   },
   "outputs": [
    {
     "data": {
      "image/png": "[encoded data removed]",
      "text/plain": [
       "<matplotlib.figure.Figure at 0x1192a0d90>"
      ]
     },
     "metadata": {},
     "output_type": "display_data"
    }
   ],
   "source": [
    "#distribution of NA by column\n",
    "fig, ax = plt.subplots(figsize=(13, 7))\n",
    "ax.grid(False)\n",
    "bar = ax.bar(range(len(df.columns)),df.sum(axis=0).values)\n",
    "plt.xticks(0.5+np.arange(len(df.columns)), df.columns, fontsize=8,rotation=90)\n",
    "plt.axis('tight')\n",
    "plt.tight_layout()"
   ]
  },
  {
   "cell_type": "code",
   "execution_count": 11,
   "metadata": {
    "collapsed": true
   },
   "outputs": [],
   "source": []
  },
  {
   "cell_type": "code",
   "execution_count": null,
   "metadata": {
    "collapsed": true
   },
   "outputs": [],
   "source": []
  },
  {
   "cell_type": "markdown",
   "metadata": {
    "collapsed": false
   },
   "source": [
    "## Extra Tree Classifier with all variables included"
   ]
  },
  {
   "cell_type": "code",
   "execution_count": 134,
   "metadata": {
    "collapsed": false
   },
   "outputs": [],
   "source": [
    "for (train_name, train_series), (test_name, test_series) in zip(new_train.iteritems(),new_test.iteritems()):\n",
    "    if train_series.dtype == 'O':\n",
    "        #for objects: factorize\n",
    "        new_train[train_name], tmp_indexer = pd.factorize(new_train[train_name])\n",
    "        new_test[test_name] = tmp_indexer.get_indexer(new_test[test_name])\n",
    "        \n",
    "    else:\n",
    "        #fill in for NaN\n",
    "        tmp_len = len(new_train[train_series.isnull()])\n",
    "        if tmp_len>0:\n",
    "            #print \"mean\", train_series.mean()\n",
    "            new_train.loc[train_series.isnull(), train_name] = 999 \n",
    "        #and Test\n",
    "        tmp_len = len(new_test[test_series.isnull()])\n",
    "        if tmp_len>0:\n",
    "            new_test.loc[test_series.isnull(), test_name] = 999"
   ]
  },
  {
   "cell_type": "code",
   "execution_count": 135,
   "metadata": {
    "collapsed": false
   },
   "outputs": [
    {
     "name": "stdout",
     "output_type": "stream",
     "text": [
      "<class 'pandas.core.frame.DataFrame'>\n",
      "RangeIndex: 114393 entries, 0 to 114392\n",
      "Columns: 131 entries, v1 to v131\n",
      "dtypes: float64(108), int64(23)\n",
      "memory usage: 114.3 MB\n"
     ]
    }
   ],
   "source": [
    "new_test.info()"
   ]
  },
  {
   "cell_type": "code",
   "execution_count": 136,
   "metadata": {
    "collapsed": false
   },
   "outputs": [
    {
     "name": "stdout",
     "output_type": "stream",
     "text": [
      "<class 'pandas.core.frame.DataFrame'>\n",
      "RangeIndex: 114321 entries, 0 to 114320\n",
      "Columns: 131 entries, v1 to v131\n",
      "dtypes: float64(108), int64(23)\n",
      "memory usage: 114.3 MB\n"
     ]
    }
   ],
   "source": [
    "new_train.info()"
   ]
  },
  {
   "cell_type": "code",
   "execution_count": 89,
   "metadata": {
    "collapsed": false
   },
   "outputs": [
    {
     "data": {
      "text/plain": [
       "ExtraTreesClassifier(bootstrap=False, class_weight=None, criterion='gini',\n",
       "           max_depth=None, max_features='auto', max_leaf_nodes=None,\n",
       "           min_samples_leaf=1, min_samples_split=2,\n",
       "           min_weight_fraction_leaf=0.0, n_estimators=10, n_jobs=1,\n",
       "           oob_score=False, random_state=None, verbose=0, warm_start=False)"
      ]
     },
     "execution_count": 89,
     "metadata": {},
     "output_type": "execute_result"
    }
   ],
   "source": [
    "X_train = new_train\n",
    "extc = ExtraTreesClassifier() \n",
    "extc.fit(X_train,target)"
   ]
  },
  {
   "cell_type": "code",
   "execution_count": 90,
   "metadata": {
    "collapsed": false
   },
   "outputs": [
    {
     "name": "stdout",
     "output_type": "stream",
     "text": [
      "[1 1 1 ..., 1 1 1]\n"
     ]
    }
   ],
   "source": [
    "# Find the predicted target values on the train data \n",
    "predicted1 = extc.predict(X_train)\n",
    "print predicted1"
   ]
  },
  {
   "cell_type": "code",
   "execution_count": 91,
   "metadata": {
    "collapsed": false
   },
   "outputs": [
    {
     "data": {
      "text/plain": [
       "87021"
      ]
     },
     "execution_count": 91,
     "metadata": {},
     "output_type": "execute_result"
    }
   ],
   "source": [
    "#number of approvals in the train set\n",
    "np.count_nonzero(predicted1)"
   ]
  },
  {
   "cell_type": "code",
   "execution_count": 92,
   "metadata": {
    "collapsed": false
   },
   "outputs": [
    {
     "data": {
      "text/plain": [
       "0.761205388383485"
      ]
     },
     "execution_count": 92,
     "metadata": {},
     "output_type": "execute_result"
    }
   ],
   "source": [
    "# Calculated percent approval in the train set\n",
    "87021/114320.0"
   ]
  },
  {
   "cell_type": "code",
   "execution_count": 95,
   "metadata": {
    "collapsed": false
   },
   "outputs": [
    {
     "name": "stdout",
     "output_type": "stream",
     "text": [
      "[[ 0.  1.]\n",
      " [ 0.  1.]\n",
      " [ 0.  1.]\n",
      " ..., \n",
      " [ 0.  1.]\n",
      " [ 0.  1.]\n",
      " [ 0.  1.]]\n"
     ]
    }
   ],
   "source": [
    "#calculating the probability-pred in the train set\n",
    "\n",
    "X_train = new_train\n",
    "y_pred_train = extc.predict_proba(X_train)\n",
    "print y_pred_train"
   ]
  },
  {
   "cell_type": "code",
   "execution_count": 40,
   "metadata": {
    "collapsed": false
   },
   "outputs": [
    {
     "name": "stdout",
     "output_type": "stream",
     "text": [
      "[ 0.  1.]\n"
     ]
    }
   ],
   "source": [
    "print y_pred_train[7]"
   ]
  },
  {
   "cell_type": "code",
   "execution_count": 96,
   "metadata": {
    "collapsed": false
   },
   "outputs": [
    {
     "data": {
      "text/plain": [
       "9.9920072216264108e-16"
      ]
     },
     "execution_count": 96,
     "metadata": {},
     "output_type": "execute_result"
    }
   ],
   "source": [
    "from sklearn.metrics import log_loss\n",
    "\n",
    "log_loss(target, predicted1) "
   ]
  },
  {
   "cell_type": "code",
   "execution_count": 97,
   "metadata": {
    "collapsed": true
   },
   "outputs": [],
   "source": [
    "pd.DataFrame({\"ID\": id_test, \"PredictedProb\": y_pred[:,1]}).to_csv('extra_trees_new_train.csv',index=False)"
   ]
  },
  {
   "cell_type": "code",
   "execution_count": 130,
   "metadata": {
    "collapsed": false
   },
   "outputs": [
    {
     "data": {
      "text/plain": [
       "(114393, 131)"
      ]
     },
     "execution_count": 130,
     "metadata": {},
     "output_type": "execute_result"
    }
   ],
   "source": [
    "new_test.shape"
   ]
  },
  {
   "cell_type": "code",
   "execution_count": 137,
   "metadata": {
    "collapsed": false
   },
   "outputs": [
    {
     "name": "stdout",
     "output_type": "stream",
     "text": [
      "[[ 0.1  0.9]\n",
      " [ 0.1  0.9]\n",
      " [ 0.5  0.5]\n",
      " ..., \n",
      " [ 0.4  0.6]\n",
      " [ 0.   1. ]\n",
      " [ 0.4  0.6]]\n"
     ]
    }
   ],
   "source": [
    "# Predict using the model on the test set\n",
    "\n",
    "X_test = new_test\n",
    "y_pred = extc.predict_proba(X_test)\n",
    "print y_pred"
   ]
  },
  {
   "cell_type": "code",
   "execution_count": 138,
   "metadata": {
    "collapsed": false
   },
   "outputs": [
    {
     "name": "stdout",
     "output_type": "stream",
     "text": [
      "[1 1 0 ..., 1 1 1]\n"
     ]
    }
   ],
   "source": [
    "# Find the predicted target values on the test data \n",
    "\n",
    "predicted_test1 = extc.predict(X_test)\n",
    "print predicted_test1"
   ]
  },
  {
   "cell_type": "code",
   "execution_count": 139,
   "metadata": {
    "collapsed": false
   },
   "outputs": [
    {
     "data": {
      "text/plain": [
       "96280"
      ]
     },
     "execution_count": 139,
     "metadata": {},
     "output_type": "execute_result"
    }
   ],
   "source": [
    "#number of approvals in the test set\n",
    "np.count_nonzero(predicted_test1)"
   ]
  },
  {
   "cell_type": "code",
   "execution_count": 140,
   "metadata": {
    "collapsed": false
   },
   "outputs": [
    {
     "data": {
      "text/plain": [
       "0.8416598917765947"
      ]
     },
     "execution_count": 140,
     "metadata": {},
     "output_type": "execute_result"
    }
   ],
   "source": [
    "#percent approval in the test set\n",
    "96280/114393.0"
   ]
  },
  {
   "cell_type": "markdown",
   "metadata": {},
   "source": [
    "The model predicts that the percent approval in train set as 76% and the percent approval in the test set at 84%."
   ]
  },
  {
   "cell_type": "markdown",
   "metadata": {
    "collapsed": true
   },
   "source": [
    "## Using Cross Validation on the model"
   ]
  },
  {
   "cell_type": "code",
   "execution_count": 71,
   "metadata": {
    "collapsed": false
   },
   "outputs": [
    {
     "name": "stdout",
     "output_type": "stream",
     "text": [
      "[ 0.75028426  0.75411127  0.748338    0.75787264  0.7520119   0.75341148\n",
      "  0.75061232  0.7569979   0.75218684  0.75104969]\n",
      "0.752687628724\n"
     ]
    }
   ],
   "source": [
    "from sklearn.cross_validation import KFold, cross_val_score,cross_val_predict\n",
    "from sklearn.grid_search import GridSearchCV\n",
    "from sklearn.metrics import mean_squared_error\n",
    "\n",
    "\n",
    "scores = cross_val_score(extc, X_train, target, cv = 10)\n",
    "print scores\n",
    "print scores.mean()"
   ]
  },
  {
   "cell_type": "markdown",
   "metadata": {
    "collapsed": false
   },
   "source": []
  },
  {
   "cell_type": "markdown",
   "metadata": {},
   "source": [
    "## Extra-tree classifier with a few specific parameters in the classifier"
   ]
  },
  {
   "cell_type": "code",
   "execution_count": 141,
   "metadata": {
    "collapsed": true
   },
   "outputs": [],
   "source": [
    "#extra tree data latest\n",
    "for (train_name, train_series), (test_name, test_series) in zip(new_train.iteritems(),new_test.iteritems()):\n",
    "    if train_series.dtype == 'O':\n",
    "        #for objects: factorize\n",
    "        new_train[train_name], tmp_indexer = pd.factorize(new_train[train_name])\n",
    "        new_test[test_name] = tmp_indexer.get_indexer(new_test[test_name])\n",
    "        \n",
    "    else:\n",
    "        #for int or float: fill NaN\n",
    "        tmp_len = len(new_train[train_series.isnull()])\n",
    "        if tmp_len>0:\n",
    "            #print \"mean\", train_series.mean()\n",
    "            new_train.loc[train_series.isnull(), train_name] = -997 \n",
    "        #and Test\n",
    "        tmp_len = len(new_test[test_series.isnull()])\n",
    "        if tmp_len>0:\n",
    "            new_test.loc[test_series.isnull(), test_name] = -997"
   ]
  },
  {
   "cell_type": "code",
   "execution_count": 42,
   "metadata": {
    "collapsed": false
   },
   "outputs": [
    {
     "data": {
      "text/plain": [
       "ExtraTreesClassifier(bootstrap=False, class_weight=None, criterion='entropy',\n",
       "           max_depth=40, max_features=60, max_leaf_nodes=None,\n",
       "           min_samples_leaf=2, min_samples_split=4,\n",
       "           min_weight_fraction_leaf=0.0, n_estimators=851, n_jobs=-1,\n",
       "           oob_score=False, random_state=None, verbose=0, warm_start=False)"
      ]
     },
     "execution_count": 42,
     "metadata": {},
     "output_type": "execute_result"
    }
   ],
   "source": [
    "# training the model-latest\n",
    "from sklearn.ensemble import ExtraTreesClassifier\n",
    "\n",
    "X_train = new_train\n",
    "model = ExtraTreesClassifier(n_estimators = 851, max_features = 60, criterion = 'entropy', min_samples_split = 4,\n",
    "                            max_depth = 40, min_samples_leaf = 2, n_jobs = -1) \n",
    "\n",
    "model.fit(X_train,target)"
   ]
  },
  {
   "cell_type": "code",
   "execution_count": 63,
   "metadata": {
    "collapsed": false
   },
   "outputs": [
    {
     "name": "stdout",
     "output_type": "stream",
     "text": [
      "[1 1 1 ..., 1 1 1]\n"
     ]
    }
   ],
   "source": [
    "# Find the predicted target values on the train data \n",
    "predicted2 = model.predict(X_train)\n",
    "print predicted2"
   ]
  },
  {
   "cell_type": "code",
   "execution_count": 64,
   "metadata": {
    "collapsed": false
   },
   "outputs": [
    {
     "data": {
      "text/plain": [
       "87024"
      ]
     },
     "execution_count": 64,
     "metadata": {},
     "output_type": "execute_result"
    }
   ],
   "source": [
    "#number of approvals in the test set\n",
    "np.count_nonzero(predicted2)"
   ]
  },
  {
   "cell_type": "code",
   "execution_count": 65,
   "metadata": {
    "collapsed": false
   },
   "outputs": [
    {
     "data": {
      "text/plain": [
       "0.7612316305108467"
      ]
     },
     "execution_count": 65,
     "metadata": {},
     "output_type": "execute_result"
    }
   ],
   "source": [
    "# Calculated percent approval in the train set\n",
    "87024/114320.0"
   ]
  },
  {
   "cell_type": "code",
   "execution_count": 142,
   "metadata": {
    "collapsed": false
   },
   "outputs": [
    {
     "name": "stdout",
     "output_type": "stream",
     "text": [
      "[[ 0.02325864  0.97674136]\n",
      " [ 0.05003917  0.94996083]\n",
      " [ 0.04426165  0.95573835]\n",
      " ..., \n",
      " [ 0.00802977  0.99197023]\n",
      " [ 0.0427816   0.9572184 ]\n",
      " [ 0.01505232  0.98494768]]\n"
     ]
    }
   ],
   "source": [
    "#calculating the y-pred in the train set\n",
    "\n",
    "X_train = new_train\n",
    "y_pred_train1 = model.predict_proba(X_train)\n",
    "print y_pred_train1"
   ]
  },
  {
   "cell_type": "code",
   "execution_count": 44,
   "metadata": {
    "collapsed": false
   },
   "outputs": [
    {
     "data": {
      "text/plain": [
       "9.9920072216264108e-16"
      ]
     },
     "execution_count": 44,
     "metadata": {},
     "output_type": "execute_result"
    }
   ],
   "source": [
    "from sklearn.metrics import log_loss\n",
    "\n",
    "log_loss(target, y_pred_train)"
   ]
  },
  {
   "cell_type": "code",
   "execution_count": 45,
   "metadata": {
    "collapsed": false
   },
   "outputs": [
    {
     "name": "stdout",
     "output_type": "stream",
     "text": [
      "[[ 0.35801018  0.64198982]\n",
      " [ 0.11640367  0.88359633]\n",
      " [ 0.15060713  0.84939287]\n",
      " ..., \n",
      " [ 0.11298472  0.88701528]\n",
      " [ 0.13564994  0.86435006]\n",
      " [ 0.31218175  0.68781825]]\n"
     ]
    }
   ],
   "source": [
    "# Predict using the model-latest on the test set\n",
    "\n",
    "X_test = new_test\n",
    "y_pred = model.predict_proba(X_test)\n",
    "print y_pred"
   ]
  },
  {
   "cell_type": "code",
   "execution_count": 11,
   "metadata": {
    "collapsed": true
   },
   "outputs": [],
   "source": [
    "#new csv data latest \n",
    "pd.DataFrame({\"ID\": id_test, \"PredictedProb\": y_pred[:,1]}).to_csv('extra_trees_new.csv',index=False)"
   ]
  },
  {
   "cell_type": "code",
   "execution_count": 143,
   "metadata": {
    "collapsed": false
   },
   "outputs": [
    {
     "name": "stdout",
     "output_type": "stream",
     "text": [
      "[[ 0.65589503  0.34410497]\n",
      " [ 0.1782217   0.8217783 ]\n",
      " [ 0.12710537  0.87289463]\n",
      " ..., \n",
      " [ 0.09156711  0.90843289]\n",
      " [ 0.03703486  0.96296514]\n",
      " [ 0.45880872  0.54119128]]\n"
     ]
    }
   ],
   "source": [
    "# Predict using the model on the test set\n",
    "\n",
    "X_test = new_test\n",
    "y_pred = model.predict_proba(X_test)\n",
    "print y_pred"
   ]
  },
  {
   "cell_type": "code",
   "execution_count": 144,
   "metadata": {
    "collapsed": false
   },
   "outputs": [
    {
     "name": "stdout",
     "output_type": "stream",
     "text": [
      "[0 1 1 ..., 1 1 1]\n"
     ]
    }
   ],
   "source": [
    "# Find the predicted target values on the test data \n",
    "\n",
    "predicted_test2 = model.predict(X_test)\n",
    "print predicted_test2"
   ]
  },
  {
   "cell_type": "code",
   "execution_count": 145,
   "metadata": {
    "collapsed": false
   },
   "outputs": [
    {
     "data": {
      "text/plain": [
       "105020"
      ]
     },
     "execution_count": 145,
     "metadata": {},
     "output_type": "execute_result"
    }
   ],
   "source": [
    "#number of approvals in the test set\n",
    "np.count_nonzero(predicted_test2)"
   ]
  },
  {
   "cell_type": "code",
   "execution_count": 146,
   "metadata": {
    "collapsed": false
   },
   "outputs": [
    {
     "data": {
      "text/plain": [
       "0.9180631682008514"
      ]
     },
     "execution_count": 146,
     "metadata": {},
     "output_type": "execute_result"
    }
   ],
   "source": [
    "#percent approval in the test set\n",
    "105020/114393.0"
   ]
  },
  {
   "cell_type": "markdown",
   "metadata": {
    "collapsed": true
   },
   "source": [
    "## Lets Now try creating a model by dropping a few variables "
   ]
  },
  {
   "cell_type": "code",
   "execution_count": null,
   "metadata": {
    "collapsed": true
   },
   "outputs": [],
   "source": []
  },
  {
   "cell_type": "code",
   "execution_count": 67,
   "metadata": {
    "collapsed": true
   },
   "outputs": [],
   "source": [
    "\n",
    "drop_list=['v91','v1', 'v8', 'v10', 'v15', 'v17', 'v25', 'v29', 'v34', 'v41', 'v46', 'v54', 'v64',\\\n",
    "           'v67', 'v97', 'v105', 'v111', 'v122']\n",
    "\n",
    "train2 = train1.drop(['ID','target'] + drop_list,axis=1).fillna(-999)\n",
    "test2 = test1.drop(['ID'] + drop_list,axis=1).fillna(-999 )"
   ]
  },
  {
   "cell_type": "code",
   "execution_count": 68,
   "metadata": {
    "collapsed": false
   },
   "outputs": [],
   "source": [
    "refcols=list(train2.columns)\n",
    "\n",
    "for elt in refcols:\n",
    "    if train2[elt].dtype=='O':\n",
    "        train2[elt], temp = pd.factorize(train2[elt])\n",
    "        test2[elt]=temp.get_indexer(test2[elt])\n",
    "    else:\n",
    "        train2[elt]=train2[elt].round(5)\n",
    "        test2[elt]=test2[elt].round(5)"
   ]
  },
  {
   "cell_type": "code",
   "execution_count": 71,
   "metadata": {
    "collapsed": false
   },
   "outputs": [
    {
     "data": {
      "text/plain": [
       "ExtraTreesClassifier(bootstrap=False, class_weight=None, criterion='gini',\n",
       "           max_depth=None, max_features='auto', max_leaf_nodes=None,\n",
       "           min_samples_leaf=1, min_samples_split=2,\n",
       "           min_weight_fraction_leaf=0.0, n_estimators=10, n_jobs=1,\n",
       "           oob_score=False, random_state=None, verbose=0, warm_start=False)"
      ]
     },
     "execution_count": 71,
     "metadata": {},
     "output_type": "execute_result"
    }
   ],
   "source": [
    "X_train = train2\n",
    "extc2 = ExtraTreesClassifier() \n",
    "extc2.fit(X_train,target)"
   ]
  },
  {
   "cell_type": "code",
   "execution_count": 72,
   "metadata": {
    "collapsed": false
   },
   "outputs": [
    {
     "name": "stdout",
     "output_type": "stream",
     "text": [
      "[1 1 1 ..., 1 1 1]\n"
     ]
    }
   ],
   "source": [
    "# Find the predicted target values on the train data \n",
    "predicted2 = extc2.predict(X_train)\n",
    "print predicted2"
   ]
  },
  {
   "cell_type": "code",
   "execution_count": 73,
   "metadata": {
    "collapsed": false
   },
   "outputs": [
    {
     "data": {
      "text/plain": [
       "0.00090636304077856432"
      ]
     },
     "execution_count": 73,
     "metadata": {},
     "output_type": "execute_result"
    }
   ],
   "source": [
    "from sklearn.metrics import log_loss\n",
    "\n",
    "log_loss(target, predicted2) "
   ]
  },
  {
   "cell_type": "markdown",
   "metadata": {},
   "source": [
    "## Lets try dropping some other variable columns"
   ]
  },
  {
   "cell_type": "code",
   "execution_count": 74,
   "metadata": {
    "collapsed": true
   },
   "outputs": [],
   "source": [
    "drop_list=['v8','v23','v25','v31','v36','v37',\\\n",
    "                     'v46','v51','v53','v54','v63','v73','v75','v79','v81','v82','v89','v92',\\\n",
    "                     'v95','v105','v107','v108','v109','v110','v116','v117','v118','v119','v123','v124','v128']\n",
    "\n"
   ]
  },
  {
   "cell_type": "code",
   "execution_count": 75,
   "metadata": {
    "collapsed": true
   },
   "outputs": [],
   "source": [
    "train3 = train1.drop(['ID','target'] + drop_list,axis=1).fillna(-999)\n",
    "test3 = test1.drop(['ID'] + drop_list,axis=1).fillna(-999 )"
   ]
  },
  {
   "cell_type": "code",
   "execution_count": 101,
   "metadata": {
    "collapsed": false
   },
   "outputs": [
    {
     "name": "stdout",
     "output_type": "stream",
     "text": [
      "(114321, 100)\n"
     ]
    }
   ],
   "source": [
    "print train3.shape"
   ]
  },
  {
   "cell_type": "code",
   "execution_count": 100,
   "metadata": {
    "collapsed": false
   },
   "outputs": [
    {
     "name": "stdout",
     "output_type": "stream",
     "text": [
      "(114393, 100)\n"
     ]
    }
   ],
   "source": [
    "print test3.shape"
   ]
  },
  {
   "cell_type": "code",
   "execution_count": 76,
   "metadata": {
    "collapsed": true
   },
   "outputs": [],
   "source": [
    "refcols=list(train3.columns)\n",
    "\n",
    "for elt in refcols:\n",
    "    if train3[elt].dtype=='O':\n",
    "        train3[elt], temp = pd.factorize(train3[elt])\n",
    "        test3[elt]=temp.get_indexer(test3[elt])\n",
    "    else:\n",
    "        train3[elt]=train3[elt].round(5)\n",
    "        test3[elt]=test3[elt].round(5)"
   ]
  },
  {
   "cell_type": "code",
   "execution_count": 77,
   "metadata": {
    "collapsed": false
   },
   "outputs": [
    {
     "data": {
      "text/plain": [
       "ExtraTreesClassifier(bootstrap=False, class_weight=None, criterion='gini',\n",
       "           max_depth=None, max_features='auto', max_leaf_nodes=None,\n",
       "           min_samples_leaf=1, min_samples_split=2,\n",
       "           min_weight_fraction_leaf=0.0, n_estimators=10, n_jobs=1,\n",
       "           oob_score=False, random_state=None, verbose=0, warm_start=False)"
      ]
     },
     "execution_count": 77,
     "metadata": {},
     "output_type": "execute_result"
    }
   ],
   "source": [
    "X_train = train3\n",
    "extc3 = ExtraTreesClassifier() \n",
    "extc3.fit(X_train,target)"
   ]
  },
  {
   "cell_type": "code",
   "execution_count": 78,
   "metadata": {
    "collapsed": false
   },
   "outputs": [
    {
     "name": "stdout",
     "output_type": "stream",
     "text": [
      "[1 1 1 ..., 1 1 1]\n"
     ]
    }
   ],
   "source": [
    "# Find the predicted target values on the train data \n",
    "predicted3 = extc3.predict(X_train)\n",
    "print predicted3"
   ]
  },
  {
   "cell_type": "code",
   "execution_count": 79,
   "metadata": {
    "collapsed": false
   },
   "outputs": [
    {
     "data": {
      "text/plain": [
       "0.00090636304077856432"
      ]
     },
     "execution_count": 79,
     "metadata": {},
     "output_type": "execute_result"
    }
   ],
   "source": [
    "from sklearn.metrics import log_loss\n",
    "\n",
    "log_loss(target, predicted3)"
   ]
  },
  {
   "cell_type": "code",
   "execution_count": 99,
   "metadata": {
    "collapsed": false
   },
   "outputs": [
    {
     "ename": "ValueError",
     "evalue": "Number of features of the model must  match the input. Model n_features is 131 and  input n_features is 100 ",
     "output_type": "error",
     "traceback": [
      "\u001b[0;31m---------------------------------------------------------------------------\u001b[0m",
      "\u001b[0;31mValueError\u001b[0m                                Traceback (most recent call last)",
      "\u001b[0;32m<ipython-input-99-0201595ede69>\u001b[0m in \u001b[0;36m<module>\u001b[0;34m()\u001b[0m\n\u001b[1;32m      1\u001b[0m \u001b[0mX_test\u001b[0m \u001b[0;34m=\u001b[0m \u001b[0mtest3\u001b[0m\u001b[0;34m\u001b[0m\u001b[0m\n\u001b[0;32m----> 2\u001b[0;31m \u001b[0my_pred\u001b[0m \u001b[0;34m=\u001b[0m \u001b[0mextc\u001b[0m\u001b[0;34m.\u001b[0m\u001b[0mpredict_proba\u001b[0m\u001b[0;34m(\u001b[0m\u001b[0mX_test\u001b[0m\u001b[0;34m)\u001b[0m\u001b[0;34m\u001b[0m\u001b[0m\n\u001b[0m\u001b[1;32m      3\u001b[0m \u001b[0;32mprint\u001b[0m \u001b[0my_pred\u001b[0m\u001b[0;34m\u001b[0m\u001b[0m\n",
      "\u001b[0;32m//anaconda/lib/python2.7/site-packages/sklearn/ensemble/forest.pyc\u001b[0m in \u001b[0;36mpredict_proba\u001b[0;34m(self, X)\u001b[0m\n\u001b[1;32m    535\u001b[0m         \"\"\"\n\u001b[1;32m    536\u001b[0m         \u001b[0;31m# Check data\u001b[0m\u001b[0;34m\u001b[0m\u001b[0;34m\u001b[0m\u001b[0m\n\u001b[0;32m--> 537\u001b[0;31m         \u001b[0mX\u001b[0m \u001b[0;34m=\u001b[0m \u001b[0mself\u001b[0m\u001b[0;34m.\u001b[0m\u001b[0m_validate_X_predict\u001b[0m\u001b[0;34m(\u001b[0m\u001b[0mX\u001b[0m\u001b[0;34m)\u001b[0m\u001b[0;34m\u001b[0m\u001b[0m\n\u001b[0m\u001b[1;32m    538\u001b[0m \u001b[0;34m\u001b[0m\u001b[0m\n\u001b[1;32m    539\u001b[0m         \u001b[0;31m# Assign chunk of trees to jobs\u001b[0m\u001b[0;34m\u001b[0m\u001b[0;34m\u001b[0m\u001b[0m\n",
      "\u001b[0;32m//anaconda/lib/python2.7/site-packages/sklearn/ensemble/forest.pyc\u001b[0m in \u001b[0;36m_validate_X_predict\u001b[0;34m(self, X)\u001b[0m\n\u001b[1;32m    317\u001b[0m                                  \"call `fit` before exploiting the model.\")\n\u001b[1;32m    318\u001b[0m \u001b[0;34m\u001b[0m\u001b[0m\n\u001b[0;32m--> 319\u001b[0;31m         \u001b[0;32mreturn\u001b[0m \u001b[0mself\u001b[0m\u001b[0;34m.\u001b[0m\u001b[0mestimators_\u001b[0m\u001b[0;34m[\u001b[0m\u001b[0;36m0\u001b[0m\u001b[0;34m]\u001b[0m\u001b[0;34m.\u001b[0m\u001b[0m_validate_X_predict\u001b[0m\u001b[0;34m(\u001b[0m\u001b[0mX\u001b[0m\u001b[0;34m,\u001b[0m \u001b[0mcheck_input\u001b[0m\u001b[0;34m=\u001b[0m\u001b[0mTrue\u001b[0m\u001b[0;34m)\u001b[0m\u001b[0;34m\u001b[0m\u001b[0m\n\u001b[0m\u001b[1;32m    320\u001b[0m \u001b[0;34m\u001b[0m\u001b[0m\n\u001b[1;32m    321\u001b[0m     \u001b[0;34m@\u001b[0m\u001b[0mproperty\u001b[0m\u001b[0;34m\u001b[0m\u001b[0m\n",
      "\u001b[0;32m//anaconda/lib/python2.7/site-packages/sklearn/tree/tree.pyc\u001b[0m in \u001b[0;36m_validate_X_predict\u001b[0;34m(self, X, check_input)\u001b[0m\n\u001b[1;32m    374\u001b[0m                              \u001b[0;34m\" match the input. Model n_features is %s and \"\u001b[0m\u001b[0;34m\u001b[0m\u001b[0m\n\u001b[1;32m    375\u001b[0m                              \u001b[0;34m\" input n_features is %s \"\u001b[0m\u001b[0;34m\u001b[0m\u001b[0m\n\u001b[0;32m--> 376\u001b[0;31m                              % (self.n_features_, n_features))\n\u001b[0m\u001b[1;32m    377\u001b[0m \u001b[0;34m\u001b[0m\u001b[0m\n\u001b[1;32m    378\u001b[0m         \u001b[0;32mreturn\u001b[0m \u001b[0mX\u001b[0m\u001b[0;34m\u001b[0m\u001b[0m\n",
      "\u001b[0;31mValueError\u001b[0m: Number of features of the model must  match the input. Model n_features is 131 and  input n_features is 100 "
     ]
    }
   ],
   "source": [
    "X_test = test3\n",
    "y_pred = extc.predict_proba(X_test)\n",
    "print y_pred"
   ]
  },
  {
   "cell_type": "code",
   "execution_count": null,
   "metadata": {
    "collapsed": true
   },
   "outputs": [],
   "source": []
  }
 ],
 "metadata": {
  "anaconda-cloud": {},
  "kernelspec": {
   "display_name": "Python [Root]",
   "language": "python",
   "name": "Python [Root]"
  },
  "language_info": {
   "codemirror_mode": {
    "name": "ipython",
    "version": 2
   },
   "file_extension": ".py",
   "mimetype": "text/x-python",
   "name": "python",
   "nbconvert_exporter": "python",
   "pygments_lexer": "ipython2",
   "version": "2.7.12"
  }
 },
 "nbformat": 4,
 "nbformat_minor": 0
}
