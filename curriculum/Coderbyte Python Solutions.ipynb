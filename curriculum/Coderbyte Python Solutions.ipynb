{
 "cells": [
  {
   "cell_type": "markdown",
   "metadata": {},
   "source": [
    "## Python codes"
   ]
  },
  {
   "cell_type": "markdown",
   "metadata": {},
   "source": [
    "### 1. Reverse a string: Using the python language, have the function FirstReverse(str) take the str parameter being passed and return the string in reversed order."
   ]
  },
  {
   "cell_type": "code",
   "execution_count": 1,
   "metadata": {
    "collapsed": false
   },
   "outputs": [
    {
     "name": "stdout",
     "output_type": "stream",
     "text": [
      "nohtyP evoL I\n"
     ]
    }
   ],
   "source": [
    "def reverse(str):\n",
    "    print str[::-1]\n",
    "    \n",
    "reverse(\"I Love Python\")    "
   ]
  },
  {
   "cell_type": "markdown",
   "metadata": {},
   "source": [
    "### 2. Factorial: Using the python language, have the function FirstFactorial(num) take the num parameter being passed and return the factorial of it . For the test cases, the range will be between 1 and 18. "
   ]
  },
  {
   "cell_type": "code",
   "execution_count": 5,
   "metadata": {
    "collapsed": false
   },
   "outputs": [
    {
     "name": "stdout",
     "output_type": "stream",
     "text": [
      "6\n"
     ]
    },
    {
     "data": {
      "text/plain": [
       "6"
      ]
     },
     "execution_count": 5,
     "metadata": {},
     "output_type": "execute_result"
    }
   ],
   "source": [
    "def fact(num):\n",
    "    for i in range (1, num):\n",
    "        num = num * i \n",
    "    print num\n",
    "    return num\n",
    "\n",
    "\n",
    "fact(3)"
   ]
  },
  {
   "cell_type": "markdown",
   "metadata": {},
   "source": [
    "### 3. Simple Adding: Using the python language, have the function SimpleAdding(num) add up all the numbers from 1 to num. For the test cases, the parameter num will be any number from 1 to 1000."
   ]
  },
  {
   "cell_type": "code",
   "execution_count": 12,
   "metadata": {
    "collapsed": false
   },
   "outputs": [
    {
     "name": "stdout",
     "output_type": "stream",
     "text": [
      "10\n"
     ]
    },
    {
     "data": {
      "text/plain": [
       "10"
      ]
     },
     "execution_count": 12,
     "metadata": {},
     "output_type": "execute_result"
    }
   ],
   "source": [
    "def simpleAdding(num):\n",
    "    total =0\n",
    "    for i in range(1, num+1):\n",
    "        total = total + i\n",
    "        \n",
    "    print total\n",
    "    return total\n",
    "     \n",
    "simpleAdding(4)"
   ]
  },
  {
   "cell_type": "markdown",
   "metadata": {},
   "source": [
    "### 4. Letter Capitalize: Using the Python language, have the function LetterCapitalize(str) take the str parameter being passed and capitalize the first letter of each word. Words will be separated by only one space. "
   ]
  },
  {
   "cell_type": "code",
   "execution_count": 20,
   "metadata": {
    "collapsed": false
   },
   "outputs": [
    {
     "name": "stdout",
     "output_type": "stream",
     "text": [
      "I Love Avi\n"
     ]
    }
   ],
   "source": [
    "def LetterCap(str):\n",
    "    split_str = str.split()\n",
    "    \n",
    "    new_str = []\n",
    "    \n",
    "    for word in split_str:\n",
    "        new_word = word.title()\n",
    "        new_str.append(new_word)\n",
    "    \n",
    "    print \" \".join(new_str)\n",
    "    \n",
    "    \n",
    "LetterCap(\"i love avi\")        "
   ]
  },
  {
   "cell_type": "markdown",
   "metadata": {
    "collapsed": true
   },
   "source": [
    "### 5. Palindrome: Have the function Palindrome(str) take the str parameter being passed and return true if the parameter is a palindrome (the string is the same forward as it is backward) otherwise return the string false. For example: ìracecar is also racecar backwards. Punctuations and numbers will not be part of the string. \n"
   ]
  },
  {
   "cell_type": "code",
   "execution_count": 14,
   "metadata": {
    "collapsed": false
   },
   "outputs": [
    {
     "data": {
      "text/plain": [
       "False"
      ]
     },
     "execution_count": 14,
     "metadata": {},
     "output_type": "execute_result"
    }
   ],
   "source": [
    "def Palindrome(str):\n",
    "    if str == str[::-1]:\n",
    "        return True\n",
    "    else:\n",
    "        return False\n",
    "    \n",
    "Palindrome ('eye')    "
   ]
  },
  {
   "cell_type": "markdown",
   "metadata": {},
   "source": [
    "### 6. \tHave the function ExOh (str) take the str string parameter being passed and return the string true if there is an equal number of X's and O's, otherwise return the string false. Only these two letters will be entered in the string, no punctuation or numbers. For e.g. if str is 'xooxxxxooxo' then the output should return false because there are 6X's and 5O's.\n"
   ]
  },
  {
   "cell_type": "code",
   "execution_count": 6,
   "metadata": {
    "collapsed": false
   },
   "outputs": [
    {
     "data": {
      "text/plain": [
       "False"
      ]
     },
     "execution_count": 6,
     "metadata": {},
     "output_type": "execute_result"
    }
   ],
   "source": [
    "def ExOh(str):\n",
    "    countX = 0\n",
    "    countO = 0\n",
    "    for e in str:\n",
    "        if e == 'x':\n",
    "            countX = countX + 1\n",
    "            \n",
    "        elif e == 'o':\n",
    "            countO = countO + 1\n",
    "            \n",
    "    if countX == countO:\n",
    "        return True\n",
    "    else:\n",
    "        return False\n",
    "    \n",
    "ExOh('xoxoxoxoxox')    "
   ]
  },
  {
   "cell_type": "markdown",
   "metadata": {},
   "source": [
    "### 7. Second Great Low                                                                    \n",
    "Have the function SecondGreatLow(arr) take the array of numbers stored in arr and return the second lowest and second greatest numbers, respectively, separated by a space. For example: if arr contains [7, 7, 12, 98, 106] the output should be 12 98. The array will not be empty and will contain at least 2 numbers. It can get tricky if there's just two numbers!"
   ]
  },
  {
   "cell_type": "code",
   "execution_count": 16,
   "metadata": {
    "collapsed": false
   },
   "outputs": [
    {
     "name": "stdout",
     "output_type": "stream",
     "text": [
      "second great is:  9\n",
      "second low is:  3\n"
     ]
    },
    {
     "data": {
      "text/plain": [
       "(9, 3)"
      ]
     },
     "execution_count": 16,
     "metadata": {},
     "output_type": "execute_result"
    }
   ],
   "source": [
    " def secondgreatlow(lst):\n",
    "        \n",
    "        lowest = min(lst)\n",
    "        greatest = max(lst)\n",
    "        \n",
    "        sortedlist = sorted(lst)\n",
    "\n",
    "         \n",
    "        if len(lst) == 2:\n",
    "            print \"second great is: \", lowest\n",
    "            print \"second low is: \", greatest\n",
    "            return lowest, greatest\n",
    "            \n",
    "        else:\n",
    "            \n",
    "            second_low = sortedlist[1]\n",
    "            second_great = sortedlist[(len(lst)-1) - 1]\n",
    "            print \"second great is: \", second_great\n",
    "            print \"second low is: \", second_low\n",
    "            \n",
    "            return second_great, second_low\n",
    "        \n",
    "a = [2,3,5,6,9,10]\n",
    "\n",
    "secondgreatlow(a)\n",
    "            "
   ]
  },
  {
   "cell_type": "code",
   "execution_count": 14,
   "metadata": {
    "collapsed": false
   },
   "outputs": [
    {
     "name": "stdout",
     "output_type": "stream",
     "text": [
      "None\n"
     ]
    }
   ],
   "source": [
    "#the sort function does not return anything. we need to use sorted function in order for the function to return\n",
    "list = [2, 3, 4, 6, 8]\n",
    "\n",
    "a = list.sort()\n",
    "print a"
   ]
  },
  {
   "cell_type": "markdown",
   "metadata": {},
   "source": [
    " ### 8. Arith Geo                                                                            \n",
    "Have the function ArithGeo(arr) take the array of numbers stored in arr and return the string \"Arithmetic\" if the sequence follows an arithmetic pattern or return \"Geometric\" if it follows a geometric pattern. If the sequence doesn't follow either pattern return -1. An arithmetic sequence is one where the difference between each of the numbers is consistent, where as in a geometric sequence, each term after the first is multiplied by some constant or    common ratio. Arithmetic example: [2, 4, 6, 8] and Geometric example: [2, 6, 18, 54]. Negative numbers may be entered as parameters, 0 will not be entered, and no array will contain all the same elements. "
   ]
  },
  {
   "cell_type": "code",
   "execution_count": 10,
   "metadata": {
    "collapsed": false
   },
   "outputs": [
    {
     "name": "stdout",
     "output_type": "stream",
     "text": [
      "Arithmetic\n"
     ]
    }
   ],
   "source": [
    "def ArithGeo(lst):\n",
    "    array1= []\n",
    "    array2= []\n",
    "    for i in range (len(lst)-1):\n",
    "        array1.append(lst[i+1] - lst[i])\n",
    "        array2.append(lst[i+1]/lst[i])\n",
    "        \n",
    "    if (array1[1:] == array1[:-1]):\n",
    "        return \"Arithmetic\"\n",
    "    \n",
    "    if (array2[1:] == array2[:-1]):\n",
    "        return \"Geometric\"\n",
    "    else:\n",
    "        return \"-1\"\n",
    "        \n",
    "a = [1,2,3,4,5,6]\n",
    "print ArithGeo(a)        \n",
    "    "
   ]
  },
  {
   "cell_type": "code",
   "execution_count": 18,
   "metadata": {
    "collapsed": false
   },
   "outputs": [
    {
     "name": "stdout",
     "output_type": "stream",
     "text": [
      "[64, 71, 108, 2, 34, 23] [23, 34, 2, 108, 71]\n"
     ]
    }
   ],
   "source": [
    "a = [23, 34, 2, 108, 71, 64]\n",
    "    \n",
    "b= a[::-1]\n",
    "\n",
    "c = a[:-1]\n",
    "print b, c\n"
   ]
  },
  {
   "cell_type": "markdown",
   "metadata": {},
   "source": [
    "### 9.  Array Addition I: Using the python language, have the function ArrayAdditionI(arr) take the array of numbers stored in arr and return the string true if any combination of numbers in the array can be added up to equal the largest number in the array, otherwise return the string false. For example: if arr contains [4, 6, 23, 10, 1, 3] the output should return true because 4 + 6 + 10 + 3 = 23. The array will not be empty, will not contain all the same elements, and may contain negative numbers. "
   ]
  },
  {
   "cell_type": "code",
   "execution_count": 22,
   "metadata": {
    "collapsed": false
   },
   "outputs": [
    {
     "data": {
      "text/plain": [
       "True"
      ]
     },
     "execution_count": 22,
     "metadata": {},
     "output_type": "execute_result"
    }
   ],
   "source": [
    "def ArrayAddition(lst):\n",
    "    new_list = sorted(lst) \n",
    "    greatest = new_list[-1]\n",
    "    \n",
    "    total = 0\n",
    "    for i in range (len(new_list)-1):\n",
    "        total = total + new_list[i]\n",
    "        \n",
    "        \n",
    "    if (total == greatest):\n",
    "        return True\n",
    "    else:\n",
    "        return False\n",
    "\n",
    "a = [4, 6, 23, 10, 3]\n",
    "\n",
    "b = [4, 6, 10, 3]\n",
    "\n",
    "ArrayAddition(a)"
   ]
  },
  {
   "cell_type": "markdown",
   "metadata": {},
   "source": [
    "### 10. Check Nums: have the function CheckNums(num1,num2) take both parameters being passed and return the string true if num2 is greater than num1, otherwise return the string false. If the parameter values are equal to each other  then return the string -1 "
   ]
  },
  {
   "cell_type": "code",
   "execution_count": 24,
   "metadata": {
    "collapsed": false
   },
   "outputs": [
    {
     "name": "stdout",
     "output_type": "stream",
     "text": [
      "-1\n"
     ]
    }
   ],
   "source": [
    " def CheckNum(num1, num2):\n",
    "        if (num2> num1):\n",
    "            return True\n",
    "        elif (num2 < num1):\n",
    "            return False\n",
    "        else:\n",
    "            return \"-1\"\n",
    "        \n",
    "print CheckNum(2,2)        "
   ]
  },
  {
   "cell_type": "markdown",
   "metadata": {},
   "source": [
    "### 11. have the function LongestWord(sen) take the sen parameter being passed and return the largest word in the string. If there are two or more words that are the same length,  return the first word from the string with that length. Ignore punctuation and assume sen will not be empty."
   ]
  },
  {
   "cell_type": "code",
   "execution_count": 28,
   "metadata": {
    "collapsed": false
   },
   "outputs": [
    {
     "name": "stdout",
     "output_type": "stream",
     "text": [
      "donna\n"
     ]
    }
   ],
   "source": [
    "import math\n",
    "\n",
    "def longestword(str):\n",
    "    m = max(str.split(), key=len)\n",
    "    print m\n",
    "    \n",
    "longestword(\"I love donna\")    "
   ]
  },
  {
   "cell_type": "markdown",
   "metadata": {},
   "source": [
    "### 12.  MeanMode: Have the function MeanMode(arr) take the array of numbers stored in arr and return 1 if the mode equals the mean, 0 if they don't equal each other. (ie. [5, 3, 3, 3, 1] should return 1 because the mode (3) equals the mean (3)). The array will not be empty, will only contain positive integers, and will not contain more than one mode. "
   ]
  },
  {
   "cell_type": "code",
   "execution_count": 74,
   "metadata": {
    "collapsed": false
   },
   "outputs": [
    {
     "name": "stdout",
     "output_type": "stream",
     "text": [
      "1\n"
     ]
    }
   ],
   "source": [
    "def meanmod(lst): \n",
    "    \n",
    "    mean = sum(lst)/len(lst)\n",
    "    \n",
    "    ct1 = 0\n",
    "    for e in lst:\n",
    "        ct = lst.count(e)\n",
    "        if ct > ct1:\n",
    "            ct1 = ct\n",
    "            mode = e\n",
    "            \n",
    "#     print mode\n",
    "    \n",
    "    if (mean == mode):\n",
    "        return 1\n",
    "    else:\n",
    "        return 0\n",
    "\n",
    "a = [5, 3, 3, 3, 1]  \n",
    "print meanmod(a)\n",
    "    "
   ]
  },
  {
   "cell_type": "code",
   "execution_count": 45,
   "metadata": {
    "collapsed": false
   },
   "outputs": [
    {
     "name": "stdout",
     "output_type": "stream",
     "text": [
      "['10', '2', '1']\n"
     ]
    }
   ],
   "source": [
    "import re\n",
    "def NumberSearch(mystr):\n",
    "    result = 0\n",
    "    myList = []\n",
    "    myList = re.findall(r'\\d+', mystr)\n",
    "    print myList\n",
    "    \n",
    "#     for i in myList:\n",
    "#         result = result + int(i)\n",
    "#     print result\n",
    "\n",
    "NumberSearch(\"10 2One Number*1*\")"
   ]
  },
  {
   "cell_type": "code",
   "execution_count": null,
   "metadata": {
    "collapsed": false
   },
   "outputs": [],
   "source": [
    "         \n",
    "            "
   ]
  },
  {
   "cell_type": "code",
   "execution_count": null,
   "metadata": {
    "collapsed": true
   },
   "outputs": [],
   "source": []
  }
 ],
 "metadata": {
  "anaconda-cloud": {},
  "kernelspec": {
   "display_name": "Python [Root]",
   "language": "python",
   "name": "Python [Root]"
  },
  "language_info": {
   "codemirror_mode": {
    "name": "ipython",
    "version": 2
   },
   "file_extension": ".py",
   "mimetype": "text/x-python",
   "name": "python",
   "nbconvert_exporter": "python",
   "pygments_lexer": "ipython2",
   "version": "2.7.12"
  }
 },
 "nbformat": 4,
 "nbformat_minor": 0
}
