{
 "cells": [
  {
   "cell_type": "markdown",
   "metadata": {},
   "source": [
    "# Introduction\n",
    "\n",
    "In this data, we have anonymized database with two categories of claims:\n",
    "\n",
    "1. claims for which approval could be accelerated leading to faster payments\n",
    "2. claims for which additional information is required before approval\n",
    "\n",
    "In this project we would try to predict the category of a claim based on features available early in the process, so that claims processing could be acclerated and therefore provide a better service to the customers."
   ]
  },
  {
   "cell_type": "code",
   "execution_count": 39,
   "metadata": {
    "collapsed": true
   },
   "outputs": [],
   "source": [
    "# Read the train set\n",
    "\n",
    "import pandas as pd\n",
    "import numpy as np\n",
    "\n",
    "train1 = pd.read_csv('/Users/Debjani/Downloads/train_capstone.csv')"
   ]
  },
  {
   "cell_type": "code",
   "execution_count": 60,
   "metadata": {
    "collapsed": true
   },
   "outputs": [],
   "source": [
    "# Read the test set\n",
    "test = pd.read_csv('/Users/Debjani/Downloads/test_capstone.csv')"
   ]
  },
  {
   "cell_type": "code",
   "execution_count": 40,
   "metadata": {
    "collapsed": false
   },
   "outputs": [
    {
     "data": {
      "text/plain": [
       "(114321, 133)"
      ]
     },
     "execution_count": 40,
     "metadata": {},
     "output_type": "execute_result"
    }
   ],
   "source": [
    "train1.shape"
   ]
  },
  {
   "cell_type": "code",
   "execution_count": 7,
   "metadata": {
    "collapsed": false
   },
   "outputs": [
    {
     "data": {
      "text/plain": [
       "(114393, 132)"
      ]
     },
     "execution_count": 7,
     "metadata": {},
     "output_type": "execute_result"
    }
   ],
   "source": [
    "test.shape"
   ]
  },
  {
   "cell_type": "code",
   "execution_count": 41,
   "metadata": {
    "collapsed": false
   },
   "outputs": [
    {
     "data": {
      "text/plain": [
       "Index([u'ID', u'target', u'v1', u'v2', u'v3', u'v4', u'v5', u'v6', u'v7',\n",
       "       u'v8',\n",
       "       ...\n",
       "       u'v122', u'v123', u'v124', u'v125', u'v126', u'v127', u'v128', u'v129',\n",
       "       u'v130', u'v131'],\n",
       "      dtype='object', length=133)"
      ]
     },
     "execution_count": 41,
     "metadata": {},
     "output_type": "execute_result"
    }
   ],
   "source": [
    "train1.columns"
   ]
  },
  {
   "cell_type": "code",
   "execution_count": 9,
   "metadata": {
    "collapsed": false
   },
   "outputs": [
    {
     "data": {
      "text/plain": [
       "Index([u'ID', u'v1', u'v2', u'v3', u'v4', u'v5', u'v6', u'v7', u'v8', u'v9',\n",
       "       ...\n",
       "       u'v122', u'v123', u'v124', u'v125', u'v126', u'v127', u'v128', u'v129',\n",
       "       u'v130', u'v131'],\n",
       "      dtype='object', length=132)"
      ]
     },
     "execution_count": 9,
     "metadata": {},
     "output_type": "execute_result"
    }
   ],
   "source": [
    "test.columns"
   ]
  },
  {
   "cell_type": "markdown",
   "metadata": {},
   "source": [
    "The first variable is called 'ID' and is present in both the train and test set. \n",
    "The second variable in the train set is called 'target'. The target needs to be predicted in the test set.\n",
    "\n",
    "The other variables  v1 to v131 in the train and test set can be categorical or quantitive."
   ]
  },
  {
   "cell_type": "markdown",
   "metadata": {},
   "source": [
    "## NaN Analysis "
   ]
  },
  {
   "cell_type": "code",
   "execution_count": 42,
   "metadata": {
    "collapsed": false
   },
   "outputs": [],
   "source": [
    "%matplotlib inline\n",
    "import matplotlib as mpl\n",
    "import matplotlib.pyplot as plt\n",
    "from sklearn.cluster import KMeans\n",
    "\n",
    "mpl.style.use('ggplot')\n",
    "\n",
    "train2=train.drop(['ID','target'],axis=1)"
   ]
  },
  {
   "cell_type": "code",
   "execution_count": 44,
   "metadata": {
    "collapsed": true
   },
   "outputs": [],
   "source": [
    "df=pd.isnull(train2)"
   ]
  },
  {
   "cell_type": "code",
   "execution_count": 15,
   "metadata": {
    "collapsed": false
   },
   "outputs": [
    {
     "name": "stdout",
     "output_type": "stream",
     "text": [
      "           v1     v2     v3     v4     v5     v6     v7     v8     v9    v10  \\\n",
      "0       False  False  False  False  False  False  False  False  False  False   \n",
      "1        True   True  False   True  False   True   True  False   True  False   \n",
      "2       False  False  False  False  False  False  False  False  False  False   \n",
      "3       False  False  False  False  False  False  False  False  False  False   \n",
      "4        True   True  False   True   True   True   True   True   True  False   \n",
      "5        True   True  False   True  False   True   True  False   True  False   \n",
      "6       False  False  False  False  False  False  False  False  False  False   \n",
      "7        True   True  False   True   True   True   True   True   True  False   \n",
      "8       False  False   True  False  False  False  False  False  False  False   \n",
      "9       False  False  False  False  False  False  False  False  False  False   \n",
      "10       True   True  False   True   True   True   True   True   True  False   \n",
      "11       True   True  False   True   True   True   True   True   True  False   \n",
      "12       True   True  False   True   True   True   True   True   True  False   \n",
      "13      False  False  False  False  False  False  False  False  False  False   \n",
      "14      False  False  False  False  False  False  False  False  False  False   \n",
      "15       True   True  False   True   True   True   True   True   True  False   \n",
      "16      False  False  False  False  False  False  False  False  False  False   \n",
      "17       True   True  False   True   True   True   True   True   True  False   \n",
      "18       True   True  False   True   True   True   True   True   True  False   \n",
      "19       True   True  False   True   True   True   True   True   True  False   \n",
      "20      False  False  False  False  False  False  False  False  False  False   \n",
      "21      False  False  False  False  False  False  False  False  False  False   \n",
      "22      False  False  False  False  False  False  False  False  False  False   \n",
      "23      False  False  False  False  False  False  False  False  False  False   \n",
      "24      False  False  False  False  False  False  False  False  False  False   \n",
      "25       True   True  False   True   True   True   True   True   True  False   \n",
      "26       True   True  False   True   True   True   True   True   True  False   \n",
      "27      False  False  False  False  False  False  False  False  False  False   \n",
      "28      False  False  False  False  False  False  False  False  False  False   \n",
      "29      False  False  False  False  False  False  False  False  False  False   \n",
      "...       ...    ...    ...    ...    ...    ...    ...    ...    ...    ...   \n",
      "114291   True   True  False   True   True   True   True   True   True  False   \n",
      "114292  False  False  False  False  False  False  False  False  False  False   \n",
      "114293  False  False  False  False  False  False  False  False  False  False   \n",
      "114294   True   True  False   True   True   True   True   True   True  False   \n",
      "114295  False  False  False  False  False  False  False  False  False  False   \n",
      "114296   True   True  False   True   True   True   True   True   True  False   \n",
      "114297  False  False  False  False  False  False  False  False  False  False   \n",
      "114298  False  False  False  False  False  False  False  False  False  False   \n",
      "114299  False  False  False  False  False  False  False  False  False  False   \n",
      "114300  False  False  False  False  False  False  False  False  False  False   \n",
      "114301   True   True  False   True   True   True   True   True   True  False   \n",
      "114302  False  False  False  False  False  False  False  False  False  False   \n",
      "114303   True   True  False   True   True   True   True   True   True  False   \n",
      "114304   True   True  False   True   True   True   True   True   True  False   \n",
      "114305  False  False  False  False  False  False  False  False  False  False   \n",
      "114306  False  False  False  False  False  False  False  False  False  False   \n",
      "114307   True   True  False   True   True   True   True   True   True  False   \n",
      "114308   True   True  False   True   True   True   True   True   True  False   \n",
      "114309   True   True  False   True   True   True   True   True   True  False   \n",
      "114310   True   True  False   True   True   True   True   True   True  False   \n",
      "114311   True   True  False   True   True   True   True   True   True  False   \n",
      "114312  False  False  False  False  False  False  False  False  False  False   \n",
      "114313  False  False  False  False  False  False  False  False  False  False   \n",
      "114314  False  False  False  False  False  False  False  False  False  False   \n",
      "114315   True   True  False   True   True   True   True   True   True  False   \n",
      "114316   True   True  False   True   True   True   True   True   True  False   \n",
      "114317   True   True  False   True   True   True   True   True   True  False   \n",
      "114318   True   True  False   True  False   True   True  False   True  False   \n",
      "114319   True   True  False   True  False   True   True  False   True  False   \n",
      "114320  False  False  False  False  False  False  False  False  False  False   \n",
      "\n",
      "        ...     v122   v123   v124   v125   v126   v127   v128   v129   v130  \\\n",
      "0       ...    False  False  False  False  False  False  False  False  False   \n",
      "1       ...     True   True  False  False   True   True  False  False   True   \n",
      "2       ...    False  False  False  False  False  False  False  False  False   \n",
      "3       ...    False  False  False  False  False  False  False  False  False   \n",
      "4       ...     True   True   True  False   True   True   True  False   True   \n",
      "5       ...     True   True  False  False   True   True  False  False   True   \n",
      "6       ...    False  False  False  False  False  False  False  False  False   \n",
      "7       ...     True   True   True  False   True   True   True  False   True   \n",
      "8       ...    False  False  False  False  False  False  False  False  False   \n",
      "9       ...    False  False  False  False  False  False  False  False  False   \n",
      "10      ...     True   True   True  False   True   True   True  False   True   \n",
      "11      ...     True   True   True  False   True   True   True  False   True   \n",
      "12      ...     True   True   True  False   True   True   True  False   True   \n",
      "13      ...    False  False  False  False  False  False  False  False  False   \n",
      "14      ...    False  False  False  False  False  False  False  False  False   \n",
      "15      ...     True   True   True  False   True   True   True  False   True   \n",
      "16      ...    False  False  False  False  False  False  False  False  False   \n",
      "17      ...     True   True   True  False   True   True   True  False   True   \n",
      "18      ...     True   True   True  False   True   True   True  False   True   \n",
      "19      ...     True   True   True  False   True   True   True  False   True   \n",
      "20      ...    False  False  False  False  False  False  False  False  False   \n",
      "21      ...    False  False  False  False  False  False  False  False  False   \n",
      "22      ...    False  False  False  False  False  False  False  False  False   \n",
      "23      ...    False  False  False  False  False  False  False  False  False   \n",
      "24      ...    False  False  False  False  False  False  False  False  False   \n",
      "25      ...     True   True   True  False   True   True   True  False   True   \n",
      "26      ...     True   True   True  False   True   True   True  False   True   \n",
      "27      ...    False  False  False  False  False  False  False  False  False   \n",
      "28      ...    False  False  False  False  False  False  False  False  False   \n",
      "29      ...    False  False  False  False  False  False  False  False  False   \n",
      "...     ...      ...    ...    ...    ...    ...    ...    ...    ...    ...   \n",
      "114291  ...     True   True   True  False   True   True   True  False   True   \n",
      "114292  ...    False  False  False  False  False  False  False  False  False   \n",
      "114293  ...    False  False  False  False  False  False  False  False  False   \n",
      "114294  ...     True   True   True  False   True   True   True  False   True   \n",
      "114295  ...    False  False  False  False  False  False  False  False  False   \n",
      "114296  ...     True   True   True  False   True   True   True  False   True   \n",
      "114297  ...    False  False  False  False  False  False  False  False  False   \n",
      "114298  ...    False  False  False  False  False  False  False  False  False   \n",
      "114299  ...    False  False  False  False  False  False  False  False  False   \n",
      "114300  ...    False  False  False  False  False  False  False  False  False   \n",
      "114301  ...     True   True   True  False   True   True   True  False   True   \n",
      "114302  ...    False  False  False  False  False  False  False  False  False   \n",
      "114303  ...     True   True   True  False   True   True   True  False   True   \n",
      "114304  ...     True   True   True  False   True   True   True  False   True   \n",
      "114305  ...    False  False  False  False  False  False  False  False  False   \n",
      "114306  ...    False  False  False  False  False  False  False  False  False   \n",
      "114307  ...     True   True   True  False   True   True   True  False   True   \n",
      "114308  ...     True   True   True  False   True   True   True  False   True   \n",
      "114309  ...     True   True   True  False   True   True   True  False   True   \n",
      "114310  ...     True   True   True  False   True   True   True  False   True   \n",
      "114311  ...     True   True   True  False   True   True   True  False   True   \n",
      "114312  ...    False  False  False  False  False  False  False  False  False   \n",
      "114313  ...    False  False  False  False  False  False  False  False  False   \n",
      "114314  ...    False  False  False  False  False  False  False  False  False   \n",
      "114315  ...     True   True   True  False   True   True   True  False   True   \n",
      "114316  ...     True   True   True  False   True   True   True  False   True   \n",
      "114317  ...     True   True   True  False   True   True   True  False   True   \n",
      "114318  ...     True   True  False  False   True   True  False  False   True   \n",
      "114319  ...     True   True  False  False   True   True  False  False   True   \n",
      "114320  ...    False  False  False  False  False  False  False  False  False   \n",
      "\n",
      "         v131  \n",
      "0       False  \n",
      "1        True  \n",
      "2       False  \n",
      "3       False  \n",
      "4        True  \n",
      "5        True  \n",
      "6       False  \n",
      "7        True  \n",
      "8       False  \n",
      "9       False  \n",
      "10       True  \n",
      "11       True  \n",
      "12       True  \n",
      "13      False  \n",
      "14      False  \n",
      "15       True  \n",
      "16      False  \n",
      "17       True  \n",
      "18       True  \n",
      "19       True  \n",
      "20      False  \n",
      "21      False  \n",
      "22      False  \n",
      "23      False  \n",
      "24      False  \n",
      "25       True  \n",
      "26       True  \n",
      "27      False  \n",
      "28      False  \n",
      "29      False  \n",
      "...       ...  \n",
      "114291   True  \n",
      "114292  False  \n",
      "114293  False  \n",
      "114294   True  \n",
      "114295  False  \n",
      "114296   True  \n",
      "114297  False  \n",
      "114298  False  \n",
      "114299  False  \n",
      "114300  False  \n",
      "114301   True  \n",
      "114302  False  \n",
      "114303   True  \n",
      "114304   True  \n",
      "114305  False  \n",
      "114306  False  \n",
      "114307   True  \n",
      "114308   True  \n",
      "114309   True  \n",
      "114310   True  \n",
      "114311   True  \n",
      "114312  False  \n",
      "114313  False  \n",
      "114314  False  \n",
      "114315   True  \n",
      "114316   True  \n",
      "114317   True  \n",
      "114318   True  \n",
      "114319   True  \n",
      "114320  False  \n",
      "\n",
      "[114321 rows x 131 columns]\n"
     ]
    }
   ],
   "source": [
    "print df"
   ]
  },
  {
   "cell_type": "code",
   "execution_count": 45,
   "metadata": {
    "collapsed": true
   },
   "outputs": [],
   "source": [
    "df=pd.isnull(train2).astype(int)"
   ]
  },
  {
   "cell_type": "code",
   "execution_count": 46,
   "metadata": {
    "collapsed": false
   },
   "outputs": [
    {
     "name": "stdout",
     "output_type": "stream",
     "text": [
      "        v1  v2  v3  v4  v5  v6  v7  v8  v9  v10  ...   v122  v123  v124  v125  \\\n",
      "0        0   0   0   0   0   0   0   0   0    0  ...      0     0     0     0   \n",
      "1        1   1   0   1   0   1   1   0   1    0  ...      1     1     0     0   \n",
      "2        0   0   0   0   0   0   0   0   0    0  ...      0     0     0     0   \n",
      "3        0   0   0   0   0   0   0   0   0    0  ...      0     0     0     0   \n",
      "4        1   1   0   1   1   1   1   1   1    0  ...      1     1     1     0   \n",
      "5        1   1   0   1   0   1   1   0   1    0  ...      1     1     0     0   \n",
      "6        0   0   0   0   0   0   0   0   0    0  ...      0     0     0     0   \n",
      "7        1   1   0   1   1   1   1   1   1    0  ...      1     1     1     0   \n",
      "8        0   0   1   0   0   0   0   0   0    0  ...      0     0     0     0   \n",
      "9        0   0   0   0   0   0   0   0   0    0  ...      0     0     0     0   \n",
      "10       1   1   0   1   1   1   1   1   1    0  ...      1     1     1     0   \n",
      "11       1   1   0   1   1   1   1   1   1    0  ...      1     1     1     0   \n",
      "12       1   1   0   1   1   1   1   1   1    0  ...      1     1     1     0   \n",
      "13       0   0   0   0   0   0   0   0   0    0  ...      0     0     0     0   \n",
      "14       0   0   0   0   0   0   0   0   0    0  ...      0     0     0     0   \n",
      "15       1   1   0   1   1   1   1   1   1    0  ...      1     1     1     0   \n",
      "16       0   0   0   0   0   0   0   0   0    0  ...      0     0     0     0   \n",
      "17       1   1   0   1   1   1   1   1   1    0  ...      1     1     1     0   \n",
      "18       1   1   0   1   1   1   1   1   1    0  ...      1     1     1     0   \n",
      "19       1   1   0   1   1   1   1   1   1    0  ...      1     1     1     0   \n",
      "20       0   0   0   0   0   0   0   0   0    0  ...      0     0     0     0   \n",
      "21       0   0   0   0   0   0   0   0   0    0  ...      0     0     0     0   \n",
      "22       0   0   0   0   0   0   0   0   0    0  ...      0     0     0     0   \n",
      "23       0   0   0   0   0   0   0   0   0    0  ...      0     0     0     0   \n",
      "24       0   0   0   0   0   0   0   0   0    0  ...      0     0     0     0   \n",
      "25       1   1   0   1   1   1   1   1   1    0  ...      1     1     1     0   \n",
      "26       1   1   0   1   1   1   1   1   1    0  ...      1     1     1     0   \n",
      "27       0   0   0   0   0   0   0   0   0    0  ...      0     0     0     0   \n",
      "28       0   0   0   0   0   0   0   0   0    0  ...      0     0     0     0   \n",
      "29       0   0   0   0   0   0   0   0   0    0  ...      0     0     0     0   \n",
      "...     ..  ..  ..  ..  ..  ..  ..  ..  ..  ...  ...    ...   ...   ...   ...   \n",
      "114291   1   1   0   1   1   1   1   1   1    0  ...      1     1     1     0   \n",
      "114292   0   0   0   0   0   0   0   0   0    0  ...      0     0     0     0   \n",
      "114293   0   0   0   0   0   0   0   0   0    0  ...      0     0     0     0   \n",
      "114294   1   1   0   1   1   1   1   1   1    0  ...      1     1     1     0   \n",
      "114295   0   0   0   0   0   0   0   0   0    0  ...      0     0     0     0   \n",
      "114296   1   1   0   1   1   1   1   1   1    0  ...      1     1     1     0   \n",
      "114297   0   0   0   0   0   0   0   0   0    0  ...      0     0     0     0   \n",
      "114298   0   0   0   0   0   0   0   0   0    0  ...      0     0     0     0   \n",
      "114299   0   0   0   0   0   0   0   0   0    0  ...      0     0     0     0   \n",
      "114300   0   0   0   0   0   0   0   0   0    0  ...      0     0     0     0   \n",
      "114301   1   1   0   1   1   1   1   1   1    0  ...      1     1     1     0   \n",
      "114302   0   0   0   0   0   0   0   0   0    0  ...      0     0     0     0   \n",
      "114303   1   1   0   1   1   1   1   1   1    0  ...      1     1     1     0   \n",
      "114304   1   1   0   1   1   1   1   1   1    0  ...      1     1     1     0   \n",
      "114305   0   0   0   0   0   0   0   0   0    0  ...      0     0     0     0   \n",
      "114306   0   0   0   0   0   0   0   0   0    0  ...      0     0     0     0   \n",
      "114307   1   1   0   1   1   1   1   1   1    0  ...      1     1     1     0   \n",
      "114308   1   1   0   1   1   1   1   1   1    0  ...      1     1     1     0   \n",
      "114309   1   1   0   1   1   1   1   1   1    0  ...      1     1     1     0   \n",
      "114310   1   1   0   1   1   1   1   1   1    0  ...      1     1     1     0   \n",
      "114311   1   1   0   1   1   1   1   1   1    0  ...      1     1     1     0   \n",
      "114312   0   0   0   0   0   0   0   0   0    0  ...      0     0     0     0   \n",
      "114313   0   0   0   0   0   0   0   0   0    0  ...      0     0     0     0   \n",
      "114314   0   0   0   0   0   0   0   0   0    0  ...      0     0     0     0   \n",
      "114315   1   1   0   1   1   1   1   1   1    0  ...      1     1     1     0   \n",
      "114316   1   1   0   1   1   1   1   1   1    0  ...      1     1     1     0   \n",
      "114317   1   1   0   1   1   1   1   1   1    0  ...      1     1     1     0   \n",
      "114318   1   1   0   1   0   1   1   0   1    0  ...      1     1     0     0   \n",
      "114319   1   1   0   1   0   1   1   0   1    0  ...      1     1     0     0   \n",
      "114320   0   0   0   0   0   0   0   0   0    0  ...      0     0     0     0   \n",
      "\n",
      "        v126  v127  v128  v129  v130  v131  \n",
      "0          0     0     0     0     0     0  \n",
      "1          1     1     0     0     1     1  \n",
      "2          0     0     0     0     0     0  \n",
      "3          0     0     0     0     0     0  \n",
      "4          1     1     1     0     1     1  \n",
      "5          1     1     0     0     1     1  \n",
      "6          0     0     0     0     0     0  \n",
      "7          1     1     1     0     1     1  \n",
      "8          0     0     0     0     0     0  \n",
      "9          0     0     0     0     0     0  \n",
      "10         1     1     1     0     1     1  \n",
      "11         1     1     1     0     1     1  \n",
      "12         1     1     1     0     1     1  \n",
      "13         0     0     0     0     0     0  \n",
      "14         0     0     0     0     0     0  \n",
      "15         1     1     1     0     1     1  \n",
      "16         0     0     0     0     0     0  \n",
      "17         1     1     1     0     1     1  \n",
      "18         1     1     1     0     1     1  \n",
      "19         1     1     1     0     1     1  \n",
      "20         0     0     0     0     0     0  \n",
      "21         0     0     0     0     0     0  \n",
      "22         0     0     0     0     0     0  \n",
      "23         0     0     0     0     0     0  \n",
      "24         0     0     0     0     0     0  \n",
      "25         1     1     1     0     1     1  \n",
      "26         1     1     1     0     1     1  \n",
      "27         0     0     0     0     0     0  \n",
      "28         0     0     0     0     0     0  \n",
      "29         0     0     0     0     0     0  \n",
      "...      ...   ...   ...   ...   ...   ...  \n",
      "114291     1     1     1     0     1     1  \n",
      "114292     0     0     0     0     0     0  \n",
      "114293     0     0     0     0     0     0  \n",
      "114294     1     1     1     0     1     1  \n",
      "114295     0     0     0     0     0     0  \n",
      "114296     1     1     1     0     1     1  \n",
      "114297     0     0     0     0     0     0  \n",
      "114298     0     0     0     0     0     0  \n",
      "114299     0     0     0     0     0     0  \n",
      "114300     0     0     0     0     0     0  \n",
      "114301     1     1     1     0     1     1  \n",
      "114302     0     0     0     0     0     0  \n",
      "114303     1     1     1     0     1     1  \n",
      "114304     1     1     1     0     1     1  \n",
      "114305     0     0     0     0     0     0  \n",
      "114306     0     0     0     0     0     0  \n",
      "114307     1     1     1     0     1     1  \n",
      "114308     1     1     1     0     1     1  \n",
      "114309     1     1     1     0     1     1  \n",
      "114310     1     1     1     0     1     1  \n",
      "114311     1     1     1     0     1     1  \n",
      "114312     0     0     0     0     0     0  \n",
      "114313     0     0     0     0     0     0  \n",
      "114314     0     0     0     0     0     0  \n",
      "114315     1     1     1     0     1     1  \n",
      "114316     1     1     1     0     1     1  \n",
      "114317     1     1     1     0     1     1  \n",
      "114318     1     1     0     0     1     1  \n",
      "114319     1     1     0     0     1     1  \n",
      "114320     0     0     0     0     0     0  \n",
      "\n",
      "[114321 rows x 131 columns]\n"
     ]
    }
   ],
   "source": [
    "print df"
   ]
  },
  {
   "cell_type": "code",
   "execution_count": 47,
   "metadata": {
    "collapsed": false
   },
   "outputs": [
    {
     "data": {
      "text/plain": [
       "v1      49832\n",
       "v2      49796\n",
       "v3       3457\n",
       "v4      49796\n",
       "v5      48624\n",
       "v6      49832\n",
       "v7      49832\n",
       "v8      48619\n",
       "v9      49851\n",
       "v10        84\n",
       "v11     49836\n",
       "v12        86\n",
       "v13     49832\n",
       "v14         4\n",
       "v15     49836\n",
       "v16     49895\n",
       "v17     49796\n",
       "v18     49832\n",
       "v19     49843\n",
       "v20     49840\n",
       "v21       611\n",
       "v22       500\n",
       "v23     50675\n",
       "v24         0\n",
       "v25     48619\n",
       "v26     49832\n",
       "v27     49832\n",
       "v28     49832\n",
       "v29     49832\n",
       "v30     60110\n",
       "        ...  \n",
       "v102    51316\n",
       "v103    49832\n",
       "v104    49832\n",
       "v105    48658\n",
       "v106    49796\n",
       "v107        3\n",
       "v108    48624\n",
       "v109    48624\n",
       "v110        0\n",
       "v111    49832\n",
       "v112      382\n",
       "v113    55304\n",
       "v114       30\n",
       "v115    49895\n",
       "v116    49836\n",
       "v117    48624\n",
       "v118    49843\n",
       "v119    50680\n",
       "v120    49836\n",
       "v121    49840\n",
       "v122    49851\n",
       "v123    50678\n",
       "v124    48619\n",
       "v125       77\n",
       "v126    49832\n",
       "v127    49832\n",
       "v128    48624\n",
       "v129        0\n",
       "v130    49843\n",
       "v131    49895\n",
       "dtype: int64"
      ]
     },
     "execution_count": 47,
     "metadata": {},
     "output_type": "execute_result"
    }
   ],
   "source": [
    "df.sum(axis=0)\n"
   ]
  },
  {
   "cell_type": "code",
   "execution_count": 48,
   "metadata": {
    "collapsed": false
   },
   "outputs": [
    {
     "data": {
      "text/plain": [
       "v30     60110\n",
       "v113    55304\n",
       "v102    51316\n",
       "v85     50682\n",
       "v119    50680\n",
       "v51     50678\n",
       "v123    50678\n",
       "v23     50675\n",
       "v131    49895\n",
       "v78     49895\n",
       "v115    49895\n",
       "v16     49895\n",
       "v69     49895\n",
       "v9      49851\n",
       "v122    49851\n",
       "v80     49851\n",
       "v130    49843\n",
       "v92     49843\n",
       "v95     49843\n",
       "v97     49843\n",
       "v37     49843\n",
       "v118    49843\n",
       "v19     49843\n",
       "v20     49840\n",
       "v65     49840\n",
       "v121    49840\n",
       "v39     49836\n",
       "v90     49836\n",
       "v116    49836\n",
       "v43     49836\n",
       "        ...  \n",
       "v54     48619\n",
       "v56      6882\n",
       "v3       3457\n",
       "v31      3457\n",
       "v21       611\n",
       "v22       500\n",
       "v112      382\n",
       "v40       111\n",
       "v34       111\n",
       "v50        86\n",
       "v12        86\n",
       "v10        84\n",
       "v125       77\n",
       "v114       30\n",
       "v14         4\n",
       "v52         3\n",
       "v107        3\n",
       "v91         3\n",
       "v129        0\n",
       "v74         0\n",
       "v110        0\n",
       "v24         0\n",
       "v72         0\n",
       "v38         0\n",
       "v47         0\n",
       "v62         0\n",
       "v79         0\n",
       "v75         0\n",
       "v71         0\n",
       "v66         0\n",
       "dtype: int64"
      ]
     },
     "execution_count": 48,
     "metadata": {},
     "output_type": "execute_result"
    }
   ],
   "source": [
    "df.sum(axis=0).sort_values(axis=0, ascending=False)"
   ]
  },
  {
   "cell_type": "code",
   "execution_count": null,
   "metadata": {
    "collapsed": true
   },
   "outputs": [],
   "source": []
  },
  {
   "cell_type": "code",
   "execution_count": 49,
   "metadata": {
    "collapsed": true
   },
   "outputs": [],
   "source": [
    "df=df[df.sum(axis=0).sort_values(axis=0, ascending=False).index]  "
   ]
  },
  {
   "cell_type": "code",
   "execution_count": 50,
   "metadata": {
    "collapsed": false
   },
   "outputs": [
    {
     "name": "stdout",
     "output_type": "stream",
     "text": [
      "        v30  v113  v102  v85  v119  v51  v123  v23  v131  v78 ...   v110  v24  \\\n",
      "0         0     1     0    0     0    0     0    0     0    0 ...      0    0   \n",
      "1         0     0     1    1     1    1     1    1     1    1 ...      0    0   \n",
      "2         1     1     0    0     0    0     0    0     0    0 ...      0    0   \n",
      "3         0     1     0    0     0    0     0    0     0    0 ...      0    0   \n",
      "4         1     0     1    1     1    1     1    1     1    1 ...      0    0   \n",
      "5         1     0     1    1     1    1     1    1     1    1 ...      0    0   \n",
      "6         0     1     0    0     0    0     0    0     0    0 ...      0    0   \n",
      "7         0     0     1    1     1    1     1    1     1    1 ...      0    0   \n",
      "8         1     1     0    0     0    0     0    0     0    0 ...      0    0   \n",
      "9         0     0     0    0     0    0     0    0     0    0 ...      0    0   \n",
      "10        0     0     1    1     1    1     1    1     1    1 ...      0    0   \n",
      "11        0     1     1    1     1    1     1    1     1    1 ...      0    0   \n",
      "12        1     0     1    1     1    1     1    1     1    1 ...      0    0   \n",
      "13        1     1     0    0     0    0     0    0     0    0 ...      0    0   \n",
      "14        0     1     0    0     0    0     0    0     0    0 ...      0    0   \n",
      "15        1     0     1    1     1    1     1    1     1    1 ...      0    0   \n",
      "16        0     0     0    0     0    0     0    0     0    0 ...      0    0   \n",
      "17        0     1     1    1     1    1     1    1     1    1 ...      0    0   \n",
      "18        1     1     1    1     1    1     1    1     1    1 ...      0    0   \n",
      "19        0     1     1    1     1    1     1    1     1    1 ...      0    0   \n",
      "20        1     1     0    0     0    0     0    0     0    0 ...      0    0   \n",
      "21        0     0     0    0     0    0     0    0     0    0 ...      0    0   \n",
      "22        1     0     0    0     0    0     0    0     0    0 ...      0    0   \n",
      "23        0     1     0    0     0    0     0    0     0    0 ...      0    0   \n",
      "24        0     1     0    0     0    0     0    0     0    0 ...      0    0   \n",
      "25        1     0     1    1     1    1     1    1     1    1 ...      0    0   \n",
      "26        1     0     1    1     1    1     1    1     1    1 ...      0    0   \n",
      "27        0     1     0    0     0    0     0    0     0    0 ...      0    0   \n",
      "28        1     1     0    0     0    0     0    0     0    0 ...      0    0   \n",
      "29        1     0     0    0     0    0     0    0     0    0 ...      0    0   \n",
      "...     ...   ...   ...  ...   ...  ...   ...  ...   ...  ... ...    ...  ...   \n",
      "114291    1     0     1    1     1    1     1    1     1    1 ...      0    0   \n",
      "114292    1     1     0    0     0    0     0    0     0    0 ...      0    0   \n",
      "114293    1     0     0    0     0    0     0    0     0    0 ...      0    0   \n",
      "114294    1     0     1    1     1    1     1    1     1    1 ...      0    0   \n",
      "114295    1     1     0    0     0    0     0    0     0    0 ...      0    0   \n",
      "114296    1     1     1    1     1    1     1    1     1    1 ...      0    0   \n",
      "114297    0     0     0    0     0    0     0    0     0    0 ...      0    0   \n",
      "114298    0     1     0    0     0    0     0    0     0    0 ...      0    0   \n",
      "114299    0     0     0    0     0    0     0    0     0    0 ...      0    0   \n",
      "114300    0     1     0    0     0    0     0    0     0    0 ...      0    0   \n",
      "114301    1     0     1    1     1    1     1    1     1    1 ...      0    0   \n",
      "114302    1     1     0    0     0    0     0    0     0    0 ...      0    0   \n",
      "114303    0     1     1    1     1    1     1    1     1    1 ...      0    0   \n",
      "114304    1     0     1    1     1    1     1    1     1    1 ...      0    0   \n",
      "114305    1     1     0    0     0    0     0    0     0    0 ...      0    0   \n",
      "114306    0     1     0    0     0    0     0    0     0    0 ...      0    0   \n",
      "114307    1     1     1    1     1    1     1    1     1    1 ...      0    0   \n",
      "114308    1     1     1    1     1    1     1    1     1    1 ...      0    0   \n",
      "114309    1     0     1    1     1    1     1    1     1    1 ...      0    0   \n",
      "114310    1     1     1    1     1    1     1    1     1    1 ...      0    0   \n",
      "114311    1     0     1    1     1    1     1    1     1    1 ...      0    0   \n",
      "114312    0     1     0    0     0    0     0    0     0    0 ...      0    0   \n",
      "114313    0     0     0    0     0    0     0    0     0    0 ...      0    0   \n",
      "114314    0     1     0    0     0    0     0    0     0    0 ...      0    0   \n",
      "114315    1     0     1    1     1    1     1    1     1    1 ...      0    0   \n",
      "114316    1     0     1    1     1    1     1    1     1    1 ...      0    0   \n",
      "114317    1     1     1    1     1    1     1    1     1    1 ...      0    0   \n",
      "114318    0     1     1    1     1    1     1    1     1    1 ...      0    0   \n",
      "114319    0     1     1    1     1    1     1    1     1    1 ...      0    0   \n",
      "114320    0     1     0    0     0    0     0    0     0    0 ...      0    0   \n",
      "\n",
      "        v72  v38  v47  v62  v79  v75  v71  v66  \n",
      "0         0    0    0    0    0    0    0    0  \n",
      "1         0    0    0    0    0    0    0    0  \n",
      "2         0    0    0    0    0    0    0    0  \n",
      "3         0    0    0    0    0    0    0    0  \n",
      "4         0    0    0    0    0    0    0    0  \n",
      "5         0    0    0    0    0    0    0    0  \n",
      "6         0    0    0    0    0    0    0    0  \n",
      "7         0    0    0    0    0    0    0    0  \n",
      "8         0    0    0    0    0    0    0    0  \n",
      "9         0    0    0    0    0    0    0    0  \n",
      "10        0    0    0    0    0    0    0    0  \n",
      "11        0    0    0    0    0    0    0    0  \n",
      "12        0    0    0    0    0    0    0    0  \n",
      "13        0    0    0    0    0    0    0    0  \n",
      "14        0    0    0    0    0    0    0    0  \n",
      "15        0    0    0    0    0    0    0    0  \n",
      "16        0    0    0    0    0    0    0    0  \n",
      "17        0    0    0    0    0    0    0    0  \n",
      "18        0    0    0    0    0    0    0    0  \n",
      "19        0    0    0    0    0    0    0    0  \n",
      "20        0    0    0    0    0    0    0    0  \n",
      "21        0    0    0    0    0    0    0    0  \n",
      "22        0    0    0    0    0    0    0    0  \n",
      "23        0    0    0    0    0    0    0    0  \n",
      "24        0    0    0    0    0    0    0    0  \n",
      "25        0    0    0    0    0    0    0    0  \n",
      "26        0    0    0    0    0    0    0    0  \n",
      "27        0    0    0    0    0    0    0    0  \n",
      "28        0    0    0    0    0    0    0    0  \n",
      "29        0    0    0    0    0    0    0    0  \n",
      "...     ...  ...  ...  ...  ...  ...  ...  ...  \n",
      "114291    0    0    0    0    0    0    0    0  \n",
      "114292    0    0    0    0    0    0    0    0  \n",
      "114293    0    0    0    0    0    0    0    0  \n",
      "114294    0    0    0    0    0    0    0    0  \n",
      "114295    0    0    0    0    0    0    0    0  \n",
      "114296    0    0    0    0    0    0    0    0  \n",
      "114297    0    0    0    0    0    0    0    0  \n",
      "114298    0    0    0    0    0    0    0    0  \n",
      "114299    0    0    0    0    0    0    0    0  \n",
      "114300    0    0    0    0    0    0    0    0  \n",
      "114301    0    0    0    0    0    0    0    0  \n",
      "114302    0    0    0    0    0    0    0    0  \n",
      "114303    0    0    0    0    0    0    0    0  \n",
      "114304    0    0    0    0    0    0    0    0  \n",
      "114305    0    0    0    0    0    0    0    0  \n",
      "114306    0    0    0    0    0    0    0    0  \n",
      "114307    0    0    0    0    0    0    0    0  \n",
      "114308    0    0    0    0    0    0    0    0  \n",
      "114309    0    0    0    0    0    0    0    0  \n",
      "114310    0    0    0    0    0    0    0    0  \n",
      "114311    0    0    0    0    0    0    0    0  \n",
      "114312    0    0    0    0    0    0    0    0  \n",
      "114313    0    0    0    0    0    0    0    0  \n",
      "114314    0    0    0    0    0    0    0    0  \n",
      "114315    0    0    0    0    0    0    0    0  \n",
      "114316    0    0    0    0    0    0    0    0  \n",
      "114317    0    0    0    0    0    0    0    0  \n",
      "114318    0    0    0    0    0    0    0    0  \n",
      "114319    0    0    0    0    0    0    0    0  \n",
      "114320    0    0    0    0    0    0    0    0  \n",
      "\n",
      "[114321 rows x 131 columns]\n"
     ]
    }
   ],
   "source": [
    "print df"
   ]
  },
  {
   "cell_type": "code",
   "execution_count": 55,
   "metadata": {
    "collapsed": false
   },
   "outputs": [
    {
     "data": {
      "image/png": "[encoded data removed]",
      "text/plain": [
       "<matplotlib.figure.Figure at 0x111f8da90>"
      ]
     },
     "metadata": {},
     "output_type": "display_data"
    }
   ],
   "source": [
    "#distribution of NA by column\n",
    "fig, ax = plt.subplots(figsize=(13, 7))\n",
    "ax.grid(False)\n",
    "bar = ax.bar(range(len(df.columns)),df.sum(axis=0).values)\n",
    "plt.xticks(0.5+np.arange(len(df.columns)), df.columns, fontsize=8,rotation=90)\n",
    "plt.axis('tight')\n",
    "plt.tight_layout()\n",
    "plt.savefig('NA_BAR.png')\n",
    "\n",
    "t=np.zeros((train2.shape[0]), dtype=object) #130 bit int will be stored here for sorting purposes\n",
    "\n",
    "for i,c in enumerate(train2.columns):\n",
    "    t+=df[c]*(2**i)#Create 130bit long integer with 1 corresponding to NA\n",
    "\n",
    "df=pd.concat((df,pd.DataFrame(t)),axis=1)#add as a row\n",
    "df=df.sort_values(by=0, ascending=False).drop(0,axis=1)#and sort by it\n"
   ]
  },
  {
   "cell_type": "markdown",
   "metadata": {
    "collapsed": true
   },
   "source": [
    " ## Extra Tree Classifier"
   ]
  },
  {
   "cell_type": "code",
   "execution_count": 56,
   "metadata": {
    "collapsed": true
   },
   "outputs": [],
   "source": [
    "import csv\n",
    "from sklearn.ensemble import ExtraTreesClassifier"
   ]
  },
  {
   "cell_type": "code",
   "execution_count": 57,
   "metadata": {
    "collapsed": true
   },
   "outputs": [],
   "source": [
    "target = train['target'].values"
   ]
  },
  {
   "cell_type": "code",
   "execution_count": 58,
   "metadata": {
    "collapsed": true
   },
   "outputs": [],
   "source": [
    "train = train.drop(['ID','target','v8','v23','v25','v31','v36','v37',\\\n",
    "                    'v46','v51','v53','v54','v63','v73','v75','v79','v81','v82','v89','v92',\\\n",
    "                    'v95','v105','v107','v108','v109','v110','v116','v117','v118','v119','v123','v124','v128'],axis=1)"
   ]
  },
  {
   "cell_type": "code",
   "execution_count": 61,
   "metadata": {
    "collapsed": false
   },
   "outputs": [],
   "source": [
    "id_test = test['ID'].values"
   ]
  },
  {
   "cell_type": "code",
   "execution_count": 38,
   "metadata": {
    "collapsed": true
   },
   "outputs": [],
   "source": [
    "test = test.drop(['ID','v8','v23','v25','v31','v36','v37',\\ \n",
    "                  'v46','v51','v53','v54','v63','v73','v75','v79','v81','v82','v89','v92',\\\n",
    "                  'v95','v105','v107','v108','v109','v110','v116','v117','v118','v119','v123','v124','v128'],axis=1)"
   ]
  },
  {
   "cell_type": "code",
   "execution_count": null,
   "metadata": {
    "collapsed": true
   },
   "outputs": [],
   "source": [
    "# iteritems() is more energy efficient than items()"
   ]
  },
  {
   "cell_type": "code",
   "execution_count": 62,
   "metadata": {
    "collapsed": true
   },
   "outputs": [],
   "source": [
    "for (train_name, train_series), (test_name, test_series) in zip(train.iteritems(),test.iteritems()):\n",
    "    if train_series.dtype == 'O':\n",
    "        #for objects: factorize\n",
    "        train[train_name], tmp_indexer = pd.factorize(train[train_name])\n",
    "        test[test_name] = tmp_indexer.get_indexer(test[test_name])\n",
    "        #but now we have -1 values (NaN)\n",
    "    else:\n",
    "        #for int or float: fill NaN\n",
    "        tmp_len = len(train[train_series.isnull()])\n",
    "        if tmp_len>0:\n",
    "            #print \"mean\", train_series.mean()\n",
    "            train.loc[train_series.isnull(), train_name] = -997 \n",
    "        #and Test\n",
    "        tmp_len = len(test[test_series.isnull()])\n",
    "        if tmp_len>0:\n",
    "            test.loc[test_series.isnull(), test_name] = -997\n",
    "\n"
   ]
  },
  {
   "cell_type": "code",
   "execution_count": null,
   "metadata": {
    "collapsed": true
   },
   "outputs": [],
   "source": [
    "# training the model\n",
    "X_train = train\n",
    "extc = ExtraTreesClassifier(n_estimators = 851, max_features = 60, criterion = 'entropy', min_samples_split = 4,\n",
    "                            max_depth = 40, min_samples_leaf = 2, n_jobs = -1) \n",
    "\n",
    "extc.fit(X_train,target) "
   ]
  },
  {
   "cell_type": "code",
   "execution_count": null,
   "metadata": {
    "collapsed": true
   },
   "outputs": [],
   "source": [
    "# Predict using the model\n",
    "\n",
    "X_test = test\n",
    "y_pred = extc.predict_proba(X_test)\n",
    "#print y_pred"
   ]
  },
  {
   "cell_type": "code",
   "execution_count": null,
   "metadata": {
    "collapsed": true
   },
   "outputs": [],
   "source": [
    "pd.DataFrame({\"ID\": id_test, \"PredictedProb\": y_pred[:,1]}).to_csv('extra_trees.csv',index=False)"
   ]
  },
  {
   "cell_type": "code",
   "execution_count": null,
   "metadata": {
    "collapsed": true
   },
   "outputs": [],
   "source": []
  }
 ],
 "metadata": {
  "anaconda-cloud": {},
  "kernelspec": {
   "display_name": "Python [Root]",
   "language": "python",
   "name": "Python [Root]"
  },
  "language_info": {
   "codemirror_mode": {
    "name": "ipython",
    "version": 2
   },
   "file_extension": ".py",
   "mimetype": "text/x-python",
   "name": "python",
   "nbconvert_exporter": "python",
   "pygments_lexer": "ipython2",
   "version": "2.7.12"
  }
 },
 "nbformat": 4,
 "nbformat_minor": 0
}
