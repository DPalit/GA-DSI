{
 "cells": [
  {
   "cell_type": "markdown",
   "metadata": {},
   "source": [
    "# Project 1\n",
    "\n",
    "## Step 1: Open the `sat_scores.csv` file. Investigate the data, and answer the questions below.\n"
   ]
  },
  {
   "cell_type": "markdown",
   "metadata": {},
   "source": [
    "##### 1. What does the data describe?"
   ]
  },
  {
   "cell_type": "markdown",
   "metadata": {},
   "source": [
    "The data describes the SAT scores of the students in the 51 different states of the United States. The data includes DC in the list of states. Hence, there are 51 states in all in the dataset. The last column in the data represents the data for the state \"ALL\". Since in the united states, we do not have any state \"ALL\", I have chosen to take the column off my actual data for analysis. \n",
    "The columns are State, Rate, Verbal and Math."
   ]
  },
  {
   "cell_type": "markdown",
   "metadata": {},
   "source": [
    "##### 2. Does the data look complete? Are there any obvious issues with the observations?"
   ]
  },
  {
   "cell_type": "markdown",
   "metadata": {},
   "source": [
    "The data looks complete. However, the last column i.e the 51st column contains the value for the state \"ALL\". There is no state named \"All\" and also the data contains DC as a state. I have chosen to remove the column called \"ALL\" from my data for computation. The header is a non-numeric column. "
   ]
  },
  {
   "cell_type": "markdown",
   "metadata": {},
   "source": [
    "##### 3. Create a data dictionary for the dataset."
   ]
  },
  {
   "cell_type": "code",
   "execution_count": 6,
   "metadata": {
    "collapsed": false
   },
   "outputs": [
    {
     "name": "stdout",
     "output_type": "stream",
     "text": [
      "{'Math': ['510', '513', '515', '505', '516', '499', '499', '506', '500', '501', '499', '510', '499', '489', '501', '488', '474', '526', '499', '527', '499', '515', '510', '517', '525', '515', '542', '439', '539', '512', '542', '553', '542', '589', '550', '545', '572', '589', '580', '554', '568', '561', '577', '562', '596', '550', '570', '603', '582', '599', '551', '514'], 'State': ['CT', 'NJ', 'MA', 'NY', 'NH', 'RI', 'PA', 'VT', 'ME', 'VA', 'DE', 'MD', 'NC', 'GA', 'IN', 'SC', 'DC', 'OR', 'FL', 'WA', 'TX', 'HI', 'AK', 'CA', 'AZ', 'NV', 'CO', 'OH', 'MT', 'WV', 'ID', 'TN', 'NM', 'IL', 'KY', 'WY', 'MI', 'MN', 'KS', 'AL', 'NE', 'OK', 'MO', 'LA', 'WI', 'AR', 'UT', 'IA', 'SD', 'ND', 'MS', 'All'], 'Rate': ['82', '81', '79', '77', '72', '71', '71', '69', '69', '68', '67', '65', '65', '63', '60', '57', '56', '55', '54', '53', '53', '52', '51', '51', '34', '33', '31', '26', '23', '18', '17', '13', '13', '12', '12', '11', '11', '9', '9', '9', '8', '8', '8', '7', '6', '6', '5', '5', '4', '4', '4', '45'], 'Verbal': ['509', '499', '511', '495', '520', '501', '500', '511', '506', '510', '501', '508', '493', '491', '499', '486', '482', '526', '498', '527', '493', '485', '514', '498', '523', '509', '539', '534', '539', '527', '543', '562', '551', '576', '550', '547', '561', '580', '577', '559', '562', '567', '577', '564', '584', '562', '575', '593', '577', '592', '566', '506']}\n"
     ]
    }
   ],
   "source": [
    "import csv\n",
    "\n",
    "rows = []\n",
    "\n",
    "with open('/Users/Debjani/GA-DSI/projects/projects-weekly/project-01/assets/sat_scores.csv', 'r') as f:\n",
    "    reader = csv.reader(f)\n",
    "    \n",
    "    for row in reader:\n",
    "        rows.append(row)\n",
    "        \n",
    "    header = rows[0]\n",
    "    data = rows[1:]\n",
    "    #print(header)\n",
    "\n",
    "Data = {}\n",
    "\n",
    "for index, e in enumerate(header):\n",
    "    Data[e] = []\n",
    "    for row in data:\n",
    "        Data[e].append(row[index])\n",
    "print Data "
   ]
  },
  {
   "cell_type": "markdown",
   "metadata": {},
   "source": [
    "## Step 2: Load the data."
   ]
  },
  {
   "cell_type": "markdown",
   "metadata": {},
   "source": [
    "##### 4. Load the data into a list of lists"
   ]
  },
  {
   "cell_type": "code",
   "execution_count": 1,
   "metadata": {
    "collapsed": false
   },
   "outputs": [
    {
     "name": "stdout",
     "output_type": "stream",
     "text": [
      "[['State', 'Rate', 'Verbal', 'Math'], ['CT', '82', '509', '510'], ['NJ', '81', '499', '513'], ['MA', '79', '511', '515'], ['NY', '77', '495', '505'], ['NH', '72', '520', '516'], ['RI', '71', '501', '499'], ['PA', '71', '500', '499'], ['VT', '69', '511', '506'], ['ME', '69', '506', '500'], ['VA', '68', '510', '501'], ['DE', '67', '501', '499'], ['MD', '65', '508', '510'], ['NC', '65', '493', '499'], ['GA', '63', '491', '489'], ['IN', '60', '499', '501'], ['SC', '57', '486', '488'], ['DC', '56', '482', '474'], ['OR', '55', '526', '526'], ['FL', '54', '498', '499'], ['WA', '53', '527', '527'], ['TX', '53', '493', '499'], ['HI', '52', '485', '515'], ['AK', '51', '514', '510'], ['CA', '51', '498', '517'], ['AZ', '34', '523', '525'], ['NV', '33', '509', '515'], ['CO', '31', '539', '542'], ['OH', '26', '534', '439'], ['MT', '23', '539', '539'], ['WV', '18', '527', '512'], ['ID', '17', '543', '542'], ['TN', '13', '562', '553'], ['NM', '13', '551', '542'], ['IL', '12', '576', '589'], ['KY', '12', '550', '550'], ['WY', '11', '547', '545'], ['MI', '11', '561', '572'], ['MN', '9', '580', '589'], ['KS', '9', '577', '580'], ['AL', '9', '559', '554'], ['NE', '8', '562', '568'], ['OK', '8', '567', '561'], ['MO', '8', '577', '577'], ['LA', '7', '564', '562'], ['WI', '6', '584', '596'], ['AR', '6', '562', '550'], ['UT', '5', '575', '570'], ['IA', '5', '593', '603'], ['SD', '4', '577', '582'], ['ND', '4', '592', '599'], ['MS', '4', '566', '551'], ['All', '45', '506', '514']]\n"
     ]
    }
   ],
   "source": [
    "import csv\n",
    "my_list = []\n",
    "with open('/Users/Debjani/GA-DSI/projects/projects-weekly/project-01/assets/sat_scores.csv', 'rU') as f:\n",
    "    reader = csv.reader(f)\n",
    "    for row in reader:\n",
    "        my_list.append(row)  \n",
    "        \n",
    "    print my_list    "
   ]
  },
  {
   "cell_type": "markdown",
   "metadata": {},
   "source": [
    "##### 5. Print the data"
   ]
  },
  {
   "cell_type": "code",
   "execution_count": 2,
   "metadata": {
    "collapsed": false
   },
   "outputs": [
    {
     "name": "stdout",
     "output_type": "stream",
     "text": [
      "[['State' 'Rate' 'Verbal' 'Math']\n",
      " ['CT' '82' '509' '510']\n",
      " ['NJ' '81' '499' '513']\n",
      " ['MA' '79' '511' '515']\n",
      " ['NY' '77' '495' '505']\n",
      " ['NH' '72' '520' '516']\n",
      " ['RI' '71' '501' '499']\n",
      " ['PA' '71' '500' '499']\n",
      " ['VT' '69' '511' '506']\n",
      " ['ME' '69' '506' '500']\n",
      " ['VA' '68' '510' '501']\n",
      " ['DE' '67' '501' '499']\n",
      " ['MD' '65' '508' '510']\n",
      " ['NC' '65' '493' '499']\n",
      " ['GA' '63' '491' '489']\n",
      " ['IN' '60' '499' '501']\n",
      " ['SC' '57' '486' '488']\n",
      " ['DC' '56' '482' '474']\n",
      " ['OR' '55' '526' '526']\n",
      " ['FL' '54' '498' '499']\n",
      " ['WA' '53' '527' '527']\n",
      " ['TX' '53' '493' '499']\n",
      " ['HI' '52' '485' '515']\n",
      " ['AK' '51' '514' '510']\n",
      " ['CA' '51' '498' '517']\n",
      " ['AZ' '34' '523' '525']\n",
      " ['NV' '33' '509' '515']\n",
      " ['CO' '31' '539' '542']\n",
      " ['OH' '26' '534' '439']\n",
      " ['MT' '23' '539' '539']\n",
      " ['WV' '18' '527' '512']\n",
      " ['ID' '17' '543' '542']\n",
      " ['TN' '13' '562' '553']\n",
      " ['NM' '13' '551' '542']\n",
      " ['IL' '12' '576' '589']\n",
      " ['KY' '12' '550' '550']\n",
      " ['WY' '11' '547' '545']\n",
      " ['MI' '11' '561' '572']\n",
      " ['MN' '9' '580' '589']\n",
      " ['KS' '9' '577' '580']\n",
      " ['AL' '9' '559' '554']\n",
      " ['NE' '8' '562' '568']\n",
      " ['OK' '8' '567' '561']\n",
      " ['MO' '8' '577' '577']\n",
      " ['LA' '7' '564' '562']\n",
      " ['WI' '6' '584' '596']\n",
      " ['AR' '6' '562' '550']\n",
      " ['UT' '5' '575' '570']\n",
      " ['IA' '5' '593' '603']\n",
      " ['SD' '4' '577' '582']\n",
      " ['ND' '4' '592' '599']\n",
      " ['MS' '4' '566' '551']\n",
      " ['All' '45' '506' '514']]\n"
     ]
    }
   ],
   "source": [
    "import csv as csv\n",
    "import numpy as np\n",
    "\n",
    "my_list = []\n",
    "with open('/Users/Debjani/GA-DSI/projects/projects-weekly/project-01/assets/sat_scores.csv', 'rU') as f:\n",
    "    reader = csv.reader(f)\n",
    "    for row in reader:\n",
    "        my_list.append(row)\n",
    "        \n",
    "    my_list = np.array(my_list) \n",
    "    print my_list"
   ]
  },
  {
   "cell_type": "code",
   "execution_count": 5,
   "metadata": {
    "collapsed": false
   },
   "outputs": [
    {
     "name": "stdout",
     "output_type": "stream",
     "text": [
      "   State  Rate  Verbal  Math\n",
      "0     CT    82     509   510\n",
      "1     NJ    81     499   513\n",
      "2     MA    79     511   515\n",
      "3     NY    77     495   505\n",
      "4     NH    72     520   516\n",
      "5     RI    71     501   499\n",
      "6     PA    71     500   499\n",
      "7     VT    69     511   506\n",
      "8     ME    69     506   500\n",
      "9     VA    68     510   501\n",
      "10    DE    67     501   499\n",
      "11    MD    65     508   510\n",
      "12    NC    65     493   499\n",
      "13    GA    63     491   489\n",
      "14    IN    60     499   501\n",
      "15    SC    57     486   488\n",
      "16    DC    56     482   474\n",
      "17    OR    55     526   526\n",
      "18    FL    54     498   499\n",
      "19    WA    53     527   527\n",
      "20    TX    53     493   499\n",
      "21    HI    52     485   515\n",
      "22    AK    51     514   510\n",
      "23    CA    51     498   517\n",
      "24    AZ    34     523   525\n",
      "25    NV    33     509   515\n",
      "26    CO    31     539   542\n",
      "27    OH    26     534   439\n",
      "28    MT    23     539   539\n",
      "29    WV    18     527   512\n",
      "30    ID    17     543   542\n",
      "31    TN    13     562   553\n",
      "32    NM    13     551   542\n",
      "33    IL    12     576   589\n",
      "34    KY    12     550   550\n",
      "35    WY    11     547   545\n",
      "36    MI    11     561   572\n",
      "37    MN     9     580   589\n",
      "38    KS     9     577   580\n",
      "39    AL     9     559   554\n",
      "40    NE     8     562   568\n",
      "41    OK     8     567   561\n",
      "42    MO     8     577   577\n",
      "43    LA     7     564   562\n",
      "44    WI     6     584   596\n",
      "45    AR     6     562   550\n",
      "46    UT     5     575   570\n",
      "47    IA     5     593   603\n",
      "48    SD     4     577   582\n",
      "49    ND     4     592   599\n",
      "50    MS     4     566   551\n",
      "51   All    45     506   514\n"
     ]
    }
   ],
   "source": [
    "import pandas as pd\n",
    "import numpy as np\n",
    "\n",
    "df = pd.read_csv('/Users/Debjani/GA-DSI/projects/projects-weekly/project-01/assets/sat_scores.csv', header=0)\n",
    "\n",
    "print df"
   ]
  },
  {
   "cell_type": "markdown",
   "metadata": {
    "collapsed": true
   },
   "source": [
    "##### 6. Extract a list of the labels from the data, and remove them from the data."
   ]
  },
  {
   "cell_type": "code",
   "execution_count": 18,
   "metadata": {
    "collapsed": false
   },
   "outputs": [
    {
     "name": "stdout",
     "output_type": "stream",
     "text": [
      "['State', 'Rate', 'Verbal', 'Math']\n",
      "[['CT', '82', '509', '510'], ['NJ', '81', '499', '513'], ['MA', '79', '511', '515'], ['NY', '77', '495', '505'], ['NH', '72', '520', '516'], ['RI', '71', '501', '499'], ['PA', '71', '500', '499'], ['VT', '69', '511', '506'], ['ME', '69', '506', '500'], ['VA', '68', '510', '501'], ['DE', '67', '501', '499'], ['MD', '65', '508', '510'], ['NC', '65', '493', '499'], ['GA', '63', '491', '489'], ['IN', '60', '499', '501'], ['SC', '57', '486', '488'], ['DC', '56', '482', '474'], ['OR', '55', '526', '526'], ['FL', '54', '498', '499'], ['WA', '53', '527', '527'], ['TX', '53', '493', '499'], ['HI', '52', '485', '515'], ['AK', '51', '514', '510'], ['CA', '51', '498', '517'], ['AZ', '34', '523', '525'], ['NV', '33', '509', '515'], ['CO', '31', '539', '542'], ['OH', '26', '534', '439'], ['MT', '23', '539', '539'], ['WV', '18', '527', '512'], ['ID', '17', '543', '542'], ['TN', '13', '562', '553'], ['NM', '13', '551', '542'], ['IL', '12', '576', '589'], ['KY', '12', '550', '550'], ['WY', '11', '547', '545'], ['MI', '11', '561', '572'], ['MN', '9', '580', '589'], ['KS', '9', '577', '580'], ['AL', '9', '559', '554'], ['NE', '8', '562', '568'], ['OK', '8', '567', '561'], ['MO', '8', '577', '577'], ['LA', '7', '564', '562'], ['WI', '6', '584', '596'], ['AR', '6', '562', '550'], ['UT', '5', '575', '570'], ['IA', '5', '593', '603'], ['SD', '4', '577', '582'], ['ND', '4', '592', '599'], ['MS', '4', '566', '551'], ['All', '45', '506', '514']]\n"
     ]
    }
   ],
   "source": [
    "import csv as csv\n",
    "import numpy as np\n",
    "\n",
    "rows = []\n",
    "\n",
    "with open('/Users/Debjani/GA-DSI/projects/projects-weekly/project-01/assets/sat_scores.csv', 'r') as f:\n",
    "    reader = csv.reader(f)\n",
    "    for row in reader:\n",
    "        rows.append(row)\n",
    "        \n",
    "        \n",
    "    header = rows[0]\n",
    "    data = rows[1:]\n",
    "    \n",
    "    #list of the labels\n",
    "    print header\n",
    "    \n",
    "    #Data without the labels\n",
    "    print data\n",
    "        \n",
    "        \n",
    "        "
   ]
  },
  {
   "cell_type": "markdown",
   "metadata": {},
   "source": [
    "##### 7. Create a list of State names extracted from the data. (Hint: use the list of labels to index on the State column)"
   ]
  },
  {
   "cell_type": "code",
   "execution_count": 4,
   "metadata": {
    "collapsed": false,
    "scrolled": true
   },
   "outputs": [
    {
     "name": "stdout",
     "output_type": "stream",
     "text": [
      "State = \n",
      "['CT', 'NJ', 'MA', 'NY', 'NH', 'RI', 'PA', 'VT', 'ME', 'VA', 'DE', 'MD', 'NC', 'GA', 'IN', 'SC', 'DC', 'OR', 'FL', 'WA', 'TX', 'HI', 'AK', 'CA', 'AZ', 'NV', 'CO', 'OH', 'MT', 'WV', 'ID', 'TN', 'NM', 'IL', 'KY', 'WY', 'MI', 'MN', 'KS', 'AL', 'NE', 'OK', 'MO', 'LA', 'WI', 'AR', 'UT', 'IA', 'SD', 'ND', 'MS']\n"
     ]
    }
   ],
   "source": [
    "import csv\n",
    "rows = []\n",
    "\n",
    "with open('/Users/Debjani/GA-DSI/projects/projects-weekly/project-01/assets/sat_scores.csv', 'r') as f:\n",
    "    reader = csv.reader(f)\n",
    "    for row in reader:\n",
    "        rows.append(row)\n",
    "        \n",
    "        \n",
    "    header = rows[0]\n",
    "    data = rows[1:52]\n",
    "    \n",
    "    state = []\n",
    "    for e in data:\n",
    "        state.append(e[0])\n",
    "    \n",
    "    print header[0] + \" = \"\n",
    "    \n",
    "    print state    "
   ]
  },
  {
   "cell_type": "markdown",
   "metadata": {},
   "source": [
    "##### 8. Print the types of each column"
   ]
  },
  {
   "cell_type": "code",
   "execution_count": 3,
   "metadata": {
    "collapsed": false
   },
   "outputs": [
    {
     "data": {
      "text/plain": [
       "State     object\n",
       "Rate       int64\n",
       "Verbal     int64\n",
       "Math       int64\n",
       "dtype: object"
      ]
     },
     "execution_count": 3,
     "metadata": {},
     "output_type": "execute_result"
    }
   ],
   "source": [
    "import pandas as pd\n",
    "import numpy as np\n",
    "\n",
    "df = pd.read_csv('/Users/Debjani/GA-DSI/projects/projects-weekly/project-01/assets/sat_scores.csv', header=0)\n",
    "\n",
    "\n",
    "df.dtypes\n"
   ]
  },
  {
   "cell_type": "code",
   "execution_count": 20,
   "metadata": {
    "collapsed": false
   },
   "outputs": [
    {
     "name": "stdout",
     "output_type": "stream",
     "text": [
      "['CT', '82', '509', '510']\n",
      "<type 'str'>\n",
      "<type 'str'>\n",
      "<type 'str'>\n",
      "<type 'str'>\n"
     ]
    }
   ],
   "source": [
    "# In csv the data is in the string format. \n",
    "\n",
    "import csv\n",
    "rows = []\n",
    "\n",
    "with open('/Users/Debjani/GA-DSI/projects/projects-weekly/project-01/assets/sat_scores.csv', 'r') as f:\n",
    "    reader = csv.reader(f)\n",
    "    for row in reader:\n",
    "        rows.append(row)\n",
    "        \n",
    "        \n",
    "    header = rows[0]\n",
    "    data = rows[1:52]\n",
    "    \n",
    "    #print data\n",
    "    \n",
    "    ab = data[0]\n",
    "    \n",
    "    print ab\n",
    "    \n",
    "    print type(ab[0])\n",
    "    print type(ab[1])\n",
    "    print type(ab[2])\n",
    "    print type(ab[3])\n"
   ]
  },
  {
   "cell_type": "markdown",
   "metadata": {},
   "source": [
    "##### 9. Do any types need to be reassigned? If so, go ahead and do it."
   ]
  },
  {
   "cell_type": "markdown",
   "metadata": {},
   "source": [
    "In CSV format all the data including the numeric values are in type string. We need to convert the numeric data into float because python works with type float."
   ]
  },
  {
   "cell_type": "code",
   "execution_count": 7,
   "metadata": {
    "collapsed": false
   },
   "outputs": [
    {
     "name": "stdout",
     "output_type": "stream",
     "text": [
      "[[ 510.  513.  515.  505.  516.  499.  499.  506.  500.  501.  499.  510.\n",
      "   499.  489.  501.  488.  474.  526.  499.  527.  499.  515.  510.  517.\n",
      "   525.  515.  542.  439.  539.  512.  542.  553.  542.  589.  550.  545.\n",
      "   572.  589.  580.  554.  568.  561.  577.  562.  596.  550.  570.  603.\n",
      "   582.  599.  551.]\n",
      " [  82.   81.   79.   77.   72.   71.   71.   69.   69.   68.   67.   65.\n",
      "    65.   63.   60.   57.   56.   55.   54.   53.   53.   52.   51.   51.\n",
      "    34.   33.   31.   26.   23.   18.   17.   13.   13.   12.   12.   11.\n",
      "    11.    9.    9.    9.    8.    8.    8.    7.    6.    6.    5.    5.\n",
      "     4.    4.    4.]\n",
      " [ 509.  499.  511.  495.  520.  501.  500.  511.  506.  510.  501.  508.\n",
      "   493.  491.  499.  486.  482.  526.  498.  527.  493.  485.  514.  498.\n",
      "   523.  509.  539.  534.  539.  527.  543.  562.  551.  576.  550.  547.\n",
      "   561.  580.  577.  559.  562.  567.  577.  564.  584.  562.  575.  593.\n",
      "   577.  592.  566.]]\n"
     ]
    }
   ],
   "source": [
    "import csv\n",
    "import numpy as np\n",
    "\n",
    "rows = []\n",
    "\n",
    "with open('/Users/Debjani/GA-DSI/projects/projects-weekly/project-01/assets/sat_scores.csv', 'r') as f:\n",
    "    reader = csv.reader(f)\n",
    "    for row in reader:\n",
    "        rows.append(row)\n",
    "        \n",
    "    header = rows[0]\n",
    "    \n",
    "    data = rows[1:52]\n",
    "    #print(header)\n",
    "\n",
    "sat_scores = {}\n",
    "\n",
    "for index, e in enumerate(header):\n",
    "    sat_scores[e] = []\n",
    "    for row in data:\n",
    "        sat_scores[e].append(row[index])\n",
    "\n",
    "sat_scores.pop('State', None) \n",
    "\n",
    "sat_score_value= sat_scores.values()\n",
    "\n",
    "sat_score_value = np.array(sat_score_value)\n",
    "\n",
    "data = sat_score_value.astype(np.float)\n",
    "\n",
    "print data       \n",
    "        \n",
    "        \n",
    "        \n"
   ]
  },
  {
   "cell_type": "markdown",
   "metadata": {},
   "source": [
    "##### 10. Create a dictionary for each column mapping the State to its respective value for that column. "
   ]
  },
  {
   "cell_type": "code",
   "execution_count": 25,
   "metadata": {
    "collapsed": false
   },
   "outputs": [
    {
     "name": "stdout",
     "output_type": "stream",
     "text": [
      "{'WA': ['53', '527', '527'], 'DE': ['67', '501', '499'], 'DC': ['56', '482', '474'], 'WI': ['6', '584', '596'], 'WV': ['18', '527', '512'], 'HI': ['52', '485', '515'], 'FL': ['54', '498', '499'], 'WY': ['11', '547', '545'], 'NH': ['72', '520', '516'], 'NJ': ['81', '499', '513'], 'NM': ['13', '551', '542'], 'TX': ['53', '493', '499'], 'LA': ['7', '564', '562'], 'NC': ['65', '493', '499'], 'ND': ['4', '592', '599'], 'NE': ['8', '562', '568'], 'TN': ['13', '562', '553'], 'NY': ['77', '495', '505'], 'PA': ['71', '500', '499'], 'RI': ['71', '501', '499'], 'NV': ['33', '509', '515'], 'VA': ['68', '510', '501'], 'CO': ['31', '539', '542'], 'AK': ['51', '514', '510'], 'AL': ['9', '559', '554'], 'AR': ['6', '562', '550'], 'VT': ['69', '511', '506'], 'IL': ['12', '576', '589'], 'GA': ['63', '491', '489'], 'IN': ['60', '499', '501'], 'IA': ['5', '593', '603'], 'OK': ['8', '567', '561'], 'AZ': ['34', '523', '525'], 'CA': ['51', '498', '517'], 'ID': ['17', '543', '542'], 'CT': ['82', '509', '510'], 'ME': ['69', '506', '500'], 'MD': ['65', '508', '510'], 'MA': ['79', '511', '515'], 'OH': ['26', '534', '439'], 'UT': ['5', '575', '570'], 'MO': ['8', '577', '577'], 'MN': ['9', '580', '589'], 'MI': ['11', '561', '572'], 'KS': ['9', '577', '580'], 'MT': ['23', '539', '539'], 'MS': ['4', '566', '551'], 'SC': ['57', '486', '488'], 'KY': ['12', '550', '550'], 'OR': ['55', '526', '526'], 'SD': ['4', '577', '582']}\n"
     ]
    }
   ],
   "source": [
    "import csv\n",
    "\n",
    "rows = []\n",
    "\n",
    "with open('/Users/Debjani/GA-DSI/projects/projects-weekly/project-01/assets/sat_scores.csv', 'r') as f:\n",
    "    reader = csv.reader(f)\n",
    "    for row in reader:\n",
    "        rows.append(row)\n",
    "            \n",
    "    header = rows[0]\n",
    "    data = rows[1:52]\n",
    "    \n",
    "\n",
    "sat_scores = {}\n",
    "\n",
    "for e in data:\n",
    "   a_list = e[1:4]\n",
    "   state = e[0]\n",
    "   sat_scores[state] = a_list\n",
    "        \n",
    "print sat_scores    \n"
   ]
  },
  {
   "cell_type": "markdown",
   "metadata": {},
   "source": [
    "##### 11. Create a dictionary with the values for each of the numeric columns"
   ]
  },
  {
   "cell_type": "code",
   "execution_count": 51,
   "metadata": {
    "collapsed": false
   },
   "outputs": [
    {
     "name": "stdout",
     "output_type": "stream",
     "text": [
      "{'Math': ['510', '513', '515', '505', '516', '499', '499', '506', '500', '501', '499', '510', '499', '489', '501', '488', '474', '526', '499', '527', '499', '515', '510', '517', '525', '515', '542', '439', '539', '512', '542', '553', '542', '589', '550', '545', '572', '589', '580', '554', '568', '561', '577', '562', '596', '550', '570', '603', '582', '599', '551'], 'Rate': ['82', '81', '79', '77', '72', '71', '71', '69', '69', '68', '67', '65', '65', '63', '60', '57', '56', '55', '54', '53', '53', '52', '51', '51', '34', '33', '31', '26', '23', '18', '17', '13', '13', '12', '12', '11', '11', '9', '9', '9', '8', '8', '8', '7', '6', '6', '5', '5', '4', '4', '4'], 'Verbal': ['509', '499', '511', '495', '520', '501', '500', '511', '506', '510', '501', '508', '493', '491', '499', '486', '482', '526', '498', '527', '493', '485', '514', '498', '523', '509', '539', '534', '539', '527', '543', '562', '551', '576', '550', '547', '561', '580', '577', '559', '562', '567', '577', '564', '584', '562', '575', '593', '577', '592', '566']}\n"
     ]
    }
   ],
   "source": [
    "import csv\n",
    "\n",
    "rows = []\n",
    "\n",
    "with open('/Users/Debjani/GA-DSI/projects/projects-weekly/project-01/assets/sat_scores.csv', 'r') as f:\n",
    "    reader = csv.reader(f)\n",
    "    for row in reader:\n",
    "        rows.append(row)\n",
    "        \n",
    "        \n",
    "    header = rows[0]\n",
    "    \n",
    "    data = rows[1:52]\n",
    "    #print(header)\n",
    "\n",
    "sat_scores = {}\n",
    "\n",
    "for index, State in enumerate(header):\n",
    "    sat_scores[State] = []\n",
    "    for row in data:\n",
    "        sat_scores[State].append(row[index])\n",
    "\n",
    "sat_scores.pop('State', None) \n",
    "\n",
    "#print sat_scores.values()\n",
    "\n",
    "print sat_scores "
   ]
  },
  {
   "cell_type": "markdown",
   "metadata": {},
   "source": [
    "## Step 3: Describe the data"
   ]
  },
  {
   "cell_type": "markdown",
   "metadata": {},
   "source": [
    "##### 12. Print the min and max of each column"
   ]
  },
  {
   "cell_type": "code",
   "execution_count": 27,
   "metadata": {
    "collapsed": false
   },
   "outputs": [
    {
     "name": "stdout",
     "output_type": "stream",
     "text": [
      "Minimum Verbal Score =\n"
     ]
    },
    {
     "data": {
      "text/plain": [
       "482"
      ]
     },
     "execution_count": 27,
     "metadata": {},
     "output_type": "execute_result"
    }
   ],
   "source": [
    "import pandas as pd\n",
    "import numpy as np\n",
    "\n",
    "df = pd.read_csv('/Users/Debjani/GA-DSI/projects/projects-weekly/project-01/assets/sat_scores.csv', header=0)\n",
    "\n",
    "# the minimum value for verbal is 482\n",
    "print \"Minimum Verbal Score =\" \n",
    "df['Verbal'][0:51].min()\n",
    "\n"
   ]
  },
  {
   "cell_type": "code",
   "execution_count": 30,
   "metadata": {
    "collapsed": false
   },
   "outputs": [
    {
     "name": "stdout",
     "output_type": "stream",
     "text": [
      "Maximum Verbal Score =\n"
     ]
    },
    {
     "data": {
      "text/plain": [
       "593"
      ]
     },
     "execution_count": 30,
     "metadata": {},
     "output_type": "execute_result"
    }
   ],
   "source": [
    "print \"Maximum Verbal Score =\"\n",
    "df['Verbal'][0:51].max()"
   ]
  },
  {
   "cell_type": "code",
   "execution_count": 29,
   "metadata": {
    "collapsed": false
   },
   "outputs": [
    {
     "name": "stdout",
     "output_type": "stream",
     "text": [
      "Minimum Math Score =\n"
     ]
    },
    {
     "data": {
      "text/plain": [
       "439"
      ]
     },
     "execution_count": 29,
     "metadata": {},
     "output_type": "execute_result"
    }
   ],
   "source": [
    "print \"Minimum Math Score =\" \n",
    "df['Math'][0:51].min()"
   ]
  },
  {
   "cell_type": "code",
   "execution_count": 31,
   "metadata": {
    "collapsed": false
   },
   "outputs": [
    {
     "name": "stdout",
     "output_type": "stream",
     "text": [
      "Maximum Math Score =\n"
     ]
    },
    {
     "data": {
      "text/plain": [
       "603"
      ]
     },
     "execution_count": 31,
     "metadata": {},
     "output_type": "execute_result"
    }
   ],
   "source": [
    "print \"Maximum Math Score =\"\n",
    "df['Math'][0:51].max()"
   ]
  },
  {
   "cell_type": "code",
   "execution_count": 35,
   "metadata": {
    "collapsed": false
   },
   "outputs": [
    {
     "name": "stdout",
     "output_type": "stream",
     "text": [
      "Minimum Rate = \n"
     ]
    },
    {
     "data": {
      "text/plain": [
       "4"
      ]
     },
     "execution_count": 35,
     "metadata": {},
     "output_type": "execute_result"
    }
   ],
   "source": [
    "print \"Minimum Rate = \"\n",
    "df['Rate'][0:51].min()\n",
    "\n"
   ]
  },
  {
   "cell_type": "code",
   "execution_count": 40,
   "metadata": {
    "collapsed": false
   },
   "outputs": [
    {
     "name": "stdout",
     "output_type": "stream",
     "text": [
      "Maximum Rate = \n"
     ]
    },
    {
     "data": {
      "text/plain": [
       "82"
      ]
     },
     "execution_count": 40,
     "metadata": {},
     "output_type": "execute_result"
    }
   ],
   "source": [
    "print \"Maximum Rate = \"\n",
    "df['Rate'][0:51].max()"
   ]
  },
  {
   "cell_type": "markdown",
   "metadata": {},
   "source": [
    "##### 13. Write a function using only list comprehensions, no loops, to compute Standard Deviation. Print the Standard Deviation of each numeric column."
   ]
  },
  {
   "cell_type": "code",
   "execution_count": 52,
   "metadata": {
    "collapsed": false
   },
   "outputs": [
    {
     "name": "stdout",
     "output_type": "stream",
     "text": [
      "[35.929873173114082, 27.279238676053591, 33.031982684152283]\n"
     ]
    }
   ],
   "source": [
    "import csv\n",
    "import numpy as np\n",
    "\n",
    "rows = []\n",
    "\n",
    "with open('/Users/Debjani/GA-DSI/projects/projects-weekly/project-01/assets/sat_scores.csv', 'r') as f:\n",
    "    reader = csv.reader(f)\n",
    "    for row in reader:\n",
    "        rows.append(row)\n",
    "        \n",
    "        \n",
    "    header = rows[0]\n",
    "    \n",
    "    data = rows[1:52]\n",
    "    \n",
    "sat_scores = {}\n",
    "\n",
    "for index, State in enumerate(header):\n",
    "    sat_scores[State] = []\n",
    "    for row in data:\n",
    "        sat_scores[State].append(row[index])\n",
    "\n",
    "sat_scores.pop('State', None) \n",
    "\n",
    "sat_score_value= sat_scores.values()\n",
    "\n",
    "sat_score_value = np.array(sat_score_value)\n",
    "\n",
    "data = sat_score_value.astype(np.float)\n",
    "\n",
    "#print type(data)\n",
    "\n",
    "standard_dev = [np.std(x) for x in data]\n",
    "\n",
    "print standard_dev"
   ]
  },
  {
   "cell_type": "code",
   "execution_count": 2,
   "metadata": {
    "collapsed": false
   },
   "outputs": [
    {
     "name": "stdout",
     "output_type": "stream",
     "text": [
      "[531.84313725490199, 37.0, 532.52941176470586]\n"
     ]
    }
   ],
   "source": [
    "#mean calculation\n",
    "\n",
    "import csv\n",
    "import numpy as np\n",
    "\n",
    "rows = []\n",
    "\n",
    "with open('/Users/Debjani/GA-DSI/projects/projects-weekly/project-01/assets/sat_scores.csv', 'r') as f:\n",
    "    reader = csv.reader(f)\n",
    "    for row in reader:\n",
    "        rows.append(row)\n",
    "        \n",
    "        \n",
    "    header = rows[0]\n",
    "    \n",
    "    data = rows[1:52]\n",
    "    \n",
    "sat_scores = {}\n",
    "\n",
    "for index, State in enumerate(header):\n",
    "    sat_scores[State] = []\n",
    "    for row in data:\n",
    "        sat_scores[State].append(row[index])\n",
    "\n",
    "sat_scores.pop('State', None) \n",
    "\n",
    "sat_score_value= sat_scores.values()\n",
    "\n",
    "sat_score_value = np.array(sat_score_value)\n",
    "\n",
    "data = sat_score_value.astype(np.float)\n",
    "mean = [np.mean(x) for x in data]\n",
    "print mean"
   ]
  },
  {
   "cell_type": "code",
   "execution_count": 3,
   "metadata": {
    "collapsed": false
   },
   "outputs": [
    {
     "name": "stdout",
     "output_type": "stream",
     "text": [
      "[525.0, 33.0, 527.0]\n"
     ]
    }
   ],
   "source": [
    "# median calculation\n",
    "\n",
    "import csv\n",
    "import numpy as np\n",
    "\n",
    "rows = []\n",
    "\n",
    "with open('/Users/Debjani/GA-DSI/projects/projects-weekly/project-01/assets/sat_scores.csv', 'r') as f:\n",
    "    reader = csv.reader(f)\n",
    "    for row in reader:\n",
    "        rows.append(row)\n",
    "        \n",
    "        \n",
    "    header = rows[0]\n",
    "    \n",
    "    data = rows[1:52]\n",
    "    \n",
    "sat_scores = {}\n",
    "\n",
    "for index, State in enumerate(header):\n",
    "    sat_scores[State] = []\n",
    "    for row in data:\n",
    "        sat_scores[State].append(row[index])\n",
    "\n",
    "sat_scores.pop('State', None) \n",
    "\n",
    "sat_score_value= sat_scores.values()\n",
    "\n",
    "sat_score_value = np.array(sat_score_value)\n",
    "\n",
    "data = sat_score_value.astype(np.float)\n",
    "\n",
    "median = [np.median(x) for x in data]\n",
    "print median"
   ]
  },
  {
   "cell_type": "code",
   "execution_count": 4,
   "metadata": {
    "collapsed": false
   },
   "outputs": [
    {
     "name": "stdout",
     "output_type": "stream",
     "text": [
      "[ModeResult(mode=array([ 499.]), count=array([6])), ModeResult(mode=array([ 4.]), count=array([3])), ModeResult(mode=array([ 562.]), count=array([3]))]\n"
     ]
    }
   ],
   "source": [
    "# mode calculation\n",
    "\n",
    "import csv\n",
    "import numpy as np\n",
    "\n",
    "rows = []\n",
    "\n",
    "with open('/Users/Debjani/GA-DSI/projects/projects-weekly/project-01/assets/sat_scores.csv', 'r') as f:\n",
    "    reader = csv.reader(f)\n",
    "    for row in reader:\n",
    "        rows.append(row)\n",
    "        \n",
    "        \n",
    "    header = rows[0]\n",
    "    \n",
    "    data = rows[1:52]\n",
    "    \n",
    "sat_scores = {}\n",
    "\n",
    "for index, State in enumerate(header):\n",
    "    sat_scores[State] = []\n",
    "    for row in data:\n",
    "        sat_scores[State].append(row[index])\n",
    "\n",
    "sat_scores.pop('State', None) \n",
    "\n",
    "sat_score_value= sat_scores.values()\n",
    "\n",
    "sat_score_value = np.array(sat_score_value)\n",
    "\n",
    "data = sat_score_value.astype(np.float)\n",
    "\n",
    "from scipy import stats\n",
    "\n",
    "mode = [stats.mode(x) for x in data]\n",
    "print mode"
   ]
  },
  {
   "cell_type": "markdown",
   "metadata": {},
   "source": [
    "## Step 4: Visualize the data"
   ]
  },
  {
   "cell_type": "markdown",
   "metadata": {
    "collapsed": true
   },
   "source": [
    "##### 14. Using MatPlotLib and PyPlot, plot the distribution of the Rate using histograms."
   ]
  },
  {
   "cell_type": "code",
   "execution_count": 20,
   "metadata": {
    "collapsed": false
   },
   "outputs": [
    {
     "data": {
      "text/plain": [
       "<matplotlib.text.Text at 0x1188a32d0>"
      ]
     },
     "execution_count": 20,
     "metadata": {},
     "output_type": "execute_result"
    },
    {
     "data": {
      "image/png": "[encoded data removed]",
      "text/plain": [
       "<matplotlib.figure.Figure at 0x1123d83d0>"
      ]
     },
     "metadata": {},
     "output_type": "display_data"
    }
   ],
   "source": [
    "import pandas as pd\n",
    "import numpy as np\n",
    "\n",
    "df = pd.read_csv('/Users/Debjani/GA-DSI/projects/projects-weekly/project-01/assets/sat_scores.csv', header=0)\n",
    "\n",
    "import matplotlib.pyplot as plt\n",
    "%matplotlib inline\n",
    "plt.hist(df['Rate'])\n",
    " \n",
    "plt.title(\"Rate Distribution\")\n",
    "plt.xlabel(\"Rate\")\n",
    "plt.ylabel(\"Frequency\")"
   ]
  },
  {
   "cell_type": "code",
   "execution_count": 3,
   "metadata": {
    "collapsed": false
   },
   "outputs": [
    {
     "data": {
      "text/plain": [
       "<matplotlib.axes._subplots.AxesSubplot at 0x11a3a8550>"
      ]
     },
     "execution_count": 3,
     "metadata": {},
     "output_type": "execute_result"
    },
    {
     "data": {
      "image/png": "[encoded data removed]",
      "text/plain": [
       "<matplotlib.figure.Figure at 0x103ed6050>"
      ]
     },
     "metadata": {},
     "output_type": "display_data"
    }
   ],
   "source": [
    "# rate histogram using seaborn\n",
    "\n",
    "%matplotlib inline\n",
    "import pandas as pd\n",
    "import matplotlib.pyplot as plt\n",
    "import seaborn as sns\n",
    "df = pd.read_csv('/Users/Debjani/GA-DSI/projects/projects-weekly/project-01/assets/sat_scores.csv', header=0)\n",
    "\n",
    "plt.hist(df.Rate, alpha=.3)\n",
    "sns.rugplot(df.Rate)"
   ]
  },
  {
   "cell_type": "markdown",
   "metadata": {},
   "source": [
    "##### 15. Plot the Math distribution"
   ]
  },
  {
   "cell_type": "code",
   "execution_count": 7,
   "metadata": {
    "collapsed": false
   },
   "outputs": [
    {
     "data": {
      "text/plain": [
       "<matplotlib.text.Text at 0x117a87c10>"
      ]
     },
     "execution_count": 7,
     "metadata": {},
     "output_type": "execute_result"
    },
    {
     "data": {
      "image/png": "[encoded data removed]",
      "text/plain": [
       "<matplotlib.figure.Figure at 0x117c32710>"
      ]
     },
     "metadata": {},
     "output_type": "display_data"
    }
   ],
   "source": [
    "import pandas as pd\n",
    "import numpy as np\n",
    "\n",
    "df = pd.read_csv('/Users/Debjani/GA-DSI/projects/projects-weekly/project-01/assets/sat_scores.csv', header=0)\n",
    "\n",
    "import matplotlib.pyplot as plt\n",
    "\n",
    "plt.hist(df['Math'])\n",
    " \n",
    "plt.title(\"Math Distribution\")\n",
    "plt.xlabel(\"Math\")\n",
    "plt.ylabel(\"Frequency\")"
   ]
  },
  {
   "cell_type": "code",
   "execution_count": 4,
   "metadata": {
    "collapsed": false
   },
   "outputs": [
    {
     "data": {
      "text/plain": [
       "<matplotlib.axes._subplots.AxesSubplot at 0x11a794d90>"
      ]
     },
     "execution_count": 4,
     "metadata": {},
     "output_type": "execute_result"
    },
    {
     "data": {
      "image/png": "[encoded data removed]",
      "text/plain": [
       "<matplotlib.figure.Figure at 0x11a397e90>"
      ]
     },
     "metadata": {},
     "output_type": "display_data"
    }
   ],
   "source": [
    "# Math histogram using seaborn\n",
    "\n",
    "%matplotlib inline\n",
    "import pandas as pd\n",
    "import matplotlib.pyplot as plt\n",
    "import seaborn as sns\n",
    "df = pd.read_csv('/Users/Debjani/GA-DSI/projects/projects-weekly/project-01/assets/sat_scores.csv', header=0)\n",
    "\n",
    "plt.hist(df.Math, alpha=.3)\n",
    "sns.rugplot(df.Math)"
   ]
  },
  {
   "cell_type": "markdown",
   "metadata": {},
   "source": [
    "##### 16. Plot the Verbal distribution"
   ]
  },
  {
   "cell_type": "code",
   "execution_count": 6,
   "metadata": {
    "collapsed": false
   },
   "outputs": [
    {
     "data": {
      "text/plain": [
       "<matplotlib.text.Text at 0x117a58590>"
      ]
     },
     "execution_count": 6,
     "metadata": {},
     "output_type": "execute_result"
    },
    {
     "data": {
      "image/png": "[encoded data removed]",
      "text/plain": [
       "<matplotlib.figure.Figure at 0x1170ca750>"
      ]
     },
     "metadata": {},
     "output_type": "display_data"
    }
   ],
   "source": [
    "import pandas as pd\n",
    "import numpy as np\n",
    "\n",
    "df = pd.read_csv('/Users/Debjani/GA-DSI/projects/projects-weekly/project-01/assets/sat_scores.csv', header=0)\n",
    "\n",
    "import matplotlib.pyplot as plt\n",
    "\n",
    "plt.hist(df['Verbal'])\n",
    " \n",
    "plt.title(\"Verbal Distribution\")\n",
    "plt.xlabel(\"Verbal\")\n",
    "plt.ylabel(\"Frequency\")"
   ]
  },
  {
   "cell_type": "code",
   "execution_count": 5,
   "metadata": {
    "collapsed": false
   },
   "outputs": [
    {
     "data": {
      "text/plain": [
       "<matplotlib.axes._subplots.AxesSubplot at 0x11a3804d0>"
      ]
     },
     "execution_count": 5,
     "metadata": {},
     "output_type": "execute_result"
    },
    {
     "data": {
      "image/png": "[encoded data removed]",
      "text/plain": [
       "<matplotlib.figure.Figure at 0x11a7996d0>"
      ]
     },
     "metadata": {},
     "output_type": "display_data"
    }
   ],
   "source": [
    "# Verbal histogram using seaborn\n",
    "\n",
    "%matplotlib inline\n",
    "import pandas as pd\n",
    "import matplotlib.pyplot as plt\n",
    "import seaborn as sns\n",
    "df = pd.read_csv('/Users/Debjani/GA-DSI/projects/projects-weekly/project-01/assets/sat_scores.csv', header=0)\n",
    "\n",
    "plt.hist(df.Verbal, alpha=.3)\n",
    "sns.rugplot(df.Verbal)"
   ]
  },
  {
   "cell_type": "markdown",
   "metadata": {},
   "source": [
    "##### 17. What is the typical assumption for data distribution?"
   ]
  },
  {
   "cell_type": "markdown",
   "metadata": {
    "collapsed": false
   },
   "source": [
    "The typical assumption for data distribution is normal distribution."
   ]
  },
  {
   "cell_type": "markdown",
   "metadata": {},
   "source": [
    "##### 18. Does that distribution hold true for our data?"
   ]
  },
  {
   "cell_type": "markdown",
   "metadata": {
    "collapsed": false
   },
   "source": [
    "The SAT score data does not show normal distribution. In normal distribution, the values of the mean, median and mode are the same. This data has a non-normal distribution."
   ]
  },
  {
   "cell_type": "markdown",
   "metadata": {},
   "source": [
    "##### 19. Plot some scatterplots. **BONUS**: Use a PyPlot `figure` to present multiple plots at once."
   ]
  },
  {
   "cell_type": "code",
   "execution_count": 10,
   "metadata": {
    "collapsed": false
   },
   "outputs": [
    {
     "data": {
      "text/plain": [
       "<matplotlib.text.Text at 0x1189a3250>"
      ]
     },
     "execution_count": 10,
     "metadata": {},
     "output_type": "execute_result"
    },
    {
     "data": {
      "image/png": "[encoded data removed]",
      "text/plain": [
       "<matplotlib.figure.Figure at 0x117fc4e50>"
      ]
     },
     "metadata": {},
     "output_type": "display_data"
    }
   ],
   "source": [
    "import matplotlib.pyplot as plt\n",
    "plt.scatter(df['Rate'], df['Math'])\n",
    "\n",
    "plt.title(\"Math Scatter\")\n",
    "plt.xlabel(\"Rate\")\n",
    "plt.ylabel(\"Math Score\")"
   ]
  },
  {
   "cell_type": "code",
   "execution_count": 6,
   "metadata": {
    "collapsed": false
   },
   "outputs": [
    {
     "data": {
      "text/plain": [
       "<seaborn.axisgrid.FacetGrid at 0x11aec1ad0>"
      ]
     },
     "execution_count": 6,
     "metadata": {},
     "output_type": "execute_result"
    },
    {
     "data": {
      "image/png": "[encoded data removed]",
      "text/plain": [
       "<matplotlib.figure.Figure at 0x11aec16d0>"
      ]
     },
     "metadata": {},
     "output_type": "display_data"
    }
   ],
   "source": [
    "# Scatter plot using seaborn\n",
    "\n",
    "import pandas as pd\n",
    "import seaborn as sns\n",
    "df = pd.read_csv('/Users/Debjani/GA-DSI/projects/projects-weekly/project-01/assets/sat_scores.csv', header=0)\n",
    "\n",
    "sns.lmplot('Rate', 'Math', data = df, fit_reg=False)\n"
   ]
  },
  {
   "cell_type": "code",
   "execution_count": 7,
   "metadata": {
    "collapsed": false
   },
   "outputs": [
    {
     "data": {
      "text/plain": [
       "<matplotlib.text.Text at 0x11b89d550>"
      ]
     },
     "execution_count": 7,
     "metadata": {},
     "output_type": "execute_result"
    },
    {
     "data": {
      "image/png": "[encoded data removed]",
      "text/plain": [
       "<matplotlib.figure.Figure at 0x11af9eb50>"
      ]
     },
     "metadata": {},
     "output_type": "display_data"
    }
   ],
   "source": [
    "#Scatter plot using matplotlib and pyplot\n",
    "\n",
    "plt.scatter(df['Rate'], df['Verbal'])\n",
    "\n",
    "plt.title(\"Verbal Scatter\")\n",
    "plt.xlabel(\"Rate\")\n",
    "plt.ylabel(\"Verbal Score\")"
   ]
  },
  {
   "cell_type": "code",
   "execution_count": 8,
   "metadata": {
    "collapsed": false
   },
   "outputs": [
    {
     "data": {
      "text/plain": [
       "<seaborn.axisgrid.FacetGrid at 0x11b9d1790>"
      ]
     },
     "execution_count": 8,
     "metadata": {},
     "output_type": "execute_result"
    },
    {
     "data": {
      "image/png": "[encoded data removed]",
      "text/plain": [
       "<matplotlib.figure.Figure at 0x11b9caf10>"
      ]
     },
     "metadata": {},
     "output_type": "display_data"
    }
   ],
   "source": [
    "# Scatter plot using seaborn\n",
    "\n",
    "import pandas as pd\n",
    "import seaborn as sns\n",
    "df = pd.read_csv('/Users/Debjani/GA-DSI/projects/projects-weekly/project-01/assets/sat_scores.csv', header=0)\n",
    "\n",
    "sns.lmplot('Rate', 'Verbal', data = df, fit_reg=False)\n"
   ]
  },
  {
   "cell_type": "code",
   "execution_count": 14,
   "metadata": {
    "collapsed": false
   },
   "outputs": [
    {
     "data": {
      "text/plain": [
       "(-1, 87)"
      ]
     },
     "execution_count": 14,
     "metadata": {},
     "output_type": "execute_result"
    },
    {
     "data": {
      "image/png": "[encoded data removed]",
      "text/plain": [
       "<matplotlib.figure.Figure at 0x118c0e650>"
      ]
     },
     "metadata": {},
     "output_type": "display_data"
    }
   ],
   "source": [
    "plt.figure(figsize=(10,8))\n",
    "\n",
    "plt.scatter(df['Rate'], df['Math'],\n",
    "            marker='x',\n",
    "            color='b',\n",
    "            label='Math score')\n",
    "            \n",
    "            \n",
    "plt.scatter(df['Rate'], df['Verbal'],\n",
    "            marker='o',\n",
    "            color='r',\n",
    "            label= 'Verbal score')            \n",
    "            \n",
    "            \n",
    "plt.title('Comparative study of verbal and Math vs. rate')\n",
    "\n",
    "plt.ylabel('Score')\n",
    "\n",
    "plt.xlabel('Rate')\n",
    "\n",
    "plt.legend(loc='upper right')\n",
    "\n",
    "plt.xlim([min(df['Rate']) - 5, max(df['Rate']) + 5])"
   ]
  },
  {
   "cell_type": "markdown",
   "metadata": {},
   "source": [
    "##### 20. Are there any interesting relationships to note?"
   ]
  },
  {
   "cell_type": "markdown",
   "metadata": {
    "collapsed": false
   },
   "source": [
    "In the above scatter plot it can be noted that the math and verbal scores are high when the rate is low. As the rate increases the scores (math and verbal) decreases."
   ]
  },
  {
   "cell_type": "markdown",
   "metadata": {},
   "source": [
    "##### 21. Create box plots for each variable. "
   ]
  },
  {
   "cell_type": "code",
   "execution_count": 15,
   "metadata": {
    "collapsed": false
   },
   "outputs": [
    {
     "data": {
      "text/plain": [
       "[<matplotlib.text.Text at 0x11a120710>, <matplotlib.text.Text at 0x11a12ac90>]"
      ]
     },
     "execution_count": 15,
     "metadata": {},
     "output_type": "execute_result"
    },
    {
     "data": {
      "image/png": "[encoded data removed]",
      "text/plain": [
       "<matplotlib.figure.Figure at 0x118f1a710>"
      ]
     },
     "metadata": {},
     "output_type": "display_data"
    }
   ],
   "source": [
    "import matplotlib.pyplot as plt\n",
    "import numpy as np\n",
    "\n",
    "# Create a figure instance\n",
    "fig = plt.figure(1, figsize=(9, 6))\n",
    "\n",
    "# Create an axes instance\n",
    "ax = fig.add_subplot(111)\n",
    "\n",
    "\n",
    "box_plot_data = [ df['Verbal'], df['Math'] ]\n",
    "\n",
    "\n",
    "\n",
    "# Create the boxplot\n",
    "bp = ax.boxplot(box_plot_data)\n",
    "\n",
    "\n",
    "ax.set_xticklabels(['Verbal', 'Math'])"
   ]
  },
  {
   "cell_type": "code",
   "execution_count": 16,
   "metadata": {
    "collapsed": false
   },
   "outputs": [
    {
     "data": {
      "text/plain": [
       "[<matplotlib.text.Text at 0x11a1ec8d0>]"
      ]
     },
     "execution_count": 16,
     "metadata": {},
     "output_type": "execute_result"
    },
    {
     "data": {
      "image/png": "[encoded data removed]",
      "text/plain": [
       "<matplotlib.figure.Figure at 0x11a1cf610>"
      ]
     },
     "metadata": {},
     "output_type": "display_data"
    }
   ],
   "source": [
    "import matplotlib.pyplot as plt\n",
    "import numpy as np\n",
    "\n",
    "fig = plt.figure(1, figsize=(9, 6))\n",
    "\n",
    "ax = fig.add_subplot(111)\n",
    "\n",
    "box_plot_data = [ df['Rate'] ]\n",
    "\n",
    "# Create the boxplot\n",
    "bp = ax.boxplot(box_plot_data)\n",
    "\n",
    "ax.set_xticklabels(['Rate'])"
   ]
  },
  {
   "cell_type": "code",
   "execution_count": 10,
   "metadata": {
    "collapsed": false
   },
   "outputs": [
    {
     "data": {
      "text/plain": [
       "<matplotlib.axes._subplots.AxesSubplot at 0x11bc60f50>"
      ]
     },
     "execution_count": 10,
     "metadata": {},
     "output_type": "execute_result"
    },
    {
     "data": {
      "image/png": "[encoded data removed]",
      "text/plain": [
       "<matplotlib.figure.Figure at 0x11bc2e0d0>"
      ]
     },
     "metadata": {},
     "output_type": "display_data"
    }
   ],
   "source": [
    "# Box plot using seaborn\n",
    "\n",
    "import pandas as pd\n",
    "\n",
    "df = pd.read_csv('/Users/Debjani/GA-DSI/projects/projects-weekly/project-01/assets/sat_scores.csv', header=0)\n",
    "import seaborn as sns\n",
    "\n",
    "sns.boxplot(df[['Verbal', 'Rate', 'Math']])"
   ]
  },
  {
   "cell_type": "markdown",
   "metadata": {},
   "source": [
    "##### BONUS: Using Tableau, create a heat map for each variable using a map of the US. "
   ]
  },
  {
   "cell_type": "markdown",
   "metadata": {
    "collapsed": true
   },
   "source": [
    "# verbal heatmap\n",
    "![SAT_verbal_heatmap](verbal.png)"
   ]
  },
  {
   "cell_type": "markdown",
   "metadata": {},
   "source": [
    "# math heatmap\n",
    "![SAT_math_heatmap](math.png)"
   ]
  },
  {
   "cell_type": "markdown",
   "metadata": {},
   "source": [
    "# rate heatmap\n",
    "\n",
    "![SAT_rate_heatmap](rate.png)"
   ]
  },
  {
   "cell_type": "markdown",
   "metadata": {
    "collapsed": true
   },
   "source": [
    "link to the blog url: [SAT score](https://dpalit.github.io/)\n",
    "\n",
    "Alternative link : <a href=\"https://dpalit.github.io/\">SAT Score</a>"
   ]
  },
  {
   "cell_type": "markdown",
   "metadata": {},
   "source": [
    "Summary of the SAT Scores in the United States:\n",
    "         \n",
    "\n",
    "The data presents the mean Math and Verbal scores in 51 different states in the United States.  \n",
    "United Sates has 50 states but DC has been included as a state in the data and that changes the number of states as 51.\n",
    "The last column with the state abbreviation  “ALL” is not a state ; hence has not been included in numerical analysis.\n",
    "\n",
    "The data has four columns. The three columns with numeric values are “Verbal”, “Math” and “Rate”. \n",
    "The “State” column contains non-numeric value i.e. string type. \n",
    "\n",
    "In CSV, all data is in type string; however, if the dataset in loaded using pandas, \n",
    "the data type for the “State” column is object and the data type of the numeric columns is integer. \n",
    "The type of the data frame is object.\n",
    "\n",
    "The minimum verbal score is 482 in DC and the maximum verbal score is 593 in IA. \n",
    "The minimum math score is 439 in OH and the maximum math score is 603 in IA.\n",
    "The rate has a minimum value of 4 in three states SD, ND and MS. The rate has a maximum value of 82 in CT.\n",
    "\n",
    "* The mean for math, rate and verbal is 531.84, 37 and 532.52 respectively.\n",
    "* The median for math, rate and verbal 525, 33 and 527 respectively.\n",
    "* The mode for math, rate and verbal is 499, 4 and 562 respectively.\n",
    "* The standard deviation for math, rate and verbal is 35.92, 27.27 and 33.03 respectively.\n",
    "\n",
    "The histograms for math, verbal and rate reveal that we have a non-normal distribution. \n",
    "In a normal distribution, the mean, median and mode values are the same. \n",
    "The scatter plot shows that the maximum math and verbal scores are at lower rates \n",
    "and as the rate increases, the math and verbal scores tend to drop. Hence the scores are inversely related to the rate."
   ]
  },
  {
   "cell_type": "markdown",
   "metadata": {
    "collapsed": true
   },
   "source": [
    "---------"
   ]
  },
  {
   "cell_type": "code",
   "execution_count": null,
   "metadata": {
    "collapsed": true
   },
   "outputs": [],
   "source": []
  }
 ],
 "metadata": {
  "anaconda-cloud": {},
  "kernelspec": {
   "display_name": "Python [Root]",
   "language": "python",
   "name": "Python [Root]"
  },
  "language_info": {
   "codemirror_mode": {
    "name": "ipython",
    "version": 2
   },
   "file_extension": ".py",
   "mimetype": "text/x-python",
   "name": "python",
   "nbconvert_exporter": "python",
   "pygments_lexer": "ipython2",
   "version": "2.7.12"
  }
 },
 "nbformat": 4,
 "nbformat_minor": 0
}
