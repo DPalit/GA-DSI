{
 "cells": [
  {
   "cell_type": "code",
   "execution_count": 2,
   "metadata": {
    "collapsed": false
   },
   "outputs": [
    {
     "name": "stdout",
     "output_type": "stream",
     "text": [
      "         Date  Store Number         City Zip Code  County Number      County  \\\n",
      "0  11/04/2015          3717       SUMNER    50674            9.0      Bremer   \n",
      "1  03/02/2016          2614    DAVENPORT    52807           82.0       Scott   \n",
      "2  02/11/2016          2106  CEDAR FALLS    50613            7.0  Black Hawk   \n",
      "3  02/03/2016          2501         AMES    50010           85.0       Story   \n",
      "4  08/18/2015          3654      BELMOND    50421           99.0      Wright   \n",
      "\n",
      "    Category              Category Name  Vendor Number  Item Number  \\\n",
      "0  1051100.0           APRICOT BRANDIES             55        54436   \n",
      "1  1011100.0           BLENDED WHISKIES            395        27605   \n",
      "2  1011200.0  STRAIGHT BOURBON WHISKIES             65        19067   \n",
      "3  1071100.0         AMERICAN COCKTAILS            395        59154   \n",
      "4  1031080.0             VODKA 80 PROOF            297        35918   \n",
      "\n",
      "            Item Description  Bottle Volume (ml) State Bottle Cost  \\\n",
      "0  Mr. Boston Apricot Brandy                 750             $4.50   \n",
      "1                    Tin Cup                 750            $13.75   \n",
      "2                   Jim Beam                1000            $12.59   \n",
      "3    1800 Ultimate Margarita                1750             $9.50   \n",
      "4         Five O'clock Vodka                1750             $7.20   \n",
      "\n",
      "  State Bottle Retail  Bottles Sold Sale (Dollars)  Volume Sold (Liters)  \\\n",
      "0               $6.75            12         $81.00                   9.0   \n",
      "1              $20.63             2         $41.26                   1.5   \n",
      "2              $18.89            24        $453.36                  24.0   \n",
      "3              $14.25             6         $85.50                  10.5   \n",
      "4              $10.80            12        $129.60                  21.0   \n",
      "\n",
      "   Volume Sold (Gallons)  \n",
      "0                   2.38  \n",
      "1                   0.40  \n",
      "2                   6.34  \n",
      "3                   2.77  \n",
      "4                   5.55  \n"
     ]
    }
   ],
   "source": [
    "#import the data\n",
    "\n",
    "import pandas as pd\n",
    "\n",
    "df = pd.read_csv(\"/Users/Debjani/Downloads/Iowa_Liquor_sales_sample_10pct.csv\")\n",
    "print df. head()"
   ]
  },
  {
   "cell_type": "code",
   "execution_count": 20,
   "metadata": {
    "collapsed": false
   },
   "outputs": [
    {
     "name": "stdout",
     "output_type": "stream",
     "text": [
      "Index([u'Date', u'Store Number', u'City', u'Zip Code', u'County Number',\n",
      "       u'County', u'Category', u'Category Name', u'Vendor Number',\n",
      "       u'Item Number', u'Item Description', u'Bottle Volume (ml)',\n",
      "       u'State Bottle Cost', u'State Bottle Retail', u'Bottles Sold',\n",
      "       u'Sale (Dollars)', u'Volume Sold (Liters)', u'Volume Sold (Gallons)'],\n",
      "      dtype='object')\n"
     ]
    }
   ],
   "source": [
    "print df.columns"
   ]
  },
  {
   "cell_type": "code",
   "execution_count": 11,
   "metadata": {
    "collapsed": false
   },
   "outputs": [
    {
     "data": {
      "text/plain": [
       "(270955, 18)"
      ]
     },
     "execution_count": 11,
     "metadata": {},
     "output_type": "execute_result"
    }
   ],
   "source": [
    "df.shape"
   ]
  },
  {
   "cell_type": "code",
   "execution_count": 5,
   "metadata": {
    "collapsed": false
   },
   "outputs": [
    {
     "name": "stdout",
     "output_type": "stream",
     "text": [
      "<class 'pandas.core.frame.DataFrame'>\n",
      "RangeIndex: 270955 entries, 0 to 270954\n",
      "Data columns (total 18 columns):\n",
      "Date                     270955 non-null object\n",
      "Store Number             270955 non-null int64\n",
      "City                     270955 non-null object\n",
      "Zip Code                 270955 non-null object\n",
      "County Number            269878 non-null float64\n",
      "County                   269878 non-null object\n",
      "Category                 270887 non-null float64\n",
      "Category Name            270323 non-null object\n",
      "Vendor Number            270955 non-null int64\n",
      "Item Number              270955 non-null int64\n",
      "Item Description         270955 non-null object\n",
      "Bottle Volume (ml)       270955 non-null int64\n",
      "State Bottle Cost        270955 non-null object\n",
      "State Bottle Retail      270955 non-null object\n",
      "Bottles Sold             270955 non-null int64\n",
      "Sale (Dollars)           270955 non-null object\n",
      "Volume Sold (Liters)     270955 non-null float64\n",
      "Volume Sold (Gallons)    270955 non-null float64\n",
      "dtypes: float64(4), int64(5), object(9)\n",
      "memory usage: 37.2+ MB\n",
      "None\n"
     ]
    }
   ],
   "source": [
    "print df.info()\n",
    "\n",
    "# the dataset has 18 columns with 270955 rows.\n",
    "#we see that the columns 'County Number', 'County', 'Category', and 'Category Name' have some missing values. "
   ]
  },
  {
   "cell_type": "code",
   "execution_count": 6,
   "metadata": {
    "collapsed": false
   },
   "outputs": [
    {
     "name": "stdout",
     "output_type": "stream",
     "text": [
      "float64\n"
     ]
    }
   ],
   "source": [
    "# The \"Sale (Dollars)\" column is converted into type float after we replac the '$' sign with an empty space\n",
    "\n",
    "df['Sale (Dollars)']=df['Sale (Dollars)'].replace('[\\$,]', '', regex=True).astype(float)\n",
    "\n",
    "print df['Sale (Dollars)'].dtype\n"
   ]
  },
  {
   "cell_type": "code",
   "execution_count": 6,
   "metadata": {
    "collapsed": false
   },
   "outputs": [
    {
     "data": {
      "text/plain": [
       "array([3717, 2614, 2106, ..., 5237, 5201, 4778])"
      ]
     },
     "execution_count": 6,
     "metadata": {},
     "output_type": "execute_result"
    }
   ],
   "source": [
    "# unique stores \n",
    "\n",
    "df['Store Number'].unique()\n",
    "\n"
   ]
  },
  {
   "cell_type": "code",
   "execution_count": 5,
   "metadata": {
    "collapsed": false
   },
   "outputs": [
    {
     "data": {
      "text/plain": [
       "1400"
      ]
     },
     "execution_count": 5,
     "metadata": {},
     "output_type": "execute_result"
    }
   ],
   "source": [
    "#number of unique stores\n",
    "df['Store Number'].nunique()"
   ]
  },
  {
   "cell_type": "code",
   "execution_count": 16,
   "metadata": {
    "collapsed": false
   },
   "outputs": [
    {
     "data": {
      "text/plain": [
       "81.0"
      ]
     },
     "execution_count": 16,
     "metadata": {},
     "output_type": "execute_result"
    }
   ],
   "source": [
    "#in the data frame \"State Bottle Retial\" * \"Bottle Sold\" is equal to \"Sale (Dollars)\". So these columns are related\n",
    "\n",
    "6.75 * 12"
   ]
  },
  {
   "cell_type": "code",
   "execution_count": 26,
   "metadata": {
    "collapsed": false
   },
   "outputs": [
    {
     "name": "stdout",
     "output_type": "stream",
     "text": [
      "float64\n"
     ]
    }
   ],
   "source": [
    "# The \"State Bottle Retail\" column is converted into type float after we replac the '$' sign with an empty space\n",
    "\n",
    "df['State Bottle Retail']=df['State Bottle Retail'].replace('[\\$,]', '', regex=True).astype(float)\n",
    "\n",
    "print df['State Bottle Retail'].dtype"
   ]
  },
  {
   "cell_type": "code",
   "execution_count": 15,
   "metadata": {
    "collapsed": false
   },
   "outputs": [
    {
     "data": {
      "text/plain": [
       "9"
      ]
     },
     "execution_count": 15,
     "metadata": {},
     "output_type": "execute_result"
    }
   ],
   "source": [
    "#in the data frame \"Bottle Volume\" * \"Bottle Sold\" is equal to \"Volume Sold (liters)\" and \"Volume Sold (gallons)\"\n",
    "#hence, these columns are relate with each other\n",
    "\n",
    "750 * 12/1000"
   ]
  },
  {
   "cell_type": "code",
   "execution_count": 18,
   "metadata": {
    "collapsed": false
   },
   "outputs": [
    {
     "data": {
      "text/plain": [
       "2696"
      ]
     },
     "execution_count": 18,
     "metadata": {},
     "output_type": "execute_result"
    }
   ],
   "source": [
    "#number of unique items\n",
    "\n",
    "df[\"Item Number\"].nunique()"
   ]
  },
  {
   "cell_type": "code",
   "execution_count": 19,
   "metadata": {
    "collapsed": false
   },
   "outputs": [
    {
     "data": {
      "text/html": [
       "<div>\n",
       "<table border=\"1\" class=\"dataframe\">\n",
       "  <thead>\n",
       "    <tr style=\"text-align: right;\">\n",
       "      <th></th>\n",
       "      <th>Item Number</th>\n",
       "      <th>Item Description</th>\n",
       "    </tr>\n",
       "  </thead>\n",
       "  <tbody>\n",
       "    <tr>\n",
       "      <th>0</th>\n",
       "      <td>54436</td>\n",
       "      <td>Mr. Boston Apricot Brandy</td>\n",
       "    </tr>\n",
       "    <tr>\n",
       "      <th>15</th>\n",
       "      <td>54436</td>\n",
       "      <td>Mr. Boston Apricot Brandy</td>\n",
       "    </tr>\n",
       "    <tr>\n",
       "      <th>1776</th>\n",
       "      <td>54436</td>\n",
       "      <td>Mr. Boston Apricot Brandy</td>\n",
       "    </tr>\n",
       "    <tr>\n",
       "      <th>1996</th>\n",
       "      <td>54436</td>\n",
       "      <td>Mr. Boston Apricot Brandy</td>\n",
       "    </tr>\n",
       "    <tr>\n",
       "      <th>4861</th>\n",
       "      <td>54436</td>\n",
       "      <td>Mr. Boston Apricot Brandy</td>\n",
       "    </tr>\n",
       "    <tr>\n",
       "      <th>6075</th>\n",
       "      <td>54436</td>\n",
       "      <td>Mr. Boston Apricot Brandy</td>\n",
       "    </tr>\n",
       "    <tr>\n",
       "      <th>9218</th>\n",
       "      <td>54436</td>\n",
       "      <td>Mr. Boston Apricot Brandy</td>\n",
       "    </tr>\n",
       "    <tr>\n",
       "      <th>11519</th>\n",
       "      <td>54436</td>\n",
       "      <td>Mr. Boston Apricot Brandy</td>\n",
       "    </tr>\n",
       "    <tr>\n",
       "      <th>11781</th>\n",
       "      <td>54436</td>\n",
       "      <td>Mr. Boston Apricot Brandy</td>\n",
       "    </tr>\n",
       "    <tr>\n",
       "      <th>12555</th>\n",
       "      <td>54436</td>\n",
       "      <td>Mr. Boston Apricot Brandy</td>\n",
       "    </tr>\n",
       "    <tr>\n",
       "      <th>22894</th>\n",
       "      <td>54436</td>\n",
       "      <td>Mr. Boston Apricot Brandy</td>\n",
       "    </tr>\n",
       "    <tr>\n",
       "      <th>27970</th>\n",
       "      <td>54436</td>\n",
       "      <td>Mr. Boston Apricot Brandy</td>\n",
       "    </tr>\n",
       "    <tr>\n",
       "      <th>27975</th>\n",
       "      <td>54436</td>\n",
       "      <td>Mr. Boston Apricot Brandy</td>\n",
       "    </tr>\n",
       "    <tr>\n",
       "      <th>33639</th>\n",
       "      <td>54436</td>\n",
       "      <td>Mr. Boston Apricot Brandy</td>\n",
       "    </tr>\n",
       "    <tr>\n",
       "      <th>36714</th>\n",
       "      <td>54436</td>\n",
       "      <td>Mr. Boston Apricot Brandy</td>\n",
       "    </tr>\n",
       "    <tr>\n",
       "      <th>40589</th>\n",
       "      <td>54436</td>\n",
       "      <td>Mr. Boston Apricot Brandy</td>\n",
       "    </tr>\n",
       "    <tr>\n",
       "      <th>40807</th>\n",
       "      <td>54436</td>\n",
       "      <td>Mr. Boston Apricot Brandy</td>\n",
       "    </tr>\n",
       "    <tr>\n",
       "      <th>43077</th>\n",
       "      <td>54436</td>\n",
       "      <td>Mr. Boston Apricot Brandy</td>\n",
       "    </tr>\n",
       "    <tr>\n",
       "      <th>44750</th>\n",
       "      <td>54436</td>\n",
       "      <td>Mr. Boston Apricot Brandy</td>\n",
       "    </tr>\n",
       "    <tr>\n",
       "      <th>48462</th>\n",
       "      <td>54436</td>\n",
       "      <td>Mr. Boston Apricot Brandy</td>\n",
       "    </tr>\n",
       "    <tr>\n",
       "      <th>53242</th>\n",
       "      <td>54436</td>\n",
       "      <td>Mr. Boston Apricot Brandy</td>\n",
       "    </tr>\n",
       "    <tr>\n",
       "      <th>55249</th>\n",
       "      <td>54436</td>\n",
       "      <td>Mr. Boston Apricot Brandy</td>\n",
       "    </tr>\n",
       "    <tr>\n",
       "      <th>56482</th>\n",
       "      <td>54436</td>\n",
       "      <td>Mr. Boston Apricot Brandy</td>\n",
       "    </tr>\n",
       "    <tr>\n",
       "      <th>56649</th>\n",
       "      <td>54436</td>\n",
       "      <td>Mr. Boston Apricot Brandy</td>\n",
       "    </tr>\n",
       "    <tr>\n",
       "      <th>61975</th>\n",
       "      <td>54436</td>\n",
       "      <td>Mr. Boston Apricot Brandy</td>\n",
       "    </tr>\n",
       "    <tr>\n",
       "      <th>62494</th>\n",
       "      <td>54436</td>\n",
       "      <td>Mr. Boston Apricot Brandy</td>\n",
       "    </tr>\n",
       "    <tr>\n",
       "      <th>64565</th>\n",
       "      <td>54436</td>\n",
       "      <td>Mr. Boston Apricot Brandy</td>\n",
       "    </tr>\n",
       "    <tr>\n",
       "      <th>64885</th>\n",
       "      <td>54436</td>\n",
       "      <td>Mr. Boston Apricot Brandy</td>\n",
       "    </tr>\n",
       "    <tr>\n",
       "      <th>70070</th>\n",
       "      <td>54436</td>\n",
       "      <td>Mr. Boston Apricot Brandy</td>\n",
       "    </tr>\n",
       "    <tr>\n",
       "      <th>71723</th>\n",
       "      <td>54436</td>\n",
       "      <td>Mr. Boston Apricot Brandy</td>\n",
       "    </tr>\n",
       "    <tr>\n",
       "      <th>...</th>\n",
       "      <td>...</td>\n",
       "      <td>...</td>\n",
       "    </tr>\n",
       "    <tr>\n",
       "      <th>154578</th>\n",
       "      <td>54436</td>\n",
       "      <td>Mr. Boston Apricot Brandy</td>\n",
       "    </tr>\n",
       "    <tr>\n",
       "      <th>155693</th>\n",
       "      <td>54436</td>\n",
       "      <td>Mr. Boston Apricot Brandy</td>\n",
       "    </tr>\n",
       "    <tr>\n",
       "      <th>158020</th>\n",
       "      <td>54436</td>\n",
       "      <td>Mr. Boston Apricot Brandy</td>\n",
       "    </tr>\n",
       "    <tr>\n",
       "      <th>159178</th>\n",
       "      <td>54436</td>\n",
       "      <td>Mr. Boston Apricot Brandy</td>\n",
       "    </tr>\n",
       "    <tr>\n",
       "      <th>164954</th>\n",
       "      <td>54436</td>\n",
       "      <td>Mr. Boston Apricot Brandy</td>\n",
       "    </tr>\n",
       "    <tr>\n",
       "      <th>167468</th>\n",
       "      <td>54436</td>\n",
       "      <td>Mr. Boston Apricot Brandy</td>\n",
       "    </tr>\n",
       "    <tr>\n",
       "      <th>168148</th>\n",
       "      <td>54436</td>\n",
       "      <td>Mr. Boston Apricot Brandy</td>\n",
       "    </tr>\n",
       "    <tr>\n",
       "      <th>181428</th>\n",
       "      <td>54436</td>\n",
       "      <td>Mr. Boston Apricot Brandy</td>\n",
       "    </tr>\n",
       "    <tr>\n",
       "      <th>186547</th>\n",
       "      <td>54436</td>\n",
       "      <td>Mr. Boston Apricot Brandy</td>\n",
       "    </tr>\n",
       "    <tr>\n",
       "      <th>191247</th>\n",
       "      <td>54436</td>\n",
       "      <td>Mr. Boston Apricot Brandy</td>\n",
       "    </tr>\n",
       "    <tr>\n",
       "      <th>197954</th>\n",
       "      <td>54436</td>\n",
       "      <td>Mr. Boston Apricot Brandy</td>\n",
       "    </tr>\n",
       "    <tr>\n",
       "      <th>204978</th>\n",
       "      <td>54436</td>\n",
       "      <td>Mr. Boston Apricot Brandy</td>\n",
       "    </tr>\n",
       "    <tr>\n",
       "      <th>208250</th>\n",
       "      <td>54436</td>\n",
       "      <td>Mr. Boston Apricot Brandy</td>\n",
       "    </tr>\n",
       "    <tr>\n",
       "      <th>208844</th>\n",
       "      <td>54436</td>\n",
       "      <td>Mr. Boston Apricot Brandy</td>\n",
       "    </tr>\n",
       "    <tr>\n",
       "      <th>214722</th>\n",
       "      <td>54436</td>\n",
       "      <td>Mr. Boston Apricot Brandy</td>\n",
       "    </tr>\n",
       "    <tr>\n",
       "      <th>215770</th>\n",
       "      <td>54436</td>\n",
       "      <td>Mr. Boston Apricot Brandy</td>\n",
       "    </tr>\n",
       "    <tr>\n",
       "      <th>217623</th>\n",
       "      <td>54436</td>\n",
       "      <td>Mr. Boston Apricot Brandy</td>\n",
       "    </tr>\n",
       "    <tr>\n",
       "      <th>219777</th>\n",
       "      <td>54436</td>\n",
       "      <td>Mr. Boston Apricot Brandy</td>\n",
       "    </tr>\n",
       "    <tr>\n",
       "      <th>219797</th>\n",
       "      <td>54436</td>\n",
       "      <td>Mr. Boston Apricot Brandy</td>\n",
       "    </tr>\n",
       "    <tr>\n",
       "      <th>220308</th>\n",
       "      <td>54436</td>\n",
       "      <td>Mr. Boston Apricot Brandy</td>\n",
       "    </tr>\n",
       "    <tr>\n",
       "      <th>226053</th>\n",
       "      <td>54436</td>\n",
       "      <td>Mr. Boston Apricot Brandy</td>\n",
       "    </tr>\n",
       "    <tr>\n",
       "      <th>226549</th>\n",
       "      <td>54436</td>\n",
       "      <td>Mr. Boston Apricot Brandy</td>\n",
       "    </tr>\n",
       "    <tr>\n",
       "      <th>229573</th>\n",
       "      <td>54436</td>\n",
       "      <td>Mr. Boston Apricot Brandy</td>\n",
       "    </tr>\n",
       "    <tr>\n",
       "      <th>231595</th>\n",
       "      <td>54436</td>\n",
       "      <td>Mr. Boston Apricot Brandy</td>\n",
       "    </tr>\n",
       "    <tr>\n",
       "      <th>238788</th>\n",
       "      <td>54436</td>\n",
       "      <td>Mr. Boston Apricot Brandy</td>\n",
       "    </tr>\n",
       "    <tr>\n",
       "      <th>239016</th>\n",
       "      <td>54436</td>\n",
       "      <td>Mr. Boston Apricot Brandy</td>\n",
       "    </tr>\n",
       "    <tr>\n",
       "      <th>239117</th>\n",
       "      <td>54436</td>\n",
       "      <td>Mr. Boston Apricot Brandy</td>\n",
       "    </tr>\n",
       "    <tr>\n",
       "      <th>246402</th>\n",
       "      <td>54436</td>\n",
       "      <td>Mr. Boston Apricot Brandy</td>\n",
       "    </tr>\n",
       "    <tr>\n",
       "      <th>254944</th>\n",
       "      <td>54436</td>\n",
       "      <td>Mr. Boston Apricot Brandy</td>\n",
       "    </tr>\n",
       "    <tr>\n",
       "      <th>267987</th>\n",
       "      <td>54436</td>\n",
       "      <td>Mr. Boston Apricot Brandy</td>\n",
       "    </tr>\n",
       "  </tbody>\n",
       "</table>\n",
       "<p>88 rows × 2 columns</p>\n",
       "</div>"
      ],
      "text/plain": [
       "        Item Number           Item Description\n",
       "0             54436  Mr. Boston Apricot Brandy\n",
       "15            54436  Mr. Boston Apricot Brandy\n",
       "1776          54436  Mr. Boston Apricot Brandy\n",
       "1996          54436  Mr. Boston Apricot Brandy\n",
       "4861          54436  Mr. Boston Apricot Brandy\n",
       "6075          54436  Mr. Boston Apricot Brandy\n",
       "9218          54436  Mr. Boston Apricot Brandy\n",
       "11519         54436  Mr. Boston Apricot Brandy\n",
       "11781         54436  Mr. Boston Apricot Brandy\n",
       "12555         54436  Mr. Boston Apricot Brandy\n",
       "22894         54436  Mr. Boston Apricot Brandy\n",
       "27970         54436  Mr. Boston Apricot Brandy\n",
       "27975         54436  Mr. Boston Apricot Brandy\n",
       "33639         54436  Mr. Boston Apricot Brandy\n",
       "36714         54436  Mr. Boston Apricot Brandy\n",
       "40589         54436  Mr. Boston Apricot Brandy\n",
       "40807         54436  Mr. Boston Apricot Brandy\n",
       "43077         54436  Mr. Boston Apricot Brandy\n",
       "44750         54436  Mr. Boston Apricot Brandy\n",
       "48462         54436  Mr. Boston Apricot Brandy\n",
       "53242         54436  Mr. Boston Apricot Brandy\n",
       "55249         54436  Mr. Boston Apricot Brandy\n",
       "56482         54436  Mr. Boston Apricot Brandy\n",
       "56649         54436  Mr. Boston Apricot Brandy\n",
       "61975         54436  Mr. Boston Apricot Brandy\n",
       "62494         54436  Mr. Boston Apricot Brandy\n",
       "64565         54436  Mr. Boston Apricot Brandy\n",
       "64885         54436  Mr. Boston Apricot Brandy\n",
       "70070         54436  Mr. Boston Apricot Brandy\n",
       "71723         54436  Mr. Boston Apricot Brandy\n",
       "...             ...                        ...\n",
       "154578        54436  Mr. Boston Apricot Brandy\n",
       "155693        54436  Mr. Boston Apricot Brandy\n",
       "158020        54436  Mr. Boston Apricot Brandy\n",
       "159178        54436  Mr. Boston Apricot Brandy\n",
       "164954        54436  Mr. Boston Apricot Brandy\n",
       "167468        54436  Mr. Boston Apricot Brandy\n",
       "168148        54436  Mr. Boston Apricot Brandy\n",
       "181428        54436  Mr. Boston Apricot Brandy\n",
       "186547        54436  Mr. Boston Apricot Brandy\n",
       "191247        54436  Mr. Boston Apricot Brandy\n",
       "197954        54436  Mr. Boston Apricot Brandy\n",
       "204978        54436  Mr. Boston Apricot Brandy\n",
       "208250        54436  Mr. Boston Apricot Brandy\n",
       "208844        54436  Mr. Boston Apricot Brandy\n",
       "214722        54436  Mr. Boston Apricot Brandy\n",
       "215770        54436  Mr. Boston Apricot Brandy\n",
       "217623        54436  Mr. Boston Apricot Brandy\n",
       "219777        54436  Mr. Boston Apricot Brandy\n",
       "219797        54436  Mr. Boston Apricot Brandy\n",
       "220308        54436  Mr. Boston Apricot Brandy\n",
       "226053        54436  Mr. Boston Apricot Brandy\n",
       "226549        54436  Mr. Boston Apricot Brandy\n",
       "229573        54436  Mr. Boston Apricot Brandy\n",
       "231595        54436  Mr. Boston Apricot Brandy\n",
       "238788        54436  Mr. Boston Apricot Brandy\n",
       "239016        54436  Mr. Boston Apricot Brandy\n",
       "239117        54436  Mr. Boston Apricot Brandy\n",
       "246402        54436  Mr. Boston Apricot Brandy\n",
       "254944        54436  Mr. Boston Apricot Brandy\n",
       "267987        54436  Mr. Boston Apricot Brandy\n",
       "\n",
       "[88 rows x 2 columns]"
      ]
     },
     "execution_count": 19,
     "metadata": {},
     "output_type": "execute_result"
    }
   ],
   "source": [
    "#in the data frame, item Number and item descritions are the same/related for each product\n",
    "\n",
    "df[df['Item Number']== 54436][['Item Number', 'Item Description']]"
   ]
  },
  {
   "cell_type": "code",
   "execution_count": 20,
   "metadata": {
    "collapsed": false
   },
   "outputs": [
    {
     "data": {
      "text/html": [
       "<div>\n",
       "<table border=\"1\" class=\"dataframe\">\n",
       "  <thead>\n",
       "    <tr style=\"text-align: right;\">\n",
       "      <th></th>\n",
       "      <th>Category</th>\n",
       "      <th>Category Name</th>\n",
       "    </tr>\n",
       "  </thead>\n",
       "  <tbody>\n",
       "    <tr>\n",
       "      <th>0</th>\n",
       "      <td>1051100.0</td>\n",
       "      <td>APRICOT BRANDIES</td>\n",
       "    </tr>\n",
       "    <tr>\n",
       "      <th>15</th>\n",
       "      <td>1051100.0</td>\n",
       "      <td>APRICOT BRANDIES</td>\n",
       "    </tr>\n",
       "    <tr>\n",
       "      <th>132</th>\n",
       "      <td>1051100.0</td>\n",
       "      <td>APRICOT BRANDIES</td>\n",
       "    </tr>\n",
       "    <tr>\n",
       "      <th>321</th>\n",
       "      <td>1051100.0</td>\n",
       "      <td>APRICOT BRANDIES</td>\n",
       "    </tr>\n",
       "    <tr>\n",
       "      <th>1020</th>\n",
       "      <td>1051100.0</td>\n",
       "      <td>APRICOT BRANDIES</td>\n",
       "    </tr>\n",
       "    <tr>\n",
       "      <th>1089</th>\n",
       "      <td>1051100.0</td>\n",
       "      <td>APRICOT BRANDIES</td>\n",
       "    </tr>\n",
       "    <tr>\n",
       "      <th>1241</th>\n",
       "      <td>1051100.0</td>\n",
       "      <td>APRICOT BRANDIES</td>\n",
       "    </tr>\n",
       "    <tr>\n",
       "      <th>1552</th>\n",
       "      <td>1051100.0</td>\n",
       "      <td>APRICOT BRANDIES</td>\n",
       "    </tr>\n",
       "    <tr>\n",
       "      <th>1639</th>\n",
       "      <td>1051100.0</td>\n",
       "      <td>APRICOT BRANDIES</td>\n",
       "    </tr>\n",
       "    <tr>\n",
       "      <th>1700</th>\n",
       "      <td>1051100.0</td>\n",
       "      <td>APRICOT BRANDIES</td>\n",
       "    </tr>\n",
       "    <tr>\n",
       "      <th>1776</th>\n",
       "      <td>1051100.0</td>\n",
       "      <td>APRICOT BRANDIES</td>\n",
       "    </tr>\n",
       "    <tr>\n",
       "      <th>1828</th>\n",
       "      <td>1051100.0</td>\n",
       "      <td>APRICOT BRANDIES</td>\n",
       "    </tr>\n",
       "    <tr>\n",
       "      <th>1944</th>\n",
       "      <td>1051100.0</td>\n",
       "      <td>APRICOT BRANDIES</td>\n",
       "    </tr>\n",
       "    <tr>\n",
       "      <th>1996</th>\n",
       "      <td>1051100.0</td>\n",
       "      <td>APRICOT BRANDIES</td>\n",
       "    </tr>\n",
       "    <tr>\n",
       "      <th>2056</th>\n",
       "      <td>1051100.0</td>\n",
       "      <td>APRICOT BRANDIES</td>\n",
       "    </tr>\n",
       "    <tr>\n",
       "      <th>2164</th>\n",
       "      <td>1051100.0</td>\n",
       "      <td>APRICOT BRANDIES</td>\n",
       "    </tr>\n",
       "    <tr>\n",
       "      <th>2360</th>\n",
       "      <td>1051100.0</td>\n",
       "      <td>APRICOT BRANDIES</td>\n",
       "    </tr>\n",
       "    <tr>\n",
       "      <th>2959</th>\n",
       "      <td>1051100.0</td>\n",
       "      <td>APRICOT BRANDIES</td>\n",
       "    </tr>\n",
       "    <tr>\n",
       "      <th>3883</th>\n",
       "      <td>1051100.0</td>\n",
       "      <td>APRICOT BRANDIES</td>\n",
       "    </tr>\n",
       "    <tr>\n",
       "      <th>3929</th>\n",
       "      <td>1051100.0</td>\n",
       "      <td>APRICOT BRANDIES</td>\n",
       "    </tr>\n",
       "    <tr>\n",
       "      <th>4034</th>\n",
       "      <td>1051100.0</td>\n",
       "      <td>APRICOT BRANDIES</td>\n",
       "    </tr>\n",
       "    <tr>\n",
       "      <th>4163</th>\n",
       "      <td>1051100.0</td>\n",
       "      <td>APRICOT BRANDIES</td>\n",
       "    </tr>\n",
       "    <tr>\n",
       "      <th>4861</th>\n",
       "      <td>1051100.0</td>\n",
       "      <td>APRICOT BRANDIES</td>\n",
       "    </tr>\n",
       "    <tr>\n",
       "      <th>5642</th>\n",
       "      <td>1051100.0</td>\n",
       "      <td>APRICOT BRANDIES</td>\n",
       "    </tr>\n",
       "    <tr>\n",
       "      <th>5741</th>\n",
       "      <td>1051100.0</td>\n",
       "      <td>APRICOT BRANDIES</td>\n",
       "    </tr>\n",
       "    <tr>\n",
       "      <th>5800</th>\n",
       "      <td>1051100.0</td>\n",
       "      <td>APRICOT BRANDIES</td>\n",
       "    </tr>\n",
       "    <tr>\n",
       "      <th>6075</th>\n",
       "      <td>1051100.0</td>\n",
       "      <td>APRICOT BRANDIES</td>\n",
       "    </tr>\n",
       "    <tr>\n",
       "      <th>6181</th>\n",
       "      <td>1051100.0</td>\n",
       "      <td>APRICOT BRANDIES</td>\n",
       "    </tr>\n",
       "    <tr>\n",
       "      <th>6459</th>\n",
       "      <td>1051100.0</td>\n",
       "      <td>APRICOT BRANDIES</td>\n",
       "    </tr>\n",
       "    <tr>\n",
       "      <th>6638</th>\n",
       "      <td>1051100.0</td>\n",
       "      <td>APRICOT BRANDIES</td>\n",
       "    </tr>\n",
       "    <tr>\n",
       "      <th>...</th>\n",
       "      <td>...</td>\n",
       "      <td>...</td>\n",
       "    </tr>\n",
       "    <tr>\n",
       "      <th>262029</th>\n",
       "      <td>1051100.0</td>\n",
       "      <td>APRICOT BRANDIES</td>\n",
       "    </tr>\n",
       "    <tr>\n",
       "      <th>262191</th>\n",
       "      <td>1051100.0</td>\n",
       "      <td>APRICOT BRANDIES</td>\n",
       "    </tr>\n",
       "    <tr>\n",
       "      <th>263060</th>\n",
       "      <td>1051100.0</td>\n",
       "      <td>APRICOT BRANDIES</td>\n",
       "    </tr>\n",
       "    <tr>\n",
       "      <th>263691</th>\n",
       "      <td>1051100.0</td>\n",
       "      <td>APRICOT BRANDIES</td>\n",
       "    </tr>\n",
       "    <tr>\n",
       "      <th>263839</th>\n",
       "      <td>1051100.0</td>\n",
       "      <td>APRICOT BRANDIES</td>\n",
       "    </tr>\n",
       "    <tr>\n",
       "      <th>264298</th>\n",
       "      <td>1051100.0</td>\n",
       "      <td>APRICOT BRANDIES</td>\n",
       "    </tr>\n",
       "    <tr>\n",
       "      <th>264566</th>\n",
       "      <td>1051100.0</td>\n",
       "      <td>APRICOT BRANDIES</td>\n",
       "    </tr>\n",
       "    <tr>\n",
       "      <th>264592</th>\n",
       "      <td>1051100.0</td>\n",
       "      <td>APRICOT BRANDIES</td>\n",
       "    </tr>\n",
       "    <tr>\n",
       "      <th>264911</th>\n",
       "      <td>1051100.0</td>\n",
       "      <td>APRICOT BRANDIES</td>\n",
       "    </tr>\n",
       "    <tr>\n",
       "      <th>265875</th>\n",
       "      <td>1051100.0</td>\n",
       "      <td>APRICOT BRANDIES</td>\n",
       "    </tr>\n",
       "    <tr>\n",
       "      <th>266473</th>\n",
       "      <td>1051100.0</td>\n",
       "      <td>APRICOT BRANDIES</td>\n",
       "    </tr>\n",
       "    <tr>\n",
       "      <th>266734</th>\n",
       "      <td>1051100.0</td>\n",
       "      <td>APRICOT BRANDIES</td>\n",
       "    </tr>\n",
       "    <tr>\n",
       "      <th>266947</th>\n",
       "      <td>1051100.0</td>\n",
       "      <td>APRICOT BRANDIES</td>\n",
       "    </tr>\n",
       "    <tr>\n",
       "      <th>266986</th>\n",
       "      <td>1051100.0</td>\n",
       "      <td>APRICOT BRANDIES</td>\n",
       "    </tr>\n",
       "    <tr>\n",
       "      <th>267290</th>\n",
       "      <td>1051100.0</td>\n",
       "      <td>APRICOT BRANDIES</td>\n",
       "    </tr>\n",
       "    <tr>\n",
       "      <th>267387</th>\n",
       "      <td>1051100.0</td>\n",
       "      <td>APRICOT BRANDIES</td>\n",
       "    </tr>\n",
       "    <tr>\n",
       "      <th>267460</th>\n",
       "      <td>1051100.0</td>\n",
       "      <td>APRICOT BRANDIES</td>\n",
       "    </tr>\n",
       "    <tr>\n",
       "      <th>267987</th>\n",
       "      <td>1051100.0</td>\n",
       "      <td>APRICOT BRANDIES</td>\n",
       "    </tr>\n",
       "    <tr>\n",
       "      <th>268178</th>\n",
       "      <td>1051100.0</td>\n",
       "      <td>APRICOT BRANDIES</td>\n",
       "    </tr>\n",
       "    <tr>\n",
       "      <th>268501</th>\n",
       "      <td>1051100.0</td>\n",
       "      <td>APRICOT BRANDIES</td>\n",
       "    </tr>\n",
       "    <tr>\n",
       "      <th>268587</th>\n",
       "      <td>1051100.0</td>\n",
       "      <td>APRICOT BRANDIES</td>\n",
       "    </tr>\n",
       "    <tr>\n",
       "      <th>268731</th>\n",
       "      <td>1051100.0</td>\n",
       "      <td>APRICOT BRANDIES</td>\n",
       "    </tr>\n",
       "    <tr>\n",
       "      <th>268941</th>\n",
       "      <td>1051100.0</td>\n",
       "      <td>APRICOT BRANDIES</td>\n",
       "    </tr>\n",
       "    <tr>\n",
       "      <th>269048</th>\n",
       "      <td>1051100.0</td>\n",
       "      <td>APRICOT BRANDIES</td>\n",
       "    </tr>\n",
       "    <tr>\n",
       "      <th>269085</th>\n",
       "      <td>1051100.0</td>\n",
       "      <td>APRICOT BRANDIES</td>\n",
       "    </tr>\n",
       "    <tr>\n",
       "      <th>269137</th>\n",
       "      <td>1051100.0</td>\n",
       "      <td>APRICOT BRANDIES</td>\n",
       "    </tr>\n",
       "    <tr>\n",
       "      <th>269334</th>\n",
       "      <td>1051100.0</td>\n",
       "      <td>APRICOT BRANDIES</td>\n",
       "    </tr>\n",
       "    <tr>\n",
       "      <th>269505</th>\n",
       "      <td>1051100.0</td>\n",
       "      <td>APRICOT BRANDIES</td>\n",
       "    </tr>\n",
       "    <tr>\n",
       "      <th>269661</th>\n",
       "      <td>1051100.0</td>\n",
       "      <td>APRICOT BRANDIES</td>\n",
       "    </tr>\n",
       "    <tr>\n",
       "      <th>270663</th>\n",
       "      <td>1051100.0</td>\n",
       "      <td>APRICOT BRANDIES</td>\n",
       "    </tr>\n",
       "  </tbody>\n",
       "</table>\n",
       "<p>1109 rows × 2 columns</p>\n",
       "</div>"
      ],
      "text/plain": [
       "         Category     Category Name\n",
       "0       1051100.0  APRICOT BRANDIES\n",
       "15      1051100.0  APRICOT BRANDIES\n",
       "132     1051100.0  APRICOT BRANDIES\n",
       "321     1051100.0  APRICOT BRANDIES\n",
       "1020    1051100.0  APRICOT BRANDIES\n",
       "1089    1051100.0  APRICOT BRANDIES\n",
       "1241    1051100.0  APRICOT BRANDIES\n",
       "1552    1051100.0  APRICOT BRANDIES\n",
       "1639    1051100.0  APRICOT BRANDIES\n",
       "1700    1051100.0  APRICOT BRANDIES\n",
       "1776    1051100.0  APRICOT BRANDIES\n",
       "1828    1051100.0  APRICOT BRANDIES\n",
       "1944    1051100.0  APRICOT BRANDIES\n",
       "1996    1051100.0  APRICOT BRANDIES\n",
       "2056    1051100.0  APRICOT BRANDIES\n",
       "2164    1051100.0  APRICOT BRANDIES\n",
       "2360    1051100.0  APRICOT BRANDIES\n",
       "2959    1051100.0  APRICOT BRANDIES\n",
       "3883    1051100.0  APRICOT BRANDIES\n",
       "3929    1051100.0  APRICOT BRANDIES\n",
       "4034    1051100.0  APRICOT BRANDIES\n",
       "4163    1051100.0  APRICOT BRANDIES\n",
       "4861    1051100.0  APRICOT BRANDIES\n",
       "5642    1051100.0  APRICOT BRANDIES\n",
       "5741    1051100.0  APRICOT BRANDIES\n",
       "5800    1051100.0  APRICOT BRANDIES\n",
       "6075    1051100.0  APRICOT BRANDIES\n",
       "6181    1051100.0  APRICOT BRANDIES\n",
       "6459    1051100.0  APRICOT BRANDIES\n",
       "6638    1051100.0  APRICOT BRANDIES\n",
       "...           ...               ...\n",
       "262029  1051100.0  APRICOT BRANDIES\n",
       "262191  1051100.0  APRICOT BRANDIES\n",
       "263060  1051100.0  APRICOT BRANDIES\n",
       "263691  1051100.0  APRICOT BRANDIES\n",
       "263839  1051100.0  APRICOT BRANDIES\n",
       "264298  1051100.0  APRICOT BRANDIES\n",
       "264566  1051100.0  APRICOT BRANDIES\n",
       "264592  1051100.0  APRICOT BRANDIES\n",
       "264911  1051100.0  APRICOT BRANDIES\n",
       "265875  1051100.0  APRICOT BRANDIES\n",
       "266473  1051100.0  APRICOT BRANDIES\n",
       "266734  1051100.0  APRICOT BRANDIES\n",
       "266947  1051100.0  APRICOT BRANDIES\n",
       "266986  1051100.0  APRICOT BRANDIES\n",
       "267290  1051100.0  APRICOT BRANDIES\n",
       "267387  1051100.0  APRICOT BRANDIES\n",
       "267460  1051100.0  APRICOT BRANDIES\n",
       "267987  1051100.0  APRICOT BRANDIES\n",
       "268178  1051100.0  APRICOT BRANDIES\n",
       "268501  1051100.0  APRICOT BRANDIES\n",
       "268587  1051100.0  APRICOT BRANDIES\n",
       "268731  1051100.0  APRICOT BRANDIES\n",
       "268941  1051100.0  APRICOT BRANDIES\n",
       "269048  1051100.0  APRICOT BRANDIES\n",
       "269085  1051100.0  APRICOT BRANDIES\n",
       "269137  1051100.0  APRICOT BRANDIES\n",
       "269334  1051100.0  APRICOT BRANDIES\n",
       "269505  1051100.0  APRICOT BRANDIES\n",
       "269661  1051100.0  APRICOT BRANDIES\n",
       "270663  1051100.0  APRICOT BRANDIES\n",
       "\n",
       "[1109 rows x 2 columns]"
      ]
     },
     "execution_count": 20,
     "metadata": {},
     "output_type": "execute_result"
    }
   ],
   "source": [
    "#In the data frame \"category\" and \"Category Name\" relate to the same item \n",
    "df[df['Category']== 1051100.0][['Category', 'Category Name']]"
   ]
  },
  {
   "cell_type": "code",
   "execution_count": 21,
   "metadata": {
    "collapsed": false
   },
   "outputs": [
    {
     "data": {
      "text/plain": [
       "array([  9.,  82.,   7.,  85.,  99.,  57.,  90.,  17.,  77.,   6.,  62.,\n",
       "        56.,  52.,  50.,  86.,  84.,  30.,  78.,  91.,  94.,   8.,  49.,\n",
       "        14.,  40.,  97.,  92.,  34.,  28.,  71.,  11.,  38.,  31.,   1.,\n",
       "        24.,  44.,  39.,  96.,  21.,  70.,  87.,  43.,  42.,  55.,  25.,\n",
       "        27.,  23.,  12.,  29.,  13.,  33.,  53.,  nan,  41.,  48.,  45.,\n",
       "         4.,  51.,  32.,  64.,  73.,  16.,  22.,  81.,  67.,   3.,  95.,\n",
       "        79.,  63.,  10.,  35.,  18.,  46.,  37.,  54.,  75.,  83.,  20.,\n",
       "        74.,  15.,  60.,  76.,  47.,  88.,  36.,  69.,  58.,  66.,  65.,\n",
       "        61.,  26.,  59.,   5.,  93.,  72.,  19.,  89.,  98.,  68.,   2.,\n",
       "        80.])"
      ]
     },
     "execution_count": 21,
     "metadata": {},
     "output_type": "execute_result"
    }
   ],
   "source": [
    "#County Number has a nan value\n",
    "df[\"County Number\"].unique()"
   ]
  },
  {
   "cell_type": "code",
   "execution_count": 25,
   "metadata": {
    "collapsed": false
   },
   "outputs": [
    {
     "data": {
      "text/plain": [
       "(270955,)"
      ]
     },
     "execution_count": 25,
     "metadata": {},
     "output_type": "execute_result"
    }
   ],
   "source": [
    "df[\"County Number\"].shape"
   ]
  },
  {
   "cell_type": "code",
   "execution_count": 26,
   "metadata": {
    "collapsed": false
   },
   "outputs": [
    {
     "data": {
      "text/plain": [
       "1077"
      ]
     },
     "execution_count": 26,
     "metadata": {},
     "output_type": "execute_result"
    }
   ],
   "source": [
    "# we find that \"County Number\" has 1077 nan i.e. there are about 1077 blank spaces in the csv in the \"County Number\"\n",
    "270955 - 269878"
   ]
  },
  {
   "cell_type": "code",
   "execution_count": 56,
   "metadata": {
    "collapsed": false
   },
   "outputs": [
    {
     "data": {
      "text/plain": [
       "dtype('float64')"
      ]
     },
     "execution_count": 56,
     "metadata": {},
     "output_type": "execute_result"
    }
   ],
   "source": [
    "#we converted the \"Zip Code\" column from string to float\n",
    "#df[\"Zip Code\"].unique()\n",
    "    \n",
    "df[\"Zip Code\"] = pd.to_numeric(df[\"Zip Code\"], errors= 'coerce')\n",
    "\n",
    "#print df[\"Zip Code\"]\n",
    "\n",
    "df[\"Zip Code\"].dtype\n",
    "\n",
    "#df[\"Zip Code\"].shape"
   ]
  },
  {
   "cell_type": "code",
   "execution_count": 73,
   "metadata": {
    "collapsed": false
   },
   "outputs": [
    {
     "name": "stdout",
     "output_type": "stream",
     "text": [
      "<class 'pandas.core.frame.DataFrame'>\n",
      "RangeIndex: 270955 entries, 0 to 270954\n",
      "Data columns (total 18 columns):\n",
      "Date                     270955 non-null object\n",
      "Store Number             270955 non-null int64\n",
      "City                     270955 non-null object\n",
      "Zip Code                 270738 non-null float64\n",
      "County Number            269878 non-null float64\n",
      "County                   269878 non-null object\n",
      "Category                 270887 non-null float64\n",
      "Category Name            270323 non-null object\n",
      "Vendor Number            270955 non-null int64\n",
      "Item Number              270955 non-null int64\n",
      "Item Description         270955 non-null object\n",
      "Bottle Volume (ml)       270955 non-null int64\n",
      "State Bottle Cost        270955 non-null object\n",
      "State Bottle Retail      270955 non-null float64\n",
      "Bottles Sold             270955 non-null int64\n",
      "Sale (Dollars)           270955 non-null float64\n",
      "Volume Sold (Liters)     270955 non-null float64\n",
      "Volume Sold (Gallons)    270955 non-null float64\n",
      "dtypes: float64(7), int64(5), object(6)\n",
      "memory usage: 37.2+ MB\n"
     ]
    }
   ],
   "source": [
    "#all the column are converted into numeric type\n",
    "df.info()"
   ]
  },
  {
   "cell_type": "code",
   "execution_count": 55,
   "metadata": {
    "collapsed": false
   },
   "outputs": [
    {
     "data": {
      "image/png": "[encoded data removed]",
      "text/plain": [
       "<matplotlib.figure.Figure at 0x115bd43d0>"
      ]
     },
     "metadata": {},
     "output_type": "display_data"
    },
    {
     "data": {
      "image/png": "[encoded data removed]",
      "text/plain": [
       "<matplotlib.figure.Figure at 0x1150b0110>"
      ]
     },
     "metadata": {},
     "output_type": "display_data"
    },
    {
     "data": {
      "image/png": "[encoded data removed]",
      "text/plain": [
       "<matplotlib.figure.Figure at 0x11be57b10>"
      ]
     },
     "metadata": {},
     "output_type": "display_data"
    },
    {
     "data": {
      "image/png": "[encoded data removed]",
      "text/plain": [
       "<matplotlib.figure.Figure at 0x11ff8e850>"
      ]
     },
     "metadata": {},
     "output_type": "display_data"
    },
    {
     "data": {
      "image/png": "[encoded data removed]",
      "text/plain": [
       "<matplotlib.figure.Figure at 0x112595cd0>"
      ]
     },
     "metadata": {},
     "output_type": "display_data"
    }
   ],
   "source": [
    "#lets plot the different variable against the Sale (Dollars)\n",
    "\n",
    "%matplotlib inline\n",
    "import seaborn as sns\n",
    "from matplotlib import pyplot as plt\n",
    "\n",
    "names = [\"Store Number\", \"Zip Code\", \"County Number\", \"Category\", \"Vendor Number\"]\n",
    "for name in names:\n",
    "    df.plot.scatter(x=name, y='Sale (Dollars)')"
   ]
  },
  {
   "cell_type": "code",
   "execution_count": 8,
   "metadata": {
    "collapsed": false
   },
   "outputs": [
    {
     "data": {
      "image/png": "[encoded data removed]",
      "text/plain": [
       "<matplotlib.figure.Figure at 0x121d09bd0>"
      ]
     },
     "metadata": {},
     "output_type": "display_data"
    },
    {
     "data": {
      "image/png": "[encoded data removed]",
      "text/plain": [
       "<matplotlib.figure.Figure at 0x1134951d0>"
      ]
     },
     "metadata": {},
     "output_type": "display_data"
    },
    {
     "data": {
      "image/png": "[encoded data removed]",
      "text/plain": [
       "<matplotlib.figure.Figure at 0x1133328d0>"
      ]
     },
     "metadata": {},
     "output_type": "display_data"
    },
    {
     "data": {
      "image/png": "[encoded data removed]",
      "text/plain": [
       "<matplotlib.figure.Figure at 0x113a139d0>"
      ]
     },
     "metadata": {},
     "output_type": "display_data"
    }
   ],
   "source": [
    "#Bottles Sold and Volume Sold show a linear dependence\n",
    "\n",
    "names = [\"Item Number\", \"Bottle Volume (ml)\", \"Bottles Sold\", \"Volume Sold (Liters)\"]\n",
    "for name in names:\n",
    "    df.plot.scatter(x=name, y='Sale (Dollars)')"
   ]
  },
  {
   "cell_type": "markdown",
   "metadata": {},
   "source": [
    "# Tables for the best performing stores grouped by different location parameters"
   ]
  },
  {
   "cell_type": "code",
   "execution_count": 58,
   "metadata": {
    "collapsed": false
   },
   "outputs": [],
   "source": [
    "#To drop the missing values I have called the dropna() function on the data frame\n",
    "df = df.dropna()"
   ]
  },
  {
   "cell_type": "code",
   "execution_count": 18,
   "metadata": {
    "collapsed": false
   },
   "outputs": [
    {
     "data": {
      "text/html": [
       "<div>\n",
       "<table border=\"1\" class=\"dataframe\">\n",
       "  <thead>\n",
       "    <tr style=\"text-align: right;\">\n",
       "      <th></th>\n",
       "      <th>Sale (Dollars)</th>\n",
       "    </tr>\n",
       "    <tr>\n",
       "      <th>County Number</th>\n",
       "      <th></th>\n",
       "    </tr>\n",
       "  </thead>\n",
       "  <tbody>\n",
       "    <tr>\n",
       "      <th>77.0</th>\n",
       "      <td>7.747219e+06</td>\n",
       "    </tr>\n",
       "    <tr>\n",
       "      <th>57.0</th>\n",
       "      <td>3.139999e+06</td>\n",
       "    </tr>\n",
       "    <tr>\n",
       "      <th>82.0</th>\n",
       "      <td>2.457277e+06</td>\n",
       "    </tr>\n",
       "    <tr>\n",
       "      <th>52.0</th>\n",
       "      <td>2.077858e+06</td>\n",
       "    </tr>\n",
       "    <tr>\n",
       "      <th>7.0</th>\n",
       "      <td>1.928017e+06</td>\n",
       "    </tr>\n",
       "    <tr>\n",
       "      <th>78.0</th>\n",
       "      <td>1.277581e+06</td>\n",
       "    </tr>\n",
       "    <tr>\n",
       "      <th>97.0</th>\n",
       "      <td>1.249514e+06</td>\n",
       "    </tr>\n",
       "    <tr>\n",
       "      <th>31.0</th>\n",
       "      <td>1.076389e+06</td>\n",
       "    </tr>\n",
       "    <tr>\n",
       "      <th>85.0</th>\n",
       "      <td>1.073666e+06</td>\n",
       "    </tr>\n",
       "    <tr>\n",
       "      <th>17.0</th>\n",
       "      <td>6.949539e+05</td>\n",
       "    </tr>\n",
       "    <tr>\n",
       "      <th>25.0</th>\n",
       "      <td>6.259259e+05</td>\n",
       "    </tr>\n",
       "    <tr>\n",
       "      <th>56.0</th>\n",
       "      <td>4.852360e+05</td>\n",
       "    </tr>\n",
       "    <tr>\n",
       "      <th>29.0</th>\n",
       "      <td>4.668898e+05</td>\n",
       "    </tr>\n",
       "    <tr>\n",
       "      <th>30.0</th>\n",
       "      <td>4.530934e+05</td>\n",
       "    </tr>\n",
       "    <tr>\n",
       "      <th>94.0</th>\n",
       "      <td>4.435444e+05</td>\n",
       "    </tr>\n",
       "    <tr>\n",
       "      <th>23.0</th>\n",
       "      <td>4.197627e+05</td>\n",
       "    </tr>\n",
       "    <tr>\n",
       "      <th>70.0</th>\n",
       "      <td>3.571560e+05</td>\n",
       "    </tr>\n",
       "    <tr>\n",
       "      <th>64.0</th>\n",
       "      <td>3.485070e+05</td>\n",
       "    </tr>\n",
       "    <tr>\n",
       "      <th>90.0</th>\n",
       "      <td>3.297726e+05</td>\n",
       "    </tr>\n",
       "    <tr>\n",
       "      <th>91.0</th>\n",
       "      <td>3.075335e+05</td>\n",
       "    </tr>\n",
       "    <tr>\n",
       "      <th>14.0</th>\n",
       "      <td>3.067951e+05</td>\n",
       "    </tr>\n",
       "    <tr>\n",
       "      <th>63.0</th>\n",
       "      <td>2.411637e+05</td>\n",
       "    </tr>\n",
       "    <tr>\n",
       "      <th>8.0</th>\n",
       "      <td>2.230642e+05</td>\n",
       "    </tr>\n",
       "    <tr>\n",
       "      <th>42.0</th>\n",
       "      <td>2.213883e+05</td>\n",
       "    </tr>\n",
       "    <tr>\n",
       "      <th>55.0</th>\n",
       "      <td>2.162142e+05</td>\n",
       "    </tr>\n",
       "    <tr>\n",
       "      <th>11.0</th>\n",
       "      <td>2.136521e+05</td>\n",
       "    </tr>\n",
       "    <tr>\n",
       "      <th>50.0</th>\n",
       "      <td>2.061819e+05</td>\n",
       "    </tr>\n",
       "    <tr>\n",
       "      <th>9.0</th>\n",
       "      <td>2.046495e+05</td>\n",
       "    </tr>\n",
       "    <tr>\n",
       "      <th>84.0</th>\n",
       "      <td>1.964274e+05</td>\n",
       "    </tr>\n",
       "    <tr>\n",
       "      <th>21.0</th>\n",
       "      <td>1.772498e+05</td>\n",
       "    </tr>\n",
       "    <tr>\n",
       "      <th>...</th>\n",
       "      <td>...</td>\n",
       "    </tr>\n",
       "    <tr>\n",
       "      <th>67.0</th>\n",
       "      <td>6.777953e+04</td>\n",
       "    </tr>\n",
       "    <tr>\n",
       "      <th>81.0</th>\n",
       "      <td>6.402323e+04</td>\n",
       "    </tr>\n",
       "    <tr>\n",
       "      <th>46.0</th>\n",
       "      <td>6.142825e+04</td>\n",
       "    </tr>\n",
       "    <tr>\n",
       "      <th>35.0</th>\n",
       "      <td>5.759978e+04</td>\n",
       "    </tr>\n",
       "    <tr>\n",
       "      <th>1.0</th>\n",
       "      <td>5.554420e+04</td>\n",
       "    </tr>\n",
       "    <tr>\n",
       "      <th>65.0</th>\n",
       "      <td>5.537766e+04</td>\n",
       "    </tr>\n",
       "    <tr>\n",
       "      <th>66.0</th>\n",
       "      <td>5.145385e+04</td>\n",
       "    </tr>\n",
       "    <tr>\n",
       "      <th>59.0</th>\n",
       "      <td>4.791119e+04</td>\n",
       "    </tr>\n",
       "    <tr>\n",
       "      <th>43.0</th>\n",
       "      <td>4.677106e+04</td>\n",
       "    </tr>\n",
       "    <tr>\n",
       "      <th>76.0</th>\n",
       "      <td>4.479333e+04</td>\n",
       "    </tr>\n",
       "    <tr>\n",
       "      <th>19.0</th>\n",
       "      <td>4.445726e+04</td>\n",
       "    </tr>\n",
       "    <tr>\n",
       "      <th>38.0</th>\n",
       "      <td>3.895831e+04</td>\n",
       "    </tr>\n",
       "    <tr>\n",
       "      <th>39.0</th>\n",
       "      <td>3.784590e+04</td>\n",
       "    </tr>\n",
       "    <tr>\n",
       "      <th>98.0</th>\n",
       "      <td>3.754885e+04</td>\n",
       "    </tr>\n",
       "    <tr>\n",
       "      <th>41.0</th>\n",
       "      <td>3.701484e+04</td>\n",
       "    </tr>\n",
       "    <tr>\n",
       "      <th>13.0</th>\n",
       "      <td>3.599253e+04</td>\n",
       "    </tr>\n",
       "    <tr>\n",
       "      <th>12.0</th>\n",
       "      <td>3.409963e+04</td>\n",
       "    </tr>\n",
       "    <tr>\n",
       "      <th>68.0</th>\n",
       "      <td>3.381553e+04</td>\n",
       "    </tr>\n",
       "    <tr>\n",
       "      <th>58.0</th>\n",
       "      <td>3.070261e+04</td>\n",
       "    </tr>\n",
       "    <tr>\n",
       "      <th>72.0</th>\n",
       "      <td>3.031341e+04</td>\n",
       "    </tr>\n",
       "    <tr>\n",
       "      <th>89.0</th>\n",
       "      <td>2.156597e+04</td>\n",
       "    </tr>\n",
       "    <tr>\n",
       "      <th>27.0</th>\n",
       "      <td>1.974532e+04</td>\n",
       "    </tr>\n",
       "    <tr>\n",
       "      <th>5.0</th>\n",
       "      <td>1.965554e+04</td>\n",
       "    </tr>\n",
       "    <tr>\n",
       "      <th>54.0</th>\n",
       "      <td>1.829160e+04</td>\n",
       "    </tr>\n",
       "    <tr>\n",
       "      <th>80.0</th>\n",
       "      <td>1.822317e+04</td>\n",
       "    </tr>\n",
       "    <tr>\n",
       "      <th>87.0</th>\n",
       "      <td>1.498109e+04</td>\n",
       "    </tr>\n",
       "    <tr>\n",
       "      <th>26.0</th>\n",
       "      <td>1.319752e+04</td>\n",
       "    </tr>\n",
       "    <tr>\n",
       "      <th>93.0</th>\n",
       "      <td>1.293362e+04</td>\n",
       "    </tr>\n",
       "    <tr>\n",
       "      <th>2.0</th>\n",
       "      <td>1.244171e+04</td>\n",
       "    </tr>\n",
       "    <tr>\n",
       "      <th>36.0</th>\n",
       "      <td>3.230450e+03</td>\n",
       "    </tr>\n",
       "  </tbody>\n",
       "</table>\n",
       "<p>99 rows × 1 columns</p>\n",
       "</div>"
      ],
      "text/plain": [
       "               Sale (Dollars)\n",
       "County Number                \n",
       "77.0             7.747219e+06\n",
       "57.0             3.139999e+06\n",
       "82.0             2.457277e+06\n",
       "52.0             2.077858e+06\n",
       "7.0              1.928017e+06\n",
       "78.0             1.277581e+06\n",
       "97.0             1.249514e+06\n",
       "31.0             1.076389e+06\n",
       "85.0             1.073666e+06\n",
       "17.0             6.949539e+05\n",
       "25.0             6.259259e+05\n",
       "56.0             4.852360e+05\n",
       "29.0             4.668898e+05\n",
       "30.0             4.530934e+05\n",
       "94.0             4.435444e+05\n",
       "23.0             4.197627e+05\n",
       "70.0             3.571560e+05\n",
       "64.0             3.485070e+05\n",
       "90.0             3.297726e+05\n",
       "91.0             3.075335e+05\n",
       "14.0             3.067951e+05\n",
       "63.0             2.411637e+05\n",
       "8.0              2.230642e+05\n",
       "42.0             2.213883e+05\n",
       "55.0             2.162142e+05\n",
       "11.0             2.136521e+05\n",
       "50.0             2.061819e+05\n",
       "9.0              2.046495e+05\n",
       "84.0             1.964274e+05\n",
       "21.0             1.772498e+05\n",
       "...                       ...\n",
       "67.0             6.777953e+04\n",
       "81.0             6.402323e+04\n",
       "46.0             6.142825e+04\n",
       "35.0             5.759978e+04\n",
       "1.0              5.554420e+04\n",
       "65.0             5.537766e+04\n",
       "66.0             5.145385e+04\n",
       "59.0             4.791119e+04\n",
       "43.0             4.677106e+04\n",
       "76.0             4.479333e+04\n",
       "19.0             4.445726e+04\n",
       "38.0             3.895831e+04\n",
       "39.0             3.784590e+04\n",
       "98.0             3.754885e+04\n",
       "41.0             3.701484e+04\n",
       "13.0             3.599253e+04\n",
       "12.0             3.409963e+04\n",
       "68.0             3.381553e+04\n",
       "58.0             3.070261e+04\n",
       "72.0             3.031341e+04\n",
       "89.0             2.156597e+04\n",
       "27.0             1.974532e+04\n",
       "5.0              1.965554e+04\n",
       "54.0             1.829160e+04\n",
       "80.0             1.822317e+04\n",
       "87.0             1.498109e+04\n",
       "26.0             1.319752e+04\n",
       "93.0             1.293362e+04\n",
       "2.0              1.244171e+04\n",
       "36.0             3.230450e+03\n",
       "\n",
       "[99 rows x 1 columns]"
      ]
     },
     "execution_count": 18,
     "metadata": {},
     "output_type": "execute_result"
    }
   ],
   "source": [
    "# Trying to figure out which location i.e. \"County Number\" that had the maximum liquor Sale\n",
    "# County Number 77 had the maximum Sale(Dollars)\n",
    "\n",
    "new_df1 = df[[\"County Number\", \"Sale (Dollars)\"]]\n",
    "\n",
    "new_df1 = new_df1.groupby('County Number')['Sale (Dollars)'].sum().to_frame()\n",
    "\n",
    "new_df1.sort_values(by = \"Sale (Dollars)\", ascending = False)"
   ]
  },
  {
   "cell_type": "code",
   "execution_count": 19,
   "metadata": {
    "collapsed": false
   },
   "outputs": [
    {
     "data": {
      "text/html": [
       "<div>\n",
       "<table border=\"1\" class=\"dataframe\">\n",
       "  <thead>\n",
       "    <tr style=\"text-align: right;\">\n",
       "      <th></th>\n",
       "      <th>Sale (Dollars)</th>\n",
       "    </tr>\n",
       "    <tr>\n",
       "      <th>Store Number</th>\n",
       "      <th></th>\n",
       "    </tr>\n",
       "  </thead>\n",
       "  <tbody>\n",
       "    <tr>\n",
       "      <th>2633</th>\n",
       "      <td>1215399.02</td>\n",
       "    </tr>\n",
       "    <tr>\n",
       "      <th>4829</th>\n",
       "      <td>1081941.88</td>\n",
       "    </tr>\n",
       "    <tr>\n",
       "      <th>2512</th>\n",
       "      <td>531684.42</td>\n",
       "    </tr>\n",
       "    <tr>\n",
       "      <th>3385</th>\n",
       "      <td>504057.23</td>\n",
       "    </tr>\n",
       "    <tr>\n",
       "      <th>3420</th>\n",
       "      <td>398025.24</td>\n",
       "    </tr>\n",
       "    <tr>\n",
       "      <th>3952</th>\n",
       "      <td>390443.65</td>\n",
       "    </tr>\n",
       "    <tr>\n",
       "      <th>3814</th>\n",
       "      <td>310536.40</td>\n",
       "    </tr>\n",
       "    <tr>\n",
       "      <th>3773</th>\n",
       "      <td>297914.31</td>\n",
       "    </tr>\n",
       "    <tr>\n",
       "      <th>3354</th>\n",
       "      <td>295039.20</td>\n",
       "    </tr>\n",
       "    <tr>\n",
       "      <th>2670</th>\n",
       "      <td>281356.57</td>\n",
       "    </tr>\n",
       "    <tr>\n",
       "      <th>3447</th>\n",
       "      <td>262524.16</td>\n",
       "    </tr>\n",
       "    <tr>\n",
       "      <th>5102</th>\n",
       "      <td>236355.41</td>\n",
       "    </tr>\n",
       "    <tr>\n",
       "      <th>2625</th>\n",
       "      <td>220741.89</td>\n",
       "    </tr>\n",
       "    <tr>\n",
       "      <th>2629</th>\n",
       "      <td>218893.55</td>\n",
       "    </tr>\n",
       "    <tr>\n",
       "      <th>4167</th>\n",
       "      <td>215110.71</td>\n",
       "    </tr>\n",
       "    <tr>\n",
       "      <th>2593</th>\n",
       "      <td>212421.23</td>\n",
       "    </tr>\n",
       "    <tr>\n",
       "      <th>3524</th>\n",
       "      <td>202673.94</td>\n",
       "    </tr>\n",
       "    <tr>\n",
       "      <th>2663</th>\n",
       "      <td>200745.16</td>\n",
       "    </tr>\n",
       "    <tr>\n",
       "      <th>3820</th>\n",
       "      <td>197377.85</td>\n",
       "    </tr>\n",
       "    <tr>\n",
       "      <th>2648</th>\n",
       "      <td>192369.52</td>\n",
       "    </tr>\n",
       "    <tr>\n",
       "      <th>2616</th>\n",
       "      <td>189852.50</td>\n",
       "    </tr>\n",
       "    <tr>\n",
       "      <th>2500</th>\n",
       "      <td>182871.72</td>\n",
       "    </tr>\n",
       "    <tr>\n",
       "      <th>2561</th>\n",
       "      <td>182664.67</td>\n",
       "    </tr>\n",
       "    <tr>\n",
       "      <th>3477</th>\n",
       "      <td>182502.42</td>\n",
       "    </tr>\n",
       "    <tr>\n",
       "      <th>2614</th>\n",
       "      <td>179035.77</td>\n",
       "    </tr>\n",
       "    <tr>\n",
       "      <th>3494</th>\n",
       "      <td>178352.22</td>\n",
       "    </tr>\n",
       "    <tr>\n",
       "      <th>2106</th>\n",
       "      <td>176517.45</td>\n",
       "    </tr>\n",
       "    <tr>\n",
       "      <th>4312</th>\n",
       "      <td>176332.10</td>\n",
       "    </tr>\n",
       "    <tr>\n",
       "      <th>2506</th>\n",
       "      <td>176158.09</td>\n",
       "    </tr>\n",
       "    <tr>\n",
       "      <th>2501</th>\n",
       "      <td>174349.30</td>\n",
       "    </tr>\n",
       "    <tr>\n",
       "      <th>...</th>\n",
       "      <td>...</td>\n",
       "    </tr>\n",
       "    <tr>\n",
       "      <th>4737</th>\n",
       "      <td>642.24</td>\n",
       "    </tr>\n",
       "    <tr>\n",
       "      <th>3677</th>\n",
       "      <td>641.01</td>\n",
       "    </tr>\n",
       "    <tr>\n",
       "      <th>5186</th>\n",
       "      <td>639.66</td>\n",
       "    </tr>\n",
       "    <tr>\n",
       "      <th>4335</th>\n",
       "      <td>634.94</td>\n",
       "    </tr>\n",
       "    <tr>\n",
       "      <th>9023</th>\n",
       "      <td>633.36</td>\n",
       "    </tr>\n",
       "    <tr>\n",
       "      <th>5030</th>\n",
       "      <td>600.55</td>\n",
       "    </tr>\n",
       "    <tr>\n",
       "      <th>4672</th>\n",
       "      <td>597.45</td>\n",
       "    </tr>\n",
       "    <tr>\n",
       "      <th>2961</th>\n",
       "      <td>592.58</td>\n",
       "    </tr>\n",
       "    <tr>\n",
       "      <th>4954</th>\n",
       "      <td>570.60</td>\n",
       "    </tr>\n",
       "    <tr>\n",
       "      <th>5175</th>\n",
       "      <td>524.80</td>\n",
       "    </tr>\n",
       "    <tr>\n",
       "      <th>5191</th>\n",
       "      <td>468.66</td>\n",
       "    </tr>\n",
       "    <tr>\n",
       "      <th>5161</th>\n",
       "      <td>463.40</td>\n",
       "    </tr>\n",
       "    <tr>\n",
       "      <th>4990</th>\n",
       "      <td>420.81</td>\n",
       "    </tr>\n",
       "    <tr>\n",
       "      <th>5178</th>\n",
       "      <td>420.01</td>\n",
       "    </tr>\n",
       "    <tr>\n",
       "      <th>5202</th>\n",
       "      <td>407.61</td>\n",
       "    </tr>\n",
       "    <tr>\n",
       "      <th>4776</th>\n",
       "      <td>376.56</td>\n",
       "    </tr>\n",
       "    <tr>\n",
       "      <th>4121</th>\n",
       "      <td>375.06</td>\n",
       "    </tr>\n",
       "    <tr>\n",
       "      <th>5205</th>\n",
       "      <td>362.16</td>\n",
       "    </tr>\n",
       "    <tr>\n",
       "      <th>4778</th>\n",
       "      <td>305.88</td>\n",
       "    </tr>\n",
       "    <tr>\n",
       "      <th>5201</th>\n",
       "      <td>289.78</td>\n",
       "    </tr>\n",
       "    <tr>\n",
       "      <th>4834</th>\n",
       "      <td>270.72</td>\n",
       "    </tr>\n",
       "    <tr>\n",
       "      <th>5130</th>\n",
       "      <td>246.40</td>\n",
       "    </tr>\n",
       "    <tr>\n",
       "      <th>5056</th>\n",
       "      <td>174.65</td>\n",
       "    </tr>\n",
       "    <tr>\n",
       "      <th>5193</th>\n",
       "      <td>139.50</td>\n",
       "    </tr>\n",
       "    <tr>\n",
       "      <th>5192</th>\n",
       "      <td>123.60</td>\n",
       "    </tr>\n",
       "    <tr>\n",
       "      <th>4059</th>\n",
       "      <td>105.41</td>\n",
       "    </tr>\n",
       "    <tr>\n",
       "      <th>5195</th>\n",
       "      <td>92.50</td>\n",
       "    </tr>\n",
       "    <tr>\n",
       "      <th>5053</th>\n",
       "      <td>67.49</td>\n",
       "    </tr>\n",
       "    <tr>\n",
       "      <th>4939</th>\n",
       "      <td>53.40</td>\n",
       "    </tr>\n",
       "    <tr>\n",
       "      <th>4567</th>\n",
       "      <td>44.14</td>\n",
       "    </tr>\n",
       "  </tbody>\n",
       "</table>\n",
       "<p>1377 rows × 1 columns</p>\n",
       "</div>"
      ],
      "text/plain": [
       "              Sale (Dollars)\n",
       "Store Number                \n",
       "2633              1215399.02\n",
       "4829              1081941.88\n",
       "2512               531684.42\n",
       "3385               504057.23\n",
       "3420               398025.24\n",
       "3952               390443.65\n",
       "3814               310536.40\n",
       "3773               297914.31\n",
       "3354               295039.20\n",
       "2670               281356.57\n",
       "3447               262524.16\n",
       "5102               236355.41\n",
       "2625               220741.89\n",
       "2629               218893.55\n",
       "4167               215110.71\n",
       "2593               212421.23\n",
       "3524               202673.94\n",
       "2663               200745.16\n",
       "3820               197377.85\n",
       "2648               192369.52\n",
       "2616               189852.50\n",
       "2500               182871.72\n",
       "2561               182664.67\n",
       "3477               182502.42\n",
       "2614               179035.77\n",
       "3494               178352.22\n",
       "2106               176517.45\n",
       "4312               176332.10\n",
       "2506               176158.09\n",
       "2501               174349.30\n",
       "...                      ...\n",
       "4737                  642.24\n",
       "3677                  641.01\n",
       "5186                  639.66\n",
       "4335                  634.94\n",
       "9023                  633.36\n",
       "5030                  600.55\n",
       "4672                  597.45\n",
       "2961                  592.58\n",
       "4954                  570.60\n",
       "5175                  524.80\n",
       "5191                  468.66\n",
       "5161                  463.40\n",
       "4990                  420.81\n",
       "5178                  420.01\n",
       "5202                  407.61\n",
       "4776                  376.56\n",
       "4121                  375.06\n",
       "5205                  362.16\n",
       "4778                  305.88\n",
       "5201                  289.78\n",
       "4834                  270.72\n",
       "5130                  246.40\n",
       "5056                  174.65\n",
       "5193                  139.50\n",
       "5192                  123.60\n",
       "4059                  105.41\n",
       "5195                   92.50\n",
       "5053                   67.49\n",
       "4939                   53.40\n",
       "4567                   44.14\n",
       "\n",
       "[1377 rows x 1 columns]"
      ]
     },
     "execution_count": 19,
     "metadata": {},
     "output_type": "execute_result"
    }
   ],
   "source": [
    "# Trying to figure out the store that had the maximum recorded liquor sale\n",
    "# store number 2633 had the maximum Sale (Dollars)\n",
    "\n",
    "new_df2 = df[[\"Store Number\", \"Sale (Dollars)\"]]\n",
    "new_df2 = new_df2.groupby(\"Store Number\")[\"Sale (Dollars)\"].sum().to_frame()\n",
    "new_df2.sort_values(by = \"Sale (Dollars)\", ascending = False)"
   ]
  },
  {
   "cell_type": "code",
   "execution_count": 20,
   "metadata": {
    "collapsed": false
   },
   "outputs": [
    {
     "data": {
      "text/html": [
       "<div>\n",
       "<table border=\"1\" class=\"dataframe\">\n",
       "  <thead>\n",
       "    <tr style=\"text-align: right;\">\n",
       "      <th></th>\n",
       "      <th></th>\n",
       "      <th>Sale (Dollars)</th>\n",
       "    </tr>\n",
       "    <tr>\n",
       "      <th>County Number</th>\n",
       "      <th>Store Number</th>\n",
       "      <th></th>\n",
       "    </tr>\n",
       "  </thead>\n",
       "  <tbody>\n",
       "    <tr>\n",
       "      <th rowspan=\"8\" valign=\"top\">1.0</th>\n",
       "      <th>3461</th>\n",
       "      <td>15440.92</td>\n",
       "    </tr>\n",
       "    <tr>\n",
       "      <th>3969</th>\n",
       "      <td>1393.94</td>\n",
       "    </tr>\n",
       "    <tr>\n",
       "      <th>4317</th>\n",
       "      <td>12778.73</td>\n",
       "    </tr>\n",
       "    <tr>\n",
       "      <th>4417</th>\n",
       "      <td>4214.10</td>\n",
       "    </tr>\n",
       "    <tr>\n",
       "      <th>4620</th>\n",
       "      <td>8912.49</td>\n",
       "    </tr>\n",
       "    <tr>\n",
       "      <th>4654</th>\n",
       "      <td>8452.16</td>\n",
       "    </tr>\n",
       "    <tr>\n",
       "      <th>4753</th>\n",
       "      <td>1637.10</td>\n",
       "    </tr>\n",
       "    <tr>\n",
       "      <th>5052</th>\n",
       "      <td>2714.76</td>\n",
       "    </tr>\n",
       "    <tr>\n",
       "      <th>2.0</th>\n",
       "      <th>2327</th>\n",
       "      <td>12441.71</td>\n",
       "    </tr>\n",
       "    <tr>\n",
       "      <th rowspan=\"6\" valign=\"top\">3.0</th>\n",
       "      <th>2178</th>\n",
       "      <td>29912.68</td>\n",
       "    </tr>\n",
       "    <tr>\n",
       "      <th>3857</th>\n",
       "      <td>38674.39</td>\n",
       "    </tr>\n",
       "    <tr>\n",
       "      <th>4034</th>\n",
       "      <td>4436.50</td>\n",
       "    </tr>\n",
       "    <tr>\n",
       "      <th>4289</th>\n",
       "      <td>11419.39</td>\n",
       "    </tr>\n",
       "    <tr>\n",
       "      <th>4896</th>\n",
       "      <td>4105.18</td>\n",
       "    </tr>\n",
       "    <tr>\n",
       "      <th>5017</th>\n",
       "      <td>10451.86</td>\n",
       "    </tr>\n",
       "    <tr>\n",
       "      <th rowspan=\"6\" valign=\"top\">4.0</th>\n",
       "      <th>2523</th>\n",
       "      <td>47267.92</td>\n",
       "    </tr>\n",
       "    <tr>\n",
       "      <th>4027</th>\n",
       "      <td>19309.14</td>\n",
       "    </tr>\n",
       "    <tr>\n",
       "      <th>4046</th>\n",
       "      <td>6711.74</td>\n",
       "    </tr>\n",
       "    <tr>\n",
       "      <th>4232</th>\n",
       "      <td>7321.28</td>\n",
       "    </tr>\n",
       "    <tr>\n",
       "      <th>4271</th>\n",
       "      <td>8575.84</td>\n",
       "    </tr>\n",
       "    <tr>\n",
       "      <th>4472</th>\n",
       "      <td>9243.95</td>\n",
       "    </tr>\n",
       "    <tr>\n",
       "      <th rowspan=\"3\" valign=\"top\">5.0</th>\n",
       "      <th>3631</th>\n",
       "      <td>8754.68</td>\n",
       "    </tr>\n",
       "    <tr>\n",
       "      <th>4523</th>\n",
       "      <td>3208.02</td>\n",
       "    </tr>\n",
       "    <tr>\n",
       "      <th>5173</th>\n",
       "      <td>7692.84</td>\n",
       "    </tr>\n",
       "    <tr>\n",
       "      <th rowspan=\"6\" valign=\"top\">6.0</th>\n",
       "      <th>4025</th>\n",
       "      <td>9643.23</td>\n",
       "    </tr>\n",
       "    <tr>\n",
       "      <th>4059</th>\n",
       "      <td>105.41</td>\n",
       "    </tr>\n",
       "    <tr>\n",
       "      <th>4070</th>\n",
       "      <td>24119.53</td>\n",
       "    </tr>\n",
       "    <tr>\n",
       "      <th>4228</th>\n",
       "      <td>32474.81</td>\n",
       "    </tr>\n",
       "    <tr>\n",
       "      <th>4346</th>\n",
       "      <td>10680.62</td>\n",
       "    </tr>\n",
       "    <tr>\n",
       "      <th>4551</th>\n",
       "      <td>3011.52</td>\n",
       "    </tr>\n",
       "    <tr>\n",
       "      <th>...</th>\n",
       "      <th>...</th>\n",
       "      <td>...</td>\n",
       "    </tr>\n",
       "    <tr>\n",
       "      <th rowspan=\"17\" valign=\"top\">97.0</th>\n",
       "      <th>4565</th>\n",
       "      <td>6936.52</td>\n",
       "    </tr>\n",
       "    <tr>\n",
       "      <th>4568</th>\n",
       "      <td>15427.71</td>\n",
       "    </tr>\n",
       "    <tr>\n",
       "      <th>4588</th>\n",
       "      <td>33848.07</td>\n",
       "    </tr>\n",
       "    <tr>\n",
       "      <th>4676</th>\n",
       "      <td>6846.87</td>\n",
       "    </tr>\n",
       "    <tr>\n",
       "      <th>4703</th>\n",
       "      <td>4879.38</td>\n",
       "    </tr>\n",
       "    <tr>\n",
       "      <th>4791</th>\n",
       "      <td>2792.46</td>\n",
       "    </tr>\n",
       "    <tr>\n",
       "      <th>4879</th>\n",
       "      <td>37504.13</td>\n",
       "    </tr>\n",
       "    <tr>\n",
       "      <th>4884</th>\n",
       "      <td>5049.20</td>\n",
       "    </tr>\n",
       "    <tr>\n",
       "      <th>4888</th>\n",
       "      <td>11433.99</td>\n",
       "    </tr>\n",
       "    <tr>\n",
       "      <th>4975</th>\n",
       "      <td>3413.30</td>\n",
       "    </tr>\n",
       "    <tr>\n",
       "      <th>5027</th>\n",
       "      <td>16035.19</td>\n",
       "    </tr>\n",
       "    <tr>\n",
       "      <th>5045</th>\n",
       "      <td>8546.50</td>\n",
       "    </tr>\n",
       "    <tr>\n",
       "      <th>5065</th>\n",
       "      <td>3304.56</td>\n",
       "    </tr>\n",
       "    <tr>\n",
       "      <th>5076</th>\n",
       "      <td>2582.09</td>\n",
       "    </tr>\n",
       "    <tr>\n",
       "      <th>5083</th>\n",
       "      <td>3056.74</td>\n",
       "    </tr>\n",
       "    <tr>\n",
       "      <th>5086</th>\n",
       "      <td>8284.18</td>\n",
       "    </tr>\n",
       "    <tr>\n",
       "      <th>5188</th>\n",
       "      <td>2614.63</td>\n",
       "    </tr>\n",
       "    <tr>\n",
       "      <th rowspan=\"3\" valign=\"top\">98.0</th>\n",
       "      <th>3664</th>\n",
       "      <td>14260.05</td>\n",
       "    </tr>\n",
       "    <tr>\n",
       "      <th>4839</th>\n",
       "      <td>20277.56</td>\n",
       "    </tr>\n",
       "    <tr>\n",
       "      <th>5115</th>\n",
       "      <td>3011.24</td>\n",
       "    </tr>\n",
       "    <tr>\n",
       "      <th rowspan=\"10\" valign=\"top\">99.0</th>\n",
       "      <th>3056</th>\n",
       "      <td>8462.10</td>\n",
       "    </tr>\n",
       "    <tr>\n",
       "      <th>3654</th>\n",
       "      <td>11873.68</td>\n",
       "    </tr>\n",
       "    <tr>\n",
       "      <th>4236</th>\n",
       "      <td>29533.88</td>\n",
       "    </tr>\n",
       "    <tr>\n",
       "      <th>4247</th>\n",
       "      <td>2403.66</td>\n",
       "    </tr>\n",
       "    <tr>\n",
       "      <th>4358</th>\n",
       "      <td>5185.81</td>\n",
       "    </tr>\n",
       "    <tr>\n",
       "      <th>4398</th>\n",
       "      <td>7856.17</td>\n",
       "    </tr>\n",
       "    <tr>\n",
       "      <th>4459</th>\n",
       "      <td>8506.43</td>\n",
       "    </tr>\n",
       "    <tr>\n",
       "      <th>4515</th>\n",
       "      <td>2011.62</td>\n",
       "    </tr>\n",
       "    <tr>\n",
       "      <th>4556</th>\n",
       "      <td>2300.04</td>\n",
       "    </tr>\n",
       "    <tr>\n",
       "      <th>4591</th>\n",
       "      <td>2048.28</td>\n",
       "    </tr>\n",
       "  </tbody>\n",
       "</table>\n",
       "<p>1377 rows × 1 columns</p>\n",
       "</div>"
      ],
      "text/plain": [
       "                            Sale (Dollars)\n",
       "County Number Store Number                \n",
       "1.0           3461                15440.92\n",
       "              3969                 1393.94\n",
       "              4317                12778.73\n",
       "              4417                 4214.10\n",
       "              4620                 8912.49\n",
       "              4654                 8452.16\n",
       "              4753                 1637.10\n",
       "              5052                 2714.76\n",
       "2.0           2327                12441.71\n",
       "3.0           2178                29912.68\n",
       "              3857                38674.39\n",
       "              4034                 4436.50\n",
       "              4289                11419.39\n",
       "              4896                 4105.18\n",
       "              5017                10451.86\n",
       "4.0           2523                47267.92\n",
       "              4027                19309.14\n",
       "              4046                 6711.74\n",
       "              4232                 7321.28\n",
       "              4271                 8575.84\n",
       "              4472                 9243.95\n",
       "5.0           3631                 8754.68\n",
       "              4523                 3208.02\n",
       "              5173                 7692.84\n",
       "6.0           4025                 9643.23\n",
       "              4059                  105.41\n",
       "              4070                24119.53\n",
       "              4228                32474.81\n",
       "              4346                10680.62\n",
       "              4551                 3011.52\n",
       "...                                    ...\n",
       "97.0          4565                 6936.52\n",
       "              4568                15427.71\n",
       "              4588                33848.07\n",
       "              4676                 6846.87\n",
       "              4703                 4879.38\n",
       "              4791                 2792.46\n",
       "              4879                37504.13\n",
       "              4884                 5049.20\n",
       "              4888                11433.99\n",
       "              4975                 3413.30\n",
       "              5027                16035.19\n",
       "              5045                 8546.50\n",
       "              5065                 3304.56\n",
       "              5076                 2582.09\n",
       "              5083                 3056.74\n",
       "              5086                 8284.18\n",
       "              5188                 2614.63\n",
       "98.0          3664                14260.05\n",
       "              4839                20277.56\n",
       "              5115                 3011.24\n",
       "99.0          3056                 8462.10\n",
       "              3654                11873.68\n",
       "              4236                29533.88\n",
       "              4247                 2403.66\n",
       "              4358                 5185.81\n",
       "              4398                 7856.17\n",
       "              4459                 8506.43\n",
       "              4515                 2011.62\n",
       "              4556                 2300.04\n",
       "              4591                 2048.28\n",
       "\n",
       "[1377 rows x 1 columns]"
      ]
     },
     "execution_count": 20,
     "metadata": {},
     "output_type": "execute_result"
    }
   ],
   "source": [
    "# I created the following table to group the \"Store Number\" by \"County Number\" and the corresponding \n",
    "# Sale for each \"Store Number\" and \"County Number\"\n",
    "\n",
    "new_df3 = df[[\"Store Number\", \"County Number\", \"Sale (Dollars)\"]]\n",
    "new_df3 = new_df3.groupby([\"County Number\", \"Store Number\"])[\"Sale (Dollars)\"].sum().to_frame()\n",
    "\n",
    "new_df3"
   ]
  },
  {
   "cell_type": "code",
   "execution_count": 21,
   "metadata": {
    "collapsed": false
   },
   "outputs": [
    {
     "name": "stdout",
     "output_type": "stream",
     "text": [
      "        Store Number  Sale (Dollars)\n",
      "40615           2633        36392.40\n",
      "266587          2633        17820.00\n",
      "19996           2633        17820.00\n",
      "155218          2633        17820.00\n",
      "220269          3420        16200.00\n",
      "205217          2633        15984.00\n",
      "37820           2633        15984.00\n",
      "121803          2663        15930.00\n",
      "177517          2633        15840.00\n",
      "149828          2633        13701.60\n",
      "45128           4829        13233.60\n",
      "169151          4829        13233.60\n",
      "192140          2528        13080.00\n",
      "58603           3420        12321.00\n",
      "17262           2633        11800.80\n",
      "206106          2633        11800.80\n",
      "44673           2633        11635.80\n",
      "11598           2633        11635.80\n",
      "218082          2633        11635.80\n",
      "72434           2633        11635.80\n",
      "31368           2633        11635.80\n",
      "168771          2633        11635.80\n",
      "38033           2633        11635.80\n",
      "239036          2633        11635.80\n",
      "33067           2633        11635.80\n",
      "208695          3420        11579.40\n",
      "258243          3420        11579.40\n",
      "19423           3420        10902.00\n",
      "69732           2620        10800.00\n",
      "569             3420        10652.16\n",
      "...              ...             ...\n",
      "231368          4273            2.94\n",
      "157101          2536            2.94\n",
      "165694          2536            2.94\n",
      "251463          2666            2.94\n",
      "50356           4273            2.94\n",
      "224047          5132            2.94\n",
      "95886           4273            2.94\n",
      "13949           2666            2.94\n",
      "209334          2536            2.94\n",
      "204301          4344            2.94\n",
      "236007          4889            2.92\n",
      "8143            2587            2.90\n",
      "209210          2587            2.75\n",
      "42263           2528            2.68\n",
      "253561          3762            2.63\n",
      "40208           4344            2.57\n",
      "29869           4344            2.57\n",
      "184035          4273            2.57\n",
      "98028           4344            1.80\n",
      "92027           2587            1.80\n",
      "136330          2620            1.80\n",
      "267997          2587            1.80\n",
      "42613           2587            1.80\n",
      "89153           2587            1.70\n",
      "262363          2587            1.70\n",
      "31272           2587            1.70\n",
      "16677           4461            1.70\n",
      "184718          4889            1.46\n",
      "154384          2587            1.34\n",
      "81095           2587            1.34\n",
      "\n",
      "[48944 rows x 2 columns]\n"
     ]
    }
   ],
   "source": [
    "#the following output shows the Store Numbers and Sale (Dollars) in County Number = 77\n",
    "# we find that the store (2633) that had the maximum sales is in county no. 77\n",
    "\n",
    "ndf = df[df[\"County Number\"]==77][[\"Store Number\", \"Sale (Dollars)\"]]\n",
    "ndf = ndf.sort_values(by = \"Sale (Dollars)\", ascending = False)\n",
    "print ndf"
   ]
  },
  {
   "cell_type": "code",
   "execution_count": 22,
   "metadata": {
    "collapsed": false
   },
   "outputs": [
    {
     "data": {
      "text/plain": [
       "1377"
      ]
     },
     "execution_count": 22,
     "metadata": {},
     "output_type": "execute_result"
    }
   ],
   "source": [
    "df[\"Store Number\"].nunique()"
   ]
  },
  {
   "cell_type": "code",
   "execution_count": 37,
   "metadata": {
    "collapsed": false
   },
   "outputs": [
    {
     "name": "stdout",
     "output_type": "stream",
     "text": [
      "      Sale (Dollars)  Store Number             City         County  \\\n",
      "0         1215399.02          2633       DES MOINES           Polk   \n",
      "1         1081941.88          4829       DES MOINES           Polk   \n",
      "2          531684.42          2512        IOWA CITY        Johnson   \n",
      "3          504057.23          3385     CEDAR RAPIDS           Linn   \n",
      "4          398025.24          3420  WINDSOR HEIGHTS           Polk   \n",
      "5          390443.65          3952       BETTENDORF          Scott   \n",
      "6          310536.40          3814  WEST DES MOINES         Dallas   \n",
      "7          297914.31          3773     CEDAR RAPIDS           Linn   \n",
      "8          295039.20          3354        DAVENPORT          Scott   \n",
      "9          281356.57          2670       CORALVILLE        Johnson   \n",
      "10         262524.16          3447       SIOUX CITY       Woodbury   \n",
      "11         236355.41          5102     MOUNT VERNON           Linn   \n",
      "12         220741.89          2625        DAVENPORT          Scott   \n",
      "13         218893.55          2629   COUNCIL BLUFFS  Pottawattamie   \n",
      "14         215110.71          4167          DUBUQUE        Dubuque   \n",
      "15         212421.23          2593          CARROLL        Carroll   \n",
      "16         202673.94          3524             AMES          Story   \n",
      "17         200745.16          2663        URBANDALE           Polk   \n",
      "18         197377.85          3820       SIOUX CITY       Woodbury   \n",
      "19         192369.52          2648  WEST DES MOINES           Polk   \n",
      "20         189852.50          2616          CLINTON        Clinton   \n",
      "21         182871.72          2500             AMES          Story   \n",
      "22         182664.67          2561       DES MOINES           Polk   \n",
      "23         182502.42          3477   COUNCIL BLUFFS  Pottawattamie   \n",
      "24         179035.77          2614        DAVENPORT          Scott   \n",
      "25         178352.22          3494         WATERLOO     Black Hawk   \n",
      "26         176517.45          2106      CEDAR FALLS     Black Hawk   \n",
      "27         176332.10          4312   COUNCIL BLUFFS  Pottawattamie   \n",
      "28         176158.09          2506       BURLINGTON     Des Moines   \n",
      "29         174349.30          2501             AMES          Story   \n",
      "...              ...           ...              ...            ...   \n",
      "1349          642.24          4737       STORM LAKE    Buena Vista   \n",
      "1350          641.01          3677           EVERLY           Clay   \n",
      "1351          639.66          5186       WEST UNION        Fayette   \n",
      "1352          634.94          4335           INWOOD           Lyon   \n",
      "1353          633.36          9023          CARROLL        Carroll   \n",
      "1354          600.55          5030         WATERLOO     Black Hawk   \n",
      "1355          597.45          4672       GUTTENBERG        Clayton   \n",
      "1356          592.58          2961  WEST DES MOINES           Polk   \n",
      "1357          570.60          4954        URBANDALE           Polk   \n",
      "1358          524.80          5175            DELHI       Delaware   \n",
      "1359          468.66          5191   GUTHRIE CENTER        Guthrie   \n",
      "1360          463.40          5161   COUNCIL BLUFFS  Pottawattamie   \n",
      "1361          420.81          4990         GRISWOLD           Cass   \n",
      "1362          420.01          5178     WEST LIBERTY      Muscatine   \n",
      "1363          407.61          5202     GILBERTVILLE     Black Hawk   \n",
      "1364          376.56          4776          CARROLL        Carroll   \n",
      "1365          375.06          4121          WAPELLO         Louisa   \n",
      "1366          362.16          5205          GLIDDEN        Carroll   \n",
      "1367          305.88          4778       STORM LAKE    Buena Vista   \n",
      "1368          289.78          5201          DUBUQUE        Dubuque   \n",
      "1369          270.72          4834        MUSCATINE      Muscatine   \n",
      "1370          246.40          5130        DAVENPORT          Scott   \n",
      "1371          174.65          5056   COUNCIL BLUFFS  Pottawattamie   \n",
      "1372          139.50          5193        LOHRVILLE        Calhoun   \n",
      "1373          123.60          5192           ROBINS           Linn   \n",
      "1374          105.41          4059     BELLE PLAINE         Benton   \n",
      "1375           92.50          5195   COUNCIL BLUFFS  Pottawattamie   \n",
      "1376           67.49          5053        IOWA CITY        Johnson   \n",
      "1377           53.40          4939        URBANDALE           Polk   \n",
      "1378           44.14          4567       DES MOINES           Polk   \n",
      "\n",
      "      County Number  \n",
      "0              77.0  \n",
      "1              77.0  \n",
      "2              52.0  \n",
      "3              57.0  \n",
      "4              77.0  \n",
      "5              82.0  \n",
      "6              25.0  \n",
      "7              57.0  \n",
      "8              82.0  \n",
      "9              52.0  \n",
      "10             97.0  \n",
      "11             57.0  \n",
      "12             82.0  \n",
      "13             78.0  \n",
      "14             31.0  \n",
      "15             14.0  \n",
      "16             85.0  \n",
      "17             77.0  \n",
      "18             97.0  \n",
      "19             77.0  \n",
      "20             23.0  \n",
      "21             85.0  \n",
      "22             77.0  \n",
      "23             78.0  \n",
      "24             82.0  \n",
      "25              7.0  \n",
      "26              7.0  \n",
      "27             78.0  \n",
      "28             29.0  \n",
      "29             85.0  \n",
      "...             ...  \n",
      "1349           11.0  \n",
      "1350           21.0  \n",
      "1351           33.0  \n",
      "1352           60.0  \n",
      "1353           14.0  \n",
      "1354            7.0  \n",
      "1355           22.0  \n",
      "1356           77.0  \n",
      "1357           77.0  \n",
      "1358           28.0  \n",
      "1359           39.0  \n",
      "1360           78.0  \n",
      "1361           15.0  \n",
      "1362           70.0  \n",
      "1363            7.0  \n",
      "1364           14.0  \n",
      "1365           58.0  \n",
      "1366           14.0  \n",
      "1367           11.0  \n",
      "1368           31.0  \n",
      "1369           70.0  \n",
      "1370           82.0  \n",
      "1371           78.0  \n",
      "1372           13.0  \n",
      "1373           57.0  \n",
      "1374            6.0  \n",
      "1375           78.0  \n",
      "1376           52.0  \n",
      "1377           77.0  \n",
      "1378           77.0  \n",
      "\n",
      "[1379 rows x 5 columns]\n"
     ]
    }
   ],
   "source": [
    "# the Store Number that had the maximum sales and its location by City, County Number \n",
    "#we find that store no. 2633 is located in the County \"Polk\" and in city \"Des Moines\"    \n",
    "\n",
    "\n",
    "ad = df.groupby('Store Number')['Sale (Dollars)'].sum().to_frame()\n",
    " \n",
    "ad = ad.sort_values(by = 'Sale (Dollars)', ascending=False)\n",
    "    \n",
    "ad['Store Number'] = ad.index\n",
    "   \n",
    "ad.reset_index(drop=True, inplace = True)\n",
    "    \n",
    "df3 = df[['Store Number', 'City', 'County', 'County Number']]\n",
    "    \n",
    "df3 = df3.drop_duplicates()\n",
    "     \n",
    "ae = pd.merge(ad, df3)\n",
    "    \n",
    "print ae"
   ]
  },
  {
   "cell_type": "code",
   "execution_count": 24,
   "metadata": {
    "collapsed": false
   },
   "outputs": [
    {
     "name": "stdout",
     "output_type": "stream",
     "text": [
      "     Sale (Dollars)             City         County  County Number\n",
      "0        4380886.26       DES MOINES           Polk           77.0\n",
      "1        2486949.08     CEDAR RAPIDS           Linn           57.0\n",
      "2        1697702.84        DAVENPORT          Scott           82.0\n",
      "3        1250666.19        IOWA CITY        Johnson           52.0\n",
      "4        1211603.55         WATERLOO     Black Hawk            7.0\n",
      "5        1200607.02       SIOUX CITY       Woodbury           97.0\n",
      "6        1191881.32   COUNCIL BLUFFS  Pottawattamie           78.0\n",
      "7        1181449.32  WEST DES MOINES           Polk           77.0\n",
      "8        1181449.32  WEST DES MOINES         Dallas           25.0\n",
      "9         979880.51             AMES          Story           85.0\n",
      "10        965011.30          DUBUQUE        Dubuque           31.0\n",
      "11        716381.14           ANKENY           Polk           77.0\n",
      "12        672194.79       BETTENDORF          Scott           82.0\n",
      "13        672194.79       BETTENDORF           Iowa           48.0\n",
      "14        647023.66      CEDAR FALLS     Black Hawk            7.0\n",
      "15        616268.88       CORALVILLE        Johnson           52.0\n",
      "16        599211.44  WINDSOR HEIGHTS           Polk           77.0\n",
      "17        477804.83       MASON CITY    Cerro Gordo           17.0\n",
      "18        463841.86       FORT DODGE        Webster           94.0\n",
      "19        463841.86       FORT DODGE         Hardin           42.0\n",
      "20        366889.34       BURLINGTON     Des Moines           29.0\n",
      "21        352625.17          CLINTON        Clinton           23.0\n",
      "22        339997.65        URBANDALE           Polk           77.0\n",
      "23        338061.38     MARSHALLTOWN       Marshall           64.0\n",
      "24        324474.85        MUSCATINE      Muscatine           70.0\n",
      "25        319238.75           KEOKUK            Lee           56.0\n",
      "26        294558.39          ALTOONA           Polk           77.0\n",
      "27        291375.51           MARION           Linn           57.0\n",
      "28        278581.51          CARROLL        Carroll           14.0\n",
      "29        254311.02     MOUNT VERNON           Linn           57.0\n",
      "..              ...              ...            ...            ...\n",
      "362         2256.84        WALL LAKE            Sac           81.0\n",
      "363         2118.00           DELMAR        Clinton           23.0\n",
      "364         2116.42        CAMBRIDGE           Polk           77.0\n",
      "365         2087.76         STANWOOD          Cedar           16.0\n",
      "366         2077.80            FONDA     Pocahontas           76.0\n",
      "367         2061.12        VAN METER         Dallas           25.0\n",
      "368         2061.06          AURELIA       Cherokee           18.0\n",
      "369         2011.62             DOWS         Wright           99.0\n",
      "370         1962.12             OTHO        Webster           94.0\n",
      "371         1919.76             ALTA    Buena Vista           11.0\n",
      "372         1896.00           BUSSEY         Marion           63.0\n",
      "373         1827.87         VILLISCA     Montgomery           69.0\n",
      "374         1773.60     GILMORE CITY       Humboldt           46.0\n",
      "375         1665.08        WHEATLAND        Clinton           23.0\n",
      "376         1472.67           KELLOG         Jasper           50.0\n",
      "377         1361.74         DANVILLE     Des Moines           29.0\n",
      "378         1301.32    NORTH ENGLISH           Iowa           48.0\n",
      "379         1227.42          LATIMER       Franklin           35.0\n",
      "380         1056.37         SCHALLER            Sac           81.0\n",
      "381         1001.25          MERRILL       Plymouth           75.0\n",
      "382          984.30        MELBOURNE       Marshall           64.0\n",
      "383          898.71           MINDEN  Pottawattamie           78.0\n",
      "384          812.44          LOVILIA         Monroe           68.0\n",
      "385          641.01           EVERLY           Clay           21.0\n",
      "386          633.36          Carroll        Carroll           14.0\n",
      "387          524.80            DELHI       Delaware           28.0\n",
      "388          420.81         GRISWOLD           Cass           15.0\n",
      "389          407.61     GILBERTVILLE     Black Hawk            7.0\n",
      "390          139.50        LOHRVILLE        Calhoun           13.0\n",
      "391          123.60           ROBINS           Linn           57.0\n",
      "\n",
      "[392 rows x 4 columns]\n"
     ]
    }
   ],
   "source": [
    "# the city that recorded the maximum sales and its location by county and county number\n",
    "\n",
    "ad = df.groupby('City')['Sale (Dollars)'].sum().to_frame()\n",
    " \n",
    "ad = ad.sort_values(by = 'Sale (Dollars)', ascending=False)\n",
    "   \n",
    "ad['City'] = ad.index\n",
    "   \n",
    "ad.reset_index(drop=True, inplace = True)\n",
    "   \n",
    "#print ad\n",
    "   \n",
    "df3 = df[['City', 'County', 'County Number']]\n",
    "   \n",
    "df3 = df3.drop_duplicates()\n",
    "   \n",
    "ae = pd.merge(ad, df3)\n",
    "   \n",
    "print ae"
   ]
  },
  {
   "cell_type": "code",
   "execution_count": 35,
   "metadata": {
    "collapsed": false
   },
   "outputs": [],
   "source": [
    "df['City'] = df['City'].str.upper()"
   ]
  },
  {
   "cell_type": "code",
   "execution_count": 68,
   "metadata": {
    "collapsed": false
   },
   "outputs": [
    {
     "name": "stdout",
     "output_type": "stream",
     "text": [
      "       Volume Sold (Gallons)  County Number             City  \\\n",
      "0                  132747.24           77.0        BONDURANT   \n",
      "1                  132747.24           77.0  WEST DES MOINES   \n",
      "2                  132747.24           77.0           GRIMES   \n",
      "3                  132747.24           77.0       DES MOINES   \n",
      "4                  132747.24           77.0       DES MOINES   \n",
      "5                  132747.24           77.0       DES MOINES   \n",
      "6                  132747.24           77.0           ANKENY   \n",
      "7                  132747.24           77.0       DES MOINES   \n",
      "8                  132747.24           77.0          ALTOONA   \n",
      "9                  132747.24           77.0  WEST DES MOINES   \n",
      "10                 132747.24           77.0  WEST DES MOINES   \n",
      "11                 132747.24           77.0          ALTOONA   \n",
      "12                 132747.24           77.0          ALTOONA   \n",
      "13                 132747.24           77.0       DES MOINES   \n",
      "14                 132747.24           77.0       DES MOINES   \n",
      "15                 132747.24           77.0  WEST DES MOINES   \n",
      "16                 132747.24           77.0       DES MOINES   \n",
      "17                 132747.24           77.0           ANKENY   \n",
      "18                 132747.24           77.0           ANKENY   \n",
      "19                 132747.24           77.0       DES MOINES   \n",
      "20                 132747.24           77.0         JOHNSTON   \n",
      "21                 132747.24           77.0         JOHNSTON   \n",
      "22                 132747.24           77.0       DES MOINES   \n",
      "23                 132747.24           77.0       DES MOINES   \n",
      "24                 132747.24           77.0       DES MOINES   \n",
      "25                 132747.24           77.0       DES MOINES   \n",
      "26                 132747.24           77.0         JOHNSTON   \n",
      "27                 132747.24           77.0       DES MOINES   \n",
      "28                 132747.24           77.0       DES MOINES   \n",
      "29                 132747.24           77.0       DES MOINES   \n",
      "...                      ...            ...              ...   \n",
      "54077                 258.93            2.0          CORNING   \n",
      "54078                 258.93            2.0          CORNING   \n",
      "54079                 258.93            2.0          CORNING   \n",
      "54080                 258.93            2.0          CORNING   \n",
      "54081                 258.93            2.0          CORNING   \n",
      "54082                 258.93            2.0          CORNING   \n",
      "54083                 258.93            2.0          CORNING   \n",
      "54084                 258.93            2.0          CORNING   \n",
      "54085                  59.76           36.0          HAMBURG   \n",
      "54086                  59.76           36.0          HAMBURG   \n",
      "54087                  59.76           36.0          HAMBURG   \n",
      "54088                  59.76           36.0          HAMBURG   \n",
      "54089                  59.76           36.0          HAMBURG   \n",
      "54090                  59.76           36.0          HAMBURG   \n",
      "54091                  59.76           36.0          HAMBURG   \n",
      "54092                  59.76           36.0          HAMBURG   \n",
      "54093                  59.76           36.0          HAMBURG   \n",
      "54094                  59.76           36.0          HAMBURG   \n",
      "54095                  59.76           36.0          HAMBURG   \n",
      "54096                  59.76           36.0          HAMBURG   \n",
      "54097                  59.76           36.0          HAMBURG   \n",
      "54098                  59.76           36.0          HAMBURG   \n",
      "54099                  59.76           36.0          HAMBURG   \n",
      "54100                  59.76           36.0          HAMBURG   \n",
      "54101                  59.76           36.0          HAMBURG   \n",
      "54102                  59.76           36.0          HAMBURG   \n",
      "54103                  59.76           36.0          HAMBURG   \n",
      "54104                  59.76           36.0          HAMBURG   \n",
      "54105                  59.76           36.0          HAMBURG   \n",
      "54106                  59.76           36.0          HAMBURG   \n",
      "\n",
      "       State Bottle Retail  \n",
      "0                    17.24  \n",
      "1                    39.36  \n",
      "2                    16.49  \n",
      "3                     9.78  \n",
      "4                     7.92  \n",
      "5                    24.24  \n",
      "6                    59.25  \n",
      "7                    12.39  \n",
      "8                    10.76  \n",
      "9                    13.59  \n",
      "10                   12.74  \n",
      "11                   12.30  \n",
      "12                   18.38  \n",
      "13                   10.76  \n",
      "14                   26.25  \n",
      "15                   15.75  \n",
      "16                   11.91  \n",
      "17                   18.11  \n",
      "18                   15.74  \n",
      "19                   18.75  \n",
      "20                   23.19  \n",
      "21                   12.38  \n",
      "22                    6.00  \n",
      "23                   21.57  \n",
      "24                    4.83  \n",
      "25                    9.90  \n",
      "26                    6.44  \n",
      "27                   17.25  \n",
      "28                   13.69  \n",
      "29                   11.25  \n",
      "...                    ...  \n",
      "54077                37.50  \n",
      "54078                 9.30  \n",
      "54079                17.76  \n",
      "54080                30.02  \n",
      "54081                18.72  \n",
      "54082                13.31  \n",
      "54083                10.50  \n",
      "54084                 9.75  \n",
      "54085                14.93  \n",
      "54086                11.21  \n",
      "54087                 4.73  \n",
      "54088                27.00  \n",
      "54089                 4.61  \n",
      "54090                 7.50  \n",
      "54091                 7.20  \n",
      "54092                13.47  \n",
      "54093                 5.06  \n",
      "54094                15.74  \n",
      "54095                 7.07  \n",
      "54096                 8.25  \n",
      "54097                13.50  \n",
      "54098                10.20  \n",
      "54099                22.61  \n",
      "54100                 8.27  \n",
      "54101                 2.70  \n",
      "54102                 6.75  \n",
      "54103                 4.97  \n",
      "54104                10.35  \n",
      "54105                15.68  \n",
      "54106                11.13  \n",
      "\n",
      "[54107 rows x 4 columns]\n"
     ]
    }
   ],
   "source": [
    "#Table that presents the maximum liquor volume sold and its location by city and county number\n",
    "# State Bottle Retail has been included for comparison\n",
    "\n",
    "vs = df.groupby('County Number')['Volume Sold (Gallons)'].sum().to_frame()\n",
    "vs = vs.sort_values(by= 'Volume Sold (Gallons)', ascending = False)\n",
    "\n",
    "vs['County Number'] = vs.index\n",
    "vs.reset_index(drop=True, inplace = True)\n",
    "\n",
    "df3 = df[['City', 'County Number', 'State Bottle Retail']]\n",
    "\n",
    "df3 = df3.drop_duplicates()\n",
    "   \n",
    "nw = pd.merge(vs, df3)\n",
    "\n",
    "print nw"
   ]
  },
  {
   "cell_type": "code",
   "execution_count": 67,
   "metadata": {
    "collapsed": false
   },
   "outputs": [
    {
     "name": "stdout",
     "output_type": "stream",
     "text": [
      "     Volume Sold (Gallons)  County Number               City     County\n",
      "0                132747.24           77.0          BONDURANT       Polk\n",
      "1                132747.24           77.0    WEST DES MOINES       Polk\n",
      "2                132747.24           77.0             GRIMES       Polk\n",
      "3                132747.24           77.0         DES MOINES       Polk\n",
      "4                132747.24           77.0             ANKENY       Polk\n",
      "5                132747.24           77.0            ALTOONA       Polk\n",
      "6                132747.24           77.0           JOHNSTON       Polk\n",
      "7                132747.24           77.0      PLEASANT HILL       Polk\n",
      "8                132747.24           77.0              CLIVE       Polk\n",
      "9                132747.24           77.0    WINDSOR HEIGHTS       Polk\n",
      "10               132747.24           77.0          URBANDALE       Polk\n",
      "11               132747.24           77.0          POLK CITY       Polk\n",
      "12               132747.24           77.0          CAMBRIDGE       Polk\n",
      "13                57904.04           57.0       CEDAR RAPIDS       Linn\n",
      "14                57904.04           57.0             MARION       Linn\n",
      "15                57904.04           57.0            FAIRFAX       Linn\n",
      "16                57904.04           57.0          MT VERNON       Linn\n",
      "17                57904.04           57.0       MOUNT VERNON       Linn\n",
      "18                57904.04           57.0           HIAWATHA       Linn\n",
      "19                57904.04           57.0             LISBON       Linn\n",
      "20                57904.04           57.0       CENTER POINT       Linn\n",
      "21                57904.04           57.0                ELY       Linn\n",
      "22                57904.04           57.0       CENTRAL CITY       Linn\n",
      "23                57904.04           57.0               PALO       Linn\n",
      "24                57904.04           57.0        SPRINGVILLE       Linn\n",
      "25                57904.04           57.0            WALFORD       Linn\n",
      "26                57904.04           57.0             WALKER       Linn\n",
      "27                57904.04           57.0             ROBINS       Linn\n",
      "28                42884.84           82.0          DAVENPORT      Scott\n",
      "29                42884.84           82.0           LECLAIRE      Scott\n",
      "..                     ...            ...                ...        ...\n",
      "356                 824.68           12.0             DUMONT     Butler\n",
      "357                 824.68           12.0            ALLISON     Butler\n",
      "358                 792.91           13.0          LOHRVILLE    Calhoun\n",
      "359                 792.91           13.0          LAKE CITY    Calhoun\n",
      "360                 792.91           13.0             MANSON    Calhoun\n",
      "361                 792.91           13.0      ROCKWELL CITY    Calhoun\n",
      "362                 789.49           39.0     GUTHRIE CENTER    Guthrie\n",
      "363                 789.49           39.0             PANORA    Guthrie\n",
      "364                 789.49           39.0              CASEY    Guthrie\n",
      "365                 659.62           68.0              ALBIA     Monroe\n",
      "366                 659.62           68.0            LOVILIA     Monroe\n",
      "367                 594.65           72.0             SIBLEY    Osceola\n",
      "368                 576.97           58.0  COLUMBUS JUNCTION     Louisa\n",
      "369                 576.97           58.0            WAPELLO     Louisa\n",
      "370                 453.89            5.0              EXIRA    Audubon\n",
      "371                 453.89            5.0            AUDUBON    Audubon\n",
      "372                 426.90           54.0          SIGOURNEY     Keokuk\n",
      "373                 426.90           54.0              KEOTA     Keokuk\n",
      "374                 421.26           80.0          MOUNT AYR   Ringgold\n",
      "375                 413.73           89.0         FARMINGTON  Van Buren\n",
      "376                 413.73           89.0          KEOSAUQUA  Van Buren\n",
      "377                 383.93           27.0             LAMONI    Decatur\n",
      "378                 383.93           27.0               LEON    Decatur\n",
      "379                 306.36           87.0              LENOX     Taylor\n",
      "380                 306.36           87.0            BEDFORD     Taylor\n",
      "381                 284.38           26.0         BLOOMFIELD      Davis\n",
      "382                 280.12           93.0            CORYDON      Wayne\n",
      "383                 280.12           93.0           HUMESTON      Wayne\n",
      "384                 258.93            2.0            CORNING      Adams\n",
      "385                  59.76           36.0            HAMBURG    Fremont\n",
      "\n",
      "[386 rows x 4 columns]\n"
     ]
    }
   ],
   "source": [
    "#Table that presents the maximum liquor volume sold and its location by city, county and county number\n",
    "\n",
    "\n",
    "vs = df.groupby('County Number')['Volume Sold (Gallons)'].sum().to_frame()\n",
    "vs = vs.sort_values(by= 'Volume Sold (Gallons)', ascending = False)\n",
    "\n",
    "vs['County Number'] = vs.index\n",
    "vs.reset_index(drop=True, inplace = True)\n",
    "\n",
    "df3 = df[['City', 'County', 'County Number']]\n",
    "df3 = df3.drop_duplicates()\n",
    "   \n",
    "nw2 = pd.merge(vs, df3)\n",
    "\n",
    "print nw2"
   ]
  },
  {
   "cell_type": "markdown",
   "metadata": {},
   "source": [
    "We can see that County Number 77 had the maximum liquor volume sold. There are 13 different cities in Couty 'Polk'that had the maximum sales.  \n",
    "\n",
    "\n",
    "Volume Sold (Gallons)  County Number               City     County\n",
    "0                132747.24           77.0          BONDURANT       Polk\n",
    "1                132747.24           77.0    WEST DES MOINES       Polk\n",
    "2                132747.24           77.0             GRIMES       Polk\n",
    "3                132747.24           77.0         DES MOINES       Polk\n",
    "4                132747.24           77.0             ANKENY       Polk\n",
    "5                132747.24           77.0            ALTOONA       Polk\n",
    "6                132747.24           77.0           JOHNSTON       Polk\n",
    "7                132747.24           77.0      PLEASANT HILL       Polk\n",
    "8                132747.24           77.0              CLIVE       Polk\n",
    "9                132747.24           77.0    WINDSOR HEIGHTS       Polk\n",
    "10               132747.24           77.0          URBANDALE       Polk\n",
    "11               132747.24           77.0          POLK CITY       Polk\n",
    "12               132747.24           77.0          CAMBRIDGE       Polk"
   ]
  },
  {
   "cell_type": "code",
   "execution_count": 32,
   "metadata": {
    "collapsed": false
   },
   "outputs": [
    {
     "name": "stdout",
     "output_type": "stream",
     "text": [
      "     State Bottle Retail Zip Code              City      County  County Number\n",
      "0              22.375789    52166          ST LUCAS     Fayette           33.0\n",
      "1              22.250000    52801         DAVENPORT       Scott           82.0\n",
      "2              20.545211    52401      CEDAR RAPIDS        Linn           57.0\n",
      "3              19.962419    50846        FONTANELLE       Adair            1.0\n",
      "4              19.526049    50312        DES MOINES        Polk           77.0\n",
      "5              18.920746    52571           MORAVIA   Appanoose            4.0\n",
      "6              18.885844    52338           SWISHER     Johnson           52.0\n",
      "7              18.416500    50483            WESLEY     Kossuth           55.0\n",
      "8              18.293115    50006             ALDEN      Hardin           42.0\n",
      "9              18.204332    50472         ST ANSGAR    Mitchell           66.0\n",
      "10             17.650358    50314        DES MOINES        Polk           77.0\n",
      "11             17.631182    50014              AMES       Story           85.0\n",
      "12             17.594537    51245          PRIMGHAR     O'Brien           71.0\n",
      "13             17.532083    50628              ELMA      Howard           45.0\n",
      "14             17.517363    52314         MT VERNON        Linn           57.0\n",
      "15             17.517363    52314      MOUNT VERNON        Linn           57.0\n",
      "16             17.434000    50643            HUDSON  Black Hawk            7.0\n",
      "17             17.398606    51461         SCHLESWIG    Crawford           24.0\n",
      "18             17.259512    52154            LAWLER   Chickasaw           19.0\n",
      "19             17.234343    52656        WEST POINT         Lee           56.0\n",
      "20             17.226750    50320        DES MOINES        Polk           77.0\n",
      "21             17.207215    50249         STRATFORD    Hamilton           40.0\n",
      "22             17.200352    50023            ANKENY        Polk           77.0\n",
      "23             17.170292    52722        BETTENDORF       Scott           82.0\n",
      "24             17.170292    52722        BETTENDORF        Iowa           48.0\n",
      "25             17.074906    50597         WEST BEND     Kossuth           55.0\n",
      "26             16.793441    52159            MONONA     Clayton           22.0\n",
      "27             16.665902    51561  PACIFIC JUNCTION       Mills           65.0\n",
      "28             16.615835    50266   WEST DES MOINES        Polk           77.0\n",
      "29             16.615835    50266         URBANDALE        Polk           77.0\n",
      "..                   ...      ...               ...         ...            ...\n",
      "419            10.504615    50071              DOWS      Wright           99.0\n",
      "420            10.499200    51462          SCRANTON      Greene           37.0\n",
      "421            10.481944    52728           BUFFALO       Scott           82.0\n",
      "422            10.450000    50261         VAN METER      Dallas           25.0\n",
      "423            10.438721    50130            JEWELL    Hamilton           40.0\n",
      "424            10.437931    52345            URBANA      Benton            6.0\n",
      "425            10.376250    50456             MANLY       Worth           98.0\n",
      "426            10.332712    52303      CEDAR RAPIDS        Linn           57.0\n",
      "427            10.261111    51640           HAMBURG     Fremont           36.0\n",
      "428            10.193000    50136            KELLOG      Jasper           50.0\n",
      "429            10.097411    50579     ROCKWELL CITY     Calhoun           13.0\n",
      "430             9.860476    50680         WELLSBURG      Grundy           38.0\n",
      "431             9.747500    52228           FAIRFAX        Linn           57.0\n",
      "432             9.707273    50228      PRAIRIE CITY      Jasper           50.0\n",
      "433             9.685455    52223             DELHI    Delaware           28.0\n",
      "434             9.548462    52768         PRINCETON       Scott           82.0\n",
      "435             9.498684    50606         ARLINGTON     Fayette           33.0\n",
      "436             9.435556    52337          STANWOOD       Cedar           16.0\n",
      "437             9.423871    50641          HAZLETON    Buchanan           10.0\n",
      "438             9.246500    50569              OTHO     Webster           94.0\n",
      "439             9.237931    52046            FARLEY     Dubuque           31.0\n",
      "440             9.205333    52623          DANVILLE  Des Moines           29.0\n",
      "441             8.985667    50123          HUMESTON       Wayne           93.0\n",
      "442             8.878125    50541      GILMORE CITY    Humboldt           46.0\n",
      "443             8.772000    50542         GOLDFIELD      Wright           99.0\n",
      "444             8.538000    51551           MALVERN       Mills           65.0\n",
      "445             8.504737    52639          MONTROSE         Lee           56.0\n",
      "446             8.457747    50324   WINDSOR HEIGHTS        Polk           77.0\n",
      "447             7.859200    50529       DAKOTA CITY    Humboldt           46.0\n",
      "448             6.508750    50044            BUSSEY      Marion           63.0\n",
      "\n",
      "[449 rows x 5 columns]\n"
     ]
    }
   ],
   "source": [
    "#Table that presents the maximum retail price per bottle and its location by city, county and county number\n",
    "\n",
    "sb = df.groupby('Zip Code')['State Bottle Retail'].mean().to_frame()\n",
    "sb = sb.sort_values(by= 'State Bottle Retail', ascending = False)\n",
    "\n",
    "sb['Zip Code'] = sb.index\n",
    "sb.reset_index(drop=True, inplace = True)\n",
    "\n",
    "df4 = df[['City', 'County', 'County Number', 'Zip Code']]\n",
    "df4 = df4.drop_duplicates()\n",
    "   \n",
    "nw1 = pd.merge(sb, df4)\n",
    "\n",
    "print nw1"
   ]
  },
  {
   "cell_type": "markdown",
   "metadata": {},
   "source": [
    "It can be observed that State Bottle Retail Price is maximum in County Number 33 followed by 82. County number  33 or 82 was not among top 10 counties where Sale (Dollars) was maximum or Volume Sold was maximum. So, where the bottle retail price is more the sales in dollars or volume sold decreases.\n",
    "\n",
    "\n",
    "State Bottle Retail Zip Code              City      County  County Number\n",
    "0              22.375789    52166          ST LUCAS     Fayette           33.0\n",
    "1              22.250000    52801         DAVENPORT       Scott           82.0\n",
    "2              20.545211    52401      CEDAR RAPIDS        Linn           57.0\n",
    "3              19.962419    50846        FONTANELLE       Adair            1.0\n",
    "4              19.526049    50312        DES MOINES        Polk           77.0\n"
   ]
  },
  {
   "cell_type": "code",
   "execution_count": 86,
   "metadata": {
    "collapsed": false
   },
   "outputs": [
    {
     "data": {
      "text/plain": [
       "<matplotlib.axes._subplots.AxesSubplot at 0x124949d50>"
      ]
     },
     "execution_count": 86,
     "metadata": {},
     "output_type": "execute_result"
    },
    {
     "data": {
      "image/png": "[encoded data removed]",
      "text/plain": [
       "<matplotlib.figure.Figure at 0x124949610>"
      ]
     },
     "metadata": {},
     "output_type": "display_data"
    }
   ],
   "source": [
    "#Plot showing the yearly sale for the state of Iowa \n",
    "%matplotlib inline\n",
    "df['Date'] = pd.to_datetime(df['Date'])\n",
    "ad = df.groupby(df['Date'])['Sale (Dollars)'].sum().to_frame()\n",
    "ad.plot()"
   ]
  },
  {
   "cell_type": "code",
   "execution_count": 69,
   "metadata": {
    "collapsed": false
   },
   "outputs": [
    {
     "data": {
      "text/plain": [
       "<matplotlib.axes._subplots.AxesSubplot at 0x1179b49d0>"
      ]
     },
     "execution_count": 69,
     "metadata": {},
     "output_type": "execute_result"
    },
    {
     "data": {
      "image/png": "[encoded data removed]",
      "text/plain": [
       "<matplotlib.figure.Figure at 0x11d276110>"
      ]
     },
     "metadata": {},
     "output_type": "display_data"
    }
   ],
   "source": [
    "#Plot showing the Volume Sold (Gallons) vs. County Number\n",
    "# The point population for County Number 77 is very dense \n",
    "\n",
    "%matplotlib inline\n",
    "df.plot(x='County Number', y='Volume Sold (Gallons)', kind='scatter', color='dodgerblue', figsize=(15,7), s=250)"
   ]
  },
  {
   "cell_type": "markdown",
   "metadata": {},
   "source": [
    "## Predicting the yearly sales in county number 77 "
   ]
  },
  {
   "cell_type": "code",
   "execution_count": 82,
   "metadata": {
    "collapsed": false
   },
   "outputs": [
    {
     "name": "stdout",
     "output_type": "stream",
     "text": [
      "yearly sale prediction:  [ 31003.50262136]\n",
      "Bottle sold for the store:  2298.53883495\n",
      "Volume sold for the store:  2007.57009709\n"
     ]
    },
    {
     "name": "stderr",
     "output_type": "stream",
     "text": [
      "//anaconda/lib/python2.7/site-packages/sklearn/utils/validation.py:386: DeprecationWarning: Passing 1d arrays as data is deprecated in 0.17 and willraise ValueError in 0.19. Reshape your data either using X.reshape(-1, 1) if your data has a single feature or X.reshape(1, -1) if it contains a single sample.\n",
      "  DeprecationWarning)\n"
     ]
    }
   ],
   "source": [
    "\n",
    "  \n",
    "cn = df[df['County Number'] == 77][['Date', \"Store Number\", 'Bottles Sold', \\\n",
    "    'State Bottle Retail', \"Volume Sold (Liters)\", 'Sale (Dollars)']]\n",
    "    \n",
    "cn['Date'] = pd.to_datetime(cn['Date'])\n",
    "    \n",
    "cn['Year'] = cn['Date'].map(lambda x: x.year)\n",
    "    \n",
    "cn = cn[cn['Year'] < 2016]\n",
    "   \n",
    "cp = cn.groupby('Store Number')['Bottles Sold', \"Volume Sold (Liters)\", 'Sale (Dollars)'].sum()\n",
    "    \n",
    "#print cp\n",
    "    \n",
    "lm = linear_model.LinearRegression()\n",
    "\n",
    "X = cp[['Bottles Sold', \"Volume Sold (Liters)\"]]\n",
    "    \n",
    "y = cp['Sale (Dollars)']\n",
    "    \n",
    "model = lm.fit(X, y)\n",
    "\n",
    "#inorder to predict\n",
    "\n",
    "bSold = cp['Bottles Sold'].mean()\n",
    "VolmSold = cp[\"Volume Sold (Liters)\"].mean()\n",
    "    \n",
    "x1 = [bSold, VolmSold]\n",
    "    \n",
    "predictions = lm.predict(x1)\n",
    "\n",
    "print \"yearly sale prediction: \", predictions\n",
    "print \"Bottle sold for the store: \", bSold\n",
    "print \"Volume sold for the store: \", VolmSold"
   ]
  },
  {
   "cell_type": "code",
   "execution_count": 83,
   "metadata": {
    "collapsed": false
   },
   "outputs": [
    {
     "name": "stdout",
     "output_type": "stream",
     "text": [
      "The r2 value for the model for county 77:  0.995336922318\n"
     ]
    }
   ],
   "source": [
    "from sklearn.metrics import r2_score\n",
    "\n",
    "y_true = y\n",
    "y_pred = model.predict(X)\n",
    "\n",
    "lr_r2 =  r2_score(y_true=y_true, y_pred=y_pred)\n",
    "print \"The r2 value for the model for county 77: \", lr_r2"
   ]
  },
  {
   "cell_type": "code",
   "execution_count": 70,
   "metadata": {
    "collapsed": false
   },
   "outputs": [
    {
     "data": {
      "text/plain": [
       "<matplotlib.axes._subplots.AxesSubplot at 0x11797cd10>"
      ]
     },
     "execution_count": 70,
     "metadata": {},
     "output_type": "execute_result"
    },
    {
     "data": {
      "image/png": "[encoded data removed]",
      "text/plain": [
       "<matplotlib.figure.Figure at 0x11cc26410>"
      ]
     },
     "metadata": {},
     "output_type": "display_data"
    }
   ],
   "source": [
    "#plot to show the yearly sales in County Number 77\n",
    "%matplotlib inline\n",
    "import seaborn as sns\n",
    "from matplotlib import pyplot as plt\n",
    "\n",
    "cd = df[df['County Number'] == 77][['Date', 'Sale (Dollars)']]\n",
    "    \n",
    "cd['Date'] = pd.to_datetime(cd['Date'])\n",
    "    \n",
    "cd1 = cd.groupby('Date')['Sale (Dollars)'].sum().to_frame()\n",
    "    \n",
    "cd1.plot()"
   ]
  },
  {
   "cell_type": "markdown",
   "metadata": {},
   "source": [
    "## Yearly sales prediction:\n",
    "\n",
    "Based on the regression analysis and after analysis of the tables I would suggest opening stores in County Number 77.\n",
    "County Number 77 had the maximum recorded liquor sales. In order to create a model for county number 77, I have chosen \"Bottles Sold\" and \"Volume Sold (liters)\" as my independent variables and \"Sale (Dollars)\" as my dependent variable.\n",
    "\n",
    "The data for 2015 has been filtered for county number 77. The model has an r2 value of 0.99 which shows that the model has a good fit to the data.\n",
    "\n",
    "I have taken the mean values of the independent variables for each store in an attempt to predict the yealy sales for each store in the county.\n",
    "\n",
    "If we open a store in county number 77, I could predict that the yearly liquor sale for the store would be around 31,003 dollars. The average number of yearly bottles sold for the store could be predicted as  2298. The average volume of liquor sold for the new store has been predicted as 2007 liters. I could predict a price per bottle at the store as = 31003/2298 = 13.49 dollars based on the predictions of my model.\n",
    "\n",
    "The above plot shows the yearly sale in couty number 77. My model predicts a yearly sale of around $31003 for each store which appears to be possible by observing the plot.\n",
    "\n",
    "From all the above analysis, I would highly recommend opening stores in 77 number county in the state of Iowa."
   ]
  },
  {
   "cell_type": "code",
   "execution_count": 9,
   "metadata": {
    "collapsed": false
   },
   "outputs": [
    {
     "name": "stdout",
     "output_type": "stream",
     "text": [
      "coefficients of the model [-0.00725359  0.2793157 ]\n",
      "intercept of the model 138.867094311\n"
     ]
    }
   ],
   "source": [
    "# linear regression model to show the dependence of \"Store Number\" and \"County Number\" on the \"Sale (Dollars)\"\n",
    "\n",
    "from sklearn import datasets, linear_model\n",
    "from sklearn.metrics import mean_squared_error\n",
    "\n",
    "lm = linear_model.LinearRegression()\n",
    "\n",
    "X = df[[\"Store Number\", \"County Number\"]]\n",
    "y = df[\"Sale (Dollars)\"]\n",
    "\n",
    "model = lm.fit(X, y)\n",
    "predictions = lm.predict(X)\n",
    "\n",
    "\n",
    "print \"coefficients of the model\", lm.coef_\n",
    "print \"intercept of the model\", lm.intercept_\n"
   ]
  },
  {
   "cell_type": "code",
   "execution_count": 51,
   "metadata": {
    "collapsed": false
   },
   "outputs": [
    {
     "name": "stdout",
     "output_type": "stream",
     "text": [
      "The r2 value for the model:  0.770038585774\n"
     ]
    }
   ],
   "source": [
    "# To calcuate the r2 value of the model depending on store number and county number\n",
    "\n",
    "from sklearn.metrics import r2_score\n",
    "y_true = y\n",
    "y_pred = model.predict(X)\n",
    "\n",
    "lr_r2 =  r2_score(y_true=y_true, y_pred=y_pred)\n",
    "print \"The r2 value for the model: \", lr_r2"
   ]
  },
  {
   "cell_type": "code",
   "execution_count": 11,
   "metadata": {
    "collapsed": false
   },
   "outputs": [
    {
     "name": "stdout",
     "output_type": "stream",
     "text": [
      "0    3717\n",
      "1    2614\n",
      "2    2106\n",
      "3    2501\n",
      "4    3654\n",
      "Name: Store Number, dtype: int64\n",
      "0     9.0\n",
      "1    82.0\n",
      "2     7.0\n",
      "3    85.0\n",
      "4    99.0\n",
      "Name: County Number, dtype: float64\n",
      "0     81.00\n",
      "1     41.26\n",
      "2    453.36\n",
      "3     85.50\n",
      "4    129.60\n",
      "Name: Sale (Dollars), dtype: float64\n",
      "[ 114.41932608  142.8100867   125.54623489  144.46768995  140.01471569]\n"
     ]
    }
   ],
   "source": [
    "print(df[\"Store Number\"][:5]) # The first 5 predictor values.\n",
    "print (df[\"County Number\"][:5]) # The first 5 predictor values.\n",
    "print(df[\"Sale (Dollars)\"][:5]) # The first 5 outcome values.\n",
    "print(predictions[:5]) # Our first 5 predictions, based on fitting a linear model Sale (Dollars) ~ \"Bottles(Sold)\""
   ]
  },
  {
   "cell_type": "markdown",
   "metadata": {},
   "source": [
    "## Regression Models"
   ]
  },
  {
   "cell_type": "code",
   "execution_count": 53,
   "metadata": {
    "collapsed": false
   },
   "outputs": [
    {
     "name": "stdout",
     "output_type": "stream",
     "text": [
      "coefficient of the model [ 13.15693634]\n",
      "intercept of the model -1.08341009129\n"
     ]
    }
   ],
   "source": [
    "# after analysing the above plots and tables, lets try to fit a linear model to our data. \n",
    "# Initially dependence on one variable has been analyzed. \n",
    "\n",
    "from sklearn import datasets, linear_model\n",
    "from sklearn.metrics import mean_squared_error\n",
    "\n",
    "lm = linear_model.LinearRegression()\n",
    "\n",
    "X = df[[\"Bottles Sold\"]]\n",
    "y = df[\"Sale (Dollars)\"]\n",
    "\n",
    "model = lm.fit(X, y)\n",
    "predictions = lm.predict(X)\n",
    "\n",
    "print \"coefficient of the model\", lm.coef_\n",
    "print \"intercept of the model\", lm.intercept_"
   ]
  },
  {
   "cell_type": "code",
   "execution_count": 61,
   "metadata": {
    "collapsed": false
   },
   "outputs": [
    {
     "name": "stdout",
     "output_type": "stream",
     "text": [
      "0    12\n",
      "1     2\n",
      "2    24\n",
      "3     6\n",
      "4    12\n",
      "Name: Bottles Sold, dtype: int64\n",
      "0     81.00\n",
      "1     41.26\n",
      "2    453.36\n",
      "3     85.50\n",
      "4    129.60\n",
      "Name: Sale (Dollars), dtype: float64\n",
      "[ 156.89766513   25.38504339  314.71281121   77.99009208  156.89766513]\n"
     ]
    }
   ],
   "source": [
    "print(df[\"Bottles Sold\"][:5]) # The first 5 predictor values.\n",
    "print(df[\"Sale (Dollars)\"][:5]) # The first 5 outcome values.\n",
    "print(predictions[:5]) # Our first 5 predictions, based on fitting a linear model Sale (Dollars) ~ \"Bottles(Sold)\"\n"
   ]
  },
  {
   "cell_type": "code",
   "execution_count": 54,
   "metadata": {
    "collapsed": false
   },
   "outputs": [
    {
     "name": "stdout",
     "output_type": "stream",
     "text": [
      "The r2 value for the model for Bottles Sold as variable:  0.682130143708\n"
     ]
    }
   ],
   "source": [
    "from sklearn.metrics import r2_score\n",
    "y_true = y\n",
    "y_pred = model.predict(X)\n",
    "\n",
    "lr_r2 =  r2_score(y_true=y_true, y_pred=y_pred)\n",
    "print \"The r2 value for the model for Bottles Sold as variable: \", lr_r2"
   ]
  },
  {
   "cell_type": "code",
   "execution_count": 70,
   "metadata": {
    "collapsed": false
   },
   "outputs": [
    {
     "name": "stdout",
     "output_type": "stream",
     "text": [
      "MSE: 46747.3792189\n"
     ]
    },
    {
     "data": {
      "image/png": "[encoded data removed]",
      "text/plain": [
       "<matplotlib.figure.Figure at 0x1202ac610>"
      ]
     },
     "metadata": {},
     "output_type": "display_data"
    }
   ],
   "source": [
    "print \"MSE:\", mean_squared_error(y, predictions)\n",
    "plt.figure(figsize=(16,8))\n",
    "plt.scatter(predictions, y, s=30, c='r', marker='+', zorder=10)\n",
    "plt.xlabel(\"Predicted Values from Bottles Sold\")\n",
    "plt.ylabel(\"Actual Values Sale (Dollars)\")\n",
    "plt.show()"
   ]
  },
  {
   "cell_type": "code",
   "execution_count": 71,
   "metadata": {
    "collapsed": false
   },
   "outputs": [
    {
     "data": {
      "image/png": "[encoded data removed]",
      "text/plain": [
       "<matplotlib.figure.Figure at 0x115a26c50>"
      ]
     },
     "metadata": {},
     "output_type": "display_data"
    }
   ],
   "source": [
    "# Plot the residuals against y-hat\n",
    "plt.figure(figsize=(16,8))\n",
    "plt.scatter(predictions, y - predictions, c = 'b', marker = '+')\n",
    "plt.axhline(0, color='r');\n",
    "plt.xlabel(\"Predictions\")\n",
    "plt.ylabel(\"Residuals\");"
   ]
  },
  {
   "cell_type": "code",
   "execution_count": 184,
   "metadata": {
    "collapsed": false
   },
   "outputs": [
    {
     "data": {
      "image/png": "[encoded data removed]",
      "text/plain": [
       "<matplotlib.figure.Figure at 0x109b1c950>"
      ]
     },
     "metadata": {},
     "output_type": "display_data"
    },
    {
     "name": "stdout",
     "output_type": "stream",
     "text": [
      "MSE: 41563.9773998\n",
      "intercept of the model: -67.7125942911\n",
      "coefficient of the model [ -6.95650232e-04   6.85021401e+00   1.33453839e+01]\n"
     ]
    }
   ],
   "source": [
    "# A linear model has now been created using three variables. \n",
    "# I have taken \"Zip Code\" as a variable for specifying the location.\n",
    "\n",
    "lm = linear_model.LinearRegression()\n",
    "\n",
    "X = df[[\"Zip Code\", \"State Bottle Retail\", \"Bottles Sold\"]]\n",
    "y = df[\"Sale (Dollars)\"]\n",
    "\n",
    "model = lm.fit(X, y)\n",
    "predictions = model.predict(X)\n",
    "\n",
    "# Plot the model\n",
    "plt.figure(figsize=(16,8))\n",
    "plt.scatter(predictions, y, s=30, c='r', marker='+', zorder=1)\n",
    "plt.xlabel(\"Predicted Values from Zip Code, State Bottle Retail and Bottles Sold\")\n",
    "plt.ylabel(\"Sale (Dollars)\")\n",
    "plt.show()\n",
    "print \"MSE:\", mean_squared_error(y, predictions)\n",
    "print \"intercept of the model:\", lm.intercept_\n",
    "print \"coefficient of the model\", lm.coef_"
   ]
  },
  {
   "cell_type": "code",
   "execution_count": 186,
   "metadata": {
    "collapsed": false
   },
   "outputs": [
    {
     "name": "stdout",
     "output_type": "stream",
     "text": [
      "The r2 value for the model:  0.717536635837\n"
     ]
    }
   ],
   "source": [
    "#r2 value of the above model with three variables\n",
    "\n",
    "from sklearn.metrics import r2_score\n",
    "y_true = y\n",
    "y_pred = model.predict(X)\n",
    "\n",
    "lr_r2 =  r2_score(y_true=y_true, y_pred=y_pred)\n",
    "print \"The r2 value for the model: \", lr_r2"
   ]
  },
  {
   "cell_type": "markdown",
   "metadata": {},
   "source": [
    "It can be observed that the r2 value increased from 0.68 to 0.71 with the increase in the number of variables. Later in the process I have included four variables. "
   ]
  },
  {
   "cell_type": "markdown",
   "metadata": {},
   "source": [
    "# Model for each county"
   ]
  },
  {
   "cell_type": "code",
   "execution_count": 189,
   "metadata": {
    "collapsed": false
   },
   "outputs": [
    {
     "name": "stdout",
     "output_type": "stream",
     "text": [
      "county no:  9.0 coefficients of the model [ 4.33157649  8.57903292  4.28855293]\n",
      "county no:  9.0 intercept of the model -61.6169182738\n",
      "county no:  9.0 r2 of the model 0.855110030445\n",
      "county no:  82.0 coefficients of the model [ 5.7206256   5.8085377   6.21498841]\n",
      "county no:  82.0 intercept of the model -67.0597899738\n",
      "county no:  82.0 r2 of the model 0.757626986318\n",
      "county no:  7.0 coefficients of the model [ 4.74551397  2.72190144  7.31486182]\n",
      "county no:  7.0 intercept of the model -33.8407359821\n",
      "county no:  7.0 r2 of the model 0.742520183951\n",
      "county no:  85.0 coefficients of the model [  5.87966486e+00   1.60986107e+01   1.25323460e-02]\n",
      "county no:  85.0 intercept of the model -108.76287222\n",
      "county no:  85.0 r2 of the model 0.845083178453\n",
      "county no:  99.0 coefficients of the model [ 5.01404378  5.89011501  5.10664989]\n",
      "county no:  99.0 intercept of the model -60.945276158\n",
      "county no:  99.0 r2 of the model 0.986934365175\n",
      "county no:  57.0 coefficients of the model [ 5.91626714  3.37700522  6.78917962]\n",
      "county no:  57.0 intercept of the model -49.16896433\n",
      "county no:  57.0 r2 of the model 0.744379043296\n",
      "county no:  90.0 coefficients of the model [  5.80965850e+00   1.60358740e+01   8.01939133e-03]\n",
      "county no:  90.0 intercept of the model -100.370638098\n",
      "county no:  90.0 r2 of the model 0.879643309232\n",
      "county no:  17.0 coefficients of the model [ 3.8028428   1.62756522  7.87491931]\n",
      "county no:  17.0 intercept of the model -27.544037152\n",
      "county no:  17.0 r2 of the model 0.848485978489\n",
      "county no:  77.0 coefficients of the model [ 6.27015963  7.75259277  6.38013666]\n",
      "county no:  77.0 intercept of the model -94.3490700343\n",
      "county no:  77.0 r2 of the model 0.770037177707\n",
      "county no:  6.0 coefficients of the model [ 1.81779515  7.45224807  5.45645885]\n",
      "county no:  6.0 intercept of the model -30.5665510397\n",
      "county no:  6.0 r2 of the model 0.799230890132\n",
      "county no:  62.0 coefficients of the model [  6.02956844  10.46148527   6.99764218]\n",
      "county no:  62.0 intercept of the model -126.142944686\n",
      "county no:  62.0 r2 of the model 0.839246560548\n",
      "county no:  56.0 coefficients of the model [  5.33066003  16.58826306   1.24659123]\n",
      "county no:  56.0 intercept of the model -122.507012179\n",
      "county no:  56.0 r2 of the model 0.842930042441\n",
      "county no:  52.0 coefficients of the model [  6.06363946   2.2319625   13.74622441]\n",
      "county no:  52.0 intercept of the model -95.7943076185\n",
      "county no:  52.0 r2 of the model 0.703234164447\n",
      "county no:  50.0 coefficients of the model [ 3.38925508  4.61426506  5.91012521]\n",
      "county no:  50.0 intercept of the model -35.7439250067\n",
      "county no:  50.0 r2 of the model 0.852097692597\n",
      "county no:  86.0 coefficients of the model [ 4.85471742  4.33850204  5.83667175]\n",
      "county no:  86.0 intercept of the model -50.5642245483\n",
      "county no:  86.0 r2 of the model 0.840062179752\n",
      "county no:  84.0 coefficients of the model [  8.02742738  14.97839693   0.75903401]\n",
      "county no:  84.0 intercept of the model -128.022645907\n",
      "county no:  84.0 r2 of the model 0.932671765763\n",
      "county no:  30.0 coefficients of the model [  5.8163085   11.21623755   1.36330561]\n",
      "county no:  30.0 intercept of the model -76.0952883437\n",
      "county no:  30.0 r2 of the model 0.702566669324\n",
      "county no:  78.0 coefficients of the model [  6.14940687   5.79793129  11.5734274 ]\n",
      "county no:  78.0 intercept of the model -116.438660738\n",
      "county no:  78.0 r2 of the model 0.813625782808\n",
      "county no:  91.0 coefficients of the model [ 5.61341167  5.98845891  5.64332372]\n",
      "county no:  91.0 intercept of the model -70.3250543341\n",
      "county no:  91.0 r2 of the model 0.930186309714\n",
      "county no:  94.0 coefficients of the model [ 5.74936537  9.67314728  2.64372104]\n",
      "county no:  94.0 intercept of the model -79.8027829286\n",
      "county no:  94.0 r2 of the model 0.909813556009\n",
      "county no:  8.0 coefficients of the model [  5.64682575  10.33233597   2.79463462]\n",
      "county no:  8.0 intercept of the model -80.384046889\n",
      "county no:  8.0 r2 of the model 0.964327388159\n",
      "county no:  49.0 coefficients of the model [ 5.42000823  6.23159258  4.90186373]\n",
      "county no:  49.0 intercept of the model -63.5613890573\n",
      "county no:  49.0 r2 of the model 0.959440501255\n",
      "county no:  14.0 coefficients of the model [  8.43802326  25.69411572  -5.48760957]\n",
      "county no:  14.0 intercept of the model -177.971807836\n",
      "county no:  14.0 r2 of the model 0.922937650002\n",
      "county no:  40.0 coefficients of the model [ 5.1748718   9.09114444  3.34668292]\n",
      "county no:  40.0 intercept of the model -70.5448448281\n",
      "county no:  40.0 r2 of the model 0.966233561908\n",
      "county no:  97.0 coefficients of the model [  7.50245247  10.05508145   4.93775508]\n",
      "county no:  97.0 intercept of the model -125.423851308\n",
      "county no:  97.0 r2 of the model 0.82308311138\n",
      "county no:  92.0 coefficients of the model [  3.83857876   2.64995917  12.10391079]\n",
      "county no:  92.0 intercept of the model -61.3279411777\n",
      "county no:  92.0 r2 of the model 0.817281232789\n",
      "county no:  34.0 coefficients of the model [ 6.73433898  8.01315146  4.20234146]\n",
      "county no:  34.0 intercept of the model -87.1639483934\n",
      "county no:  34.0 r2 of the model 0.891119382777\n",
      "county no:  28.0 coefficients of the model [  7.22391919  11.50237038   1.12102831]\n",
      "county no:  28.0 intercept of the model -99.3046257134\n",
      "county no:  28.0 r2 of the model 0.858972409514\n",
      "county no:  71.0 coefficients of the model [ 3.79674689  8.50946827  7.51420228]\n",
      "county no:  71.0 intercept of the model -75.2985443069\n",
      "county no:  71.0 r2 of the model 0.920047855182\n",
      "county no:  11.0 coefficients of the model [ 3.14041213  3.19544     8.75642443]\n",
      "county no:  11.0 intercept of the model -37.415012455\n",
      "county no:  11.0 r2 of the model 0.832801845278\n",
      "county no:  38.0 coefficients of the model [ 3.72656553  5.30502828  4.88297871]\n",
      "county no:  38.0 intercept of the model -40.2535418348\n",
      "county no:  38.0 r2 of the model 0.774608938049\n",
      "county no:  31.0 coefficients of the model [ 6.62016993  7.80993074  3.84809706]\n",
      "county no:  31.0 intercept of the model -80.2148860399\n",
      "county no:  31.0 r2 of the model 0.795137331017\n",
      "county no:  1.0 coefficients of the model [ 4.77766489  6.36549842  5.89558795]\n",
      "county no:  1.0 intercept of the model -66.4076297429\n",
      "county no:  1.0 r2 of the model 0.738545820337\n",
      "county no:  24.0 coefficients of the model [  4.35126502  11.35736734   1.70812173]\n",
      "county no:  24.0 intercept of the model -62.7317144468\n",
      "county no:  24.0 r2 of the model 0.97782025699\n",
      "county no:  44.0 coefficients of the model [  6.40491312  11.45218377   2.04035726]\n",
      "county no:  44.0 intercept of the model -90.5621110582\n",
      "county no:  44.0 r2 of the model 0.987179889172\n",
      "county no:  39.0 coefficients of the model [ 4.42725204  4.9097892   4.80717766]\n",
      "county no:  39.0 intercept of the model -41.2516803503\n",
      "county no:  39.0 r2 of the model 0.720262327288\n",
      "county no:  96.0 coefficients of the model [ 5.22796968  8.3579518   4.0394452 ]\n",
      "county no:  96.0 intercept of the model -72.2704055725\n",
      "county no:  96.0 r2 of the model 0.756328009793\n",
      "county no:  21.0 coefficients of the model [ 4.28104116  7.60217827  2.67737154]\n",
      "county no:  21.0 intercept of the model -44.4920430337\n",
      "county no:  21.0 r2 of the model 0.838061662748\n",
      "county no:  70.0 coefficients of the model [ 3.12582067  4.99838416  8.99147723]\n",
      "county no:  70.0 intercept of the model -47.6482716728\n",
      "county no:  70.0 r2 of the model 0.905673018782\n",
      "county no:  87.0 coefficients of the model [ 2.73142731  5.60385034  4.65718727]\n",
      "county no:  87.0 intercept of the model -28.9972038028\n",
      "county no:  87.0 r2 of the model 0.820008796473\n",
      "county no:  43.0 coefficients of the model [ 2.65002364  5.18652563  4.5895473 ]\n",
      "county no:  43.0 intercept of the model -25.5880600684\n",
      "county no:  43.0 r2 of the model 0.721948404465\n",
      "county no:  42.0 coefficients of the model [  7.13176932  11.75298802   1.93423583]\n",
      "county no:  42.0 intercept of the model -105.305122011\n",
      "county no:  42.0 r2 of the model 0.896380611378\n",
      "county no:  55.0 coefficients of the model [ 3.57338321  3.38251393  8.27208902]\n",
      "county no:  55.0 intercept of the model -42.6158695196\n",
      "county no:  55.0 r2 of the model 0.862654133922\n",
      "county no:  25.0 coefficients of the model [ 11.95350367  16.22925252   2.62877055]\n",
      "county no:  25.0 intercept of the model -201.30245395\n",
      "county no:  25.0 r2 of the model 0.892165149845\n",
      "county no:  27.0 coefficients of the model [ 4.46946697  5.47586218  4.656695  ]\n",
      "county no:  27.0 intercept of the model -42.9468501435\n",
      "county no:  27.0 r2 of the model 0.755026219097\n",
      "county no:  23.0 coefficients of the model [ 5.32931851  5.94046366  5.87012002]\n",
      "county no:  23.0 intercept of the model -63.1874207649\n",
      "county no:  23.0 r2 of the model 0.844503192958\n",
      "county no:  12.0 coefficients of the model [ 3.86187746  6.99606966  3.86563091]\n",
      "county no:  12.0 intercept of the model -45.4803424449\n",
      "county no:  12.0 r2 of the model 0.815273404869\n",
      "county no:  29.0 coefficients of the model [ 4.30184303  5.49004636  5.81599101]\n",
      "county no:  29.0 intercept of the model -44.0797431786\n",
      "county no:  29.0 r2 of the model 0.775279808886\n",
      "county no:  13.0 coefficients of the model [ 5.81520488  7.77069332  2.84191554]\n",
      "county no:  13.0 intercept of the model -63.4926791066\n",
      "county no:  13.0 r2 of the model 0.810100599536\n",
      "county no:  33.0 coefficients of the model [ 8.75178331  2.90420606  8.78646695]\n",
      "county no:  33.0 intercept of the model -114.108617972\n",
      "county no:  33.0 r2 of the model 0.672894011774\n",
      "county no:  53.0 coefficients of the model [ 3.53194643  8.5548666   2.85532161]\n",
      "county no:  53.0 intercept of the model -41.681924385\n",
      "county no:  53.0 r2 of the model 0.872674489681\n",
      "county no:  41.0 coefficients of the model [ 5.72455079  3.5500259   4.7469382 ]\n",
      "county no:  41.0 intercept of the model -55.2037714408\n",
      "county no:  41.0 r2 of the model 0.761543874177\n",
      "county no:  48.0 coefficients of the model [  6.88722134  10.33776716   4.80122671]\n",
      "county no:  48.0 intercept of the model -107.564073916\n",
      "county no:  48.0 r2 of the model 0.870951361406\n",
      "county no:  45.0 coefficients of the model [  7.75543786  17.29098056  -1.51005217]\n",
      "county no:  45.0 intercept of the model -126.152003981\n",
      "county no:  45.0 r2 of the model 0.941764185251\n",
      "county no:  4.0 coefficients of the model [ 3.35242378  4.57949336  3.73217804]\n",
      "county no:  4.0 intercept of the model -18.1256275109\n",
      "county no:  4.0 r2 of the model 0.930995341231\n",
      "county no:  51.0 coefficients of the model [  4.82668565  11.63387085   7.27187887]\n",
      "county no:  51.0 intercept of the model -121.822339495\n",
      "county no:  51.0 r2 of the model 0.834798463843\n",
      "county no:  32.0 coefficients of the model [ 3.42453199  8.72406344  3.466035  ]\n",
      "county no:  32.0 intercept of the model -46.8925741158\n",
      "county no:  32.0 r2 of the model 0.930796944378\n",
      "county no:  64.0 coefficients of the model [ 5.94821067  5.43635782  7.18885042]\n",
      "county no:  64.0 intercept of the model -76.9348847423\n",
      "county no:  64.0 r2 of the model 0.780280387188\n",
      "county no:  73.0 coefficients of the model [  6.20823003  10.31871552   2.92445914]\n",
      "county no:  73.0 intercept of the model -88.0832850017\n",
      "county no:  73.0 r2 of the model 0.852360617946\n",
      "county no:  16.0 coefficients of the model [ 4.11824929  4.08872547  6.26090024]\n",
      "county no:  16.0 intercept of the model -41.8164087137\n",
      "county no:  16.0 r2 of the model 0.976692424257\n",
      "county no:  22.0 coefficients of the model [  4.08438387  12.32588617   1.88491611]\n",
      "county no:  22.0 intercept of the model -64.5489828706\n",
      "county no:  22.0 r2 of the model 0.827711610079\n",
      "county no:  81.0 coefficients of the model [ 2.43043239  3.76926254  6.15555437]\n",
      "county no:  81.0 intercept of the model -22.9308499829\n",
      "county no:  81.0 r2 of the model 0.791673575552\n",
      "county no:  67.0 coefficients of the model [ 2.386343    3.70308816  7.79496826]\n",
      "county no:  67.0 intercept of the model -28.1918951635\n",
      "county no:  67.0 r2 of the model 0.744230648906\n",
      "county no:  3.0 coefficients of the model [ 4.33057454  4.93077633  6.8635248 ]\n",
      "county no:  3.0 intercept of the model -56.9347615475\n",
      "county no:  3.0 r2 of the model 0.847619807727\n",
      "county no:  95.0 coefficients of the model [ 3.38398951  5.5839743   4.41278785]\n",
      "county no:  95.0 intercept of the model -31.3405873103\n",
      "county no:  95.0 r2 of the model 0.981100798042\n",
      "county no:  79.0 coefficients of the model [ 4.11050072  9.25657638  2.49259636]\n",
      "county no:  79.0 intercept of the model -49.6642621872\n",
      "county no:  79.0 r2 of the model 0.840692240527\n",
      "county no:  63.0 coefficients of the model [ 4.30871688  7.33273342  8.01893342]\n",
      "county no:  63.0 intercept of the model -74.4707911683\n",
      "county no:  63.0 r2 of the model 0.878641836751\n",
      "county no:  10.0 coefficients of the model [ 5.19863509  4.04864458  6.27627218]\n",
      "county no:  10.0 intercept of the model -54.5129889914\n",
      "county no:  10.0 r2 of the model 0.923731947355\n",
      "county no:  35.0 coefficients of the model [ 4.31214317  7.63081086  3.29202987]\n",
      "county no:  35.0 intercept of the model -53.7632414092\n",
      "county no:  35.0 r2 of the model 0.827919675549\n",
      "county no:  18.0 coefficients of the model [ 4.73036796  4.55626907  6.84495911]\n",
      "county no:  18.0 intercept of the model -62.6217340593\n",
      "county no:  18.0 r2 of the model 0.698277617893\n",
      "county no:  46.0 coefficients of the model [ 4.50611058  4.16111931  5.97919215]\n",
      "county no:  46.0 intercept of the model -43.2349373027\n",
      "county no:  46.0 r2 of the model 0.847321228866\n",
      "county no:  37.0 coefficients of the model [  5.50187513  13.49010271   0.74663708]\n",
      "county no:  37.0 intercept of the model -88.1901596863\n",
      "county no:  37.0 r2 of the model 0.969785489655\n",
      "county no:  54.0 coefficients of the model [ 3.68325058  4.22497429  5.11403509]\n",
      "county no:  54.0 intercept of the model -38.0652196508\n",
      "county no:  54.0 r2 of the model 0.84357448557\n",
      "county no:  75.0 coefficients of the model [ 3.73230739  9.75628625  3.40545787]\n",
      "county no:  75.0 intercept of the model -52.9625090623\n",
      "county no:  75.0 r2 of the model 0.809319560502\n",
      "county no:  83.0 coefficients of the model [  9.11511577  12.0382763    1.351757  ]\n",
      "county no:  83.0 intercept of the model -126.216397969\n",
      "county no:  83.0 r2 of the model 0.913901276523\n",
      "county no:  20.0 coefficients of the model [ 6.1422159   9.21475492  7.53363078]\n",
      "county no:  20.0 intercept of the model -110.250018477\n",
      "county no:  20.0 r2 of the model 0.960942855686\n",
      "county no:  74.0 coefficients of the model [ 3.55730575  7.15744163  4.98008775]\n",
      "county no:  74.0 intercept of the model -48.9100990035\n",
      "county no:  74.0 r2 of the model 0.80777296918\n",
      "county no:  15.0 coefficients of the model [  3.95845807  10.80715651   3.13635248]\n",
      "county no:  15.0 intercept of the model -63.8154402461\n",
      "county no:  15.0 r2 of the model 0.766424791804\n",
      "county no:  60.0 coefficients of the model [  3.51581908   2.89796805  10.13355953]\n",
      "county no:  60.0 intercept of the model -49.4335292223\n",
      "county no:  60.0 r2 of the model 0.823612321771\n",
      "county no:  76.0 coefficients of the model [ 4.01477091  5.77112413  5.20326624]\n",
      "county no:  76.0 intercept of the model -49.1689643088\n",
      "county no:  76.0 r2 of the model 0.989204000268\n",
      "county no:  47.0 coefficients of the model [ 4.83359153  6.36347162  4.80364907]\n",
      "county no:  47.0 intercept of the model -52.8634399161\n",
      "county no:  47.0 r2 of the model 0.96409983981\n",
      "county no:  88.0 coefficients of the model [  6.68668766  16.99883777   1.83527843]\n",
      "county no:  88.0 intercept of the model -138.045305516\n",
      "county no:  88.0 r2 of the model 0.894138290748\n",
      "county no:  36.0 coefficients of the model [ 10.58650388   7.72439406  -1.54039308]\n",
      "county no:  36.0 intercept of the model -82.2225267407\n",
      "county no:  36.0 r2 of the model 0.894409739794\n",
      "county no:  69.0 coefficients of the model [ 3.40112571  6.05083823  5.85187081]\n",
      "county no:  69.0 intercept of the model -44.5549727478\n",
      "county no:  69.0 r2 of the model 0.924771120705\n",
      "county no:  58.0 coefficients of the model [ 2.66926353  1.254247    8.56897249]\n",
      "county no:  58.0 intercept of the model -18.8053734319\n",
      "county no:  58.0 r2 of the model 0.86292091525\n",
      "county no:  66.0 coefficients of the model [ 2.2145638   4.41393556  4.63420629]\n",
      "county no:  66.0 intercept of the model -19.9454274658\n",
      "county no:  66.0 r2 of the model 0.809278873769\n",
      "county no:  65.0 coefficients of the model [ 3.16300749  2.30934101  6.94133237]\n",
      "county no:  65.0 intercept of the model -19.6517584598\n",
      "county no:  65.0 r2 of the model 0.516485083051\n",
      "county no:  61.0 coefficients of the model [ 4.21903144  4.22881311  4.86219149]\n",
      "county no:  61.0 intercept of the model -32.8853803347\n",
      "county no:  61.0 r2 of the model 0.936495471024\n",
      "county no:  26.0 coefficients of the model [  4.00415033  10.72226957   1.59760669]\n",
      "county no:  26.0 intercept of the model -54.6464267684\n",
      "county no:  26.0 r2 of the model 0.756186386059\n",
      "county no:  59.0 coefficients of the model [  3.31216557  15.02199554   3.29874606]\n",
      "county no:  59.0 intercept of the model -84.481728987\n",
      "county no:  59.0 r2 of the model 0.843030985934\n",
      "county no:  5.0 coefficients of the model [ 5.68169566  5.78653686  4.10657183]\n",
      "county no:  5.0 intercept of the model -62.1982218636\n",
      "county no:  5.0 r2 of the model 0.900859889174\n",
      "county no:  93.0 coefficients of the model [ 3.32534227  7.93087452  2.99499355]\n",
      "county no:  93.0 intercept of the model -43.121052228\n",
      "county no:  93.0 r2 of the model 0.723074462665\n",
      "county no:  72.0 coefficients of the model [ 4.201841    6.4721705   5.95423193]\n",
      "county no:  72.0 intercept of the model -56.5985160647\n",
      "county no:  72.0 r2 of the model 0.790935926266\n",
      "county no:  19.0 coefficients of the model [ 5.71054821  9.80515814  3.60797332]\n",
      "county no:  19.0 intercept of the model -83.8913365743\n",
      "county no:  19.0 r2 of the model 0.878834111936\n",
      "county no:  89.0 coefficients of the model [ 4.91659755  9.94394664  2.11287985]\n",
      "county no:  89.0 intercept of the model -58.2294725569\n",
      "county no:  89.0 r2 of the model 0.825441819673\n",
      "county no:  98.0 coefficients of the model [ 3.99340696  4.42092401  9.28708049]\n",
      "county no:  98.0 intercept of the model -67.913406163\n",
      "county no:  98.0 r2 of the model 0.897454834053\n",
      "county no:  68.0 coefficients of the model [ 6.43535474  9.10131644  4.52309191]\n",
      "county no:  68.0 intercept of the model -92.503847039\n",
      "county no:  68.0 r2 of the model 0.851259834024\n",
      "county no:  2.0 coefficients of the model [ 2.09185002  2.77313222  6.84544994]\n",
      "county no:  2.0 intercept of the model -18.7648526272\n",
      "county no:  2.0 r2 of the model 0.901860333569\n",
      "county no:  80.0 coefficients of the model [  6.17137874  13.90305117  -0.10358549]\n",
      "county no:  80.0 intercept of the model -84.743900612\n",
      "county no:  80.0 r2 of the model 0.903122964002\n"
     ]
    }
   ],
   "source": [
    "#model for each county using three variables i.e State Bottle Retail, Bottles Sold and Volume Sold(Lts)\n",
    "# we can observe that the model for county number 99 has the maximum r2 value of 0.98\n",
    "\n",
    "\n",
    "from sklearn.metrics import r2_score\n",
    "county = df[\"County Number\"].unique()\n",
    "\n",
    "for c in county:\n",
    "    df2 = df[df[\"County Number\"] == c][[\"State Bottle Retail\", \"Bottles Sold\", \"Volume Sold (Liters)\", \"Sale (Dollars)\"]]\n",
    "    #print df2.reset_index(drop=True)\n",
    "\n",
    "    lm = linear_model.LinearRegression()\n",
    "\n",
    "    X = df2[[\"State Bottle Retail\", \"Bottles Sold\", \"Volume Sold (Liters)\"]]\n",
    "    y = df2[\"Sale (Dollars)\"]\n",
    "\n",
    "    model = lm.fit(X, y)\n",
    "    predictions = lm.predict(X)\n",
    "    \n",
    "    y_true = y\n",
    "    y_pred = model.predict(X)\n",
    "\n",
    "    lr_r2 =  r2_score(y_true=y_true, y_pred=y_pred)\n",
    "    \n",
    "\n",
    "    print \"county no: \", c, \"coefficients of the model\", lm.coef_\n",
    "    print \"county no: \", c, \"intercept of the model\", lm.intercept_\n",
    "    print \"county no: \", c, \"r2 of the model\", lr_r2"
   ]
  },
  {
   "cell_type": "markdown",
   "metadata": {},
   "source": [
    "# Regression model with four variables with regularization and cross-validation"
   ]
  },
  {
   "cell_type": "code",
   "execution_count": 59,
   "metadata": {
    "collapsed": false
   },
   "outputs": [
    {
     "data": {
      "image/png": "[encoded data removed]",
      "text/plain": [
       "<matplotlib.figure.Figure at 0x118454b90>"
      ]
     },
     "metadata": {},
     "output_type": "display_data"
    },
    {
     "name": "stdout",
     "output_type": "stream",
     "text": [
      "MSE: 41380.4232305\n",
      "intercept of the model: -97.2454133661\n",
      "coefficient of the model [ -5.19742196e-04   6.42522938e+00   1.33409180e+01   2.89553469e-02]\n"
     ]
    }
   ],
   "source": [
    "#the regression model with four variables\n",
    "\n",
    "lm = linear_model.LinearRegression()\n",
    "\n",
    "X = df[[\"Zip Code\", \"State Bottle Retail\", \"Bottles Sold\", \"Bottle Volume (ml)\"]]\n",
    "y = df[\"Sale (Dollars)\"]\n",
    "\n",
    "model = lm.fit(X, y)\n",
    "predictions = model.predict(X)\n",
    "\n",
    "# Plot the model\n",
    "plt.figure(figsize=(16,8))\n",
    "plt.scatter(predictions, y, s=30, c='r', marker='+', zorder=1)\n",
    "plt.xlabel(\"Predicted Values from Zip Code, State Bottle Retail,  Bottles Sold and Bottle vol (ml)\")\n",
    "plt.ylabel(\"Sale (Dollars)\")\n",
    "plt.show()\n",
    "print \"MSE:\", mean_squared_error(y, predictions)\n",
    "print \"intercept of the model:\", lm.intercept_\n",
    "print \"coefficient of the model\", lm.coef_"
   ]
  },
  {
   "cell_type": "code",
   "execution_count": 61,
   "metadata": {
    "collapsed": false
   },
   "outputs": [
    {
     "name": "stdout",
     "output_type": "stream",
     "text": [
      "The r2 value for the model with four variables:  0.718784046008\n"
     ]
    }
   ],
   "source": [
    "from sklearn.metrics import r2_score\n",
    "y_true = y\n",
    "y_pred = model.predict(X)\n",
    "\n",
    "lr_r2 =  r2_score(y_true=y_true, y_pred=y_pred)\n",
    "print \"The r2 value for the model with four variables: \", lr_r2"
   ]
  },
  {
   "cell_type": "markdown",
   "metadata": {},
   "source": [
    "It can be observed that the r2 value of the model with three variables was 0.7175 and the r2 value of the model with four variables is 0.7187. It appears that adding \"Bottle Volume (lts)\" as a variable did not have much effect on the model fit."
   ]
  },
  {
   "cell_type": "code",
   "execution_count": 210,
   "metadata": {
    "collapsed": false
   },
   "outputs": [
    {
     "data": {
      "image/png": "[encoded data removed]",
      "text/plain": [
       "<matplotlib.figure.Figure at 0x11f8e8c50>"
      ]
     },
     "metadata": {},
     "output_type": "display_data"
    }
   ],
   "source": [
    "# plot the predictions vs. actual values of the above model\n",
    "\n",
    "import matplotlib.pyplot as plt\n",
    "import seaborn as sns\n",
    "plt.style.use('seaborn-white')\n",
    "%matplotlib inline\n",
    "\n",
    "ax = sns.regplot(y_pred, y_true)\n",
    "ax.figure.set_figheight(6)\n",
    "ax.figure.set_figwidth(14)\n",
    "plt.annotate('r-squared = ' + str(round(lr_r2,2)), xy=(41,-7), fontsize=12)\n",
    "ax.set_ylabel('Actual Values')\n",
    "ax.set_xlabel('Predicted Values')\n",
    "ax.set_title('Predicted vs. Actual Values');"
   ]
  },
  {
   "cell_type": "code",
   "execution_count": 211,
   "metadata": {
    "collapsed": false
   },
   "outputs": [
    {
     "name": "stdout",
     "output_type": "stream",
     "text": [
      "mean absolute value of the coefficients:  4.9489056117\n",
      "maximum value of the coefficients:  13.3409179777\n"
     ]
    }
   ],
   "source": [
    "print \"mean absolute value of the coefficients: \", abs(model.coef_).mean()\n",
    "print \"maximum value of the coefficients: \",model.coef_.max()"
   ]
  },
  {
   "cell_type": "code",
   "execution_count": 212,
   "metadata": {
    "collapsed": false
   },
   "outputs": [
    {
     "data": {
      "text/plain": [
       "0.71878396347223728"
      ]
     },
     "execution_count": 212,
     "metadata": {},
     "output_type": "execute_result"
    }
   ],
   "source": [
    "#lets use Lasso to regularize the model\n",
    "\n",
    "lasso = linear_model.Lasso(alpha=1)\n",
    "lasso_model = lasso.fit(X, y)\n",
    "\n",
    "y_true_lasso = y\n",
    "y_pred_lasso = lasso_model.predict(X)\n",
    "\n",
    "lasso_r2 =  r2_score(y_true=y_true_lasso, y_pred=y_pred_lasso)\n",
    "\n",
    "lasso_r2\n"
   ]
  },
  {
   "cell_type": "code",
   "execution_count": 213,
   "metadata": {
    "collapsed": false
   },
   "outputs": [
    {
     "name": "stdout",
     "output_type": "stream",
     "text": [
      "the lasso model co-efficients are:  [ -5.20022114e-04   6.41502486e+00   1.33389290e+01   2.90186523e-02]\n",
      "mean absolute value of the co-efficients:  4.94587313173\n",
      "maximum value of the co-efficients:  13.3389289937\n"
     ]
    }
   ],
   "source": [
    "print \"the lasso model co-efficients are: \", lasso_model.coef_\n",
    "\n",
    "print \"mean absolute value of the co-efficients: \", abs(lasso_model.coef_).mean()\n",
    "\n",
    "print \"maximum value of the co-efficients: \", lasso_model.coef_.max()"
   ]
  },
  {
   "cell_type": "code",
   "execution_count": 214,
   "metadata": {
    "collapsed": false
   },
   "outputs": [
    {
     "name": "stdout",
     "output_type": "stream",
     "text": [
      "Length of X_train: 180278\n",
      "Length of y_train: 180278\n",
      "\n",
      "Length of X_test: 88795\n",
      "Length of y_test: 88795\n"
     ]
    }
   ],
   "source": [
    "#lets try cross-validation on our model\n",
    "\n",
    "from sklearn.cross_validation import train_test_split\n",
    "\n",
    "X_train, X_test, y_train, y_test = train_test_split(X, y, test_size=.33)\n",
    "\n",
    "print 'Length of X_train: ' + str(len(X_train))\n",
    "print 'Length of y_train: ' + str(len(y_train))\n",
    "print\n",
    "print 'Length of X_test: ' + str(len(X_test))\n",
    "print 'Length of y_test: ' + str(len(y_test))"
   ]
  },
  {
   "cell_type": "code",
   "execution_count": 215,
   "metadata": {
    "collapsed": false
   },
   "outputs": [
    {
     "name": "stdout",
     "output_type": "stream",
     "text": [
      "original lasso r2: 0.718783963472\n",
      "tts lasso r2:      0.753839283153\n"
     ]
    }
   ],
   "source": [
    "#lets train our training data and test it on the test data\n",
    "# the r2 value incresed slightly with cross validation\n",
    "\n",
    "lasso_tts = linear_model.Lasso(alpha=.01)\n",
    "tts_model = lasso_tts.fit(X_train, y_train)\n",
    "\n",
    "tts_lasso_r2 =  r2_score(y_true=y_test, y_pred=tts_model.predict(X_test))\n",
    "\n",
    "print 'original lasso r2:', lasso_r2\n",
    "print 'tts lasso r2:     ', tts_lasso_r2"
   ]
  },
  {
   "cell_type": "markdown",
   "metadata": {},
   "source": [
    "It can be observed that after the model was reguarized using the Lasso regularization the r2 value didnot improve much. \n",
    "However, after cross validation on the Lasso model the r2 value increased slightly to 0.75"
   ]
  },
  {
   "cell_type": "code",
   "execution_count": 224,
   "metadata": {
    "collapsed": false
   },
   "outputs": [
    {
     "name": "stdout",
     "output_type": "stream",
     "text": [
      "r2 for the ridge regularization model:  0.718784046007\n",
      "best aplha for the model:  10.0\n",
      "co-efficient length:  4\n",
      "mean of co-efficients:  4.94890472865\n"
     ]
    }
   ],
   "source": [
    "#regularization using ridge\n",
    "\n",
    "X = df[[\"Zip Code\", \"State Bottle Retail\", \"Bottles Sold\", \"Bottle Volume (ml)\"]]\n",
    "y = df[\"Sale (Dollars)\"]\n",
    "\n",
    "rcv = linear_model.RidgeCV(alphas= (.001, .001, .01, .1, .5, 1, 5, 10),store_cv_values=True,)\n",
    "rcv_model = rcv.fit(X, y)\n",
    "rcv_r2 =  rcv_model.score(X, y)\n",
    "\n",
    "print \"r2 for the ridge regularization model: \", rcv_r2\n",
    "print \"best aplha for the model: \", rcv_model.alpha_\n",
    "print \"co-efficient length: \", len(rcv_model.coef_)\n",
    "print \"mean of co-efficients: \", abs(rcv_model.coef_).mean()"
   ]
  },
  {
   "cell_type": "code",
   "execution_count": 225,
   "metadata": {
    "collapsed": false
   },
   "outputs": [
    {
     "data": {
      "text/plain": [
       "(269073, 8)"
      ]
     },
     "execution_count": 225,
     "metadata": {},
     "output_type": "execute_result"
    }
   ],
   "source": [
    "rcv_model.cv_values_.shape"
   ]
  },
  {
   "cell_type": "code",
   "execution_count": 226,
   "metadata": {
    "collapsed": false
   },
   "outputs": [
    {
     "data": {
      "text/html": [
       "<div>\n",
       "<table border=\"1\" class=\"dataframe\">\n",
       "  <thead>\n",
       "    <tr style=\"text-align: right;\">\n",
       "      <th></th>\n",
       "      <th>0.001</th>\n",
       "      <th>0.001</th>\n",
       "      <th>0.01</th>\n",
       "      <th>0.1</th>\n",
       "      <th>0.5</th>\n",
       "      <th>1.0</th>\n",
       "      <th>5.0</th>\n",
       "      <th>10.0</th>\n",
       "    </tr>\n",
       "  </thead>\n",
       "  <tbody>\n",
       "    <tr>\n",
       "      <th>0</th>\n",
       "      <td>424.156818</td>\n",
       "      <td>424.156818</td>\n",
       "      <td>424.156818</td>\n",
       "      <td>424.156824</td>\n",
       "      <td>424.156849</td>\n",
       "      <td>424.156881</td>\n",
       "      <td>424.157132</td>\n",
       "      <td>424.157446</td>\n",
       "    </tr>\n",
       "    <tr>\n",
       "      <th>1</th>\n",
       "      <td>224.986951</td>\n",
       "      <td>224.986951</td>\n",
       "      <td>224.986951</td>\n",
       "      <td>224.986948</td>\n",
       "      <td>224.986935</td>\n",
       "      <td>224.986918</td>\n",
       "      <td>224.986785</td>\n",
       "      <td>224.986619</td>\n",
       "    </tr>\n",
       "    <tr>\n",
       "      <th>2</th>\n",
       "      <td>11321.288507</td>\n",
       "      <td>11321.288507</td>\n",
       "      <td>11321.288511</td>\n",
       "      <td>11321.288553</td>\n",
       "      <td>11321.288743</td>\n",
       "      <td>11321.288979</td>\n",
       "      <td>11321.290871</td>\n",
       "      <td>11321.293236</td>\n",
       "    </tr>\n",
       "  </tbody>\n",
       "</table>\n",
       "</div>"
      ],
      "text/plain": [
       "         0.001         0.001         0.010         0.100         0.500   \\\n",
       "0    424.156818    424.156818    424.156818    424.156824    424.156849   \n",
       "1    224.986951    224.986951    224.986951    224.986948    224.986935   \n",
       "2  11321.288507  11321.288507  11321.288511  11321.288553  11321.288743   \n",
       "\n",
       "         1.000         5.000         10.000  \n",
       "0    424.156881    424.157132    424.157446  \n",
       "1    224.986918    224.986785    224.986619  \n",
       "2  11321.288979  11321.290871  11321.293236  "
      ]
     },
     "execution_count": 226,
     "metadata": {},
     "output_type": "execute_result"
    }
   ],
   "source": [
    "pd.DataFrame(rcv_model.cv_values_, columns=rcv.alphas).head(3)"
   ]
  },
  {
   "cell_type": "code",
   "execution_count": 230,
   "metadata": {
    "collapsed": false
   },
   "outputs": [
    {
     "data": {
      "text/plain": [
       "(269073,)"
      ]
     },
     "execution_count": 230,
     "metadata": {},
     "output_type": "execute_result"
    }
   ],
   "source": [
    "#using cross-val-predict on the ridge model \n",
    "from sklearn.cross_validation import cross_val_predict\n",
    "X = df[[\"Zip Code\", \"State Bottle Retail\", \"Bottles Sold\", \"Bottle Volume (ml)\"]]\n",
    "y = df[\"Sale (Dollars)\"]\n",
    "cvp_lr_preds = cross_val_predict(lm, X, y, cv=5)\n",
    "cvp_lr_preds.shape"
   ]
  },
  {
   "cell_type": "code",
   "execution_count": 231,
   "metadata": {
    "collapsed": false
   },
   "outputs": [
    {
     "data": {
      "text/html": [
       "<div>\n",
       "<table border=\"1\" class=\"dataframe\">\n",
       "  <thead>\n",
       "    <tr style=\"text-align: right;\">\n",
       "      <th></th>\n",
       "      <th>y_hat</th>\n",
       "    </tr>\n",
       "  </thead>\n",
       "  <tbody>\n",
       "    <tr>\n",
       "      <th>0</th>\n",
       "      <td>101.649252</td>\n",
       "    </tr>\n",
       "    <tr>\n",
       "      <th>1</th>\n",
       "      <td>56.038818</td>\n",
       "    </tr>\n",
       "    <tr>\n",
       "      <th>2</th>\n",
       "      <td>346.427435</td>\n",
       "    </tr>\n",
       "  </tbody>\n",
       "</table>\n",
       "</div>"
      ],
      "text/plain": [
       "        y_hat\n",
       "0  101.649252\n",
       "1   56.038818\n",
       "2  346.427435"
      ]
     },
     "execution_count": 231,
     "metadata": {},
     "output_type": "execute_result"
    }
   ],
   "source": [
    "pd.DataFrame(cvp_lr_preds, columns=['y_hat']).head(3)"
   ]
  },
  {
   "cell_type": "code",
   "execution_count": 232,
   "metadata": {
    "collapsed": false
   },
   "outputs": [
    {
     "data": {
      "text/plain": [
       "(269073,)"
      ]
     },
     "execution_count": 232,
     "metadata": {},
     "output_type": "execute_result"
    }
   ],
   "source": [
    "#cross validaton \n",
    "\n",
    "cvp_rcv_preds = cross_val_predict(rcv_model, X, y, cv=5)\n",
    "cvp_rcv_preds.shape"
   ]
  },
  {
   "cell_type": "code",
   "execution_count": 233,
   "metadata": {
    "collapsed": false
   },
   "outputs": [
    {
     "data": {
      "text/html": [
       "<div>\n",
       "<table border=\"1\" class=\"dataframe\">\n",
       "  <thead>\n",
       "    <tr style=\"text-align: right;\">\n",
       "      <th></th>\n",
       "      <th>y_hat</th>\n",
       "    </tr>\n",
       "  </thead>\n",
       "  <tbody>\n",
       "    <tr>\n",
       "      <th>0</th>\n",
       "      <td>101.649240</td>\n",
       "    </tr>\n",
       "    <tr>\n",
       "      <th>1</th>\n",
       "      <td>56.039089</td>\n",
       "    </tr>\n",
       "    <tr>\n",
       "      <th>2</th>\n",
       "      <td>346.427283</td>\n",
       "    </tr>\n",
       "  </tbody>\n",
       "</table>\n",
       "</div>"
      ],
      "text/plain": [
       "        y_hat\n",
       "0  101.649240\n",
       "1   56.039089\n",
       "2  346.427283"
      ]
     },
     "execution_count": 233,
     "metadata": {},
     "output_type": "execute_result"
    }
   ],
   "source": [
    "pd.DataFrame(cvp_rcv_preds, columns=['y_hat']).head(3)"
   ]
  },
  {
   "cell_type": "code",
   "execution_count": 234,
   "metadata": {
    "collapsed": false
   },
   "outputs": [
    {
     "data": {
      "text/plain": [
       "0.71608359224118601"
      ]
     },
     "execution_count": 234,
     "metadata": {},
     "output_type": "execute_result"
    }
   ],
   "source": [
    "cvp_lr_r2 =  r2_score(y_true=y, y_pred=cvp_lr_preds)\n",
    "cvp_lr_r2"
   ]
  },
  {
   "cell_type": "code",
   "execution_count": 235,
   "metadata": {
    "collapsed": false
   },
   "outputs": [
    {
     "data": {
      "text/plain": [
       "0.71608359413191991"
      ]
     },
     "execution_count": 235,
     "metadata": {},
     "output_type": "execute_result"
    }
   ],
   "source": [
    "cvp_rcv_r2 =  r2_score(y_true=y, y_pred=cvp_rcv_preds)\n",
    "cvp_rcv_r2"
   ]
  },
  {
   "cell_type": "markdown",
   "metadata": {},
   "source": [
    "It appears that the r2 value did not improve much after the ridge regularization or after cross validation on the ridge model. "
   ]
  },
  {
   "cell_type": "code",
   "execution_count": 236,
   "metadata": {
    "collapsed": false
   },
   "outputs": [
    {
     "data": {
      "image/png": "[encoded data removed]",
      "text/plain": [
       "<matplotlib.figure.Figure at 0x111b727d0>"
      ]
     },
     "metadata": {},
     "output_type": "display_data"
    }
   ],
   "source": [
    "#plotting the two plots\n",
    "fig, axes = plt.subplots(1,2, figsize=(16,8))\n",
    "\n",
    "axes[0].scatter(cvp_lr_preds, y, c='red')\n",
    "axes[1].scatter(cvp_rcv_preds, y, c='k')\n",
    "\n",
    "axes[0].set_title('Linear Model')\n",
    "axes[0].set_ylabel('Actual')\n",
    "axes[0].set_xlabel('Predicted')\n",
    "\n",
    "axes[1].set_title('Ridge Model')\n",
    "axes[1].set_ylabel('Actual')\n",
    "axes[1].set_xlabel('Predicted');"
   ]
  },
  {
   "cell_type": "markdown",
   "metadata": {
    "collapsed": true
   },
   "source": [
    "# **Summary of Project 3 (Scenario 2)**\n",
    "\n",
    "My model analysis is based on the 10% dataset of the Iowa liquor sales. The original data set is very large so I have chosen to work with 10% of the data set which covers the data from Jan 2015 to March 2016. The data had some missing values which the dataframe interpreted as NaN. I preferred to drop the NaN labels for regression analysis. So there is a possibility of some missing information.\n",
    "\n",
    "\n",
    "The data had 270955 rows and 18 columns. In trying to figure out the columns (variables) that I could use in building the model for the data, it can be observed that:\n",
    "\n",
    "* The data set had many categorical(qualitative) variables (columns)\n",
    "* Some columns (variables) were related to other columns. For e.g.\n",
    "\n",
    "    - \"The State Bottle Retail\" * \"Bottle Sold\" = \"Sale (Dollars)\" \n",
    "    - \"Bottle Volume\" * \"Bottle Sold\" = \"Volume Sold (liters)\" or \"Volume Sold (gallons)\"\n",
    "\n",
    "* \"Item Number\" and \"Item Description\" relate to the same product.\n",
    "* \"Category\" and \"Category Name\" relate to the same item.\n",
    "\n",
    "I have chosen to build the model using quantitative variables. In my model, I have used Sale (Dollars) as the dependent variable and \"State Bottle Retail\", \"Bottle Sold\" and  \"Bottle Volume (lts or gallon)\" as independent variables. I have chosen to include \"Zip Code\" as an independent variable in my model. Including the \"Zip Code\", did increase the r2 value of the model and hence has affected the model fit.\n",
    "\n",
    "**The top five county numbers that had the maximum liquor sales are as follows:**\n",
    "\n",
    "| County Number | Sale (Dollars) | \n",
    "|:-:|---|\n",
    "| 77 | 7.747219e+06 | \n",
    "| 57 | 3.139999e+06 |\n",
    "| 82.0\t| 2.457277e+06 |\n",
    "| 52.0 | 2.077858e+06 | \n",
    "| 7.0 | 1.928017e+06 | \n",
    "\n",
    "From the data analysis, it appears that county number 77 had the maximum liquor sales in dollars followed by county number 57 and 82.\n",
    "\n",
    "The top two Store Number in Iowa that had the maximum liquor sales are 2633 and 4829. They located in county \"Polk\" in county number 77 in the city of Des Moines.\n",
    "\n",
    "\n",
    "**The location of the stores that had the maximum liquor sales can be presented using the following table:**\n",
    "\n",
    "| Sale (Dollars) | Store Number | City | County | County Number |\n",
    "|:-:|---|\n",
    "| 1215399.02 | 2633 | DES MOINES | Polk | 77 |\n",
    "| 1081941.88 | 4829 | DES MOINES | Polk | 77 |\n",
    "| 531684.42\t| 2512 | IOWA CITY | Johnson | 52 | \n",
    "| 504057.23 | 3385 | CEDAR RAPIDS | Linn | 57 |\n",
    "| 398025.24 | 3420 | WINDSOR HEIGHTS | Polk | 77 |\n",
    "  \n",
    "In an attempt to figure out the **city that had the maximum liquor sales in the state of Iowa** the following table would be useful:    \n",
    "\n",
    "| Sale (Dollars) | City | County | County Number |\n",
    "|:-:|---|\n",
    "| 4380886.26 | DES MOINES | Polk | 77 |\n",
    "| 2486949.08 | CEDAR RAPIDS | Linn | 57 |\n",
    "| 1697702.84\t| DAVENPORT | Scott | 82 | \n",
    "| 1250666.19 | IOWA CITY | Johnson | 52 |\n",
    "| 1211603.55 |  WATERLOO | Black Hawk | 7 |\n",
    "| 1200607.02 | SIOUX CITY | Woodbury | 97 |  \n",
    "\n",
    "\n",
    "It can be observed that Des Moines and Cedar Rapids are the two cities in Iowa that had the maximum liquor sales and are located in couty number 77 and 57 respectively. Couty number 77 and 57 were infact the top two counties with respect to maximum liquor sales in Iowa. \n",
    "\n",
    "The cities i.e. Davenport, Iowa City, Waterloo and Sioux City possess the counties that have recorded top liquor sales in State.\n",
    "\n",
    "The following table presents a part of the output table in an effot to present the Cities and Counties that had **the maximum liquor volume sold in gallons and the state bottle retail price** for those locations. \n",
    "\n",
    "| Volume Sold (Gallons) | County Number | City | County | State Bottle Retail |\n",
    "|:-:|---|\n",
    "| 132747.24 | 77 | BONDURANT | Polk  | 17.24 |\n",
    "| 132747.24 | 77 | WEST DES MOINES | Polk  | 39.36 |\n",
    "| 132747.24\t| 77 | GRIMES | Polk  | 16.49 | \n",
    "| 132747.24 | 77 | DES MOINES | Polk  | 9.78 |\n",
    "| 132747.24 | 77 | DES MOINES | Polk  | 7.92 |\n",
    "| 132747.24 | 77 | DES MOINES | Polk  | 24.24 |\n",
    "\n",
    "![](https://dpalit.github.io/images/project3_timeplot77.png)\n",
    "\n",
    "The above plot presents the liquor sale for the state of Iowa.\n",
    "\n",
    "## Regression Analysis\n",
    "\n",
    "A regression model for each county has been done with state bottle retail, volume sold and bottle sold as the independent variable and sale dollars as a dependent variable. The r2 value for county no 99 was 0.98 and the r2 value for county number 77 was 0.77.\n",
    "\n",
    "A regression plot with four variables has been presented below. The r2 value for the model was 0.71\n",
    "\n",
    "![](https://dpalit.github.io/images/project3_regression4.png)\n",
    "\n",
    "![](https://dpalit.github.io/images/project3_predicted_actual.png)\n",
    " \n",
    "I have used the lasso and ridge regularization; however, the r2 value remained nearly the same. After the cross value optimizationnon the lasso model the r2 value of the model increased to 0.77 and that was the best fit that I obtained for the model.\n",
    "\n",
    "## Yearly sales prediction:\n",
    "\n",
    "Based on the regression analysis and after analysis of the tables I would suggest opening stores in County Number 77 (Polk County).\n",
    "County Number 77 had the maximum recorded liquor sales. In order to create a model for county number 77, I have chosen \"Bottles Sold\" and \"Volume Sold (liters)\" as my independent variables and \"Sale (Dollars)\" as my dependent variable.\n",
    "\n",
    "The data for 2015 has been filtered for county number 77 to predict yearly sales. The model has an r2 value of 0.99 which shows that the model has a good fit to the data.\n",
    "\n",
    "I have taken the mean values of the independent variables for each store in an attempt to predict the yealy sales for a possible new store in the county.\n",
    "\n",
    "If we open a store in county number 77, I could predict that the yearly liquor sale for the store would be around 31,003 dollars. The average number of yearly bottles sold for the store could be predicted as  2298. The average volume of liquor sold for the new store has been predicted as 2007 liters. I could predict a price per bottle at the store as = 31003/2298 = 13.49 dollars based on the predictions of my model.\n",
    "\n",
    "![](https://dpalit.github.io/images/project3_timeplotNew.png)\n",
    "\n",
    "The above plot shows the yearly sale in couty number 77. My model predicts a yearly sale of around $31003 for each store which appears to be possible by observing the plot.\n",
    "\n",
    "From all the above analysis, I would highly recommend opening stores in 77 number county in the state of Iowa.\n",
    "\n",
    "\n",
    "\n",
    "\n",
    "\n"
   ]
  },
  {
   "cell_type": "markdown",
   "metadata": {
    "collapsed": true
   },
   "source": [
    "link to the blog url: [Iowa_Liquor_Sales](https://dpalit.github.io/)\n",
    "\n",
    "Alternative link : <a href=\"https://dpalit.github.io/\">Iowa Liquor Sales Data</a>"
   ]
  },
  {
   "cell_type": "code",
   "execution_count": null,
   "metadata": {
    "collapsed": true
   },
   "outputs": [],
   "source": []
  }
 ],
 "metadata": {
  "anaconda-cloud": {},
  "kernelspec": {
   "display_name": "Python [Root]",
   "language": "python",
   "name": "Python [Root]"
  },
  "language_info": {
   "codemirror_mode": {
    "name": "ipython",
    "version": 2
   },
   "file_extension": ".py",
   "mimetype": "text/x-python",
   "name": "python",
   "nbconvert_exporter": "python",
   "pygments_lexer": "ipython2",
   "version": "2.7.12"
  }
 },
 "nbformat": 4,
 "nbformat_minor": 0
}
