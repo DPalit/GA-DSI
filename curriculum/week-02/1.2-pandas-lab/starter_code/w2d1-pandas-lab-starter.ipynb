{
 "cells": [
  {
   "cell_type": "code",
   "execution_count": null,
   "metadata": {
    "collapsed": true
   },
   "outputs": [],
   "source": [
    "# import pandas, matplotlib\n",
    "import pandas as pd\n",
    "import matplotlib.pyplot as plt\n",
    "%matplotlab.inline\n"
   ]
  },
  {
   "cell_type": "code",
   "execution_count": 2,
   "metadata": {
    "collapsed": false
   },
   "outputs": [],
   "source": [
    "# read in the csv from https://raw.githubusercontent.com/fivethirtyeight/data/master/flying-etiquette-survey/flying-etiquette.csv\n",
    "\n",
    "import pandas as pd\n",
    "df = pd.read_csv('https://raw.githubusercontent.com/fivethirtyeight/data/master/flying-etiquette-survey/flying-etiquette.csv')\n"
   ]
  },
  {
   "cell_type": "code",
   "execution_count": 5,
   "metadata": {
    "collapsed": false
   },
   "outputs": [
    {
     "data": {
      "text/html": [
       "<div>\n",
       "<table border=\"1\" class=\"dataframe\">\n",
       "  <thead>\n",
       "    <tr style=\"text-align: right;\">\n",
       "      <th></th>\n",
       "      <th>RespondentID</th>\n",
       "      <th>How often do you travel by plane?</th>\n",
       "      <th>Do you ever recline your seat when you fly?</th>\n",
       "      <th>How tall are you?</th>\n",
       "      <th>Do you have any children under 18?</th>\n",
       "      <th>In a row of three seats, who should get to use the two arm rests?</th>\n",
       "      <th>In a row of two seats, who should get to use the middle arm rest?</th>\n",
       "      <th>Who should have control over the window shade?</th>\n",
       "      <th>Is itrude to move to an unsold seat on a plane?</th>\n",
       "      <th>Generally speaking, is it rude to say more than a few words tothe stranger sitting next to you on a plane?</th>\n",
       "      <th>...</th>\n",
       "      <th>Is itrude to wake a passenger up if you are trying to walk around?</th>\n",
       "      <th>In general, is itrude to bring a baby on a plane?</th>\n",
       "      <th>In general, is it rude to knowingly bring unruly children on a plane?</th>\n",
       "      <th>Have you ever used personal electronics during take off or landing in violation of a flight attendant's direction?</th>\n",
       "      <th>Have you ever smoked a cigarette in an airplane bathroom when it was against the rules?</th>\n",
       "      <th>Gender</th>\n",
       "      <th>Age</th>\n",
       "      <th>Household Income</th>\n",
       "      <th>Education</th>\n",
       "      <th>Location (Census Region)</th>\n",
       "    </tr>\n",
       "  </thead>\n",
       "  <tbody>\n",
       "    <tr>\n",
       "      <th>0</th>\n",
       "      <td>3436139758</td>\n",
       "      <td>Once a year or less</td>\n",
       "      <td>NaN</td>\n",
       "      <td>NaN</td>\n",
       "      <td>NaN</td>\n",
       "      <td>NaN</td>\n",
       "      <td>NaN</td>\n",
       "      <td>NaN</td>\n",
       "      <td>NaN</td>\n",
       "      <td>NaN</td>\n",
       "      <td>...</td>\n",
       "      <td>NaN</td>\n",
       "      <td>NaN</td>\n",
       "      <td>NaN</td>\n",
       "      <td>NaN</td>\n",
       "      <td>NaN</td>\n",
       "      <td>NaN</td>\n",
       "      <td>NaN</td>\n",
       "      <td>NaN</td>\n",
       "      <td>NaN</td>\n",
       "      <td>NaN</td>\n",
       "    </tr>\n",
       "  </tbody>\n",
       "</table>\n",
       "<p>1 rows × 27 columns</p>\n",
       "</div>"
      ],
      "text/plain": [
       "   RespondentID How often do you travel by plane?  \\\n",
       "0    3436139758               Once a year or less   \n",
       "\n",
       "  Do you ever recline your seat when you fly? How tall are you?  \\\n",
       "0                                         NaN               NaN   \n",
       "\n",
       "  Do you have any children under 18?  \\\n",
       "0                                NaN   \n",
       "\n",
       "  In a row of three seats, who should get to use the two arm rests?  \\\n",
       "0                                                NaN                  \n",
       "\n",
       "  In a row of two seats, who should get to use the middle arm rest?  \\\n",
       "0                                                NaN                  \n",
       "\n",
       "  Who should have control over the window shade?  \\\n",
       "0                                            NaN   \n",
       "\n",
       "  Is itrude to move to an unsold seat on a plane?  \\\n",
       "0                                             NaN   \n",
       "\n",
       "  Generally speaking, is it rude to say more than a few words tothe stranger sitting next to you on a plane?  \\\n",
       "0                                                NaN                                                           \n",
       "\n",
       "            ...             \\\n",
       "0           ...              \n",
       "\n",
       "  Is itrude to wake a passenger up if you are trying to walk around?  \\\n",
       "0                                                NaN                   \n",
       "\n",
       "  In general, is itrude to bring a baby on a plane?  \\\n",
       "0                                               NaN   \n",
       "\n",
       "  In general, is it rude to knowingly bring unruly children on a plane?  \\\n",
       "0                                                NaN                      \n",
       "\n",
       "  Have you ever used personal electronics during take off or landing in violation of a flight attendant's direction?  \\\n",
       "0                                                NaN                                                                   \n",
       "\n",
       "  Have you ever smoked a cigarette in an airplane bathroom when it was against the rules?  \\\n",
       "0                                                NaN                                        \n",
       "\n",
       "  Gender  Age Household Income Education Location (Census Region)  \n",
       "0    NaN  NaN              NaN       NaN                      NaN  \n",
       "\n",
       "[1 rows x 27 columns]"
      ]
     },
     "execution_count": 5,
     "metadata": {},
     "output_type": "execute_result"
    }
   ],
   "source": [
    "# view the head\n",
    "df.head(1)"
   ]
  },
  {
   "cell_type": "code",
   "execution_count": 4,
   "metadata": {
    "collapsed": false
   },
   "outputs": [
    {
     "data": {
      "text/plain": [
       "Index([u'RespondentID', u'How often do you travel by plane?',\n",
       "       u'Do you ever recline your seat when you fly?', u'How tall are you?',\n",
       "       u'Do you have any children under 18?',\n",
       "       u'In a row of three seats, who should get to use the two arm rests?',\n",
       "       u'In a row of two seats, who should get to use the middle arm rest?',\n",
       "       u'Who should have control over the window shade?',\n",
       "       u'Is itrude to move to an unsold seat on a plane?',\n",
       "       u'Generally speaking, is it rude to say more than a few words tothe stranger sitting next to you on a plane?',\n",
       "       u'On a 6 hour flight from NYC to LA, how many times is it acceptable to get up if you're not in an aisle seat?',\n",
       "       u'Under normal circumstances, does a person who reclines their seat during a flight have any obligation to the person sitting behind them?',\n",
       "       u'Is itrude to recline your seat on a plane?',\n",
       "       u'Given the opportunity, would you eliminate the possibility of reclining seats on planes entirely?',\n",
       "       u'Is it rude to ask someone to switch seats with you in order to be closer to friends?',\n",
       "       u'Is itrude to ask someone to switch seats with you in order to be closer to family?',\n",
       "       u'Is it rude to wake a passenger up if you are trying to go to the bathroom?',\n",
       "       u'Is itrude to wake a passenger up if you are trying to walk around?',\n",
       "       u'In general, is itrude to bring a baby on a plane?',\n",
       "       u'In general, is it rude to knowingly bring unruly children on a plane?',\n",
       "       u'Have you ever used personal electronics during take off or landing in violation of a flight attendant's direction?',\n",
       "       u'Have you ever smoked a cigarette in an airplane bathroom when it was against the rules?',\n",
       "       u'Gender', u'Age', u'Household Income', u'Education',\n",
       "       u'Location (Census Region)'],\n",
       "      dtype='object')"
      ]
     },
     "execution_count": 4,
     "metadata": {},
     "output_type": "execute_result"
    }
   ],
   "source": [
    "# view the columns - use iteration to print them out\n",
    "df.columns"
   ]
  },
  {
   "cell_type": "code",
   "execution_count": 7,
   "metadata": {
    "collapsed": false
   },
   "outputs": [
    {
     "name": "stdout",
     "output_type": "stream",
     "text": [
      "RespondentID\n",
      "How often do you travel by plane?\n",
      "Do you ever recline your seat when you fly?\n",
      "How tall are you?\n",
      "Do you have any children under 18?\n",
      "In a row of three seats, who should get to use the two arm rests?\n",
      "In a row of two seats, who should get to use the middle arm rest?\n",
      "Who should have control over the window shade?\n",
      "Is itrude to move to an unsold seat on a plane?\n",
      "Generally speaking, is it rude to say more than a few words tothe stranger sitting next to you on a plane?\n",
      "On a 6 hour flight from NYC to LA, how many times is it acceptable to get up if you're not in an aisle seat?\n",
      "Under normal circumstances, does a person who reclines their seat during a flight have any obligation to the person sitting behind them?\n",
      "Is itrude to recline your seat on a plane?\n",
      "Given the opportunity, would you eliminate the possibility of reclining seats on planes entirely?\n",
      "Is it rude to ask someone to switch seats with you in order to be closer to friends?\n",
      "Is itrude to ask someone to switch seats with you in order to be closer to family?\n",
      "Is it rude to wake a passenger up if you are trying to go to the bathroom?\n",
      "Is itrude to wake a passenger up if you are trying to walk around?\n",
      "In general, is itrude to bring a baby on a plane?\n",
      "In general, is it rude to knowingly bring unruly children on a plane?\n",
      "Have you ever used personal electronics during take off or landing in violation of a flight attendant's direction?\n",
      "Have you ever smoked a cigarette in an airplane bathroom when it was against the rules?\n",
      "Gender\n",
      "Age\n",
      "Household Income\n",
      "Education\n",
      "Location (Census Region)\n"
     ]
    }
   ],
   "source": [
    "for c in df.columns:\n",
    "    print c"
   ]
  },
  {
   "cell_type": "code",
   "execution_count": 10,
   "metadata": {
    "collapsed": false
   },
   "outputs": [
    {
     "name": "stdout",
     "output_type": "stream",
     "text": [
      "R\n",
      "H\n",
      "D\n",
      "H\n",
      "D\n",
      "I\n",
      "I\n",
      "W\n",
      "I\n",
      "G\n",
      "O\n",
      "U\n",
      "I\n",
      "G\n",
      "I\n",
      "I\n",
      "I\n",
      "I\n",
      "I\n",
      "I\n",
      "H\n",
      "H\n",
      "G\n",
      "A\n",
      "H\n",
      "E\n",
      "L\n"
     ]
    }
   ],
   "source": [
    "# rename columns with shorter name\n",
    "for c in df.columns:\n",
    "    c = c[0]\n",
    "    print c\n"
   ]
  },
  {
   "cell_type": "code",
   "execution_count": 12,
   "metadata": {
    "collapsed": false
   },
   "outputs": [],
   "source": [
    "df.columns = ['ID', 'travel_freq', 'do_you_recline', 'height', 'have_children','three_seats_arm_rest', 'two_seats_arm_rest', \\\n",
    "             'window_shade', 'unsold_seat', 'rude_to_chat', 'getting_up', 'recline_obligation', 'recline_rude', 'elim_recline',\\\n",
    "             'rude_to_switch_friends', 'rude_to_switch_family','rude_to_wake_bathrm', 'rude_to_wake_walk', 'rude_baby', 'rude_unrly_children', \\\n",
    "             'electronics', 'smoked', 'gender', 'age', 'income', 'edu', 'location']"
   ]
  },
  {
   "cell_type": "code",
   "execution_count": 13,
   "metadata": {
    "collapsed": false
   },
   "outputs": [
    {
     "data": {
      "text/html": [
       "<div>\n",
       "<table border=\"1\" class=\"dataframe\">\n",
       "  <thead>\n",
       "    <tr style=\"text-align: right;\">\n",
       "      <th></th>\n",
       "      <th>ID</th>\n",
       "      <th>travel_freq</th>\n",
       "      <th>do_you_recline</th>\n",
       "      <th>height</th>\n",
       "      <th>have_children</th>\n",
       "      <th>three_seats_arm_rest</th>\n",
       "      <th>two_seats_arm_rest</th>\n",
       "      <th>window_shade</th>\n",
       "      <th>unsold_seat</th>\n",
       "      <th>rude_to_chat</th>\n",
       "      <th>...</th>\n",
       "      <th>rude_to_wake_walk</th>\n",
       "      <th>rude_baby</th>\n",
       "      <th>rude_unrly_children</th>\n",
       "      <th>electronics</th>\n",
       "      <th>smoked</th>\n",
       "      <th>gender</th>\n",
       "      <th>age</th>\n",
       "      <th>income</th>\n",
       "      <th>edu</th>\n",
       "      <th>location</th>\n",
       "    </tr>\n",
       "  </thead>\n",
       "  <tbody>\n",
       "    <tr>\n",
       "      <th>0</th>\n",
       "      <td>3436139758</td>\n",
       "      <td>Once a year or less</td>\n",
       "      <td>NaN</td>\n",
       "      <td>NaN</td>\n",
       "      <td>NaN</td>\n",
       "      <td>NaN</td>\n",
       "      <td>NaN</td>\n",
       "      <td>NaN</td>\n",
       "      <td>NaN</td>\n",
       "      <td>NaN</td>\n",
       "      <td>...</td>\n",
       "      <td>NaN</td>\n",
       "      <td>NaN</td>\n",
       "      <td>NaN</td>\n",
       "      <td>NaN</td>\n",
       "      <td>NaN</td>\n",
       "      <td>NaN</td>\n",
       "      <td>NaN</td>\n",
       "      <td>NaN</td>\n",
       "      <td>NaN</td>\n",
       "      <td>NaN</td>\n",
       "    </tr>\n",
       "    <tr>\n",
       "      <th>1</th>\n",
       "      <td>3434278696</td>\n",
       "      <td>Once a year or less</td>\n",
       "      <td>About half the time</td>\n",
       "      <td>6'3\"</td>\n",
       "      <td>Yes</td>\n",
       "      <td>The arm rests should be shared</td>\n",
       "      <td>The arm rests should be shared</td>\n",
       "      <td>Everyone in the row should have some say</td>\n",
       "      <td>No, not rude at all</td>\n",
       "      <td>No, not at all rude</td>\n",
       "      <td>...</td>\n",
       "      <td>No, not at all rude</td>\n",
       "      <td>No, not at all rude</td>\n",
       "      <td>No, not at all rude</td>\n",
       "      <td>No</td>\n",
       "      <td>No</td>\n",
       "      <td>Male</td>\n",
       "      <td>30-44</td>\n",
       "      <td>NaN</td>\n",
       "      <td>Graduate degree</td>\n",
       "      <td>Pacific</td>\n",
       "    </tr>\n",
       "    <tr>\n",
       "      <th>2</th>\n",
       "      <td>3434275578</td>\n",
       "      <td>Once a year or less</td>\n",
       "      <td>Usually</td>\n",
       "      <td>5'8\"</td>\n",
       "      <td>No</td>\n",
       "      <td>Whoever puts their arm on the arm rest first</td>\n",
       "      <td>The arm rests should be shared</td>\n",
       "      <td>The person in the window seat should have excl...</td>\n",
       "      <td>No, not rude at all</td>\n",
       "      <td>No, not at all rude</td>\n",
       "      <td>...</td>\n",
       "      <td>Yes, somewhat rude</td>\n",
       "      <td>Yes, somewhat rude</td>\n",
       "      <td>Yes, very rude</td>\n",
       "      <td>No</td>\n",
       "      <td>No</td>\n",
       "      <td>Male</td>\n",
       "      <td>30-44</td>\n",
       "      <td>$100,000 - $149,999</td>\n",
       "      <td>Bachelor degree</td>\n",
       "      <td>Pacific</td>\n",
       "    </tr>\n",
       "  </tbody>\n",
       "</table>\n",
       "<p>3 rows × 27 columns</p>\n",
       "</div>"
      ],
      "text/plain": [
       "           ID          travel_freq       do_you_recline height have_children  \\\n",
       "0  3436139758  Once a year or less                  NaN    NaN           NaN   \n",
       "1  3434278696  Once a year or less  About half the time   6'3\"           Yes   \n",
       "2  3434275578  Once a year or less              Usually   5'8\"            No   \n",
       "\n",
       "                           three_seats_arm_rest  \\\n",
       "0                                           NaN   \n",
       "1                The arm rests should be shared   \n",
       "2  Whoever puts their arm on the arm rest first   \n",
       "\n",
       "               two_seats_arm_rest  \\\n",
       "0                             NaN   \n",
       "1  The arm rests should be shared   \n",
       "2  The arm rests should be shared   \n",
       "\n",
       "                                        window_shade          unsold_seat  \\\n",
       "0                                                NaN                  NaN   \n",
       "1           Everyone in the row should have some say  No, not rude at all   \n",
       "2  The person in the window seat should have excl...  No, not rude at all   \n",
       "\n",
       "          rude_to_chat   ...       rude_to_wake_walk            rude_baby  \\\n",
       "0                  NaN   ...                     NaN                  NaN   \n",
       "1  No, not at all rude   ...     No, not at all rude  No, not at all rude   \n",
       "2  No, not at all rude   ...      Yes, somewhat rude   Yes, somewhat rude   \n",
       "\n",
       "   rude_unrly_children electronics smoked gender    age               income  \\\n",
       "0                  NaN         NaN    NaN    NaN    NaN                  NaN   \n",
       "1  No, not at all rude          No     No   Male  30-44                  NaN   \n",
       "2       Yes, very rude          No     No   Male  30-44  $100,000 - $149,999   \n",
       "\n",
       "               edu location  \n",
       "0              NaN      NaN  \n",
       "1  Graduate degree  Pacific  \n",
       "2  Bachelor degree  Pacific  \n",
       "\n",
       "[3 rows x 27 columns]"
      ]
     },
     "execution_count": 13,
     "metadata": {},
     "output_type": "execute_result"
    }
   ],
   "source": [
    "# view head again - now just 3 rows\n",
    "df.head(3)\n"
   ]
  },
  {
   "cell_type": "code",
   "execution_count": 14,
   "metadata": {
    "collapsed": false
   },
   "outputs": [
    {
     "data": {
      "text/html": [
       "<div>\n",
       "<table border=\"1\" class=\"dataframe\">\n",
       "  <thead>\n",
       "    <tr style=\"text-align: right;\">\n",
       "      <th></th>\n",
       "      <th>ID</th>\n",
       "      <th>travel_freq</th>\n",
       "      <th>do_you_recline</th>\n",
       "      <th>height</th>\n",
       "      <th>have_children</th>\n",
       "      <th>three_seats_arm_rest</th>\n",
       "      <th>two_seats_arm_rest</th>\n",
       "      <th>window_shade</th>\n",
       "      <th>unsold_seat</th>\n",
       "      <th>rude_to_chat</th>\n",
       "      <th>...</th>\n",
       "      <th>rude_to_wake_walk</th>\n",
       "      <th>rude_baby</th>\n",
       "      <th>rude_unrly_children</th>\n",
       "      <th>electronics</th>\n",
       "      <th>smoked</th>\n",
       "      <th>gender</th>\n",
       "      <th>age</th>\n",
       "      <th>income</th>\n",
       "      <th>edu</th>\n",
       "      <th>location</th>\n",
       "    </tr>\n",
       "  </thead>\n",
       "  <tbody>\n",
       "    <tr>\n",
       "      <th>1037</th>\n",
       "      <td>3431731485</td>\n",
       "      <td>Never</td>\n",
       "      <td>NaN</td>\n",
       "      <td>NaN</td>\n",
       "      <td>NaN</td>\n",
       "      <td>NaN</td>\n",
       "      <td>NaN</td>\n",
       "      <td>NaN</td>\n",
       "      <td>NaN</td>\n",
       "      <td>NaN</td>\n",
       "      <td>...</td>\n",
       "      <td>NaN</td>\n",
       "      <td>NaN</td>\n",
       "      <td>NaN</td>\n",
       "      <td>NaN</td>\n",
       "      <td>NaN</td>\n",
       "      <td>Female</td>\n",
       "      <td>&gt; 60</td>\n",
       "      <td>NaN</td>\n",
       "      <td>Some college or Associate degree</td>\n",
       "      <td>East North Central</td>\n",
       "    </tr>\n",
       "    <tr>\n",
       "      <th>1038</th>\n",
       "      <td>3431731196</td>\n",
       "      <td>Never</td>\n",
       "      <td>NaN</td>\n",
       "      <td>NaN</td>\n",
       "      <td>NaN</td>\n",
       "      <td>NaN</td>\n",
       "      <td>NaN</td>\n",
       "      <td>NaN</td>\n",
       "      <td>NaN</td>\n",
       "      <td>NaN</td>\n",
       "      <td>...</td>\n",
       "      <td>NaN</td>\n",
       "      <td>NaN</td>\n",
       "      <td>NaN</td>\n",
       "      <td>NaN</td>\n",
       "      <td>NaN</td>\n",
       "      <td>Female</td>\n",
       "      <td>30-44</td>\n",
       "      <td>$50,000 - $99,999</td>\n",
       "      <td>Bachelor degree</td>\n",
       "      <td>New England</td>\n",
       "    </tr>\n",
       "    <tr>\n",
       "      <th>1039</th>\n",
       "      <td>3431729581</td>\n",
       "      <td>Once a year or less</td>\n",
       "      <td>Once in a while</td>\n",
       "      <td>6'3\"</td>\n",
       "      <td>No</td>\n",
       "      <td>The arm rests should be shared</td>\n",
       "      <td>The arm rests should be shared</td>\n",
       "      <td>Everyone in the row should have some say</td>\n",
       "      <td>No, not rude at all</td>\n",
       "      <td>No, not at all rude</td>\n",
       "      <td>...</td>\n",
       "      <td>Yes, somewhat rude</td>\n",
       "      <td>Yes, somewhat rude</td>\n",
       "      <td>Yes, very rude</td>\n",
       "      <td>No</td>\n",
       "      <td>No</td>\n",
       "      <td>Male</td>\n",
       "      <td>&gt; 60</td>\n",
       "      <td>$50,000 - $99,999</td>\n",
       "      <td>Bachelor degree</td>\n",
       "      <td>Pacific</td>\n",
       "    </tr>\n",
       "  </tbody>\n",
       "</table>\n",
       "<p>3 rows × 27 columns</p>\n",
       "</div>"
      ],
      "text/plain": [
       "              ID          travel_freq   do_you_recline height have_children  \\\n",
       "1037  3431731485                Never              NaN    NaN           NaN   \n",
       "1038  3431731196                Never              NaN    NaN           NaN   \n",
       "1039  3431729581  Once a year or less  Once in a while   6'3\"            No   \n",
       "\n",
       "                three_seats_arm_rest              two_seats_arm_rest  \\\n",
       "1037                             NaN                             NaN   \n",
       "1038                             NaN                             NaN   \n",
       "1039  The arm rests should be shared  The arm rests should be shared   \n",
       "\n",
       "                                  window_shade          unsold_seat  \\\n",
       "1037                                       NaN                  NaN   \n",
       "1038                                       NaN                  NaN   \n",
       "1039  Everyone in the row should have some say  No, not rude at all   \n",
       "\n",
       "             rude_to_chat         ...           rude_to_wake_walk  \\\n",
       "1037                  NaN         ...                         NaN   \n",
       "1038                  NaN         ...                         NaN   \n",
       "1039  No, not at all rude         ...          Yes, somewhat rude   \n",
       "\n",
       "               rude_baby rude_unrly_children electronics smoked  gender  \\\n",
       "1037                 NaN                 NaN         NaN    NaN  Female   \n",
       "1038                 NaN                 NaN         NaN    NaN  Female   \n",
       "1039  Yes, somewhat rude      Yes, very rude          No     No    Male   \n",
       "\n",
       "        age             income                               edu  \\\n",
       "1037   > 60                NaN  Some college or Associate degree   \n",
       "1038  30-44  $50,000 - $99,999                   Bachelor degree   \n",
       "1039   > 60  $50,000 - $99,999                   Bachelor degree   \n",
       "\n",
       "                location  \n",
       "1037  East North Central  \n",
       "1038         New England  \n",
       "1039             Pacific  \n",
       "\n",
       "[3 rows x 27 columns]"
      ]
     },
     "execution_count": 14,
     "metadata": {},
     "output_type": "execute_result"
    }
   ],
   "source": [
    "# view the last 3 rows\n",
    "\n",
    "df.tail(3)"
   ]
  },
  {
   "cell_type": "code",
   "execution_count": 16,
   "metadata": {
    "collapsed": false,
    "scrolled": true
   },
   "outputs": [
    {
     "name": "stdout",
     "output_type": "stream",
     "text": [
      "<class 'pandas.core.frame.DataFrame'>\n",
      "RangeIndex: 1040 entries, 0 to 1039\n",
      "Data columns (total 27 columns):\n",
      "ID                        1040 non-null int64\n",
      "travel_freq               1040 non-null object\n",
      "do_you_recline            858 non-null object\n",
      "height                    858 non-null object\n",
      "have_children             851 non-null object\n",
      "three_seats_arm_rest      856 non-null object\n",
      "two_seats_arm_rest        856 non-null object\n",
      "window_shade              856 non-null object\n",
      "unsold_seat               855 non-null object\n",
      "rude_to_chat              855 non-null object\n",
      "getting_up                855 non-null object\n",
      "recline_obligation        854 non-null object\n",
      "recline_rude              854 non-null object\n",
      "elim_recline              854 non-null object\n",
      "rude_to_switch_friends    850 non-null object\n",
      "rude_to_switch_family     850 non-null object\n",
      "rude_to_wake_bathrm       850 non-null object\n",
      "rude_to_wake_walk         850 non-null object\n",
      "rude_baby                 849 non-null object\n",
      "rude_unrly_children       849 non-null object\n",
      "electronics               849 non-null object\n",
      "smoked                    849 non-null object\n",
      "gender                    1007 non-null object\n",
      "age                       1007 non-null object\n",
      "income                    826 non-null object\n",
      "edu                       1001 non-null object\n",
      "location                  998 non-null object\n",
      "dtypes: int64(1), object(26)\n",
      "memory usage: 219.4+ KB\n"
     ]
    }
   ],
   "source": [
    "# check the data type of the DataFrame\n",
    "\n",
    "df.info()"
   ]
  },
  {
   "cell_type": "code",
   "execution_count": 18,
   "metadata": {
    "collapsed": false
   },
   "outputs": [
    {
     "data": {
      "text/plain": [
       "array(['Once a year or less', 'Once a month or less', 'Never',\n",
       "       'A few times per week', 'Every day', 'A few times per month'], dtype=object)"
      ]
     },
     "execution_count": 18,
     "metadata": {},
     "output_type": "execute_result"
    }
   ],
   "source": [
    "# How many unique travel frequencies are there? What are they?\n",
    "df['travel_freq'].unique()\n"
   ]
  },
  {
   "cell_type": "code",
   "execution_count": 19,
   "metadata": {
    "collapsed": false
   },
   "outputs": [
    {
     "data": {
      "text/plain": [
       "6"
      ]
     },
     "execution_count": 19,
     "metadata": {},
     "output_type": "execute_result"
    }
   ],
   "source": [
    "\n",
    "df['travel_freq'].nunique()"
   ]
  },
  {
   "cell_type": "code",
   "execution_count": 20,
   "metadata": {
    "collapsed": false
   },
   "outputs": [
    {
     "data": {
      "text/plain": [
       "array([nan, 'Pacific', 'East North Central', 'New England', 'Mountain',\n",
       "       'South Atlantic', 'East South Central', 'Middle Atlantic',\n",
       "       'West North Central', 'West South Central'], dtype=object)"
      ]
     },
     "execution_count": 20,
     "metadata": {},
     "output_type": "execute_result"
    }
   ],
   "source": [
    "# How many unique regions are there? What are they?\n",
    "df['location'].unique()\n"
   ]
  },
  {
   "cell_type": "code",
   "execution_count": 21,
   "metadata": {
    "collapsed": false
   },
   "outputs": [
    {
     "data": {
      "text/plain": [
       "9"
      ]
     },
     "execution_count": 21,
     "metadata": {},
     "output_type": "execute_result"
    }
   ],
   "source": [
    "df['location'].nunique()"
   ]
  },
  {
   "cell_type": "code",
   "execution_count": 27,
   "metadata": {
    "collapsed": false
   },
   "outputs": [
    {
     "name": "stdout",
     "output_type": "stream",
     "text": [
      "              ID height have_children    age               income  \\\n",
      "0     3436139758    NaN           NaN    NaN                  NaN   \n",
      "1     3434278696   6'3\"           Yes  30-44                  NaN   \n",
      "2     3434275578   5'8\"            No  30-44  $100,000 - $149,999   \n",
      "3     3434268208  5'11\"            No  30-44         $0 - $24,999   \n",
      "4     3434250245   5'7\"            No  30-44    $50,000 - $99,999   \n",
      "5     3434245875   5'9\"           Yes  30-44    $25,000 - $49,999   \n",
      "6     3434235351   6'2\"           Yes  30-44               150000   \n",
      "7     3434218031   6'0\"           Yes  30-44         $0 - $24,999   \n",
      "8     3434213681   6'0\"           Yes    NaN                  NaN   \n",
      "9     3434172894   5'6\"            No  30-44         $0 - $24,999   \n",
      "10    3434165659   6'0\"            No  30-44    $50,000 - $99,999   \n",
      "11    3434164339    NaN           NaN    NaN                  NaN   \n",
      "12    3434161941   5'7\"           NaN    NaN                  NaN   \n",
      "13    3434155493    NaN           NaN  30-44  $100,000 - $149,999   \n",
      "14    3434132453    NaN           NaN  18-29                  NaN   \n",
      "15    3434131535   6'0\"            No  18-29               150000   \n",
      "16    3434125180    NaN           NaN    NaN                  NaN   \n",
      "17    3434122066   5'8\"           Yes  30-44  $100,000 - $149,999   \n",
      "18    3434114105   6'1\"            No  30-44               150000   \n",
      "19    3434109246    NaN           NaN    NaN                  NaN   \n",
      "20    3434107997  5'10\"            No  18-29    $25,000 - $49,999   \n",
      "21    3434100967   5'7\"            No  30-44         $0 - $24,999   \n",
      "22    3434087928    NaN           NaN  18-29    $50,000 - $99,999   \n",
      "23    3434084098    NaN           NaN  18-29         $0 - $24,999   \n",
      "24    3434071488    NaN           NaN  18-29    $50,000 - $99,999   \n",
      "25    3434061256    NaN           NaN  30-44                  NaN   \n",
      "26    3434059758    NaN           NaN  18-29    $50,000 - $99,999   \n",
      "27    3434052290   6'0\"            No  30-44    $25,000 - $49,999   \n",
      "28    3434049700   6'2\"            No  18-29    $50,000 - $99,999   \n",
      "29    3434041278   5'6\"            No  30-44               150000   \n",
      "...          ...    ...           ...    ...                  ...   \n",
      "1010  3431751287   5'1\"            No  45-60         $0 - $24,999   \n",
      "1011  3431751153   5'2\"            No  18-29         $0 - $24,999   \n",
      "1012  3431751080   6'5\"            No  18-29    $25,000 - $49,999   \n",
      "1013  3431748816   5'2\"            No  45-60                  NaN   \n",
      "1014  3431748763   5'5\"            No   > 60    $25,000 - $49,999   \n",
      "1015  3431748698  5'10\"           Yes  45-60               150000   \n",
      "1016  3431747718   5'2\"            No  18-29    $25,000 - $49,999   \n",
      "1017  3431746726   5'4\"            No  45-60    $50,000 - $99,999   \n",
      "1018  3431745079    NaN           NaN   > 60                  NaN   \n",
      "1019  3431744747   5'8\"            No   > 60               150000   \n",
      "1020  3431744533   5'4\"           Yes  30-44                  NaN   \n",
      "1021  3431744015    NaN           NaN   > 60                  NaN   \n",
      "1022  3431743115   6'0\"            No  45-60  $100,000 - $149,999   \n",
      "1023  3431741243  5'10\"            No  18-29         $0 - $24,999   \n",
      "1024  3431740654   5'6\"            No   > 60    $50,000 - $99,999   \n",
      "1025  3431738966   5'4\"            No  45-60               150000   \n",
      "1026  3431737634   5'6\"            No  18-29                  NaN   \n",
      "1027  3431737213   5'8\"            No  45-60               150000   \n",
      "1028  3431737008   5'4\"            No   > 60    $50,000 - $99,999   \n",
      "1029  3431736876   5'4\"            No  18-29                  NaN   \n",
      "1030  3431736855    NaN           NaN  30-44         $0 - $24,999   \n",
      "1031  3431736438    NaN           NaN  30-44    $25,000 - $49,999   \n",
      "1032  3431735911   5'3\"            No  30-44               150000   \n",
      "1033  3431734973    NaN           NaN  18-29         $0 - $24,999   \n",
      "1034  3431734398   6'1\"           Yes  30-44               150000   \n",
      "1035  3431732652   5'7\"            No  30-44         $0 - $24,999   \n",
      "1036  3431731770    NaN           NaN  45-60               150000   \n",
      "1037  3431731485    NaN           NaN   > 60                  NaN   \n",
      "1038  3431731196    NaN           NaN  30-44    $50,000 - $99,999   \n",
      "1039  3431729581   6'3\"            No   > 60    $50,000 - $99,999   \n",
      "\n",
      "                                   edu            location  \n",
      "0                                  NaN                 NaN  \n",
      "1                      Graduate degree             Pacific  \n",
      "2                      Bachelor degree             Pacific  \n",
      "3                      Bachelor degree             Pacific  \n",
      "4                      Bachelor degree             Pacific  \n",
      "5                      Graduate degree  East North Central  \n",
      "6     Some college or Associate degree             Pacific  \n",
      "7                      Bachelor degree         New England  \n",
      "8                                  NaN                 NaN  \n",
      "9                      Bachelor degree             Pacific  \n",
      "10                  High school degree            Mountain  \n",
      "11                                 NaN                 NaN  \n",
      "12                                 NaN                 NaN  \n",
      "13    Some college or Associate degree             Pacific  \n",
      "14                  High school degree      South Atlantic  \n",
      "15    Some college or Associate degree  East South Central  \n",
      "16                                 NaN                 NaN  \n",
      "17    Some college or Associate degree     Middle Atlantic  \n",
      "18                     Bachelor degree  West North Central  \n",
      "19                                 NaN                 NaN  \n",
      "20                     Bachelor degree      South Atlantic  \n",
      "21                     Bachelor degree  East North Central  \n",
      "22                     Bachelor degree  East North Central  \n",
      "23    Some college or Associate degree  East North Central  \n",
      "24                     Bachelor degree             Pacific  \n",
      "25                  High school degree     Middle Atlantic  \n",
      "26                     Bachelor degree             Pacific  \n",
      "27                     Bachelor degree  East North Central  \n",
      "28    Some college or Associate degree  West South Central  \n",
      "29    Some college or Associate degree             Pacific  \n",
      "...                                ...                 ...  \n",
      "1010                   Graduate degree             Pacific  \n",
      "1011                   Graduate degree             Pacific  \n",
      "1012  Some college or Associate degree  East North Central  \n",
      "1013  Some college or Associate degree     Middle Atlantic  \n",
      "1014  Some college or Associate degree             Pacific  \n",
      "1015                   Graduate degree            Mountain  \n",
      "1016  Some college or Associate degree            Mountain  \n",
      "1017                   Bachelor degree             Pacific  \n",
      "1018                   Bachelor degree     Middle Atlantic  \n",
      "1019                   Graduate degree             Pacific  \n",
      "1020                   Graduate degree             Pacific  \n",
      "1021  Some college or Associate degree  West South Central  \n",
      "1022                   Bachelor degree  West North Central  \n",
      "1023  Some college or Associate degree             Pacific  \n",
      "1024                   Bachelor degree  West North Central  \n",
      "1025  Some college or Associate degree             Pacific  \n",
      "1026  Some college or Associate degree  West South Central  \n",
      "1027                   Graduate degree             Pacific  \n",
      "1028                   Graduate degree  West North Central  \n",
      "1029                   Bachelor degree  East North Central  \n",
      "1030                   Bachelor degree             Pacific  \n",
      "1031  Some college or Associate degree  East South Central  \n",
      "1032                High school degree     Middle Atlantic  \n",
      "1033  Some college or Associate degree  West South Central  \n",
      "1034                   Graduate degree             Pacific  \n",
      "1035  Some college or Associate degree  East North Central  \n",
      "1036                   Bachelor degree             Pacific  \n",
      "1037  Some college or Associate degree  East North Central  \n",
      "1038                   Bachelor degree         New England  \n",
      "1039                   Bachelor degree             Pacific  \n",
      "\n",
      "[1040 rows x 7 columns]\n"
     ]
    }
   ],
   "source": [
    "# Select just those columns that relate to the personal characteristics of the person\n",
    "# Save that as a DataFrame name char\n",
    "\n",
    "char = df[['ID', 'height', 'have_children', 'age', 'income', 'edu', 'location']]\n",
    "print char"
   ]
  },
  {
   "cell_type": "code",
   "execution_count": null,
   "metadata": {
    "collapsed": false,
    "scrolled": true
   },
   "outputs": [],
   "source": []
  },
  {
   "cell_type": "code",
   "execution_count": 35,
   "metadata": {
    "collapsed": false,
    "scrolled": true
   },
   "outputs": [
    {
     "name": "stderr",
     "output_type": "stream",
     "text": [
      "ERROR: Line magic function `%matplotlab.inline` not found.\n"
     ]
    },
    {
     "ename": "TypeError",
     "evalue": "cannot concatenate 'str' and 'float' objects",
     "output_type": "error",
     "traceback": [
      "\u001b[0;31m---------------------------------------------------------------------------\u001b[0m",
      "\u001b[0;31mTypeError\u001b[0m                                 Traceback (most recent call last)",
      "\u001b[0;32m<ipython-input-35-fc1147aae88f>\u001b[0m in \u001b[0;36m<module>\u001b[0;34m()\u001b[0m\n\u001b[1;32m      8\u001b[0m \u001b[0mchar\u001b[0m \u001b[0;34m=\u001b[0m \u001b[0mdf\u001b[0m\u001b[0;34m[\u001b[0m\u001b[0;34m[\u001b[0m\u001b[0;34m'ID'\u001b[0m\u001b[0;34m,\u001b[0m \u001b[0;34m'height'\u001b[0m\u001b[0;34m,\u001b[0m \u001b[0;34m'have_children'\u001b[0m\u001b[0;34m,\u001b[0m \u001b[0;34m'age'\u001b[0m\u001b[0;34m,\u001b[0m \u001b[0;34m'income'\u001b[0m\u001b[0;34m,\u001b[0m \u001b[0;34m'edu'\u001b[0m\u001b[0;34m,\u001b[0m \u001b[0;34m'location'\u001b[0m\u001b[0;34m]\u001b[0m\u001b[0;34m]\u001b[0m\u001b[0;34m\u001b[0m\u001b[0m\n\u001b[1;32m      9\u001b[0m \u001b[0;34m\u001b[0m\u001b[0m\n\u001b[0;32m---> 10\u001b[0;31m \u001b[0mplt\u001b[0m\u001b[0;34m.\u001b[0m\u001b[0mhist\u001b[0m\u001b[0;34m(\u001b[0m\u001b[0mchar\u001b[0m\u001b[0;34m[\u001b[0m\u001b[0;34m'height'\u001b[0m\u001b[0;34m]\u001b[0m\u001b[0;34m)\u001b[0m\u001b[0;34m\u001b[0m\u001b[0m\n\u001b[0m",
      "\u001b[0;32m//anaconda/lib/python2.7/site-packages/matplotlib/pyplot.pyc\u001b[0m in \u001b[0;36mhist\u001b[0;34m(x, bins, range, normed, weights, cumulative, bottom, histtype, align, orientation, rwidth, log, color, label, stacked, hold, data, **kwargs)\u001b[0m\n\u001b[1;32m   2956\u001b[0m                       \u001b[0mhisttype\u001b[0m\u001b[0;34m=\u001b[0m\u001b[0mhisttype\u001b[0m\u001b[0;34m,\u001b[0m \u001b[0malign\u001b[0m\u001b[0;34m=\u001b[0m\u001b[0malign\u001b[0m\u001b[0;34m,\u001b[0m \u001b[0morientation\u001b[0m\u001b[0;34m=\u001b[0m\u001b[0morientation\u001b[0m\u001b[0;34m,\u001b[0m\u001b[0;34m\u001b[0m\u001b[0m\n\u001b[1;32m   2957\u001b[0m                       \u001b[0mrwidth\u001b[0m\u001b[0;34m=\u001b[0m\u001b[0mrwidth\u001b[0m\u001b[0;34m,\u001b[0m \u001b[0mlog\u001b[0m\u001b[0;34m=\u001b[0m\u001b[0mlog\u001b[0m\u001b[0;34m,\u001b[0m \u001b[0mcolor\u001b[0m\u001b[0;34m=\u001b[0m\u001b[0mcolor\u001b[0m\u001b[0;34m,\u001b[0m \u001b[0mlabel\u001b[0m\u001b[0;34m=\u001b[0m\u001b[0mlabel\u001b[0m\u001b[0;34m,\u001b[0m\u001b[0;34m\u001b[0m\u001b[0m\n\u001b[0;32m-> 2958\u001b[0;31m                       stacked=stacked, data=data, **kwargs)\n\u001b[0m\u001b[1;32m   2959\u001b[0m     \u001b[0;32mfinally\u001b[0m\u001b[0;34m:\u001b[0m\u001b[0;34m\u001b[0m\u001b[0m\n\u001b[1;32m   2960\u001b[0m         \u001b[0max\u001b[0m\u001b[0;34m.\u001b[0m\u001b[0mhold\u001b[0m\u001b[0;34m(\u001b[0m\u001b[0mwashold\u001b[0m\u001b[0;34m)\u001b[0m\u001b[0;34m\u001b[0m\u001b[0m\n",
      "\u001b[0;32m//anaconda/lib/python2.7/site-packages/matplotlib/__init__.pyc\u001b[0m in \u001b[0;36minner\u001b[0;34m(ax, *args, **kwargs)\u001b[0m\n\u001b[1;32m   1810\u001b[0m                     warnings.warn(msg % (label_namer, func.__name__),\n\u001b[1;32m   1811\u001b[0m                                   RuntimeWarning, stacklevel=2)\n\u001b[0;32m-> 1812\u001b[0;31m             \u001b[0;32mreturn\u001b[0m \u001b[0mfunc\u001b[0m\u001b[0;34m(\u001b[0m\u001b[0max\u001b[0m\u001b[0;34m,\u001b[0m \u001b[0;34m*\u001b[0m\u001b[0margs\u001b[0m\u001b[0;34m,\u001b[0m \u001b[0;34m**\u001b[0m\u001b[0mkwargs\u001b[0m\u001b[0;34m)\u001b[0m\u001b[0;34m\u001b[0m\u001b[0m\n\u001b[0m\u001b[1;32m   1813\u001b[0m         \u001b[0mpre_doc\u001b[0m \u001b[0;34m=\u001b[0m \u001b[0minner\u001b[0m\u001b[0;34m.\u001b[0m\u001b[0m__doc__\u001b[0m\u001b[0;34m\u001b[0m\u001b[0m\n\u001b[1;32m   1814\u001b[0m         \u001b[0;32mif\u001b[0m \u001b[0mpre_doc\u001b[0m \u001b[0;32mis\u001b[0m \u001b[0mNone\u001b[0m\u001b[0;34m:\u001b[0m\u001b[0;34m\u001b[0m\u001b[0m\n",
      "\u001b[0;32m//anaconda/lib/python2.7/site-packages/matplotlib/axes/_axes.pyc\u001b[0m in \u001b[0;36mhist\u001b[0;34m(self, x, bins, range, normed, weights, cumulative, bottom, histtype, align, orientation, rwidth, log, color, label, stacked, **kwargs)\u001b[0m\n\u001b[1;32m   6008\u001b[0m             \u001b[0;31m# this will automatically overwrite bins,\u001b[0m\u001b[0;34m\u001b[0m\u001b[0;34m\u001b[0m\u001b[0m\n\u001b[1;32m   6009\u001b[0m             \u001b[0;31m# so that each histogram uses the same bins\u001b[0m\u001b[0;34m\u001b[0m\u001b[0;34m\u001b[0m\u001b[0m\n\u001b[0;32m-> 6010\u001b[0;31m             \u001b[0mm\u001b[0m\u001b[0;34m,\u001b[0m \u001b[0mbins\u001b[0m \u001b[0;34m=\u001b[0m \u001b[0mnp\u001b[0m\u001b[0;34m.\u001b[0m\u001b[0mhistogram\u001b[0m\u001b[0;34m(\u001b[0m\u001b[0mx\u001b[0m\u001b[0;34m[\u001b[0m\u001b[0mi\u001b[0m\u001b[0;34m]\u001b[0m\u001b[0;34m,\u001b[0m \u001b[0mbins\u001b[0m\u001b[0;34m,\u001b[0m \u001b[0mweights\u001b[0m\u001b[0;34m=\u001b[0m\u001b[0mw\u001b[0m\u001b[0;34m[\u001b[0m\u001b[0mi\u001b[0m\u001b[0;34m]\u001b[0m\u001b[0;34m,\u001b[0m \u001b[0;34m**\u001b[0m\u001b[0mhist_kwargs\u001b[0m\u001b[0;34m)\u001b[0m\u001b[0;34m\u001b[0m\u001b[0m\n\u001b[0m\u001b[1;32m   6011\u001b[0m             \u001b[0mm\u001b[0m \u001b[0;34m=\u001b[0m \u001b[0mm\u001b[0m\u001b[0;34m.\u001b[0m\u001b[0mastype\u001b[0m\u001b[0;34m(\u001b[0m\u001b[0mfloat\u001b[0m\u001b[0;34m)\u001b[0m  \u001b[0;31m# causes problems later if it's an int\u001b[0m\u001b[0;34m\u001b[0m\u001b[0m\n\u001b[1;32m   6012\u001b[0m             \u001b[0;32mif\u001b[0m \u001b[0mmlast\u001b[0m \u001b[0;32mis\u001b[0m \u001b[0mNone\u001b[0m\u001b[0;34m:\u001b[0m\u001b[0;34m\u001b[0m\u001b[0m\n",
      "\u001b[0;32m//anaconda/lib/python2.7/site-packages/numpy/lib/function_base.pyc\u001b[0m in \u001b[0;36mhistogram\u001b[0;34m(a, bins, range, normed, weights, density)\u001b[0m\n\u001b[1;32m    497\u001b[0m             \u001b[0mmn\u001b[0m\u001b[0;34m,\u001b[0m \u001b[0mmx\u001b[0m \u001b[0;34m=\u001b[0m \u001b[0ma\u001b[0m\u001b[0;34m.\u001b[0m\u001b[0mmin\u001b[0m\u001b[0;34m(\u001b[0m\u001b[0;34m)\u001b[0m \u001b[0;34m+\u001b[0m \u001b[0;36m0.0\u001b[0m\u001b[0;34m,\u001b[0m \u001b[0ma\u001b[0m\u001b[0;34m.\u001b[0m\u001b[0mmax\u001b[0m\u001b[0;34m(\u001b[0m\u001b[0;34m)\u001b[0m \u001b[0;34m+\u001b[0m \u001b[0;36m0.0\u001b[0m\u001b[0;34m\u001b[0m\u001b[0m\n\u001b[1;32m    498\u001b[0m     \u001b[0;32melse\u001b[0m\u001b[0;34m:\u001b[0m\u001b[0;34m\u001b[0m\u001b[0m\n\u001b[0;32m--> 499\u001b[0;31m         \u001b[0mmn\u001b[0m\u001b[0;34m,\u001b[0m \u001b[0mmx\u001b[0m \u001b[0;34m=\u001b[0m \u001b[0;34m[\u001b[0m\u001b[0mmi\u001b[0m \u001b[0;34m+\u001b[0m \u001b[0;36m0.0\u001b[0m \u001b[0;32mfor\u001b[0m \u001b[0mmi\u001b[0m \u001b[0;32min\u001b[0m \u001b[0mrange\u001b[0m\u001b[0;34m]\u001b[0m\u001b[0;34m\u001b[0m\u001b[0m\n\u001b[0m\u001b[1;32m    500\u001b[0m     \u001b[0;32mif\u001b[0m \u001b[0mmn\u001b[0m \u001b[0;34m>\u001b[0m \u001b[0mmx\u001b[0m\u001b[0;34m:\u001b[0m\u001b[0;34m\u001b[0m\u001b[0m\n\u001b[1;32m    501\u001b[0m         raise ValueError(\n",
      "\u001b[0;31mTypeError\u001b[0m: cannot concatenate 'str' and 'float' objects"
     ]
    }
   ],
   "source": [
    "# From the new char DataFrame, select the height. Can you create a histogram?\n",
    "\n",
    "import pandas as pd\n",
    "import matplotlib.pyplot as plt\n",
    "\n",
    "%matplotlab.inline\n",
    "\n",
    "char = df[['ID', 'height', 'have_children', 'age', 'income', 'edu', 'location']]\n",
    "\n",
    "plt.hist(char['height'])\n"
   ]
  },
  {
   "cell_type": "code",
   "execution_count": null,
   "metadata": {
    "collapsed": false,
    "scrolled": true
   },
   "outputs": [],
   "source": [
    "# Create a histogram by creating a list comprehension + a function to turn the data into inches\n"
   ]
  },
  {
   "cell_type": "code",
   "execution_count": null,
   "metadata": {
    "collapsed": false
   },
   "outputs": [],
   "source": []
  },
  {
   "cell_type": "code",
   "execution_count": null,
   "metadata": {
    "collapsed": false,
    "scrolled": true
   },
   "outputs": [],
   "source": [
    "# Slice the first 3 columns using .iloc notation, then use the double bracket notation\n",
    "\n"
   ]
  },
  {
   "cell_type": "code",
   "execution_count": null,
   "metadata": {
    "collapsed": false,
    "scrolled": true
   },
   "outputs": [],
   "source": []
  },
  {
   "cell_type": "code",
   "execution_count": null,
   "metadata": {
    "collapsed": false
   },
   "outputs": [],
   "source": [
    "## Create a dictionary using .unique and a dictionary comprehension\n",
    "## Then use a list comprehension with a function to update the count the number of degrees\n",
    "## How many degreee of each type are there?\n",
    "\n"
   ]
  },
  {
   "cell_type": "code",
   "execution_count": null,
   "metadata": {
    "collapsed": false
   },
   "outputs": [],
   "source": []
  },
  {
   "cell_type": "code",
   "execution_count": null,
   "metadata": {
    "collapsed": false
   },
   "outputs": [],
   "source": []
  },
  {
   "cell_type": "code",
   "execution_count": null,
   "metadata": {
    "collapsed": false
   },
   "outputs": [],
   "source": [
    "# Now use the education column with the .value_counts() method to check your work. Are they the same?\n",
    "\n"
   ]
  },
  {
   "cell_type": "code",
   "execution_count": null,
   "metadata": {
    "collapsed": true
   },
   "outputs": [],
   "source": []
  }
 ],
 "metadata": {
  "anaconda-cloud": {},
  "kernelspec": {
   "display_name": "Python [Root]",
   "language": "python",
   "name": "Python [Root]"
  },
  "language_info": {
   "codemirror_mode": {
    "name": "ipython",
    "version": 2
   },
   "file_extension": ".py",
   "mimetype": "text/x-python",
   "name": "python",
   "nbconvert_exporter": "python",
   "pygments_lexer": "ipython2",
   "version": "2.7.12"
  }
 },
 "nbformat": 4,
 "nbformat_minor": 0
}
