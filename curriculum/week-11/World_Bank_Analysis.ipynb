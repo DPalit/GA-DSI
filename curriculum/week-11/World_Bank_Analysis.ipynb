{
 "cells": [
  {
   "cell_type": "code",
   "execution_count": 1,
   "metadata": {
    "collapsed": true
   },
   "outputs": [],
   "source": [
    "import pandas as pd\n",
    "import numpy as np\n"
   ]
  },
  {
   "cell_type": "code",
   "execution_count": 7,
   "metadata": {
    "collapsed": false
   },
   "outputs": [],
   "source": [
    "df = pd.read_csv(\"/Users/Debjani/Documents/Dataset-Table 1.csv\")"
   ]
  },
  {
   "cell_type": "code",
   "execution_count": 8,
   "metadata": {
    "collapsed": false
   },
   "outputs": [
    {
     "data": {
      "text/html": [
       "<div>\n",
       "<table border=\"1\" class=\"dataframe\">\n",
       "  <thead>\n",
       "    <tr style=\"text-align: right;\">\n",
       "      <th></th>\n",
       "      <th>id</th>\n",
       "      <th>period</th>\n",
       "      <th>source_code</th>\n",
       "      <th>source_name</th>\n",
       "      <th>source_region</th>\n",
       "      <th>source_income</th>\n",
       "      <th>source_lending</th>\n",
       "      <th>source_G8G20</th>\n",
       "      <th>destination_code</th>\n",
       "      <th>destination_name</th>\n",
       "      <th>...</th>\n",
       "      <th>cc2 lcu fx rate</th>\n",
       "      <th>cc2 fx margin</th>\n",
       "      <th>cc2 total cost %</th>\n",
       "      <th>inter lcu bank fx</th>\n",
       "      <th>transparent</th>\n",
       "      <th>note1</th>\n",
       "      <th>note2</th>\n",
       "      <th>coverage</th>\n",
       "      <th>pick-up method</th>\n",
       "      <th>date</th>\n",
       "    </tr>\n",
       "  </thead>\n",
       "  <tbody>\n",
       "    <tr>\n",
       "      <th>0</th>\n",
       "      <td>13123</td>\n",
       "      <td>2011_1Q</td>\n",
       "      <td>AUS</td>\n",
       "      <td>Australia</td>\n",
       "      <td>..</td>\n",
       "      <td>High income: OECD</td>\n",
       "      <td>..</td>\n",
       "      <td>G20</td>\n",
       "      <td>FJI</td>\n",
       "      <td>Fiji</td>\n",
       "      <td>...</td>\n",
       "      <td>1.770000</td>\n",
       "      <td>3.29</td>\n",
       "      <td>5.29</td>\n",
       "      <td>1.83024</td>\n",
       "      <td>yes</td>\n",
       "      <td>NaN</td>\n",
       "      <td>NaN</td>\n",
       "      <td>Nationwide</td>\n",
       "      <td>Cash</td>\n",
       "      <td>24/Jan/2011</td>\n",
       "    </tr>\n",
       "    <tr>\n",
       "      <th>1</th>\n",
       "      <td>13129</td>\n",
       "      <td>2011_1Q</td>\n",
       "      <td>AUS</td>\n",
       "      <td>Australia</td>\n",
       "      <td>..</td>\n",
       "      <td>High income: OECD</td>\n",
       "      <td>..</td>\n",
       "      <td>G20</td>\n",
       "      <td>FJI</td>\n",
       "      <td>Fiji</td>\n",
       "      <td>...</td>\n",
       "      <td>1.767737</td>\n",
       "      <td>3.42</td>\n",
       "      <td>5.82</td>\n",
       "      <td>1.83024</td>\n",
       "      <td>yes</td>\n",
       "      <td>NaN</td>\n",
       "      <td>NaN</td>\n",
       "      <td>Nationwide</td>\n",
       "      <td>Cash</td>\n",
       "      <td>24/Jan/2011</td>\n",
       "    </tr>\n",
       "    <tr>\n",
       "      <th>2</th>\n",
       "      <td>13128</td>\n",
       "      <td>2011_1Q</td>\n",
       "      <td>AUS</td>\n",
       "      <td>Australia</td>\n",
       "      <td>..</td>\n",
       "      <td>High income: OECD</td>\n",
       "      <td>..</td>\n",
       "      <td>G20</td>\n",
       "      <td>FJI</td>\n",
       "      <td>Fiji</td>\n",
       "      <td>...</td>\n",
       "      <td>1.750000</td>\n",
       "      <td>4.38</td>\n",
       "      <td>7.38</td>\n",
       "      <td>1.83024</td>\n",
       "      <td>yes</td>\n",
       "      <td>NaN</td>\n",
       "      <td>NaN</td>\n",
       "      <td>Nationwide</td>\n",
       "      <td>Cash</td>\n",
       "      <td>24/Jan/2011</td>\n",
       "    </tr>\n",
       "  </tbody>\n",
       "</table>\n",
       "<p>3 rows × 40 columns</p>\n",
       "</div>"
      ],
      "text/plain": [
       "      id   period source_code source_name source_region      source_income  \\\n",
       "0  13123  2011_1Q         AUS   Australia            ..  High income: OECD   \n",
       "1  13129  2011_1Q         AUS   Australia            ..  High income: OECD   \n",
       "2  13128  2011_1Q         AUS   Australia            ..  High income: OECD   \n",
       "\n",
       "  source_lending source_G8G20 destination_code destination_name     ...       \\\n",
       "0             ..          G20              FJI             Fiji     ...        \n",
       "1             ..          G20              FJI             Fiji     ...        \n",
       "2             ..          G20              FJI             Fiji     ...        \n",
       "\n",
       "  cc2 lcu fx rate cc2 fx margin cc2 total cost % inter lcu bank fx  \\\n",
       "0        1.770000          3.29             5.29           1.83024   \n",
       "1        1.767737          3.42             5.82           1.83024   \n",
       "2        1.750000          4.38             7.38           1.83024   \n",
       "\n",
       "  transparent note1 note2    coverage pick-up method         date  \n",
       "0         yes   NaN   NaN  Nationwide           Cash  24/Jan/2011  \n",
       "1         yes   NaN   NaN  Nationwide           Cash  24/Jan/2011  \n",
       "2         yes   NaN   NaN  Nationwide           Cash  24/Jan/2011  \n",
       "\n",
       "[3 rows x 40 columns]"
      ]
     },
     "execution_count": 8,
     "metadata": {},
     "output_type": "execute_result"
    }
   ],
   "source": [
    "df.head(3)"
   ]
  },
  {
   "cell_type": "code",
   "execution_count": 9,
   "metadata": {
    "collapsed": false
   },
   "outputs": [
    {
     "data": {
      "text/plain": [
       "(39853, 40)"
      ]
     },
     "execution_count": 9,
     "metadata": {},
     "output_type": "execute_result"
    }
   ],
   "source": [
    "df.shape"
   ]
  },
  {
   "cell_type": "code",
   "execution_count": 10,
   "metadata": {
    "collapsed": false
   },
   "outputs": [
    {
     "data": {
      "text/plain": [
       "Index([u'id', u'period', u'source_code', u'source_name', u'source_region',\n",
       "       u'source_income', u'source_lending', u'source_G8G20',\n",
       "       u'destination_code', u'destination_name', u'destination_region',\n",
       "       u'destination_income', u'destination_lending', u'destination_G8G20',\n",
       "       u'firm', u'firm_type', u'product', u'sending location', u'speed actual',\n",
       "       u'cc1 lcu amount', u'cc1 denomination amount', u'cc1 lcu code',\n",
       "       u'cc1 lcu fee', u'cc1 lcu fx rate', u'cc1 fx margin',\n",
       "       u'cc1 total cost %', u'cc2 lcu amount', u'cc2 denomination amount',\n",
       "       u'cc2 lcu code', u'cc2 lcu fee', u'cc2 lcu fx rate', u'cc2 fx margin',\n",
       "       u'cc2 total cost %', u'inter lcu bank fx', u'transparent', u'note1',\n",
       "       u'note2', u'coverage', u'pick-up method', u'date'],\n",
       "      dtype='object')"
      ]
     },
     "execution_count": 10,
     "metadata": {},
     "output_type": "execute_result"
    }
   ],
   "source": [
    "df.columns\n"
   ]
  },
  {
   "cell_type": "code",
   "execution_count": null,
   "metadata": {
    "collapsed": true
   },
   "outputs": [],
   "source": [
    "\n",
    "%matplotlib inline\n",
    "df['Date'] = pd.to_datetime(df['Date'])\n",
    "ad = df.groupby(df['Date'])['Sale (Dollars)'].sum().to_frame()\n",
    "ad.plot() "
   ]
  },
  {
   "cell_type": "code",
   "execution_count": 11,
   "metadata": {
    "collapsed": true
   },
   "outputs": [],
   "source": [
    "df1 = df.drop(['id', 'period', 'source_code', 'source_region', 'source_income', 'source_lending',\\\n",
    "              'source_G8G20', 'destination_code', 'destination_region', 'destination_income',\\\n",
    "              'destination_lending', 'destination_G8G20', 'firm', 'sending location', 'speed actual',\\\n",
    "              'cc1 lcu amount', 'cc1 denomination amount', 'cc1 lcu code', 'cc1 lcu fee',\\\n",
    "              'cc1 lcu fx rate', 'cc1 fx margin', 'cc2 lcu amount', 'cc2 denomination amount',\\\n",
    "              'cc2 lcu code', 'cc2 lcu fee', 'cc2 lcu fx rate', 'cc2 fx margin', 'inter lcu bank fx',\\\n",
    "              'transparent', 'note1', 'note2', 'coverage', 'date'], axis = 1)"
   ]
  },
  {
   "cell_type": "code",
   "execution_count": 12,
   "metadata": {
    "collapsed": false
   },
   "outputs": [
    {
     "name": "stdout",
     "output_type": "stream",
     "text": [
      "  source_name destination_name                firm_type       product  \\\n",
      "0   Australia             Fiji  Money Transfer Operator  Cash to cash   \n",
      "1   Australia             Fiji  Money Transfer Operator  Cash to cash   \n",
      "2   Australia             Fiji  Money Transfer Operator  Cash to cash   \n",
      "\n",
      "   cc1 total cost %  cc2 total cost % pick-up method  \n",
      "0              8.79              5.29           Cash  \n",
      "1              9.42              5.82           Cash  \n",
      "2             11.88              7.38           Cash  \n"
     ]
    }
   ],
   "source": [
    "print df1.head(3)"
   ]
  },
  {
   "cell_type": "code",
   "execution_count": 23,
   "metadata": {
    "collapsed": false
   },
   "outputs": [
    {
     "data": {
      "text/plain": [
       "(39853, 7)"
      ]
     },
     "execution_count": 23,
     "metadata": {},
     "output_type": "execute_result"
    }
   ],
   "source": [
    "df1.shape"
   ]
  },
  {
   "cell_type": "code",
   "execution_count": 25,
   "metadata": {
    "collapsed": false
   },
   "outputs": [
    {
     "data": {
      "text/plain": [
       "['source_name',\n",
       " 'destination_name',\n",
       " 'firm_type',\n",
       " 'product',\n",
       " 'cc1 total cost %',\n",
       " 'cc2 total cost %',\n",
       " 'pick-up method']"
      ]
     },
     "execution_count": 25,
     "metadata": {},
     "output_type": "execute_result"
    }
   ],
   "source": [
    "list(df1.columns)"
   ]
  },
  {
   "cell_type": "code",
   "execution_count": 14,
   "metadata": {
    "collapsed": false
   },
   "outputs": [
    {
     "data": {
      "text/plain": [
       "32"
      ]
     },
     "execution_count": 14,
     "metadata": {},
     "output_type": "execute_result"
    }
   ],
   "source": [
    "df1['source_name'].nunique()\n"
   ]
  },
  {
   "cell_type": "code",
   "execution_count": 15,
   "metadata": {
    "collapsed": false
   },
   "outputs": [
    {
     "data": {
      "text/plain": [
       "'United States'"
      ]
     },
     "execution_count": 15,
     "metadata": {},
     "output_type": "execute_result"
    }
   ],
   "source": [
    "df1['source_name'].max()"
   ]
  },
  {
   "cell_type": "markdown",
   "metadata": {},
   "source": [
    "Money has been remitted from 32 different nations of which the United States had the maximum number of remittance."
   ]
  },
  {
   "cell_type": "code",
   "execution_count": 16,
   "metadata": {
    "collapsed": false
   },
   "outputs": [
    {
     "data": {
      "text/plain": [
       "93"
      ]
     },
     "execution_count": 16,
     "metadata": {},
     "output_type": "execute_result"
    }
   ],
   "source": [
    "df1['destination_name'].nunique()"
   ]
  },
  {
   "cell_type": "code",
   "execution_count": 17,
   "metadata": {
    "collapsed": false
   },
   "outputs": [
    {
     "data": {
      "text/plain": [
       "'Zimbabwe'"
      ]
     },
     "execution_count": 17,
     "metadata": {},
     "output_type": "execute_result"
    }
   ],
   "source": [
    "df1['destination_name'].max()"
   ]
  },
  {
   "cell_type": "markdown",
   "metadata": {},
   "source": [
    "Money has been remitted to 93 different nations and maximum number of remittance has occured to Zimbabwe."
   ]
  },
  {
   "cell_type": "code",
   "execution_count": 18,
   "metadata": {
    "collapsed": false
   },
   "outputs": [
    {
     "data": {
      "text/plain": [
       "9"
      ]
     },
     "execution_count": 18,
     "metadata": {},
     "output_type": "execute_result"
    }
   ],
   "source": [
    "df1['firm_type'].nunique()"
   ]
  },
  {
   "cell_type": "code",
   "execution_count": 19,
   "metadata": {
    "collapsed": false
   },
   "outputs": [
    {
     "data": {
      "text/plain": [
       "'Post office'"
      ]
     },
     "execution_count": 19,
     "metadata": {},
     "output_type": "execute_result"
    }
   ],
   "source": [
    "df1['firm_type'].max()"
   ]
  },
  {
   "cell_type": "markdown",
   "metadata": {},
   "source": [
    "Nine different types of remittance service was used of which the 'Post Office' has been used the maximum number of times"
   ]
  },
  {
   "cell_type": "code",
   "execution_count": 22,
   "metadata": {
    "collapsed": false
   },
   "outputs": [
    {
     "data": {
      "text/plain": [
       "array(['Cash to cash', 'Online service', 'Account to account',\n",
       "       'Cash to account', 'Account to account (other bank)',\n",
       "       'Account to cash', 'Door to door', 'Prepaid card', 'Mobile',\n",
       "       'USD service', nan, 'Credit/debit card service',\n",
       "       'Account to account (same bank)', 'Cash to account (same bank)',\n",
       "       'EUR service', 'JPY service', 'GBP service', 'LCU service',\n",
       "       'Door to account', 'Account,Cash to cash',\n",
       "       'Account,Card,Cash to cash',\n",
       "       'Cash to cash,Credit/debit card service',\n",
       "       'Cash to account (other bank)', 'Online to cash', 'Bank account',\n",
       "       'Home delivery', 'Cash,Cash to account', 'Account,Account to cash',\n",
       "       'Account to account (same bank),Cash',\n",
       "       'Cash,Cash to account (same bank)', 'Account,Cash to account',\n",
       "       'Account to account,Cash to cash', 'Cash', 'Bank account,Card',\n",
       "       'Account to account,Door to door', 'Card,Cash to cash'], dtype=object)"
      ]
     },
     "execution_count": 22,
     "metadata": {},
     "output_type": "execute_result"
    }
   ],
   "source": [
    "df1['product'].unique()"
   ]
  },
  {
   "cell_type": "code",
   "execution_count": 20,
   "metadata": {
    "collapsed": false
   },
   "outputs": [
    {
     "data": {
      "text/plain": [
       "35"
      ]
     },
     "execution_count": 20,
     "metadata": {},
     "output_type": "execute_result"
    }
   ],
   "source": [
    "df1['product'].nunique()"
   ]
  },
  {
   "cell_type": "code",
   "execution_count": 21,
   "metadata": {
    "collapsed": false
   },
   "outputs": [
    {
     "data": {
      "text/plain": [
       "'USD service'"
      ]
     },
     "execution_count": 21,
     "metadata": {},
     "output_type": "execute_result"
    }
   ],
   "source": [
    "df1['product'].max()"
   ]
  },
  {
   "cell_type": "markdown",
   "metadata": {},
   "source": [
    "It can be observed above that USD service product was offered the most."
   ]
  },
  {
   "cell_type": "code",
   "execution_count": 26,
   "metadata": {
    "collapsed": false
   },
   "outputs": [
    {
     "name": "stdout",
     "output_type": "stream",
     "text": [
      "29\n",
      "own/partner Bank Account\n"
     ]
    }
   ],
   "source": [
    "print df1['pick-up method'].nunique()\n",
    "\n",
    "print df1['pick-up method'].max()"
   ]
  },
  {
   "cell_type": "markdown",
   "metadata": {},
   "source": [
    "There were 29 different types of pick-up methods in the distanation country of which owner/partner Bank Account transfer was used the most."
   ]
  },
  {
   "cell_type": "code",
   "execution_count": 29,
   "metadata": {
    "collapsed": false
   },
   "outputs": [
    {
     "data": {
      "text/plain": [
       "<matplotlib.axes._subplots.AxesSubplot at 0x113f0fa90>"
      ]
     },
     "execution_count": 29,
     "metadata": {},
     "output_type": "execute_result"
    },
    {
     "data": {
      "image/png": "[encoded data removed]",
      "text/plain": [
       "<matplotlib.figure.Figure at 0x115bd8810>"
      ]
     },
     "metadata": {},
     "output_type": "display_data"
    }
   ],
   "source": [
    "%matplotlib inline\n",
    "import matplotlib.pyplot as plt\n",
    "plt.style.use('fivethirtyeight')\n",
    "\n",
    "df1.plot(x='cc2 total cost %', y='cc1 total cost %', kind='scatter', color='dodgerblue', figsize=(7,7))"
   ]
  },
  {
   "cell_type": "markdown",
   "metadata": {},
   "source": [
    "It can be observed above that when cc2 increases cc1 also increase. There is a linear co-relation between the two variables."
   ]
  },
  {
   "cell_type": "code",
   "execution_count": 66,
   "metadata": {
    "collapsed": true
   },
   "outputs": [],
   "source": [
    "df2 = df.drop(['id', 'period', 'source_code', 'source_region', 'source_income', 'source_lending',\\\n",
    "              'source_G8G20', 'destination_code', 'destination_region', 'destination_income',\\\n",
    "              'destination_lending', 'destination_G8G20', 'firm', 'sending location', 'speed actual',\\\n",
    "              'cc1 lcu amount', 'cc1 denomination amount', 'cc1 lcu code',\\\n",
    "              'cc2 lcu amount', 'cc2 denomination amount',\\\n",
    "              'cc2 lcu code', 'inter lcu bank fx',\\\n",
    "              'transparent', 'note1', 'note2', 'coverage', 'date'], axis = 1)"
   ]
  },
  {
   "cell_type": "code",
   "execution_count": 67,
   "metadata": {
    "collapsed": false
   },
   "outputs": [
    {
     "data": {
      "text/html": [
       "<div>\n",
       "<table border=\"1\" class=\"dataframe\">\n",
       "  <thead>\n",
       "    <tr style=\"text-align: right;\">\n",
       "      <th></th>\n",
       "      <th>source_name</th>\n",
       "      <th>destination_name</th>\n",
       "      <th>firm_type</th>\n",
       "      <th>product</th>\n",
       "      <th>cc1 lcu fee</th>\n",
       "      <th>cc1 lcu fx rate</th>\n",
       "      <th>cc1 fx margin</th>\n",
       "      <th>cc1 total cost %</th>\n",
       "      <th>cc2 lcu fee</th>\n",
       "      <th>cc2 lcu fx rate</th>\n",
       "      <th>cc2 fx margin</th>\n",
       "      <th>cc2 total cost %</th>\n",
       "      <th>pick-up method</th>\n",
       "    </tr>\n",
       "  </thead>\n",
       "  <tbody>\n",
       "    <tr>\n",
       "      <th>0</th>\n",
       "      <td>Australia</td>\n",
       "      <td>Fiji</td>\n",
       "      <td>Money Transfer Operator</td>\n",
       "      <td>Cash to cash</td>\n",
       "      <td>11.0</td>\n",
       "      <td>1.770000</td>\n",
       "      <td>3.29</td>\n",
       "      <td>8.79</td>\n",
       "      <td>10.0</td>\n",
       "      <td>1.770000</td>\n",
       "      <td>3.29</td>\n",
       "      <td>5.29</td>\n",
       "      <td>Cash</td>\n",
       "    </tr>\n",
       "    <tr>\n",
       "      <th>1</th>\n",
       "      <td>Australia</td>\n",
       "      <td>Fiji</td>\n",
       "      <td>Money Transfer Operator</td>\n",
       "      <td>Cash to cash</td>\n",
       "      <td>12.0</td>\n",
       "      <td>1.767737</td>\n",
       "      <td>3.42</td>\n",
       "      <td>9.42</td>\n",
       "      <td>12.0</td>\n",
       "      <td>1.767737</td>\n",
       "      <td>3.42</td>\n",
       "      <td>5.82</td>\n",
       "      <td>Cash</td>\n",
       "    </tr>\n",
       "    <tr>\n",
       "      <th>2</th>\n",
       "      <td>Australia</td>\n",
       "      <td>Fiji</td>\n",
       "      <td>Money Transfer Operator</td>\n",
       "      <td>Cash to cash</td>\n",
       "      <td>15.0</td>\n",
       "      <td>1.750000</td>\n",
       "      <td>4.38</td>\n",
       "      <td>11.88</td>\n",
       "      <td>15.0</td>\n",
       "      <td>1.750000</td>\n",
       "      <td>4.38</td>\n",
       "      <td>7.38</td>\n",
       "      <td>Cash</td>\n",
       "    </tr>\n",
       "    <tr>\n",
       "      <th>3</th>\n",
       "      <td>Australia</td>\n",
       "      <td>Fiji</td>\n",
       "      <td>Bank</td>\n",
       "      <td>Online service</td>\n",
       "      <td>20.0</td>\n",
       "      <td>1.791400</td>\n",
       "      <td>2.12</td>\n",
       "      <td>12.12</td>\n",
       "      <td>20.0</td>\n",
       "      <td>1.791400</td>\n",
       "      <td>2.12</td>\n",
       "      <td>6.12</td>\n",
       "      <td>Bank Account</td>\n",
       "    </tr>\n",
       "    <tr>\n",
       "      <th>4</th>\n",
       "      <td>Australia</td>\n",
       "      <td>Fiji</td>\n",
       "      <td>Bank</td>\n",
       "      <td>Online service</td>\n",
       "      <td>20.0</td>\n",
       "      <td>1.764200</td>\n",
       "      <td>3.61</td>\n",
       "      <td>13.61</td>\n",
       "      <td>20.0</td>\n",
       "      <td>1.764200</td>\n",
       "      <td>3.61</td>\n",
       "      <td>7.61</td>\n",
       "      <td>Bank Account</td>\n",
       "    </tr>\n",
       "  </tbody>\n",
       "</table>\n",
       "</div>"
      ],
      "text/plain": [
       "  source_name destination_name                firm_type         product  \\\n",
       "0   Australia             Fiji  Money Transfer Operator    Cash to cash   \n",
       "1   Australia             Fiji  Money Transfer Operator    Cash to cash   \n",
       "2   Australia             Fiji  Money Transfer Operator    Cash to cash   \n",
       "3   Australia             Fiji                     Bank  Online service   \n",
       "4   Australia             Fiji                     Bank  Online service   \n",
       "\n",
       "   cc1 lcu fee  cc1 lcu fx rate  cc1 fx margin  cc1 total cost %  cc2 lcu fee  \\\n",
       "0         11.0         1.770000           3.29              8.79         10.0   \n",
       "1         12.0         1.767737           3.42              9.42         12.0   \n",
       "2         15.0         1.750000           4.38             11.88         15.0   \n",
       "3         20.0         1.791400           2.12             12.12         20.0   \n",
       "4         20.0         1.764200           3.61             13.61         20.0   \n",
       "\n",
       "   cc2 lcu fx rate  cc2 fx margin  cc2 total cost % pick-up method  \n",
       "0         1.770000           3.29              5.29           Cash  \n",
       "1         1.767737           3.42              5.82           Cash  \n",
       "2         1.750000           4.38              7.38           Cash  \n",
       "3         1.791400           2.12              6.12   Bank Account  \n",
       "4         1.764200           3.61              7.61   Bank Account  "
      ]
     },
     "execution_count": 67,
     "metadata": {},
     "output_type": "execute_result"
    }
   ],
   "source": [
    "df2.head()"
   ]
  },
  {
   "cell_type": "code",
   "execution_count": 68,
   "metadata": {
    "collapsed": false
   },
   "outputs": [
    {
     "data": {
      "text/plain": [
       "['source_name',\n",
       " 'destination_name',\n",
       " 'firm_type',\n",
       " 'product',\n",
       " 'cc1 lcu fee',\n",
       " 'cc1 lcu fx rate',\n",
       " 'cc1 fx margin',\n",
       " 'cc1 total cost %',\n",
       " 'cc2 lcu fee',\n",
       " 'cc2 lcu fx rate',\n",
       " 'cc2 fx margin',\n",
       " 'cc2 total cost %',\n",
       " 'pick-up method']"
      ]
     },
     "execution_count": 68,
     "metadata": {},
     "output_type": "execute_result"
    }
   ],
   "source": [
    "list(df2.columns)"
   ]
  },
  {
   "cell_type": "code",
   "execution_count": 69,
   "metadata": {
    "collapsed": false
   },
   "outputs": [],
   "source": [
    "df2['total_fee'] = df2['cc1 lcu fee'] + df2['cc2 lcu fee']"
   ]
  },
  {
   "cell_type": "code",
   "execution_count": 45,
   "metadata": {
    "collapsed": true
   },
   "outputs": [],
   "source": [
    "#df2['total_cost']= df2['cc1 total cost %'] + df2['cc2 total cost %']"
   ]
  },
  {
   "cell_type": "code",
   "execution_count": 70,
   "metadata": {
    "collapsed": true
   },
   "outputs": [],
   "source": [
    "df2['total_rate'] = df2['cc1 lcu fx rate'] + df2['cc2 lcu fx rate']"
   ]
  },
  {
   "cell_type": "code",
   "execution_count": 71,
   "metadata": {
    "collapsed": true
   },
   "outputs": [],
   "source": [
    "df2['total_margin'] = df2['cc1 fx margin'] + df2['cc2 fx margin']"
   ]
  },
  {
   "cell_type": "code",
   "execution_count": 73,
   "metadata": {
    "collapsed": true
   },
   "outputs": [],
   "source": [
    "df2['total_cost']= df2['cc1 total cost %'] + df2['cc2 total cost %']"
   ]
  },
  {
   "cell_type": "code",
   "execution_count": 74,
   "metadata": {
    "collapsed": false
   },
   "outputs": [
    {
     "data": {
      "text/html": [
       "<div>\n",
       "<table border=\"1\" class=\"dataframe\">\n",
       "  <thead>\n",
       "    <tr style=\"text-align: right;\">\n",
       "      <th></th>\n",
       "      <th>source_name</th>\n",
       "      <th>destination_name</th>\n",
       "      <th>firm_type</th>\n",
       "      <th>product</th>\n",
       "      <th>cc1 lcu fee</th>\n",
       "      <th>cc1 lcu fx rate</th>\n",
       "      <th>cc1 fx margin</th>\n",
       "      <th>cc1 total cost %</th>\n",
       "      <th>cc2 lcu fee</th>\n",
       "      <th>cc2 lcu fx rate</th>\n",
       "      <th>cc2 fx margin</th>\n",
       "      <th>cc2 total cost %</th>\n",
       "      <th>pick-up method</th>\n",
       "      <th>total_fee</th>\n",
       "      <th>total_rate</th>\n",
       "      <th>total_margin</th>\n",
       "      <th>total_cost</th>\n",
       "    </tr>\n",
       "  </thead>\n",
       "  <tbody>\n",
       "    <tr>\n",
       "      <th>0</th>\n",
       "      <td>Australia</td>\n",
       "      <td>Fiji</td>\n",
       "      <td>Money Transfer Operator</td>\n",
       "      <td>Cash to cash</td>\n",
       "      <td>11.0</td>\n",
       "      <td>1.770000</td>\n",
       "      <td>3.29</td>\n",
       "      <td>8.79</td>\n",
       "      <td>10.0</td>\n",
       "      <td>1.770000</td>\n",
       "      <td>3.29</td>\n",
       "      <td>5.29</td>\n",
       "      <td>Cash</td>\n",
       "      <td>21.0</td>\n",
       "      <td>3.540000</td>\n",
       "      <td>6.58</td>\n",
       "      <td>14.08</td>\n",
       "    </tr>\n",
       "    <tr>\n",
       "      <th>1</th>\n",
       "      <td>Australia</td>\n",
       "      <td>Fiji</td>\n",
       "      <td>Money Transfer Operator</td>\n",
       "      <td>Cash to cash</td>\n",
       "      <td>12.0</td>\n",
       "      <td>1.767737</td>\n",
       "      <td>3.42</td>\n",
       "      <td>9.42</td>\n",
       "      <td>12.0</td>\n",
       "      <td>1.767737</td>\n",
       "      <td>3.42</td>\n",
       "      <td>5.82</td>\n",
       "      <td>Cash</td>\n",
       "      <td>24.0</td>\n",
       "      <td>3.535474</td>\n",
       "      <td>6.84</td>\n",
       "      <td>15.24</td>\n",
       "    </tr>\n",
       "    <tr>\n",
       "      <th>2</th>\n",
       "      <td>Australia</td>\n",
       "      <td>Fiji</td>\n",
       "      <td>Money Transfer Operator</td>\n",
       "      <td>Cash to cash</td>\n",
       "      <td>15.0</td>\n",
       "      <td>1.750000</td>\n",
       "      <td>4.38</td>\n",
       "      <td>11.88</td>\n",
       "      <td>15.0</td>\n",
       "      <td>1.750000</td>\n",
       "      <td>4.38</td>\n",
       "      <td>7.38</td>\n",
       "      <td>Cash</td>\n",
       "      <td>30.0</td>\n",
       "      <td>3.500000</td>\n",
       "      <td>8.76</td>\n",
       "      <td>19.26</td>\n",
       "    </tr>\n",
       "    <tr>\n",
       "      <th>3</th>\n",
       "      <td>Australia</td>\n",
       "      <td>Fiji</td>\n",
       "      <td>Bank</td>\n",
       "      <td>Online service</td>\n",
       "      <td>20.0</td>\n",
       "      <td>1.791400</td>\n",
       "      <td>2.12</td>\n",
       "      <td>12.12</td>\n",
       "      <td>20.0</td>\n",
       "      <td>1.791400</td>\n",
       "      <td>2.12</td>\n",
       "      <td>6.12</td>\n",
       "      <td>Bank Account</td>\n",
       "      <td>40.0</td>\n",
       "      <td>3.582800</td>\n",
       "      <td>4.24</td>\n",
       "      <td>18.24</td>\n",
       "    </tr>\n",
       "    <tr>\n",
       "      <th>4</th>\n",
       "      <td>Australia</td>\n",
       "      <td>Fiji</td>\n",
       "      <td>Bank</td>\n",
       "      <td>Online service</td>\n",
       "      <td>20.0</td>\n",
       "      <td>1.764200</td>\n",
       "      <td>3.61</td>\n",
       "      <td>13.61</td>\n",
       "      <td>20.0</td>\n",
       "      <td>1.764200</td>\n",
       "      <td>3.61</td>\n",
       "      <td>7.61</td>\n",
       "      <td>Bank Account</td>\n",
       "      <td>40.0</td>\n",
       "      <td>3.528400</td>\n",
       "      <td>7.22</td>\n",
       "      <td>21.22</td>\n",
       "    </tr>\n",
       "  </tbody>\n",
       "</table>\n",
       "</div>"
      ],
      "text/plain": [
       "  source_name destination_name                firm_type         product  \\\n",
       "0   Australia             Fiji  Money Transfer Operator    Cash to cash   \n",
       "1   Australia             Fiji  Money Transfer Operator    Cash to cash   \n",
       "2   Australia             Fiji  Money Transfer Operator    Cash to cash   \n",
       "3   Australia             Fiji                     Bank  Online service   \n",
       "4   Australia             Fiji                     Bank  Online service   \n",
       "\n",
       "   cc1 lcu fee  cc1 lcu fx rate  cc1 fx margin  cc1 total cost %  cc2 lcu fee  \\\n",
       "0         11.0         1.770000           3.29              8.79         10.0   \n",
       "1         12.0         1.767737           3.42              9.42         12.0   \n",
       "2         15.0         1.750000           4.38             11.88         15.0   \n",
       "3         20.0         1.791400           2.12             12.12         20.0   \n",
       "4         20.0         1.764200           3.61             13.61         20.0   \n",
       "\n",
       "   cc2 lcu fx rate  cc2 fx margin  cc2 total cost % pick-up method  total_fee  \\\n",
       "0         1.770000           3.29              5.29           Cash       21.0   \n",
       "1         1.767737           3.42              5.82           Cash       24.0   \n",
       "2         1.750000           4.38              7.38           Cash       30.0   \n",
       "3         1.791400           2.12              6.12   Bank Account       40.0   \n",
       "4         1.764200           3.61              7.61   Bank Account       40.0   \n",
       "\n",
       "   total_rate  total_margin  total_cost  \n",
       "0    3.540000          6.58       14.08  \n",
       "1    3.535474          6.84       15.24  \n",
       "2    3.500000          8.76       19.26  \n",
       "3    3.582800          4.24       18.24  \n",
       "4    3.528400          7.22       21.22  "
      ]
     },
     "execution_count": 74,
     "metadata": {},
     "output_type": "execute_result"
    }
   ],
   "source": [
    "df2.head()"
   ]
  },
  {
   "cell_type": "code",
   "execution_count": 49,
   "metadata": {
    "collapsed": false
   },
   "outputs": [
    {
     "data": {
      "text/plain": [
       "['source_name',\n",
       " 'destination_name',\n",
       " 'firm_type',\n",
       " 'product',\n",
       " 'cc1 lcu fee',\n",
       " 'cc1 lcu fx rate',\n",
       " 'cc1 fx margin',\n",
       " 'cc1 total cost %',\n",
       " 'cc2 lcu fee',\n",
       " 'cc2 lcu fx rate',\n",
       " 'cc2 fx margin',\n",
       " 'cc2 total cost %',\n",
       " 'pick-up method',\n",
       " 'total_cost',\n",
       " 'total_fee',\n",
       " 'total_rate',\n",
       " 'total_margin']"
      ]
     },
     "execution_count": 49,
     "metadata": {},
     "output_type": "execute_result"
    }
   ],
   "source": [
    "list(df2.columns)"
   ]
  },
  {
   "cell_type": "code",
   "execution_count": 75,
   "metadata": {
    "collapsed": true
   },
   "outputs": [],
   "source": [
    "df3= df2.drop(['cc1 lcu fee', 'cc2 lcu fee', 'cc1 lcu fx rate', 'cc2 lcu fx rate',\\\n",
    "               'cc1 fx margin', 'cc2 fx margin', 'cc1 total cost %', 'cc2 total cost %' ], axis = 1)"
   ]
  },
  {
   "cell_type": "code",
   "execution_count": 82,
   "metadata": {
    "collapsed": true
   },
   "outputs": [],
   "source": [
    "df3 = df3.reset_index(drop=True)\n"
   ]
  },
  {
   "cell_type": "code",
   "execution_count": 83,
   "metadata": {
    "collapsed": false
   },
   "outputs": [
    {
     "data": {
      "text/html": [
       "<div>\n",
       "<table border=\"1\" class=\"dataframe\">\n",
       "  <thead>\n",
       "    <tr style=\"text-align: right;\">\n",
       "      <th></th>\n",
       "      <th>source_name</th>\n",
       "      <th>destination_name</th>\n",
       "      <th>firm_type</th>\n",
       "      <th>product</th>\n",
       "      <th>pick-up method</th>\n",
       "      <th>total_fee</th>\n",
       "      <th>total_rate</th>\n",
       "      <th>total_margin</th>\n",
       "      <th>total_cost</th>\n",
       "    </tr>\n",
       "  </thead>\n",
       "  <tbody>\n",
       "    <tr>\n",
       "      <th>0</th>\n",
       "      <td>0</td>\n",
       "      <td>25</td>\n",
       "      <td>4</td>\n",
       "      <td>19</td>\n",
       "      <td>9</td>\n",
       "      <td>21.0</td>\n",
       "      <td>3.540000</td>\n",
       "      <td>6.58</td>\n",
       "      <td>14.08</td>\n",
       "    </tr>\n",
       "    <tr>\n",
       "      <th>1</th>\n",
       "      <td>0</td>\n",
       "      <td>25</td>\n",
       "      <td>4</td>\n",
       "      <td>19</td>\n",
       "      <td>9</td>\n",
       "      <td>24.0</td>\n",
       "      <td>3.535474</td>\n",
       "      <td>6.84</td>\n",
       "      <td>15.24</td>\n",
       "    </tr>\n",
       "    <tr>\n",
       "      <th>2</th>\n",
       "      <td>0</td>\n",
       "      <td>25</td>\n",
       "      <td>4</td>\n",
       "      <td>19</td>\n",
       "      <td>9</td>\n",
       "      <td>30.0</td>\n",
       "      <td>3.500000</td>\n",
       "      <td>8.76</td>\n",
       "      <td>19.26</td>\n",
       "    </tr>\n",
       "  </tbody>\n",
       "</table>\n",
       "</div>"
      ],
      "text/plain": [
       "   source_name  destination_name  firm_type  product  pick-up method  \\\n",
       "0            0                25          4       19               9   \n",
       "1            0                25          4       19               9   \n",
       "2            0                25          4       19               9   \n",
       "\n",
       "   total_fee  total_rate  total_margin  total_cost  \n",
       "0       21.0    3.540000          6.58       14.08  \n",
       "1       24.0    3.535474          6.84       15.24  \n",
       "2       30.0    3.500000          8.76       19.26  "
      ]
     },
     "execution_count": 83,
     "metadata": {},
     "output_type": "execute_result"
    }
   ],
   "source": [
    "df3.head(3)"
   ]
  },
  {
   "cell_type": "code",
   "execution_count": 77,
   "metadata": {
    "collapsed": false
   },
   "outputs": [
    {
     "name": "stdout",
     "output_type": "stream",
     "text": [
      "<class 'pandas.core.frame.DataFrame'>\n",
      "RangeIndex: 39853 entries, 0 to 39852\n",
      "Data columns (total 9 columns):\n",
      "source_name         39853 non-null object\n",
      "destination_name    39853 non-null object\n",
      "firm_type           39853 non-null object\n",
      "product             39639 non-null object\n",
      "pick-up method      30465 non-null object\n",
      "total_fee           39730 non-null float64\n",
      "total_rate          39644 non-null float64\n",
      "total_margin        39751 non-null float64\n",
      "total_cost          39751 non-null float64\n",
      "dtypes: float64(4), object(5)\n",
      "memory usage: 2.7+ MB\n"
     ]
    }
   ],
   "source": [
    "df3.info()"
   ]
  },
  {
   "cell_type": "code",
   "execution_count": 84,
   "metadata": {
    "collapsed": false
   },
   "outputs": [
    {
     "data": {
      "text/html": [
       "<div>\n",
       "<table border=\"1\" class=\"dataframe\">\n",
       "  <thead>\n",
       "    <tr style=\"text-align: right;\">\n",
       "      <th></th>\n",
       "      <th>source_name</th>\n",
       "      <th>destination_name</th>\n",
       "      <th>firm_type</th>\n",
       "      <th>product</th>\n",
       "      <th>pick-up method</th>\n",
       "      <th>total_fee</th>\n",
       "      <th>total_rate</th>\n",
       "      <th>total_margin</th>\n",
       "      <th>total_cost</th>\n",
       "    </tr>\n",
       "  </thead>\n",
       "  <tbody>\n",
       "    <tr>\n",
       "      <th>0</th>\n",
       "      <td>0</td>\n",
       "      <td>25</td>\n",
       "      <td>4</td>\n",
       "      <td>19</td>\n",
       "      <td>9</td>\n",
       "      <td>21.0</td>\n",
       "      <td>3.540000</td>\n",
       "      <td>6.58</td>\n",
       "      <td>14.08</td>\n",
       "    </tr>\n",
       "    <tr>\n",
       "      <th>1</th>\n",
       "      <td>0</td>\n",
       "      <td>25</td>\n",
       "      <td>4</td>\n",
       "      <td>19</td>\n",
       "      <td>9</td>\n",
       "      <td>24.0</td>\n",
       "      <td>3.535474</td>\n",
       "      <td>6.84</td>\n",
       "      <td>15.24</td>\n",
       "    </tr>\n",
       "    <tr>\n",
       "      <th>2</th>\n",
       "      <td>0</td>\n",
       "      <td>25</td>\n",
       "      <td>4</td>\n",
       "      <td>19</td>\n",
       "      <td>9</td>\n",
       "      <td>30.0</td>\n",
       "      <td>3.500000</td>\n",
       "      <td>8.76</td>\n",
       "      <td>19.26</td>\n",
       "    </tr>\n",
       "  </tbody>\n",
       "</table>\n",
       "</div>"
      ],
      "text/plain": [
       "   source_name  destination_name  firm_type  product  pick-up method  \\\n",
       "0            0                25          4       19               9   \n",
       "1            0                25          4       19               9   \n",
       "2            0                25          4       19               9   \n",
       "\n",
       "   total_fee  total_rate  total_margin  total_cost  \n",
       "0       21.0    3.540000          6.58       14.08  \n",
       "1       24.0    3.535474          6.84       15.24  \n",
       "2       30.0    3.500000          8.76       19.26  "
      ]
     },
     "execution_count": 84,
     "metadata": {},
     "output_type": "execute_result"
    }
   ],
   "source": [
    "#lets convert all the object types into numerical data type\n",
    "\n",
    "from sklearn.preprocessing import LabelEncoder\n",
    "\n",
    "categoricals = ['source_name','destination_name', 'firm_type', 'product', 'pick-up method']\n",
    "df3[categoricals] = df3[categoricals].apply(LabelEncoder().fit_transform)\n",
    "df3.head(3)"
   ]
  },
  {
   "cell_type": "code",
   "execution_count": 79,
   "metadata": {
    "collapsed": false
   },
   "outputs": [
    {
     "name": "stdout",
     "output_type": "stream",
     "text": [
      "<class 'pandas.core.frame.DataFrame'>\n",
      "RangeIndex: 39853 entries, 0 to 39852\n",
      "Data columns (total 9 columns):\n",
      "source_name         39853 non-null int64\n",
      "destination_name    39853 non-null int64\n",
      "firm_type           39853 non-null int64\n",
      "product             39853 non-null int64\n",
      "pick-up method      39853 non-null int64\n",
      "total_fee           39730 non-null float64\n",
      "total_rate          39644 non-null float64\n",
      "total_margin        39751 non-null float64\n",
      "total_cost          39751 non-null float64\n",
      "dtypes: float64(4), int64(5)\n",
      "memory usage: 2.7 MB\n"
     ]
    }
   ],
   "source": [
    "df3.info()"
   ]
  },
  {
   "cell_type": "markdown",
   "metadata": {},
   "source": [
    "In this analysis, I would like to you 'total_cost' as the target variable which is a continuous. The independent variables are categorical as well as continuous variables. Hence we could use linear regression for analysis and decision tree for regresion analysis.\n",
    "\n",
    "Linear regression can be used for making predictions. \n"
   ]
  },
  {
   "cell_type": "code",
   "execution_count": 80,
   "metadata": {
    "collapsed": true
   },
   "outputs": [],
   "source": [
    "from sklearn.tree import DecisionTreeRegressor,  export_graphviz\n",
    "from sklearn.cross_validation import KFold, cross_val_score,cross_val_predict\n",
    "from sklearn.ensemble import BaggingRegressor, RandomForestRegressor, AdaBoostRegressor, GradientBoostingRegressor\n",
    "from sklearn.grid_search import GridSearchCV\n",
    "from sklearn.metrics import mean_squared_error"
   ]
  },
  {
   "cell_type": "code",
   "execution_count": 90,
   "metadata": {
    "collapsed": true
   },
   "outputs": [],
   "source": [
    "df3 = df3.dropna()\n",
    "df3 = df3.reset_index(drop=True)"
   ]
  },
  {
   "cell_type": "code",
   "execution_count": 91,
   "metadata": {
    "collapsed": false
   },
   "outputs": [
    {
     "data": {
      "text/html": [
       "<div>\n",
       "<table border=\"1\" class=\"dataframe\">\n",
       "  <thead>\n",
       "    <tr style=\"text-align: right;\">\n",
       "      <th></th>\n",
       "      <th>destination_name</th>\n",
       "      <th>firm_type</th>\n",
       "      <th>product</th>\n",
       "      <th>pick-up method</th>\n",
       "      <th>total_fee</th>\n",
       "      <th>total_rate</th>\n",
       "      <th>total_margin</th>\n",
       "      <th>total_cost</th>\n",
       "    </tr>\n",
       "  </thead>\n",
       "  <tbody>\n",
       "    <tr>\n",
       "      <th>0</th>\n",
       "      <td>25</td>\n",
       "      <td>4</td>\n",
       "      <td>19</td>\n",
       "      <td>9</td>\n",
       "      <td>21.0</td>\n",
       "      <td>3.540000</td>\n",
       "      <td>6.58</td>\n",
       "      <td>14.08</td>\n",
       "    </tr>\n",
       "    <tr>\n",
       "      <th>1</th>\n",
       "      <td>25</td>\n",
       "      <td>4</td>\n",
       "      <td>19</td>\n",
       "      <td>9</td>\n",
       "      <td>24.0</td>\n",
       "      <td>3.535474</td>\n",
       "      <td>6.84</td>\n",
       "      <td>15.24</td>\n",
       "    </tr>\n",
       "    <tr>\n",
       "      <th>2</th>\n",
       "      <td>25</td>\n",
       "      <td>4</td>\n",
       "      <td>19</td>\n",
       "      <td>9</td>\n",
       "      <td>30.0</td>\n",
       "      <td>3.500000</td>\n",
       "      <td>8.76</td>\n",
       "      <td>19.26</td>\n",
       "    </tr>\n",
       "    <tr>\n",
       "      <th>3</th>\n",
       "      <td>25</td>\n",
       "      <td>0</td>\n",
       "      <td>32</td>\n",
       "      <td>5</td>\n",
       "      <td>40.0</td>\n",
       "      <td>3.582800</td>\n",
       "      <td>4.24</td>\n",
       "      <td>18.24</td>\n",
       "    </tr>\n",
       "    <tr>\n",
       "      <th>4</th>\n",
       "      <td>25</td>\n",
       "      <td>0</td>\n",
       "      <td>32</td>\n",
       "      <td>5</td>\n",
       "      <td>40.0</td>\n",
       "      <td>3.528400</td>\n",
       "      <td>7.22</td>\n",
       "      <td>21.22</td>\n",
       "    </tr>\n",
       "  </tbody>\n",
       "</table>\n",
       "</div>"
      ],
      "text/plain": [
       "   destination_name  firm_type  product  pick-up method  total_fee  \\\n",
       "0                25          4       19               9       21.0   \n",
       "1                25          4       19               9       24.0   \n",
       "2                25          4       19               9       30.0   \n",
       "3                25          0       32               5       40.0   \n",
       "4                25          0       32               5       40.0   \n",
       "\n",
       "   total_rate  total_margin  total_cost  \n",
       "0    3.540000          6.58       14.08  \n",
       "1    3.535474          6.84       15.24  \n",
       "2    3.500000          8.76       19.26  \n",
       "3    3.582800          4.24       18.24  \n",
       "4    3.528400          7.22       21.22  "
      ]
     },
     "execution_count": 91,
     "metadata": {},
     "output_type": "execute_result"
    }
   ],
   "source": [
    "y = df3['total_cost']\n",
    "cols = df3.columns\n",
    "X = df3[cols[1:9]]\n",
    "X.head()"
   ]
  },
  {
   "cell_type": "code",
   "execution_count": 92,
   "metadata": {
    "collapsed": false
   },
   "outputs": [
    {
     "name": "stdout",
     "output_type": "stream",
     "text": [
      "cross_val_score:\n",
      "0.999415943965\n",
      "MSE:\n",
      "0.0665972787722\n",
      "Variance:\n",
      "114.025495426\n"
     ]
    }
   ],
   "source": [
    "# Estimate a decision tree regressor\n",
    "features=['source_name','destination_name','firm_type','product','pick-up method','total_fee','total_rate','total_margin']\n",
    "dt_init = DecisionTreeRegressor()\n",
    "dt_init.fit(X,y)\n",
    "y_predict = cross_val_predict(dt_init,X,y)\n",
    "score = cross_val_score(dt_init,X,y)\n",
    "print \"cross_val_score:\"\n",
    "print score.mean()        \n",
    "print \"MSE:\"\n",
    "print mean_squared_error(y,y_predict)\n",
    "print \"Variance:\"\n",
    "print (mean_squared_error(y,y_predict))/(1-score.mean())"
   ]
  },
  {
   "cell_type": "code",
   "execution_count": 93,
   "metadata": {
    "collapsed": false
   },
   "outputs": [
    {
     "name": "stdout",
     "output_type": "stream",
     "text": [
      "DecisionTreeRegressor(criterion='mse', max_depth=8, max_features=None,\n",
      "           max_leaf_nodes=None, min_samples_leaf=1, min_samples_split=2,\n",
      "           min_weight_fraction_leaf=0.0, presort=False, random_state=None,\n",
      "           splitter='best')\n",
      "cross_val_score:\n",
      "0.999560859986\n",
      "MSE:\n",
      "0.0603897400638\n",
      "Variance:\n",
      "137.518190407\n"
     ]
    }
   ],
   "source": [
    "# Grid search over various tree depths\n",
    "dt_init = DecisionTreeRegressor()\n",
    "gs1 = GridSearchCV(dt_init,{'max_depth':range(2,9)})\n",
    "gs1.fit(X,y)\n",
    "y_predict = cross_val_predict(gs1.best_estimator_,X,y)\n",
    "score = cross_val_score(gs1.best_estimator_,X,y)\n",
    "print gs1.best_estimator_\n",
    "print \"cross_val_score:\"\n",
    "print score.mean()        \n",
    "print \"MSE:\"\n",
    "print mean_squared_error(y,y_predict)\n",
    "print \"Variance:\"\n",
    "print (mean_squared_error(y,y_predict))/(1-score.mean())"
   ]
  },
  {
   "cell_type": "code",
   "execution_count": 95,
   "metadata": {
    "collapsed": true
   },
   "outputs": [],
   "source": [
    "# Function to plot feature importances\n",
    "def print_features(model,X,y,features):\n",
    "    features = pd.Series(features)\n",
    "    model.fit(X, y)\n",
    "#     importances = model.feature_importances_\n",
    "    try:\n",
    "        importances = np.mean([tree.feature_importances_ for tree in model.estimators_],axis=0)\n",
    "        std = np.std([tree.feature_importances_ for tree in model.estimators_],axis=0)\n",
    "    except:\n",
    "        importances = model.feature_importances_\n",
    "        std = 0\n",
    "        \n",
    "    indices = np.argsort(importances)[::-1]\n",
    "    print indices\n",
    "\n",
    "    # Print the feature ranking\n",
    "    print(\"Feature ranking:\")\n",
    "\n",
    "    for f in range(indices.size):#(X.shape[1]):\n",
    "        print(\"%d. feature %d (%f)\" % (f + 1, indices[f], importances[indices[f]]))\n",
    "\n",
    "    # Plot the feature importances of the forest\n",
    "    plt.figure()\n",
    "    plt.title(\"Feature importances\")\n",
    "    try:\n",
    "        plt.bar(range(indices.size), importances[indices],\n",
    "               color=\"r\", yerr=std[indices], align=\"center\")\n",
    "    except:\n",
    "        plt.bar(range(indices.size), importances[indices],\n",
    "           color=\"r\", yerr=std, align=\"center\")\n",
    "    plt.xticks(range(indices.size), features[indices], rotation=90)\n",
    "    plt.xlim([-1, X.shape[1]])\n",
    "    plt.show()"
   ]
  },
  {
   "cell_type": "code",
   "execution_count": 96,
   "metadata": {
    "collapsed": false
   },
   "outputs": [
    {
     "name": "stdout",
     "output_type": "stream",
     "text": [
      "[7 5 4 6 3 2 1 0]\n",
      "Feature ranking:\n",
      "1. feature 7 (0.999995)\n",
      "2. feature 5 (0.000004)\n",
      "3. feature 4 (0.000000)\n",
      "4. feature 6 (0.000000)\n",
      "5. feature 3 (0.000000)\n",
      "6. feature 2 (0.000000)\n",
      "7. feature 1 (0.000000)\n",
      "8. feature 0 (0.000000)\n"
     ]
    },
    {
     "data": {
      "image/png": "[encoded data removed]",
      "text/plain": [
       "<matplotlib.figure.Figure at 0x113b21490>"
      ]
     },
     "metadata": {},
     "output_type": "display_data"
    }
   ],
   "source": [
    "%matplotlib inline\n",
    "import matplotlib.pyplot as plt\n",
    "import numpy as np\n",
    "print_features(gs1.best_estimator_,X,y,features)"
   ]
  },
  {
   "cell_type": "code",
   "execution_count": 110,
   "metadata": {
    "collapsed": false
   },
   "outputs": [],
   "source": []
  },
  {
   "cell_type": "code",
   "execution_count": null,
   "metadata": {
    "collapsed": false
   },
   "outputs": [],
   "source": []
  },
  {
   "cell_type": "markdown",
   "metadata": {},
   "source": [
    "The above model doesnot have much predictive capacity. The variance is very high and the feature importance plot is not much conclusive. Lets try linear regression "
   ]
  },
  {
   "cell_type": "code",
   "execution_count": 113,
   "metadata": {
    "collapsed": false
   },
   "outputs": [],
   "source": [
    "#Linear regression\n",
    "from sklearn import linear_model\n",
    "lm = linear_model.LinearRegression()\n",
    "y = df3['total_cost']\n",
    "cols = df3.columns\n",
    "X = df3[cols[1:9]]\n",
    "model = lm.fit(X, y)"
   ]
  },
  {
   "cell_type": "code",
   "execution_count": 114,
   "metadata": {
    "collapsed": false
   },
   "outputs": [
    {
     "name": "stdout",
     "output_type": "stream",
     "text": [
      "coefficients of the model [  2.51625873e-18  -2.94862309e-15  -2.14902050e-16   7.35351325e-17\n",
      "   3.31089409e-19   1.18427341e-17   1.60336107e-15   1.00000000e+00]\n",
      "intercept of the model 1.06581410364e-14\n"
     ]
    }
   ],
   "source": [
    "predictions = lm.predict(X)\n",
    "\n",
    "print \"coefficients of the model\", lm.coef_\n",
    "print \"intercept of the model\", lm.intercept_"
   ]
  },
  {
   "cell_type": "code",
   "execution_count": 115,
   "metadata": {
    "collapsed": false
   },
   "outputs": [
    {
     "name": "stdout",
     "output_type": "stream",
     "text": [
      "The r2 value for the model:  1.0\n"
     ]
    }
   ],
   "source": [
    "from sklearn.metrics import r2_score\n",
    "y_true = y\n",
    "y_pred = model.predict(X)\n",
    "\n",
    "lr_r2 =  r2_score(y_true=y_true, y_pred=y_pred)\n",
    "print \"The r2 value for the model: \", lr_r2"
   ]
  },
  {
   "cell_type": "code",
   "execution_count": 126,
   "metadata": {
    "collapsed": false
   },
   "outputs": [
    {
     "name": "stdout",
     "output_type": "stream",
     "text": [
      "MSE: 2.51529256162e-27\n"
     ]
    }
   ],
   "source": [
    "print \"MSE:\", mean_squared_error(y, y_pred)"
   ]
  },
  {
   "cell_type": "code",
   "execution_count": null,
   "metadata": {
    "collapsed": true
   },
   "outputs": [],
   "source": []
  },
  {
   "cell_type": "code",
   "execution_count": 125,
   "metadata": {
    "collapsed": false
   },
   "outputs": [
    {
     "data": {
      "image/png": "[encoded data removed]",
      "text/plain": [
       "<matplotlib.figure.Figure at 0x11d9c6850>"
      ]
     },
     "metadata": {},
     "output_type": "display_data"
    }
   ],
   "source": [
    "# Plot the model\n",
    "plt.figure(figsize=(16,8))\n",
    "plt.scatter(y_pred, y, s=30, c='r', marker='+', zorder=1)\n",
    "plt.xlabel(\"Independent variable: 'source_name','destination_name',\\\n",
    "'firm_type','product','pick-up method','total_fee','total_rate','total_margin'\")\n",
    "plt.ylabel(\"total_cost\")\n",
    "plt.show()"
   ]
  },
  {
   "cell_type": "code",
   "execution_count": 119,
   "metadata": {
    "collapsed": false
   },
   "outputs": [],
   "source": [
    "Summary of the Project:\n"
   ]
  },
  {
   "cell_type": "code",
   "execution_count": 121,
   "metadata": {
    "collapsed": false
   },
   "outputs": [],
   "source": [
    "\n"
   ]
  },
  {
   "cell_type": "code",
   "execution_count": null,
   "metadata": {
    "collapsed": false
   },
   "outputs": [],
   "source": []
  },
  {
   "cell_type": "code",
   "execution_count": null,
   "metadata": {
    "collapsed": true
   },
   "outputs": [],
   "source": []
  }
 ],
 "metadata": {
  "kernelspec": {
   "display_name": "Python [Root]",
   "language": "python",
   "name": "Python [Root]"
  },
  "language_info": {
   "codemirror_mode": {
    "name": "ipython",
    "version": 2
   },
   "file_extension": ".py",
   "mimetype": "text/x-python",
   "name": "python",
   "nbconvert_exporter": "python",
   "pygments_lexer": "ipython2",
   "version": "2.7.12"
  }
 },
 "nbformat": 4,
 "nbformat_minor": 0
}
