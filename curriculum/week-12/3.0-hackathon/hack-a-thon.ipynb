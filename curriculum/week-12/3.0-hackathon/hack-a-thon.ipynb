{
 "cells": [
  {
   "cell_type": "code",
   "execution_count": 36,
   "metadata": {
    "collapsed": true
   },
   "outputs": [],
   "source": [
    "import pandas as pd\n",
    "import numpy as np\n",
    "import matplotlib.pyplot as plt\n",
    "%matplotlib inline\n",
    "from sklearn import preprocessing\n",
    "import seaborn as sns"
   ]
  },
  {
   "cell_type": "code",
   "execution_count": 21,
   "metadata": {
    "collapsed": false
   },
   "outputs": [],
   "source": [
    "train = pd.read_csv(\"/Users/Debjani/Downloads/train.csv\")"
   ]
  },
  {
   "cell_type": "code",
   "execution_count": 63,
   "metadata": {
    "collapsed": false
   },
   "outputs": [],
   "source": [
    "features = pd.read_csv(\"/Users/Debjani/Downloads/features.csv\")"
   ]
  },
  {
   "cell_type": "code",
   "execution_count": 23,
   "metadata": {
    "collapsed": false
   },
   "outputs": [
    {
     "data": {
      "text/html": [
       "<div>\n",
       "<table border=\"1\" class=\"dataframe\">\n",
       "  <thead>\n",
       "    <tr style=\"text-align: right;\">\n",
       "      <th></th>\n",
       "      <th>Store</th>\n",
       "      <th>Dept</th>\n",
       "      <th>Date</th>\n",
       "      <th>Weekly_Sales</th>\n",
       "      <th>IsHoliday</th>\n",
       "    </tr>\n",
       "  </thead>\n",
       "  <tbody>\n",
       "    <tr>\n",
       "      <th>0</th>\n",
       "      <td>1</td>\n",
       "      <td>1</td>\n",
       "      <td>2010-02-05</td>\n",
       "      <td>24924.50</td>\n",
       "      <td>False</td>\n",
       "    </tr>\n",
       "    <tr>\n",
       "      <th>1</th>\n",
       "      <td>1</td>\n",
       "      <td>1</td>\n",
       "      <td>2010-02-12</td>\n",
       "      <td>46039.49</td>\n",
       "      <td>True</td>\n",
       "    </tr>\n",
       "    <tr>\n",
       "      <th>2</th>\n",
       "      <td>1</td>\n",
       "      <td>1</td>\n",
       "      <td>2010-02-19</td>\n",
       "      <td>41595.55</td>\n",
       "      <td>False</td>\n",
       "    </tr>\n",
       "    <tr>\n",
       "      <th>3</th>\n",
       "      <td>1</td>\n",
       "      <td>1</td>\n",
       "      <td>2010-02-26</td>\n",
       "      <td>19403.54</td>\n",
       "      <td>False</td>\n",
       "    </tr>\n",
       "    <tr>\n",
       "      <th>4</th>\n",
       "      <td>1</td>\n",
       "      <td>1</td>\n",
       "      <td>2010-03-05</td>\n",
       "      <td>21827.90</td>\n",
       "      <td>False</td>\n",
       "    </tr>\n",
       "  </tbody>\n",
       "</table>\n",
       "</div>"
      ],
      "text/plain": [
       "   Store  Dept        Date  Weekly_Sales IsHoliday\n",
       "0      1     1  2010-02-05      24924.50     False\n",
       "1      1     1  2010-02-12      46039.49      True\n",
       "2      1     1  2010-02-19      41595.55     False\n",
       "3      1     1  2010-02-26      19403.54     False\n",
       "4      1     1  2010-03-05      21827.90     False"
      ]
     },
     "execution_count": 23,
     "metadata": {},
     "output_type": "execute_result"
    }
   ],
   "source": [
    "train.head()"
   ]
  },
  {
   "cell_type": "code",
   "execution_count": 64,
   "metadata": {
    "collapsed": false
   },
   "outputs": [
    {
     "data": {
      "text/html": [
       "<div>\n",
       "<table border=\"1\" class=\"dataframe\">\n",
       "  <thead>\n",
       "    <tr style=\"text-align: right;\">\n",
       "      <th></th>\n",
       "      <th>Store</th>\n",
       "      <th>Date</th>\n",
       "      <th>Temperature</th>\n",
       "      <th>Fuel_Price</th>\n",
       "      <th>MarkDown1</th>\n",
       "      <th>MarkDown2</th>\n",
       "      <th>MarkDown3</th>\n",
       "      <th>MarkDown4</th>\n",
       "      <th>MarkDown5</th>\n",
       "      <th>CPI</th>\n",
       "      <th>Unemployment</th>\n",
       "      <th>IsHoliday</th>\n",
       "    </tr>\n",
       "  </thead>\n",
       "  <tbody>\n",
       "    <tr>\n",
       "      <th>0</th>\n",
       "      <td>1</td>\n",
       "      <td>2010-02-05</td>\n",
       "      <td>42.31</td>\n",
       "      <td>2.572</td>\n",
       "      <td>NaN</td>\n",
       "      <td>NaN</td>\n",
       "      <td>NaN</td>\n",
       "      <td>NaN</td>\n",
       "      <td>NaN</td>\n",
       "      <td>211.096358</td>\n",
       "      <td>8.106</td>\n",
       "      <td>False</td>\n",
       "    </tr>\n",
       "    <tr>\n",
       "      <th>1</th>\n",
       "      <td>1</td>\n",
       "      <td>2010-02-12</td>\n",
       "      <td>38.51</td>\n",
       "      <td>2.548</td>\n",
       "      <td>NaN</td>\n",
       "      <td>NaN</td>\n",
       "      <td>NaN</td>\n",
       "      <td>NaN</td>\n",
       "      <td>NaN</td>\n",
       "      <td>211.242170</td>\n",
       "      <td>8.106</td>\n",
       "      <td>True</td>\n",
       "    </tr>\n",
       "    <tr>\n",
       "      <th>2</th>\n",
       "      <td>1</td>\n",
       "      <td>2010-02-19</td>\n",
       "      <td>39.93</td>\n",
       "      <td>2.514</td>\n",
       "      <td>NaN</td>\n",
       "      <td>NaN</td>\n",
       "      <td>NaN</td>\n",
       "      <td>NaN</td>\n",
       "      <td>NaN</td>\n",
       "      <td>211.289143</td>\n",
       "      <td>8.106</td>\n",
       "      <td>False</td>\n",
       "    </tr>\n",
       "    <tr>\n",
       "      <th>3</th>\n",
       "      <td>1</td>\n",
       "      <td>2010-02-26</td>\n",
       "      <td>46.63</td>\n",
       "      <td>2.561</td>\n",
       "      <td>NaN</td>\n",
       "      <td>NaN</td>\n",
       "      <td>NaN</td>\n",
       "      <td>NaN</td>\n",
       "      <td>NaN</td>\n",
       "      <td>211.319643</td>\n",
       "      <td>8.106</td>\n",
       "      <td>False</td>\n",
       "    </tr>\n",
       "    <tr>\n",
       "      <th>4</th>\n",
       "      <td>1</td>\n",
       "      <td>2010-03-05</td>\n",
       "      <td>46.50</td>\n",
       "      <td>2.625</td>\n",
       "      <td>NaN</td>\n",
       "      <td>NaN</td>\n",
       "      <td>NaN</td>\n",
       "      <td>NaN</td>\n",
       "      <td>NaN</td>\n",
       "      <td>211.350143</td>\n",
       "      <td>8.106</td>\n",
       "      <td>False</td>\n",
       "    </tr>\n",
       "  </tbody>\n",
       "</table>\n",
       "</div>"
      ],
      "text/plain": [
       "   Store        Date  Temperature  Fuel_Price  MarkDown1  MarkDown2  \\\n",
       "0      1  2010-02-05        42.31       2.572        NaN        NaN   \n",
       "1      1  2010-02-12        38.51       2.548        NaN        NaN   \n",
       "2      1  2010-02-19        39.93       2.514        NaN        NaN   \n",
       "3      1  2010-02-26        46.63       2.561        NaN        NaN   \n",
       "4      1  2010-03-05        46.50       2.625        NaN        NaN   \n",
       "\n",
       "   MarkDown3  MarkDown4  MarkDown5         CPI  Unemployment IsHoliday  \n",
       "0        NaN        NaN        NaN  211.096358         8.106     False  \n",
       "1        NaN        NaN        NaN  211.242170         8.106      True  \n",
       "2        NaN        NaN        NaN  211.289143         8.106     False  \n",
       "3        NaN        NaN        NaN  211.319643         8.106     False  \n",
       "4        NaN        NaN        NaN  211.350143         8.106     False  "
      ]
     },
     "execution_count": 64,
     "metadata": {},
     "output_type": "execute_result"
    }
   ],
   "source": [
    "features.head()"
   ]
  },
  {
   "cell_type": "code",
   "execution_count": 25,
   "metadata": {
    "collapsed": false
   },
   "outputs": [
    {
     "data": {
      "text/plain": [
       "101.95"
      ]
     },
     "execution_count": 25,
     "metadata": {},
     "output_type": "execute_result"
    }
   ],
   "source": [
    "features['Temperature'].max()"
   ]
  },
  {
   "cell_type": "code",
   "execution_count": 26,
   "metadata": {
    "collapsed": false
   },
   "outputs": [
    {
     "data": {
      "text/plain": [
       "-7.29"
      ]
     },
     "execution_count": 26,
     "metadata": {},
     "output_type": "execute_result"
    }
   ],
   "source": [
    "features['Temperature'].min()"
   ]
  },
  {
   "cell_type": "code",
   "execution_count": 45,
   "metadata": {
    "collapsed": true
   },
   "outputs": [],
   "source": []
  },
  {
   "cell_type": "code",
   "execution_count": 38,
   "metadata": {
    "collapsed": true
   },
   "outputs": [],
   "source": []
  },
  {
   "cell_type": "code",
   "execution_count": 42,
   "metadata": {
    "collapsed": false
   },
   "outputs": [
    {
     "data": {
      "text/plain": [
       "0       42.31\n",
       "1       38.51\n",
       "2       39.93\n",
       "3       46.63\n",
       "4       46.50\n",
       "5       57.79\n",
       "6       54.58\n",
       "7       51.45\n",
       "8       62.27\n",
       "9       65.86\n",
       "10      66.32\n",
       "11      64.84\n",
       "12      67.41\n",
       "13      72.55\n",
       "14      74.78\n",
       "15      76.44\n",
       "16      80.44\n",
       "17      80.69\n",
       "18      80.43\n",
       "19      84.11\n",
       "20      84.34\n",
       "21      80.91\n",
       "22      80.48\n",
       "23      83.15\n",
       "24      83.36\n",
       "25      81.84\n",
       "26      87.16\n",
       "27      87.00\n",
       "28      86.65\n",
       "29      85.22\n",
       "        ...  \n",
       "8160    32.87\n",
       "8161    38.78\n",
       "8162    41.45\n",
       "8163    26.49\n",
       "8164    34.92\n",
       "8165    28.99\n",
       "8166    35.87\n",
       "8167    31.48\n",
       "8168    39.72\n",
       "8169    36.13\n",
       "8170    42.81\n",
       "8171    36.55\n",
       "8172    40.68\n",
       "8173    43.94\n",
       "8174    57.39\n",
       "8175    56.27\n",
       "8176    50.64\n",
       "8177    56.07\n",
       "8178    58.86\n",
       "8179    60.59\n",
       "8180    67.11\n",
       "8181    65.88\n",
       "8182    70.71\n",
       "8183    70.01\n",
       "8184    70.13\n",
       "8185    76.05\n",
       "8186    77.50\n",
       "8187    79.37\n",
       "8188    82.84\n",
       "8189    76.06\n",
       "Name: Temperature, dtype: float64"
      ]
     },
     "execution_count": 42,
     "metadata": {},
     "output_type": "execute_result"
    }
   ],
   "source": [
    "features['Temperature']"
   ]
  },
  {
   "cell_type": "code",
   "execution_count": null,
   "metadata": {
    "collapsed": true
   },
   "outputs": [],
   "source": [
    "\n"
   ]
  },
  {
   "cell_type": "code",
   "execution_count": 65,
   "metadata": {
    "collapsed": false
   },
   "outputs": [
    {
     "name": "stdout",
     "output_type": "stream",
     "text": [
      "(30, 65]        4150\n",
      "(65, 101.95]    3459\n",
      "(-7.29, 30]      580\n",
      "Name: Temperature, dtype: int64\n"
     ]
    }
   ],
   "source": [
    "w = -7.29\n",
    "x = 30\n",
    "y = 65\n",
    "z = 101.95\n",
    "filter_values = [w, x, y, z]\n",
    "\n",
    "out = pd.cut(features['Temperature'], bins = filter_values)\n",
    "counts = pd.value_counts(out)\n",
    "# counts is a Series\n",
    "print(counts)\n",
    "\n"
   ]
  },
  {
   "cell_type": "code",
   "execution_count": 66,
   "metadata": {
    "collapsed": false
   },
   "outputs": [
    {
     "name": "stdout",
     "output_type": "stream",
     "text": [
      "      Store        Date  Temperature  Fuel_Price  MarkDown1  MarkDown2  \\\n",
      "0         1  2010-02-05        42.31       2.572        NaN        NaN   \n",
      "1         1  2010-02-12        38.51       2.548        NaN        NaN   \n",
      "2         1  2010-02-19        39.93       2.514        NaN        NaN   \n",
      "3         1  2010-02-26        46.63       2.561        NaN        NaN   \n",
      "4         1  2010-03-05        46.50       2.625        NaN        NaN   \n",
      "5         1  2010-03-12        57.79       2.667        NaN        NaN   \n",
      "6         1  2010-03-19        54.58       2.720        NaN        NaN   \n",
      "7         1  2010-03-26        51.45       2.732        NaN        NaN   \n",
      "8         1  2010-04-02        62.27       2.719        NaN        NaN   \n",
      "9         1  2010-04-09        65.86       2.770        NaN        NaN   \n",
      "10        1  2010-04-16        66.32       2.808        NaN        NaN   \n",
      "11        1  2010-04-23        64.84       2.795        NaN        NaN   \n",
      "12        1  2010-04-30        67.41       2.780        NaN        NaN   \n",
      "13        1  2010-05-07        72.55       2.835        NaN        NaN   \n",
      "14        1  2010-05-14        74.78       2.854        NaN        NaN   \n",
      "15        1  2010-05-21        76.44       2.826        NaN        NaN   \n",
      "16        1  2010-05-28        80.44       2.759        NaN        NaN   \n",
      "17        1  2010-06-04        80.69       2.705        NaN        NaN   \n",
      "18        1  2010-06-11        80.43       2.668        NaN        NaN   \n",
      "19        1  2010-06-18        84.11       2.637        NaN        NaN   \n",
      "20        1  2010-06-25        84.34       2.653        NaN        NaN   \n",
      "21        1  2010-07-02        80.91       2.669        NaN        NaN   \n",
      "22        1  2010-07-09        80.48       2.642        NaN        NaN   \n",
      "23        1  2010-07-16        83.15       2.623        NaN        NaN   \n",
      "24        1  2010-07-23        83.36       2.608        NaN        NaN   \n",
      "25        1  2010-07-30        81.84       2.640        NaN        NaN   \n",
      "26        1  2010-08-06        87.16       2.627        NaN        NaN   \n",
      "27        1  2010-08-13        87.00       2.692        NaN        NaN   \n",
      "28        1  2010-08-20        86.65       2.664        NaN        NaN   \n",
      "29        1  2010-08-27        85.22       2.619        NaN        NaN   \n",
      "...     ...         ...          ...         ...        ...        ...   \n",
      "8160     45  2013-01-04        32.87       3.592    1341.33   30325.14   \n",
      "8161     45  2013-01-11        38.78       3.611    3877.36   15559.85   \n",
      "8162     45  2013-01-18        41.45       3.605   14746.10    4071.06   \n",
      "8163     45  2013-01-25        26.49       3.583    3130.28    1362.10   \n",
      "8164     45  2013-02-01        34.92       3.615   14508.96    1092.53   \n",
      "8165     45  2013-02-08        28.99       3.753   53311.88     531.33   \n",
      "8166     45  2013-02-15        35.87       3.814    9362.02    2017.68   \n",
      "8167     45  2013-02-22        31.48       3.859   10781.51    2735.67   \n",
      "8168     45  2013-03-01        39.72       3.890    6614.32     147.82   \n",
      "8169     45  2013-03-08        36.13       3.860   16382.54      88.67   \n",
      "8170     45  2013-03-15        42.81       3.834    9867.03        NaN   \n",
      "8171     45  2013-03-22        36.55       3.800   11923.74        NaN   \n",
      "8172     45  2013-03-29        40.68       3.784    5444.00        NaN   \n",
      "8173     45  2013-04-05        43.94       3.763   16427.83    5341.41   \n",
      "8174     45  2013-04-12        57.39       3.724    8760.15    1713.11   \n",
      "8175     45  2013-04-19        56.27       3.676    1399.81      39.89   \n",
      "8176     45  2013-04-26        50.64       3.615    1260.65        NaN   \n",
      "8177     45  2013-05-03        56.07       3.592    8345.40       6.00   \n",
      "8178     45  2013-05-10        58.86       3.583    4689.18     440.82   \n",
      "8179     45  2013-05-17        60.59       3.614    4515.35     667.88   \n",
      "8180     45  2013-05-24        67.11       3.627    3249.34     481.82   \n",
      "8181     45  2013-05-31        65.88       3.646    6474.49     411.38   \n",
      "8182     45  2013-06-07        70.71       3.633    9977.82     744.29   \n",
      "8183     45  2013-06-14        70.01       3.632    2471.44     517.87   \n",
      "8184     45  2013-06-21        70.13       3.626    4989.34     385.31   \n",
      "8185     45  2013-06-28        76.05       3.639    4842.29     975.03   \n",
      "8186     45  2013-07-05        77.50       3.614    9090.48    2268.58   \n",
      "8187     45  2013-07-12        79.37       3.614    3789.94    1827.31   \n",
      "8188     45  2013-07-19        82.84       3.737    2961.49    1047.07   \n",
      "8189     45  2013-07-26        76.06       3.804     212.02     851.73   \n",
      "\n",
      "      MarkDown3  MarkDown4  MarkDown5         CPI  Unemployment IsHoliday  \n",
      "0           NaN        NaN        NaN  211.096358         8.106     False  \n",
      "1           NaN        NaN        NaN  211.242170         8.106      True  \n",
      "2           NaN        NaN        NaN  211.289143         8.106     False  \n",
      "3           NaN        NaN        NaN  211.319643         8.106     False  \n",
      "4           NaN        NaN        NaN  211.350143         8.106     False  \n",
      "5           NaN        NaN        NaN  211.380643         8.106     False  \n",
      "6           NaN        NaN        NaN  211.215635         8.106     False  \n",
      "7           NaN        NaN        NaN  211.018042         8.106     False  \n",
      "8           NaN        NaN        NaN  210.820450         7.808     False  \n",
      "9           NaN        NaN        NaN  210.622857         7.808     False  \n",
      "10          NaN        NaN        NaN  210.488700         7.808     False  \n",
      "11          NaN        NaN        NaN  210.439123         7.808     False  \n",
      "12          NaN        NaN        NaN  210.389546         7.808     False  \n",
      "13          NaN        NaN        NaN  210.339968         7.808     False  \n",
      "14          NaN        NaN        NaN  210.337426         7.808     False  \n",
      "15          NaN        NaN        NaN  210.617093         7.808     False  \n",
      "16          NaN        NaN        NaN  210.896761         7.808     False  \n",
      "17          NaN        NaN        NaN  211.176428         7.808     False  \n",
      "18          NaN        NaN        NaN  211.456095         7.808     False  \n",
      "19          NaN        NaN        NaN  211.453772         7.808     False  \n",
      "20          NaN        NaN        NaN  211.338653         7.808     False  \n",
      "21          NaN        NaN        NaN  211.223533         7.787     False  \n",
      "22          NaN        NaN        NaN  211.108414         7.787     False  \n",
      "23          NaN        NaN        NaN  211.100385         7.787     False  \n",
      "24          NaN        NaN        NaN  211.235144         7.787     False  \n",
      "25          NaN        NaN        NaN  211.369903         7.787     False  \n",
      "26          NaN        NaN        NaN  211.504662         7.787     False  \n",
      "27          NaN        NaN        NaN  211.639421         7.787     False  \n",
      "28          NaN        NaN        NaN  211.603363         7.787     False  \n",
      "29          NaN        NaN        NaN  211.567306         7.787     False  \n",
      "...         ...        ...        ...         ...           ...       ...  \n",
      "8160       8.93      35.85    3682.17  192.659622         8.625     False  \n",
      "8161       3.81     152.18    2403.14  192.759980         8.625     False  \n",
      "8162       4.02     483.58    1467.78  192.809507         8.625     False  \n",
      "8163       0.20     332.68    1361.74  192.838701         8.625     False  \n",
      "8164     827.90   26424.02     700.93  192.867895         8.625     False  \n",
      "8165      78.26   24823.94    3233.44  192.897089         8.625      True  \n",
      "8166       0.36    5012.39    6411.71  192.943471         8.625     False  \n",
      "8167      23.38    1516.76    3061.21  193.032822         8.625     False  \n",
      "8168       5.60      27.55    1668.95  193.122173         8.625     False  \n",
      "8169      34.62    3096.92    3486.91  193.211524         8.625     False  \n",
      "8170      11.08     912.87    1360.36  193.296277         8.625     False  \n",
      "8171     308.00    1764.47    1647.31  193.369533         8.625     False  \n",
      "8172     350.84      53.90    1722.11  193.442790         8.625     False  \n",
      "8173     182.59    1523.83    1743.09  193.516047         8.335     False  \n",
      "8174      21.08    1302.31    1380.74  193.589304         8.335     False  \n",
      "8175      44.38      60.83    1445.05  193.589304         8.335     False  \n",
      "8176      57.52      40.51    2476.18  193.589304         8.335     False  \n",
      "8177      92.96    3580.32    2242.24         NaN           NaN     False  \n",
      "8178      53.09     375.22    5738.20         NaN           NaN     False  \n",
      "8179       6.12     522.70    2541.62         NaN           NaN     False  \n",
      "8180      58.48    1183.23    1309.30         NaN           NaN     False  \n",
      "8181      77.06       9.38    4227.27         NaN           NaN     False  \n",
      "8182      80.00    4825.71    3597.34         NaN           NaN     False  \n",
      "8183     348.54    2612.33    3459.39         NaN           NaN     False  \n",
      "8184     178.56    2463.42    3117.94         NaN           NaN     False  \n",
      "8185       3.00    2449.97    3169.69         NaN           NaN     False  \n",
      "8186     582.74    5797.47    1514.93         NaN           NaN     False  \n",
      "8187      85.72     744.84    2150.36         NaN           NaN     False  \n",
      "8188     204.19     363.00    1059.46         NaN           NaN     False  \n",
      "8189       2.06      10.88    1864.57         NaN           NaN     False  \n",
      "\n",
      "[8190 rows x 12 columns]\n"
     ]
    }
   ],
   "source": [
    "print features"
   ]
  },
  {
   "cell_type": "code",
   "execution_count": 60,
   "metadata": {
    "collapsed": false
   },
   "outputs": [
    {
     "data": {
      "text/plain": [
       "pandas.core.frame.DataFrame"
      ]
     },
     "execution_count": 60,
     "metadata": {},
     "output_type": "execute_result"
    }
   ],
   "source": [
    "type(features)"
   ]
  },
  {
   "cell_type": "code",
   "execution_count": 67,
   "metadata": {
    "collapsed": false
   },
   "outputs": [
    {
     "data": {
      "text/plain": [
       "0       False\n",
       "1        True\n",
       "2       False\n",
       "3       False\n",
       "4       False\n",
       "5       False\n",
       "6       False\n",
       "7       False\n",
       "8       False\n",
       "9       False\n",
       "10      False\n",
       "11      False\n",
       "12      False\n",
       "13      False\n",
       "14      False\n",
       "15      False\n",
       "16      False\n",
       "17      False\n",
       "18      False\n",
       "19      False\n",
       "20      False\n",
       "21      False\n",
       "22      False\n",
       "23      False\n",
       "24      False\n",
       "25      False\n",
       "26      False\n",
       "27      False\n",
       "28      False\n",
       "29      False\n",
       "        ...  \n",
       "8160    False\n",
       "8161    False\n",
       "8162    False\n",
       "8163    False\n",
       "8164    False\n",
       "8165     True\n",
       "8166    False\n",
       "8167    False\n",
       "8168    False\n",
       "8169    False\n",
       "8170    False\n",
       "8171    False\n",
       "8172    False\n",
       "8173    False\n",
       "8174    False\n",
       "8175    False\n",
       "8176    False\n",
       "8177    False\n",
       "8178    False\n",
       "8179    False\n",
       "8180    False\n",
       "8181    False\n",
       "8182    False\n",
       "8183    False\n",
       "8184    False\n",
       "8185    False\n",
       "8186    False\n",
       "8187    False\n",
       "8188    False\n",
       "8189    False\n",
       "Name: IsHoliday, dtype: bool"
      ]
     },
     "execution_count": 67,
     "metadata": {},
     "output_type": "execute_result"
    }
   ],
   "source": [
    "features['IsHoliday'].replace('False', 0)"
   ]
  },
  {
   "cell_type": "code",
   "execution_count": 59,
   "metadata": {
    "collapsed": false
   },
   "outputs": [
    {
     "ename": "ValueError",
     "evalue": "fill value must be in categories",
     "output_type": "error",
     "traceback": [
      "\u001b[0;31m---------------------------------------------------------------------------\u001b[0m",
      "\u001b[0;31mValueError\u001b[0m                                Traceback (most recent call last)",
      "\u001b[0;32m<ipython-input-59-08b87e01cfc3>\u001b[0m in \u001b[0;36m<module>\u001b[0;34m()\u001b[0m\n\u001b[1;32m      2\u001b[0m \u001b[0;31m# features.replace('True', 1)\u001b[0m\u001b[0;34m\u001b[0m\u001b[0;34m\u001b[0m\u001b[0m\n\u001b[1;32m      3\u001b[0m \u001b[0;31m# features.replace('False', 0)\u001b[0m\u001b[0;34m\u001b[0m\u001b[0;34m\u001b[0m\u001b[0m\n\u001b[0;32m----> 4\u001b[0;31m \u001b[0mfeatures\u001b[0m\u001b[0;34m.\u001b[0m\u001b[0mfillna\u001b[0m\u001b[0;34m(\u001b[0m\u001b[0;34m-\u001b[0m\u001b[0;36m999\u001b[0m\u001b[0;34m)\u001b[0m\u001b[0;34m\u001b[0m\u001b[0m\n\u001b[0m\u001b[1;32m      5\u001b[0m \u001b[0;32mprint\u001b[0m \u001b[0mfeatures\u001b[0m\u001b[0;34m\u001b[0m\u001b[0m\n",
      "\u001b[0;32m//anaconda/lib/python2.7/site-packages/pandas/core/frame.pyc\u001b[0m in \u001b[0;36mfillna\u001b[0;34m(self, value, method, axis, inplace, limit, downcast, **kwargs)\u001b[0m\n\u001b[1;32m   2760\u001b[0m                      \u001b[0mself\u001b[0m\u001b[0;34m)\u001b[0m\u001b[0;34m.\u001b[0m\u001b[0mfillna\u001b[0m\u001b[0;34m(\u001b[0m\u001b[0mvalue\u001b[0m\u001b[0;34m=\u001b[0m\u001b[0mvalue\u001b[0m\u001b[0;34m,\u001b[0m \u001b[0mmethod\u001b[0m\u001b[0;34m=\u001b[0m\u001b[0mmethod\u001b[0m\u001b[0;34m,\u001b[0m \u001b[0maxis\u001b[0m\u001b[0;34m=\u001b[0m\u001b[0maxis\u001b[0m\u001b[0;34m,\u001b[0m\u001b[0;34m\u001b[0m\u001b[0m\n\u001b[1;32m   2761\u001b[0m                                   \u001b[0minplace\u001b[0m\u001b[0;34m=\u001b[0m\u001b[0minplace\u001b[0m\u001b[0;34m,\u001b[0m \u001b[0mlimit\u001b[0m\u001b[0;34m=\u001b[0m\u001b[0mlimit\u001b[0m\u001b[0;34m,\u001b[0m\u001b[0;34m\u001b[0m\u001b[0m\n\u001b[0;32m-> 2762\u001b[0;31m                                   downcast=downcast, **kwargs)\n\u001b[0m\u001b[1;32m   2763\u001b[0m \u001b[0;34m\u001b[0m\u001b[0m\n\u001b[1;32m   2764\u001b[0m     \u001b[0;34m@\u001b[0m\u001b[0mAppender\u001b[0m\u001b[0;34m(\u001b[0m\u001b[0m_shared_docs\u001b[0m\u001b[0;34m[\u001b[0m\u001b[0;34m'shift'\u001b[0m\u001b[0;34m]\u001b[0m \u001b[0;34m%\u001b[0m \u001b[0m_shared_doc_kwargs\u001b[0m\u001b[0;34m)\u001b[0m\u001b[0;34m\u001b[0m\u001b[0m\n",
      "\u001b[0;32m//anaconda/lib/python2.7/site-packages/pandas/core/generic.pyc\u001b[0m in \u001b[0;36mfillna\u001b[0;34m(self, value, method, axis, inplace, limit, downcast)\u001b[0m\n\u001b[1;32m   3182\u001b[0m                 new_data = self._data.fillna(value=value, limit=limit,\n\u001b[1;32m   3183\u001b[0m                                              \u001b[0minplace\u001b[0m\u001b[0;34m=\u001b[0m\u001b[0minplace\u001b[0m\u001b[0;34m,\u001b[0m\u001b[0;34m\u001b[0m\u001b[0m\n\u001b[0;32m-> 3184\u001b[0;31m                                              downcast=downcast)\n\u001b[0m\u001b[1;32m   3185\u001b[0m             \u001b[0;32melif\u001b[0m \u001b[0misinstance\u001b[0m\u001b[0;34m(\u001b[0m\u001b[0mvalue\u001b[0m\u001b[0;34m,\u001b[0m \u001b[0mDataFrame\u001b[0m\u001b[0;34m)\u001b[0m \u001b[0;32mand\u001b[0m \u001b[0mself\u001b[0m\u001b[0;34m.\u001b[0m\u001b[0mndim\u001b[0m \u001b[0;34m==\u001b[0m \u001b[0;36m2\u001b[0m\u001b[0;34m:\u001b[0m\u001b[0;34m\u001b[0m\u001b[0m\n\u001b[1;32m   3186\u001b[0m                 \u001b[0mnew_data\u001b[0m \u001b[0;34m=\u001b[0m \u001b[0mself\u001b[0m\u001b[0;34m.\u001b[0m\u001b[0mwhere\u001b[0m\u001b[0;34m(\u001b[0m\u001b[0mself\u001b[0m\u001b[0;34m.\u001b[0m\u001b[0mnotnull\u001b[0m\u001b[0;34m(\u001b[0m\u001b[0;34m)\u001b[0m\u001b[0;34m,\u001b[0m \u001b[0mvalue\u001b[0m\u001b[0;34m)\u001b[0m\u001b[0;34m\u001b[0m\u001b[0m\n",
      "\u001b[0;32m//anaconda/lib/python2.7/site-packages/pandas/core/internals.pyc\u001b[0m in \u001b[0;36mfillna\u001b[0;34m(self, **kwargs)\u001b[0m\n\u001b[1;32m   2930\u001b[0m \u001b[0;34m\u001b[0m\u001b[0m\n\u001b[1;32m   2931\u001b[0m     \u001b[0;32mdef\u001b[0m \u001b[0mfillna\u001b[0m\u001b[0;34m(\u001b[0m\u001b[0mself\u001b[0m\u001b[0;34m,\u001b[0m \u001b[0;34m**\u001b[0m\u001b[0mkwargs\u001b[0m\u001b[0;34m)\u001b[0m\u001b[0;34m:\u001b[0m\u001b[0;34m\u001b[0m\u001b[0m\n\u001b[0;32m-> 2932\u001b[0;31m         \u001b[0;32mreturn\u001b[0m \u001b[0mself\u001b[0m\u001b[0;34m.\u001b[0m\u001b[0mapply\u001b[0m\u001b[0;34m(\u001b[0m\u001b[0;34m'fillna'\u001b[0m\u001b[0;34m,\u001b[0m \u001b[0;34m**\u001b[0m\u001b[0mkwargs\u001b[0m\u001b[0;34m)\u001b[0m\u001b[0;34m\u001b[0m\u001b[0m\n\u001b[0m\u001b[1;32m   2933\u001b[0m \u001b[0;34m\u001b[0m\u001b[0m\n\u001b[1;32m   2934\u001b[0m     \u001b[0;32mdef\u001b[0m \u001b[0mdowncast\u001b[0m\u001b[0;34m(\u001b[0m\u001b[0mself\u001b[0m\u001b[0;34m,\u001b[0m \u001b[0;34m**\u001b[0m\u001b[0mkwargs\u001b[0m\u001b[0;34m)\u001b[0m\u001b[0;34m:\u001b[0m\u001b[0;34m\u001b[0m\u001b[0m\n",
      "\u001b[0;32m//anaconda/lib/python2.7/site-packages/pandas/core/internals.pyc\u001b[0m in \u001b[0;36mapply\u001b[0;34m(self, f, axes, filter, do_integrity_check, consolidate, raw, **kwargs)\u001b[0m\n\u001b[1;32m   2888\u001b[0m \u001b[0;34m\u001b[0m\u001b[0m\n\u001b[1;32m   2889\u001b[0m             \u001b[0mkwargs\u001b[0m\u001b[0;34m[\u001b[0m\u001b[0;34m'mgr'\u001b[0m\u001b[0;34m]\u001b[0m \u001b[0;34m=\u001b[0m \u001b[0mself\u001b[0m\u001b[0;34m\u001b[0m\u001b[0m\n\u001b[0;32m-> 2890\u001b[0;31m             \u001b[0mapplied\u001b[0m \u001b[0;34m=\u001b[0m \u001b[0mgetattr\u001b[0m\u001b[0;34m(\u001b[0m\u001b[0mb\u001b[0m\u001b[0;34m,\u001b[0m \u001b[0mf\u001b[0m\u001b[0;34m)\u001b[0m\u001b[0;34m(\u001b[0m\u001b[0;34m**\u001b[0m\u001b[0mkwargs\u001b[0m\u001b[0;34m)\u001b[0m\u001b[0;34m\u001b[0m\u001b[0m\n\u001b[0m\u001b[1;32m   2891\u001b[0m             \u001b[0mresult_blocks\u001b[0m \u001b[0;34m=\u001b[0m \u001b[0m_extend_blocks\u001b[0m\u001b[0;34m(\u001b[0m\u001b[0mapplied\u001b[0m\u001b[0;34m,\u001b[0m \u001b[0mresult_blocks\u001b[0m\u001b[0;34m)\u001b[0m\u001b[0;34m\u001b[0m\u001b[0m\n\u001b[1;32m   2892\u001b[0m \u001b[0;34m\u001b[0m\u001b[0m\n",
      "\u001b[0;32m//anaconda/lib/python2.7/site-packages/pandas/core/internals.pyc\u001b[0m in \u001b[0;36mfillna\u001b[0;34m(self, value, limit, inplace, downcast, mgr)\u001b[0m\n\u001b[1;32m   1948\u001b[0m         \u001b[0mvalues\u001b[0m \u001b[0;34m=\u001b[0m \u001b[0mself\u001b[0m\u001b[0;34m.\u001b[0m\u001b[0mvalues\u001b[0m \u001b[0;32mif\u001b[0m \u001b[0minplace\u001b[0m \u001b[0;32melse\u001b[0m \u001b[0mself\u001b[0m\u001b[0;34m.\u001b[0m\u001b[0mvalues\u001b[0m\u001b[0;34m.\u001b[0m\u001b[0mcopy\u001b[0m\u001b[0;34m(\u001b[0m\u001b[0;34m)\u001b[0m\u001b[0;34m\u001b[0m\u001b[0m\n\u001b[1;32m   1949\u001b[0m         values = self._try_coerce_result(values.fillna(value=value,\n\u001b[0;32m-> 1950\u001b[0;31m                                                        limit=limit))\n\u001b[0m\u001b[1;32m   1951\u001b[0m         \u001b[0;32mreturn\u001b[0m \u001b[0;34m[\u001b[0m\u001b[0mself\u001b[0m\u001b[0;34m.\u001b[0m\u001b[0mmake_block\u001b[0m\u001b[0;34m(\u001b[0m\u001b[0mvalues\u001b[0m\u001b[0;34m=\u001b[0m\u001b[0mvalues\u001b[0m\u001b[0;34m)\u001b[0m\u001b[0;34m]\u001b[0m\u001b[0;34m\u001b[0m\u001b[0m\n\u001b[1;32m   1952\u001b[0m \u001b[0;34m\u001b[0m\u001b[0m\n",
      "\u001b[0;32m//anaconda/lib/python2.7/site-packages/pandas/util/decorators.pyc\u001b[0m in \u001b[0;36mwrapper\u001b[0;34m(*args, **kwargs)\u001b[0m\n\u001b[1;32m     89\u001b[0m                 \u001b[0;32melse\u001b[0m\u001b[0;34m:\u001b[0m\u001b[0;34m\u001b[0m\u001b[0m\n\u001b[1;32m     90\u001b[0m                     \u001b[0mkwargs\u001b[0m\u001b[0;34m[\u001b[0m\u001b[0mnew_arg_name\u001b[0m\u001b[0;34m]\u001b[0m \u001b[0;34m=\u001b[0m \u001b[0mnew_arg_value\u001b[0m\u001b[0;34m\u001b[0m\u001b[0m\n\u001b[0;32m---> 91\u001b[0;31m             \u001b[0;32mreturn\u001b[0m \u001b[0mfunc\u001b[0m\u001b[0;34m(\u001b[0m\u001b[0;34m*\u001b[0m\u001b[0margs\u001b[0m\u001b[0;34m,\u001b[0m \u001b[0;34m**\u001b[0m\u001b[0mkwargs\u001b[0m\u001b[0;34m)\u001b[0m\u001b[0;34m\u001b[0m\u001b[0m\n\u001b[0m\u001b[1;32m     92\u001b[0m         \u001b[0;32mreturn\u001b[0m \u001b[0mwrapper\u001b[0m\u001b[0;34m\u001b[0m\u001b[0m\n\u001b[1;32m     93\u001b[0m     \u001b[0;32mreturn\u001b[0m \u001b[0m_deprecate_kwarg\u001b[0m\u001b[0;34m\u001b[0m\u001b[0m\n",
      "\u001b[0;32m//anaconda/lib/python2.7/site-packages/pandas/core/categorical.pyc\u001b[0m in \u001b[0;36mfillna\u001b[0;34m(self, value, method, limit)\u001b[0m\n\u001b[1;32m   1425\u001b[0m \u001b[0;34m\u001b[0m\u001b[0m\n\u001b[1;32m   1426\u001b[0m             \u001b[0;32mif\u001b[0m \u001b[0;32mnot\u001b[0m \u001b[0misnull\u001b[0m\u001b[0;34m(\u001b[0m\u001b[0mvalue\u001b[0m\u001b[0;34m)\u001b[0m \u001b[0;32mand\u001b[0m \u001b[0mvalue\u001b[0m \u001b[0;32mnot\u001b[0m \u001b[0;32min\u001b[0m \u001b[0mself\u001b[0m\u001b[0;34m.\u001b[0m\u001b[0mcategories\u001b[0m\u001b[0;34m:\u001b[0m\u001b[0;34m\u001b[0m\u001b[0m\n\u001b[0;32m-> 1427\u001b[0;31m                 \u001b[0;32mraise\u001b[0m \u001b[0mValueError\u001b[0m\u001b[0;34m(\u001b[0m\u001b[0;34m\"fill value must be in categories\"\u001b[0m\u001b[0;34m)\u001b[0m\u001b[0;34m\u001b[0m\u001b[0m\n\u001b[0m\u001b[1;32m   1428\u001b[0m \u001b[0;34m\u001b[0m\u001b[0m\n\u001b[1;32m   1429\u001b[0m             \u001b[0mmask\u001b[0m \u001b[0;34m=\u001b[0m \u001b[0mvalues\u001b[0m \u001b[0;34m==\u001b[0m \u001b[0;34m-\u001b[0m\u001b[0;36m1\u001b[0m\u001b[0;34m\u001b[0m\u001b[0m\n",
      "\u001b[0;31mValueError\u001b[0m: fill value must be in categories"
     ]
    }
   ],
   "source": [
    "#df = df.replace('*', 0)\n",
    "# features.replace('True', 1)\n",
    "# features.replace('False', 0)\n",
    "features.fillna(-999)\n",
    "print features\n"
   ]
  },
  {
   "cell_type": "code",
   "execution_count": null,
   "metadata": {
    "collapsed": true
   },
   "outputs": [],
   "source": []
  }
 ],
 "metadata": {
  "anaconda-cloud": {},
  "kernelspec": {
   "display_name": "Python [Root]",
   "language": "python",
   "name": "Python [Root]"
  },
  "language_info": {
   "codemirror_mode": {
    "name": "ipython",
    "version": 2
   },
   "file_extension": ".py",
   "mimetype": "text/x-python",
   "name": "python",
   "nbconvert_exporter": "python",
   "pygments_lexer": "ipython2",
   "version": "2.7.12"
  }
 },
 "nbformat": 4,
 "nbformat_minor": 0
}
