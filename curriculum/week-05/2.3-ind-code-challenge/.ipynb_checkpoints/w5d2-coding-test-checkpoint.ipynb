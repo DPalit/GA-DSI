{
 "cells": [
  {
   "cell_type": "markdown",
   "metadata": {},
   "source": [
    "# ![](https://ga-dash.s3.amazonaws.com/production/assets/logo-9f88ae6c9c3871690e33280fcf557f33.png) Individual Coding Challenge\n",
    "Week 5 | Day 2"
   ]
  },
  {
   "cell_type": "markdown",
   "metadata": {},
   "source": [
    "This is your first individual coding challenge. There are a series of exercises in this notebook that you will need to perform. This challenge to be done individually - **without help from either fellow students or the instructors**. You are free to use the documention or any online resources you choose. You will have one hour to complete this workbook. If you get stuck on one question keep moving.<br><br> **It must be submitted before 5pm via Slack**. <br><br>**- _NO LATE ENTRIES WILL BE ACCEPTED_ - <br><br>The Slack timestamp of submission will be definitive.**"
   ]
  },
  {
   "cell_type": "markdown",
   "metadata": {},
   "source": [
    "### 1. Read in the csv at this link using pandas and save it as a DataFrame:\n",
    "https://www.dropbox.com/s/1k9cgsd7bzce0yk/housing-data.csv?dl=1"
   ]
  },
  {
   "cell_type": "code",
   "execution_count": 2,
   "metadata": {
    "collapsed": false
   },
   "outputs": [
    {
     "name": "stdout",
     "output_type": "stream",
     "text": [
      "    sqft  bdrms  age   price\n",
      "0   2104      3   70  399900\n",
      "1   1600      3   28  329900\n",
      "2   2400      3   44  369000\n",
      "3   1416      2   49  232000\n",
      "4   3000      4   75  539900\n",
      "5   1985      4   61  299900\n",
      "6   1534      3   12  314900\n",
      "7   1427      3   57  198999\n",
      "8   1380      3   14  212000\n",
      "9   1494      3   15  242500\n",
      "10  1940      4    7  239999\n",
      "11  2000      3   27  347000\n",
      "12  1890      3   45  329999\n",
      "13  4478      5   49  699900\n",
      "14  1268      3   58  259900\n",
      "15  2300      4   77  449900\n",
      "16  1320      2   62  299900\n",
      "17  1236      3   78  199900\n",
      "18  2609      4    5  499998\n",
      "19  3031      4   21  599000\n",
      "20  1767      3   44  252900\n",
      "21  1888      2   79  255000\n",
      "22  1604      3   13  242900\n",
      "23  1962      4   53  259900\n",
      "24  3890      3   36  573900\n",
      "25  1100      3   60  249900\n",
      "26  1458      3   29  464500\n",
      "27  2526      3   13  469000\n",
      "28  2200      3   28  475000\n",
      "29  2637      3   25  299900\n",
      "30  1839      2   40  349900\n",
      "31  1000      1    5  169900\n",
      "32  2040      4   75  314900\n",
      "33  3137      3   67  579900\n",
      "34  1811      4   24  285900\n",
      "35  1437      3   50  249900\n",
      "36  1239      3   22  229900\n",
      "37  2132      4   28  345000\n",
      "38  4215      4   66  549000\n",
      "39  2162      4   43  287000\n",
      "40  1664      2   40  368500\n",
      "41  2238      3   37  329900\n",
      "42  2567      4   57  314000\n",
      "43  1200      3   76  299000\n",
      "44   852      2   70  179900\n",
      "45  1852      4   64  299900\n",
      "46  1203      3   11  239500\n"
     ]
    }
   ],
   "source": [
    "import pandas as pd\n",
    "df = pd.read_csv(\"https://www.dropbox.com/s/1k9cgsd7bzce0yk/housing-data.csv?dl=1\")\n",
    "print df\n"
   ]
  },
  {
   "cell_type": "code",
   "execution_count": null,
   "metadata": {
    "collapsed": false,
    "scrolled": true
   },
   "outputs": [],
   "source": []
  },
  {
   "cell_type": "markdown",
   "metadata": {},
   "source": [
    "### 2. Get the datatypes of your DataFrame and find the 75th percentile of 'age' and 'price'"
   ]
  },
  {
   "cell_type": "code",
   "execution_count": 3,
   "metadata": {
    "collapsed": false
   },
   "outputs": [
    {
     "name": "stdout",
     "output_type": "stream",
     "text": [
      "<class 'pandas.core.frame.DataFrame'>\n",
      "RangeIndex: 47 entries, 0 to 46\n",
      "Data columns (total 4 columns):\n",
      "sqft     47 non-null int64\n",
      "bdrms    47 non-null int64\n",
      "age      47 non-null int64\n",
      "price    47 non-null int64\n",
      "dtypes: int64(4)\n",
      "memory usage: 1.5 KB\n",
      "None\n"
     ]
    }
   ],
   "source": [
    "print df.info()\n"
   ]
  },
  {
   "cell_type": "code",
   "execution_count": 4,
   "metadata": {
    "collapsed": false
   },
   "outputs": [
    {
     "data": {
      "text/html": [
       "<div>\n",
       "<table border=\"1\" class=\"dataframe\">\n",
       "  <thead>\n",
       "    <tr style=\"text-align: right;\">\n",
       "      <th></th>\n",
       "      <th>sqft</th>\n",
       "      <th>bdrms</th>\n",
       "      <th>age</th>\n",
       "      <th>price</th>\n",
       "    </tr>\n",
       "  </thead>\n",
       "  <tbody>\n",
       "    <tr>\n",
       "      <th>count</th>\n",
       "      <td>47.000000</td>\n",
       "      <td>47.000000</td>\n",
       "      <td>47.000000</td>\n",
       "      <td>47.000000</td>\n",
       "    </tr>\n",
       "    <tr>\n",
       "      <th>mean</th>\n",
       "      <td>2000.680851</td>\n",
       "      <td>3.170213</td>\n",
       "      <td>42.744681</td>\n",
       "      <td>340412.659574</td>\n",
       "    </tr>\n",
       "    <tr>\n",
       "      <th>std</th>\n",
       "      <td>794.702354</td>\n",
       "      <td>0.760982</td>\n",
       "      <td>22.873440</td>\n",
       "      <td>125039.899586</td>\n",
       "    </tr>\n",
       "    <tr>\n",
       "      <th>min</th>\n",
       "      <td>852.000000</td>\n",
       "      <td>1.000000</td>\n",
       "      <td>5.000000</td>\n",
       "      <td>169900.000000</td>\n",
       "    </tr>\n",
       "    <tr>\n",
       "      <th>25%</th>\n",
       "      <td>1432.000000</td>\n",
       "      <td>3.000000</td>\n",
       "      <td>24.500000</td>\n",
       "      <td>249900.000000</td>\n",
       "    </tr>\n",
       "    <tr>\n",
       "      <th>50%</th>\n",
       "      <td>1888.000000</td>\n",
       "      <td>3.000000</td>\n",
       "      <td>44.000000</td>\n",
       "      <td>299900.000000</td>\n",
       "    </tr>\n",
       "    <tr>\n",
       "      <th>75%</th>\n",
       "      <td>2269.000000</td>\n",
       "      <td>4.000000</td>\n",
       "      <td>61.500000</td>\n",
       "      <td>384450.000000</td>\n",
       "    </tr>\n",
       "    <tr>\n",
       "      <th>max</th>\n",
       "      <td>4478.000000</td>\n",
       "      <td>5.000000</td>\n",
       "      <td>79.000000</td>\n",
       "      <td>699900.000000</td>\n",
       "    </tr>\n",
       "  </tbody>\n",
       "</table>\n",
       "</div>"
      ],
      "text/plain": [
       "              sqft      bdrms        age          price\n",
       "count    47.000000  47.000000  47.000000      47.000000\n",
       "mean   2000.680851   3.170213  42.744681  340412.659574\n",
       "std     794.702354   0.760982  22.873440  125039.899586\n",
       "min     852.000000   1.000000   5.000000  169900.000000\n",
       "25%    1432.000000   3.000000  24.500000  249900.000000\n",
       "50%    1888.000000   3.000000  44.000000  299900.000000\n",
       "75%    2269.000000   4.000000  61.500000  384450.000000\n",
       "max    4478.000000   5.000000  79.000000  699900.000000"
      ]
     },
     "execution_count": 4,
     "metadata": {},
     "output_type": "execute_result"
    }
   ],
   "source": [
    "df.describe()"
   ]
  },
  {
   "cell_type": "markdown",
   "metadata": {},
   "source": [
    "### 3. Get the correlations for each column vs. the others. Which feature has the highest correlation with price?"
   ]
  },
  {
   "cell_type": "code",
   "execution_count": 7,
   "metadata": {
    "collapsed": false
   },
   "outputs": [
    {
     "data": {
      "image/png": "[encoded data removed]",
      "text/plain": [
       "<matplotlib.figure.Figure at 0x11187f410>"
      ]
     },
     "metadata": {},
     "output_type": "display_data"
    }
   ],
   "source": [
    "%matplotlib inline\n",
    "import seaborn as sns\n",
    "from matplotlib import pyplot as plt\n",
    "\n",
    "names = [\"sqft\"]\n",
    "for name in names:\n",
    "    df.plot.scatter(x=name, y='price')"
   ]
  },
  {
   "cell_type": "code",
   "execution_count": 8,
   "metadata": {
    "collapsed": false
   },
   "outputs": [
    {
     "data": {
      "image/png": "[encoded data removed]",
      "text/plain": [
       "<matplotlib.figure.Figure at 0x118f7d1d0>"
      ]
     },
     "metadata": {},
     "output_type": "display_data"
    }
   ],
   "source": [
    "%matplotlib inline\n",
    "import seaborn as sns\n",
    "from matplotlib import pyplot as plt\n",
    "\n",
    "names = [\"sqft\"]\n",
    "for name in names:\n",
    "    df.plot.scatter(x=name, y='bdrms')"
   ]
  },
  {
   "cell_type": "code",
   "execution_count": 9,
   "metadata": {
    "collapsed": false
   },
   "outputs": [
    {
     "data": {
      "image/png": "[encoded data removed]",
      "text/plain": [
       "<matplotlib.figure.Figure at 0x11a2ae3d0>"
      ]
     },
     "metadata": {},
     "output_type": "display_data"
    }
   ],
   "source": [
    "%matplotlib inline\n",
    "import seaborn as sns\n",
    "from matplotlib import pyplot as plt\n",
    "\n",
    "names = [\"sqft\"]\n",
    "for name in names:\n",
    "    df.plot.scatter(x=name, y='age')"
   ]
  },
  {
   "cell_type": "code",
   "execution_count": 10,
   "metadata": {
    "collapsed": false
   },
   "outputs": [
    {
     "data": {
      "image/png": "[encoded data removed]",
      "text/plain": [
       "<matplotlib.figure.Figure at 0x11a2ae590>"
      ]
     },
     "metadata": {},
     "output_type": "display_data"
    }
   ],
   "source": [
    "%matplotlib inline\n",
    "import seaborn as sns\n",
    "from matplotlib import pyplot as plt\n",
    "\n",
    "names = [\"bdrms\"]\n",
    "for name in names:\n",
    "    df.plot.scatter(x=name, y='price')"
   ]
  },
  {
   "cell_type": "code",
   "execution_count": 13,
   "metadata": {
    "collapsed": false
   },
   "outputs": [
    {
     "data": {
      "image/png": "[encoded data removed]",
      "text/plain": [
       "<matplotlib.figure.Figure at 0x11a000790>"
      ]
     },
     "metadata": {},
     "output_type": "display_data"
    }
   ],
   "source": [
    "%matplotlib inline\n",
    "import seaborn as sns\n",
    "from matplotlib import pyplot as plt\n",
    "\n",
    "names = [\"bdrms\"]\n",
    "for name in names:\n",
    "    df.plot.scatter(x=name, y='age')"
   ]
  },
  {
   "cell_type": "code",
   "execution_count": 12,
   "metadata": {
    "collapsed": false
   },
   "outputs": [
    {
     "data": {
      "image/png": "[encoded data removed]",
      "text/plain": [
       "<matplotlib.figure.Figure at 0x119d547d0>"
      ]
     },
     "metadata": {},
     "output_type": "display_data"
    }
   ],
   "source": [
    "%matplotlib inline\n",
    "import seaborn as sns\n",
    "from matplotlib import pyplot as plt\n",
    "\n",
    "names = [\"age\"]\n",
    "for name in names:\n",
    "    df.plot.scatter(x=name, y='price')"
   ]
  },
  {
   "cell_type": "markdown",
   "metadata": {},
   "source": [
    "sqft has the highest correlation with price"
   ]
  },
  {
   "cell_type": "markdown",
   "metadata": {},
   "source": [
    "### 4. Plot the correlations and histograms using seaborn"
   ]
  },
  {
   "cell_type": "code",
   "execution_count": 6,
   "metadata": {
    "collapsed": false
   },
   "outputs": [
    {
     "data": {
      "image/png": "[encoded data removed]",
      "text/plain": [
       "<matplotlib.figure.Figure at 0x103e9c390>"
      ]
     },
     "metadata": {},
     "output_type": "display_data"
    },
    {
     "data": {
      "image/png": "[encoded data removed]",
      "text/plain": [
       "<matplotlib.figure.Figure at 0x116a34dd0>"
      ]
     },
     "metadata": {},
     "output_type": "display_data"
    },
    {
     "data": {
      "image/png": "[encoded data removed]",
      "text/plain": [
       "<matplotlib.figure.Figure at 0x119ae2b90>"
      ]
     },
     "metadata": {},
     "output_type": "display_data"
    }
   ],
   "source": [
    "%matplotlib inline\n",
    "import seaborn as sns\n",
    "from matplotlib import pyplot as plt\n",
    "\n",
    "names = [\"sqft\", \"bdrms\", \"age\"]\n",
    "for name in names:\n",
    "    df.plot.scatter(x=name, y='price')"
   ]
  },
  {
   "cell_type": "code",
   "execution_count": 14,
   "metadata": {
    "collapsed": false
   },
   "outputs": [
    {
     "data": {
      "text/plain": [
       "<matplotlib.axes._subplots.AxesSubplot at 0x119d7ae50>"
      ]
     },
     "execution_count": 14,
     "metadata": {},
     "output_type": "execute_result"
    },
    {
     "data": {
      "image/png": "[encoded data removed]",
      "text/plain": [
       "<matplotlib.figure.Figure at 0x11975e890>"
      ]
     },
     "metadata": {},
     "output_type": "display_data"
    }
   ],
   "source": [
    "df['sqft'].hist()"
   ]
  },
  {
   "cell_type": "code",
   "execution_count": 15,
   "metadata": {
    "collapsed": false
   },
   "outputs": [
    {
     "data": {
      "text/plain": [
       "<matplotlib.axes._subplots.AxesSubplot at 0x118f71150>"
      ]
     },
     "execution_count": 15,
     "metadata": {},
     "output_type": "execute_result"
    },
    {
     "data": {
      "image/png": "[encoded data removed]",
      "text/plain": [
       "<matplotlib.figure.Figure at 0x119e283d0>"
      ]
     },
     "metadata": {},
     "output_type": "display_data"
    }
   ],
   "source": [
    "df['bdrms'].hist()"
   ]
  },
  {
   "cell_type": "code",
   "execution_count": 16,
   "metadata": {
    "collapsed": false
   },
   "outputs": [
    {
     "data": {
      "text/plain": [
       "<matplotlib.axes._subplots.AxesSubplot at 0x119e16310>"
      ]
     },
     "execution_count": 16,
     "metadata": {},
     "output_type": "execute_result"
    },
    {
     "data": {
      "image/png": "[encoded data removed]",
      "text/plain": [
       "<matplotlib.figure.Figure at 0x119ddec50>"
      ]
     },
     "metadata": {},
     "output_type": "display_data"
    }
   ],
   "source": [
    "df['age'].hist()"
   ]
  },
  {
   "cell_type": "code",
   "execution_count": 17,
   "metadata": {
    "collapsed": false
   },
   "outputs": [
    {
     "data": {
      "text/plain": [
       "<matplotlib.axes._subplots.AxesSubplot at 0x119e28290>"
      ]
     },
     "execution_count": 17,
     "metadata": {},
     "output_type": "execute_result"
    },
    {
     "data": {
      "image/png": "[encoded data removed]",
      "text/plain": [
       "<matplotlib.figure.Figure at 0x11a271990>"
      ]
     },
     "metadata": {},
     "output_type": "display_data"
    }
   ],
   "source": [
    "df['price'].hist()"
   ]
  },
  {
   "cell_type": "code",
   "execution_count": null,
   "metadata": {
    "collapsed": true
   },
   "outputs": [],
   "source": []
  },
  {
   "cell_type": "markdown",
   "metadata": {},
   "source": [
    "### 5. Change the column names to uppercase using a list comprehension"
   ]
  },
  {
   "cell_type": "code",
   "execution_count": 18,
   "metadata": {
    "collapsed": false
   },
   "outputs": [
    {
     "data": {
      "text/plain": [
       "Index([u'sqft', u'bdrms', u'age', u'price'], dtype='object')"
      ]
     },
     "execution_count": 18,
     "metadata": {},
     "output_type": "execute_result"
    }
   ],
   "source": [
    "df.columns"
   ]
  },
  {
   "cell_type": "code",
   "execution_count": 20,
   "metadata": {
    "collapsed": false,
    "scrolled": true
   },
   "outputs": [
    {
     "name": "stdout",
     "output_type": "stream",
     "text": [
      "['sqft', 'bdrms', 'age', 'price']\n"
     ]
    }
   ],
   "source": [
    "c = list(df.columns)\n",
    "print c"
   ]
  },
  {
   "cell_type": "code",
   "execution_count": 22,
   "metadata": {
    "collapsed": false
   },
   "outputs": [
    {
     "data": {
      "text/plain": [
       "['SQFT', 'BDRMS', 'AGE', 'PRICE']"
      ]
     },
     "execution_count": 22,
     "metadata": {},
     "output_type": "execute_result"
    }
   ],
   "source": [
    "[x.upper() for x in c]"
   ]
  },
  {
   "cell_type": "code",
   "execution_count": null,
   "metadata": {
    "collapsed": true
   },
   "outputs": [],
   "source": []
  },
  {
   "cell_type": "code",
   "execution_count": null,
   "metadata": {
    "collapsed": true
   },
   "outputs": [],
   "source": []
  },
  {
   "cell_type": "code",
   "execution_count": null,
   "metadata": {
    "collapsed": true
   },
   "outputs": [],
   "source": []
  },
  {
   "cell_type": "code",
   "execution_count": null,
   "metadata": {
    "collapsed": true
   },
   "outputs": [],
   "source": []
  },
  {
   "cell_type": "markdown",
   "metadata": {},
   "source": [
    "### 6. Standardize each column - except price - using a list comprehension. Save the newly scaled columns to the DataFrame with the prepend 'SC_'. For example, 'SC_BDRMS'. You may use numpy for this. \n",
    "\n",
    "Refer to this if you are confused as to the formula: [Standardization](http://sebastianraschka.com/Articles/2014_about_feature_scaling.html#z-score-standardization-or-min-max-scaling)"
   ]
  },
  {
   "cell_type": "code",
   "execution_count": 24,
   "metadata": {
    "collapsed": false,
    "scrolled": true
   },
   "outputs": [
    {
     "name": "stdout",
     "output_type": "stream",
     "text": [
      "[  1.31415422e-01  -5.09640698e-01   5.07908699e-01  -7.43677059e-01\n",
      "   1.27107075e+00  -1.99450507e-02  -5.93588523e-01  -7.29685755e-01\n",
      "  -7.89466782e-01  -6.44465993e-01  -7.71822042e-02  -8.65999486e-04\n",
      "  -1.40779041e-01   3.15099326e+00  -9.31923697e-01   3.80715024e-01\n",
      "  -8.65782986e-01  -9.72625673e-01   7.73743478e-01   1.31050078e+00\n",
      "  -2.97227261e-01  -1.43322915e-01  -5.04552951e-01  -4.91995958e-02\n",
      "   2.40309445e+00  -1.14560907e+00  -6.90255715e-01   6.68172729e-01\n",
      "   2.53521350e-01   8.09357707e-01  -2.05647815e-01  -1.27280274e+00\n",
      "   5.00114703e-02   1.44532608e+00  -2.41262044e-01  -7.16966387e-01\n",
      "  -9.68809863e-01   1.67029651e-01   2.81647389e+00   2.05187753e-01\n",
      "  -4.28236746e-01   3.01854946e-01   7.20322135e-01  -1.01841540e+00\n",
      "  -1.46104938e+00  -1.89112638e-01  -1.01459959e+00]\n"
     ]
    }
   ],
   "source": [
    "import numpy as np\n",
    "x_np = np.asarray(df['sqft'])\n",
    "sqft_scores_np = (x_np - x_np.mean()) / x_np.std()\n",
    "print sqft_scores_np"
   ]
  },
  {
   "cell_type": "code",
   "execution_count": 25,
   "metadata": {
    "collapsed": false,
    "scrolled": true
   },
   "outputs": [
    {
     "name": "stdout",
     "output_type": "stream",
     "text": [
      "[-0.22609337 -0.22609337 -0.22609337 -1.5543919   1.10220517  1.10220517\n",
      " -0.22609337 -0.22609337 -0.22609337 -0.22609337  1.10220517 -0.22609337\n",
      " -0.22609337  2.4305037  -0.22609337  1.10220517 -1.5543919  -0.22609337\n",
      "  1.10220517  1.10220517 -0.22609337 -1.5543919  -0.22609337  1.10220517\n",
      " -0.22609337 -0.22609337 -0.22609337 -0.22609337 -0.22609337 -0.22609337\n",
      " -1.5543919  -2.88269044  1.10220517 -0.22609337  1.10220517 -0.22609337\n",
      " -0.22609337  1.10220517  1.10220517  1.10220517 -1.5543919  -0.22609337\n",
      "  1.10220517 -0.22609337 -1.5543919   1.10220517 -0.22609337]\n"
     ]
    }
   ],
   "source": [
    "x_np = np.asarray(df['bdrms'])\n",
    "bdrms_scores_np = (x_np - x_np.mean()) / x_np.std()\n",
    "print bdrms_scores_np"
   ]
  },
  {
   "cell_type": "code",
   "execution_count": 26,
   "metadata": {
    "collapsed": false
   },
   "outputs": [
    {
     "name": "stdout",
     "output_type": "stream",
     "text": [
      "[ 1.20445283 -0.65158924  0.05547441  0.2764318   1.42541022  0.80672953\n",
      " -1.35865288  0.62996362 -1.27026993 -1.22607845 -1.57961027 -0.69578072\n",
      "  0.09966589  0.2764318   0.6741551   1.51379318  0.85092101  1.55798466\n",
      " -1.66799323 -0.96092958  0.05547441  1.60217613 -1.31446141  0.45319771\n",
      " -0.29805741  0.76253805 -0.60739776 -1.31446141 -0.65158924 -0.78416367\n",
      " -0.1212915  -1.66799323  1.42541022  1.0718784  -0.82835515  0.32062328\n",
      " -0.91673811 -0.65158924  1.02768692  0.01128293 -0.1212915  -0.25386594\n",
      "  0.62996362  1.4696017   1.20445283  0.93930397 -1.40284436]\n"
     ]
    }
   ],
   "source": [
    "x_np = np.asarray(df['age'])\n",
    "age_scores_np = (x_np - x_np.mean()) / x_np.std()\n",
    "print age_scores_np"
   ]
  },
  {
   "cell_type": "code",
   "execution_count": 27,
   "metadata": {
    "collapsed": false
   },
   "outputs": [
    {
     "name": "stdout",
     "output_type": "stream",
     "text": [
      "<type 'numpy.ndarray'>\n"
     ]
    }
   ],
   "source": [
    "print type(age_scores_np)"
   ]
  },
  {
   "cell_type": "code",
   "execution_count": 34,
   "metadata": {
    "collapsed": false
   },
   "outputs": [
    {
     "name": "stdout",
     "output_type": "stream",
     "text": [
      "    sqft  bdrms  age   price   SD_sqft\n",
      "0   2104      3   70  399900  0.131415\n",
      "1   1600      3   28  329900 -0.509641\n",
      "2   2400      3   44  369000  0.507909\n",
      "3   1416      2   49  232000 -0.743677\n",
      "4   3000      4   75  539900  1.271071\n",
      "5   1985      4   61  299900 -0.019945\n",
      "6   1534      3   12  314900 -0.593589\n",
      "7   1427      3   57  198999 -0.729686\n",
      "8   1380      3   14  212000 -0.789467\n",
      "9   1494      3   15  242500 -0.644466\n",
      "10  1940      4    7  239999 -0.077182\n",
      "11  2000      3   27  347000 -0.000866\n",
      "12  1890      3   45  329999 -0.140779\n",
      "13  4478      5   49  699900  3.150993\n",
      "14  1268      3   58  259900 -0.931924\n",
      "15  2300      4   77  449900  0.380715\n",
      "16  1320      2   62  299900 -0.865783\n",
      "17  1236      3   78  199900 -0.972626\n",
      "18  2609      4    5  499998  0.773743\n",
      "19  3031      4   21  599000  1.310501\n",
      "20  1767      3   44  252900 -0.297227\n",
      "21  1888      2   79  255000 -0.143323\n",
      "22  1604      3   13  242900 -0.504553\n",
      "23  1962      4   53  259900 -0.049200\n",
      "24  3890      3   36  573900  2.403094\n",
      "25  1100      3   60  249900 -1.145609\n",
      "26  1458      3   29  464500 -0.690256\n",
      "27  2526      3   13  469000  0.668173\n",
      "28  2200      3   28  475000  0.253521\n",
      "29  2637      3   25  299900  0.809358\n",
      "30  1839      2   40  349900 -0.205648\n",
      "31  1000      1    5  169900 -1.272803\n",
      "32  2040      4   75  314900  0.050011\n",
      "33  3137      3   67  579900  1.445326\n",
      "34  1811      4   24  285900 -0.241262\n",
      "35  1437      3   50  249900 -0.716966\n",
      "36  1239      3   22  229900 -0.968810\n",
      "37  2132      4   28  345000  0.167030\n",
      "38  4215      4   66  549000  2.816474\n",
      "39  2162      4   43  287000  0.205188\n",
      "40  1664      2   40  368500 -0.428237\n",
      "41  2238      3   37  329900  0.301855\n",
      "42  2567      4   57  314000  0.720322\n",
      "43  1200      3   76  299000 -1.018415\n",
      "44   852      2   70  179900 -1.461049\n",
      "45  1852      4   64  299900 -0.189113\n",
      "46  1203      3   11  239500 -1.014600\n"
     ]
    }
   ],
   "source": [
    "df['SD_sqft']=sqft_scores_np\n",
    "print df"
   ]
  },
  {
   "cell_type": "code",
   "execution_count": 35,
   "metadata": {
    "collapsed": false
   },
   "outputs": [],
   "source": [
    "df['SD_bdrms']=bdrms_scores_np"
   ]
  },
  {
   "cell_type": "code",
   "execution_count": 36,
   "metadata": {
    "collapsed": true
   },
   "outputs": [],
   "source": [
    "df['SD_age']=age_scores_np"
   ]
  },
  {
   "cell_type": "code",
   "execution_count": 37,
   "metadata": {
    "collapsed": false
   },
   "outputs": [
    {
     "name": "stdout",
     "output_type": "stream",
     "text": [
      "    sqft  bdrms  age   price   SD_sqft  SD_bdrms    SD_age\n",
      "0   2104      3   70  399900  0.131415 -0.226093  1.204453\n",
      "1   1600      3   28  329900 -0.509641 -0.226093 -0.651589\n",
      "2   2400      3   44  369000  0.507909 -0.226093  0.055474\n",
      "3   1416      2   49  232000 -0.743677 -1.554392  0.276432\n",
      "4   3000      4   75  539900  1.271071  1.102205  1.425410\n",
      "5   1985      4   61  299900 -0.019945  1.102205  0.806730\n",
      "6   1534      3   12  314900 -0.593589 -0.226093 -1.358653\n",
      "7   1427      3   57  198999 -0.729686 -0.226093  0.629964\n",
      "8   1380      3   14  212000 -0.789467 -0.226093 -1.270270\n",
      "9   1494      3   15  242500 -0.644466 -0.226093 -1.226078\n",
      "10  1940      4    7  239999 -0.077182  1.102205 -1.579610\n",
      "11  2000      3   27  347000 -0.000866 -0.226093 -0.695781\n",
      "12  1890      3   45  329999 -0.140779 -0.226093  0.099666\n",
      "13  4478      5   49  699900  3.150993  2.430504  0.276432\n",
      "14  1268      3   58  259900 -0.931924 -0.226093  0.674155\n",
      "15  2300      4   77  449900  0.380715  1.102205  1.513793\n",
      "16  1320      2   62  299900 -0.865783 -1.554392  0.850921\n",
      "17  1236      3   78  199900 -0.972626 -0.226093  1.557985\n",
      "18  2609      4    5  499998  0.773743  1.102205 -1.667993\n",
      "19  3031      4   21  599000  1.310501  1.102205 -0.960930\n",
      "20  1767      3   44  252900 -0.297227 -0.226093  0.055474\n",
      "21  1888      2   79  255000 -0.143323 -1.554392  1.602176\n",
      "22  1604      3   13  242900 -0.504553 -0.226093 -1.314461\n",
      "23  1962      4   53  259900 -0.049200  1.102205  0.453198\n",
      "24  3890      3   36  573900  2.403094 -0.226093 -0.298057\n",
      "25  1100      3   60  249900 -1.145609 -0.226093  0.762538\n",
      "26  1458      3   29  464500 -0.690256 -0.226093 -0.607398\n",
      "27  2526      3   13  469000  0.668173 -0.226093 -1.314461\n",
      "28  2200      3   28  475000  0.253521 -0.226093 -0.651589\n",
      "29  2637      3   25  299900  0.809358 -0.226093 -0.784164\n",
      "30  1839      2   40  349900 -0.205648 -1.554392 -0.121292\n",
      "31  1000      1    5  169900 -1.272803 -2.882690 -1.667993\n",
      "32  2040      4   75  314900  0.050011  1.102205  1.425410\n",
      "33  3137      3   67  579900  1.445326 -0.226093  1.071878\n",
      "34  1811      4   24  285900 -0.241262  1.102205 -0.828355\n",
      "35  1437      3   50  249900 -0.716966 -0.226093  0.320623\n",
      "36  1239      3   22  229900 -0.968810 -0.226093 -0.916738\n",
      "37  2132      4   28  345000  0.167030  1.102205 -0.651589\n",
      "38  4215      4   66  549000  2.816474  1.102205  1.027687\n",
      "39  2162      4   43  287000  0.205188  1.102205  0.011283\n",
      "40  1664      2   40  368500 -0.428237 -1.554392 -0.121292\n",
      "41  2238      3   37  329900  0.301855 -0.226093 -0.253866\n",
      "42  2567      4   57  314000  0.720322  1.102205  0.629964\n",
      "43  1200      3   76  299000 -1.018415 -0.226093  1.469602\n",
      "44   852      2   70  179900 -1.461049 -1.554392  1.204453\n",
      "45  1852      4   64  299900 -0.189113  1.102205  0.939304\n",
      "46  1203      3   11  239500 -1.014600 -0.226093 -1.402844\n"
     ]
    }
   ],
   "source": [
    "print df"
   ]
  },
  {
   "cell_type": "code",
   "execution_count": null,
   "metadata": {
    "collapsed": true
   },
   "outputs": [],
   "source": []
  },
  {
   "cell_type": "code",
   "execution_count": null,
   "metadata": {
    "collapsed": true
   },
   "outputs": [],
   "source": []
  },
  {
   "cell_type": "code",
   "execution_count": null,
   "metadata": {
    "collapsed": true
   },
   "outputs": [],
   "source": []
  },
  {
   "cell_type": "markdown",
   "metadata": {},
   "source": [
    "## 7. Use sk-learn's StandardScaler to confirm that your results are correct. You will need to read the documentation on how to use this.\n",
    "\n",
    "[StandardScaler](http://scikit-learn.org/stable/modules/generated/sklearn.preprocessing.StandardScaler.html)"
   ]
  },
  {
   "cell_type": "code",
   "execution_count": null,
   "metadata": {
    "collapsed": true
   },
   "outputs": [],
   "source": []
  },
  {
   "cell_type": "code",
   "execution_count": null,
   "metadata": {
    "collapsed": true
   },
   "outputs": [],
   "source": []
  },
  {
   "cell_type": "code",
   "execution_count": null,
   "metadata": {
    "collapsed": false
   },
   "outputs": [],
   "source": []
  },
  {
   "cell_type": "code",
   "execution_count": null,
   "metadata": {
    "collapsed": false,
    "scrolled": true
   },
   "outputs": [],
   "source": []
  },
  {
   "cell_type": "markdown",
   "metadata": {},
   "source": [
    "### 8. Using .apply() on your _DataFrame_, create a function that returns a count of the number of scaled columns that are positive. For example, if one scaled column is positive and two are negative, return 1. If all are negative return 0. Hint: It may be helpful to use .apply() on just a portion of your DataFrame. Save this new column as 'POS'."
   ]
  },
  {
   "cell_type": "code",
   "execution_count": 39,
   "metadata": {
    "collapsed": false
   },
   "outputs": [
    {
     "name": "stdout",
     "output_type": "stream",
     "text": [
      "18\n"
     ]
    },
    {
     "data": {
      "text/plain": [
       "18"
      ]
     },
     "execution_count": 39,
     "metadata": {},
     "output_type": "execute_result"
    }
   ],
   "source": [
    "def count(x):\n",
    "    total = 0\n",
    "    for e in x:\n",
    "        if e > 0:\n",
    "            total = total + 1\n",
    "            \n",
    "    print total\n",
    "    return total\n",
    "\n",
    "count(df['SD_sqft'])"
   ]
  },
  {
   "cell_type": "code",
   "execution_count": 40,
   "metadata": {
    "collapsed": false,
    "scrolled": true
   },
   "outputs": [
    {
     "name": "stdout",
     "output_type": "stream",
     "text": [
      "15\n"
     ]
    },
    {
     "data": {
      "text/plain": [
       "15"
      ]
     },
     "execution_count": 40,
     "metadata": {},
     "output_type": "execute_result"
    }
   ],
   "source": [
    "def count(x):\n",
    "    total = 0\n",
    "    for e in x:\n",
    "        if e > 0:\n",
    "            total = total + 1\n",
    "            \n",
    "    print total\n",
    "    return total\n",
    "\n",
    "count(df['SD_bdrms'])"
   ]
  },
  {
   "cell_type": "code",
   "execution_count": 41,
   "metadata": {
    "collapsed": false
   },
   "outputs": [
    {
     "name": "stdout",
     "output_type": "stream",
     "text": [
      "25\n"
     ]
    },
    {
     "data": {
      "text/plain": [
       "25"
      ]
     },
     "execution_count": 41,
     "metadata": {},
     "output_type": "execute_result"
    }
   ],
   "source": [
    "def count(x):\n",
    "    total = 0\n",
    "    for e in x:\n",
    "        if e > 0:\n",
    "            total = total + 1\n",
    "            \n",
    "    print total\n",
    "    return total\n",
    "\n",
    "count(df['SD_age'])"
   ]
  },
  {
   "cell_type": "code",
   "execution_count": null,
   "metadata": {
    "collapsed": true
   },
   "outputs": [],
   "source": []
  },
  {
   "cell_type": "code",
   "execution_count": null,
   "metadata": {
    "collapsed": true
   },
   "outputs": [],
   "source": []
  },
  {
   "cell_type": "markdown",
   "metadata": {},
   "source": [
    "### 9. Using a lambda function with .apply() return a 1 if the price is above the mean price and a 0 if not. Save this new column as 'HIGH_PRICE'."
   ]
  },
  {
   "cell_type": "code",
   "execution_count": null,
   "metadata": {
    "collapsed": false
   },
   "outputs": [],
   "source": []
  },
  {
   "cell_type": "markdown",
   "metadata": {},
   "source": [
    "### 9. Using a minimum of 3 feature columns (not 'PRICE'), set a design matrix (X).  Next set a target vector (y). The target vector should be the 'HIGH_PRICE' column you just created."
   ]
  },
  {
   "cell_type": "code",
   "execution_count": null,
   "metadata": {
    "collapsed": false
   },
   "outputs": [],
   "source": []
  },
  {
   "cell_type": "markdown",
   "metadata": {},
   "source": [
    "### 10. Using sk-learn's GridSearchCV and k-nn, find the optimal hyper-parmaters. Set the number of folds to 3 and the k to the range from 1 to 5. What is the best k? What is the best score? What does this score represent?"
   ]
  },
  {
   "cell_type": "code",
   "execution_count": null,
   "metadata": {
    "collapsed": true
   },
   "outputs": [],
   "source": []
  },
  {
   "cell_type": "code",
   "execution_count": null,
   "metadata": {
    "collapsed": false
   },
   "outputs": [],
   "source": []
  },
  {
   "cell_type": "code",
   "execution_count": null,
   "metadata": {
    "collapsed": false
   },
   "outputs": [],
   "source": []
  },
  {
   "cell_type": "code",
   "execution_count": null,
   "metadata": {
    "collapsed": false
   },
   "outputs": [],
   "source": []
  },
  {
   "cell_type": "code",
   "execution_count": null,
   "metadata": {
    "collapsed": false
   },
   "outputs": [],
   "source": []
  },
  {
   "cell_type": "markdown",
   "metadata": {},
   "source": [
    "### Bonus: If you have time, re-run the model using the scaled feature columns using a logistic regression. Test which features are most important using a penalized regression. Which is better L1 or L2? What penalty (C) is optimal?"
   ]
  },
  {
   "cell_type": "code",
   "execution_count": null,
   "metadata": {
    "collapsed": true
   },
   "outputs": [],
   "source": []
  }
 ],
 "metadata": {
  "kernelspec": {
   "display_name": "Python [Root]",
   "language": "python",
   "name": "Python [Root]"
  },
  "language_info": {
   "codemirror_mode": {
    "name": "ipython",
    "version": 2
   },
   "file_extension": ".py",
   "mimetype": "text/x-python",
   "name": "python",
   "nbconvert_exporter": "python",
   "pygments_lexer": "ipython2",
   "version": "2.7.12"
  }
 },
 "nbformat": 4,
 "nbformat_minor": 0
}
