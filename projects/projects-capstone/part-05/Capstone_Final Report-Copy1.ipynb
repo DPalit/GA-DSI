{
 "cells": [
  {
   "cell_type": "markdown",
   "metadata": {},
   "source": [
    "# Probability of Accelerated Approval of Insurance Claims"
   ]
  },
  {
   "cell_type": "markdown",
   "metadata": {},
   "source": [
    "## Introduction\n",
    "\n",
    "The data is from an insurance claims management company. It is an anonymized database with two categories of claims:\n",
    "\n",
    "* claims that had an accelerated approval leading to faster payments\n",
    "* claims for which additional information was required before approval i.e. no accelerated approval \n",
    "\n",
    "In this project we would try to predict the category of a claim (0 or 1) based on features available early in the process, so that claims processing could be acclerated and therefore provide a better service to the customers."
   ]
  },
  {
   "cell_type": "markdown",
   "metadata": {},
   "source": [
    "## Problem Statement: \n",
    "\n",
    "When unexpected events happen, people expect their insurer to support them as quickly as possible. Claims management department at the insurer need to check several things before a claim can be processed and payments can be made. Data Science can play an important role in this sector and make claims processing faster and easier."
   ]
  },
  {
   "cell_type": "markdown",
   "metadata": {},
   "source": [
    "## Data Cleaning\n",
    "\n",
    "The data has two parts: Train and Test set.\n",
    "\n",
    "The train set has 133 columns in all. The 'target' column is the dependent variable which has been classified into 1 and 0 depending on whether the claims had an accelerated approval or not.  suggests if the claims had an accelerated approval or not. If the claim had an accelerated approval the 'target' value has been set to 1 and if the claim did not have an accelerated approval the target value has been set to 0.\n",
    "\n",
    "\n",
    "The train set has 131 columns which are the variables either of categorical or numeric type. All string type variables are categorical. It has been mentioned that the dataset doesnot contain any ordinal variables. The dataset is anonymized because it is proprietory data to protect privacy.\n",
    "\n",
    "The test set contains 132 columns and does not have the target column. In this project we would predict the  probability (\"PredictedProb\") for each claim to be processed in the test set."
   ]
  },
  {
   "cell_type": "code",
   "execution_count": 92,
   "metadata": {
    "collapsed": false
   },
   "outputs": [
    {
     "name": "stderr",
     "output_type": "stream",
     "text": [
      "//anaconda/lib/python2.7/site-packages/IPython/html.py:14: ShimWarning: The `IPython.html` package has been deprecated. You should import from `notebook` instead. `IPython.html.widgets` has moved to `ipywidgets`.\n",
      "  \"`IPython.html.widgets` has moved to `ipywidgets`.\", ShimWarning)\n"
     ]
    },
    {
     "data": {
      "text/plain": [
       "{u'limit_output': 5}"
      ]
     },
     "execution_count": 92,
     "metadata": {},
     "output_type": "execute_result"
    }
   ],
   "source": [
    "# To limit the code out to 5 lines   \n",
    "from IPython.html.services.config import ConfigManager\n",
    "ip = get_ipython()\n",
    "cm = ConfigManager(parent=ip, profile_dir=ip.profile_dir.location)\n",
    "cm.update('notebook', {\"limit_output\": 5})"
   ]
  },
  {
   "cell_type": "code",
   "execution_count": 34,
   "metadata": {
    "collapsed": true
   },
   "outputs": [],
   "source": [
    "%matplotlib inline\n",
    "import pandas as pd\n",
    "import numpy as np\n",
    "import csv\n",
    "from sklearn.ensemble import ExtraTreesClassifier\n",
    "import matplotlib as mpl\n",
    "from sklearn.cluster import KMeans\n",
    "import seaborn as sns\n",
    "from matplotlib import pyplot as plt\n",
    "from sklearn.cross_validation import train_test_split\n",
    "from sklearn.metrics import roc_auc_scor\n"
   ]
  },
  {
   "cell_type": "code",
   "execution_count": 2,
   "metadata": {
    "collapsed": true
   },
   "outputs": [],
   "source": [
    "# Read the train set\n",
    "train1 = pd.read_csv('/Users/Debjani/Downloads/train_capstone.csv')"
   ]
  },
  {
   "cell_type": "code",
   "execution_count": 3,
   "metadata": {
    "collapsed": true
   },
   "outputs": [],
   "source": [
    "# Read the test set\n",
    "test1 = pd.read_csv('/Users/Debjani/Downloads/test_capstone.csv')"
   ]
  },
  {
   "cell_type": "code",
   "execution_count": 4,
   "metadata": {
    "collapsed": false
   },
   "outputs": [
    {
     "data": {
      "text/plain": [
       "Index([u'ID', u'target', u'v1', u'v2', u'v3', u'v4', u'v5', u'v6', u'v7',\n",
       "       u'v8',\n",
       "       ...\n",
       "       u'v122', u'v123', u'v124', u'v125', u'v126', u'v127', u'v128', u'v129',\n",
       "       u'v130', u'v131'],\n",
       "      dtype='object', length=133)"
      ]
     },
     "execution_count": 4,
     "metadata": {},
     "output_type": "execute_result"
    }
   ],
   "source": [
    "train1.columns"
   ]
  },
  {
   "cell_type": "code",
   "execution_count": 5,
   "metadata": {
    "collapsed": false
   },
   "outputs": [
    {
     "data": {
      "text/plain": [
       "(114321, 133)"
      ]
     },
     "execution_count": 5,
     "metadata": {},
     "output_type": "execute_result"
    }
   ],
   "source": [
    "train1.shape"
   ]
  },
  {
   "cell_type": "code",
   "execution_count": 6,
   "metadata": {
    "collapsed": false
   },
   "outputs": [
    {
     "data": {
      "text/plain": [
       "Index([u'ID', u'v1', u'v2', u'v3', u'v4', u'v5', u'v6', u'v7', u'v8', u'v9',\n",
       "       ...\n",
       "       u'v122', u'v123', u'v124', u'v125', u'v126', u'v127', u'v128', u'v129',\n",
       "       u'v130', u'v131'],\n",
       "      dtype='object', length=132)"
      ]
     },
     "execution_count": 6,
     "metadata": {},
     "output_type": "execute_result"
    }
   ],
   "source": [
    "test1.columns"
   ]
  },
  {
   "cell_type": "code",
   "execution_count": 7,
   "metadata": {
    "collapsed": false
   },
   "outputs": [
    {
     "data": {
      "text/plain": [
       "(114393, 132)"
      ]
     },
     "execution_count": 7,
     "metadata": {},
     "output_type": "execute_result"
    }
   ],
   "source": [
    "test1.shape"
   ]
  },
  {
   "cell_type": "code",
   "execution_count": 9,
   "metadata": {
    "collapsed": false
   },
   "outputs": [
    {
     "name": "stdout",
     "output_type": "stream",
     "text": [
      "<class 'pandas.core.frame.DataFrame'>\n",
      "RangeIndex: 114321 entries, 0 to 114320\n",
      "Columns: 133 entries, ID to v131\n",
      "dtypes: float64(108), int64(6), object(19)\n",
      "memory usage: 116.0+ MB\n"
     ]
    }
   ],
   "source": [
    "train1.info()"
   ]
  },
  {
   "cell_type": "code",
   "execution_count": 4,
   "metadata": {
    "collapsed": false
   },
   "outputs": [
    {
     "data": {
      "text/html": [
       "<div>\n",
       "<table border=\"1\" class=\"dataframe\">\n",
       "  <thead>\n",
       "    <tr style=\"text-align: right;\">\n",
       "      <th></th>\n",
       "      <th>ID</th>\n",
       "      <th>target</th>\n",
       "      <th>v1</th>\n",
       "      <th>v2</th>\n",
       "      <th>v3</th>\n",
       "      <th>v4</th>\n",
       "      <th>v5</th>\n",
       "      <th>v6</th>\n",
       "      <th>v7</th>\n",
       "      <th>v8</th>\n",
       "      <th>...</th>\n",
       "      <th>v122</th>\n",
       "      <th>v123</th>\n",
       "      <th>v124</th>\n",
       "      <th>v125</th>\n",
       "      <th>v126</th>\n",
       "      <th>v127</th>\n",
       "      <th>v128</th>\n",
       "      <th>v129</th>\n",
       "      <th>v130</th>\n",
       "      <th>v131</th>\n",
       "    </tr>\n",
       "  </thead>\n",
       "  <tbody>\n",
       "    <tr>\n",
       "      <th>0</th>\n",
       "      <td>3</td>\n",
       "      <td>1</td>\n",
       "      <td>1.335739</td>\n",
       "      <td>8.727474</td>\n",
       "      <td>C</td>\n",
       "      <td>3.921026</td>\n",
       "      <td>7.915266</td>\n",
       "      <td>2.599278</td>\n",
       "      <td>3.176895</td>\n",
       "      <td>0.012941</td>\n",
       "      <td>...</td>\n",
       "      <td>8.000000</td>\n",
       "      <td>1.989780</td>\n",
       "      <td>0.035754</td>\n",
       "      <td>AU</td>\n",
       "      <td>1.804126</td>\n",
       "      <td>3.113719</td>\n",
       "      <td>2.024285</td>\n",
       "      <td>0</td>\n",
       "      <td>0.636365</td>\n",
       "      <td>2.857144</td>\n",
       "    </tr>\n",
       "    <tr>\n",
       "      <th>1</th>\n",
       "      <td>4</td>\n",
       "      <td>1</td>\n",
       "      <td>NaN</td>\n",
       "      <td>NaN</td>\n",
       "      <td>C</td>\n",
       "      <td>NaN</td>\n",
       "      <td>9.191265</td>\n",
       "      <td>NaN</td>\n",
       "      <td>NaN</td>\n",
       "      <td>2.301630</td>\n",
       "      <td>...</td>\n",
       "      <td>NaN</td>\n",
       "      <td>NaN</td>\n",
       "      <td>0.598896</td>\n",
       "      <td>AF</td>\n",
       "      <td>NaN</td>\n",
       "      <td>NaN</td>\n",
       "      <td>1.957825</td>\n",
       "      <td>0</td>\n",
       "      <td>NaN</td>\n",
       "      <td>NaN</td>\n",
       "    </tr>\n",
       "    <tr>\n",
       "      <th>2</th>\n",
       "      <td>5</td>\n",
       "      <td>1</td>\n",
       "      <td>0.943877</td>\n",
       "      <td>5.310079</td>\n",
       "      <td>C</td>\n",
       "      <td>4.410969</td>\n",
       "      <td>5.326159</td>\n",
       "      <td>3.979592</td>\n",
       "      <td>3.928571</td>\n",
       "      <td>0.019645</td>\n",
       "      <td>...</td>\n",
       "      <td>9.333333</td>\n",
       "      <td>2.477596</td>\n",
       "      <td>0.013452</td>\n",
       "      <td>AE</td>\n",
       "      <td>1.773709</td>\n",
       "      <td>3.922193</td>\n",
       "      <td>1.120468</td>\n",
       "      <td>2</td>\n",
       "      <td>0.883118</td>\n",
       "      <td>1.176472</td>\n",
       "    </tr>\n",
       "    <tr>\n",
       "      <th>3</th>\n",
       "      <td>6</td>\n",
       "      <td>1</td>\n",
       "      <td>0.797415</td>\n",
       "      <td>8.304757</td>\n",
       "      <td>C</td>\n",
       "      <td>4.225930</td>\n",
       "      <td>11.627438</td>\n",
       "      <td>2.097700</td>\n",
       "      <td>1.987549</td>\n",
       "      <td>0.171947</td>\n",
       "      <td>...</td>\n",
       "      <td>7.018256</td>\n",
       "      <td>1.812795</td>\n",
       "      <td>0.002267</td>\n",
       "      <td>CJ</td>\n",
       "      <td>1.415230</td>\n",
       "      <td>2.954381</td>\n",
       "      <td>1.990847</td>\n",
       "      <td>1</td>\n",
       "      <td>1.677108</td>\n",
       "      <td>1.034483</td>\n",
       "    </tr>\n",
       "    <tr>\n",
       "      <th>4</th>\n",
       "      <td>8</td>\n",
       "      <td>1</td>\n",
       "      <td>NaN</td>\n",
       "      <td>NaN</td>\n",
       "      <td>C</td>\n",
       "      <td>NaN</td>\n",
       "      <td>NaN</td>\n",
       "      <td>NaN</td>\n",
       "      <td>NaN</td>\n",
       "      <td>NaN</td>\n",
       "      <td>...</td>\n",
       "      <td>NaN</td>\n",
       "      <td>NaN</td>\n",
       "      <td>NaN</td>\n",
       "      <td>Z</td>\n",
       "      <td>NaN</td>\n",
       "      <td>NaN</td>\n",
       "      <td>NaN</td>\n",
       "      <td>0</td>\n",
       "      <td>NaN</td>\n",
       "      <td>NaN</td>\n",
       "    </tr>\n",
       "  </tbody>\n",
       "</table>\n",
       "<p>5 rows × 133 columns</p>\n",
       "</div>"
      ],
      "text/plain": [
       "   ID  target        v1        v2 v3        v4         v5        v6        v7  \\\n",
       "0   3       1  1.335739  8.727474  C  3.921026   7.915266  2.599278  3.176895   \n",
       "1   4       1       NaN       NaN  C       NaN   9.191265       NaN       NaN   \n",
       "2   5       1  0.943877  5.310079  C  4.410969   5.326159  3.979592  3.928571   \n",
       "3   6       1  0.797415  8.304757  C  4.225930  11.627438  2.097700  1.987549   \n",
       "4   8       1       NaN       NaN  C       NaN        NaN       NaN       NaN   \n",
       "\n",
       "         v8    ...         v122      v123      v124  v125      v126      v127  \\\n",
       "0  0.012941    ...     8.000000  1.989780  0.035754    AU  1.804126  3.113719   \n",
       "1  2.301630    ...          NaN       NaN  0.598896    AF       NaN       NaN   \n",
       "2  0.019645    ...     9.333333  2.477596  0.013452    AE  1.773709  3.922193   \n",
       "3  0.171947    ...     7.018256  1.812795  0.002267    CJ  1.415230  2.954381   \n",
       "4       NaN    ...          NaN       NaN       NaN     Z       NaN       NaN   \n",
       "\n",
       "       v128  v129      v130      v131  \n",
       "0  2.024285     0  0.636365  2.857144  \n",
       "1  1.957825     0       NaN       NaN  \n",
       "2  1.120468     2  0.883118  1.176472  \n",
       "3  1.990847     1  1.677108  1.034483  \n",
       "4       NaN     0       NaN       NaN  \n",
       "\n",
       "[5 rows x 133 columns]"
      ]
     },
     "execution_count": 4,
     "metadata": {},
     "output_type": "execute_result"
    }
   ],
   "source": [
    "train1.head()"
   ]
  },
  {
   "cell_type": "code",
   "execution_count": 5,
   "metadata": {
    "collapsed": false
   },
   "outputs": [
    {
     "name": "stdout",
     "output_type": "stream",
     "text": [
      "Index([u'v1', u'v2', u'v4', u'v5', u'v6', u'v7', u'v8', u'v9', u'v10', u'v11',\n",
      "       ...\n",
      "       u'v120', u'v121', u'v122', u'v123', u'v124', u'v126', u'v127', u'v128',\n",
      "       u'v130', u'v131'],\n",
      "      dtype='object', length=108)\n",
      "(114321, 108)\n"
     ]
    }
   ],
   "source": [
    "#the columns with float values\n",
    " \n",
    "df_flt = train1.ix[:, train1.dtypes == np.float64]\n",
    "print df_flt.columns\n",
    "print df_flt.shape"
   ]
  },
  {
   "cell_type": "code",
   "execution_count": 6,
   "metadata": {
    "collapsed": false
   },
   "outputs": [
    {
     "name": "stdout",
     "output_type": "stream",
     "text": [
      "Index([u'v3', u'v22', u'v24', u'v30', u'v31', u'v47', u'v52', u'v56', u'v66',\n",
      "       u'v71', u'v74', u'v75', u'v79', u'v91', u'v107', u'v110', u'v112',\n",
      "       u'v113', u'v125'],\n",
      "      dtype='object')\n",
      "(114321, 19)\n"
     ]
    }
   ],
   "source": [
    "#the columns with object types\n",
    "df_obj = train1.ix[:, train1.dtypes == np.object]\n",
    "print df_obj.columns\n",
    "print df_obj.shape"
   ]
  },
  {
   "cell_type": "code",
   "execution_count": 7,
   "metadata": {
    "collapsed": false
   },
   "outputs": [
    {
     "name": "stdout",
     "output_type": "stream",
     "text": [
      "Index([u'ID', u'target', u'v38', u'v62', u'v72', u'v129'], dtype='object')\n",
      "(114321, 6)\n"
     ]
    }
   ],
   "source": [
    "#the columns with int values\n",
    "df_int = train1.ix[:, train1.dtypes == np.int]\n",
    "print df_int.columns\n",
    "print df_int.shape"
   ]
  },
  {
   "cell_type": "markdown",
   "metadata": {},
   "source": [
    "### An attempt to find corelation between columns using plots"
   ]
  },
  {
   "cell_type": "code",
   "execution_count": 8,
   "metadata": {
    "collapsed": false
   },
   "outputs": [
    {
     "data": {
      "image/png": "[encoded data removed]",
      "text/plain": [
       "<matplotlib.figure.Figure at 0x11763be90>"
      ]
     },
     "metadata": {},
     "output_type": "display_data"
    },
    {
     "data": {
      "image/png": "[encoded data removed]",
      "text/plain": [
       "<matplotlib.figure.Figure at 0x11763bf10>"
      ]
     },
     "metadata": {},
     "output_type": "display_data"
    },
    {
     "data": {
      "image/png": "[encoded data removed]",
      "text/plain": [
       "<matplotlib.figure.Figure at 0x117766810>"
      ]
     },
     "metadata": {},
     "output_type": "display_data"
    },
    {
     "data": {
      "image/png": "[encoded data removed]",
      "text/plain": [
       "<matplotlib.figure.Figure at 0x114933590>"
      ]
     },
     "metadata": {},
     "output_type": "display_data"
    },
    {
     "data": {
      "image/png": "[encoded data removed]",
      "text/plain": [
       "<matplotlib.figure.Figure at 0x114c4de10>"
      ]
     },
     "metadata": {},
     "output_type": "display_data"
    },
    {
     "data": {
      "image/png": "[encoded data removed]",
      "text/plain": [
       "<matplotlib.figure.Figure at 0x11ed8efd0>"
      ]
     },
     "metadata": {},
     "output_type": "display_data"
    },
    {
     "data": {
      "image/png": "[encoded data removed]",
      "text/plain": [
       "<matplotlib.figure.Figure at 0x11dcd8f10>"
      ]
     },
     "metadata": {},
     "output_type": "display_data"
    }
   ],
   "source": [
    "# Since the target has been calssified into 0 or 1, the plot between the target and any other columns would be \n",
    "#two straight lines\n",
    "\n",
    "names = [\"v23\", \"v25\", \"v36\", \"v37\", \"v46\", \"v51\", \"v53\"]\n",
    "\n",
    "for name in names:\n",
    "    train1.plot.scatter(x=name, y=\"target\")"
   ]
  },
  {
   "cell_type": "code",
   "execution_count": null,
   "metadata": {
    "collapsed": true
   },
   "outputs": [],
   "source": [
    "# The columns 'v10' and 'v12' appear to have linear dependence.\n",
    "# The columns 'v10' and 'v34' also appear to have some linear dependence."
   ]
  },
  {
   "cell_type": "code",
   "execution_count": 9,
   "metadata": {
    "collapsed": false
   },
   "outputs": [
    {
     "data": {
      "text/plain": [
       "<matplotlib.axes._subplots.AxesSubplot at 0x11dcfca90>"
      ]
     },
     "execution_count": 9,
     "metadata": {},
     "output_type": "execute_result"
    },
    {
     "data": {
      "image/png": "[encoded data removed]",
      "text/plain": [
       "<matplotlib.figure.Figure at 0x1156a6210>"
      ]
     },
     "metadata": {},
     "output_type": "display_data"
    }
   ],
   "source": [
    "train1.plot(x='v10', y='v12', kind='scatter', color='dodgerblue', figsize=(7,4))"
   ]
  },
  {
   "cell_type": "code",
   "execution_count": 10,
   "metadata": {
    "collapsed": false
   },
   "outputs": [
    {
     "data": {
      "text/plain": [
       "<matplotlib.axes._subplots.AxesSubplot at 0x11e0efb50>"
      ]
     },
     "execution_count": 10,
     "metadata": {},
     "output_type": "execute_result"
    },
    {
     "data": {
      "image/png": "[encoded data removed]",
      "text/plain": [
       "<matplotlib.figure.Figure at 0x11e10f450>"
      ]
     },
     "metadata": {},
     "output_type": "display_data"
    }
   ],
   "source": [
    "train1.plot(x='v10', y='v34', kind='scatter', color='dodgerblue', figsize=(7,4))"
   ]
  },
  {
   "cell_type": "code",
   "execution_count": 11,
   "metadata": {
    "collapsed": false
   },
   "outputs": [
    {
     "data": {
      "text/plain": [
       "<matplotlib.axes._subplots.AxesSubplot at 0x11dfbc090>"
      ]
     },
     "execution_count": 11,
     "metadata": {},
     "output_type": "execute_result"
    },
    {
     "data": {
      "image/png": "[encoded data removed]",
      "text/plain": [
       "<matplotlib.figure.Figure at 0x11e102e90>"
      ]
     },
     "metadata": {},
     "output_type": "display_data"
    }
   ],
   "source": [
    "# Most of the columns are not correlated with each other\n",
    "train1.plot(x='v10', y='v54', kind='scatter', color='dodgerblue', figsize=(7,4))"
   ]
  },
  {
   "cell_type": "code",
   "execution_count": 12,
   "metadata": {
    "collapsed": true
   },
   "outputs": [],
   "source": [
    "# Histograms have been plotted to see the distribution in the columns."
   ]
  },
  {
   "cell_type": "code",
   "execution_count": 25,
   "metadata": {
    "collapsed": false
   },
   "outputs": [
    {
     "data": {
      "text/plain": [
       "<matplotlib.axes._subplots.AxesSubplot at 0x11bec40d0>"
      ]
     },
     "execution_count": 25,
     "metadata": {},
     "output_type": "execute_result"
    },
    {
     "data": {
      "image/png": "[encoded data removed]",
      "text/plain": [
       "<matplotlib.figure.Figure at 0x11e53d210>"
      ]
     },
     "metadata": {},
     "output_type": "display_data"
    }
   ],
   "source": [
    "plt.title('Histogram of column v23')\n",
    "train1['v23'].hist()"
   ]
  },
  {
   "cell_type": "code",
   "execution_count": 24,
   "metadata": {
    "collapsed": false
   },
   "outputs": [
    {
     "data": {
      "text/plain": [
       "<matplotlib.axes._subplots.AxesSubplot at 0x1177d0350>"
      ]
     },
     "execution_count": 24,
     "metadata": {},
     "output_type": "execute_result"
    },
    {
     "data": {
      "image/png": "[encoded data removed]",
      "text/plain": [
       "<matplotlib.figure.Figure at 0x1143e2f10>"
      ]
     },
     "metadata": {},
     "output_type": "display_data"
    }
   ],
   "source": [
    "plt.title('Histogram of column v2')\n",
    "train1['v2'].hist()"
   ]
  },
  {
   "cell_type": "code",
   "execution_count": 23,
   "metadata": {
    "collapsed": false
   },
   "outputs": [
    {
     "data": {
      "text/plain": [
       "<matplotlib.axes._subplots.AxesSubplot at 0x11daeab50>"
      ]
     },
     "execution_count": 23,
     "metadata": {},
     "output_type": "execute_result"
    },
    {
     "data": {
      "image/png": "[encoded data removed]",
      "text/plain": [
       "<matplotlib.figure.Figure at 0x11db06150>"
      ]
     },
     "metadata": {},
     "output_type": "display_data"
    }
   ],
   "source": [
    "plt.title('Histogram of column v25')\n",
    "train1['v25'].hist()"
   ]
  },
  {
   "cell_type": "code",
   "execution_count": 22,
   "metadata": {
    "collapsed": false
   },
   "outputs": [
    {
     "data": {
      "text/plain": [
       "<matplotlib.axes._subplots.AxesSubplot at 0x11a662150>"
      ]
     },
     "execution_count": 22,
     "metadata": {},
     "output_type": "execute_result"
    },
    {
     "data": {
      "image/png": "[encoded data removed]",
      "text/plain": [
       "<matplotlib.figure.Figure at 0x11d9d9250>"
      ]
     },
     "metadata": {},
     "output_type": "display_data"
    }
   ],
   "source": [
    "plt.title('Histogram of column v53')\n",
    "train1['v53'].hist()"
   ]
  },
  {
   "cell_type": "code",
   "execution_count": 21,
   "metadata": {
    "collapsed": false
   },
   "outputs": [
    {
     "data": {
      "text/plain": [
       "<matplotlib.axes._subplots.AxesSubplot at 0x11bf4d250>"
      ]
     },
     "execution_count": 21,
     "metadata": {},
     "output_type": "execute_result"
    },
    {
     "data": {
      "image/png": "[encoded data removed]",
      "text/plain": [
       "<matplotlib.figure.Figure at 0x11d838ed0>"
      ]
     },
     "metadata": {},
     "output_type": "display_data"
    }
   ],
   "source": [
    "plt.title('Histogram of column v100')\n",
    "train1['v100'].hist()"
   ]
  },
  {
   "cell_type": "markdown",
   "metadata": {},
   "source": [
    "### Analyzing the 'target' column and NaN values in the columns"
   ]
  },
  {
   "cell_type": "markdown",
   "metadata": {},
   "source": [
    "#### Specifying the target column"
   ]
  },
  {
   "cell_type": "code",
   "execution_count": 18,
   "metadata": {
    "collapsed": true
   },
   "outputs": [],
   "source": [
    "target = train1['target'].values"
   ]
  },
  {
   "cell_type": "code",
   "execution_count": 20,
   "metadata": {
    "collapsed": false
   },
   "outputs": [
    {
     "data": {
      "text/plain": [
       "<matplotlib.axes._subplots.AxesSubplot at 0x11eda8bd0>"
      ]
     },
     "execution_count": 20,
     "metadata": {},
     "output_type": "execute_result"
    },
    {
     "data": {
      "image/png": "[encoded data removed]",
      "text/plain": [
       "<matplotlib.figure.Figure at 0x11dff43d0>"
      ]
     },
     "metadata": {},
     "output_type": "display_data"
    }
   ],
   "source": [
    "# Number of accelerated approvals are more than non-accelerated approvals\n",
    "plt.title('Histogram of target')\n",
    "train1['target'].hist()"
   ]
  },
  {
   "cell_type": "code",
   "execution_count": 26,
   "metadata": {
    "collapsed": false
   },
   "outputs": [
    {
     "name": "stdout",
     "output_type": "stream",
     "text": [
      "0.761205388383\n"
     ]
    }
   ],
   "source": [
    "# Calculating the % of accelerated approvals in the target column\n",
    "# Total number of rows in the target= 114320\n",
    "\n",
    "print np.count_nonzero(target)/114320.0"
   ]
  },
  {
   "cell_type": "markdown",
   "metadata": {},
   "source": [
    "#### Specifying the new train set and the new test set"
   ]
  },
  {
   "cell_type": "code",
   "execution_count": 44,
   "metadata": {
    "collapsed": false
   },
   "outputs": [
    {
     "name": "stdout",
     "output_type": "stream",
     "text": [
      "(114321, 131)\n"
     ]
    }
   ],
   "source": [
    "# Lets drop the 'ID' and 'target' column to create a new data frame for NaN analysis \n",
    "new_train = train1.drop(['ID','target'],axis=1)\n",
    "print new_train.shape"
   ]
  },
  {
   "cell_type": "code",
   "execution_count": 45,
   "metadata": {
    "collapsed": true
   },
   "outputs": [],
   "source": [
    "#Lets store the ID values of the test set before we drop the ID column from the test set\n",
    "id_test = test1['ID'].values "
   ]
  },
  {
   "cell_type": "code",
   "execution_count": 41,
   "metadata": {
    "collapsed": false
   },
   "outputs": [
    {
     "name": "stdout",
     "output_type": "stream",
     "text": [
      "(114393, 131)\n"
     ]
    }
   ],
   "source": [
    "#Lets drop the ID column from the test set\n",
    "new_test = test1.drop(['ID'],axis=1)\n",
    "print new_test.shape"
   ]
  },
  {
   "cell_type": "markdown",
   "metadata": {},
   "source": [
    "#### Creating a new data frame with null values"
   ]
  },
  {
   "cell_type": "code",
   "execution_count": 29,
   "metadata": {
    "collapsed": false
   },
   "outputs": [
    {
     "name": "stdout",
     "output_type": "stream",
     "text": [
      "      v1     v2     v3     v4     v5     v6     v7     v8     v9    v10  \\\n",
      "0  False  False  False  False  False  False  False  False  False  False   \n",
      "1   True   True  False   True  False   True   True  False   True  False   \n",
      "2  False  False  False  False  False  False  False  False  False  False   \n",
      "\n",
      "   ...     v122   v123   v124   v125   v126   v127   v128   v129   v130   v131  \n",
      "0  ...    False  False  False  False  False  False  False  False  False  False  \n",
      "1  ...     True   True  False  False   True   True  False  False   True   True  \n",
      "2  ...    False  False  False  False  False  False  False  False  False  False  \n",
      "\n",
      "[3 rows x 131 columns]\n"
     ]
    }
   ],
   "source": [
    "# df is the data frame with null values\n",
    "df=pd.isnull(new_train)\n",
    "print df.head(3)"
   ]
  },
  {
   "cell_type": "code",
   "execution_count": 30,
   "metadata": {
    "collapsed": false
   },
   "outputs": [
    {
     "name": "stdout",
     "output_type": "stream",
     "text": [
      "   v1  v2  v3  v4  v5  v6  v7  v8  v9  v10  ...   v122  v123  v124  v125  \\\n",
      "0   0   0   0   0   0   0   0   0   0    0  ...      0     0     0     0   \n",
      "1   1   1   0   1   0   1   1   0   1    0  ...      1     1     0     0   \n",
      "2   0   0   0   0   0   0   0   0   0    0  ...      0     0     0     0   \n",
      "\n",
      "   v126  v127  v128  v129  v130  v131  \n",
      "0     0     0     0     0     0     0  \n",
      "1     1     1     0     0     1     1  \n",
      "2     0     0     0     0     0     0  \n",
      "\n",
      "[3 rows x 131 columns]\n"
     ]
    }
   ],
   "source": [
    "# converting df into integer type\n",
    "df=pd.isnull(new_train).astype(int)\n",
    "print df.head(3)"
   ]
  },
  {
   "cell_type": "code",
   "execution_count": 31,
   "metadata": {
    "collapsed": false
   },
   "outputs": [
    {
     "name": "stdout",
     "output_type": "stream",
     "text": [
      "   v30  v113  v102  v85  v119  v51  v123  v23  v131  v78 ...   v110  v24  v72  \\\n",
      "0    0     1     0    0     0    0     0    0     0    0 ...      0    0    0   \n",
      "1    0     0     1    1     1    1     1    1     1    1 ...      0    0    0   \n",
      "2    1     1     0    0     0    0     0    0     0    0 ...      0    0    0   \n",
      "\n",
      "   v38  v47  v62  v79  v75  v71  v66  \n",
      "0    0    0    0    0    0    0    0  \n",
      "1    0    0    0    0    0    0    0  \n",
      "2    0    0    0    0    0    0    0  \n",
      "\n",
      "[3 rows x 131 columns]\n"
     ]
    }
   ],
   "source": [
    "# sorting the data frame according to the maximum number of NaN values per columns\n",
    "# The column 'v30' has the maximum number of NaN values\n",
    "df=df[df.sum(axis=0).sort_values(axis=0, ascending=False).index]\n",
    "print df.head(3)"
   ]
  },
  {
   "cell_type": "code",
   "execution_count": 35,
   "metadata": {
    "collapsed": false
   },
   "outputs": [
    {
     "data": {
      "image/png": "[encoded data removed]",
      "text/plain": [
       "<matplotlib.figure.Figure at 0x124634f90>"
      ]
     },
     "metadata": {},
     "output_type": "display_data"
    }
   ],
   "source": [
    "#distribution of NaN per column\n",
    "mpl.style.use('ggplot')\n",
    "fig, ax = plt.subplots(figsize=(13, 7))\n",
    "ax.grid(False)\n",
    "bar = ax.bar(range(len(df.columns)),df.sum(axis=0).values)\n",
    "plt.xticks(0.5+np.arange(len(df.columns)), df.columns, fontsize=8,rotation=90)\n",
    "plt.axis('tight')\n",
    "plt.tight_layout()"
   ]
  },
  {
   "cell_type": "markdown",
   "metadata": {},
   "source": [
    "#### Let us factorize the object columns in the train and test set and replace NaN with integer values"
   ]
  },
  {
   "cell_type": "code",
   "execution_count": 46,
   "metadata": {
    "collapsed": true
   },
   "outputs": [],
   "source": [
    "# Lets factorize the object columns and group the NaN values by replacing NaN with -999.\n",
    "# Replacing the NaN values with -999 because the data does not have any negative values. \n",
    "\n",
    "for (train_name, train_series), (test_name, test_series) in zip(new_train.iteritems(),new_test.iteritems()):\n",
    "    if train_series.dtype == 'O':\n",
    "        #for objects: factorize\n",
    "        new_train[train_name], tmp_indexer = pd.factorize(new_train[train_name])\n",
    "        new_test[test_name] = tmp_indexer.get_indexer(new_test[test_name])\n",
    "        \n",
    "    else:\n",
    "        #fill in for NaN\n",
    "        tmp_len = len(new_train[train_series.isnull()])\n",
    "        if tmp_len>0:\n",
    "            \n",
    "            new_train.loc[train_series.isnull(), train_name] = -999 \n",
    "            #and Test\n",
    "            tmp_len = len(new_test[test_series.isnull()])\n",
    "        if tmp_len>0:\n",
    "            new_test.loc[test_series.isnull(), test_name] = -999"
   ]
  },
  {
   "cell_type": "code",
   "execution_count": 47,
   "metadata": {
    "collapsed": false
   },
   "outputs": [
    {
     "name": "stdout",
     "output_type": "stream",
     "text": [
      "<class 'pandas.core.frame.DataFrame'>\n",
      "RangeIndex: 114393 entries, 0 to 114392\n",
      "Columns: 131 entries, v1 to v131\n",
      "dtypes: float64(108), int64(23)\n",
      "memory usage: 114.3 MB\n"
     ]
    }
   ],
   "source": [
    "new_test.info()"
   ]
  },
  {
   "cell_type": "code",
   "execution_count": 48,
   "metadata": {
    "collapsed": false
   },
   "outputs": [
    {
     "name": "stdout",
     "output_type": "stream",
     "text": [
      "<class 'pandas.core.frame.DataFrame'>\n",
      "RangeIndex: 114321 entries, 0 to 114320\n",
      "Columns: 131 entries, v1 to v131\n",
      "dtypes: float64(108), int64(23)\n",
      "memory usage: 114.3 MB\n"
     ]
    }
   ],
   "source": [
    "new_train.info()"
   ]
  },
  {
   "cell_type": "markdown",
   "metadata": {},
   "source": [
    "### Let us split the train set into train and test set to cross validate and train the models"
   ]
  },
  {
   "cell_type": "code",
   "execution_count": 115,
   "metadata": {
    "collapsed": true
   },
   "outputs": [],
   "source": [
    "X = new_train\n",
    "y = target\n",
    "\n",
    "X_train, X_test, y_train, y_test = train_test_split(X, y, test_size=.33)"
   ]
  },
  {
   "cell_type": "code",
   "execution_count": 116,
   "metadata": {
    "collapsed": false
   },
   "outputs": [
    {
     "name": "stdout",
     "output_type": "stream",
     "text": [
      "Length of X_train: 76595\n",
      "Length of y_train: 76595\n",
      "\n",
      "Length of X_test: 37726\n",
      "Length of y_test: 37726\n"
     ]
    }
   ],
   "source": [
    "print 'Length of X_train: ' + str(len(X_train))\n",
    "print 'Length of y_train: ' + str(len(y_train))\n",
    "print\n",
    "print 'Length of X_test: ' + str(len(X_test))\n",
    "print 'Length of y_test: ' + str(len(y_test))"
   ]
  },
  {
   "cell_type": "markdown",
   "metadata": {},
   "source": [
    "### Let's fit the models on the training data and test it on our test data generated from the split"
   ]
  },
  {
   "cell_type": "markdown",
   "metadata": {},
   "source": [
    "#### Decision Tree Classifier"
   ]
  },
  {
   "cell_type": "code",
   "execution_count": 117,
   "metadata": {
    "collapsed": false
   },
   "outputs": [
    {
     "data": {
      "text/plain": [
       "DecisionTreeClassifier(class_weight=None, criterion='gini', max_depth=None,\n",
       "            max_features=None, max_leaf_nodes=None, min_samples_leaf=1,\n",
       "            min_samples_split=2, min_weight_fraction_leaf=0.0,\n",
       "            presort=False, random_state=None, splitter='best')"
      ]
     },
     "execution_count": 117,
     "metadata": {},
     "output_type": "execute_result"
    }
   ],
   "source": [
    "from sklearn.tree import DecisionTreeClassifier\n",
    "from sklearn.cross_validation import cross_val_score\n",
    "\n",
    "dt = DecisionTreeClassifier()\n",
    "dt.fit(X_train, y_train)"
   ]
  },
  {
   "cell_type": "code",
   "execution_count": 53,
   "metadata": {
    "collapsed": false
   },
   "outputs": [
    {
     "name": "stdout",
     "output_type": "stream",
     "text": [
      "[ 0.6883812   0.68855669  0.68927476  0.69142894  0.69225747]\n",
      "0.6899798143\n"
     ]
    }
   ],
   "source": [
    "scores = cross_val_score(dt, X_train, y_train, cv = 5)\n",
    "print scores\n",
    "print scores.mean()"
   ]
  },
  {
   "cell_type": "code",
   "execution_count": 55,
   "metadata": {
    "collapsed": false
   },
   "outputs": [
    {
     "data": {
      "text/plain": [
       "0.0015726192633694581"
      ]
     },
     "execution_count": 55,
     "metadata": {},
     "output_type": "execute_result"
    }
   ],
   "source": [
    "scores.std()"
   ]
  },
  {
   "cell_type": "code",
   "execution_count": 118,
   "metadata": {
    "collapsed": false
   },
   "outputs": [
    {
     "name": "stdout",
     "output_type": "stream",
     "text": [
      "[1 0 1 ..., 0 1 1]\n"
     ]
    }
   ],
   "source": [
    "predicted_dt = dt.predict(X_test)\n",
    "print predicted_dt"
   ]
  },
  {
   "cell_type": "code",
   "execution_count": 161,
   "metadata": {
    "collapsed": false
   },
   "outputs": [
    {
     "name": "stdout",
     "output_type": "stream",
     "text": [
      "[[ 0.  1.]\n",
      " [ 1.  0.]\n",
      " [ 0.  1.]\n",
      " ..., \n",
      " [ 1.  0.]\n",
      " [ 0.  1.]\n",
      " [ 0.  1.]]\n"
     ]
    }
   ],
   "source": [
    "y_pred_dt = dt.predict_proba(X_test)\n",
    "print y_pred_dt"
   ]
  },
  {
   "cell_type": "code",
   "execution_count": 165,
   "metadata": {
    "collapsed": false
   },
   "outputs": [
    {
     "data": {
      "text/plain": [
       "1.0"
      ]
     },
     "execution_count": 165,
     "metadata": {},
     "output_type": "execute_result"
    }
   ],
   "source": [
    "y_pred_dt.max()"
   ]
  },
  {
   "cell_type": "code",
   "execution_count": 162,
   "metadata": {
    "collapsed": false
   },
   "outputs": [
    {
     "data": {
      "text/plain": [
       "10.670345090459737"
      ]
     },
     "execution_count": 162,
     "metadata": {},
     "output_type": "execute_result"
    }
   ],
   "source": [
    "from sklearn.metrics import log_loss\n",
    "\n",
    "log_loss(y_test, y_pred_dt)"
   ]
  },
  {
   "cell_type": "code",
   "execution_count": 58,
   "metadata": {
    "collapsed": false
   },
   "outputs": [
    {
     "name": "stdout",
     "output_type": "stream",
     "text": [
      "             precision    recall  f1-score   support\n",
      "\n",
      "          0       0.38      0.39      0.38      9156\n",
      "          1       0.80      0.79      0.80     28570\n",
      "\n",
      "avg / total       0.70      0.70      0.70     37726\n",
      "\n"
     ]
    }
   ],
   "source": [
    "from sklearn.metrics import classification_report, confusion_matrix, accuracy_score\n",
    "\n",
    "print classification_report(y_test, predicted_dt, labels= dt.classes_)"
   ]
  },
  {
   "cell_type": "code",
   "execution_count": 60,
   "metadata": {
    "collapsed": false
   },
   "outputs": [
    {
     "name": "stdout",
     "output_type": "stream",
     "text": [
      "      0      1\n",
      "0  3545   5611\n",
      "1  5876  22694\n"
     ]
    }
   ],
   "source": [
    "# Compute and display the confusion matrix\n",
    "\n",
    "conf_dt = confusion_matrix(y_test, predicted_dt, labels= dt.classes_)\n",
    "\n",
    "conf_dt = pd.DataFrame(conf_dt, columns= dt.classes_, index= dt.classes_)\n",
    "print conf_dt"
   ]
  },
  {
   "cell_type": "code",
   "execution_count": 120,
   "metadata": {
    "collapsed": false
   },
   "outputs": [
    {
     "name": "stdout",
     "output_type": "stream",
     "text": [
      "0.691061867147\n"
     ]
    }
   ],
   "source": [
    "acc_dt = accuracy_score(y_test, predicted_dt)\n",
    "print acc_dt"
   ]
  },
  {
   "cell_type": "code",
   "execution_count": 64,
   "metadata": {
    "collapsed": false
   },
   "outputs": [
    {
     "name": "stdout",
     "output_type": "stream",
     "text": [
      "    feature  importance\n",
      "49      v50    0.122055\n",
      "20      v21    0.040225\n",
      "21      v22    0.037462\n",
      "65      v66    0.034466\n",
      "124    v125    0.031187\n"
     ]
    }
   ],
   "source": [
    "#feature Importance\n",
    "F_dt = pd.DataFrame({'feature':X_train.columns, 'importance':dt.feature_importances_}).sort_values('importance',\n",
    "                                                                      ascending=False).head()\n",
    "print F_dt.head()"
   ]
  },
  {
   "cell_type": "code",
   "execution_count": 62,
   "metadata": {
    "collapsed": false
   },
   "outputs": [
    {
     "data": {
      "image/png": "[encoded data removed]",
      "text/plain": [
       "<matplotlib.figure.Figure at 0x155dbb910>"
      ]
     },
     "metadata": {},
     "output_type": "display_data"
    }
   ],
   "source": [
    "from sklearn.metrics import roc_curve, auc\n",
    "import matplotlib.pyplot as plt\n",
    "plt.style.use('seaborn-white')\n",
    "%matplotlib inline\n",
    "\n",
    "\n",
    "FPR = dict()\n",
    "TPR = dict()\n",
    "ROC_AUC = dict()\n",
    "\n",
    "# For class 1, find the area under the curve\n",
    "FPR[1], TPR[1], _ = roc_curve(y_test, predicted_dt)\n",
    "ROC_AUC[1] = auc(FPR[1], TPR[1])\n",
    "\n",
    "# Plot of a ROC curve for class 1 (has_acc_approval)\n",
    "plt.figure(figsize=[11,9])\n",
    "plt.plot(FPR[1], TPR[1], label='ROC curve (area = %0.2f)' % ROC_AUC[1], linewidth=4)\n",
    "plt.plot([0, 1], [0, 1], 'k--', linewidth=4)\n",
    "plt.xlim([0.0, 1.0])\n",
    "plt.ylim([0.0, 1.05])\n",
    "plt.xlabel('False Positive Rate', fontsize=18)\n",
    "plt.ylabel('True Positive Rate', fontsize=18)\n",
    "plt.title('Receiver operating characteristic for accelerated claims approval', fontsize=18)\n",
    "plt.legend(loc=\"lower right\")\n",
    "plt.show()"
   ]
  },
  {
   "cell_type": "code",
   "execution_count": 148,
   "metadata": {
    "collapsed": false
   },
   "outputs": [
    {
     "name": "stdout",
     "output_type": "stream",
     "text": [
      "DecisionTree: Area under the ROC curve = 0.585505253712\n"
     ]
    }
   ],
   "source": [
    "dt_preds = dt.predict_proba(X_test)[:, 1]\n",
    "dt_performance = roc_auc_score(y_test, dt_preds)\n",
    "print 'DecisionTree: Area under the ROC curve = {}'.format(dt_performance)"
   ]
  },
  {
   "cell_type": "markdown",
   "metadata": {},
   "source": [
    "#### Random Tree Classifier"
   ]
  },
  {
   "cell_type": "code",
   "execution_count": 122,
   "metadata": {
    "collapsed": false
   },
   "outputs": [
    {
     "data": {
      "text/plain": [
       "RandomForestClassifier(bootstrap=True, class_weight=None, criterion='gini',\n",
       "            max_depth=None, max_features='auto', max_leaf_nodes=None,\n",
       "            min_samples_leaf=1, min_samples_split=2,\n",
       "            min_weight_fraction_leaf=0.0, n_estimators=10, n_jobs=1,\n",
       "            oob_score=False, random_state=None, verbose=0,\n",
       "            warm_start=False)"
      ]
     },
     "execution_count": 122,
     "metadata": {},
     "output_type": "execute_result"
    }
   ],
   "source": [
    "from sklearn.ensemble import RandomForestClassifier, BaggingClassifier\n",
    "rf = RandomForestClassifier()\n",
    "rf.fit(X_train, y_train)"
   ]
  },
  {
   "cell_type": "code",
   "execution_count": 67,
   "metadata": {
    "collapsed": false
   },
   "outputs": [
    {
     "name": "stdout",
     "output_type": "stream",
     "text": [
      "[ 0.74889034  0.74756838  0.74450029  0.75455317  0.74676851]\n",
      "mean score for the random forest classifer 0.748456137844\n",
      "standard deviation of the score 0.00336592444635\n"
     ]
    }
   ],
   "source": [
    "scores = cross_val_score(rf, X_train, y_train, cv = 5)\n",
    "print scores\n",
    "print \"mean score for the random forest classifer\", scores.mean()\n",
    "print \"standard deviation of the score\", scores.std()"
   ]
  },
  {
   "cell_type": "code",
   "execution_count": 123,
   "metadata": {
    "collapsed": false
   },
   "outputs": [
    {
     "name": "stdout",
     "output_type": "stream",
     "text": [
      "[1 1 1 ..., 1 1 1]\n"
     ]
    }
   ],
   "source": [
    "predicted_rf = rf.predict(X_test)\n",
    "print predicted_rf"
   ]
  },
  {
   "cell_type": "code",
   "execution_count": 166,
   "metadata": {
    "collapsed": false
   },
   "outputs": [
    {
     "name": "stdout",
     "output_type": "stream",
     "text": [
      "[[ 0.1  0.9]\n",
      " [ 0.4  0.6]\n",
      " [ 0.   1. ]\n",
      " ..., \n",
      " [ 0.3  0.7]\n",
      " [ 0.1  0.9]\n",
      " [ 0.3  0.7]]\n"
     ]
    }
   ],
   "source": [
    "y_pred_rf = rf.predict_proba(X_test)\n",
    "print y_pred_rf"
   ]
  },
  {
   "cell_type": "code",
   "execution_count": 167,
   "metadata": {
    "collapsed": false
   },
   "outputs": [
    {
     "data": {
      "text/plain": [
       "0.97279207617553654"
      ]
     },
     "execution_count": 167,
     "metadata": {},
     "output_type": "execute_result"
    }
   ],
   "source": [
    "# Random forest model has a better log loss value campared to the decision tree model\n",
    "log_loss(y_test, y_pred_rf) "
   ]
  },
  {
   "cell_type": "code",
   "execution_count": 70,
   "metadata": {
    "collapsed": false
   },
   "outputs": [
    {
     "name": "stdout",
     "output_type": "stream",
     "text": [
      "             precision    recall  f1-score   support\n",
      "\n",
      "          0       0.38      0.39      0.38      9156\n",
      "          1       0.80      0.79      0.80     28570\n",
      "\n",
      "avg / total       0.70      0.70      0.70     37726\n",
      "\n"
     ]
    }
   ],
   "source": [
    "print classification_report(y_test, predicted_dt, labels= dt.classes_)"
   ]
  },
  {
   "cell_type": "code",
   "execution_count": 125,
   "metadata": {
    "collapsed": false
   },
   "outputs": [
    {
     "name": "stdout",
     "output_type": "stream",
     "text": [
      "0.749827705031\n"
     ]
    }
   ],
   "source": [
    "acc_rf = accuracy_score(y_test, predicted_rf)\n",
    "print acc_rf"
   ]
  },
  {
   "cell_type": "code",
   "execution_count": 87,
   "metadata": {
    "collapsed": false
   },
   "outputs": [
    {
     "name": "stdout",
     "output_type": "stream",
     "text": [
      "    feature  importance\n",
      "49      v50    0.078396\n",
      "11      v12    0.038399\n",
      "9       v10    0.034477\n",
      "33      v34    0.032543\n",
      "113    v114    0.031933\n"
     ]
    }
   ],
   "source": [
    "#feature Importance\n",
    "F_rf = pd.DataFrame({'feature':X_train.columns, 'importance':rf.feature_importances_}).sort_values('importance',\n",
    "                                                                      ascending=False).head()\n",
    "print F_rf.head()"
   ]
  },
  {
   "cell_type": "code",
   "execution_count": 147,
   "metadata": {
    "collapsed": false
   },
   "outputs": [
    {
     "name": "stdout",
     "output_type": "stream",
     "text": [
      "DecisionTree: Area under the ROC curve = 0.693674184638\n"
     ]
    }
   ],
   "source": [
    "rf_preds = rf.predict_proba(X_test)[:, 1]\n",
    "rf_performance = roc_auc_score(y_test, rf_preds)\n",
    "print 'Random Forest: Area under the ROC curve = {}'.format(rf_performance)"
   ]
  },
  {
   "cell_type": "code",
   "execution_count": null,
   "metadata": {
    "collapsed": true
   },
   "outputs": [],
   "source": []
  },
  {
   "cell_type": "markdown",
   "metadata": {},
   "source": [
    "#### Bagging decision tree classifier"
   ]
  },
  {
   "cell_type": "code",
   "execution_count": 126,
   "metadata": {
    "collapsed": false
   },
   "outputs": [
    {
     "data": {
      "text/plain": [
       "BaggingClassifier(base_estimator=DecisionTreeClassifier(class_weight=None, criterion='gini', max_depth=None,\n",
       "            max_features=None, max_leaf_nodes=None, min_samples_leaf=1,\n",
       "            min_samples_split=2, min_weight_fraction_leaf=0.0,\n",
       "            presort=False, random_state=None, splitter='best'),\n",
       "         bootstrap=True, bootstrap_features=False, max_features=1.0,\n",
       "         max_samples=1.0, n_estimators=10, n_jobs=1, oob_score=False,\n",
       "         random_state=None, verbose=0, warm_start=False)"
      ]
     },
     "execution_count": 126,
     "metadata": {},
     "output_type": "execute_result"
    }
   ],
   "source": [
    "from sklearn.ensemble import BaggingClassifier\n",
    "\n",
    "bdt = BaggingClassifier(DecisionTreeClassifier())\n",
    "bdt.fit(X_train, y_train)"
   ]
  },
  {
   "cell_type": "code",
   "execution_count": 77,
   "metadata": {
    "collapsed": false
   },
   "outputs": [
    {
     "name": "stdout",
     "output_type": "stream",
     "text": [
      "[ 0.74262402  0.74260722  0.74090998  0.74469613  0.74500588]\n",
      "0.743168645236\n",
      "0.00151142313543\n"
     ]
    }
   ],
   "source": [
    "scores = cross_val_score(bdt, X_train, y_train, cv = 5)\n",
    "print scores\n",
    "print scores.mean()\n",
    "print scores.std()"
   ]
  },
  {
   "cell_type": "code",
   "execution_count": 127,
   "metadata": {
    "collapsed": false
   },
   "outputs": [
    {
     "name": "stdout",
     "output_type": "stream",
     "text": [
      "[0 0 1 ..., 0 1 1]\n"
     ]
    }
   ],
   "source": [
    "predicted_bdt = bdt.predict(X_test)\n",
    "print predicted_bdt"
   ]
  },
  {
   "cell_type": "code",
   "execution_count": 168,
   "metadata": {
    "collapsed": false
   },
   "outputs": [
    {
     "name": "stdout",
     "output_type": "stream",
     "text": [
      "[[ 0.5  0.5]\n",
      " [ 0.8  0.2]\n",
      " [ 0.   1. ]\n",
      " ..., \n",
      " [ 0.6  0.4]\n",
      " [ 0.   1. ]\n",
      " [ 0.   1. ]]\n"
     ]
    }
   ],
   "source": [
    "y_pred_bdt = bdt.predict_proba(X_test)\n",
    "print y_pred_bdt"
   ]
  },
  {
   "cell_type": "code",
   "execution_count": null,
   "metadata": {
    "collapsed": true
   },
   "outputs": [],
   "source": []
  },
  {
   "cell_type": "code",
   "execution_count": 169,
   "metadata": {
    "collapsed": false
   },
   "outputs": [
    {
     "data": {
      "text/plain": [
       "1.0708108518179964"
      ]
     },
     "execution_count": 169,
     "metadata": {},
     "output_type": "execute_result"
    }
   ],
   "source": [
    "log_loss(y_test, y_pred_bdt)"
   ]
  },
  {
   "cell_type": "code",
   "execution_count": 129,
   "metadata": {
    "collapsed": false
   },
   "outputs": [
    {
     "name": "stdout",
     "output_type": "stream",
     "text": [
      "0.743996183004\n"
     ]
    }
   ],
   "source": [
    "acc_bdt = accuracy_score(y_test, predicted_bdt)\n",
    "print acc_bdt"
   ]
  },
  {
   "cell_type": "code",
   "execution_count": 130,
   "metadata": {
    "collapsed": false
   },
   "outputs": [
    {
     "name": "stdout",
     "output_type": "stream",
     "text": [
      "             precision    recall  f1-score   support\n",
      "\n",
      "          0       0.46      0.34      0.39      9073\n",
      "          1       0.81      0.87      0.84     28653\n",
      "\n",
      "avg / total       0.72      0.74      0.73     37726\n",
      "\n"
     ]
    }
   ],
   "source": [
    "print classification_report(y_test, predicted_bdt, labels= bdt.classes_)"
   ]
  },
  {
   "cell_type": "code",
   "execution_count": 149,
   "metadata": {
    "collapsed": false
   },
   "outputs": [
    {
     "name": "stdout",
     "output_type": "stream",
     "text": [
      "DecisionTree: Area under the ROC curve = 0.69355824759\n"
     ]
    }
   ],
   "source": [
    "bdt_preds = bdt.predict_proba(X_test)[:, 1]\n",
    "bdt_performance = roc_auc_score(y_test, bdt_preds)\n",
    "print 'Bagging Desion Tree: Area under the ROC curve = {}'.format(bdt_performance)"
   ]
  },
  {
   "cell_type": "code",
   "execution_count": null,
   "metadata": {
    "collapsed": false
   },
   "outputs": [],
   "source": []
  },
  {
   "cell_type": "code",
   "execution_count": null,
   "metadata": {
    "collapsed": true
   },
   "outputs": [],
   "source": []
  },
  {
   "cell_type": "markdown",
   "metadata": {},
   "source": [
    "#### Extra Tree Classifer"
   ]
  },
  {
   "cell_type": "code",
   "execution_count": 131,
   "metadata": {
    "collapsed": false
   },
   "outputs": [
    {
     "data": {
      "text/plain": [
       "ExtraTreesClassifier(bootstrap=False, class_weight=None, criterion='gini',\n",
       "           max_depth=None, max_features='auto', max_leaf_nodes=None,\n",
       "           min_samples_leaf=1, min_samples_split=2,\n",
       "           min_weight_fraction_leaf=0.0, n_estimators=10, n_jobs=1,\n",
       "           oob_score=False, random_state=None, verbose=0, warm_start=False)"
      ]
     },
     "execution_count": 131,
     "metadata": {},
     "output_type": "execute_result"
    }
   ],
   "source": [
    "extc = ExtraTreesClassifier() \n",
    "extc.fit(X_train, y_train)"
   ]
  },
  {
   "cell_type": "code",
   "execution_count": 82,
   "metadata": {
    "collapsed": false
   },
   "outputs": [
    {
     "name": "stdout",
     "output_type": "stream",
     "text": [
      "[ 0.75293734  0.74756838  0.7441739   0.7465892   0.74827001]\n",
      "0.747907765947\n",
      "0.00287135289749\n"
     ]
    }
   ],
   "source": [
    "scores = cross_val_score(extc, X_train, y_train, cv = 5)\n",
    "print scores\n",
    "print scores.mean()\n",
    "print scores.std()"
   ]
  },
  {
   "cell_type": "code",
   "execution_count": 132,
   "metadata": {
    "collapsed": false
   },
   "outputs": [
    {
     "name": "stdout",
     "output_type": "stream",
     "text": [
      "[1 0 1 ..., 0 1 1]\n"
     ]
    }
   ],
   "source": [
    "predicted_extc = extc.predict(X_test)\n",
    "print predicted_extc"
   ]
  },
  {
   "cell_type": "code",
   "execution_count": 170,
   "metadata": {
    "collapsed": false
   },
   "outputs": [
    {
     "name": "stdout",
     "output_type": "stream",
     "text": [
      "[[ 0.3  0.7]\n",
      " [ 0.7  0.3]\n",
      " [ 0.4  0.6]\n",
      " ..., \n",
      " [ 0.5  0.5]\n",
      " [ 0.   1. ]\n",
      " [ 0.3  0.7]]\n"
     ]
    }
   ],
   "source": [
    "y_pred_extc = extc.predict_proba(X_test)\n",
    "print y_pred_extc"
   ]
  },
  {
   "cell_type": "code",
   "execution_count": 171,
   "metadata": {
    "collapsed": false
   },
   "outputs": [
    {
     "data": {
      "text/plain": [
       "0.94730420666042925"
      ]
     },
     "execution_count": 171,
     "metadata": {},
     "output_type": "execute_result"
    }
   ],
   "source": [
    "log_loss(y_test, y_pred_extc)"
   ]
  },
  {
   "cell_type": "code",
   "execution_count": 134,
   "metadata": {
    "collapsed": false
   },
   "outputs": [
    {
     "name": "stdout",
     "output_type": "stream",
     "text": [
      "0.749827705031\n"
     ]
    }
   ],
   "source": [
    "acc_extc = accuracy_score(y_test, predicted_extc)\n",
    "print acc_extc"
   ]
  },
  {
   "cell_type": "code",
   "execution_count": 135,
   "metadata": {
    "collapsed": false
   },
   "outputs": [
    {
     "name": "stdout",
     "output_type": "stream",
     "text": [
      "             precision    recall  f1-score   support\n",
      "\n",
      "          0       0.47      0.29      0.36      9073\n",
      "          1       0.80      0.90      0.84     28653\n",
      "\n",
      "avg / total       0.72      0.75      0.73     37726\n",
      "\n"
     ]
    }
   ],
   "source": [
    "print classification_report(y_test, predicted_extc, labels= extc.classes_)"
   ]
  },
  {
   "cell_type": "code",
   "execution_count": 157,
   "metadata": {
    "collapsed": false
   },
   "outputs": [
    {
     "data": {
      "image/png": "[encoded data removed]",
      "text/plain": [
       "<matplotlib.figure.Figure at 0x1228ecbd0>"
      ]
     },
     "metadata": {},
     "output_type": "display_data"
    }
   ],
   "source": [
    "FPR = dict()\n",
    "TPR = dict()\n",
    "ROC_AUC = dict()\n",
    "\n",
    "# For class 1, find the area under the curve\n",
    "FPR[1], TPR[1], _ = roc_curve(y_test, predicted_extc)\n",
    "ROC_AUC[1] = auc(FPR[1], TPR[1])\n",
    "\n",
    "# Plot of a ROC curve for class 1 (has_acc_approval)\n",
    "plt.figure(figsize=[11,9])\n",
    "plt.plot(FPR[1], TPR[1], label='ROC curve (area = %0.2f)' % ROC_AUC[1], linewidth=4)\n",
    "plt.plot([0, 1], [0, 1], 'k--', linewidth=4)\n",
    "plt.xlim([0.0, 1.0])\n",
    "plt.ylim([0.0, 1.05])\n",
    "plt.xlabel('False Positive Rate', fontsize=18)\n",
    "plt.ylabel('True Positive Rate', fontsize=18)\n",
    "plt.title('Receiver operating characteristic for accelerated claims approval', fontsize=18)\n",
    "plt.legend(loc=\"lower right\")\n",
    "plt.show()"
   ]
  },
  {
   "cell_type": "code",
   "execution_count": 150,
   "metadata": {
    "collapsed": false
   },
   "outputs": [
    {
     "name": "stdout",
     "output_type": "stream",
     "text": [
      "DecisionTree: Area under the ROC curve = 0.688799360664\n"
     ]
    }
   ],
   "source": [
    "extc_preds = extc.predict_proba(X_test)[:, 1]\n",
    "extc_performance = roc_auc_score(y_test, extc_preds)\n",
    "print 'Extra Tree: Area under the ROC curve = {}'.format(extc_performance)"
   ]
  },
  {
   "cell_type": "code",
   "execution_count": 219,
   "metadata": {
    "collapsed": false
   },
   "outputs": [
    {
     "name": "stdout",
     "output_type": "stream",
     "text": [
      "    feature  importance\n",
      "49      v50    0.044956\n",
      "11      v12    0.030740\n",
      "9       v10    0.029585\n",
      "113    v114    0.028655\n",
      "33      v34    0.028276\n"
     ]
    }
   ],
   "source": [
    "#feature Importance\n",
    "F_extc = pd.DataFrame({'feature':X_train.columns, 'importance':extc.feature_importances_}).sort_values('importance',\n",
    "                                                                      ascending=False).head()\n",
    "print F_extc"
   ]
  },
  {
   "cell_type": "markdown",
   "metadata": {},
   "source": [
    "#### Extra Tree Classifer using Entropy as the criteria"
   ]
  },
  {
   "cell_type": "code",
   "execution_count": 210,
   "metadata": {
    "collapsed": false
   },
   "outputs": [
    {
     "data": {
      "text/plain": [
       "ExtraTreesClassifier(bootstrap=False, class_weight=None, criterion='entropy',\n",
       "           max_depth=40, max_features=60, max_leaf_nodes=None,\n",
       "           min_samples_leaf=2, min_samples_split=4,\n",
       "           min_weight_fraction_leaf=0.0, n_estimators=851, n_jobs=-1,\n",
       "           oob_score=False, random_state=None, verbose=0, warm_start=False)"
      ]
     },
     "execution_count": 210,
     "metadata": {},
     "output_type": "execute_result"
    }
   ],
   "source": [
    "extc4 = ExtraTreesClassifier(n_estimators = 851, max_features = 60, criterion = 'entropy', min_samples_split = 4,\n",
    "                            max_depth = 40, min_samples_leaf = 2, n_jobs = -1) \n",
    "\n",
    "extc4.fit(X_train, y_train)"
   ]
  },
  {
   "cell_type": "code",
   "execution_count": null,
   "metadata": {
    "collapsed": true
   },
   "outputs": [],
   "source": [
    "scores = cross_val_score(extc4, X_train, y_train, cv = 5)\n",
    "print scores\n",
    "print scores.mean()\n",
    "print scores.std()"
   ]
  },
  {
   "cell_type": "code",
   "execution_count": 213,
   "metadata": {
    "collapsed": false
   },
   "outputs": [
    {
     "name": "stdout",
     "output_type": "stream",
     "text": [
      "[1 0 1 ..., 1 1 1]\n"
     ]
    }
   ],
   "source": [
    "predicted_extc4 = extc4.predict(X_test)\n",
    "print predicted_extc4"
   ]
  },
  {
   "cell_type": "code",
   "execution_count": 211,
   "metadata": {
    "collapsed": false
   },
   "outputs": [
    {
     "name": "stdout",
     "output_type": "stream",
     "text": [
      "[[ 0.22812378  0.77187622]\n",
      " [ 0.51322943  0.48677057]\n",
      " [ 0.0640423   0.9359577 ]\n",
      " ..., \n",
      " [ 0.31940201  0.68059799]\n",
      " [ 0.01898006  0.98101994]\n",
      " [ 0.1488445   0.8511555 ]]\n"
     ]
    }
   ],
   "source": [
    "y_pred_extc4 = extc4.predict_proba(X_test)\n",
    "print y_pred_extc4 "
   ]
  },
  {
   "cell_type": "code",
   "execution_count": 212,
   "metadata": {
    "collapsed": false
   },
   "outputs": [
    {
     "data": {
      "text/plain": [
       "0.46029094653736735"
      ]
     },
     "execution_count": 212,
     "metadata": {},
     "output_type": "execute_result"
    }
   ],
   "source": [
    "# The extra tree model with the above parameters have the lowest log loss score so far. \n",
    "# I would finally use this model (extc4) to make predictions on the test set\n",
    "log_loss(y_test, y_pred_extc4)"
   ]
  },
  {
   "cell_type": "code",
   "execution_count": 214,
   "metadata": {
    "collapsed": false
   },
   "outputs": [
    {
     "name": "stdout",
     "output_type": "stream",
     "text": [
      "0.78738800827\n"
     ]
    }
   ],
   "source": [
    "acc_extc4 = accuracy_score(y_test, predicted_extc4)\n",
    "print acc_extc4"
   ]
  },
  {
   "cell_type": "code",
   "execution_count": 215,
   "metadata": {
    "collapsed": false
   },
   "outputs": [
    {
     "name": "stdout",
     "output_type": "stream",
     "text": [
      "             precision    recall  f1-score   support\n",
      "\n",
      "          0       0.68      0.22      0.33      9073\n",
      "          1       0.80      0.97      0.87     28653\n",
      "\n",
      "avg / total       0.77      0.79      0.74     37726\n",
      "\n"
     ]
    }
   ],
   "source": [
    "print classification_report(y_test, predicted_extc4, labels= extc4.classes_)"
   ]
  },
  {
   "cell_type": "code",
   "execution_count": 216,
   "metadata": {
    "collapsed": false
   },
   "outputs": [
    {
     "name": "stdout",
     "output_type": "stream",
     "text": [
      "ExtraTree: Area under the ROC curve = 0.7679940597\n"
     ]
    }
   ],
   "source": [
    "extc4_preds = extc4.predict_proba(X_test)[:, 1]\n",
    "extc4_performance = roc_auc_score(y_test, extc4_preds)\n",
    "print 'ExtraTree: Area under the ROC curve = {}'.format(extc4_performance)"
   ]
  },
  {
   "cell_type": "code",
   "execution_count": 217,
   "metadata": {
    "collapsed": false
   },
   "outputs": [
    {
     "data": {
      "image/png": "[encoded data removed]",
      "text/plain": [
       "<matplotlib.figure.Figure at 0x12027f6d0>"
      ]
     },
     "metadata": {},
     "output_type": "display_data"
    }
   ],
   "source": [
    "FPR = dict()\n",
    "TPR = dict()\n",
    "ROC_AUC = dict()\n",
    "\n",
    "# For class 1, find the area under the curve\n",
    "FPR[1], TPR[1], _ = roc_curve(y_test, predicted_extc4)\n",
    "ROC_AUC[1] = auc(FPR[1], TPR[1])\n",
    "\n",
    "# Plot of a ROC curve for class 1 (has_acc_approval)\n",
    "plt.figure(figsize=[11,9])\n",
    "plt.plot(FPR[1], TPR[1], label='ROC curve (area = %0.2f)' % ROC_AUC[1], linewidth=4)\n",
    "plt.plot([0, 1], [0, 1], 'k--', linewidth=4)\n",
    "plt.xlim([0.0, 1.0])\n",
    "plt.ylim([0.0, 1.05])\n",
    "plt.xlabel('False Positive Rate', fontsize=18)\n",
    "plt.ylabel('True Positive Rate', fontsize=18)\n",
    "plt.title('Receiver operating characteristic for accelerated claims approval', fontsize=18)\n",
    "plt.legend(loc=\"lower right\")\n",
    "plt.show()"
   ]
  },
  {
   "cell_type": "code",
   "execution_count": 218,
   "metadata": {
    "collapsed": false
   },
   "outputs": [
    {
     "name": "stdout",
     "output_type": "stream",
     "text": [
      "    feature  importance\n",
      "49      v50    0.086340\n",
      "51      v52    0.032325\n",
      "11      v12    0.030961\n",
      "9       v10    0.029754\n",
      "124    v125    0.029213\n"
     ]
    }
   ],
   "source": [
    "#feature Importance\n",
    "F_extc4 = pd.DataFrame({'feature':X_train.columns, 'importance':extc4.feature_importances_}).sort_values('importance',\n",
    "                                                                      ascending=False).head()\n",
    "print F_extc4"
   ]
  },
  {
   "cell_type": "markdown",
   "metadata": {},
   "source": [
    "#### After dropping a few features lets try using extra tree classifier"
   ]
  },
  {
   "cell_type": "markdown",
   "metadata": {},
   "source": [
    "I have tried dropping a few random variable columns from the data set to analyze if it has any effect on the log loss score. I have used a default extra tree classifer and also the extra tree classifer with a set of parameters that I have used before. However, dropping random columns does not seem to affect the log loss score of the models. "
   ]
  },
  {
   "cell_type": "code",
   "execution_count": 185,
   "metadata": {
    "collapsed": true
   },
   "outputs": [],
   "source": [
    "drop_list=['v8','v23','v25','v31','v36','v37',\\\n",
    "                    'v46','v51','v53','v54','v63','v73','v75','v79','v81','v82','v89','v92',\\\n",
    "                    'v95','v105','v107','v108','v109','v110','v116','v117','v118','v119','v123','v124','v128']\n",
    "\n",
    "train2 = train1.drop(['ID','target'] + drop_list,axis=1).fillna(-999)\n",
    "test2 = test1.drop(['ID'] + drop_list,axis=1).fillna(-999)"
   ]
  },
  {
   "cell_type": "code",
   "execution_count": 186,
   "metadata": {
    "collapsed": true
   },
   "outputs": [],
   "source": [
    "refcols=list(train2.columns)\n",
    "\n",
    "for elt in refcols:\n",
    "    if train2[elt].dtype=='O':\n",
    "        train2[elt], temp = pd.factorize(train2[elt])\n",
    "        test2[elt]=temp.get_indexer(test2[elt])\n",
    "    else:\n",
    "        train2[elt]=train2[elt].round(5)\n",
    "        test2[elt]=test2[elt].round(5)"
   ]
  },
  {
   "cell_type": "markdown",
   "metadata": {},
   "source": [
    "#### Lets split the train set into test and train "
   ]
  },
  {
   "cell_type": "code",
   "execution_count": 187,
   "metadata": {
    "collapsed": true
   },
   "outputs": [],
   "source": [
    "X = train2\n",
    "y = target\n",
    "\n",
    "X1_train, X1_test, y1_train, y1_test = train_test_split(X, y, test_size=.33)"
   ]
  },
  {
   "cell_type": "code",
   "execution_count": 178,
   "metadata": {
    "collapsed": false
   },
   "outputs": [
    {
     "name": "stdout",
     "output_type": "stream",
     "text": [
      "Length of X_train: 76595\n",
      "Length of y_train: 76595\n",
      "\n",
      "Length of X_test: 37726\n",
      "Length of y_test: 37726\n"
     ]
    }
   ],
   "source": [
    "print 'Length of X_train: ' + str(len(X1_train))\n",
    "print 'Length of y_train: ' + str(len(y1_train))\n",
    "print\n",
    "print 'Length of X_test: ' + str(len(X1_test))\n",
    "print 'Length of y_test: ' + str(len(y1_test))"
   ]
  },
  {
   "cell_type": "code",
   "execution_count": 188,
   "metadata": {
    "collapsed": false
   },
   "outputs": [
    {
     "data": {
      "text/plain": [
       "ExtraTreesClassifier(bootstrap=False, class_weight=None, criterion='gini',\n",
       "           max_depth=None, max_features='auto', max_leaf_nodes=None,\n",
       "           min_samples_leaf=1, min_samples_split=2,\n",
       "           min_weight_fraction_leaf=0.0, n_estimators=10, n_jobs=1,\n",
       "           oob_score=False, random_state=None, verbose=0, warm_start=False)"
      ]
     },
     "execution_count": 188,
     "metadata": {},
     "output_type": "execute_result"
    }
   ],
   "source": [
    "# Using the default extra tree classifier model on the data set with dropped columns\n",
    "extc2 = ExtraTreesClassifier() \n",
    "extc2.fit(X1_train, y1_train)"
   ]
  },
  {
   "cell_type": "code",
   "execution_count": 189,
   "metadata": {
    "collapsed": false
   },
   "outputs": [
    {
     "name": "stdout",
     "output_type": "stream",
     "text": [
      "[1 1 1 ..., 0 1 1]\n"
     ]
    }
   ],
   "source": [
    "predicted2_extc = extc2.predict(X1_test)\n",
    "print predicted2_extc"
   ]
  },
  {
   "cell_type": "code",
   "execution_count": 190,
   "metadata": {
    "collapsed": false
   },
   "outputs": [
    {
     "name": "stdout",
     "output_type": "stream",
     "text": [
      "[[ 0.1  0.9]\n",
      " [ 0.4  0.6]\n",
      " [ 0.2  0.8]\n",
      " ..., \n",
      " [ 0.6  0.4]\n",
      " [ 0.1  0.9]\n",
      " [ 0.   1. ]]\n"
     ]
    }
   ],
   "source": [
    "y_pred_extc2 = extc2.predict_proba(X1_test)\n",
    "print y_pred_extc2"
   ]
  },
  {
   "cell_type": "code",
   "execution_count": 191,
   "metadata": {
    "collapsed": false
   },
   "outputs": [
    {
     "data": {
      "text/plain": [
       "0.93967115504570042"
      ]
     },
     "execution_count": 191,
     "metadata": {},
     "output_type": "execute_result"
    }
   ],
   "source": [
    "# The log loss value does not appear to improve\n",
    "log_loss(y1_test, y_pred_extc2)"
   ]
  },
  {
   "cell_type": "code",
   "execution_count": 184,
   "metadata": {
    "collapsed": false
   },
   "outputs": [
    {
     "name": "stdout",
     "output_type": "stream",
     "text": [
      "DecisionTree: Area under the ROC curve = 0.690787131378\n"
     ]
    }
   ],
   "source": [
    "vd_tree_preds = extc2.predict_proba(X1_test)[:, 1]\n",
    "vd_tree_performance = roc_auc_score(y1_test, vd_tree_preds)\n",
    "print 'Extra Tree: Area under the ROC curve = {}'.format(vd_tree_performance)"
   ]
  },
  {
   "cell_type": "code",
   "execution_count": 192,
   "metadata": {
    "collapsed": false
   },
   "outputs": [
    {
     "data": {
      "text/plain": [
       "ExtraTreesClassifier(bootstrap=False, class_weight=None, criterion='entropy',\n",
       "           max_depth=40, max_features=60, max_leaf_nodes=None,\n",
       "           min_samples_leaf=2, min_samples_split=4,\n",
       "           min_weight_fraction_leaf=0.0, n_estimators=851, n_jobs=-1,\n",
       "           oob_score=False, random_state=None, verbose=0, warm_start=False)"
      ]
     },
     "execution_count": 192,
     "metadata": {},
     "output_type": "execute_result"
    }
   ],
   "source": [
    "# training the model\n",
    "\n",
    "extc3 = ExtraTreesClassifier(n_estimators = 851, max_features = 60, criterion = 'entropy', min_samples_split = 4,\n",
    "                            max_depth = 40, min_samples_leaf = 2, n_jobs = -1) \n",
    "\n",
    "extc3.fit(X1_train, y1_train)"
   ]
  },
  {
   "cell_type": "code",
   "execution_count": 205,
   "metadata": {
    "collapsed": false
   },
   "outputs": [
    {
     "name": "stdout",
     "output_type": "stream",
     "text": [
      "[1 1 1 ..., 1 1 1]\n"
     ]
    }
   ],
   "source": [
    "predicted3_extc = extc3.predict(X1_test)\n",
    "print predicted3_extc"
   ]
  },
  {
   "cell_type": "code",
   "execution_count": 206,
   "metadata": {
    "collapsed": false
   },
   "outputs": [
    {
     "name": "stdout",
     "output_type": "stream",
     "text": [
      "[[ 0.02878966  0.97121034]\n",
      " [ 0.40132535  0.59867465]\n",
      " [ 0.0770662   0.9229338 ]\n",
      " ..., \n",
      " [ 0.44881768  0.55118232]\n",
      " [ 0.0301606   0.9698394 ]\n",
      " [ 0.40214275  0.59785725]]\n"
     ]
    }
   ],
   "source": [
    "y_pred_extc3 = extc3.predict_proba(X1_test)\n",
    "print y_pred_extc3"
   ]
  },
  {
   "cell_type": "code",
   "execution_count": 195,
   "metadata": {
    "collapsed": false
   },
   "outputs": [
    {
     "data": {
      "text/plain": [
       "0.46034747908186063"
      ]
     },
     "execution_count": 195,
     "metadata": {},
     "output_type": "execute_result"
    }
   ],
   "source": [
    "log_loss(y1_test, y_pred_extc3)"
   ]
  },
  {
   "cell_type": "code",
   "execution_count": 196,
   "metadata": {
    "collapsed": false
   },
   "outputs": [
    {
     "name": "stdout",
     "output_type": "stream",
     "text": [
      "0.786433759211\n"
     ]
    }
   ],
   "source": [
    "acc_extc3 = accuracy_score(y1_test, predicted3_extc)\n",
    "print acc_extc3"
   ]
  },
  {
   "cell_type": "code",
   "execution_count": 197,
   "metadata": {
    "collapsed": false
   },
   "outputs": [
    {
     "name": "stdout",
     "output_type": "stream",
     "text": [
      "             precision    recall  f1-score   support\n",
      "\n",
      "          0       0.67      0.22      0.33      9058\n",
      "          1       0.80      0.97      0.87     28668\n",
      "\n",
      "avg / total       0.77      0.79      0.74     37726\n",
      "\n"
     ]
    }
   ],
   "source": [
    "print classification_report(y1_test, predicted3_extc, labels= extc3.classes_)"
   ]
  },
  {
   "cell_type": "code",
   "execution_count": 198,
   "metadata": {
    "collapsed": false
   },
   "outputs": [
    {
     "name": "stdout",
     "output_type": "stream",
     "text": [
      "      0      1\n",
      "0  1966   7092\n",
      "1   965  27703\n"
     ]
    }
   ],
   "source": [
    "# Compute and display the confusion matrix\n",
    "\n",
    "conf_extc3 = confusion_matrix(y1_test, predicted3_extc, labels= extc3.classes_)\n",
    "\n",
    "conf_extc3 = pd.DataFrame(conf_extc3, columns= extc3.classes_, index= extc3.classes_)\n",
    "print conf_extc3"
   ]
  },
  {
   "cell_type": "code",
   "execution_count": 207,
   "metadata": {
    "collapsed": false
   },
   "outputs": [
    {
     "name": "stdout",
     "output_type": "stream",
     "text": [
      "DecisionTree: Area under the ROC curve = 0.591692240197\n"
     ]
    }
   ],
   "source": [
    "extc3_preds = extc3.predict_proba(X1_test)[:, 1]\n",
    "extc3_performance = roc_auc_score(y1_test, predicted3_extc)\n",
    "print 'Extra Tree: Area under the ROC curve = {}'.format(extc3_performance)"
   ]
  },
  {
   "cell_type": "code",
   "execution_count": 204,
   "metadata": {
    "collapsed": false
   },
   "outputs": [
    {
     "data": {
      "image/png": "[encoded data removed]",
      "text/plain": [
       "<matplotlib.figure.Figure at 0x122914dd0>"
      ]
     },
     "metadata": {},
     "output_type": "display_data"
    }
   ],
   "source": [
    "FPR = dict()\n",
    "TPR = dict()\n",
    "ROC_AUC = dict()\n",
    "\n",
    "# For class 1, find the area under the curve\n",
    "FPR[1], TPR[1], _ = roc_curve(y1_test, predicted3_extc)\n",
    "ROC_AUC[1] = auc(FPR[1], TPR[1])\n",
    "\n",
    "# Plot of a ROC curve for class 1 (has_acc_approval)\n",
    "plt.figure(figsize=[11,9])\n",
    "plt.plot(FPR[1], TPR[1], label='ROC curve (area = %0.2f)' % ROC_AUC[1], linewidth=4)\n",
    "plt.plot([0, 1], [0, 1], 'k--', linewidth=4)\n",
    "plt.xlim([0.0, 1.0])\n",
    "plt.ylim([0.0, 1.05])\n",
    "plt.xlabel('False Positive Rate', fontsize=18)\n",
    "plt.ylabel('True Positive Rate', fontsize=18)\n",
    "plt.title('Receiver operating characteristic for accelerated claims approval', fontsize=18)\n",
    "plt.legend(loc=\"lower right\")\n",
    "plt.show()"
   ]
  },
  {
   "cell_type": "markdown",
   "metadata": {},
   "source": [
    " #### Lets try doing Grid Search on the dataset without dropping any variables using the Extra Tree classifer"
   ]
  },
  {
   "cell_type": "code",
   "execution_count": 152,
   "metadata": {
    "collapsed": false
   },
   "outputs": [],
   "source": [
    "from sklearn.tree import ExtraTreeClassifier\n",
    "from sklearn.grid_search import GridSearchCV\n",
    "\n",
    "tree = GridSearchCV(ExtraTreeClassifier(),{'max_depth':range(2,9)})\n",
    "\n",
    "gscv_model = tree.fit(X_train, y_train)\n"
   ]
  },
  {
   "cell_type": "code",
   "execution_count": 155,
   "metadata": {
    "collapsed": false
   },
   "outputs": [
    {
     "data": {
      "text/plain": [
       "ExtraTreeClassifier(class_weight=None, criterion='gini', max_depth=3,\n",
       "          max_features='auto', max_leaf_nodes=None, min_samples_leaf=1,\n",
       "          min_samples_split=2, min_weight_fraction_leaf=0.0,\n",
       "          random_state=None, splitter='random')"
      ]
     },
     "execution_count": 155,
     "metadata": {},
     "output_type": "execute_result"
    }
   ],
   "source": [
    "gscv_model.best_estimator_"
   ]
  },
  {
   "cell_type": "code",
   "execution_count": 153,
   "metadata": {
    "collapsed": false
   },
   "outputs": [
    {
     "name": "stdout",
     "output_type": "stream",
     "text": [
      "[1 1 1 ..., 1 1 1]\n"
     ]
    }
   ],
   "source": [
    "predicted_extc_gd = gscv_model.predict(X_test)\n",
    "print predicted_extc_gd"
   ]
  },
  {
   "cell_type": "code",
   "execution_count": null,
   "metadata": {
    "collapsed": true
   },
   "outputs": [],
   "source": [
    "y_pred_extc2 = extc2.predict_proba(X1_test)\n",
    "print y_pred_extc2"
   ]
  },
  {
   "cell_type": "code",
   "execution_count": 154,
   "metadata": {
    "collapsed": false
   },
   "outputs": [
    {
     "data": {
      "text/plain": [
       "8.3066737257729084"
      ]
     },
     "execution_count": 154,
     "metadata": {},
     "output_type": "execute_result"
    }
   ],
   "source": [
    "log_loss(y_test, predicted_extc_gd)"
   ]
  },
  {
   "cell_type": "code",
   "execution_count": 151,
   "metadata": {
    "collapsed": false
   },
   "outputs": [
    {
     "name": "stdout",
     "output_type": "stream",
     "text": [
      "DecisionTree: Area under the ROC curve = 0.596012667973\n"
     ]
    }
   ],
   "source": [
    "tree_preds = tree.predict_proba(X_test)[:, 1]\n",
    "tree_performance = roc_auc_score(y_test, tree_preds)\n",
    "print 'Extra Tree: Area under the ROC curve = {}'.format(tree_performance)"
   ]
  },
  {
   "cell_type": "markdown",
   "metadata": {},
   "source": [
    "It appears that Grid Search did not much improve the model performance. I would think pick the extra tree classifier and use the model that included all the variables to make predictions on the test data that has beeb provided."
   ]
  },
  {
   "cell_type": "markdown",
   "metadata": {},
   "source": [
    "#### Prediction on the test data using the extra tree classifier"
   ]
  },
  {
   "cell_type": "code",
   "execution_count": 220,
   "metadata": {
    "collapsed": false
   },
   "outputs": [
    {
     "name": "stdout",
     "output_type": "stream",
     "text": [
      "[[ 0.39717979  0.60282021]\n",
      " [ 0.14185272  0.85814728]\n",
      " [ 0.17557775  0.82442225]\n",
      " ..., \n",
      " [ 0.10340776  0.89659224]\n",
      " [ 0.16466902  0.83533098]\n",
      " [ 0.33029769  0.66970231]]\n"
     ]
    }
   ],
   "source": [
    "# Predict using the extra tree model (extc4) to make predictions on the test data set\n",
    "\n",
    "x_test = new_test\n",
    "y_pred_test = extc4.predict_proba(x_test)\n",
    "print y_pred_test"
   ]
  },
  {
   "cell_type": "code",
   "execution_count": 221,
   "metadata": {
    "collapsed": false
   },
   "outputs": [
    {
     "name": "stdout",
     "output_type": "stream",
     "text": [
      "[1 1 1 ..., 1 1 1]\n"
     ]
    }
   ],
   "source": [
    "test_predicted_extc= extc.predict(x_test)\n",
    "print test_predicted_extc"
   ]
  },
  {
   "cell_type": "code",
   "execution_count": 223,
   "metadata": {
    "collapsed": false
   },
   "outputs": [],
   "source": [
    "# The probability of accelerated approval is saved as a csv file. \n",
    "pd.DataFrame({\"ID\": id_test, \"PredictedProb\": y_pred_test[:,1]}).to_csv('extra_trees_pred_prob.csv',index=False)"
   ]
  },
  {
   "cell_type": "code",
   "execution_count": null,
   "metadata": {
    "collapsed": true
   },
   "outputs": [],
   "source": []
  }
 ],
 "metadata": {
  "anaconda-cloud": {},
  "kernelspec": {
   "display_name": "Python [Root]",
   "language": "python",
   "name": "Python [Root]"
  },
  "language_info": {
   "codemirror_mode": {
    "name": "ipython",
    "version": 2
   },
   "file_extension": ".py",
   "mimetype": "text/x-python",
   "name": "python",
   "nbconvert_exporter": "python",
   "pygments_lexer": "ipython2",
   "version": "2.7.12"
  }
 },
 "nbformat": 4,
 "nbformat_minor": 0
}
