{
 "cells": [
  {
   "cell_type": "markdown",
   "metadata": {},
   "source": [
    "# Getting started\n",
    "\n",
    "Once you've chosen your scenario, download the data from [the Iowa website](https://data.iowa.gov/Economy/Iowa-Liquor-Sales/m3tr-qhgy) in csv format. Start by loading the data with pandas. You may need to parse the date columns appropriately."
   ]
  },
  {
   "cell_type": "code",
   "execution_count": 3,
   "metadata": {
    "collapsed": false
   },
   "outputs": [],
   "source": [
    "import pandas as pd\n",
    "\n",
    "## Load the data into a DataFrame\n",
    "# pd.read_csv()\n",
    "\n",
    "## Transform the dates if needed, e.g.\n",
    "# df[\"Date\"] = pd.to_datetime(df[\"Date\"], format=\"%m-%d-%y\")"
   ]
  },
  {
   "cell_type": "markdown",
   "metadata": {},
   "source": [
    "# Explore the data\n",
    "\n",
    "Perform some exploratory statistical analysis and make some plots, such as histograms of transaction totals, bottles sold, etc."
   ]
  },
  {
   "cell_type": "code",
   "execution_count": 4,
   "metadata": {
    "collapsed": true
   },
   "outputs": [],
   "source": [
    "import seaborn as sns\n",
    "import matplotlib.pyplot as plt"
   ]
  },
  {
   "cell_type": "markdown",
   "metadata": {},
   "source": [
    "## Record your findings\n",
    "\n",
    "Be sure to write out anything observations from your exploratory analysis."
   ]
  },
  {
   "cell_type": "markdown",
   "metadata": {},
   "source": [
    "# Mine the data\n",
    "Now you are ready to compute the variables you will use for your regression from the data. For example, you may want to\n",
    "compute total sales per store from Jan to March of 2015, mean price per bottle, etc. Refer to the readme for more ideas appropriate to your scenario.\n",
    "\n",
    "Pandas is your friend for this task. Take a look at the operations [here](http://pandas.pydata.org/pandas-docs/stable/groupby.html) for ideas on how to make the best use of pandas and feel free to search for blog and Stack Overflow posts to help you group data by certain variables and compute sums, means, etc. You may find it useful to create a new data frame to house this summary data."
   ]
  },
  {
   "cell_type": "markdown",
   "metadata": {},
   "source": [
    "# Refine the data\n",
    "Look for any statistical relationships, correlations, or other relevant properties of the dataset."
   ]
  },
  {
   "cell_type": "code",
   "execution_count": null,
   "metadata": {
    "collapsed": true
   },
   "outputs": [],
   "source": []
  },
  {
   "cell_type": "markdown",
   "metadata": {},
   "source": [
    "# Build your models\n",
    "\n",
    "Using scikit-learn or statsmodels, build the necessary models for your scenario. Evaluate model fit."
   ]
  },
  {
   "cell_type": "code",
   "execution_count": 6,
   "metadata": {
    "collapsed": true
   },
   "outputs": [],
   "source": [
    "from sklearn import linear_model\n"
   ]
  },
  {
   "cell_type": "markdown",
   "metadata": {},
   "source": [
    "## Plot your results\n",
    "\n",
    "Again make sure that you record any valuable information. For example, in the tax scenario, did you find the sales from the first three months of the year to be a good predictor of the total sales for the year? Plot the predictions versus the true values and discuss the successes and limitations of your models"
   ]
  },
  {
   "cell_type": "markdown",
   "metadata": {
    "collapsed": true
   },
   "source": [
    "\n",
    "\n",
    "\n",
    "\n",
    "\n",
    "\n",
    "\n",
    "\n",
    "\n",
    "\n",
    "\n",
    "\n",
    "\n"
   ]
  },
  {
   "cell_type": "markdown",
   "metadata": {},
   "source": [
    "# Present the Results\n",
    "\n",
    "Present your conclusions and results. If you have more than one interesting model feel free to include more than one along with a discussion. Use your work in this notebook to prepare your write-up."
   ]
  },
  {
   "cell_type": "markdown",
   "metadata": {
    "collapsed": true
   },
   "source": [
    "# Summary of Project 3 (Scenario 2):\n",
    "\n",
    "My model analysis is based on the 10% dataset of the Iowa liquor sales. The original data set is very large so I have chosen to work with 10% of the data set. The data had some missing values which the dataframe interpreted as NaN. I preferred to drop the NaN labels for regression analysis. So there is a possibility of some missing information.\n",
    "\n",
    "\n",
    "The data had 270955 rows and 18 columns. In trying to figure out the columns (variables) that I could use in building the model for the data, it can be observed that:\n",
    "\n",
    "* The data set had many categorical(qualitative) variables (columns)\n",
    "* Some columns (variables) were related to other columns. For e.g.\n",
    "\n",
    "    - \"The State Bottle Retail\" * \"Bottle Sold\" = \"Sale (Dollars)\" \n",
    "    - \"Bottle Volume\" * \"Bottle Sold\" = \"Volume Sold (liters)\" or \"Volume Sold (gallons)\"\n",
    "\n",
    "\"Item Number\" and \"Item Description\" relate to the same product.\n",
    "\"Category\" and \"Category Name\" relate to the same item.\n",
    "\n",
    "I have chosed to build the model using quantitative variables. In my model, I have used Sale (Dollars) are the dependent variable and \"State Bottle Retail\", \"Bottle Sold\" and  \"Bottle Volume (lts or gallon)\" as independent variables. I have chosen to include \"Zip Code\" as an independent variable in my model. Including the \"zip code\", did increase the r2 value of the model and hence the model fit.\n",
    "\n",
    "**The top five county numbers that had the maximum liquor sales are as follows:**\n",
    "\n",
    "| County Number | Sale (Dollars) | \n",
    "|:-:|---|\n",
    "| 77 | 7.747219e+06 | \n",
    "| 57 | 3.139999e+06 |\n",
    "| 82.0\t| 2.457277e+06 |\n",
    "| 52.0 | 2.077858e+06 | \n",
    "| 7.0 | 1.928017e+06 | \n",
    "\n",
    "From the data analysis, it appears that county number 77 had the maximum liquor sales in dollars followed by county number 57 and 82.\n",
    "\n",
    "The top two Store Number in Iowa that had the maximum liquor sales are 2633 and 4829. They located in county \"Polk\" in county number 77 in the city of Des Moines.\n",
    "\n",
    "\n",
    "**The location of the stores that had the maximum liquor sales can be presented using the following table:**\n",
    "\n",
    "| Sale (Dollars) | Store Number | City | County | County Number |\n",
    "|:-:|---|\n",
    "| 1215399.02 | 2633 | DES MOINES | Polk | 77 |\n",
    "| 1081941.88 | 4829 | DES MOINES | Polk | 77 |\n",
    "| 531684.42\t| 2512 | IOWA CITY | Johnson | 52 | \n",
    "| 504057.23 | 3385 | CEDAR RAPIDS | Linn | 57 |\n",
    "| 398025.24 | 3420 | WINDSOR HEIGHTS | Polk | 77 |\n",
    "  \n",
    "In an attempt to figure out the **city that had the maximum liquor sales in the state of Iowa** the following table would be useful:    \n",
    "\n",
    "| Sale (Dollars) | City | County | County Number |\n",
    "|:-:|---|\n",
    "| 4380886.26 | DES MOINES | Polk | 77 |\n",
    "| 2486949.08 | CEDAR RAPIDS | Linn | 57 |\n",
    "| 1697702.84\t| DAVENPORT | Scott | 82 | \n",
    "| 1250666.19 | IOWA CITY | Johnson | 52 |\n",
    "| 1211603.55 |  WATERLOO | Black Hawk | 7 |\n",
    "| 1200607.02 | SIOUX CITY | Woodbury | 97 |  \n",
    "\n",
    "\n",
    "It can be observed that Des Moines and Cedar Rapids are the two cities in Iowa that had the maximum liquor sales and are located in couty number 77 and 57 respectively. Couty number 77 and 57 were infact the top two counties with respect to maximum liquor sales in Iowa. \n",
    "\n",
    "The cities i.e. Davenport, Iowa City, Waterloo and Sioux City possess the counties that have recorded top liquor sales in State.\n",
    "\n",
    "The following table presents a part of the output table in an effot to present the Cities and Counties that had **the maximum liquor volume sold in gallons and the state bottle retail price** for those locations. \n",
    "\n",
    "| Volume Sold (Gallons) | County Number | City | County | State Bottle Retail |\n",
    "|:-:|---|\n",
    "| 132747.24 | 77 | BONDURANT | Polk  | 17.24 |\n",
    "| 132747.24 | 77 | WEST DES MOINES | Polk  | 39.36 |\n",
    "| 132747.24\t| 77 | GRIMES | Polk  | 16.49 | \n",
    "| 132747.24 | 77 | DES MOINES | Polk  | 9.78 |\n",
    "| 132747.24 | 77 | DES MOINES | Polk  | 7.92 |\n",
    "| 132747.24 | 77 | DES MOINES | Polk  | 24.24 |\n",
    "\n",
    "It can be observed from the above table that county number 77 had the maximum volume sold and the state bottle retail price has been in between 10 to 17 dollars. The following plot presents the volume sold in county 77 over a period of 1 year.\n",
    "\n",
    "![](https://dpalit.github.io/images/project3_timeplot77.png)\n",
    "\n",
    "## Yearly sales prediction:\n",
    "\n",
    "The data for 2015 has been filtered for county number 77. The model has an r2 value of 0.99. The model has a good fit to the data. \n",
    "\n",
    "I would suggest opening stores in the county number 77 because it has the recorded highest sales. Yearly predicted sales for a store in county 77 would be 31,003 dollars. The average number of yearly bottle sold for the store would be 2298 and average volume sold would be 2007 liters.\n",
    "\n",
    "The above plot presents the average sale for county number 77.\n",
    "\n",
    "\n",
    "\n",
    "A regression model for each county has been done with state bottle retail, volume sold and bottle sold as the independent variable and sale dollars as a dpendent variable. The r2 value for county no 99 was 0.98 and the r2 value for county number 77 was 0.77.\n",
    "\n",
    "A regression plot with four variables has been presented below. The r2 value for the model was 0.71\n",
    "\n",
    "![](https://dpalit.github.io/images/project3_regression4.png)\n",
    "\n",
    "![](https://dpalit.github.io/images/project3_predicted_actual.png)\n",
    " \n",
    "I have used the lasso and ridge regularization; however, the r2 value remained nearly the same. After the cross value optimizationnon the lasso model the r2 value of the model increased to 0.77 and that was the best fit that I obtained for the model.\n",
    "\n",
    "![](https://dpalit.github.io/images/project3_linear_pred.png)\n",
    "\n",
    "\n",
    "\n",
    "\n",
    "\n",
    "  \n",
    "\n",
    "\n",
    "\n",
    "\n",
    "\n",
    "\n",
    "\n",
    "\n",
    "\n",
    "\n",
    "\n",
    "\n"
   ]
  },
  {
   "cell_type": "code",
   "execution_count": null,
   "metadata": {
    "collapsed": true
   },
   "outputs": [],
   "source": []
  }
 ],
 "metadata": {
  "kernelspec": {
   "display_name": "Python [Root]",
   "language": "python",
   "name": "Python [Root]"
  },
  "language_info": {
   "codemirror_mode": {
    "name": "ipython",
    "version": 2
   },
   "file_extension": ".py",
   "mimetype": "text/x-python",
   "name": "python",
   "nbconvert_exporter": "python",
   "pygments_lexer": "ipython2",
   "version": "2.7.12"
  }
 },
 "nbformat": 4,
 "nbformat_minor": 0
}
