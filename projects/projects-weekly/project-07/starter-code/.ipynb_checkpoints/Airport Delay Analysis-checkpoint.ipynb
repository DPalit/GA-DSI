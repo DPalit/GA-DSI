{
 "cells": [
  {
   "cell_type": "markdown",
   "metadata": {
    "focus": true,
    "id": "d21ca30e-294e-4146-8e4f-a5c331f7a36e"
   },
   "source": [
    "# Project 7 \n",
    "\n",
    "In this project, you will implement the the clustering techniques that you've learned this week. \n",
    "\n",
    "#### Step 1: Load the python libraries that you will need for this project "
   ]
  },
  {
   "cell_type": "code",
   "execution_count": 14,
   "metadata": {
    "collapsed": true,
    "focus": false,
    "id": "78c3bb3f-f513-437b-94f8-bc363b6e7a8b"
   },
   "outputs": [],
   "source": [
    "import pandas as pd \n",
    "import matplotlib as plt\n",
    "import numpy as np\n",
    "import sklearn\n",
    "import psycopg2 as psy\n",
    "import seaborn as sns\n",
    "plt.style.use('seaborn-white')\n",
    "\n"
   ]
  },
  {
   "cell_type": "markdown",
   "metadata": {
    "focus": false,
    "id": "2c6f52ae-e694-463c-87d8-1974726c2e7a"
   },
   "source": [
    "#### Step 2: Examine your data "
   ]
  },
  {
   "cell_type": "code",
   "execution_count": 15,
   "metadata": {
    "collapsed": true
   },
   "outputs": [],
   "source": [
    "df_airport = pd.read_csv(\"../assets/airports.csv\")"
   ]
  },
  {
   "cell_type": "code",
   "execution_count": 10,
   "metadata": {
    "collapsed": false
   },
   "outputs": [
    {
     "data": {
      "text/plain": [
       "(5167, 13)"
      ]
     },
     "execution_count": 10,
     "metadata": {},
     "output_type": "execute_result"
    }
   ],
   "source": [
    "df_airport.shape"
   ]
  },
  {
   "cell_type": "code",
   "execution_count": 11,
   "metadata": {
    "collapsed": false
   },
   "outputs": [
    {
     "data": {
      "text/html": [
       "<div>\n",
       "<table border=\"1\" class=\"dataframe\">\n",
       "  <thead>\n",
       "    <tr style=\"text-align: right;\">\n",
       "      <th></th>\n",
       "      <th>Key</th>\n",
       "      <th>LocID</th>\n",
       "      <th>AP_NAME</th>\n",
       "      <th>ALIAS</th>\n",
       "      <th>Facility Type</th>\n",
       "      <th>FAA REGION</th>\n",
       "      <th>COUNTY</th>\n",
       "      <th>CITY</th>\n",
       "      <th>STATE</th>\n",
       "      <th>AP Type</th>\n",
       "      <th>Latitude</th>\n",
       "      <th>Longitude</th>\n",
       "      <th>Boundary Data Available</th>\n",
       "    </tr>\n",
       "  </thead>\n",
       "  <tbody>\n",
       "    <tr>\n",
       "      <th>0</th>\n",
       "      <td>3443.0</td>\n",
       "      <td>STX</td>\n",
       "      <td>HENRY E ROHLSEN</td>\n",
       "      <td>Henry E Rohlsen Int'l Airport</td>\n",
       "      <td>Airport</td>\n",
       "      <td>ASO</td>\n",
       "      <td>-VIRGIN ISLANDS-</td>\n",
       "      <td>CHRISTIANSTED</td>\n",
       "      <td>VI</td>\n",
       "      <td>Public Use</td>\n",
       "      <td>17.701556</td>\n",
       "      <td>-64.801722</td>\n",
       "      <td>Yes</td>\n",
       "    </tr>\n",
       "    <tr>\n",
       "      <th>1</th>\n",
       "      <td>5088.0</td>\n",
       "      <td>X64</td>\n",
       "      <td>PATILLAS</td>\n",
       "      <td>NaN</td>\n",
       "      <td>Airport</td>\n",
       "      <td>ASO</td>\n",
       "      <td>#NAME?</td>\n",
       "      <td>PATILLAS</td>\n",
       "      <td>PR</td>\n",
       "      <td>Public Use</td>\n",
       "      <td>17.982189</td>\n",
       "      <td>-66.019330</td>\n",
       "      <td>No</td>\n",
       "    </tr>\n",
       "    <tr>\n",
       "      <th>2</th>\n",
       "      <td>2886.0</td>\n",
       "      <td>PSE</td>\n",
       "      <td>MERCEDITA</td>\n",
       "      <td>Aeropuerto Mercedita</td>\n",
       "      <td>Airport</td>\n",
       "      <td>ASO</td>\n",
       "      <td>#NAME?</td>\n",
       "      <td>PONCE</td>\n",
       "      <td>PR</td>\n",
       "      <td>Public Use</td>\n",
       "      <td>18.008306</td>\n",
       "      <td>-66.563028</td>\n",
       "      <td>Yes</td>\n",
       "    </tr>\n",
       "  </tbody>\n",
       "</table>\n",
       "</div>"
      ],
      "text/plain": [
       "      Key LocID          AP_NAME                          ALIAS Facility Type  \\\n",
       "0  3443.0   STX  HENRY E ROHLSEN  Henry E Rohlsen Int'l Airport       Airport   \n",
       "1  5088.0   X64         PATILLAS                            NaN       Airport   \n",
       "2  2886.0   PSE        MERCEDITA           Aeropuerto Mercedita       Airport   \n",
       "\n",
       "  FAA REGION            COUNTY           CITY STATE     AP Type   Latitude  \\\n",
       "0        ASO  -VIRGIN ISLANDS-  CHRISTIANSTED    VI  Public Use  17.701556   \n",
       "1        ASO            #NAME?       PATILLAS    PR  Public Use  17.982189   \n",
       "2        ASO            #NAME?          PONCE    PR  Public Use  18.008306   \n",
       "\n",
       "   Longitude Boundary Data Available  \n",
       "0 -64.801722                     Yes  \n",
       "1 -66.019330                      No  \n",
       "2 -66.563028                     Yes  "
      ]
     },
     "execution_count": 11,
     "metadata": {},
     "output_type": "execute_result"
    }
   ],
   "source": [
    "df_airport.head(3)"
   ]
  },
  {
   "cell_type": "code",
   "execution_count": 16,
   "metadata": {
    "collapsed": false,
    "focus": false,
    "id": "0f64db5a-e176-46a1-a10b-8c7db09437bc"
   },
   "outputs": [
    {
     "name": "stdout",
     "output_type": "stream",
     "text": [
      "  Airport    Year  Departure Cancellations  Arrival Cancellations  \\\n",
      "0     ABQ  2004.0                    242.0                  235.0   \n",
      "1     ABQ  2005.0                    221.0                  190.0   \n",
      "2     ABQ  2006.0                    392.0                  329.0   \n",
      "3     ABQ  2007.0                    366.0                  304.0   \n",
      "4     ABQ  2008.0                    333.0                  300.0   \n",
      "\n",
      "   Departure Diversions  Arrival Diversions  \n",
      "0                  71.0                46.0  \n",
      "1                  61.0                33.0  \n",
      "2                  71.0               124.0  \n",
      "3                 107.0                45.0  \n",
      "4                  79.0                42.0  \n"
     ]
    }
   ],
   "source": [
    "df_raw = pd.read_csv(\"../assets/airport_cancellations.csv\")\n",
    "df1 = df_raw.dropna() \n",
    "print df1.head()"
   ]
  },
  {
   "cell_type": "code",
   "execution_count": 13,
   "metadata": {
    "collapsed": false
   },
   "outputs": [
    {
     "data": {
      "text/plain": [
       "(805, 6)"
      ]
     },
     "execution_count": 13,
     "metadata": {},
     "output_type": "execute_result"
    }
   ],
   "source": [
    "df1.shape"
   ]
  },
  {
   "cell_type": "code",
   "execution_count": 17,
   "metadata": {
    "collapsed": false
   },
   "outputs": [
    {
     "name": "stdout",
     "output_type": "stream",
     "text": [
      "  airport  year  departures for metric computation  \\\n",
      "0     ABQ  2004                              53971   \n",
      "1     ABQ  2005                              51829   \n",
      "2     ABQ  2006                              49682   \n",
      "3     ABQ  2007                              53255   \n",
      "4     ABQ  2008                              49589   \n",
      "\n",
      "   arrivals for metric computation  percent on-time gate departures  \\\n",
      "0                            53818                           0.8030   \n",
      "1                            51877                           0.8140   \n",
      "2                            51199                           0.7983   \n",
      "3                            53611                           0.8005   \n",
      "4                            49512                           0.8103   \n",
      "\n",
      "   percent on-time airport departures  percent on-time gate arrivals  \\\n",
      "0                              0.7809                         0.7921   \n",
      "1                              0.7922                         0.8001   \n",
      "2                              0.7756                         0.7746   \n",
      "3                              0.7704                         0.7647   \n",
      "4                              0.7844                         0.7875   \n",
      "\n",
      "   average_gate_departure_delay  average_taxi_out_time  \\\n",
      "0                         10.38                   9.89   \n",
      "1                          9.60                   9.79   \n",
      "2                         10.84                   9.89   \n",
      "3                         11.29                  10.34   \n",
      "4                         10.79                  10.41   \n",
      "\n",
      "   average taxi out delay  average airport departure delay  \\\n",
      "0                    2.43                            12.10   \n",
      "1                    2.29                            11.20   \n",
      "2                    2.16                            12.33   \n",
      "3                    2.40                            12.95   \n",
      "4                    2.41                            12.32   \n",
      "\n",
      "   average airborne delay  average taxi in delay  average block delay  \\\n",
      "0                    2.46                   0.83                 2.55   \n",
      "1                    2.26                   0.89                 2.34   \n",
      "2                    2.12                   0.84                 2.66   \n",
      "3                    2.19                   1.29                 3.06   \n",
      "4                    1.82                   1.03                 2.79   \n",
      "\n",
      "   average gate arrival delay  \n",
      "0                       10.87  \n",
      "1                       10.24  \n",
      "2                       11.82  \n",
      "3                       12.71  \n",
      "4                       11.48  \n"
     ]
    }
   ],
   "source": [
    "df2_raw = pd.read_csv(\"../assets/Airport_operations.csv\")\n",
    "df2 = df2_raw.dropna() \n",
    "print df2.head()"
   ]
  },
  {
   "cell_type": "code",
   "execution_count": 15,
   "metadata": {
    "collapsed": false
   },
   "outputs": [
    {
     "data": {
      "text/plain": [
       "(841, 15)"
      ]
     },
     "execution_count": 15,
     "metadata": {},
     "output_type": "execute_result"
    }
   ],
   "source": [
    "df2.shape"
   ]
  },
  {
   "cell_type": "markdown",
   "metadata": {
    "focus": false,
    "id": "3690c265-ac0f-484d-ac79-f42da341e4cd"
   },
   "source": [
    "### Intro: Write a problem statement / aim for this project"
   ]
  },
  {
   "cell_type": "markdown",
   "metadata": {},
   "source": [
    "The aim of this project is to analyze the operations of major airports around the country and trying to figure out the factors that cause departure and operational flight delays.  \n",
    " \n",
    "The datasets provide details about the arrival and departure delays/diversions by airport, flight cancellations, locations of the airports and the year for each recording.  \n",
    "\n",
    "I intend to conduct PCA analysis to figure out the factors leading to delays in arrival and departure delays in the airports. \n"
   ]
  },
  {
   "cell_type": "markdown",
   "metadata": {
    "focus": false,
    "id": "a3cccc0e-8531-4dfe-bb23-8c632aa7404e"
   },
   "source": [
    "### Part 1: Create a PostgreSQL database "
   ]
  },
  {
   "cell_type": "markdown",
   "metadata": {
    "focus": false,
    "id": "b51ca850-aa85-43e1-b7cd-627af62f5fe8"
   },
   "source": [
    "#### 1. Let's create a database where we can house our airport data"
   ]
  },
  {
   "cell_type": "code",
   "execution_count": null,
   "metadata": {
    "collapsed": true,
    "focus": false,
    "id": "5d1b5e84-b49a-4bad-b961-abcb8e6f2751"
   },
   "outputs": [],
   "source": [
    "import psycopg2 \n",
    "from pandas.io import sql\n",
    "\n",
    "conn = psycopg2.connect(database=\"\", user=\"\", password=\"\",host=\"\", port=\"5432\")\n",
    "print \"opened data successfully\""
   ]
  },
  {
   "cell_type": "markdown",
   "metadata": {
    "focus": false,
    "id": "b40e2d2b-5535-42c6-94d6-083b3e428b14"
   },
   "source": [
    "Load our csv files into tables"
   ]
  },
  {
   "cell_type": "code",
   "execution_count": null,
   "metadata": {
    "collapsed": true,
    "focus": false,
    "id": "5cb41423-7467-4005-964c-9b423c3af977"
   },
   "outputs": [],
   "source": []
  },
  {
   "cell_type": "markdown",
   "metadata": {
    "focus": false,
    "id": "a0ca5023-4860-4d86-ae40-218d120ece17"
   },
   "source": [
    "Join airport_cancellations.csv and airports.csv into one table"
   ]
  },
  {
   "cell_type": "code",
   "execution_count": null,
   "metadata": {
    "collapsed": true,
    "focus": false,
    "id": "0192b97c-b99f-498b-b64b-f857451b5218"
   },
   "outputs": [],
   "source": []
  },
  {
   "cell_type": "markdown",
   "metadata": {
    "focus": false,
    "id": "a5fa5f85-1cd6-4ab6-b936-93e9c951e1b7"
   },
   "source": [
    "Query the database for our intial data"
   ]
  },
  {
   "cell_type": "code",
   "execution_count": null,
   "metadata": {
    "collapsed": true,
    "focus": false,
    "id": "385da01a-0b74-47bc-9757-447e46fa194a"
   },
   "outputs": [],
   "source": []
  },
  {
   "cell_type": "markdown",
   "metadata": {
    "focus": false,
    "id": "0b511b59-41ea-478f-bf2d-7e392dc9edaa"
   },
   "source": [
    "#### 1.2 What are the risks and assumptions of our data? "
   ]
  },
  {
   "cell_type": "markdown",
   "metadata": {},
   "source": [
    "\n",
    "We assume the data to be accurate. Human error could cause discrepency in the data and influence any correaltion we arrive at in our analysis."
   ]
  },
  {
   "cell_type": "markdown",
   "metadata": {
    "focus": false,
    "id": "e97b4707-0f0e-4f6a-90ab-fbb634c2305d"
   },
   "source": [
    "### Part 2: Exploratory Data Analysis"
   ]
  },
  {
   "cell_type": "markdown",
   "metadata": {
    "focus": false,
    "id": "6be9cf88-1b92-4360-b424-a495d5e2d4ba"
   },
   "source": [
    "#### 2.1 Plot and Describe the Data"
   ]
  },
  {
   "cell_type": "code",
   "execution_count": 18,
   "metadata": {
    "collapsed": false,
    "focus": false,
    "id": "41ff90a9-0d50-4a8e-97c4-fe429fffc1f7"
   },
   "outputs": [
    {
     "data": {
      "text/html": [
       "<div>\n",
       "<table border=\"1\" class=\"dataframe\">\n",
       "  <thead>\n",
       "    <tr style=\"text-align: right;\">\n",
       "      <th></th>\n",
       "      <th>Airport</th>\n",
       "      <th>Year</th>\n",
       "      <th>Departure Cancellations</th>\n",
       "      <th>Arrival Cancellations</th>\n",
       "      <th>Departure Diversions</th>\n",
       "      <th>Arrival Diversions</th>\n",
       "      <th>airport</th>\n",
       "      <th>year</th>\n",
       "      <th>departures for metric computation</th>\n",
       "      <th>arrivals for metric computation</th>\n",
       "      <th>...</th>\n",
       "      <th>percent on-time airport departures</th>\n",
       "      <th>percent on-time gate arrivals</th>\n",
       "      <th>average_gate_departure_delay</th>\n",
       "      <th>average_taxi_out_time</th>\n",
       "      <th>average taxi out delay</th>\n",
       "      <th>average airport departure delay</th>\n",
       "      <th>average airborne delay</th>\n",
       "      <th>average taxi in delay</th>\n",
       "      <th>average block delay</th>\n",
       "      <th>average gate arrival delay</th>\n",
       "    </tr>\n",
       "  </thead>\n",
       "  <tbody>\n",
       "    <tr>\n",
       "      <th>0</th>\n",
       "      <td>ABQ</td>\n",
       "      <td>2004.0</td>\n",
       "      <td>242.0</td>\n",
       "      <td>235.0</td>\n",
       "      <td>71.0</td>\n",
       "      <td>46.0</td>\n",
       "      <td>ABQ</td>\n",
       "      <td>2004</td>\n",
       "      <td>53971</td>\n",
       "      <td>53818</td>\n",
       "      <td>...</td>\n",
       "      <td>0.7809</td>\n",
       "      <td>0.7921</td>\n",
       "      <td>10.38</td>\n",
       "      <td>9.89</td>\n",
       "      <td>2.43</td>\n",
       "      <td>12.10</td>\n",
       "      <td>2.46</td>\n",
       "      <td>0.83</td>\n",
       "      <td>2.55</td>\n",
       "      <td>10.87</td>\n",
       "    </tr>\n",
       "    <tr>\n",
       "      <th>1</th>\n",
       "      <td>ABQ</td>\n",
       "      <td>2005.0</td>\n",
       "      <td>221.0</td>\n",
       "      <td>190.0</td>\n",
       "      <td>61.0</td>\n",
       "      <td>33.0</td>\n",
       "      <td>ABQ</td>\n",
       "      <td>2005</td>\n",
       "      <td>51829</td>\n",
       "      <td>51877</td>\n",
       "      <td>...</td>\n",
       "      <td>0.7922</td>\n",
       "      <td>0.8001</td>\n",
       "      <td>9.60</td>\n",
       "      <td>9.79</td>\n",
       "      <td>2.29</td>\n",
       "      <td>11.20</td>\n",
       "      <td>2.26</td>\n",
       "      <td>0.89</td>\n",
       "      <td>2.34</td>\n",
       "      <td>10.24</td>\n",
       "    </tr>\n",
       "    <tr>\n",
       "      <th>2</th>\n",
       "      <td>ABQ</td>\n",
       "      <td>2006.0</td>\n",
       "      <td>392.0</td>\n",
       "      <td>329.0</td>\n",
       "      <td>71.0</td>\n",
       "      <td>124.0</td>\n",
       "      <td>ABQ</td>\n",
       "      <td>2006</td>\n",
       "      <td>49682</td>\n",
       "      <td>51199</td>\n",
       "      <td>...</td>\n",
       "      <td>0.7756</td>\n",
       "      <td>0.7746</td>\n",
       "      <td>10.84</td>\n",
       "      <td>9.89</td>\n",
       "      <td>2.16</td>\n",
       "      <td>12.33</td>\n",
       "      <td>2.12</td>\n",
       "      <td>0.84</td>\n",
       "      <td>2.66</td>\n",
       "      <td>11.82</td>\n",
       "    </tr>\n",
       "    <tr>\n",
       "      <th>3</th>\n",
       "      <td>ABQ</td>\n",
       "      <td>2007.0</td>\n",
       "      <td>366.0</td>\n",
       "      <td>304.0</td>\n",
       "      <td>107.0</td>\n",
       "      <td>45.0</td>\n",
       "      <td>ABQ</td>\n",
       "      <td>2007</td>\n",
       "      <td>53255</td>\n",
       "      <td>53611</td>\n",
       "      <td>...</td>\n",
       "      <td>0.7704</td>\n",
       "      <td>0.7647</td>\n",
       "      <td>11.29</td>\n",
       "      <td>10.34</td>\n",
       "      <td>2.40</td>\n",
       "      <td>12.95</td>\n",
       "      <td>2.19</td>\n",
       "      <td>1.29</td>\n",
       "      <td>3.06</td>\n",
       "      <td>12.71</td>\n",
       "    </tr>\n",
       "    <tr>\n",
       "      <th>4</th>\n",
       "      <td>ABQ</td>\n",
       "      <td>2008.0</td>\n",
       "      <td>333.0</td>\n",
       "      <td>300.0</td>\n",
       "      <td>79.0</td>\n",
       "      <td>42.0</td>\n",
       "      <td>ABQ</td>\n",
       "      <td>2008</td>\n",
       "      <td>49589</td>\n",
       "      <td>49512</td>\n",
       "      <td>...</td>\n",
       "      <td>0.7844</td>\n",
       "      <td>0.7875</td>\n",
       "      <td>10.79</td>\n",
       "      <td>10.41</td>\n",
       "      <td>2.41</td>\n",
       "      <td>12.32</td>\n",
       "      <td>1.82</td>\n",
       "      <td>1.03</td>\n",
       "      <td>2.79</td>\n",
       "      <td>11.48</td>\n",
       "    </tr>\n",
       "  </tbody>\n",
       "</table>\n",
       "<p>5 rows × 21 columns</p>\n",
       "</div>"
      ],
      "text/plain": [
       "  Airport    Year  Departure Cancellations  Arrival Cancellations  \\\n",
       "0     ABQ  2004.0                    242.0                  235.0   \n",
       "1     ABQ  2005.0                    221.0                  190.0   \n",
       "2     ABQ  2006.0                    392.0                  329.0   \n",
       "3     ABQ  2007.0                    366.0                  304.0   \n",
       "4     ABQ  2008.0                    333.0                  300.0   \n",
       "\n",
       "   Departure Diversions  Arrival Diversions airport  year  \\\n",
       "0                  71.0                46.0     ABQ  2004   \n",
       "1                  61.0                33.0     ABQ  2005   \n",
       "2                  71.0               124.0     ABQ  2006   \n",
       "3                 107.0                45.0     ABQ  2007   \n",
       "4                  79.0                42.0     ABQ  2008   \n",
       "\n",
       "   departures for metric computation  arrivals for metric computation  \\\n",
       "0                              53971                            53818   \n",
       "1                              51829                            51877   \n",
       "2                              49682                            51199   \n",
       "3                              53255                            53611   \n",
       "4                              49589                            49512   \n",
       "\n",
       "              ...              percent on-time airport departures  \\\n",
       "0             ...                                          0.7809   \n",
       "1             ...                                          0.7922   \n",
       "2             ...                                          0.7756   \n",
       "3             ...                                          0.7704   \n",
       "4             ...                                          0.7844   \n",
       "\n",
       "   percent on-time gate arrivals  average_gate_departure_delay  \\\n",
       "0                         0.7921                         10.38   \n",
       "1                         0.8001                          9.60   \n",
       "2                         0.7746                         10.84   \n",
       "3                         0.7647                         11.29   \n",
       "4                         0.7875                         10.79   \n",
       "\n",
       "   average_taxi_out_time  average taxi out delay  \\\n",
       "0                   9.89                    2.43   \n",
       "1                   9.79                    2.29   \n",
       "2                   9.89                    2.16   \n",
       "3                  10.34                    2.40   \n",
       "4                  10.41                    2.41   \n",
       "\n",
       "   average airport departure delay  average airborne delay  \\\n",
       "0                            12.10                    2.46   \n",
       "1                            11.20                    2.26   \n",
       "2                            12.33                    2.12   \n",
       "3                            12.95                    2.19   \n",
       "4                            12.32                    1.82   \n",
       "\n",
       "   average taxi in delay  average block delay  average gate arrival delay  \n",
       "0                   0.83                 2.55                       10.87  \n",
       "1                   0.89                 2.34                       10.24  \n",
       "2                   0.84                 2.66                       11.82  \n",
       "3                   1.29                 3.06                       12.71  \n",
       "4                   1.03                 2.79                       11.48  \n",
       "\n",
       "[5 rows x 21 columns]"
      ]
     },
     "execution_count": 18,
     "metadata": {},
     "output_type": "execute_result"
    }
   ],
   "source": [
    "df = pd.concat([df1, df2], axis = 1)\n",
    "df.head()"
   ]
  },
  {
   "cell_type": "code",
   "execution_count": 17,
   "metadata": {
    "collapsed": false
   },
   "outputs": [
    {
     "data": {
      "text/plain": [
       "(841, 21)"
      ]
     },
     "execution_count": 17,
     "metadata": {},
     "output_type": "execute_result"
    }
   ],
   "source": [
    "df.shape"
   ]
  },
  {
   "cell_type": "code",
   "execution_count": 19,
   "metadata": {
    "collapsed": false
   },
   "outputs": [
    {
     "name": "stdout",
     "output_type": "stream",
     "text": [
      "  Airport    Year  Departure Cancellations  Arrival Cancellations  \\\n",
      "0     ABQ  2004.0                    242.0                  235.0   \n",
      "1     ABQ  2005.0                    221.0                  190.0   \n",
      "2     ABQ  2006.0                    392.0                  329.0   \n",
      "3     ABQ  2007.0                    366.0                  304.0   \n",
      "4     ABQ  2008.0                    333.0                  300.0   \n",
      "\n",
      "   Departure Diversions  Arrival Diversions airport  year  \\\n",
      "0                  71.0                46.0     ABQ  2004   \n",
      "1                  61.0                33.0     ABQ  2005   \n",
      "2                  71.0               124.0     ABQ  2006   \n",
      "3                 107.0                45.0     ABQ  2007   \n",
      "4                  79.0                42.0     ABQ  2008   \n",
      "\n",
      "   departures for metric computation  arrivals for metric computation  \\\n",
      "0                              53971                            53818   \n",
      "1                              51829                            51877   \n",
      "2                              49682                            51199   \n",
      "3                              53255                            53611   \n",
      "4                              49589                            49512   \n",
      "\n",
      "              ...              percent on-time airport departures  \\\n",
      "0             ...                                          0.7809   \n",
      "1             ...                                          0.7922   \n",
      "2             ...                                          0.7756   \n",
      "3             ...                                          0.7704   \n",
      "4             ...                                          0.7844   \n",
      "\n",
      "   percent on-time gate arrivals  average_gate_departure_delay  \\\n",
      "0                         0.7921                         10.38   \n",
      "1                         0.8001                          9.60   \n",
      "2                         0.7746                         10.84   \n",
      "3                         0.7647                         11.29   \n",
      "4                         0.7875                         10.79   \n",
      "\n",
      "   average_taxi_out_time  average taxi out delay  \\\n",
      "0                   9.89                    2.43   \n",
      "1                   9.79                    2.29   \n",
      "2                   9.89                    2.16   \n",
      "3                  10.34                    2.40   \n",
      "4                  10.41                    2.41   \n",
      "\n",
      "   average airport departure delay  average airborne delay  \\\n",
      "0                            12.10                    2.46   \n",
      "1                            11.20                    2.26   \n",
      "2                            12.33                    2.12   \n",
      "3                            12.95                    2.19   \n",
      "4                            12.32                    1.82   \n",
      "\n",
      "   average taxi in delay  average block delay  average gate arrival delay  \n",
      "0                   0.83                 2.55                       10.87  \n",
      "1                   0.89                 2.34                       10.24  \n",
      "2                   0.84                 2.66                       11.82  \n",
      "3                   1.29                 3.06                       12.71  \n",
      "4                   1.03                 2.79                       11.48  \n",
      "\n",
      "[5 rows x 21 columns]\n"
     ]
    }
   ],
   "source": [
    "new_df = df.dropna()\n",
    "print new_df.head()"
   ]
  },
  {
   "cell_type": "code",
   "execution_count": 19,
   "metadata": {
    "collapsed": false
   },
   "outputs": [
    {
     "data": {
      "text/plain": [
       "(805, 21)"
      ]
     },
     "execution_count": 19,
     "metadata": {},
     "output_type": "execute_result"
    }
   ],
   "source": [
    "new_df.shape"
   ]
  },
  {
   "cell_type": "code",
   "execution_count": 20,
   "metadata": {
    "collapsed": false
   },
   "outputs": [
    {
     "data": {
      "text/html": [
       "<div>\n",
       "<table border=\"1\" class=\"dataframe\">\n",
       "  <thead>\n",
       "    <tr style=\"text-align: right;\">\n",
       "      <th></th>\n",
       "      <th>Year</th>\n",
       "      <th>Departure Cancellations</th>\n",
       "      <th>Arrival Cancellations</th>\n",
       "      <th>Departure Diversions</th>\n",
       "      <th>Arrival Diversions</th>\n",
       "      <th>year</th>\n",
       "      <th>departures for metric computation</th>\n",
       "      <th>arrivals for metric computation</th>\n",
       "      <th>percent on-time gate departures</th>\n",
       "      <th>percent on-time airport departures</th>\n",
       "      <th>percent on-time gate arrivals</th>\n",
       "      <th>average_gate_departure_delay</th>\n",
       "      <th>average_taxi_out_time</th>\n",
       "      <th>average taxi out delay</th>\n",
       "      <th>average airport departure delay</th>\n",
       "      <th>average airborne delay</th>\n",
       "      <th>average taxi in delay</th>\n",
       "      <th>average block delay</th>\n",
       "      <th>average gate arrival delay</th>\n",
       "    </tr>\n",
       "  </thead>\n",
       "  <tbody>\n",
       "    <tr>\n",
       "      <th>count</th>\n",
       "      <td>805.000000</td>\n",
       "      <td>805.000000</td>\n",
       "      <td>805.000000</td>\n",
       "      <td>805.000000</td>\n",
       "      <td>805.000000</td>\n",
       "      <td>805.000000</td>\n",
       "      <td>805.000000</td>\n",
       "      <td>805.000000</td>\n",
       "      <td>805.000000</td>\n",
       "      <td>805.000000</td>\n",
       "      <td>805.000000</td>\n",
       "      <td>805.000000</td>\n",
       "      <td>805.000000</td>\n",
       "      <td>805.000000</td>\n",
       "      <td>805.000000</td>\n",
       "      <td>805.000000</td>\n",
       "      <td>805.000000</td>\n",
       "      <td>805.000000</td>\n",
       "      <td>805.000000</td>\n",
       "    </tr>\n",
       "    <tr>\n",
       "      <th>mean</th>\n",
       "      <td>2008.986335</td>\n",
       "      <td>1292.038509</td>\n",
       "      <td>1333.124224</td>\n",
       "      <td>173.315528</td>\n",
       "      <td>169.413665</td>\n",
       "      <td>2009.014907</td>\n",
       "      <td>111331.108075</td>\n",
       "      <td>110868.648447</td>\n",
       "      <td>0.770338</td>\n",
       "      <td>0.719039</td>\n",
       "      <td>0.760144</td>\n",
       "      <td>13.299888</td>\n",
       "      <td>13.813453</td>\n",
       "      <td>3.604907</td>\n",
       "      <td>16.059615</td>\n",
       "      <td>2.930112</td>\n",
       "      <td>1.385006</td>\n",
       "      <td>3.322807</td>\n",
       "      <td>13.743565</td>\n",
       "    </tr>\n",
       "    <tr>\n",
       "      <th>std</th>\n",
       "      <td>3.158116</td>\n",
       "      <td>1835.961943</td>\n",
       "      <td>1975.224868</td>\n",
       "      <td>172.345539</td>\n",
       "      <td>228.521615</td>\n",
       "      <td>3.152394</td>\n",
       "      <td>99041.431112</td>\n",
       "      <td>98682.707680</td>\n",
       "      <td>0.075023</td>\n",
       "      <td>0.088554</td>\n",
       "      <td>0.068339</td>\n",
       "      <td>4.076106</td>\n",
       "      <td>3.836060</td>\n",
       "      <td>2.397139</td>\n",
       "      <td>4.937230</td>\n",
       "      <td>1.199621</td>\n",
       "      <td>0.879909</td>\n",
       "      <td>1.029183</td>\n",
       "      <td>3.907379</td>\n",
       "    </tr>\n",
       "    <tr>\n",
       "      <th>min</th>\n",
       "      <td>2004.000000</td>\n",
       "      <td>0.000000</td>\n",
       "      <td>0.000000</td>\n",
       "      <td>0.000000</td>\n",
       "      <td>0.000000</td>\n",
       "      <td>2004.000000</td>\n",
       "      <td>261.000000</td>\n",
       "      <td>259.000000</td>\n",
       "      <td>0.246700</td>\n",
       "      <td>0.245700</td>\n",
       "      <td>0.349500</td>\n",
       "      <td>5.350000</td>\n",
       "      <td>7.040000</td>\n",
       "      <td>0.000000</td>\n",
       "      <td>6.290000</td>\n",
       "      <td>0.950000</td>\n",
       "      <td>0.000000</td>\n",
       "      <td>1.230000</td>\n",
       "      <td>6.330000</td>\n",
       "    </tr>\n",
       "    <tr>\n",
       "      <th>25%</th>\n",
       "      <td>2006.000000</td>\n",
       "      <td>349.000000</td>\n",
       "      <td>314.000000</td>\n",
       "      <td>62.000000</td>\n",
       "      <td>41.000000</td>\n",
       "      <td>2006.000000</td>\n",
       "      <td>39279.000000</td>\n",
       "      <td>39178.000000</td>\n",
       "      <td>0.747500</td>\n",
       "      <td>0.686300</td>\n",
       "      <td>0.738100</td>\n",
       "      <td>10.950000</td>\n",
       "      <td>11.330000</td>\n",
       "      <td>2.230000</td>\n",
       "      <td>12.980000</td>\n",
       "      <td>2.060000</td>\n",
       "      <td>0.820000</td>\n",
       "      <td>2.630000</td>\n",
       "      <td>11.270000</td>\n",
       "    </tr>\n",
       "    <tr>\n",
       "      <th>50%</th>\n",
       "      <td>2009.000000</td>\n",
       "      <td>663.000000</td>\n",
       "      <td>642.000000</td>\n",
       "      <td>110.000000</td>\n",
       "      <td>84.000000</td>\n",
       "      <td>2009.000000</td>\n",
       "      <td>73741.000000</td>\n",
       "      <td>73323.000000</td>\n",
       "      <td>0.782400</td>\n",
       "      <td>0.736200</td>\n",
       "      <td>0.769300</td>\n",
       "      <td>12.670000</td>\n",
       "      <td>12.930000</td>\n",
       "      <td>3.030000</td>\n",
       "      <td>15.240000</td>\n",
       "      <td>2.660000</td>\n",
       "      <td>1.120000</td>\n",
       "      <td>3.150000</td>\n",
       "      <td>13.070000</td>\n",
       "    </tr>\n",
       "    <tr>\n",
       "      <th>75%</th>\n",
       "      <td>2012.000000</td>\n",
       "      <td>1472.000000</td>\n",
       "      <td>1523.000000</td>\n",
       "      <td>236.000000</td>\n",
       "      <td>190.000000</td>\n",
       "      <td>2012.000000</td>\n",
       "      <td>166455.000000</td>\n",
       "      <td>164961.000000</td>\n",
       "      <td>0.809300</td>\n",
       "      <td>0.770700</td>\n",
       "      <td>0.797500</td>\n",
       "      <td>14.820000</td>\n",
       "      <td>15.720000</td>\n",
       "      <td>4.190000</td>\n",
       "      <td>17.850000</td>\n",
       "      <td>3.620000</td>\n",
       "      <td>1.770000</td>\n",
       "      <td>3.850000</td>\n",
       "      <td>15.190000</td>\n",
       "    </tr>\n",
       "    <tr>\n",
       "      <th>max</th>\n",
       "      <td>2014.000000</td>\n",
       "      <td>16618.000000</td>\n",
       "      <td>17571.000000</td>\n",
       "      <td>1064.000000</td>\n",
       "      <td>1948.000000</td>\n",
       "      <td>2014.000000</td>\n",
       "      <td>491826.000000</td>\n",
       "      <td>486799.000000</td>\n",
       "      <td>0.909700</td>\n",
       "      <td>0.897400</td>\n",
       "      <td>0.880300</td>\n",
       "      <td>40.800000</td>\n",
       "      <td>35.760000</td>\n",
       "      <td>18.940000</td>\n",
       "      <td>40.870000</td>\n",
       "      <td>7.820000</td>\n",
       "      <td>6.180000</td>\n",
       "      <td>7.520000</td>\n",
       "      <td>34.280000</td>\n",
       "    </tr>\n",
       "  </tbody>\n",
       "</table>\n",
       "</div>"
      ],
      "text/plain": [
       "              Year  Departure Cancellations  Arrival Cancellations  \\\n",
       "count   805.000000               805.000000             805.000000   \n",
       "mean   2008.986335              1292.038509            1333.124224   \n",
       "std       3.158116              1835.961943            1975.224868   \n",
       "min    2004.000000                 0.000000               0.000000   \n",
       "25%    2006.000000               349.000000             314.000000   \n",
       "50%    2009.000000               663.000000             642.000000   \n",
       "75%    2012.000000              1472.000000            1523.000000   \n",
       "max    2014.000000             16618.000000           17571.000000   \n",
       "\n",
       "       Departure Diversions  Arrival Diversions         year  \\\n",
       "count            805.000000          805.000000   805.000000   \n",
       "mean             173.315528          169.413665  2009.014907   \n",
       "std              172.345539          228.521615     3.152394   \n",
       "min                0.000000            0.000000  2004.000000   \n",
       "25%               62.000000           41.000000  2006.000000   \n",
       "50%              110.000000           84.000000  2009.000000   \n",
       "75%              236.000000          190.000000  2012.000000   \n",
       "max             1064.000000         1948.000000  2014.000000   \n",
       "\n",
       "       departures for metric computation  arrivals for metric computation  \\\n",
       "count                         805.000000                       805.000000   \n",
       "mean                       111331.108075                    110868.648447   \n",
       "std                         99041.431112                     98682.707680   \n",
       "min                           261.000000                       259.000000   \n",
       "25%                         39279.000000                     39178.000000   \n",
       "50%                         73741.000000                     73323.000000   \n",
       "75%                        166455.000000                    164961.000000   \n",
       "max                        491826.000000                    486799.000000   \n",
       "\n",
       "       percent on-time gate departures  percent on-time airport departures  \\\n",
       "count                       805.000000                          805.000000   \n",
       "mean                          0.770338                            0.719039   \n",
       "std                           0.075023                            0.088554   \n",
       "min                           0.246700                            0.245700   \n",
       "25%                           0.747500                            0.686300   \n",
       "50%                           0.782400                            0.736200   \n",
       "75%                           0.809300                            0.770700   \n",
       "max                           0.909700                            0.897400   \n",
       "\n",
       "       percent on-time gate arrivals  average_gate_departure_delay  \\\n",
       "count                     805.000000                    805.000000   \n",
       "mean                        0.760144                     13.299888   \n",
       "std                         0.068339                      4.076106   \n",
       "min                         0.349500                      5.350000   \n",
       "25%                         0.738100                     10.950000   \n",
       "50%                         0.769300                     12.670000   \n",
       "75%                         0.797500                     14.820000   \n",
       "max                         0.880300                     40.800000   \n",
       "\n",
       "       average_taxi_out_time  average taxi out delay  \\\n",
       "count             805.000000              805.000000   \n",
       "mean               13.813453                3.604907   \n",
       "std                 3.836060                2.397139   \n",
       "min                 7.040000                0.000000   \n",
       "25%                11.330000                2.230000   \n",
       "50%                12.930000                3.030000   \n",
       "75%                15.720000                4.190000   \n",
       "max                35.760000               18.940000   \n",
       "\n",
       "       average airport departure delay  average airborne delay  \\\n",
       "count                       805.000000              805.000000   \n",
       "mean                         16.059615                2.930112   \n",
       "std                           4.937230                1.199621   \n",
       "min                           6.290000                0.950000   \n",
       "25%                          12.980000                2.060000   \n",
       "50%                          15.240000                2.660000   \n",
       "75%                          17.850000                3.620000   \n",
       "max                          40.870000                7.820000   \n",
       "\n",
       "       average taxi in delay  average block delay  average gate arrival delay  \n",
       "count             805.000000           805.000000                  805.000000  \n",
       "mean                1.385006             3.322807                   13.743565  \n",
       "std                 0.879909             1.029183                    3.907379  \n",
       "min                 0.000000             1.230000                    6.330000  \n",
       "25%                 0.820000             2.630000                   11.270000  \n",
       "50%                 1.120000             3.150000                   13.070000  \n",
       "75%                 1.770000             3.850000                   15.190000  \n",
       "max                 6.180000             7.520000                   34.280000  "
      ]
     },
     "execution_count": 20,
     "metadata": {},
     "output_type": "execute_result"
    }
   ],
   "source": [
    "new_df.describe()"
   ]
  },
  {
   "cell_type": "code",
   "execution_count": 21,
   "metadata": {
    "collapsed": false
   },
   "outputs": [
    {
     "name": "stdout",
     "output_type": "stream",
     "text": [
      "<class 'pandas.core.frame.DataFrame'>\n",
      "Int64Index: 805 entries, 0 to 804\n",
      "Data columns (total 21 columns):\n",
      "Airport                               805 non-null object\n",
      "Year                                  805 non-null float64\n",
      "Departure Cancellations               805 non-null float64\n",
      "Arrival Cancellations                 805 non-null float64\n",
      "Departure Diversions                  805 non-null float64\n",
      "Arrival Diversions                    805 non-null float64\n",
      "airport                               805 non-null object\n",
      "year                                  805 non-null int64\n",
      "departures for metric computation     805 non-null int64\n",
      "arrivals for metric computation       805 non-null int64\n",
      "percent on-time gate departures       805 non-null float64\n",
      "percent on-time airport departures    805 non-null float64\n",
      "percent on-time gate arrivals         805 non-null float64\n",
      "average_gate_departure_delay          805 non-null float64\n",
      "average_taxi_out_time                 805 non-null float64\n",
      "average taxi out delay                805 non-null float64\n",
      "average airport departure delay       805 non-null float64\n",
      "average airborne delay                805 non-null float64\n",
      "average taxi in delay                 805 non-null float64\n",
      "average block delay                   805 non-null float64\n",
      "average gate arrival delay            805 non-null float64\n",
      "dtypes: float64(16), int64(3), object(2)\n",
      "memory usage: 138.4+ KB\n"
     ]
    }
   ],
   "source": [
    "new_df.info()"
   ]
  },
  {
   "cell_type": "code",
   "execution_count": 22,
   "metadata": {
    "collapsed": false
   },
   "outputs": [
    {
     "data": {
      "text/plain": [
       "<matplotlib.axes._subplots.AxesSubplot at 0x118267610>"
      ]
     },
     "execution_count": 22,
     "metadata": {},
     "output_type": "execute_result"
    },
    {
     "data": {
      "image/png": "[encoded data removed]",
      "text/plain": [
       "<matplotlib.figure.Figure at 0x11825b6d0>"
      ]
     },
     "metadata": {},
     "output_type": "display_data"
    }
   ],
   "source": [
    "# the plot shows a positive skew\n",
    "%matplotlib inline\n",
    "sns.distplot(new_df['average_taxi_out_time'], hist=True, color=\"b\")"
   ]
  },
  {
   "cell_type": "code",
   "execution_count": 23,
   "metadata": {
    "collapsed": false
   },
   "outputs": [
    {
     "data": {
      "text/plain": [
       "<matplotlib.axes._subplots.AxesSubplot at 0x118267590>"
      ]
     },
     "execution_count": 23,
     "metadata": {},
     "output_type": "execute_result"
    },
    {
     "data": {
      "image/png": "[encoded data removed]",
      "text/plain": [
       "<matplotlib.figure.Figure at 0x11b189990>"
      ]
     },
     "metadata": {},
     "output_type": "display_data"
    }
   ],
   "source": [
    "# the plot presents a positive skew\n",
    "sns.distplot(new_df['average_gate_departure_delay'], hist=True, color=\"r\")"
   ]
  },
  {
   "cell_type": "code",
   "execution_count": 24,
   "metadata": {
    "collapsed": false
   },
   "outputs": [
    {
     "data": {
      "text/plain": [
       "<matplotlib.axes._subplots.AxesSubplot at 0x11b814110>"
      ]
     },
     "execution_count": 24,
     "metadata": {},
     "output_type": "execute_result"
    },
    {
     "data": {
      "image/png": "[encoded data removed]",
      "text/plain": [
       "<matplotlib.figure.Figure at 0x11b81f750>"
      ]
     },
     "metadata": {},
     "output_type": "display_data"
    }
   ],
   "source": [
    "#the data has a positive skew\n",
    "sns.distplot(new_df['average airborne delay'], hist=True, color=\"g\")"
   ]
  },
  {
   "cell_type": "markdown",
   "metadata": {},
   "source": [
    "It can be observed that all the above plots have a positive skew. However, the positive skew of 'average airborne delay' is relatively more compared to 'average gata departure delay' and 'average taxi time out'."
   ]
  },
  {
   "cell_type": "markdown",
   "metadata": {
    "focus": false,
    "id": "3d12188d-3aa9-4d47-a0e8-b5d6e8f071de"
   },
   "source": [
    "#### Are there any unique values? "
   ]
  },
  {
   "cell_type": "code",
   "execution_count": 25,
   "metadata": {
    "collapsed": false,
    "focus": false,
    "id": "d76cfc84-4d16-4f6f-aca8-3dc77d3b8f5c"
   },
   "outputs": [
    {
     "data": {
      "text/plain": [
       "array(['ABQ', 'ANC', 'ATL', 'AUS', 'BDL', 'BHM', 'BNA', 'BOS', 'BUF',\n",
       "       'BUR', 'BWI', 'CLE', 'CLT', 'CVG', 'DAL', 'DAY', 'DCA', 'DEN',\n",
       "       'DFW', 'DTW', 'EWR', 'FLL', 'HNL', 'HOU', 'HPN', 'IAD', 'IAH',\n",
       "       'IND', 'ISP', 'JAX', 'JFK', 'LAS', 'LAX', 'LGA', 'LGB', 'MCI',\n",
       "       'MCO', 'MDW', 'MEM', 'MHT', 'MIA', 'MKE', 'MSP', 'MSY', 'OAK',\n",
       "       'OGG', 'OMA', 'ONT', 'ORD', 'OXR', 'PBI', 'PDX', 'PHL', 'PHX',\n",
       "       'PIT', 'PSP', 'PVD', 'RDU', 'RFD', 'RSW', 'SAN', 'SAT', 'SDF',\n",
       "       'SEA', 'SFO', 'SJC', 'SJU', 'SLC', 'SMF', 'SNA', 'STL', 'SWF',\n",
       "       'TPA', 'TUS'], dtype=object)"
      ]
     },
     "execution_count": 25,
     "metadata": {},
     "output_type": "execute_result"
    }
   ],
   "source": [
    "new_df['Airport'].unique()"
   ]
  },
  {
   "cell_type": "code",
   "execution_count": 26,
   "metadata": {
    "collapsed": false
   },
   "outputs": [
    {
     "data": {
      "text/plain": [
       "74"
      ]
     },
     "execution_count": 26,
     "metadata": {},
     "output_type": "execute_result"
    }
   ],
   "source": [
    "new_df['Airport'].nunique()"
   ]
  },
  {
   "cell_type": "markdown",
   "metadata": {
    "focus": false,
    "id": "e2ddc27c-94d6-4ab1-95ef-1093bb2726b0"
   },
   "source": [
    "### Part 3: Data Mining"
   ]
  },
  {
   "cell_type": "markdown",
   "metadata": {
    "focus": false,
    "id": "a746fd8c-fdb0-45c3-9e17-ad4c89360055"
   },
   "source": [
    "#### 3.1 Create Dummy Variables"
   ]
  },
  {
   "cell_type": "code",
   "execution_count": 20,
   "metadata": {
    "collapsed": false,
    "focus": false,
    "id": "eae97f78-3695-4777-91c5-f282dfd26e96"
   },
   "outputs": [
    {
     "name": "stderr",
     "output_type": "stream",
     "text": [
      "/anaconda/lib/python2.7/site-packages/ipykernel/__main__.py:3: SettingWithCopyWarning: \n",
      "A value is trying to be set on a copy of a slice from a DataFrame.\n",
      "Try using .loc[row_indexer,col_indexer] = value instead\n",
      "\n",
      "See the caveats in the documentation: http://pandas.pydata.org/pandas-docs/stable/indexing.html#indexing-view-versus-copy\n",
      "  app.launch_new_instance()\n"
     ]
    }
   ],
   "source": [
    "from sklearn.preprocessing import LabelEncoder\n",
    "\n",
    "new_df[\"Airport\"] = LabelEncoder().fit_transform(new_df[\"Airport\"])"
   ]
  },
  {
   "cell_type": "code",
   "execution_count": 29,
   "metadata": {
    "collapsed": false
   },
   "outputs": [
    {
     "data": {
      "text/html": [
       "<div>\n",
       "<table border=\"1\" class=\"dataframe\">\n",
       "  <thead>\n",
       "    <tr style=\"text-align: right;\">\n",
       "      <th></th>\n",
       "      <th>Airport</th>\n",
       "      <th>Year</th>\n",
       "      <th>Departure Cancellations</th>\n",
       "      <th>Arrival Cancellations</th>\n",
       "      <th>Departure Diversions</th>\n",
       "      <th>Arrival Diversions</th>\n",
       "      <th>airport</th>\n",
       "      <th>year</th>\n",
       "      <th>departures for metric computation</th>\n",
       "      <th>arrivals for metric computation</th>\n",
       "      <th>...</th>\n",
       "      <th>percent on-time airport departures</th>\n",
       "      <th>percent on-time gate arrivals</th>\n",
       "      <th>average_gate_departure_delay</th>\n",
       "      <th>average_taxi_out_time</th>\n",
       "      <th>average taxi out delay</th>\n",
       "      <th>average airport departure delay</th>\n",
       "      <th>average airborne delay</th>\n",
       "      <th>average taxi in delay</th>\n",
       "      <th>average block delay</th>\n",
       "      <th>average gate arrival delay</th>\n",
       "    </tr>\n",
       "  </thead>\n",
       "  <tbody>\n",
       "    <tr>\n",
       "      <th>0</th>\n",
       "      <td>0</td>\n",
       "      <td>2004.0</td>\n",
       "      <td>242.0</td>\n",
       "      <td>235.0</td>\n",
       "      <td>71.0</td>\n",
       "      <td>46.0</td>\n",
       "      <td>ABQ</td>\n",
       "      <td>2004</td>\n",
       "      <td>53971</td>\n",
       "      <td>53818</td>\n",
       "      <td>...</td>\n",
       "      <td>0.7809</td>\n",
       "      <td>0.7921</td>\n",
       "      <td>10.38</td>\n",
       "      <td>9.89</td>\n",
       "      <td>2.43</td>\n",
       "      <td>12.10</td>\n",
       "      <td>2.46</td>\n",
       "      <td>0.83</td>\n",
       "      <td>2.55</td>\n",
       "      <td>10.87</td>\n",
       "    </tr>\n",
       "    <tr>\n",
       "      <th>1</th>\n",
       "      <td>0</td>\n",
       "      <td>2005.0</td>\n",
       "      <td>221.0</td>\n",
       "      <td>190.0</td>\n",
       "      <td>61.0</td>\n",
       "      <td>33.0</td>\n",
       "      <td>ABQ</td>\n",
       "      <td>2005</td>\n",
       "      <td>51829</td>\n",
       "      <td>51877</td>\n",
       "      <td>...</td>\n",
       "      <td>0.7922</td>\n",
       "      <td>0.8001</td>\n",
       "      <td>9.60</td>\n",
       "      <td>9.79</td>\n",
       "      <td>2.29</td>\n",
       "      <td>11.20</td>\n",
       "      <td>2.26</td>\n",
       "      <td>0.89</td>\n",
       "      <td>2.34</td>\n",
       "      <td>10.24</td>\n",
       "    </tr>\n",
       "    <tr>\n",
       "      <th>2</th>\n",
       "      <td>0</td>\n",
       "      <td>2006.0</td>\n",
       "      <td>392.0</td>\n",
       "      <td>329.0</td>\n",
       "      <td>71.0</td>\n",
       "      <td>124.0</td>\n",
       "      <td>ABQ</td>\n",
       "      <td>2006</td>\n",
       "      <td>49682</td>\n",
       "      <td>51199</td>\n",
       "      <td>...</td>\n",
       "      <td>0.7756</td>\n",
       "      <td>0.7746</td>\n",
       "      <td>10.84</td>\n",
       "      <td>9.89</td>\n",
       "      <td>2.16</td>\n",
       "      <td>12.33</td>\n",
       "      <td>2.12</td>\n",
       "      <td>0.84</td>\n",
       "      <td>2.66</td>\n",
       "      <td>11.82</td>\n",
       "    </tr>\n",
       "    <tr>\n",
       "      <th>3</th>\n",
       "      <td>0</td>\n",
       "      <td>2007.0</td>\n",
       "      <td>366.0</td>\n",
       "      <td>304.0</td>\n",
       "      <td>107.0</td>\n",
       "      <td>45.0</td>\n",
       "      <td>ABQ</td>\n",
       "      <td>2007</td>\n",
       "      <td>53255</td>\n",
       "      <td>53611</td>\n",
       "      <td>...</td>\n",
       "      <td>0.7704</td>\n",
       "      <td>0.7647</td>\n",
       "      <td>11.29</td>\n",
       "      <td>10.34</td>\n",
       "      <td>2.40</td>\n",
       "      <td>12.95</td>\n",
       "      <td>2.19</td>\n",
       "      <td>1.29</td>\n",
       "      <td>3.06</td>\n",
       "      <td>12.71</td>\n",
       "    </tr>\n",
       "    <tr>\n",
       "      <th>4</th>\n",
       "      <td>0</td>\n",
       "      <td>2008.0</td>\n",
       "      <td>333.0</td>\n",
       "      <td>300.0</td>\n",
       "      <td>79.0</td>\n",
       "      <td>42.0</td>\n",
       "      <td>ABQ</td>\n",
       "      <td>2008</td>\n",
       "      <td>49589</td>\n",
       "      <td>49512</td>\n",
       "      <td>...</td>\n",
       "      <td>0.7844</td>\n",
       "      <td>0.7875</td>\n",
       "      <td>10.79</td>\n",
       "      <td>10.41</td>\n",
       "      <td>2.41</td>\n",
       "      <td>12.32</td>\n",
       "      <td>1.82</td>\n",
       "      <td>1.03</td>\n",
       "      <td>2.79</td>\n",
       "      <td>11.48</td>\n",
       "    </tr>\n",
       "  </tbody>\n",
       "</table>\n",
       "<p>5 rows × 21 columns</p>\n",
       "</div>"
      ],
      "text/plain": [
       "   Airport    Year  Departure Cancellations  Arrival Cancellations  \\\n",
       "0        0  2004.0                    242.0                  235.0   \n",
       "1        0  2005.0                    221.0                  190.0   \n",
       "2        0  2006.0                    392.0                  329.0   \n",
       "3        0  2007.0                    366.0                  304.0   \n",
       "4        0  2008.0                    333.0                  300.0   \n",
       "\n",
       "   Departure Diversions  Arrival Diversions airport  year  \\\n",
       "0                  71.0                46.0     ABQ  2004   \n",
       "1                  61.0                33.0     ABQ  2005   \n",
       "2                  71.0               124.0     ABQ  2006   \n",
       "3                 107.0                45.0     ABQ  2007   \n",
       "4                  79.0                42.0     ABQ  2008   \n",
       "\n",
       "   departures for metric computation  arrivals for metric computation  \\\n",
       "0                              53971                            53818   \n",
       "1                              51829                            51877   \n",
       "2                              49682                            51199   \n",
       "3                              53255                            53611   \n",
       "4                              49589                            49512   \n",
       "\n",
       "              ...              percent on-time airport departures  \\\n",
       "0             ...                                          0.7809   \n",
       "1             ...                                          0.7922   \n",
       "2             ...                                          0.7756   \n",
       "3             ...                                          0.7704   \n",
       "4             ...                                          0.7844   \n",
       "\n",
       "   percent on-time gate arrivals  average_gate_departure_delay  \\\n",
       "0                         0.7921                         10.38   \n",
       "1                         0.8001                          9.60   \n",
       "2                         0.7746                         10.84   \n",
       "3                         0.7647                         11.29   \n",
       "4                         0.7875                         10.79   \n",
       "\n",
       "   average_taxi_out_time  average taxi out delay  \\\n",
       "0                   9.89                    2.43   \n",
       "1                   9.79                    2.29   \n",
       "2                   9.89                    2.16   \n",
       "3                  10.34                    2.40   \n",
       "4                  10.41                    2.41   \n",
       "\n",
       "   average airport departure delay  average airborne delay  \\\n",
       "0                            12.10                    2.46   \n",
       "1                            11.20                    2.26   \n",
       "2                            12.33                    2.12   \n",
       "3                            12.95                    2.19   \n",
       "4                            12.32                    1.82   \n",
       "\n",
       "   average taxi in delay  average block delay  average gate arrival delay  \n",
       "0                   0.83                 2.55                       10.87  \n",
       "1                   0.89                 2.34                       10.24  \n",
       "2                   0.84                 2.66                       11.82  \n",
       "3                   1.29                 3.06                       12.71  \n",
       "4                   1.03                 2.79                       11.48  \n",
       "\n",
       "[5 rows x 21 columns]"
      ]
     },
     "execution_count": 29,
     "metadata": {},
     "output_type": "execute_result"
    }
   ],
   "source": [
    "new_df.head()"
   ]
  },
  {
   "cell_type": "markdown",
   "metadata": {
    "focus": false,
    "id": "c9b12f39-5410-42d7-aff9-859c0b2ccb70"
   },
   "source": [
    "#### 3.2 Format and Clean the Data"
   ]
  },
  {
   "cell_type": "code",
   "execution_count": 21,
   "metadata": {
    "collapsed": true,
    "focus": false,
    "id": "c2f083d5-edf1-4380-a245-13c77315daa7"
   },
   "outputs": [],
   "source": [
    "#create a new data frame with the desired columns\n",
    "df3 = new_df.drop(['airport', 'year', 'departures for metric computation', 'arrivals for metric computation'], axis = 1)"
   ]
  },
  {
   "cell_type": "code",
   "execution_count": 29,
   "metadata": {
    "collapsed": false
   },
   "outputs": [
    {
     "data": {
      "text/plain": [
       "['Airport',\n",
       " 'Year',\n",
       " 'Departure Cancellations',\n",
       " 'Arrival Cancellations',\n",
       " 'Departure Diversions',\n",
       " 'Arrival Diversions',\n",
       " 'percent on-time gate departures',\n",
       " 'percent on-time airport departures',\n",
       " 'percent on-time gate arrivals',\n",
       " 'average_gate_departure_delay',\n",
       " 'average_taxi_out_time',\n",
       " 'average taxi out delay',\n",
       " 'average airport departure delay',\n",
       " 'average airborne delay',\n",
       " 'average taxi in delay',\n",
       " 'average block delay',\n",
       " 'average gate arrival delay']"
      ]
     },
     "execution_count": 29,
     "metadata": {},
     "output_type": "execute_result"
    }
   ],
   "source": [
    "list(df3.columns)"
   ]
  },
  {
   "cell_type": "code",
   "execution_count": null,
   "metadata": {
    "collapsed": true
   },
   "outputs": [],
   "source": []
  },
  {
   "cell_type": "markdown",
   "metadata": {
    "focus": false,
    "id": "27db8e3b-27d2-4420-bbab-1ddbba3dc3e5"
   },
   "source": [
    "### Part 4: Define the Data"
   ]
  },
  {
   "cell_type": "markdown",
   "metadata": {
    "focus": false,
    "id": "9bcb3ba6-8c35-470c-a821-47d7ba6a32f2"
   },
   "source": [
    "#### 4.1 Confirm that the dataset has a normal distribution. How can you tell? "
   ]
  },
  {
   "cell_type": "markdown",
   "metadata": {},
   "source": [
    "Scipy has a function called normal test that tests for normal distribution in the data i.e. it tests whether a sample differs from normal distribution. "
   ]
  },
  {
   "cell_type": "code",
   "execution_count": 22,
   "metadata": {
    "collapsed": false,
    "focus": false,
    "id": "9c365cbd-7b6d-46bf-b4e4-b0e2e7bd5ff6"
   },
   "outputs": [
    {
     "data": {
      "text/plain": [
       "NormaltestResult(statistic=array([ 561.18915806,  652.90768981,  684.12784677,  679.5944024 ,\n",
       "        340.66598773,  546.4736383 ,  577.53660583,  295.17635646,\n",
       "        458.57576139,  496.02504111,  289.30494498,  432.03200401,\n",
       "        283.67638196,  127.70305447,  225.93378643,  112.80578789,\n",
       "        296.78839796]), pvalue=array([  1.37823310e-122,   1.67069265e-142,   2.77667862e-149,\n",
       "         2.67886330e-148,   1.06003616e-074,   2.16150971e-119,\n",
       "         3.88614942e-126,   8.00329087e-065,   2.63960320e-100,\n",
       "         1.94773953e-108,   1.50740310e-063,   1.53264766e-094,\n",
       "         2.51452717e-062,   1.86051879e-028,   8.69163819e-050,\n",
       "         3.19546744e-025,   3.57452416e-065]))"
      ]
     },
     "execution_count": 22,
     "metadata": {},
     "output_type": "execute_result"
    }
   ],
   "source": [
    "from scipy.stats import pearsonr, normaltest\n",
    "normaltest(df3)"
   ]
  },
  {
   "cell_type": "code",
   "execution_count": 23,
   "metadata": {
    "collapsed": false
   },
   "outputs": [],
   "source": [
    "from sklearn import preprocessing\n",
    "df3_normalized = preprocessing.normalize(df3, norm='l2')"
   ]
  },
  {
   "cell_type": "markdown",
   "metadata": {
    "focus": false,
    "id": "17457da4-1175-4348-b10a-99f41f7a24dd"
   },
   "source": [
    "#### 4.2 Find correlations in the data"
   ]
  },
  {
   "cell_type": "markdown",
   "metadata": {},
   "source": [
    "\"personr\" calculates a Pearson correlation coefficient and the p-value for testing non-correlation.  \n",
    "\n",
    "It measures the linear relationship between two datasets. Pearson's correlation requires that dataset be normally distributed. The coefficient varies between -1 and +1 with 0 implying no correlation. Correlations of -1 or +1 imply an exact linear relationship. Positive correlations imply that as x increases, so does y. Negative correlations imply that as x increases, y decreases.\"  \n"
   ]
  },
  {
   "cell_type": "code",
   "execution_count": 32,
   "metadata": {
    "collapsed": false,
    "focus": false,
    "id": "78003f34-c0d8-40f6-bafe-e0892df3f1ca"
   },
   "outputs": [
    {
     "data": {
      "text/plain": [
       "(0.55627944020189213, 1.3823148509936676e-66)"
      ]
     },
     "execution_count": 32,
     "metadata": {},
     "output_type": "execute_result"
    }
   ],
   "source": [
    "pearsonr(df3['average_taxi_out_time'], df3['average airborne delay']) "
   ]
  },
  {
   "cell_type": "code",
   "execution_count": 33,
   "metadata": {
    "collapsed": false
   },
   "outputs": [
    {
     "data": {
      "text/plain": [
       "(-0.20206873684615906, 7.2919205385875003e-09)"
      ]
     },
     "execution_count": 33,
     "metadata": {},
     "output_type": "execute_result"
    }
   ],
   "source": [
    "pearsonr(df3['Year'], df3['average airborne delay'])"
   ]
  },
  {
   "cell_type": "code",
   "execution_count": 34,
   "metadata": {
    "collapsed": false
   },
   "outputs": [
    {
     "data": {
      "text/plain": [
       "(0.39677991926022937, 9.5054218292719913e-32)"
      ]
     },
     "execution_count": 34,
     "metadata": {},
     "output_type": "execute_result"
    }
   ],
   "source": [
    "pearsonr(df3['average_gate_departure_delay'], df3['average airborne delay'])"
   ]
  },
  {
   "cell_type": "markdown",
   "metadata": {},
   "source": [
    "The personr tests show that we do have some linear relationship between 'average taxi time out' and 'average airborne delay'. This is kind of obvious that if the 'average taxi time out' increases i.e. if there is a delay in taxi time out, an airplane is likely to face longer airborne delay because it might not have the landing clearance at the destination airport.\n",
    "\n",
    "In the case of 'year' to 'average airborne delay', there is a negative correaltion. As the 'year' increases the 'average airborne delay' decreases. This could imply that with the increase in modernization, the airport delays decrease.\n"
   ]
  },
  {
   "cell_type": "markdown",
   "metadata": {
    "focus": false,
    "id": "886b49bf-d7fa-41b0-b94c-740345580d88"
   },
   "source": [
    "#### 4.3 What is the value of understanding correlations before PCA? "
   ]
  },
  {
   "cell_type": "markdown",
   "metadata": {
    "focus": false,
    "id": "192df272-c2b1-46da-bcfa-c2b02d7445a8"
   },
   "source": [
    "Correlated variables will help us better understand patterns in our data as they are a common factor in PCA analysis."
   ]
  },
  {
   "cell_type": "markdown",
   "metadata": {
    "focus": false,
    "id": "904cda18-4a60-4b05-8502-139beb44c1f0"
   },
   "source": [
    "#### 4.4 Validate your findings using statistical analysis"
   ]
  },
  {
   "cell_type": "code",
   "execution_count": 12,
   "metadata": {
    "collapsed": false
   },
   "outputs": [
    {
     "data": {
      "image/png": "[encoded data removed]",
      "text/plain": [
       "<matplotlib.figure.Figure at 0x117331210>"
      ]
     },
     "metadata": {},
     "output_type": "display_data"
    },
    {
     "data": {
      "image/png": "[encoded data removed]",
      "text/plain": [
       "<matplotlib.figure.Figure at 0x11ab88a10>"
      ]
     },
     "metadata": {},
     "output_type": "display_data"
    }
   ],
   "source": [
    "%matplotlib inline\n",
    "from matplotlib import pyplot as plt\n",
    "names = ['average_taxi_out_time', 'average_gate_departure_delay']\n",
    "for name in names:\n",
    "    df.plot.scatter(x=name, y='average airborne delay')"
   ]
  },
  {
   "cell_type": "markdown",
   "metadata": {},
   "source": [
    "The above plot show that the 'average airborne delay' has a positive correlation with 'average taxi out time' and 'average gate departure delay'."
   ]
  },
  {
   "cell_type": "markdown",
   "metadata": {
    "focus": false,
    "id": "87689b59-fda0-4a07-a9d3-95936deaf8ee"
   },
   "source": [
    "#### 4.5 How can you improve your overall analysis? "
   ]
  },
  {
   "cell_type": "markdown",
   "metadata": {
    "focus": false,
    "id": "000bc40d-e033-4621-82a4-e09717947fb3"
   },
   "source": [
    "We may be able to improve our analysis by reducing the number of features in our dataset. We could also possibly find better correlations in other datasets. "
   ]
  },
  {
   "cell_type": "markdown",
   "metadata": {
    "focus": false,
    "id": "cea5d879-f180-448a-bd50-b30b2b7d6d28"
   },
   "source": [
    "### Part 5: Perform a PCA"
   ]
  },
  {
   "cell_type": "markdown",
   "metadata": {
    "focus": false,
    "id": "27c1212c-3490-45ff-a6da-501075f3eee5"
   },
   "source": [
    "#### 5.1 Conduct the PCA"
   ]
  },
  {
   "cell_type": "code",
   "execution_count": 27,
   "metadata": {
    "collapsed": false,
    "focus": false,
    "id": "a8e7ac46-ba4f-47a8-99f8-b67a7f7e108e"
   },
   "outputs": [
    {
     "name": "stdout",
     "output_type": "stream",
     "text": [
      "   Airport    Year  average_taxi_out_time  average_gate_departure_delay  \\\n",
      "0        0  2004.0                   9.89                         10.38   \n",
      "1        0  2005.0                   9.79                          9.60   \n",
      "2        0  2006.0                   9.89                         10.84   \n",
      "3        0  2007.0                  10.34                         11.29   \n",
      "4        0  2008.0                  10.41                         10.79   \n",
      "\n",
      "   average taxi out delay  average airborne delay  \n",
      "0                    2.43                    2.46  \n",
      "1                    2.29                    2.26  \n",
      "2                    2.16                    2.12  \n",
      "3                    2.40                    2.19  \n",
      "4                    2.41                    1.82  \n"
     ]
    }
   ],
   "source": [
    "  # Create a clean data frame \n",
    "df4 = df3[['Airport','Year','average_taxi_out_time','average_gate_departure_delay', 'average taxi out delay', 'average airborne delay']]\n",
    "print df4.head()"
   ]
  },
  {
   "cell_type": "code",
   "execution_count": 28,
   "metadata": {
    "collapsed": false,
    "focus": false,
    "id": "98fd6a42-89e0-4621-a70d-1e2c8c4bb975"
   },
   "outputs": [],
   "source": [
    "df4_compare = df4[['average_taxi_out_time','average_gate_departure_delay', \\\n",
    "                   'average taxi out delay', 'average airborne delay']]"
   ]
  },
  {
   "cell_type": "code",
   "execution_count": 29,
   "metadata": {
    "collapsed": true
   },
   "outputs": [],
   "source": [
    "#standardize the columns\n",
    "\n",
    "df4_compare = (df4_compare - df4_compare.mean()) / df4_compare.std() "
   ]
  },
  {
   "cell_type": "markdown",
   "metadata": {},
   "source": [
    "This allows us to see some basic correlations across the columns associated with delays - date is not included here.\n",
    "We see a direct correlation between average taxi out time and average departure delay, which is not suprising.\n",
    "However, average taxi out delay and average airborne delay do not seem to be correlated and that has some interesting implication.\n",
    "We will move on to a more robust PCA analysis from here to see if we can prove out these correlations in further detail."
   ]
  },
  {
   "cell_type": "code",
   "execution_count": 45,
   "metadata": {
    "collapsed": false
   },
   "outputs": [
    {
     "data": {
      "text/plain": [
       "<seaborn.axisgrid.PairGrid at 0x11ba1df10>"
      ]
     },
     "execution_count": 45,
     "metadata": {},
     "output_type": "execute_result"
    },
    {
     "data": {
      "image/png": "[encoded data removed]",
      "text/plain": [
       "<matplotlib.figure.Figure at 0x11b4a8390>"
      ]
     },
     "metadata": {},
     "output_type": "display_data"
    }
   ],
   "source": [
    "#from the plot we can find correlations between delays\n",
    "\n",
    "%matplotlib inline\n",
    "import matplotlib as plt\n",
    "import seaborn as sns\n",
    "sns.set_style('whitegrid')\n",
    "\n",
    "sns.pairplot(df4_compare, kind='reg')"
   ]
  },
  {
   "cell_type": "code",
   "execution_count": 30,
   "metadata": {
    "collapsed": false
   },
   "outputs": [],
   "source": [
    "# x and y variables for PCA analysis\n",
    "x = df4.ix[:,1:6].values\n",
    "y = df4.ix[:,0].values"
   ]
  },
  {
   "cell_type": "code",
   "execution_count": 31,
   "metadata": {
    "collapsed": true
   },
   "outputs": [],
   "source": [
    "#standardize the x variable using StandardScalar\n",
    "\n",
    "xStand = preprocessing.StandardScaler().fit_transform(x)"
   ]
  },
  {
   "cell_type": "code",
   "execution_count": 32,
   "metadata": {
    "collapsed": true
   },
   "outputs": [],
   "source": [
    "#create covariance matrix\n",
    "\n",
    "covMat = np.cov(xStand.T)\n",
    "eigenValues, eigenVectors = np.linalg.eig(covMat)"
   ]
  },
  {
   "cell_type": "code",
   "execution_count": 33,
   "metadata": {
    "collapsed": false
   },
   "outputs": [
    {
     "name": "stdout",
     "output_type": "stream",
     "text": [
      "[ 2.48777041  1.09032613  0.96575037  0.38335868  0.07901331]\n"
     ]
    }
   ],
   "source": [
    "print(eigenValues)"
   ]
  },
  {
   "cell_type": "code",
   "execution_count": 34,
   "metadata": {
    "collapsed": false
   },
   "outputs": [
    {
     "name": "stdout",
     "output_type": "stream",
     "text": [
      "[[ 0.11615431 -0.66841294  0.6858432  -0.26141072 -0.03187243]\n",
      " [-0.57878477  0.08907169  0.31436216  0.25417706  0.70259866]\n",
      " [-0.23731062 -0.71359507 -0.4902383   0.43837477 -0.04426864]\n",
      " [-0.57641886  0.1602893   0.30342756  0.2165829  -0.70927583]\n",
      " [-0.51277805 -0.10188126 -0.31367763 -0.79245054  0.01753168]]\n"
     ]
    }
   ],
   "source": [
    "print(eigenVectors)"
   ]
  },
  {
   "cell_type": "code",
   "execution_count": 43,
   "metadata": {
    "collapsed": false
   },
   "outputs": [
    {
     "name": "stdout",
     "output_type": "stream",
     "text": [
      "(2.4877704127852915, array([ 0.11615431, -0.57878477, -0.23731062, -0.57641886, -0.51277805]))\n",
      "(1.0903261331704173, array([-0.66841294,  0.08907169, -0.71359507,  0.1602893 , -0.10188126]))\n",
      "(0.96575037105915895, array([ 0.6858432 ,  0.31436216, -0.4902383 ,  0.30342756, -0.31367763]))\n",
      "(0.38335867917053001, array([-0.26141072,  0.25417706,  0.43837477,  0.2165829 , -0.79245054]))\n",
      "(0.07901330928723696, array([-0.03187243,  0.70259866, -0.04426864, -0.70927583,  0.01753168]))\n"
     ]
    }
   ],
   "source": [
    "eigenPairs = [(np.abs(eigenValues[i]), eigenVectors[:,i]) for i in range(len(eigenValues))]\n",
    "eigenPairs.sort()\n",
    "eigenPairs.reverse()\n",
    "for i in eigenPairs:\n",
    "    print(i[0], i[1])"
   ]
  },
  {
   "cell_type": "code",
   "execution_count": 41,
   "metadata": {
    "collapsed": false
   },
   "outputs": [],
   "source": [
    "from sklearn.decomposition import PCA\n",
    "from sklearn import metrics\n",
    "\n",
    "PCA_A = PCA(n_components=5)\n",
    "Y = PCA_A.fit_transform(xStand)"
   ]
  },
  {
   "cell_type": "code",
   "execution_count": 42,
   "metadata": {
    "collapsed": false
   },
   "outputs": [
    {
     "name": "stdout",
     "output_type": "stream",
     "text": [
      "[[ 0.11615431 -0.57878477 -0.23731062 -0.57641886 -0.51277805]\n",
      " [-0.66841294  0.08907169 -0.71359507  0.1602893  -0.10188126]\n",
      " [ 0.6858432   0.31436216 -0.4902383   0.30342756 -0.31367763]\n",
      " [ 0.26141072 -0.25417706 -0.43837477 -0.2165829   0.79245054]\n",
      " [-0.03187243  0.70259866 -0.04426864 -0.70927583  0.01753168]]\n"
     ]
    }
   ],
   "source": [
    "components = PCA_A.components_\n",
    "print components"
   ]
  },
  {
   "cell_type": "code",
   "execution_count": 43,
   "metadata": {
    "collapsed": false
   },
   "outputs": [
    {
     "name": "stdout",
     "output_type": "stream",
     "text": [
      "[[ 1.06269997  1.43768835 -1.07968474 -0.04316779 -0.29598831]\n",
      " [ 1.27926829  1.36785081 -0.74211482  0.01068518 -0.27741248]\n",
      " [ 1.31989542  0.94437346 -0.64567579 -0.12734731 -0.24621778]\n",
      " ..., \n",
      " [-1.22513107 -5.94660125 -3.91610938 -0.70273446  0.25376156]\n",
      " [-1.06939673 -5.69722872 -3.38359531 -0.31737467  0.2701497 ]\n",
      " [-0.90483215 -5.41147787 -2.85597486  0.17097837  0.29523592]]\n"
     ]
    }
   ],
   "source": [
    "print Y"
   ]
  },
  {
   "cell_type": "code",
   "execution_count": 44,
   "metadata": {
    "collapsed": false
   },
   "outputs": [
    {
     "name": "stdout",
     "output_type": "stream",
     "text": [
      "[ 0.496936    0.21779434  0.19291014  0.07657649  0.01578303]\n"
     ]
    }
   ],
   "source": [
    "print PCA_A.explained_variance_ratio_"
   ]
  },
  {
   "cell_type": "code",
   "execution_count": 45,
   "metadata": {
    "collapsed": false
   },
   "outputs": [
    {
     "name": "stdout",
     "output_type": "stream",
     "text": [
      "[ 2.48468001  1.08897169  0.96455068  0.38288246  0.07891516]\n"
     ]
    }
   ],
   "source": [
    "print PCA_A.explained_variance_"
   ]
  },
  {
   "cell_type": "code",
   "execution_count": 46,
   "metadata": {
    "collapsed": false
   },
   "outputs": [
    {
     "name": "stdout",
     "output_type": "stream",
     "text": [
      "[ 0.496936    0.71473034  0.90764048  0.98421697  1.        ]\n"
     ]
    }
   ],
   "source": [
    "print PCA_A.explained_variance_ratio_.cumsum()"
   ]
  },
  {
   "cell_type": "code",
   "execution_count": 46,
   "metadata": {
    "collapsed": false
   },
   "outputs": [],
   "source": [
    "Ydf = pd.DataFrame(Y, columns=[\"PCA1\", \"PCA2\", \"PCA3\", \"PCA4\", \"PCA5\"])"
   ]
  },
  {
   "cell_type": "code",
   "execution_count": 47,
   "metadata": {
    "collapsed": false
   },
   "outputs": [
    {
     "data": {
      "text/html": [
       "<div>\n",
       "<table border=\"1\" class=\"dataframe\">\n",
       "  <thead>\n",
       "    <tr style=\"text-align: right;\">\n",
       "      <th></th>\n",
       "      <th>PCA1</th>\n",
       "      <th>PCA2</th>\n",
       "      <th>PCA3</th>\n",
       "      <th>PCA4</th>\n",
       "      <th>PCA5</th>\n",
       "    </tr>\n",
       "  </thead>\n",
       "  <tbody>\n",
       "    <tr>\n",
       "      <th>0</th>\n",
       "      <td>1.062700</td>\n",
       "      <td>1.437688</td>\n",
       "      <td>-1.079685</td>\n",
       "      <td>-0.043168</td>\n",
       "      <td>-0.295988</td>\n",
       "    </tr>\n",
       "    <tr>\n",
       "      <th>1</th>\n",
       "      <td>1.279268</td>\n",
       "      <td>1.367851</td>\n",
       "      <td>-0.742115</td>\n",
       "      <td>0.010685</td>\n",
       "      <td>-0.277412</td>\n",
       "    </tr>\n",
       "    <tr>\n",
       "      <th>2</th>\n",
       "      <td>1.319895</td>\n",
       "      <td>0.944373</td>\n",
       "      <td>-0.645676</td>\n",
       "      <td>-0.127347</td>\n",
       "      <td>-0.246218</td>\n",
       "    </tr>\n",
       "    <tr>\n",
       "      <th>3</th>\n",
       "      <td>1.174858</td>\n",
       "      <td>0.674328</td>\n",
       "      <td>-0.433545</td>\n",
       "      <td>-0.098211</td>\n",
       "      <td>-0.248768</td>\n",
       "    </tr>\n",
       "    <tr>\n",
       "      <th>4</th>\n",
       "      <td>1.386069</td>\n",
       "      <td>0.583874</td>\n",
       "      <td>-0.052254</td>\n",
       "      <td>-0.211692</td>\n",
       "      <td>-0.248975</td>\n",
       "    </tr>\n",
       "  </tbody>\n",
       "</table>\n",
       "</div>"
      ],
      "text/plain": [
       "       PCA1      PCA2      PCA3      PCA4      PCA5\n",
       "0  1.062700  1.437688 -1.079685 -0.043168 -0.295988\n",
       "1  1.279268  1.367851 -0.742115  0.010685 -0.277412\n",
       "2  1.319895  0.944373 -0.645676 -0.127347 -0.246218\n",
       "3  1.174858  0.674328 -0.433545 -0.098211 -0.248768\n",
       "4  1.386069  0.583874 -0.052254 -0.211692 -0.248975"
      ]
     },
     "execution_count": 47,
     "metadata": {},
     "output_type": "execute_result"
    }
   ],
   "source": [
    "Ydf.head()"
   ]
  },
  {
   "cell_type": "code",
   "execution_count": 56,
   "metadata": {
    "collapsed": false
   },
   "outputs": [
    {
     "name": "stdout",
     "output_type": "stream",
     "text": [
      "Index([u'Airport', u'Year', u'average_taxi_out_time',\n",
      "       u'average_gate_departure_delay', u'average taxi out delay',\n",
      "       u'average airborne delay'],\n",
      "      dtype='object') \n",
      "\n",
      "-------------------------------------\n",
      "\n",
      "PCA1 weighting vector: [ 0.11615431 -0.57878477 -0.23731062 -0.57641886 -0.51277805]\n",
      "-------------------------------------\n",
      "\n",
      "PCA2 weighting vector: [-0.66841294  0.08907169 -0.71359507  0.1602893  -0.10188126]\n",
      "-------------------------------------\n",
      "\n",
      "PCA3 weighting vector: [ 0.6858432   0.31436216 -0.4902383   0.30342756 -0.31367763]\n",
      "-------------------------------------\n",
      "\n",
      "PCA4 weighting vector: [ 0.26141072 -0.25417706 -0.43837477 -0.2165829   0.79245054]\n",
      "-------------------------------------\n",
      "\n",
      "PCA5 weighting vector: [-0.03187243  0.70259866 -0.04426864 -0.70927583  0.01753168]\n",
      "-------------------------------------\n",
      "\n"
     ]
    }
   ],
   "source": [
    "print df4.columns, '\\n'\n",
    "print '-------------------------------------\\n'\n",
    "\n",
    "for i, pc in enumerate(['PCA1','PCA2','PCA3', 'PCA4', 'PCA5']):\n",
    "    print pc, 'weighting vector:', components[i]\n",
    "    print '-------------------------------------\\n'"
   ]
  },
  {
   "cell_type": "code",
   "execution_count": 53,
   "metadata": {
    "collapsed": false
   },
   "outputs": [],
   "source": [
    "#create a new dataframe with the year and airport columns\n",
    "df5 = df4[['Airport', 'Year']]"
   ]
  },
  {
   "cell_type": "code",
   "execution_count": 54,
   "metadata": {
    "collapsed": true
   },
   "outputs": [],
   "source": [
    "#join the above dataframe to the PCA results to forms a new dataframe\n",
    "airport_pca = df5.join(Ydf, on=None, how='left')"
   ]
  },
  {
   "cell_type": "code",
   "execution_count": 58,
   "metadata": {
    "collapsed": false
   },
   "outputs": [
    {
     "data": {
      "text/html": [
       "<div>\n",
       "<table border=\"1\" class=\"dataframe\">\n",
       "  <thead>\n",
       "    <tr style=\"text-align: right;\">\n",
       "      <th></th>\n",
       "      <th>Airport</th>\n",
       "      <th>Year</th>\n",
       "      <th>PCA1</th>\n",
       "      <th>PCA2</th>\n",
       "      <th>PCA3</th>\n",
       "      <th>PCA4</th>\n",
       "      <th>PCA5</th>\n",
       "    </tr>\n",
       "  </thead>\n",
       "  <tbody>\n",
       "    <tr>\n",
       "      <th>0</th>\n",
       "      <td>0</td>\n",
       "      <td>2004.0</td>\n",
       "      <td>1.062700</td>\n",
       "      <td>1.437688</td>\n",
       "      <td>-1.079685</td>\n",
       "      <td>-0.043168</td>\n",
       "      <td>-0.295988</td>\n",
       "    </tr>\n",
       "    <tr>\n",
       "      <th>1</th>\n",
       "      <td>0</td>\n",
       "      <td>2005.0</td>\n",
       "      <td>1.279268</td>\n",
       "      <td>1.367851</td>\n",
       "      <td>-0.742115</td>\n",
       "      <td>0.010685</td>\n",
       "      <td>-0.277412</td>\n",
       "    </tr>\n",
       "    <tr>\n",
       "      <th>2</th>\n",
       "      <td>0</td>\n",
       "      <td>2006.0</td>\n",
       "      <td>1.319895</td>\n",
       "      <td>0.944373</td>\n",
       "      <td>-0.645676</td>\n",
       "      <td>-0.127347</td>\n",
       "      <td>-0.246218</td>\n",
       "    </tr>\n",
       "  </tbody>\n",
       "</table>\n",
       "</div>"
      ],
      "text/plain": [
       "   Airport    Year      PCA1      PCA2      PCA3      PCA4      PCA5\n",
       "0        0  2004.0  1.062700  1.437688 -1.079685 -0.043168 -0.295988\n",
       "1        0  2005.0  1.279268  1.367851 -0.742115  0.010685 -0.277412\n",
       "2        0  2006.0  1.319895  0.944373 -0.645676 -0.127347 -0.246218"
      ]
     },
     "execution_count": 58,
     "metadata": {},
     "output_type": "execute_result"
    }
   ],
   "source": [
    "airport_pca.head(3)"
   ]
  },
  {
   "cell_type": "code",
   "execution_count": 57,
   "metadata": {
    "collapsed": false
   },
   "outputs": [
    {
     "data": {
      "text/plain": [
       "<matplotlib.axes._subplots.AxesSubplot at 0x11bb3bd10>"
      ]
     },
     "execution_count": 57,
     "metadata": {},
     "output_type": "execute_result"
    },
    {
     "data": {
      "image/png": "[encoded data removed]",
      "text/plain": [
       "<matplotlib.figure.Figure at 0x11c7e3950>"
      ]
     },
     "metadata": {},
     "output_type": "display_data"
    }
   ],
   "source": [
    "graph = airport_pca.plot(kind='scatter', x='PCA2', y='PCA1', figsize=(16,8))\n",
    "graph"
   ]
  },
  {
   "cell_type": "code",
   "execution_count": 59,
   "metadata": {
    "collapsed": false
   },
   "outputs": [
    {
     "data": {
      "text/plain": [
       "<matplotlib.axes._subplots.AxesSubplot at 0x11c953dd0>"
      ]
     },
     "execution_count": 59,
     "metadata": {},
     "output_type": "execute_result"
    },
    {
     "data": {
      "image/png": "[encoded data removed]",
      "text/plain": [
       "<matplotlib.figure.Figure at 0x11c9bf350>"
      ]
     },
     "metadata": {},
     "output_type": "display_data"
    }
   ],
   "source": [
    "graph = airport_pca.plot(kind='scatter', x='Airport', y='PCA1', figsize=(16,8))\n",
    "graph"
   ]
  },
  {
   "cell_type": "code",
   "execution_count": 60,
   "metadata": {
    "collapsed": false
   },
   "outputs": [
    {
     "data": {
      "text/plain": [
       "<matplotlib.axes._subplots.AxesSubplot at 0x11cddad90>"
      ]
     },
     "execution_count": 60,
     "metadata": {},
     "output_type": "execute_result"
    },
    {
     "data": {
      "image/png": "[encoded data removed]",
      "text/plain": [
       "<matplotlib.figure.Figure at 0x11cdf5650>"
      ]
     },
     "metadata": {},
     "output_type": "display_data"
    }
   ],
   "source": [
    "graph = airport_pca.plot(kind='scatter', x='Year', y='PCA1', figsize=(16,8))\n",
    "graph"
   ]
  },
  {
   "cell_type": "markdown",
   "metadata": {},
   "source": [
    "### Part 6: Additional Analysis\n",
    "Include any other models you'd like to run here. These can include regressions, classifications, or clusters. "
   ]
  },
  {
   "cell_type": "markdown",
   "metadata": {},
   "source": [
    "## Perform K-Means clustering"
   ]
  },
  {
   "cell_type": "code",
   "execution_count": 105,
   "metadata": {
    "collapsed": true
   },
   "outputs": [],
   "source": [
    "\n",
    "X = df4.ix[:,1:6].values\n",
    "y = df4.ix[:,0].values"
   ]
  },
  {
   "cell_type": "code",
   "execution_count": 106,
   "metadata": {
    "collapsed": false
   },
   "outputs": [
    {
     "data": {
      "text/plain": [
       "KMeans(copy_x=True, init='k-means++', max_iter=300, n_clusters=3, n_init=10,\n",
       "    n_jobs=1, precompute_distances='auto', random_state=None, tol=0.0001,\n",
       "    verbose=0)"
      ]
     },
     "execution_count": 106,
     "metadata": {},
     "output_type": "execute_result"
    }
   ],
   "source": [
    "from sklearn import cluster, metrics\n",
    "k = 3\n",
    "kmeans = cluster.KMeans(n_clusters=k)\n",
    "kmeans.fit(X)"
   ]
  },
  {
   "cell_type": "code",
   "execution_count": 107,
   "metadata": {
    "collapsed": true
   },
   "outputs": [],
   "source": [
    "#compute labels and centroids\n",
    "\n",
    "clusters = kmeans.labels_\n",
    "centroids = kmeans.cluster_centers_"
   ]
  },
  {
   "cell_type": "code",
   "execution_count": 108,
   "metadata": {
    "collapsed": true
   },
   "outputs": [],
   "source": [
    "from scipy import stats\n",
    "labels = np.zeros_like(clusters)\n",
    "for i in range(k):\n",
    "    mask = (clusters == i)\n",
    "    labels[mask] = stats.mode(y[mask])[0]"
   ]
  },
  {
   "cell_type": "code",
   "execution_count": 109,
   "metadata": {
    "collapsed": false
   },
   "outputs": [
    {
     "name": "stdout",
     "output_type": "stream",
     "text": [
      "[ 9  9  9  9  9  9  9  9  9 22 22 22 22  9 22  9 22 22 22  9  9  9 20 20 20\n",
      " 20 20 20 20 20 20 20 22  9  9  9  9  9  9  9  9  9 22 22  9  9  9  9  9  9\n",
      "  9  9  9 22 22  9  9  9  9  9  9  9  9  9 22 22  9  9  9  9  9  9  9  9  9\n",
      " 22 22 20 20 20 20 20 20 20 20  9 20 22  9  9  9 22 22  9 22 22 22 22 22  9\n",
      "  9  9  9  9  9  9  9  9  9  9  9  9  9  9  9  9  9 22 22 22 22  9  9  9  9\n",
      "  9  9  9  9  9 22 22  9  9 20 20 20 20  9 20  9  9 22  9  9  9  9  9  9  9\n",
      "  9  9 22 22  9  9  9 22  9  9 22 22  9 22 22  9  9  9  9  9  9  9  9  9 22\n",
      " 22  9  9  9  9  9  9  9  9  9 22 22  9  9  9  9  9  9  9  9 22 22 22 20  9\n",
      "  9 22  9 22  9  9  9 22 22  9 20 20 20 20 20 20  9  9 20 22 20 20 20 20 20\n",
      " 20 20 20 20 20 20  9 20  9 22 22  9 22 22 22 22 22 22 22 22 22 22 22 22 22\n",
      " 22 22 22  9  9  9  9  9  9  9  9  9  9  9  9  9  9 22 22  9 22 22 22 22 22\n",
      " 22 22 22 22 22 22 22 22 22 22 22 20 20 20 20 20 22 22 22 22 22 22 20 20 20\n",
      " 20 20  9  9  9 22 22 22  9  9  9  9  9  9  9  9  9 22 22  9  9  9  9  9  9\n",
      "  9  9 22 22 22  9  9  9  9  9  9  9  9  9 22 22 20 20 20 20 20 20 20 20 20\n",
      " 20 20  9  9  9 20  9  9  9  9  9 22 22  9  9  9  9  9  9  9  9  9  9 22 20\n",
      " 20 20 20 20 20 20 20 20 20 20  9  9  9  9  9  9  9  9  9  9  9  9  9  9  9\n",
      "  9  9  9  9  9 22 22  9  9  9  9  9  9  9  9  9 22 22  9  9 22 22 22  9 22\n",
      " 22 22 22 22  9  9  9 20 20  9  9 22 22 22 22  9  9 22 22 22 22 22 22 22 22\n",
      " 22  9 22 22 22 22 22 22 22 22 22 22  9  9  9 22 22  9  9 22  9 22 22 20 20\n",
      "  9 20  9  9  9  9  9  9 22  9  9  9  9  9  9  9  9  9  9 22  9  9  9  9  9\n",
      "  9  9  9  9  9 22  9  9  9  9  9  9  9  9  9  9  9  9  9  9 22 22  9  9  9\n",
      "  9 22 22  9  9  9  9 22  9 22 22 22 22 22 20 20 20 20 20  9 22 20  9 22 20\n",
      "  9  9  9  9  9  9  9  9  9  9  9  9 22 22 22 22 22 22  9  9 22 22  9  9  9\n",
      "  9  9  9  9  9  9  9  9 20 20 20 20 20 20 20 20 20 20 20  9  9  9  9  9  9\n",
      "  9  9  9  9  9  9  9  9 22 22 22 22  9  9  9  9  9  9  9  9  9 22 22  9  9\n",
      "  9  9 22 22  9  9 22 22 22  9  9  9 22 22 22  9  9  9  9  9 22  9  9 22 22\n",
      " 22  9  9  9  9  9  9  9  9  9 22 22  9  9  9  9  9  9  9  9  9  9  9  9  9\n",
      "  9  9  9  9  9  9  9 22 22  9  9  9  9  9  9 22 22 22 22 22  9  9  9  9  9\n",
      " 22  9  9  9 22  9  9  9  9  9  9  9  9  9 22 22 22  9  9  9 20 22 20  9  9\n",
      "  9  9  9  9  9  9  9  9  9  9  9  9 22 22  9  9  9  9  9  9  9  9  9 20  9\n",
      "  9  9  9  9  9  9  9  9  9  9  9  9  9  9  9  9  9  9  9  9  9  9  9  9  9\n",
      "  9  9  9 22 22  9  9 22  9  9  9 22 22 22 22 22 22 22 22  9  9 22 22 22 22\n",
      " 22 22 22 22 22]\n",
      "[[ 2011.1875        12.91026786    16.836875       2.81035714\n",
      "      2.83397321]\n",
      " [ 2008.15481172    12.63617155    11.27422594     2.94460251\n",
      "      2.61979079]\n",
      " [ 2008.05825243    21.24116505    15.0084466      8.39718447\n",
      "      4.57932039]]\n"
     ]
    }
   ],
   "source": [
    "print(labels)\n",
    "print(centroids)"
   ]
  },
  {
   "cell_type": "code",
   "execution_count": 110,
   "metadata": {
    "collapsed": false
   },
   "outputs": [
    {
     "data": {
      "text/plain": [
       "0.040993788819875775"
      ]
     },
     "execution_count": 110,
     "metadata": {},
     "output_type": "execute_result"
    }
   ],
   "source": [
    "metrics.accuracy_score(y, labels)"
   ]
  },
  {
   "cell_type": "code",
   "execution_count": 111,
   "metadata": {
    "collapsed": false
   },
   "outputs": [],
   "source": [
    "#print(metrics.classification_report(y, labels))"
   ]
  },
  {
   "cell_type": "code",
   "execution_count": 112,
   "metadata": {
    "collapsed": false
   },
   "outputs": [],
   "source": [
    "#print(metrics.confusion_matrix(y, labels))"
   ]
  },
  {
   "cell_type": "markdown",
   "metadata": {},
   "source": [
    "## Extra trees classification"
   ]
  },
  {
   "cell_type": "code",
   "execution_count": 113,
   "metadata": {
    "collapsed": false
   },
   "outputs": [
    {
     "data": {
      "text/plain": [
       "ExtraTreesClassifier(bootstrap=False, class_weight=None, criterion='gini',\n",
       "           max_depth=None, max_features='auto', max_leaf_nodes=None,\n",
       "           min_samples_leaf=1, min_samples_split=2,\n",
       "           min_weight_fraction_leaf=0.0, n_estimators=10, n_jobs=1,\n",
       "           oob_score=False, random_state=None, verbose=0, warm_start=False)"
      ]
     },
     "execution_count": 113,
     "metadata": {},
     "output_type": "execute_result"
    }
   ],
   "source": [
    "\n",
    "from sklearn.ensemble import ExtraTreesClassifier\n",
    "from sklearn.neighbors import KNeighborsClassifier\n",
    "\n",
    "trees = ExtraTreesClassifier()\n",
    "trees.fit(X, labels)"
   ]
  },
  {
   "cell_type": "code",
   "execution_count": 114,
   "metadata": {
    "collapsed": false
   },
   "outputs": [
    {
     "name": "stdout",
     "output_type": "stream",
     "text": [
      "[ 0.18583729  0.15543097  0.39503494  0.19157698  0.07211982]\n"
     ]
    }
   ],
   "source": [
    "print(trees.feature_importances_)"
   ]
  },
  {
   "cell_type": "code",
   "execution_count": 115,
   "metadata": {
    "collapsed": false
   },
   "outputs": [
    {
     "data": {
      "text/plain": [
       "KNeighborsClassifier(algorithm='auto', leaf_size=30, metric='minkowski',\n",
       "           metric_params=None, n_jobs=1, n_neighbors=5, p=2,\n",
       "           weights='uniform')"
      ]
     },
     "execution_count": 115,
     "metadata": {},
     "output_type": "execute_result"
    }
   ],
   "source": [
    "## KNN Classifier\n",
    "\n",
    "knn = KNeighborsClassifier()\n",
    "knn.fit(X, labels)"
   ]
  },
  {
   "cell_type": "code",
   "execution_count": 116,
   "metadata": {
    "collapsed": true
   },
   "outputs": [],
   "source": [
    "exp = labels\n",
    "predicted = knn.predict(x)"
   ]
  },
  {
   "cell_type": "code",
   "execution_count": 117,
   "metadata": {
    "collapsed": false
   },
   "outputs": [
    {
     "name": "stdout",
     "output_type": "stream",
     "text": [
      "             precision    recall  f1-score   support\n",
      "\n",
      "          9       0.98      0.99      0.98       478\n",
      "         20       0.98      0.93      0.96       103\n",
      "         22       0.98      0.97      0.98       224\n",
      "\n",
      "avg / total       0.98      0.98      0.98       805\n",
      "\n",
      "[[474   1   3]\n",
      " [  6  96   1]\n",
      " [  5   1 218]]\n"
     ]
    }
   ],
   "source": [
    "print(metrics.classification_report(exp, predicted))\n",
    "print(metrics.confusion_matrix(exp, predicted))"
   ]
  },
  {
   "cell_type": "code",
   "execution_count": 118,
   "metadata": {
    "collapsed": false
   },
   "outputs": [
    {
     "data": {
      "image/png": "[encoded data removed]",
      "text/plain": [
       "<matplotlib.figure.Figure at 0x1202cd110>"
      ]
     },
     "metadata": {},
     "output_type": "display_data"
    }
   ],
   "source": [
    "fig, ax = plt.subplots(figsize=(10,6))\n",
    "#print(metrics.confusion_matrix(exp, predicted))\n",
    "plt.imshow(metrics.confusion_matrix(exp, predicted),\n",
    "           cmap='Blues', interpolation='nearest')\n",
    "plt.colorbar()\n",
    "plt.grid(False)\n",
    "plt.ylabel('true')\n",
    "plt.xlabel('predicted');"
   ]
  },
  {
   "cell_type": "markdown",
   "metadata": {},
   "source": [
    "## Hierarchical Clustering"
   ]
  },
  {
   "cell_type": "code",
   "execution_count": 87,
   "metadata": {
    "collapsed": false
   },
   "outputs": [],
   "source": [
    "from scipy.cluster.hierarchy import dendrogram, linkage, cophenet, fcluster\n",
    "from scipy.spatial.distance import pdist\n",
    "Z = linkage(X, 'ward')"
   ]
  },
  {
   "cell_type": "code",
   "execution_count": 88,
   "metadata": {
    "collapsed": false
   },
   "outputs": [
    {
     "data": {
      "text/plain": [
       "0.45493113667831225"
      ]
     },
     "execution_count": 88,
     "metadata": {},
     "output_type": "execute_result"
    }
   ],
   "source": [
    "c, coph_dists = cophenet(Z, pdist(X))\n",
    "c"
   ]
  },
  {
   "cell_type": "code",
   "execution_count": 89,
   "metadata": {
    "collapsed": false
   },
   "outputs": [
    {
     "data": {
      "text/plain": [
       "array([ 8,  8,  8,  8,  9,  9,  9,  9, 10, 10, 10, 11,  7,  7,  7,  7, 10,\n",
       "       12, 10, 10, 10, 10,  4,  4,  4,  4,  3,  3,  3,  3,  3,  3,  3,  8,\n",
       "        8,  8,  7,  7,  9,  9,  9, 10, 10, 10,  8,  8,  7,  7,  7,  9,  9,\n",
       "       10, 10, 10, 10,  8,  8,  7,  7,  7,  7,  9, 10, 10, 10, 12,  8,  8,\n",
       "        7,  7,  7,  9, 10, 10, 10, 10, 12,  4,  4,  4,  4,  4,  3,  3,  3,\n",
       "        3,  3,  3,  7,  7,  7,  7,  7, 10, 10, 10, 10, 12, 12,  8,  8,  8,\n",
       "        8,  9,  8,  9, 10, 10, 10, 10,  7,  7,  7,  7,  7,  7, 10, 10, 10,\n",
       "       12, 12,  4,  4,  8,  5,  7,  9,  9, 10, 10, 12, 12,  5,  5,  4,  4,\n",
       "        4,  3,  3,  3,  3,  3,  3,  5,  8,  8,  5,  5,  3,  9, 10, 10, 10,\n",
       "       12,  8,  8,  8,  8,  8,  8, 10, 10, 10, 10, 12,  7,  7,  7,  7,  7,\n",
       "        9,  9, 10, 10, 10, 12,  8,  5,  5,  5,  5,  3,  3,  3,  3,  3, 12,\n",
       "        8,  8,  5,  5,  5,  5,  9,  9, 10, 12, 12,  4,  4,  5,  5,  5,  5,\n",
       "        9, 10, 10, 12, 12,  4,  4,  4,  4,  4,  3,  3,  3,  3,  3,  3,  2,\n",
       "        2,  2,  2,  2,  2,  1,  1,  1,  1,  1,  5,  5,  5,  5,  5,  5,  5,\n",
       "       12, 12, 12, 12, 11,  7, 11, 11, 11, 11, 11, 12, 12, 12, 12,  8,  8,\n",
       "        8,  8,  8,  9,  9,  9, 10, 10, 10,  8,  8,  8,  8,  8,  8, 10, 10,\n",
       "       10, 10, 12, 11, 11, 11, 11, 11, 12, 12, 12, 12, 12, 12,  4,  4,  5,\n",
       "        5,  5,  5,  5, 12, 12, 12, 12,  4,  4,  4,  4,  3,  3,  3,  3, 12,\n",
       "       12, 12,  7,  7,  7,  7,  7,  9,  9, 10, 10, 10, 12,  8,  8,  8,  8,\n",
       "        9,  9,  9, 10, 10, 10, 12,  8,  8,  8,  7,  7,  9,  9, 10, 10, 10,\n",
       "       10,  4,  2,  2,  2,  2,  2,  2,  1,  1,  1,  1,  4,  5,  5,  5,  5,\n",
       "        9,  9, 10, 10, 10, 12,  8,  8,  5,  5,  7,  9,  9,  9,  3,  3, 12,\n",
       "        2,  4,  2,  2,  2,  1,  1,  1,  1,  1,  1,  8,  8,  8,  8,  7,  9,\n",
       "        9, 10, 10, 10, 10,  8,  8,  8,  7,  7,  9,  9, 10, 10, 10, 10,  8,\n",
       "        7,  7,  7,  7,  9,  9, 10, 10, 10, 12,  5,  7,  7,  7,  7, 10, 10,\n",
       "       10, 10, 12, 12,  5,  5,  4,  3,  3,  3,  5, 12, 12, 12, 12,  7,  7,\n",
       "        7,  7,  7, 10, 10, 12, 12, 12, 12,  5,  5,  5,  5,  5,  5,  5,  5,\n",
       "       12, 12, 12,  7,  7,  7,  7,  7,  7, 10, 10, 10, 12, 12,  4,  4,  4,\n",
       "        4,  3,  3,  3,  3,  3,  3,  3,  8,  8,  8,  7,  9,  9,  9,  9, 10,\n",
       "       10, 10,  8,  8,  8,  8,  9,  9,  9,  9, 10, 10, 10,  8,  8,  8,  8,\n",
       "        9,  9,  9,  9,  9,  9,  9,  8,  8,  7,  7,  7,  7, 10,  9, 10, 10,\n",
       "       10,  8,  8,  7,  7, 10,  9, 10, 10, 10, 10, 12,  4,  4,  5,  5,  5,\n",
       "        5,  5,  5,  5,  5,  5,  9,  9,  9,  9,  9,  9,  9,  8,  8,  8,  8,\n",
       "        7,  7, 10, 12, 12, 12, 12,  7,  7,  7,  7,  9,  9,  9,  9, 10, 10,\n",
       "       10,  8,  8,  8,  8,  1,  1,  1,  1,  1,  1,  1,  4,  4,  4,  4,  5,\n",
       "        5,  3,  3,  3, 10, 10,  8,  8,  8,  5,  7,  7,  9, 12, 12, 10, 10,\n",
       "        7,  7,  7,  7,  7,  7,  9, 10, 10, 12, 12,  7,  7,  7,  7,  7, 10,\n",
       "       10, 10, 10, 10, 12,  7,  7,  7, 12, 12, 12,  7,  7,  7,  7,  7, 10,\n",
       "        9,  9, 10, 10, 10,  8,  8,  8,  8,  9,  9,  9, 10, 10, 10, 10,  8,\n",
       "        8,  8,  8,  7, 10,  9, 10, 10, 10, 10,  8,  8,  8,  7,  7,  9,  9,\n",
       "        9, 10, 10, 10,  8,  8,  8,  8,  9,  9, 10, 10, 12, 12, 12,  7,  7,\n",
       "        7,  7, 10, 10,  9,  9,  9,  3,  3,  8,  8,  8,  8,  9,  9,  3,  3,\n",
       "       12, 12, 12,  5,  5,  5,  5,  5,  5,  9, 10, 10, 10, 10,  8,  8,  8,\n",
       "        8,  9,  9,  9, 10,  3, 10, 10,  8,  8,  8,  8,  7,  7,  3,  3,  3,\n",
       "        3,  3,  4,  4,  8,  8,  3,  3,  9,  9, 10, 10, 10,  8,  8,  8,  5,\n",
       "        9,  9,  9,  9, 10, 10, 10,  8,  8,  8,  8,  9,  9, 10, 10, 10, 10,\n",
       "       10,  8,  8,  7,  7,  7, 12, 12, 12, 12, 12, 12,  7,  7,  7,  6,  6,\n",
       "        6,  6,  6,  6,  6,  6], dtype=int32)"
      ]
     },
     "execution_count": 89,
     "metadata": {},
     "output_type": "execute_result"
    }
   ],
   "source": [
    "max_d = 30\n",
    "clusters = fcluster(Z, max_d, criterion='distance')\n",
    "clusters"
   ]
  },
  {
   "cell_type": "code",
   "execution_count": 90,
   "metadata": {
    "collapsed": false
   },
   "outputs": [
    {
     "data": {
      "image/png": "[encoded data removed]",
      "text/plain": [
       "<matplotlib.figure.Figure at 0x11dd76110>"
      ]
     },
     "metadata": {},
     "output_type": "display_data"
    }
   ],
   "source": [
    "plt.scatter(X[:,0], X[:,2], c=clusters, cmap='prism')\n",
    "plt.show()"
   ]
  },
  {
   "cell_type": "code",
   "execution_count": 91,
   "metadata": {
    "collapsed": false
   },
   "outputs": [
    {
     "data": {
      "text/plain": [
       "ExtraTreesClassifier(bootstrap=False, class_weight=None, criterion='gini',\n",
       "           max_depth=None, max_features='auto', max_leaf_nodes=None,\n",
       "           min_samples_leaf=1, min_samples_split=2,\n",
       "           min_weight_fraction_leaf=0.0, n_estimators=10, n_jobs=1,\n",
       "           oob_score=False, random_state=None, verbose=0, warm_start=False)"
      ]
     },
     "execution_count": 91,
     "metadata": {},
     "output_type": "execute_result"
    }
   ],
   "source": [
    "#Extra tree classifier\n",
    "trees2 = ExtraTreesClassifier()\n",
    "trees2.fit(X, clusters)"
   ]
  },
  {
   "cell_type": "code",
   "execution_count": 92,
   "metadata": {
    "collapsed": false
   },
   "outputs": [
    {
     "name": "stdout",
     "output_type": "stream",
     "text": [
      "[ 0.26457549  0.23068529  0.24534042  0.15634395  0.10305486]\n"
     ]
    }
   ],
   "source": [
    "print(trees2.feature_importances_)"
   ]
  },
  {
   "cell_type": "code",
   "execution_count": 93,
   "metadata": {
    "collapsed": false
   },
   "outputs": [
    {
     "data": {
      "text/plain": [
       "KNeighborsClassifier(algorithm='auto', leaf_size=30, metric='minkowski',\n",
       "           metric_params=None, n_jobs=1, n_neighbors=5, p=2,\n",
       "           weights='uniform')"
      ]
     },
     "execution_count": 93,
     "metadata": {},
     "output_type": "execute_result"
    }
   ],
   "source": [
    "# KNN classifier\n",
    "\n",
    "knn2 = KNeighborsClassifier()\n",
    "knn2.fit(X, clusters)"
   ]
  },
  {
   "cell_type": "code",
   "execution_count": 94,
   "metadata": {
    "collapsed": true
   },
   "outputs": [],
   "source": [
    "exp2 = clusters\n",
    "predicted2 = knn2.predict(X)"
   ]
  },
  {
   "cell_type": "code",
   "execution_count": 95,
   "metadata": {
    "collapsed": false
   },
   "outputs": [
    {
     "name": "stdout",
     "output_type": "stream",
     "text": [
      "             precision    recall  f1-score   support\n",
      "\n",
      "          9       0.98      0.99      0.98       478\n",
      "         20       0.98      0.93      0.96       103\n",
      "         22       0.98      0.97      0.98       224\n",
      "\n",
      "avg / total       0.98      0.98      0.98       805\n",
      "\n",
      "[[474   1   3]\n",
      " [  6  96   1]\n",
      " [  5   1 218]]\n"
     ]
    }
   ],
   "source": [
    "print(metrics.classification_report(exp, predicted))\n",
    "print(metrics.confusion_matrix(exp, predicted))"
   ]
  },
  {
   "cell_type": "code",
   "execution_count": 96,
   "metadata": {
    "collapsed": false
   },
   "outputs": [
    {
     "data": {
      "image/png": "[encoded data removed]",
      "text/plain": [
       "<matplotlib.figure.Figure at 0x11dd76050>"
      ]
     },
     "metadata": {},
     "output_type": "display_data"
    }
   ],
   "source": [
    "fig, ax = plt.subplots(figsize=(10,6))\n",
    "#print(metrics.confusion_matrix(exp, predicted))\n",
    "plt.imshow(metrics.confusion_matrix(exp, predicted),\n",
    "           cmap='Blues', interpolation='nearest')\n",
    "plt.colorbar()\n",
    "plt.grid(False)\n",
    "plt.ylabel('true')\n",
    "plt.xlabel('predicted');"
   ]
  },
  {
   "cell_type": "markdown",
   "metadata": {
    "focus": false,
    "id": "023d9120-1eb3-4f20-b083-5a8fa1605f06"
   },
   "source": [
    "### Part 7: Write an analysis plan of your findings "
   ]
  },
  {
   "cell_type": "markdown",
   "metadata": {
    "focus": false,
    "id": "dc0ce0b7-c246-4d76-a01d-88fa0d37fe95"
   },
   "source": [
    "PCA is a great resource in helping us better analyze the dataset in relation to aiport/airline delays.  \n",
    "\n",
    "One of the most helpful observation came from the age correlation we discovered in our PCA analysis. We observed that the older the report was there was an increase in airline delay.  This indicates that as airports and airlines modernized, they reduced their delays. Hence if an airline invested in modernization of airports and airlines, they could see a decrease in delays both on the ground and in the air. \n",
    "\n",
    "I would hence recommend investing on airport and airline modernization.\n",
    "\n"
   ]
  },
  {
   "cell_type": "markdown",
   "metadata": {},
   "source": [
    " "
   ]
  },
  {
   "cell_type": "markdown",
   "metadata": {},
   "source": [
    " "
   ]
  }
 ],
 "metadata": {
  "anaconda-cloud": {},
  "kernelspec": {
   "display_name": "Python [Root]",
   "language": "python",
   "name": "Python [Root]"
  },
  "language_info": {
   "codemirror_mode": {
    "name": "ipython",
    "version": 2
   },
   "file_extension": ".py",
   "mimetype": "text/x-python",
   "name": "python",
   "nbconvert_exporter": "python",
   "pygments_lexer": "ipython2",
   "version": "2.7.12"
  }
 },
 "nbformat": 4,
 "nbformat_minor": 0
}
