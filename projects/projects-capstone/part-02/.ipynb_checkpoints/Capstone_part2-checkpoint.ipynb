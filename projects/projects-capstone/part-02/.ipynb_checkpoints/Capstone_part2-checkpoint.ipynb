{
 "cells": [
  {
   "cell_type": "markdown",
   "metadata": {},
   "source": [
    "# Topic: Insurance Claims Management"
   ]
  },
  {
   "cell_type": "markdown",
   "metadata": {},
   "source": [
    "## Problem Statement: \n",
    "\n",
    "When unexpected events happen, people expect their insurer to support them as quickly as possible. Claims management department at the insurer need to check several things before a claim can be processed and payments can be made. Data Science can play an important role in this sector and make claims processing faster and easier."
   ]
  },
  {
   "cell_type": "markdown",
   "metadata": {},
   "source": [
    "## Summary on the data: \n",
    "\n",
    "The data is from an insurance claims management company. It has two parts: Train and Test set.\n",
    "\n",
    "The train has 133 columns in all. The 'target' column is the dependent variable which suggests if the claim was processed or not. The 'target' has been classified into 0 and 1. If the claim had an accelerated approval the 'target' value is 1 and if the claim didnot have an accelerated approval the target value is 0. \n",
    "\n",
    "The train set has 131 columns which are the variables either of categorical or numeric type. All string type variables are categorical. It has been mentioned that the dataset doesnot contain any ordinal variables. The dataset is anonymized because it is proprietory data to protect privacy.\n",
    "\n",
    "The test set contains 132 columns and does not have the target column. In this project we would predict the  probability (\"PredictedProb\") for each claim to be processed in the test set."
   ]
  },
  {
   "cell_type": "markdown",
   "metadata": {},
   "source": [
    "### Data Cleaning Technique"
   ]
  },
  {
   "cell_type": "markdown",
   "metadata": {},
   "source": [
    "The train and test dataset contains a number of NaN values. I have decided to drop the NaN value using the dropna() function. After dropping the NaN values, I end up losing nearly half of the data which suggests that we are loosing a lot of useful information.  \n",
    "\n",
    "There are a number of columns with string values. I plan on converting the string values into numerical values."
   ]
  },
  {
   "cell_type": "code",
   "execution_count": null,
   "metadata": {
    "collapsed": true
   },
   "outputs": [],
   "source": []
  },
  {
   "cell_type": "code",
   "execution_count": 3,
   "metadata": {
    "collapsed": true
   },
   "outputs": [],
   "source": [
    "#Load the train set\n",
    "\n",
    "import pandas as pd\n",
    "import numpy as np\n",
    "\n",
    "df = pd.read_csv('/Users/Debjani/Downloads/train_capstone.csv')"
   ]
  },
  {
   "cell_type": "code",
   "execution_count": 12,
   "metadata": {
    "collapsed": false
   },
   "outputs": [
    {
     "data": {
      "text/plain": [
       "Index([u'ID', u'target', u'v1', u'v2', u'v3', u'v4', u'v5', u'v6', u'v7',\n",
       "       u'v8',\n",
       "       ...\n",
       "       u'v122', u'v123', u'v124', u'v125', u'v126', u'v127', u'v128', u'v129',\n",
       "       u'v130', u'v131'],\n",
       "      dtype='object', length=133)"
      ]
     },
     "execution_count": 12,
     "metadata": {},
     "output_type": "execute_result"
    }
   ],
   "source": [
    "df.columns"
   ]
  },
  {
   "cell_type": "code",
   "execution_count": 4,
   "metadata": {
    "collapsed": false
   },
   "outputs": [
    {
     "data": {
      "text/plain": [
       "(114321, 133)"
      ]
     },
     "execution_count": 4,
     "metadata": {},
     "output_type": "execute_result"
    }
   ],
   "source": [
    "df.shape"
   ]
  },
  {
   "cell_type": "code",
   "execution_count": 5,
   "metadata": {
    "collapsed": false
   },
   "outputs": [
    {
     "name": "stdout",
     "output_type": "stream",
     "text": [
      "<class 'pandas.core.frame.DataFrame'>\n",
      "RangeIndex: 114321 entries, 0 to 114320\n",
      "Columns: 133 entries, ID to v131\n",
      "dtypes: float64(108), int64(6), object(19)\n",
      "memory usage: 116.0+ MB\n"
     ]
    }
   ],
   "source": [
    "df.info()"
   ]
  },
  {
   "cell_type": "code",
   "execution_count": 7,
   "metadata": {
    "collapsed": false
   },
   "outputs": [
    {
     "data": {
      "text/html": [
       "<div>\n",
       "<table border=\"1\" class=\"dataframe\">\n",
       "  <thead>\n",
       "    <tr style=\"text-align: right;\">\n",
       "      <th></th>\n",
       "      <th>ID</th>\n",
       "      <th>target</th>\n",
       "      <th>v1</th>\n",
       "      <th>v2</th>\n",
       "      <th>v3</th>\n",
       "      <th>v4</th>\n",
       "      <th>v5</th>\n",
       "      <th>v6</th>\n",
       "      <th>v7</th>\n",
       "      <th>v8</th>\n",
       "      <th>...</th>\n",
       "      <th>v122</th>\n",
       "      <th>v123</th>\n",
       "      <th>v124</th>\n",
       "      <th>v125</th>\n",
       "      <th>v126</th>\n",
       "      <th>v127</th>\n",
       "      <th>v128</th>\n",
       "      <th>v129</th>\n",
       "      <th>v130</th>\n",
       "      <th>v131</th>\n",
       "    </tr>\n",
       "  </thead>\n",
       "  <tbody>\n",
       "    <tr>\n",
       "      <th>0</th>\n",
       "      <td>3</td>\n",
       "      <td>1</td>\n",
       "      <td>1.335739</td>\n",
       "      <td>8.727474</td>\n",
       "      <td>C</td>\n",
       "      <td>3.921026</td>\n",
       "      <td>7.915266</td>\n",
       "      <td>2.599278</td>\n",
       "      <td>3.176895</td>\n",
       "      <td>0.012941</td>\n",
       "      <td>...</td>\n",
       "      <td>8.000000</td>\n",
       "      <td>1.989780</td>\n",
       "      <td>0.035754</td>\n",
       "      <td>AU</td>\n",
       "      <td>1.804126</td>\n",
       "      <td>3.113719</td>\n",
       "      <td>2.024285</td>\n",
       "      <td>0</td>\n",
       "      <td>0.636365</td>\n",
       "      <td>2.857144</td>\n",
       "    </tr>\n",
       "    <tr>\n",
       "      <th>1</th>\n",
       "      <td>4</td>\n",
       "      <td>1</td>\n",
       "      <td>NaN</td>\n",
       "      <td>NaN</td>\n",
       "      <td>C</td>\n",
       "      <td>NaN</td>\n",
       "      <td>9.191265</td>\n",
       "      <td>NaN</td>\n",
       "      <td>NaN</td>\n",
       "      <td>2.301630</td>\n",
       "      <td>...</td>\n",
       "      <td>NaN</td>\n",
       "      <td>NaN</td>\n",
       "      <td>0.598896</td>\n",
       "      <td>AF</td>\n",
       "      <td>NaN</td>\n",
       "      <td>NaN</td>\n",
       "      <td>1.957825</td>\n",
       "      <td>0</td>\n",
       "      <td>NaN</td>\n",
       "      <td>NaN</td>\n",
       "    </tr>\n",
       "    <tr>\n",
       "      <th>2</th>\n",
       "      <td>5</td>\n",
       "      <td>1</td>\n",
       "      <td>0.943877</td>\n",
       "      <td>5.310079</td>\n",
       "      <td>C</td>\n",
       "      <td>4.410969</td>\n",
       "      <td>5.326159</td>\n",
       "      <td>3.979592</td>\n",
       "      <td>3.928571</td>\n",
       "      <td>0.019645</td>\n",
       "      <td>...</td>\n",
       "      <td>9.333333</td>\n",
       "      <td>2.477596</td>\n",
       "      <td>0.013452</td>\n",
       "      <td>AE</td>\n",
       "      <td>1.773709</td>\n",
       "      <td>3.922193</td>\n",
       "      <td>1.120468</td>\n",
       "      <td>2</td>\n",
       "      <td>0.883118</td>\n",
       "      <td>1.176472</td>\n",
       "    </tr>\n",
       "    <tr>\n",
       "      <th>3</th>\n",
       "      <td>6</td>\n",
       "      <td>1</td>\n",
       "      <td>0.797415</td>\n",
       "      <td>8.304757</td>\n",
       "      <td>C</td>\n",
       "      <td>4.225930</td>\n",
       "      <td>11.627438</td>\n",
       "      <td>2.097700</td>\n",
       "      <td>1.987549</td>\n",
       "      <td>0.171947</td>\n",
       "      <td>...</td>\n",
       "      <td>7.018256</td>\n",
       "      <td>1.812795</td>\n",
       "      <td>0.002267</td>\n",
       "      <td>CJ</td>\n",
       "      <td>1.415230</td>\n",
       "      <td>2.954381</td>\n",
       "      <td>1.990847</td>\n",
       "      <td>1</td>\n",
       "      <td>1.677108</td>\n",
       "      <td>1.034483</td>\n",
       "    </tr>\n",
       "    <tr>\n",
       "      <th>4</th>\n",
       "      <td>8</td>\n",
       "      <td>1</td>\n",
       "      <td>NaN</td>\n",
       "      <td>NaN</td>\n",
       "      <td>C</td>\n",
       "      <td>NaN</td>\n",
       "      <td>NaN</td>\n",
       "      <td>NaN</td>\n",
       "      <td>NaN</td>\n",
       "      <td>NaN</td>\n",
       "      <td>...</td>\n",
       "      <td>NaN</td>\n",
       "      <td>NaN</td>\n",
       "      <td>NaN</td>\n",
       "      <td>Z</td>\n",
       "      <td>NaN</td>\n",
       "      <td>NaN</td>\n",
       "      <td>NaN</td>\n",
       "      <td>0</td>\n",
       "      <td>NaN</td>\n",
       "      <td>NaN</td>\n",
       "    </tr>\n",
       "  </tbody>\n",
       "</table>\n",
       "<p>5 rows × 133 columns</p>\n",
       "</div>"
      ],
      "text/plain": [
       "   ID  target        v1        v2 v3        v4         v5        v6        v7  \\\n",
       "0   3       1  1.335739  8.727474  C  3.921026   7.915266  2.599278  3.176895   \n",
       "1   4       1       NaN       NaN  C       NaN   9.191265       NaN       NaN   \n",
       "2   5       1  0.943877  5.310079  C  4.410969   5.326159  3.979592  3.928571   \n",
       "3   6       1  0.797415  8.304757  C  4.225930  11.627438  2.097700  1.987549   \n",
       "4   8       1       NaN       NaN  C       NaN        NaN       NaN       NaN   \n",
       "\n",
       "         v8    ...         v122      v123      v124  v125      v126      v127  \\\n",
       "0  0.012941    ...     8.000000  1.989780  0.035754    AU  1.804126  3.113719   \n",
       "1  2.301630    ...          NaN       NaN  0.598896    AF       NaN       NaN   \n",
       "2  0.019645    ...     9.333333  2.477596  0.013452    AE  1.773709  3.922193   \n",
       "3  0.171947    ...     7.018256  1.812795  0.002267    CJ  1.415230  2.954381   \n",
       "4       NaN    ...          NaN       NaN       NaN     Z       NaN       NaN   \n",
       "\n",
       "       v128  v129      v130      v131  \n",
       "0  2.024285     0  0.636365  2.857144  \n",
       "1  1.957825     0       NaN       NaN  \n",
       "2  1.120468     2  0.883118  1.176472  \n",
       "3  1.990847     1  1.677108  1.034483  \n",
       "4       NaN     0       NaN       NaN  \n",
       "\n",
       "[5 rows x 133 columns]"
      ]
     },
     "execution_count": 7,
     "metadata": {},
     "output_type": "execute_result"
    }
   ],
   "source": [
    "df.head()"
   ]
  },
  {
   "cell_type": "code",
   "execution_count": 6,
   "metadata": {
    "collapsed": false
   },
   "outputs": [],
   "source": [
    "y = df['target'].values"
   ]
  },
  {
   "cell_type": "code",
   "execution_count": 4,
   "metadata": {
    "collapsed": false
   },
   "outputs": [
    {
     "name": "stdout",
     "output_type": "stream",
     "text": [
      "         v1        v2        v4        v5        v6        v7        v8  \\\n",
      "0  1.335739  8.727474  3.921026  7.915266  2.599278  3.176895  0.012941   \n",
      "1       NaN       NaN       NaN  9.191265       NaN       NaN  2.301630   \n",
      "2  0.943877  5.310079  4.410969  5.326159  3.979592  3.928571  0.019645   \n",
      "\n",
      "          v9       v10        v11    ...         v120      v121      v122  \\\n",
      "0   9.999999  0.503281  16.434108    ...     1.059603  0.803572  8.000000   \n",
      "1        NaN  1.312910        NaN    ...          NaN       NaN       NaN   \n",
      "2  12.666667  0.765864  14.756098    ...     2.138728  2.238806  9.333333   \n",
      "\n",
      "       v123      v124      v126      v127      v128      v130      v131  \n",
      "0  1.989780  0.035754  1.804126  3.113719  2.024285  0.636365  2.857144  \n",
      "1       NaN  0.598896       NaN       NaN  1.957825       NaN       NaN  \n",
      "2  2.477596  0.013452  1.773709  3.922193  1.120468  0.883118  1.176472  \n",
      "\n",
      "[3 rows x 108 columns]\n"
     ]
    }
   ],
   "source": [
    "#the float columns\n",
    "\n",
    "dfc = df.loc[:, df.dtypes == np.float64]\n",
    "print dfc.head(3)"
   ]
  },
  {
   "cell_type": "code",
   "execution_count": 10,
   "metadata": {
    "collapsed": false
   },
   "outputs": [
    {
     "data": {
      "text/plain": [
       "(114321, 108)"
      ]
     },
     "execution_count": 10,
     "metadata": {},
     "output_type": "execute_result"
    }
   ],
   "source": [
    "dfc.shape"
   ]
  },
  {
   "cell_type": "code",
   "execution_count": 5,
   "metadata": {
    "collapsed": false
   },
   "outputs": [
    {
     "name": "stdout",
     "output_type": "stream",
     "text": [
      "   ID  target  v38  v62  v72  v129\n",
      "0   3       1    0    1    1     0\n",
      "1   4       1    0    2    2     0\n",
      "2   5       1    0    1    3     2\n"
     ]
    }
   ],
   "source": [
    "# the int columns i.e. the columns that have been classified\n",
    "dfi = df.loc[:, df.dtypes == np.int64]\n",
    "print dfi.head(3)"
   ]
  },
  {
   "cell_type": "code",
   "execution_count": 12,
   "metadata": {
    "collapsed": false
   },
   "outputs": [
    {
     "data": {
      "text/plain": [
       "(114321, 6)"
      ]
     },
     "execution_count": 12,
     "metadata": {},
     "output_type": "execute_result"
    }
   ],
   "source": [
    "dfi.shape"
   ]
  },
  {
   "cell_type": "code",
   "execution_count": 4,
   "metadata": {
    "collapsed": false
   },
   "outputs": [
    {
     "name": "stdout",
     "output_type": "stream",
     "text": [
      "  v3  v22 v24  v30 v31 v47 v52 v56 v66 v71 v74 v75 v79 v91 v107 v110 v112  \\\n",
      "0  C  XDX   C    C   A   C   G  DI   C   F   B   D   E   A    E    B    O   \n",
      "1  C  GUV   C    C   A   E   G  DY   A   F   B   D   D   B    B    A    U   \n",
      "2  C   FQ   E  NaN   A   C   F  AS   A   B   B   B   E   G    C    B    S   \n",
      "\n",
      "  v113 v125  \n",
      "0  NaN   AU  \n",
      "1    G   AF  \n",
      "2  NaN   AE  \n"
     ]
    }
   ],
   "source": [
    "#the columns that are of categorical variable type\n",
    "dfs = df.loc[:, df.dtypes == np.object]\n",
    "print dfs.head(3)"
   ]
  },
  {
   "cell_type": "code",
   "execution_count": 14,
   "metadata": {
    "collapsed": false
   },
   "outputs": [
    {
     "data": {
      "text/plain": [
       "(114321, 19)"
      ]
     },
     "execution_count": 14,
     "metadata": {},
     "output_type": "execute_result"
    }
   ],
   "source": [
    "dfs.shape"
   ]
  },
  {
   "cell_type": "code",
   "execution_count": 5,
   "metadata": {
    "collapsed": false
   },
   "outputs": [
    {
     "name": "stderr",
     "output_type": "stream",
     "text": [
      "//anaconda/lib/python2.7/site-packages/numpy/lib/arraysetops.py:200: FutureWarning: numpy not_equal will not check object identity in the future. The comparison did not return the same result as suggested by the identity (`is`)) and will change.\n",
      "  flag = np.concatenate(([True], aux[1:] != aux[:-1]))\n"
     ]
    }
   ],
   "source": [
    "#using label encoder\n",
    "\n",
    "from sklearn.preprocessing import LabelEncoder\n",
    "\n",
    "\n",
    "dfs = dfs.apply(LabelEncoder().fit_transform)\n",
    "\n",
    "\n",
    "\n"
   ]
  },
  {
   "cell_type": "code",
   "execution_count": 6,
   "metadata": {
    "collapsed": false
   },
   "outputs": [
    {
     "name": "stdout",
     "output_type": "stream",
     "text": [
      "        v3    v22  v24  v30  v31  v47  v52  v56  v66  v71  v74  v75  v79  v91  \\\n",
      "0        3  16671    2    3    1    2    7   86    2    4    1    3    4    1   \n",
      "1        3   7734    2    3    1    4    7  102    0    4    1    3    3    2   \n",
      "2        3   7087    4    0    1    2    6   18    0    1    1    1    4    7   \n",
      "3        3   1511    3    3    2    2    8   48    0    4    1    3    1    2   \n",
      "4        3   8038    4    0    1    8    8    0    2    4    1    3    2    7   \n",
      "5        3   4580    0    0    1    8   11  101    0    4    1    3    8    7   \n",
      "6        3  11283    4    7    1    2    1   18    0    4    1    3    4    2   \n",
      "7        3   3862    3    3    1    8    3   93    2    4    1    3    2    1   \n",
      "8        0   7522    4    0    0    3    8    6    1    1    1    1   15    3   \n",
      "9        3  12770    2    3    1    8    1    0    0    4    1    3    2    1   \n",
      "10       3   7393    4    4    1    8    5   75    0    4    1    3    2    6   \n",
      "11       3    899    3    7    1    2    1   22    2    4    1    3    4    1   \n",
      "12       3  13033    4    0    1    8    8   48    2    4    1    3    2    7   \n",
      "13       3  11070    2    0    2    2   10   12    0    4    1    3    1    7   \n",
      "14       3  13033    4    2    1    2    7   18    0    4    1    3    4    7   \n",
      "15       3  11395    4    0    1    8    3   75    0    1    1    1    2    1   \n",
      "16       3  11581    4    7    1    8    6    0    1    4    1    3    2    3   \n",
      "17       3      0    3    3    2    2    4   25    0    4    1    3    1    1   \n",
      "18       3    744    2    0    2    2    3  122    0    1    1    1    0    2   \n",
      "19       3   3343    2    6    2    2    3   91    1    4    1    3    0    7   \n",
      "20       3   8502    2    0    2    2   11   42    0    4    1    3    1    1   \n",
      "21       3   3965    4    7    2    2   11   86    0    4    1    3    1    2   \n",
      "22       3  16414    4    0    1    8    9   48    0    2    1    1    2    6   \n",
      "23       3   1326    2    4    2    2    7   38    0    2    1    1   14    3   \n",
      "24       3  16026    2    1    1    2   11    7    0    4    1    3    4    2   \n",
      "25       3    871    4    0    1    8   12   35    0    1    1    1    2    6   \n",
      "26       3   5201    4    0    1    8    3   75    1    1    1    1    2    7   \n",
      "27       3   5080    0    3    1    2    5   47    2    1    1    1    4    6   \n",
      "28       3  10970    4    0    1    2   10  115    0    2    1    1    1    5   \n",
      "29       3   7002    4    0    1    8    7    0    0    4    1    3    2    3   \n",
      "...     ..    ...  ...  ...  ...  ...  ...  ...  ...  ...  ...  ...  ...  ...   \n",
      "114291   3   6343    4    0    1    8    6   75    0    4    1    3    2    7   \n",
      "114292   3   2782    3    0    1    2   10   18    0    2    1    1    4    1   \n",
      "114293   3  17666    3    0    1    8    3   48    0    1    1    1    2    7   \n",
      "114294   3  17542    4    0    1    9   11   36    0    2    1    1    7    6   \n",
      "114295   3   3671    2    0    2    2    4   12    0    2    1    1    1    3   \n",
      "114296   3   5973    1    0    1    2   12   51    0    1    1    1    4    6   \n",
      "114297   3  10729    4    3    1    2    7   22    0    4    1    3    1    2   \n",
      "114298   3  15765    2    3    1    2    6   85    0    1    1    1    4    1   \n",
      "114299   3  12309    3    3    1    6    5   22    2    4    1    3   12    2   \n",
      "114300   3  12617    3    3    1    2    5   51    0    4    1    3    4    3   \n",
      "114301   3  13101    4    0    1    8    5   75    0    4    1    3    2    6   \n",
      "114302   3   3754    4    0    2    2    5   86    2    1    1    1    1    7   \n",
      "114303   3   5805    4    3    2    2    7   86    0    2    1    1    1    3   \n",
      "114304   3   1082    3    0    1    8    2    0    0    1    1    1    2    6   \n",
      "114305   3   2961    4    0    2    2    1   86    0    4    1    3    1    5   \n",
      "114306   3  11210    2    3    1    2    3   33    2    4    1    3    4    3   \n",
      "114307   3  13106    0    0    1    2    3   78    2    4    1    3    4    7   \n",
      "114308   3  15808    4    0    1    2    4   18    0    1    1    1    4    3   \n",
      "114309   3  16588    4    0    1    8    4   68    2    1    1    1    2    7   \n",
      "114310   3   8242    4    0    1    2    9   22    2    4    1    3    1    1   \n",
      "114311   3   3363    4    0    1    8    8   27    2    4    1    3    8    1   \n",
      "114312   3    848    3    3    2    2    9   86    0    4    1    3    1    1   \n",
      "114313   3  10894    0    5    1    8    8  101    0    4    1    3    8    1   \n",
      "114314   3  13106    2    3    1    2    1   85    0    4    1    3    4    3   \n",
      "114315   3   8708    4    0    1    8   11   48    0    4    1    3    2    6   \n",
      "114316   3   1973    4    0    1    8    5  111    0    1    1    1    2    1   \n",
      "114317   3  16965    3    0    2    2    9   48    0    4    1    3    1    7   \n",
      "114318   3   3678    0    3    2    2    4   48    0    1    1    1    1    7   \n",
      "114319   3  13994    3    7    1    2   10   18    0    4    1    3    4    1   \n",
      "114320   3  13026    2    3    1    2    7   78    2    4    1    3    4    6   \n",
      "\n",
      "        v107  v110  v112  v113  v125  \n",
      "0          5     1    15     0    22  \n",
      "1          2     0    21    18     7  \n",
      "2          3     1    19     0     6  \n",
      "3          2     1    10     0    65  \n",
      "4          3     0    20    18    90  \n",
      "5          3     0     4    34    88  \n",
      "6          2     1     9     0    38  \n",
      "7          5     0     6    23    53  \n",
      "8          4     2    12     0    83  \n",
      "9          5     0    10    26    69  \n",
      "10         1     0     6    34    19  \n",
      "11         5     1    13     0    14  \n",
      "12         3     0    20    26    90  \n",
      "13         3     1     5     0    18  \n",
      "14         3     1    20     0    90  \n",
      "15         5     0     6    29    53  \n",
      "16         4     0     9    18    38  \n",
      "17         5     1    20     0    90  \n",
      "18         2     1    10     0    69  \n",
      "19         3     1     6     0    27  \n",
      "20         5     1     4     0    85  \n",
      "21         2     1     8    20    59  \n",
      "22         1     0    19     4     6  \n",
      "23         4     1    15     0    22  \n",
      "24         2     1    14     0    32  \n",
      "25         1     0     4    33    62  \n",
      "26         3     0    18    22    74  \n",
      "27         1     1    18     0    78  \n",
      "28         6     1     6     0    19  \n",
      "29         4     0    20    18    90  \n",
      "...      ...   ...   ...   ...   ...  \n",
      "114291     3     0     9    18    41  \n",
      "114292     5     1     9     0    41  \n",
      "114293     3     0     6    31    71  \n",
      "114294     1     0     4     4    88  \n",
      "114295     4     1     6     0    19  \n",
      "114296     1     1    20     0    90  \n",
      "114297     2     1    21     8     7  \n",
      "114298     5     1    12     0    83  \n",
      "114299     2     0     1     4    86  \n",
      "114300     4     1     4     0    62  \n",
      "114301     1     0     9     7    38  \n",
      "114302     3     1    14     0    12  \n",
      "114303     4     1    18     0    74  \n",
      "114304     1     0    16    18    72  \n",
      "114305     6     1     2     0    43  \n",
      "114306     4     1     9     0    41  \n",
      "114307     3     1     8     0    59  \n",
      "114308     4     1    14     0    32  \n",
      "114309     3     0     1    30     1  \n",
      "114310     5     1    20     0    57  \n",
      "114311     5     0     7    23    79  \n",
      "114312     5     1     6     0    17  \n",
      "114313     5     0    21     4    64  \n",
      "114314     4     1     8     0    59  \n",
      "114315     1     0    19    18     6  \n",
      "114316     5     0    21    18    13  \n",
      "114317     3     1    10     0    69  \n",
      "114318     3     1    18     0    81  \n",
      "114319     5     1     1     0    51  \n",
      "114320     1     1     1     0    86  \n",
      "\n",
      "[114321 rows x 19 columns]\n"
     ]
    }
   ],
   "source": [
    "print dfs"
   ]
  },
  {
   "cell_type": "code",
   "execution_count": null,
   "metadata": {
    "collapsed": true
   },
   "outputs": [],
   "source": []
  },
  {
   "cell_type": "code",
   "execution_count": 7,
   "metadata": {
    "collapsed": false
   },
   "outputs": [
    {
     "name": "stdout",
     "output_type": "stream",
     "text": [
      "['v3', 'v22', 'v24', 'v30', 'v31', 'v47', 'v52', 'v56', 'v66', 'v71', 'v74', 'v75', 'v79', 'v91', 'v107', 'v110', 'v112', 'v113', 'v125']\n"
     ]
    }
   ],
   "source": [
    "#list of columns with categorical variables\n",
    "l = list(dfs.columns)\n",
    "print l"
   ]
  },
  {
   "cell_type": "code",
   "execution_count": null,
   "metadata": {
    "collapsed": true
   },
   "outputs": [],
   "source": [
    "#using label encoder\n",
    "\n",
    "from sklearn.preprocessing import LabelEncoder\n",
    "\n",
    "categoricals = ['marital-status','occupation','relationship','race','sex']\n",
    "groupdf[categoricals] = groupdf[categoricals].apply(LabelEncoder().fit_transform)\n",
    "groupdf\n",
    "Add Comment"
   ]
  },
  {
   "cell_type": "code",
   "execution_count": null,
   "metadata": {
    "collapsed": true
   },
   "outputs": [],
   "source": []
  },
  {
   "cell_type": "markdown",
   "metadata": {},
   "source": [
    "## Logistic regression with scikit learn"
   ]
  },
  {
   "cell_type": "markdown",
   "metadata": {
    "collapsed": true
   },
   "source": [
    "This is a classification problem because we would like to have the outcome classified as whether the insurance claim has been processed (1) or denied (0). I plan on doing a logistic regression on this problem."
   ]
  },
  {
   "cell_type": "code",
   "execution_count": 8,
   "metadata": {
    "collapsed": false
   },
   "outputs": [
    {
     "name": "stdout",
     "output_type": "stream",
     "text": [
      "        target            v1         v2        v4         v5        v6  \\\n",
      "0            1  1.335739e+00   8.727474  3.921026   7.915266  2.599278   \n",
      "1            1           NaN        NaN       NaN   9.191265       NaN   \n",
      "2            1  9.438769e-01   5.310079  4.410969   5.326159  3.979592   \n",
      "3            1  7.974146e-01   8.304757  4.225930  11.627438  2.097700   \n",
      "4            1           NaN        NaN       NaN        NaN       NaN   \n",
      "5            0           NaN        NaN       NaN   8.856791       NaN   \n",
      "6            0  8.998057e-01   7.312995  3.494148   9.946200  1.926070   \n",
      "7            1           NaN        NaN       NaN        NaN       NaN   \n",
      "8            0  2.078651e+00   8.462619  3.739030   5.265636  1.573033   \n",
      "9            1  1.144802e+00   5.880606  3.244469   9.538384  2.500001   \n",
      "10           1           NaN        NaN       NaN        NaN       NaN   \n",
      "11           1           NaN        NaN       NaN        NaN       NaN   \n",
      "12           0           NaN        NaN       NaN        NaN       NaN   \n",
      "13           1  1.400267e+00   5.367204  4.122155   8.137188  2.983080   \n",
      "14           1  2.260036e+00  14.693263  5.150750   8.554136  1.954626   \n",
      "15           1           NaN        NaN       NaN        NaN       NaN   \n",
      "16           1  6.228961e-01   7.024732  4.193688   6.288177  2.132436   \n",
      "17           1           NaN        NaN       NaN        NaN       NaN   \n",
      "18           1           NaN        NaN       NaN        NaN       NaN   \n",
      "19           1           NaN        NaN       NaN        NaN       NaN   \n",
      "20           1  9.438780e-01   5.927194  4.404372   9.045057  2.551021   \n",
      "21           1  1.289841e+00   4.788645  4.283417  10.719571  3.107570   \n",
      "22           1  7.288239e-01   4.073244  4.130054   9.032563  4.149705   \n",
      "23           1  3.944563e+00   5.718516  2.205080   5.340648  2.010356   \n",
      "24           1  4.045725e+00   3.992607  3.598096   7.946330  1.709742   \n",
      "25           1           NaN        NaN       NaN        NaN       NaN   \n",
      "26           1           NaN        NaN       NaN        NaN       NaN   \n",
      "27           1  2.920282e-01  12.715811  4.999724   5.998656  2.020520   \n",
      "28           1  5.172412e-01   8.528544  4.075372   5.726834  2.534949   \n",
      "29           0  2.415670e+00  14.960392  4.356980   8.520510  2.132753   \n",
      "...        ...           ...        ...       ...        ...       ...   \n",
      "114291       1           NaN        NaN       NaN        NaN       NaN   \n",
      "114292       1  2.768086e-01   7.055455  3.823010   9.619069  2.194513   \n",
      "114293       1  1.983914e+00  11.296659  6.459140   9.193006  1.849866   \n",
      "114294       1           NaN        NaN       NaN        NaN       NaN   \n",
      "114295       1  8.743610e-01   8.529843  4.391163   9.575062  2.646711   \n",
      "114296       1           NaN        NaN       NaN        NaN       NaN   \n",
      "114297       1  1.603274e+00  11.493653  4.328798   8.055434  1.848820   \n",
      "114298       1  9.477454e-01   8.941986  4.578888  14.882313  2.868852   \n",
      "114299       1  9.688237e-07   6.163454  3.502739   7.202643  1.741765   \n",
      "114300       0  1.539335e+00   4.845475  4.445304   8.605211  1.906204   \n",
      "114301       1           NaN        NaN       NaN        NaN       NaN   \n",
      "114302       1  2.093352e+00   5.696141  5.105297   8.836584  2.734559   \n",
      "114303       1           NaN        NaN       NaN        NaN       NaN   \n",
      "114304       1           NaN        NaN       NaN        NaN       NaN   \n",
      "114305       1  1.030641e+00  13.003754  4.512371   8.928965  2.548746   \n",
      "114306       1  2.051611e+00   8.259554  4.466166  11.291191  2.269140   \n",
      "114307       1           NaN        NaN       NaN        NaN       NaN   \n",
      "114308       1           NaN        NaN       NaN        NaN       NaN   \n",
      "114309       0           NaN        NaN       NaN        NaN       NaN   \n",
      "114310       1           NaN        NaN       NaN        NaN       NaN   \n",
      "114311       1           NaN        NaN       NaN        NaN       NaN   \n",
      "114312       1  1.142478e+00   8.477138  3.827255   8.539653  2.276136   \n",
      "114313       1  1.364308e+00   9.621454  4.342517   8.648951  2.772861   \n",
      "114314       0  3.633647e+00   3.052302  2.055147   7.770079  1.929975   \n",
      "114315       1           NaN        NaN       NaN        NaN       NaN   \n",
      "114316       1           NaN        NaN       NaN        NaN       NaN   \n",
      "114317       1           NaN        NaN       NaN        NaN       NaN   \n",
      "114318       1           NaN        NaN       NaN  10.069277       NaN   \n",
      "114319       1           NaN        NaN       NaN  10.106144       NaN   \n",
      "114320       1  1.619763e+00   7.932978  4.640085   8.473141  2.351470   \n",
      "\n",
      "              v7        v8         v9       v10      ...           v121  \\\n",
      "0       3.176895  0.012941   9.999999  0.503281      ...       0.803572   \n",
      "1            NaN  2.301630        NaN  1.312910      ...            NaN   \n",
      "2       3.928571  0.019645  12.666667  0.765864      ...       2.238806   \n",
      "3       1.987549  0.171947   8.965516  6.542669      ...       1.956521   \n",
      "4            NaN       NaN        NaN  1.050328      ...            NaN   \n",
      "5            NaN  0.359993        NaN  1.050328      ...            NaN   \n",
      "6       1.770427  0.066251   5.011287  2.341356      ...       2.232558   \n",
      "7            NaN       NaN        NaN  1.838074      ...            NaN   \n",
      "8       2.303371  0.015869  11.111111  4.463894      ...       1.276595   \n",
      "9       1.559405  0.412610   9.977529  2.363238      ...       2.715964   \n",
      "10           NaN       NaN        NaN  1.312910      ...            NaN   \n",
      "11           NaN       NaN        NaN  1.028446      ...            NaN   \n",
      "12           NaN       NaN        NaN  1.312911      ...            NaN   \n",
      "13      2.640249  0.211851  11.021506  1.816193      ...       2.314931   \n",
      "14      2.931936  0.041446   7.022901  1.291029      ...       1.505377   \n",
      "15           NaN       NaN        NaN  1.312910      ...            NaN   \n",
      "16      3.198654  0.407525  10.434782  1.312909      ...       2.515245   \n",
      "17           NaN       NaN        NaN  1.553611      ...            NaN   \n",
      "18           NaN       NaN        NaN  1.794310      ...            NaN   \n",
      "19           NaN       NaN        NaN  3.916848      ...            NaN   \n",
      "20      2.693878  0.085665   8.601036  3.916848      ...       1.840490   \n",
      "21      1.962151  0.080812   8.604652  5.229758      ...       2.023939   \n",
      "22      1.917269  2.767934   6.149733  1.312910      ...       2.252322   \n",
      "23      1.657021  3.233160   8.565814  3.916850      ...       3.937994   \n",
      "24      2.365804  7.827175   9.849247  1.028447      ...       4.064040   \n",
      "25           NaN       NaN        NaN  2.253830      ...            NaN   \n",
      "26           NaN       NaN        NaN  1.838074      ...            NaN   \n",
      "27      2.620363  0.058548   8.983051  1.028447      ...       1.294117   \n",
      "28      3.643990  0.749568   6.981133  1.291029      ...       1.289198   \n",
      "29      2.023938  0.035822   7.567568  0.787746      ...       1.582915   \n",
      "...          ...       ...        ...       ...      ...            ...   \n",
      "114291       NaN       NaN        NaN  1.838075      ...            NaN   \n",
      "114292  1.825436  0.328563   8.838952  1.291029      ...       1.768827   \n",
      "114293  3.217159  0.055774   7.699531  1.291028      ...       1.264182   \n",
      "114294       NaN       NaN        NaN  2.494530      ...            NaN   \n",
      "114295  2.103190  1.300537   8.750001  5.492341      ...       2.203856   \n",
      "114296       NaN       NaN        NaN  2.341356      ...            NaN   \n",
      "114297  2.532499  0.171407  11.403508  1.291029      ...       2.478736   \n",
      "114298  2.402663  0.157079   8.333333  1.291028      ...       1.535509   \n",
      "114299  2.165847  2.424658  11.241831  3.785558      ...       3.343283   \n",
      "114300  2.382753  1.142149  10.191572  0.853392      ...       2.690302   \n",
      "114301       NaN       NaN        NaN  1.269147      ...            NaN   \n",
      "114302  2.772276  0.195443   8.904110  3.916848      ...       2.764127   \n",
      "114303       NaN       NaN        NaN  5.229760      ...            NaN   \n",
      "114304       NaN       NaN        NaN  1.312910      ...            NaN   \n",
      "114305  2.583565  1.756440   7.988165  5.229759      ...       1.804308   \n",
      "114306  3.510343  0.215781   8.632813  1.291027      ...       3.019086   \n",
      "114307       NaN       NaN        NaN  1.291029      ...            NaN   \n",
      "114308       NaN       NaN        NaN  2.297593      ...            NaN   \n",
      "114309       NaN       NaN        NaN  0.787747      ...            NaN   \n",
      "114310       NaN       NaN        NaN  1.312910      ...            NaN   \n",
      "114311       NaN       NaN        NaN  1.050329      ...            NaN   \n",
      "114312  1.905602  3.199958   9.625001  1.816192      ...       2.044654   \n",
      "114313  3.480826  2.208724   9.531914  2.625820      ...       1.919740   \n",
      "114314  2.459437  0.932377   9.210525  1.291029      ...       4.999999   \n",
      "114315       NaN       NaN        NaN  1.312909      ...            NaN   \n",
      "114316       NaN       NaN        NaN  1.444201      ...            NaN   \n",
      "114317       NaN       NaN        NaN  6.236324      ...            NaN   \n",
      "114318       NaN  0.323324        NaN  2.078775      ...            NaN   \n",
      "114319       NaN  0.309226        NaN  1.291029      ...            NaN   \n",
      "114320  2.826766  3.479754   9.629630  0.853391      ...       4.016948   \n",
      "\n",
      "            v122       v123          v124      v126      v127      v128  v129  \\\n",
      "0       8.000000   1.989780  3.575369e-02  1.804126  3.113719  2.024285     0   \n",
      "1            NaN        NaN  5.988956e-01       NaN       NaN  1.957825     0   \n",
      "2       9.333333   2.477596  1.345191e-02  1.773709  3.922193  1.120468     2   \n",
      "3       7.018256   1.812795  2.267384e-03  1.415230  2.954381  1.990847     1   \n",
      "4            NaN        NaN           NaN       NaN       NaN       NaN     0   \n",
      "5            NaN        NaN  4.986116e-02       NaN       NaN  1.536222     0   \n",
      "6       3.476299   1.992594  8.375832e-02  3.276100  1.623298  2.266575     0   \n",
      "7            NaN        NaN           NaN       NaN       NaN       NaN     0   \n",
      "8       8.148148   1.875560  1.865950e-02  1.159637  5.582865  1.105283     0   \n",
      "9       7.325843   4.896617  8.943653e-03  1.344550  1.601176  1.928009     0   \n",
      "10           NaN        NaN           NaN       NaN       NaN       NaN     0   \n",
      "11           NaN        NaN           NaN       NaN       NaN       NaN     0   \n",
      "12           NaN        NaN           NaN       NaN       NaN       NaN     0   \n",
      "13      8.817203   2.096062  5.459061e-07  1.731656  6.102516  1.388117     4   \n",
      "14      5.038168   1.836667  5.973979e-03  3.242128  0.818063  2.400050     0   \n",
      "15           NaN        NaN           NaN       NaN       NaN       NaN     0   \n",
      "16      6.086957   2.812624  2.474223e-01  1.865530  3.345960  0.796533     0   \n",
      "17           NaN        NaN           NaN       NaN       NaN       NaN     2   \n",
      "18           NaN        NaN           NaN       NaN       NaN       NaN     1   \n",
      "19           NaN        NaN           NaN       NaN       NaN       NaN     1   \n",
      "20      6.632125   2.419037  1.847926e-02  1.884567  2.602041  1.959776     1   \n",
      "21      5.968993   2.169826  4.919843e-03  1.460793  1.531375  1.964652     1   \n",
      "22      3.903742   3.401924  7.107372e-01  1.840384  3.779547  1.798435     0   \n",
      "23      6.404715  10.691157  3.065766e+00  1.813419  1.233628  0.626694     2   \n",
      "24      5.226130   5.259272  2.690857e+00  1.447090  2.559641  1.509052     0   \n",
      "25           NaN        NaN           NaN       NaN       NaN       NaN     0   \n",
      "26           NaN        NaN           NaN       NaN       NaN       NaN     0   \n",
      "27      7.796611   1.697821  7.351065e-03  1.491973  4.202842  1.306053     0   \n",
      "28      5.188680   1.788132  8.594683e-02  2.105971  0.524231  0.785667     0   \n",
      "29      5.585586   2.451680  6.640126e-03  1.442224  2.244287  2.373578     0   \n",
      "...          ...        ...           ...       ...       ...       ...   ...   \n",
      "114291       NaN        NaN           NaN       NaN       NaN       NaN     0   \n",
      "114292  7.116105   3.000683  9.536287e-02  1.528000  2.777432  1.985969     0   \n",
      "114293  6.478874   1.535538  1.466965e-01  2.781526  1.131032  2.950252     0   \n",
      "114294       NaN        NaN           NaN       NaN       NaN       NaN     0   \n",
      "114295  6.937500   3.171537  1.309991e+00  1.386343  2.880071  2.140204     2   \n",
      "114296       NaN        NaN           NaN       NaN       NaN       NaN     0   \n",
      "114297  9.122806   2.250368  4.670769e-02  1.527338  3.231824  1.246700     0   \n",
      "114298  6.666667   1.856606  9.564098e-03  1.586184  2.737578  2.785707     0   \n",
      "114299  6.339869   6.239218  3.054839e+00  1.291664  5.253692  1.026424     0   \n",
      "114300  8.505747   2.364559  6.571835e-01  1.380594  7.233358  1.495398     0   \n",
      "114301       NaN        NaN           NaN       NaN       NaN       NaN     0   \n",
      "114302  6.986301   2.601368  1.805020e-02  1.649315  3.818954  2.049363     1   \n",
      "114303       NaN        NaN           NaN       NaN       NaN       NaN     2   \n",
      "114304       NaN        NaN           NaN       NaN       NaN       NaN     0   \n",
      "114305  6.331360   1.345799  2.027626e-01  1.535785  2.950904  1.790912     1   \n",
      "114306  5.898438   3.043102  7.758699e-03  2.048144  3.214972  1.805540     0   \n",
      "114307       NaN        NaN           NaN       NaN       NaN       NaN     0   \n",
      "114308       NaN        NaN           NaN       NaN       NaN       NaN     0   \n",
      "114309       NaN        NaN           NaN       NaN       NaN       NaN     0   \n",
      "114310       NaN        NaN           NaN       NaN       NaN       NaN     0   \n",
      "114311       NaN        NaN           NaN       NaN       NaN       NaN     0   \n",
      "114312  7.437501   2.859732  3.258223e+00  0.958445  2.382003  1.601009     1   \n",
      "114313  8.170212   2.427557  5.664891e-01  2.091074  4.300331  1.738246     0   \n",
      "114314  6.842105  12.727869  5.673148e-01  1.660675  3.074295  1.383798     0   \n",
      "114315       NaN        NaN           NaN       NaN       NaN       NaN     0   \n",
      "114316       NaN        NaN           NaN       NaN       NaN       NaN     0   \n",
      "114317       NaN        NaN           NaN       NaN       NaN       NaN     1   \n",
      "114318       NaN        NaN  1.567642e-01       NaN       NaN  2.417606     2   \n",
      "114319       NaN        NaN  4.906576e-01       NaN       NaN  3.526650     0   \n",
      "114320  7.936508   2.944285  3.135205e+00  1.943149  4.385553  1.604493     0   \n",
      "\n",
      "            v130          v131  \n",
      "0       0.636365  2.857144e+00  \n",
      "1            NaN           NaN  \n",
      "2       0.883118  1.176472e+00  \n",
      "3       1.677108  1.034483e+00  \n",
      "4            NaN           NaN  \n",
      "5            NaN           NaN  \n",
      "6       2.263736  9.708730e-01  \n",
      "7            NaN           NaN  \n",
      "8       1.170731  3.333334e+00  \n",
      "9       3.174603  1.000000e+00  \n",
      "10           NaN           NaN  \n",
      "11           NaN           NaN  \n",
      "12           NaN           NaN  \n",
      "13      1.220911  1.878453e+00  \n",
      "14      1.166666  2.857143e+00  \n",
      "15           NaN           NaN  \n",
      "16      1.389474  6.060615e-01  \n",
      "17           NaN           NaN  \n",
      "18           NaN           NaN  \n",
      "19           NaN           NaN  \n",
      "20      1.121212  1.351351e+00  \n",
      "21      2.111675  1.346155e+00  \n",
      "22      1.986302  8.275852e-01  \n",
      "23      4.250001  2.422145e+00  \n",
      "24      3.260504  2.268042e+00  \n",
      "25           NaN           NaN  \n",
      "26           NaN           NaN  \n",
      "27      0.722892  6.666657e-01  \n",
      "28      0.603581  1.016950e+00  \n",
      "29      1.634408  3.157894e+00  \n",
      "...          ...           ...  \n",
      "114291       NaN           NaN  \n",
      "114292  1.639345  3.999997e-01  \n",
      "114293  0.800000  3.333334e+00  \n",
      "114294       NaN           NaN  \n",
      "114295  1.722846  1.043479e+00  \n",
      "114296       NaN           NaN  \n",
      "114297  1.581749  1.730770e+00  \n",
      "114298  1.049040  1.626015e+00  \n",
      "114299  2.615385  5.482204e-07  \n",
      "114300  1.511110  1.848739e+00  \n",
      "114301       NaN           NaN  \n",
      "114302  1.469388  2.222222e+00  \n",
      "114303       NaN           NaN  \n",
      "114304       NaN           NaN  \n",
      "114305  1.110512  1.553399e+00  \n",
      "114306  1.307412  1.933085e+00  \n",
      "114307       NaN           NaN  \n",
      "114308       NaN           NaN  \n",
      "114309       NaN           NaN  \n",
      "114310       NaN           NaN  \n",
      "114311       NaN           NaN  \n",
      "114312  1.851852  1.399999e+00  \n",
      "114313  0.855932  1.980199e+00  \n",
      "114314  2.958333  2.159624e+00  \n",
      "114315       NaN           NaN  \n",
      "114316       NaN           NaN  \n",
      "114317       NaN           NaN  \n",
      "114318       NaN           NaN  \n",
      "114319       NaN           NaN  \n",
      "114320  1.787610  1.386138e+00  \n",
      "\n",
      "[114321 rows x 113 columns]\n"
     ]
    }
   ],
   "source": [
    "#For logistic regression, let us take the numerical columns\n",
    "ndf = df.drop(['ID'] + l, axis= 1)\n",
    "print ndf"
   ]
  },
  {
   "cell_type": "code",
   "execution_count": 33,
   "metadata": {
    "collapsed": false
   },
   "outputs": [
    {
     "data": {
      "text/plain": [
       "(114321, 113)"
      ]
     },
     "execution_count": 33,
     "metadata": {},
     "output_type": "execute_result"
    }
   ],
   "source": [
    "ndf.shape"
   ]
  },
  {
   "cell_type": "code",
   "execution_count": 11,
   "metadata": {
    "collapsed": true
   },
   "outputs": [],
   "source": [
    "#use the dropna() to clean the data of NaN\n",
    "ndf1 = ndf.dropna()"
   ]
  },
  {
   "cell_type": "code",
   "execution_count": 35,
   "metadata": {
    "collapsed": false
   },
   "outputs": [
    {
     "data": {
      "text/plain": [
       "(62561, 113)"
      ]
     },
     "execution_count": 35,
     "metadata": {},
     "output_type": "execute_result"
    }
   ],
   "source": [
    "ndf1.shape"
   ]
  },
  {
   "cell_type": "code",
   "execution_count": 36,
   "metadata": {
    "collapsed": false
   },
   "outputs": [
    {
     "data": {
      "text/plain": [
       "Index([u'target', u'v1', u'v2', u'v4', u'v5', u'v6', u'v7', u'v8', u'v9',\n",
       "       u'v10',\n",
       "       ...\n",
       "       u'v121', u'v122', u'v123', u'v124', u'v126', u'v127', u'v128', u'v129',\n",
       "       u'v130', u'v131'],\n",
       "      dtype='object', length=113)"
      ]
     },
     "execution_count": 36,
     "metadata": {},
     "output_type": "execute_result"
    }
   ],
   "source": [
    "ndf1.columns"
   ]
  },
  {
   "cell_type": "code",
   "execution_count": 9,
   "metadata": {
    "collapsed": true
   },
   "outputs": [],
   "source": [
    "from sklearn.linear_model import LogisticRegression\n",
    "from sklearn.cross_validation import train_test_split\n",
    "from sklearn import metrics\n",
    "from sklearn.cross_validation import cross_val_score"
   ]
  },
  {
   "cell_type": "code",
   "execution_count": 12,
   "metadata": {
    "collapsed": false
   },
   "outputs": [],
   "source": [
    "y = ndf1['target'].values\n",
    "tcols = ndf1.columns[1:]\n",
    "X = ndf1[tcols]"
   ]
  },
  {
   "cell_type": "code",
   "execution_count": 62,
   "metadata": {
    "collapsed": false
   },
   "outputs": [
    {
     "name": "stdout",
     "output_type": "stream",
     "text": [
      "                  v1         v2        v4         v5        v6        v7  \\\n",
      "0       1.335739e+00   8.727474  3.921026   7.915266  2.599278  3.176895   \n",
      "2       9.438769e-01   5.310079  4.410969   5.326159  3.979592  3.928571   \n",
      "3       7.974146e-01   8.304757  4.225930  11.627438  2.097700  1.987549   \n",
      "6       8.998057e-01   7.312995  3.494148   9.946200  1.926070  1.770427   \n",
      "8       2.078651e+00   8.462619  3.739030   5.265636  1.573033  2.303371   \n",
      "9       1.144802e+00   5.880606  3.244469   9.538384  2.500001  1.559405   \n",
      "13      1.400267e+00   5.367204  4.122155   8.137188  2.983080  2.640249   \n",
      "14      2.260036e+00  14.693263  5.150750   8.554136  1.954626  2.931936   \n",
      "16      6.228961e-01   7.024732  4.193688   6.288177  2.132436  3.198654   \n",
      "20      9.438780e-01   5.927194  4.404372   9.045057  2.551021  2.693878   \n",
      "21      1.289841e+00   4.788645  4.283417  10.719571  3.107570  1.962151   \n",
      "22      7.288239e-01   4.073244  4.130054   9.032563  4.149705  1.917269   \n",
      "23      3.944563e+00   5.718516  2.205080   5.340648  2.010356  1.657021   \n",
      "24      4.045725e+00   3.992607  3.598096   7.946330  1.709742  2.365804   \n",
      "27      2.920282e-01  12.715811  4.999724   5.998656  2.020520  2.620363   \n",
      "28      5.172412e-01   8.528544  4.075372   5.726834  2.534949  3.643990   \n",
      "29      2.415670e+00  14.960392  4.356980   8.520510  2.132753  2.023938   \n",
      "30      1.687572e+00   6.791091  5.324003   8.627336  3.192703  3.705815   \n",
      "31      1.344477e+00   8.407346  4.465135  12.985878  2.529069  2.463663   \n",
      "33      1.146017e+00  12.791259  4.418159  10.564897  1.858407  2.734513   \n",
      "35      2.843810e+00   7.961986  4.372291   8.381346  2.305791  2.876751   \n",
      "36      1.191626e+00  10.970926  5.847383   9.791528  2.801932  2.383252   \n",
      "39      3.208092e+00   5.816441  4.847230   9.685057  3.057161  3.166345   \n",
      "46      9.129657e-01   5.813221  2.678874   6.442502  2.207268  2.498878   \n",
      "47      1.137462e+00   7.034556  4.314659   8.388429  3.583664  3.074220   \n",
      "52      2.239148e+00   7.446889  4.648736   8.446665  2.495827  2.207846   \n",
      "54      1.488601e+00   7.036058  3.351333   5.151311  1.662942  2.641931   \n",
      "56      1.694010e+00  10.867932  3.405727   6.778750  2.350249  2.296834   \n",
      "58     -1.139210e-07   7.372868  5.440373   5.884331  2.870813  2.679426   \n",
      "61      1.441090e+00   9.254693  5.036438   9.071958  2.687439  2.590069   \n",
      "...              ...        ...       ...        ...       ...       ...   \n",
      "114264  2.251705e+00   3.716584  1.683169   8.422369  1.626096  2.044791   \n",
      "114265  1.120242e+00   9.480589  4.698203  10.116103  2.906574  2.205883   \n",
      "114267  3.958847e+00   5.805206  5.027716   5.211835  2.995885  3.506173   \n",
      "114268  1.253884e+00   5.490411  4.611029  10.085885  2.699803  2.485174   \n",
      "114271  1.320419e+00   9.125566  3.882931  12.259584  2.946724  2.758094   \n",
      "114273  5.138889e+00   8.676738  4.572937   7.404170  2.777779  3.611112   \n",
      "114274  1.504244e+00   5.558658  3.411558  10.221924  3.161546  1.520985   \n",
      "114275  2.241858e+00   7.236372  3.535549   7.202643  2.393335  2.110579   \n",
      "114277  1.564288e+00   7.833548  4.027623   9.208258  2.586421  2.765481   \n",
      "114279  1.014046e+00   8.599026  3.681181   8.944182  2.069201  2.514559   \n",
      "114280  1.635962e+00   4.887131  3.147255   6.503026  2.476050  2.019160   \n",
      "114283  1.341701e+00   8.968096  3.836037   9.600476  1.874477  2.192470   \n",
      "114284  9.019983e-01  13.017757  4.530519   9.816469  3.373963  4.573379   \n",
      "114286  1.137063e+00   4.454929  3.810066   8.742417  2.347880  2.286418   \n",
      "114287  3.641732e+00   4.050464  2.373330   9.301708  1.867266  2.075365   \n",
      "114290  2.614841e+00   5.926864  3.484237   7.855552  1.696112  2.588340   \n",
      "114292  2.768086e-01   7.055455  3.823010   9.619069  2.194513  1.825436   \n",
      "114293  1.983914e+00  11.296659  6.459140   9.193006  1.849866  3.217159   \n",
      "114295  8.743610e-01   8.529843  4.391163   9.575062  2.646711  2.103190   \n",
      "114297  1.603274e+00  11.493653  4.328798   8.055434  1.848820  2.532499   \n",
      "114298  9.477454e-01   8.941986  4.578888  14.882313  2.868852  2.402663   \n",
      "114299  9.688237e-07   6.163454  3.502739   7.202643  1.741765  2.165847   \n",
      "114300  1.539335e+00   4.845475  4.445304   8.605211  1.906204  2.382753   \n",
      "114302  2.093352e+00   5.696141  5.105297   8.836584  2.734559  2.772276   \n",
      "114305  1.030641e+00  13.003754  4.512371   8.928965  2.548746  2.583565   \n",
      "114306  2.051611e+00   8.259554  4.466166  11.291191  2.269140  3.510343   \n",
      "114312  1.142478e+00   8.477138  3.827255   8.539653  2.276136  1.905602   \n",
      "114313  1.364308e+00   9.621454  4.342517   8.648951  2.772861  3.480826   \n",
      "114314  3.633647e+00   3.052302  2.055147   7.770079  1.929975  2.459437   \n",
      "114320  1.619763e+00   7.932978  4.640085   8.473141  2.351470  2.826766   \n",
      "\n",
      "               v8         v9       v10        v11      ...           v121  \\\n",
      "0        0.012941   9.999999  0.503281  16.434108      ...       0.803572   \n",
      "2        0.019645  12.666667  0.765864  14.756098      ...       2.238806   \n",
      "3        0.171947   8.965516  6.542669  16.347483      ...       1.956521   \n",
      "6        0.066251   5.011287  2.341356  16.274510      ...       2.232558   \n",
      "8        0.015869  11.111111  4.463894  16.050955      ...       1.276595   \n",
      "9        0.412610   9.977529  2.363238  16.091401      ...       2.715964   \n",
      "13       0.211851  11.021506  1.816193  15.594521      ...       2.314931   \n",
      "14       0.041446   7.022901  1.291029  15.837937      ...       1.505377   \n",
      "16       0.407525  10.434782  1.312909  15.545978      ...       2.515245   \n",
      "20       0.085665   8.601036  3.916848  16.280552      ...       1.840490   \n",
      "21       0.080812   8.604652  5.229758  16.275460      ...       2.023939   \n",
      "22       2.767934   6.149733  1.312910  15.997013      ...       2.252322   \n",
      "23       3.233160   8.565814  3.916850  15.287499      ...       3.937994   \n",
      "24       7.827175   9.849247  1.028447  14.785766      ...       4.064040   \n",
      "27       0.058548   8.983051  1.028447  16.075732      ...       1.294117   \n",
      "28       0.749568   6.981133  1.291029  15.906434      ...       1.289198   \n",
      "29       0.035822   7.567568  0.787746  16.403509      ...       1.582915   \n",
      "30       2.244315   3.661486  2.603939  14.170715      ...       1.095652   \n",
      "31       0.128729  10.208333  1.050329  16.003086      ...       2.222222   \n",
      "33       0.094138  10.399999  1.553610  15.397890      ...       2.032710   \n",
      "35       1.231511  11.198043  1.050328  14.515491      ...       3.707864   \n",
      "36       0.048224   8.176101  2.603940  15.705129      ...       1.381958   \n",
      "39       0.478861  10.555556  1.291029  15.101696      ...       3.359529   \n",
      "46       0.178264   8.417391  2.603940  15.723830      ...       3.575482   \n",
      "47       3.891209   6.724891  0.765865  15.441696      ...       3.179012   \n",
      "52       6.072122   7.601010  3.172867  15.052324      ...       1.762902   \n",
      "54       0.214163  10.830451  1.466083  14.977444      ...       2.284883   \n",
      "56       0.115477  10.845071  1.838075  15.314494      ...       3.734569   \n",
      "58       0.009244  11.333333  4.967178  13.529413      ...       2.432432   \n",
      "61       0.041831   9.615385  1.291028  15.559846      ...       1.604651   \n",
      "...           ...        ...       ...        ...      ...            ...   \n",
      "114264   4.557423   7.925118  1.291029  14.959261      ...       5.606972   \n",
      "114265   0.547578   5.858585  1.312911  16.258065      ...       1.301652   \n",
      "114267   0.056699   8.048781  0.503282  14.892602      ...       2.727274   \n",
      "114268   0.324942   9.081080  0.437637  16.006768      ...       2.021822   \n",
      "114271   0.173025   7.949259  0.765863  15.810675      ...       2.098400   \n",
      "114273   0.003313   3.999999  0.984683  15.151515      ...       1.200000   \n",
      "114274   0.422162  11.913530  2.122538  15.579666      ...       1.430667   \n",
      "114275   2.424657   9.306931  0.503282  15.444729      ...       2.710281   \n",
      "114277   0.301445   8.263254  1.291028  14.779249      ...       2.274226   \n",
      "114279   0.123413   9.865771  2.363239  15.297906      ...       2.351351   \n",
      "114280   0.058239   7.394958  1.291028  16.772047      ...       2.864865   \n",
      "114283   0.309456   9.004975  5.295404  15.914599      ...       1.793479   \n",
      "114284   0.342352   9.042553  1.291028  14.188034      ...       1.980677   \n",
      "114286   0.945781   9.139784  1.050329  15.793814      ...       2.324562   \n",
      "114287  10.075573   7.976012  1.028447  14.782147      ...       4.892947   \n",
      "114290   0.990848  10.294117  0.722101  13.781512      ...       4.539006   \n",
      "114292   0.328563   8.838952  1.291029  16.220960      ...       1.768827   \n",
      "114293   0.055774   7.699531  1.291028  14.864865      ...       1.264182   \n",
      "114295   1.300537   8.750001  5.492341  15.965599      ...       2.203856   \n",
      "114297   0.171407  11.403508  1.291029  15.582821      ...       2.478736   \n",
      "114298   0.157079   8.333333  1.291028  16.230599      ...       1.535509   \n",
      "114299   2.424658  11.241831  3.785558  14.826388      ...       3.343283   \n",
      "114300   1.142149  10.191572  0.853392  15.514834      ...       2.690302   \n",
      "114302   0.195443   8.904110  3.916848  15.489583      ...       2.764127   \n",
      "114305   1.756440   7.988165  5.229759  15.684456      ...       1.804308   \n",
      "114306   0.215781   8.632813  1.291027  15.464646      ...       3.019086   \n",
      "114312   3.199958   9.625001  1.816192  14.910537      ...       2.044654   \n",
      "114313   2.208724   9.531914  2.625820  13.638479      ...       1.919740   \n",
      "114314   0.932377   9.210525  1.291029  15.302491      ...       4.999999   \n",
      "114320   3.479754   9.629630  0.853391  14.959786      ...       4.016948   \n",
      "\n",
      "                v122       v123          v124      v126      v127      v128  \\\n",
      "0       8.000000e+00   1.989780  3.575369e-02  1.804126  3.113719  2.024285   \n",
      "2       9.333333e+00   2.477596  1.345191e-02  1.773709  3.922193  1.120468   \n",
      "3       7.018256e+00   1.812795  2.267384e-03  1.415230  2.954381  1.990847   \n",
      "6       3.476299e+00   1.992594  8.375832e-02  3.276100  1.623298  2.266575   \n",
      "8       8.148148e+00   1.875560  1.865950e-02  1.159637  5.582865  1.105283   \n",
      "9       7.325843e+00   4.896617  8.943653e-03  1.344550  1.601176  1.928009   \n",
      "13      8.817203e+00   2.096062  5.459061e-07  1.731656  6.102516  1.388117   \n",
      "14      5.038168e+00   1.836667  5.973979e-03  3.242128  0.818063  2.400050   \n",
      "16      6.086957e+00   2.812624  2.474223e-01  1.865530  3.345960  0.796533   \n",
      "20      6.632125e+00   2.419037  1.847926e-02  1.884567  2.602041  1.959776   \n",
      "21      5.968993e+00   2.169826  4.919843e-03  1.460793  1.531375  1.964652   \n",
      "22      3.903742e+00   3.401924  7.107372e-01  1.840384  3.779547  1.798435   \n",
      "23      6.404715e+00  10.691157  3.065766e+00  1.813419  1.233628  0.626694   \n",
      "24      5.226130e+00   5.259272  2.690857e+00  1.447090  2.559641  1.509052   \n",
      "27      7.796611e+00   1.697821  7.351065e-03  1.491973  4.202842  1.306053   \n",
      "28      5.188680e+00   1.788132  8.594683e-02  2.105971  0.524231  0.785667   \n",
      "29      5.585586e+00   2.451680  6.640126e-03  1.442224  2.244287  2.373578   \n",
      "30      2.970639e+00   1.333660  1.936764e+00  2.861548  3.944556  1.693105   \n",
      "31      6.944445e+00   3.075865  5.855029e-03  1.413263  2.820676  1.792861   \n",
      "33      7.999999e+00   1.562414  1.888084e-02  1.384436  3.584070  1.509889   \n",
      "35      7.726161e+00   3.504017  7.787637e-01  1.300218  4.343947  1.496514   \n",
      "36      6.415094e+00   1.437241  1.496594e-01  1.522006  2.324880  4.142197   \n",
      "39      7.777777e+00   3.316988  1.399001e-01  1.667623  4.841040  2.220875   \n",
      "46      5.565218e+00   3.851907  9.659900e-03  1.983686  2.405787  0.988248   \n",
      "47      5.764191e+00   3.178254  2.593745e+00  1.517235  3.524374  1.467812   \n",
      "52      6.136364e+00   2.478206  7.409382e+00  1.614179  4.139712  1.551688   \n",
      "54      7.750866e+00   3.141291 -8.541137e-07  1.772620  3.394613  1.066689   \n",
      "56      8.169013e+00   3.508524  1.355880e-02  1.500479  5.537009  1.007058   \n",
      "58      1.000000e+01   2.546798  3.038173e-02  1.351498  4.665072  1.272196   \n",
      "61      7.307691e+00   2.055208  6.748848e-03  1.502127  2.300389  2.820400   \n",
      "...              ...        ...           ...       ...       ...       ...   \n",
      "114264  5.179407e+00  12.479993  2.977296e+00  1.851213  1.323637  1.516576   \n",
      "114265  4.848485e+00   2.209799  6.681230e-01  1.832590  0.421713  2.785987   \n",
      "114267  4.878049e+00   2.276232  1.620491e-01  2.074436  5.864197  1.091767   \n",
      "114268  6.972973e+00   2.111834  6.299801e-02  1.435847  2.319260  2.441988   \n",
      "114271  6.004228e+00   1.883754  2.070685e-02  1.716967  2.705200  1.951834   \n",
      "114273 -1.702764e-07   0.523599  1.810554e-03  0.603554  4.687500  1.792027   \n",
      "114274  1.098479e+01   1.823270  6.230207e-02  1.083410  0.977521  2.573652   \n",
      "114275  8.396039e+00   4.286475  3.054838e+00  1.332968  3.465034  1.026423   \n",
      "114277  6.946983e+00   2.686456  1.052340e-01  1.972319  4.485823  1.708430   \n",
      "114279  7.248322e+00   3.024795  3.363180e-02  1.667372  3.764132  1.643085   \n",
      "114280  5.210084e+00   2.294927  2.406959e-02  1.296951  3.620118  1.460847   \n",
      "114283  7.164179e+00   2.278786  2.765431e-01  1.472773  3.441422  1.994746   \n",
      "114284  6.702127e+00   2.099075  1.605039e-02  2.012827  3.711604  2.138812   \n",
      "114286  6.505376e+00   3.173352  1.734022e-01  1.976482  3.134603  1.644758   \n",
      "114287  5.007495e+00   6.746224  5.221416e+00  1.704751  0.590552  1.983322   \n",
      "114290  7.352942e+00   7.697697  8.530225e-01  1.334003  3.229903  1.305495   \n",
      "114292  7.116105e+00   3.000683  9.536287e-02  1.528000  2.777432  1.985969   \n",
      "114293  6.478874e+00   1.535538  1.466965e-01  2.781526  1.131032  2.950252   \n",
      "114295  6.937500e+00   3.171537  1.309991e+00  1.386343  2.880071  2.140204   \n",
      "114297  9.122806e+00   2.250368  4.670769e-02  1.527338  3.231824  1.246700   \n",
      "114298  6.666667e+00   1.856606  9.564098e-03  1.586184  2.737578  2.785707   \n",
      "114299  6.339869e+00   6.239218  3.054839e+00  1.291664  5.253692  1.026424   \n",
      "114300  8.505747e+00   2.364559  6.571835e-01  1.380594  7.233358  1.495398   \n",
      "114302  6.986301e+00   2.601368  1.805020e-02  1.649315  3.818954  2.049363   \n",
      "114305  6.331360e+00   1.345799  2.027626e-01  1.535785  2.950904  1.790912   \n",
      "114306  5.898438e+00   3.043102  7.758699e-03  2.048144  3.214972  1.805540   \n",
      "114312  7.437501e+00   2.859732  3.258223e+00  0.958445  2.382003  1.601009   \n",
      "114313  8.170212e+00   2.427557  5.664891e-01  2.091074  4.300331  1.738246   \n",
      "114314  6.842105e+00  12.727869  5.673148e-01  1.660675  3.074295  1.383798   \n",
      "114320  7.936508e+00   2.944285  3.135205e+00  1.943149  4.385553  1.604493   \n",
      "\n",
      "        v129      v130          v131  \n",
      "0          0  0.636365  2.857144e+00  \n",
      "2          2  0.883118  1.176472e+00  \n",
      "3          1  1.677108  1.034483e+00  \n",
      "6          0  2.263736  9.708730e-01  \n",
      "8          0  1.170731  3.333334e+00  \n",
      "9          0  3.174603  1.000000e+00  \n",
      "13         4  1.220911  1.878453e+00  \n",
      "14         0  1.166666  2.857143e+00  \n",
      "16         0  1.389474  6.060615e-01  \n",
      "20         1  1.121212  1.351351e+00  \n",
      "21         1  2.111675  1.346155e+00  \n",
      "22         0  1.986302  8.275852e-01  \n",
      "23         2  4.250001  2.422145e+00  \n",
      "24         0  3.260504  2.268042e+00  \n",
      "27         0  0.722892  6.666657e-01  \n",
      "28         0  0.603581  1.016950e+00  \n",
      "29         0  1.634408  3.157894e+00  \n",
      "30         2  0.480001  4.102564e+00  \n",
      "31         0  1.651917  1.428571e+00  \n",
      "33         1  1.190938  1.521738e+00  \n",
      "35         0  1.931298  2.213438e+00  \n",
      "36         1  1.135135  1.904762e+00  \n",
      "39         0  1.476673  2.967033e+00  \n",
      "46         1  2.175942  7.260725e-01  \n",
      "47         0  1.371428  1.166666e+00  \n",
      "52         0  1.519849  2.885573e+00  \n",
      "54         0  1.610829  1.512605e+00  \n",
      "56         0  2.259136  1.411765e+00  \n",
      "58         1  1.142857  3.845921e-07  \n",
      "61         0  1.172933  2.051283e+00  \n",
      "...      ...       ...           ...  \n",
      "114264     1  4.019047  1.184833e+00  \n",
      "114265     0  1.003922  2.187500e+00  \n",
      "114267     0  1.126760  4.333333e+00  \n",
      "114268     1  1.418181  1.538462e+00  \n",
      "114271     0  1.316080  1.573034e+00  \n",
      "114273     0  0.923078  6.666667e+00  \n",
      "114274     1  1.805032  2.369338e+00  \n",
      "114275     1  1.837321  2.499999e+00  \n",
      "114277     0  1.201440  2.035927e+00  \n",
      "114279     0  1.460490  1.194031e+00  \n",
      "114280     0  2.072993  1.690140e+00  \n",
      "114283     1  1.404581  1.884057e+00  \n",
      "114284     0  0.579957  1.470588e+00  \n",
      "114286     0  1.774193  1.212122e+00  \n",
      "114287     0  4.260164  1.781171e+00  \n",
      "114290     0  2.648464  1.649484e+00  \n",
      "114292     0  1.639345  3.999997e-01  \n",
      "114293     0  0.800000  3.333334e+00  \n",
      "114295     2  1.722846  1.043479e+00  \n",
      "114297     0  1.581749  1.730770e+00  \n",
      "114298     0  1.049040  1.626015e+00  \n",
      "114299     0  2.615385  5.482204e-07  \n",
      "114300     0  1.511110  1.848739e+00  \n",
      "114302     1  1.469388  2.222222e+00  \n",
      "114305     1  1.110512  1.553399e+00  \n",
      "114306     0  1.307412  1.933085e+00  \n",
      "114312     1  1.851852  1.399999e+00  \n",
      "114313     0  0.855932  1.980199e+00  \n",
      "114314     0  2.958333  2.159624e+00  \n",
      "114320     0  1.787610  1.386138e+00  \n",
      "\n",
      "[62561 rows x 112 columns]\n"
     ]
    }
   ],
   "source": [
    "print X"
   ]
  },
  {
   "cell_type": "code",
   "execution_count": 13,
   "metadata": {
    "collapsed": false
   },
   "outputs": [
    {
     "name": "stdout",
     "output_type": "stream",
     "text": [
      "The score of the model:  0.755071050655\n"
     ]
    }
   ],
   "source": [
    "# instantiate a logistic regression model\n",
    "model = LogisticRegression()\n",
    "model = model.fit(X, y)\n",
    "print \"The score of the model: \", model.score(X,y)"
   ]
  },
  {
   "cell_type": "code",
   "execution_count": 34,
   "metadata": {
    "collapsed": false
   },
   "outputs": [
    {
     "data": {
      "text/plain": [
       "47172"
      ]
     },
     "execution_count": 34,
     "metadata": {},
     "output_type": "execute_result"
    }
   ],
   "source": [
    "#number of approvals in the test set\n",
    "np.count_nonzero(y)"
   ]
  },
  {
   "cell_type": "code",
   "execution_count": 37,
   "metadata": {
    "collapsed": false
   },
   "outputs": [
    {
     "data": {
      "text/plain": [
       "0.7540160803056217"
      ]
     },
     "execution_count": 37,
     "metadata": {},
     "output_type": "execute_result"
    }
   ],
   "source": [
    "#percent approvals in the train set\n",
    "47172/62561.0"
   ]
  },
  {
   "cell_type": "code",
   "execution_count": 19,
   "metadata": {
    "collapsed": false
   },
   "outputs": [
    {
     "name": "stdout",
     "output_type": "stream",
     "text": [
      "        0                    1\n",
      "0      v1   [-0.0347372239846]\n",
      "1      v2   [0.00361572242115]\n",
      "2      v4     [0.022631465459]\n",
      "3      v5    [0.0483793923648]\n",
      "4      v6    [0.0600755979019]\n",
      "5      v7    [-0.147280730853]\n",
      "6      v8    [0.0904940575263]\n",
      "7      v9     [0.198005606464]\n",
      "8     v10    [0.0158227891609]\n",
      "9     v11    [-0.512219588172]\n",
      "10    v12     [-0.19005836761]\n",
      "11    v13    [0.0529253100797]\n",
      "12    v14     [0.127779925454]\n",
      "13    v15   [-0.0172715942818]\n",
      "14    v16   [-0.0647431683163]\n",
      "15    v17   [-0.0861380528026]\n",
      "16    v18      [0.05411504053]\n",
      "17    v19    [0.0895125801892]\n",
      "18    v20    [-0.146600041391]\n",
      "19    v21   [-0.0497434878383]\n",
      "20    v23   [0.00454297841148]\n",
      "21    v25    [0.0139051286454]\n",
      "22    v26    [-0.215921080902]\n",
      "23    v27   [-0.0124597473589]\n",
      "24    v28   [-0.0119265286195]\n",
      "25    v29    [-0.288914422739]\n",
      "26    v32   [0.00295430600283]\n",
      "27    v33     [0.216142001059]\n",
      "28    v34     [0.146615407904]\n",
      "29    v35    [0.0235149256078]\n",
      "..    ...                  ...\n",
      "82    v97    [0.0199095286596]\n",
      "83    v98    [0.0503325133097]\n",
      "84    v99    [0.0318820820423]\n",
      "85   v100    [0.0271302595899]\n",
      "86   v101   [0.00264543602631]\n",
      "87   v102    [0.0158930900913]\n",
      "88   v103   [-0.0999680253235]\n",
      "89   v104     [-0.16263717684]\n",
      "90   v105   [-0.0464913895277]\n",
      "91   v106   [-0.0394225568564]\n",
      "92   v108   [-0.0655638549467]\n",
      "93   v109    [0.0317031355809]\n",
      "94   v111   [0.00504612346541]\n",
      "95   v114    [-0.210155108676]\n",
      "96   v115    [0.0323349042877]\n",
      "97   v116     [0.376739394087]\n",
      "98   v117   [-0.0058301399168]\n",
      "99   v118  [-0.00933137864178]\n",
      "100  v119  [-0.00402389912563]\n",
      "101  v120     [0.330625065468]\n",
      "102  v121    [0.0315286079832]\n",
      "103  v122    [-0.160000262962]\n",
      "104  v123  [-0.00850877855791]\n",
      "105  v124  [-0.00120167360747]\n",
      "106  v126     [-0.24046724233]\n",
      "107  v127   [0.00275839404375]\n",
      "108  v128    [0.0363264300354]\n",
      "109  v129     [0.211939956933]\n",
      "110  v130     [0.010338078093]\n",
      "111  v131   [0.00443513574457]\n",
      "\n",
      "[112 rows x 2 columns]\n"
     ]
    }
   ],
   "source": [
    "#lets examine the co-efficients\n",
    "h = pd.DataFrame(zip(X.columns, np.transpose(model.coef_)))\n",
    "print h\n",
    "\n"
   ]
  },
  {
   "cell_type": "code",
   "execution_count": null,
   "metadata": {
    "collapsed": false
   },
   "outputs": [],
   "source": []
  },
  {
   "cell_type": "code",
   "execution_count": null,
   "metadata": {
    "collapsed": true
   },
   "outputs": [],
   "source": []
  },
  {
   "cell_type": "markdown",
   "metadata": {},
   "source": [
    "### lets prepare the test set data\n"
   ]
  },
  {
   "cell_type": "code",
   "execution_count": 20,
   "metadata": {
    "collapsed": true
   },
   "outputs": [],
   "source": [
    "#lets take a look at the test sets\n",
    "df1 = pd.read_csv('/Users/Debjani/Downloads/test_capstone.csv')"
   ]
  },
  {
   "cell_type": "code",
   "execution_count": 76,
   "metadata": {
    "collapsed": false
   },
   "outputs": [
    {
     "data": {
      "text/html": [
       "<div>\n",
       "<table border=\"1\" class=\"dataframe\">\n",
       "  <thead>\n",
       "    <tr style=\"text-align: right;\">\n",
       "      <th></th>\n",
       "      <th>ID</th>\n",
       "      <th>v1</th>\n",
       "      <th>v2</th>\n",
       "      <th>v3</th>\n",
       "      <th>v4</th>\n",
       "      <th>v5</th>\n",
       "      <th>v6</th>\n",
       "      <th>v7</th>\n",
       "      <th>v8</th>\n",
       "      <th>v9</th>\n",
       "      <th>...</th>\n",
       "      <th>v122</th>\n",
       "      <th>v123</th>\n",
       "      <th>v124</th>\n",
       "      <th>v125</th>\n",
       "      <th>v126</th>\n",
       "      <th>v127</th>\n",
       "      <th>v128</th>\n",
       "      <th>v129</th>\n",
       "      <th>v130</th>\n",
       "      <th>v131</th>\n",
       "    </tr>\n",
       "  </thead>\n",
       "  <tbody>\n",
       "    <tr>\n",
       "      <th>0</th>\n",
       "      <td>0</td>\n",
       "      <td>1.375465e+00</td>\n",
       "      <td>11.361141</td>\n",
       "      <td>C</td>\n",
       "      <td>4.200778</td>\n",
       "      <td>6.57700</td>\n",
       "      <td>2.081784</td>\n",
       "      <td>1.784386</td>\n",
       "      <td>0.011094</td>\n",
       "      <td>9.523810</td>\n",
       "      <td>...</td>\n",
       "      <td>7.619048</td>\n",
       "      <td>1.815241</td>\n",
       "      <td>1.112270e-07</td>\n",
       "      <td>AF</td>\n",
       "      <td>1.292368</td>\n",
       "      <td>3.903345</td>\n",
       "      <td>1.485925</td>\n",
       "      <td>0</td>\n",
       "      <td>2.333334</td>\n",
       "      <td>1.428572e+00</td>\n",
       "    </tr>\n",
       "    <tr>\n",
       "      <th>1</th>\n",
       "      <td>1</td>\n",
       "      <td>NaN</td>\n",
       "      <td>NaN</td>\n",
       "      <td>C</td>\n",
       "      <td>NaN</td>\n",
       "      <td>NaN</td>\n",
       "      <td>NaN</td>\n",
       "      <td>NaN</td>\n",
       "      <td>NaN</td>\n",
       "      <td>NaN</td>\n",
       "      <td>...</td>\n",
       "      <td>NaN</td>\n",
       "      <td>NaN</td>\n",
       "      <td>NaN</td>\n",
       "      <td>I</td>\n",
       "      <td>NaN</td>\n",
       "      <td>NaN</td>\n",
       "      <td>NaN</td>\n",
       "      <td>0</td>\n",
       "      <td>NaN</td>\n",
       "      <td>NaN</td>\n",
       "    </tr>\n",
       "    <tr>\n",
       "      <th>2</th>\n",
       "      <td>2</td>\n",
       "      <td>-4.903407e-07</td>\n",
       "      <td>8.201529</td>\n",
       "      <td>C</td>\n",
       "      <td>4.544371</td>\n",
       "      <td>6.55010</td>\n",
       "      <td>1.558442</td>\n",
       "      <td>2.467532</td>\n",
       "      <td>0.007164</td>\n",
       "      <td>7.142858</td>\n",
       "      <td>...</td>\n",
       "      <td>5.714286</td>\n",
       "      <td>1.970928</td>\n",
       "      <td>1.412265e-02</td>\n",
       "      <td>AV</td>\n",
       "      <td>1.128724</td>\n",
       "      <td>5.844156</td>\n",
       "      <td>1.475892</td>\n",
       "      <td>0</td>\n",
       "      <td>1.263157</td>\n",
       "      <td>-6.380022e-07</td>\n",
       "    </tr>\n",
       "    <tr>\n",
       "      <th>3</th>\n",
       "      <td>7</td>\n",
       "      <td>2.661870e+00</td>\n",
       "      <td>3.041241</td>\n",
       "      <td>C</td>\n",
       "      <td>1.657216</td>\n",
       "      <td>9.77308</td>\n",
       "      <td>2.078337</td>\n",
       "      <td>1.430855</td>\n",
       "      <td>1.252157</td>\n",
       "      <td>7.959596</td>\n",
       "      <td>...</td>\n",
       "      <td>4.404040</td>\n",
       "      <td>8.163614</td>\n",
       "      <td>1.100329e+00</td>\n",
       "      <td>B</td>\n",
       "      <td>1.988688</td>\n",
       "      <td>1.558753</td>\n",
       "      <td>2.448814</td>\n",
       "      <td>0</td>\n",
       "      <td>5.385474</td>\n",
       "      <td>1.493777e+00</td>\n",
       "    </tr>\n",
       "    <tr>\n",
       "      <th>4</th>\n",
       "      <td>10</td>\n",
       "      <td>1.252822e+00</td>\n",
       "      <td>11.283352</td>\n",
       "      <td>C</td>\n",
       "      <td>4.638388</td>\n",
       "      <td>8.52051</td>\n",
       "      <td>2.302484</td>\n",
       "      <td>3.510159</td>\n",
       "      <td>0.074263</td>\n",
       "      <td>7.612904</td>\n",
       "      <td>...</td>\n",
       "      <td>6.580644</td>\n",
       "      <td>1.325654</td>\n",
       "      <td>2.584588e-01</td>\n",
       "      <td>A</td>\n",
       "      <td>1.863796</td>\n",
       "      <td>2.666478</td>\n",
       "      <td>2.374275</td>\n",
       "      <td>0</td>\n",
       "      <td>0.681672</td>\n",
       "      <td>2.264151e+00</td>\n",
       "    </tr>\n",
       "  </tbody>\n",
       "</table>\n",
       "<p>5 rows × 132 columns</p>\n",
       "</div>"
      ],
      "text/plain": [
       "   ID            v1         v2 v3        v4       v5        v6        v7  \\\n",
       "0   0  1.375465e+00  11.361141  C  4.200778  6.57700  2.081784  1.784386   \n",
       "1   1           NaN        NaN  C       NaN      NaN       NaN       NaN   \n",
       "2   2 -4.903407e-07   8.201529  C  4.544371  6.55010  1.558442  2.467532   \n",
       "3   7  2.661870e+00   3.041241  C  1.657216  9.77308  2.078337  1.430855   \n",
       "4  10  1.252822e+00  11.283352  C  4.638388  8.52051  2.302484  3.510159   \n",
       "\n",
       "         v8        v9      ...           v122      v123          v124  v125  \\\n",
       "0  0.011094  9.523810      ...       7.619048  1.815241  1.112270e-07    AF   \n",
       "1       NaN       NaN      ...            NaN       NaN           NaN     I   \n",
       "2  0.007164  7.142858      ...       5.714286  1.970928  1.412265e-02    AV   \n",
       "3  1.252157  7.959596      ...       4.404040  8.163614  1.100329e+00     B   \n",
       "4  0.074263  7.612904      ...       6.580644  1.325654  2.584588e-01     A   \n",
       "\n",
       "       v126      v127      v128  v129      v130          v131  \n",
       "0  1.292368  3.903345  1.485925     0  2.333334  1.428572e+00  \n",
       "1       NaN       NaN       NaN     0       NaN           NaN  \n",
       "2  1.128724  5.844156  1.475892     0  1.263157 -6.380022e-07  \n",
       "3  1.988688  1.558753  2.448814     0  5.385474  1.493777e+00  \n",
       "4  1.863796  2.666478  2.374275     0  0.681672  2.264151e+00  \n",
       "\n",
       "[5 rows x 132 columns]"
      ]
     },
     "execution_count": 76,
     "metadata": {},
     "output_type": "execute_result"
    }
   ],
   "source": [
    "df1.head()"
   ]
  },
  {
   "cell_type": "code",
   "execution_count": 93,
   "metadata": {
    "collapsed": false
   },
   "outputs": [
    {
     "data": {
      "text/plain": [
       "Index([u'ID', u'v1', u'v2', u'v3', u'v4', u'v5', u'v6', u'v7', u'v8', u'v9',\n",
       "       ...\n",
       "       u'v122', u'v123', u'v124', u'v125', u'v126', u'v127', u'v128', u'v129',\n",
       "       u'v130', u'v131'],\n",
       "      dtype='object', length=132)"
      ]
     },
     "execution_count": 93,
     "metadata": {},
     "output_type": "execute_result"
    }
   ],
   "source": [
    "df1.columns"
   ]
  },
  {
   "cell_type": "code",
   "execution_count": 94,
   "metadata": {
    "collapsed": false
   },
   "outputs": [
    {
     "data": {
      "text/plain": [
       "(114321, 133)"
      ]
     },
     "execution_count": 94,
     "metadata": {},
     "output_type": "execute_result"
    }
   ],
   "source": [
    "df.shape"
   ]
  },
  {
   "cell_type": "code",
   "execution_count": 95,
   "metadata": {
    "collapsed": false
   },
   "outputs": [
    {
     "name": "stdout",
     "output_type": "stream",
     "text": [
      "<class 'pandas.core.frame.DataFrame'>\n",
      "RangeIndex: 114321 entries, 0 to 114320\n",
      "Columns: 133 entries, ID to v131\n",
      "dtypes: float64(108), int64(6), object(19)\n",
      "memory usage: 116.0+ MB\n"
     ]
    }
   ],
   "source": [
    "df.info()"
   ]
  },
  {
   "cell_type": "code",
   "execution_count": 21,
   "metadata": {
    "collapsed": false
   },
   "outputs": [
    {
     "name": "stdout",
     "output_type": "stream",
     "text": [
      "  v3   v22 v24  v30 v31 v47 v52 v56 v66 v71 v74 v75 v79 v91 v107 v110 v112  \\\n",
      "0  C  AFPB   E  NaN   A   J   C  AF   A   F   B   D   Q   B    B    A    U   \n",
      "1  C   FOG   D    A   A   C   A  DI   C   F   B   D   E   C    D    B    E   \n",
      "2  C   HXZ   B    C   A   I   A  DO   C   F   B   D   C   C    D    A    Q   \n",
      "\n",
      "  v113 v125  \n",
      "0  NaN   AF  \n",
      "1  NaN    I  \n",
      "2   AJ   AV  \n"
     ]
    }
   ],
   "source": [
    "#the columns that are of categorical variable type\n",
    "dfst = df1.loc[:, df.dtypes == np.object]\n",
    "print dfst.head(3)"
   ]
  },
  {
   "cell_type": "code",
   "execution_count": null,
   "metadata": {
    "collapsed": true
   },
   "outputs": [],
   "source": [
    "#using label encoder\n",
    "from sklearn.preprocessing import LabelEncoder\n",
    "\n",
    "categoricals = ['marital-status','occupation','relationship','race','sex']\n",
    "groupdf[categoricals] = groupdf[categoricals].apply(LabelEncoder().fit_transform)\n",
    "groupdf\n",
    "\n",
    "\n"
   ]
  },
  {
   "cell_type": "code",
   "execution_count": null,
   "metadata": {
    "collapsed": true
   },
   "outputs": [],
   "source": []
  },
  {
   "cell_type": "code",
   "execution_count": 22,
   "metadata": {
    "collapsed": true
   },
   "outputs": [],
   "source": [
    "#list of columns with categorical variable types\n",
    "l2 = list(dfst.columns)"
   ]
  },
  {
   "cell_type": "code",
   "execution_count": 23,
   "metadata": {
    "collapsed": true
   },
   "outputs": [],
   "source": [
    "#lets drop ID and the categorical variables from the test data set\n",
    "new_df_test = df1.drop(['ID'] + l2, axis=1) "
   ]
  },
  {
   "cell_type": "code",
   "execution_count": 82,
   "metadata": {
    "collapsed": false
   },
   "outputs": [
    {
     "name": "stdout",
     "output_type": "stream",
     "text": [
      "                  v1         v2        v4         v5        v6        v7  \\\n",
      "0       1.375465e+00  11.361141  4.200778   6.577000  2.081784  1.784386   \n",
      "1                NaN        NaN       NaN        NaN       NaN       NaN   \n",
      "2      -4.903407e-07   8.201529  4.544371   6.550100  1.558442  2.467532   \n",
      "3       2.661870e+00   3.041241  1.657216   9.773080  2.078337  1.430855   \n",
      "4       1.252822e+00  11.283352  4.638388   8.520510  2.302484  3.510159   \n",
      "5       1.733601e+00   7.525109  3.263905   5.608608  2.356090  2.369477   \n",
      "6                NaN        NaN       NaN        NaN       NaN       NaN   \n",
      "7       2.027902e+00   6.947583  5.840414   7.944518  3.607374  2.541107   \n",
      "8       1.296225e+00   9.573390  3.387392   9.316076  2.133125  1.650447   \n",
      "9                NaN        NaN       NaN        NaN       NaN       NaN   \n",
      "10               NaN        NaN       NaN        NaN       NaN       NaN   \n",
      "11      5.163336e+00   5.072283  4.995554  10.333840  3.450681  2.695844   \n",
      "12      2.733510e+00   1.330084  1.182370   4.973445  0.485489  1.741425   \n",
      "13      1.599213e+00   3.942669  5.180166   9.584916  1.996071  2.003930   \n",
      "14      2.684083e-01  10.949054  3.835510   9.320780  2.364889  2.314110   \n",
      "15      1.703106e+00   9.469424  3.806048   8.829859  3.037974  2.209436   \n",
      "16      1.304785e+00   4.002060  1.871816   4.570678  1.249371  0.997482   \n",
      "17               NaN        NaN       NaN        NaN       NaN       NaN   \n",
      "18               NaN        NaN       NaN        NaN       NaN       NaN   \n",
      "19      4.961073e+00   1.932436  1.277394   7.837871  1.591695  2.162630   \n",
      "20      9.871061e-01  11.699004  8.598800  10.721566  2.116497  2.489995   \n",
      "21     -2.975768e-07   5.605482  4.473572  10.657697  1.309255  1.264109   \n",
      "22      3.102725e+00   8.673915  4.330699   6.012946  2.331236  2.331237   \n",
      "23               NaN        NaN       NaN        NaN       NaN       NaN   \n",
      "24               NaN        NaN       NaN        NaN       NaN       NaN   \n",
      "25               NaN        NaN       NaN        NaN       NaN       NaN   \n",
      "26      1.356020e+00  11.845552  6.906102   9.314054  2.345549  3.371729   \n",
      "27      9.685858e-01   7.921039  4.237349   7.538669  2.408378  2.356021   \n",
      "28      1.831682e+00   5.147875  4.908686   5.151310  3.564357  3.861386   \n",
      "29               NaN        NaN       NaN        NaN       NaN       NaN   \n",
      "...              ...        ...       ...        ...       ...       ...   \n",
      "114363  9.906301e-01   8.404664  6.157245   9.447815  2.284695  2.989736   \n",
      "114364  8.614675e-01  12.075085  3.884443  12.071284  2.295028  2.088808   \n",
      "114365  2.161636e+00   6.185055  5.452180   6.005380  2.181110  3.174294   \n",
      "114366  1.545962e+00   8.604588  4.024771   6.563551  1.559889  2.144846   \n",
      "114367           NaN        NaN       NaN        NaN       NaN       NaN   \n",
      "114368           NaN        NaN       NaN        NaN       NaN       NaN   \n",
      "114369           NaN        NaN       NaN        NaN       NaN       NaN   \n",
      "114370           NaN        NaN       NaN        NaN       NaN       NaN   \n",
      "114371           NaN        NaN       NaN   6.946924       NaN       NaN   \n",
      "114372  1.410596e-01   6.100907  3.551356   8.446666  2.775448  2.409455   \n",
      "114373  1.077820e+00   3.033962  2.444575   8.307723  2.180607  1.598003   \n",
      "114374  8.767769e-01   9.818944  4.398785   9.038332  1.706160  3.270141   \n",
      "114375  1.584781e+00   7.609654  3.653863   7.311949  1.995465  2.217184   \n",
      "114376           NaN        NaN       NaN        NaN       NaN       NaN   \n",
      "114377  3.257861e+00   5.295233  5.588398   9.622669  2.683438  2.675053   \n",
      "114378           NaN        NaN       NaN        NaN       NaN       NaN   \n",
      "114379  7.551015e-01   9.521728  3.711305  12.293208  2.568707  2.027211   \n",
      "114380  1.108615e+00   8.128833  4.042384   9.855301  2.591760  2.419476   \n",
      "114381  7.930185e-01   7.170806  3.487871   8.869870  1.812615  2.082058   \n",
      "114382  1.789600e+00  10.279019  3.578667   6.577001  2.902056  2.490932   \n",
      "114383  3.513056e+00   8.872027  7.189595  11.143241  2.699221  2.760257   \n",
      "114384           NaN        NaN       NaN        NaN       NaN       NaN   \n",
      "114385  3.483378e+00   6.388128  5.898398  11.047597  2.588997  2.177112   \n",
      "114386  4.325807e-01   6.501866  3.401867   7.287198  2.587685  2.837100   \n",
      "114387           NaN        NaN       NaN        NaN       NaN       NaN   \n",
      "114388           NaN        NaN       NaN        NaN       NaN       NaN   \n",
      "114389           NaN        NaN       NaN        NaN       NaN       NaN   \n",
      "114390  1.523740e+00   6.571597  3.827086   8.824122  2.635660  2.218992   \n",
      "114391           NaN        NaN       NaN        NaN       NaN       NaN   \n",
      "114392  1.633554e+00   7.520583  4.264139   6.402152  1.766004  2.207506   \n",
      "\n",
      "              v8         v9       v10        v11      ...           v121  \\\n",
      "0       0.011094   9.523810  1.312911  16.851853      ...       3.267328   \n",
      "1            NaN        NaN  1.291029        NaN      ...            NaN   \n",
      "2       0.007164   7.142858  1.575492  15.142858      ...       2.500001   \n",
      "3       1.252157   7.959596  1.575493  14.424357      ...       4.149590   \n",
      "4       0.074263   7.612904  1.050328  15.589989      ...       1.676217   \n",
      "5       0.065481   9.935483  0.656456  15.913043      ...       3.408000   \n",
      "6            NaN        NaN  2.078774        NaN      ...            NaN   \n",
      "7       1.870223   9.818181  0.262583  15.383177      ...       1.314607   \n",
      "8       0.236811  12.050474  5.229759  15.889070      ...       2.003762   \n",
      "9            NaN        NaN  1.050329        NaN      ...            NaN   \n",
      "10           NaN        NaN  1.291028        NaN      ...            NaN   \n",
      "11      0.854107   9.235669  7.264770  15.778636      ...       2.681437   \n",
      "12      2.443223   8.101266  6.564552  13.388704      ...       9.353448   \n",
      "13      3.934811   8.260869  1.553610  15.611285      ...       3.508354   \n",
      "14      0.118944  10.864197  2.625821  15.938038      ...       2.751479   \n",
      "15      0.032355   9.500000  1.312910  16.863636      ...       1.388174   \n",
      "16      3.716412   6.538461  1.312910  16.407507      ...       6.297709   \n",
      "17           NaN        NaN  2.100657        NaN      ...            NaN   \n",
      "18           NaN        NaN  1.050328        NaN      ...            NaN   \n",
      "19      2.120053   9.128919  1.291028  15.472838      ...       7.156549   \n",
      "20      1.199002   3.502824  1.575493  14.731935      ...       1.414013   \n",
      "21      0.837159   9.135802  1.050328  16.225491      ...       2.233147   \n",
      "22      1.363321   6.941176  2.100657  15.277280      ...       3.678037   \n",
      "23           NaN        NaN  1.312911        NaN      ...            NaN   \n",
      "24           NaN        NaN  1.028446        NaN      ...            NaN   \n",
      "25           NaN        NaN  1.312910        NaN      ...            NaN   \n",
      "26      0.088131   8.623854  1.050327  14.964871      ...       1.214392   \n",
      "27      0.037517  11.566265  0.765864  15.527638      ...       1.339286   \n",
      "28      0.009322   8.571429  0.787747  14.285714      ...       2.238805   \n",
      "29           NaN        NaN  1.028447        NaN      ...            NaN   \n",
      "...          ...        ...       ...        ...      ...            ...   \n",
      "114363  0.495578   5.581396  1.050329  14.952682      ...       1.484771   \n",
      "114364  0.231651   7.971631  3.391684  16.051892      ...       2.061439   \n",
      "114365  0.047840  10.136985  1.050328  14.916864      ...       2.920354   \n",
      "114366  0.028811   9.999999  1.050328  16.426332      ...       2.508360   \n",
      "114367       NaN        NaN  1.553611        NaN      ...            NaN   \n",
      "114368       NaN        NaN  1.750546        NaN      ...            NaN   \n",
      "114369       NaN        NaN  0.897156        NaN      ...            NaN   \n",
      "114370       NaN        NaN  1.312909        NaN      ...            NaN   \n",
      "114371  3.500554        NaN  3.916849        NaN      ...            NaN   \n",
      "114372  6.072121   9.072166  0.897155  15.976330      ...       2.615519   \n",
      "114373  4.883135  11.748769  1.750548  15.087198      ...       4.600175   \n",
      "114374  0.016718   7.555555  3.916848  15.868544      ...       0.994475   \n",
      "114375  0.605047   8.599605  1.291029  15.517621      ...       1.966900   \n",
      "114376       NaN        NaN  1.291029        NaN      ...            NaN   \n",
      "114377  3.174227   7.196970  2.603939  15.106796      ...       3.013543   \n",
      "114378       NaN        NaN  1.291029        NaN      ...            NaN   \n",
      "114379  0.319626   9.986431  2.625820  16.404826      ...       1.952256   \n",
      "114380  0.220248   7.845659  1.312911  16.379309      ...       1.560847   \n",
      "114381  0.203455   8.601252  1.312911  15.992166      ...       3.081896   \n",
      "114382  0.053694   9.302325       NaN  15.907928      ...       2.336449   \n",
      "114383  7.219354   4.350650  0.787746  15.098183      ...       2.625928   \n",
      "114384       NaN        NaN  0.525163        NaN      ...            NaN   \n",
      "114385  0.919358   5.851318  1.312910  15.631789      ...       1.840001   \n",
      "114386  1.145616   9.181287  1.050328  15.425867      ...       2.398922   \n",
      "114387       NaN        NaN  1.312910        NaN      ...            NaN   \n",
      "114388       NaN        NaN  1.312910        NaN      ...            NaN   \n",
      "114389       NaN        NaN  2.625820        NaN      ...            NaN   \n",
      "114390  6.534959   8.852942  1.291028  15.053365      ...       2.093023   \n",
      "114391       NaN        NaN  1.816193        NaN      ...            NaN   \n",
      "114392  0.020415   9.333333  0.787746  15.454545      ...       2.049688   \n",
      "\n",
      "             v122       v123          v124      v126      v127      v128  \\\n",
      "0        7.619048   1.815241  1.112270e-07  1.292368  3.903345  1.485925   \n",
      "1             NaN        NaN           NaN       NaN       NaN       NaN   \n",
      "2        5.714286   1.970928  1.412265e-02  1.128724  5.844156  1.475892   \n",
      "3        4.404040   8.163614  1.100329e+00  1.988688  1.558753  2.448814   \n",
      "4        6.580644   1.325654  2.584588e-01  1.863796  2.666478  2.374275   \n",
      "5        5.032257   2.551374 -9.391195e-07  1.541607  3.463855  1.196959   \n",
      "6             NaN        NaN           NaN       NaN       NaN       NaN   \n",
      "7        8.218182   2.011008  6.788057e-01  1.591433  2.541105  1.386445   \n",
      "8       10.977917   2.984337  4.996407e-03  1.327866  3.999610  1.854306   \n",
      "9             NaN        NaN           NaN       NaN       NaN       NaN   \n",
      "10            NaN        NaN           NaN       NaN       NaN       NaN   \n",
      "11       7.961783   3.297808  4.471204e-01  1.199067  3.853473  3.750549   \n",
      "12       2.987341  17.463653  1.310616e+00  3.153132  2.077837  0.596320   \n",
      "13       7.217391   4.150679  8.558020e-01  1.391612  7.750491  2.092416   \n",
      "14       8.888889   2.236415  1.209465e-02  1.489510  5.427094  1.527861   \n",
      "15       7.500001   1.434746  8.156050e-02  1.500202  1.208286  2.606532   \n",
      "16       4.551282  10.652933  1.644299e+00  1.762316  1.851386  0.576675   \n",
      "17            NaN        NaN           NaN       NaN       NaN       NaN   \n",
      "18            NaN        NaN           NaN       NaN       NaN       NaN   \n",
      "19       5.156795  13.563161  7.007522e-01  1.823193  1.946368  1.344926   \n",
      "20       2.711865   1.589302  2.436441e+00  1.690702  2.751223  5.099794   \n",
      "21       9.053497   3.895687  1.590252e+00  1.128087  4.190181  4.293090   \n",
      "22       5.411764   3.176615  1.598974e+00  1.740057  2.437106  0.796672   \n",
      "23            NaN        NaN           NaN       NaN       NaN       NaN   \n",
      "24            NaN        NaN           NaN       NaN       NaN       NaN   \n",
      "25            NaN        NaN           NaN       NaN       NaN       NaN   \n",
      "26       6.513762   1.712633  1.516630e-01  1.797389  3.671467  3.095990   \n",
      "27       9.638553   1.697303  1.992516e-03  1.308226  2.895943  1.850683   \n",
      "28       3.809525   3.903255  4.335355e-02  2.151281  4.455446  1.076859   \n",
      "29            NaN        NaN           NaN       NaN       NaN       NaN   \n",
      "...           ...        ...           ...       ...       ...       ...   \n",
      "114363   5.581395   2.001536  1.043413e-01  1.454348  7.145249  2.803959   \n",
      "114364   6.241134   2.720838  1.387360e-03  1.456239  2.868784  2.283154   \n",
      "114365   6.849315   2.350937  9.861509e-08  1.565597  5.915287  1.307169   \n",
      "114366   7.419355   1.877015  3.929719e-03  1.422303  3.917131  1.481328   \n",
      "114367        NaN        NaN           NaN       NaN       NaN       NaN   \n",
      "114368        NaN        NaN           NaN       NaN       NaN       NaN   \n",
      "114369        NaN        NaN           NaN       NaN       NaN       NaN   \n",
      "114370        NaN        NaN           NaN       NaN       NaN       NaN   \n",
      "114371        NaN        NaN  1.068727e+00       NaN       NaN  1.118518   \n",
      "114372   7.010309   2.482027  7.409382e+00  1.449634  3.488371  1.551687   \n",
      "114373   9.630542   5.420077  4.666686e-01  1.528098  1.583957  1.694916   \n",
      "114374   7.111112   1.696430  7.752846e-03  2.162496  1.244076  2.788495   \n",
      "114375   6.351086   3.124275  5.860976e-01  1.642324  4.138323  1.050249   \n",
      "114376        NaN        NaN           NaN       NaN       NaN       NaN   \n",
      "114377   6.212121   3.472725  1.236354e+00  1.749167  4.465409  2.422204   \n",
      "114378        NaN        NaN           NaN       NaN       NaN       NaN   \n",
      "114379   8.005428   2.566507  6.198885e-02  1.466266  3.250001  1.983462   \n",
      "114380   6.237941   1.733003  1.596733e-01  1.798455  2.921349  2.171972   \n",
      "114381   5.093945   3.511096  5.209062e-02  1.809553  1.837109  1.542910   \n",
      "114382   7.441860   1.554914  6.246811e-02  1.445025  5.169286  1.486760   \n",
      "114383   4.090909   2.231905  2.000000e+01  1.429374  3.751272  9.988227   \n",
      "114384        NaN        NaN           NaN       NaN       NaN       NaN   \n",
      "114385   4.220623   3.180481  1.710853e+00  1.649253  2.515446  5.619901   \n",
      "114386   5.029239   2.884711  3.398881e-01  1.956023  2.192128  1.110856   \n",
      "114387        NaN        NaN           NaN       NaN       NaN       NaN   \n",
      "114388        NaN        NaN           NaN       NaN       NaN       NaN   \n",
      "114389        NaN        NaN           NaN       NaN       NaN       NaN   \n",
      "114390   6.852941   2.093560  5.111015e+00  1.826453  2.661700  1.601567   \n",
      "114391        NaN        NaN           NaN       NaN       NaN       NaN   \n",
      "114392   6.222221   2.740374  9.168495e-07  1.726724  4.966887  1.429776   \n",
      "\n",
      "        v129      v130          v131  \n",
      "0          0  2.333334  1.428572e+00  \n",
      "1          0       NaN           NaN  \n",
      "2          0  1.263157 -6.380022e-07  \n",
      "3          0  5.385474  1.493777e+00  \n",
      "4          0  0.681672  2.264151e+00  \n",
      "5          0  2.598869  1.217392e+00  \n",
      "6          0       NaN           NaN  \n",
      "7          0  1.129412  3.055555e+00  \n",
      "8          1  1.830189  1.855670e+00  \n",
      "9          0       NaN           NaN  \n",
      "10         0       NaN           NaN  \n",
      "11         0  1.703529  4.861878e+00  \n",
      "12         0  8.048485  8.433731e-01  \n",
      "13         0  1.913725  1.803278e+00  \n",
      "14         0  1.492163  3.361354e-01  \n",
      "15         0  1.250000  2.666666e+00  \n",
      "16         0  8.202020  6.896557e-01  \n",
      "17         0       NaN           NaN  \n",
      "18         0       NaN           NaN  \n",
      "19         0  4.992000  1.987180e+00  \n",
      "20         0  0.799999  2.142858e+00  \n",
      "21         0  1.928571  5.227956e-07  \n",
      "22         0  2.316546  2.484472e+00  \n",
      "23         0       NaN           NaN  \n",
      "24         0       NaN           NaN  \n",
      "25         0       NaN           NaN  \n",
      "26         0  0.708075  2.456140e+00  \n",
      "27         0  1.111111  1.599999e+00  \n",
      "28         0  1.128205  1.818182e+00  \n",
      "29         0       NaN           NaN  \n",
      "...      ...       ...           ...  \n",
      "114363     0  0.537314  2.666667e+00  \n",
      "114364     3  1.560510  1.142857e+00  \n",
      "114365     0  1.251533  2.352941e+00  \n",
      "114366     0  1.870130  1.666667e+00  \n",
      "114367     0       NaN           NaN  \n",
      "114368     0       NaN           NaN  \n",
      "114369     0       NaN           NaN  \n",
      "114370     0       NaN           NaN  \n",
      "114371     1       NaN           NaN  \n",
      "114372     0  1.645570  1.538459e-01  \n",
      "114373     0  4.677082  6.236078e-01  \n",
      "114374     1  0.463767  2.500001e+00  \n",
      "114375     0  1.600000  1.931819e+00  \n",
      "114376     0       NaN           NaN  \n",
      "114377     1  1.542320  3.414635e+00  \n",
      "114378     0       NaN           NaN  \n",
      "114379     0  1.540940  1.045296e+00  \n",
      "114380     0  1.151702  1.720430e+00  \n",
      "114381     0  2.752941  5.982898e-01  \n",
      "114382     1  1.436893  2.162162e+00  \n",
      "114383     0  1.346438  4.087592e+00  \n",
      "114384     0       NaN           NaN  \n",
      "114385     0  1.718918  4.025158e+00  \n",
      "114386     0  1.802199  3.658540e-01  \n",
      "114387     0       NaN           NaN  \n",
      "114388     0       NaN           NaN  \n",
      "114389     0       NaN           NaN  \n",
      "114390     0  1.816594  1.634616e+00  \n",
      "114391     0       NaN           NaN  \n",
      "114392     0  1.600000  2.000000e+00  \n",
      "\n",
      "[114393 rows x 112 columns]\n"
     ]
    }
   ],
   "source": [
    "print new_df_test"
   ]
  },
  {
   "cell_type": "code",
   "execution_count": 83,
   "metadata": {
    "collapsed": false
   },
   "outputs": [
    {
     "data": {
      "text/plain": [
       "(114393, 112)"
      ]
     },
     "execution_count": 83,
     "metadata": {},
     "output_type": "execute_result"
    }
   ],
   "source": [
    "new_df_test.shape"
   ]
  },
  {
   "cell_type": "code",
   "execution_count": 24,
   "metadata": {
    "collapsed": true
   },
   "outputs": [],
   "source": [
    "new_df_test1 = new_df_test.dropna()"
   ]
  },
  {
   "cell_type": "code",
   "execution_count": 86,
   "metadata": {
    "collapsed": false
   },
   "outputs": [
    {
     "data": {
      "text/plain": [
       "(62592, 112)"
      ]
     },
     "execution_count": 86,
     "metadata": {},
     "output_type": "execute_result"
    }
   ],
   "source": [
    "new_df_test1.shape"
   ]
  },
  {
   "cell_type": "code",
   "execution_count": 25,
   "metadata": {
    "collapsed": false
   },
   "outputs": [],
   "source": [
    "# predict the target for the test set\n",
    "tcols1 = new_df_test1.columns[0:]\n",
    "X_test = new_df_test1 [tcols1]"
   ]
  },
  {
   "cell_type": "code",
   "execution_count": 26,
   "metadata": {
    "collapsed": false
   },
   "outputs": [
    {
     "name": "stdout",
     "output_type": "stream",
     "text": [
      "[1 1 1 ..., 1 1 1]\n"
     ]
    }
   ],
   "source": [
    "predicted = model.predict(X_test)\n",
    "print predicted"
   ]
  },
  {
   "cell_type": "code",
   "execution_count": 33,
   "metadata": {
    "collapsed": false
   },
   "outputs": [
    {
     "data": {
      "text/plain": [
       "62247"
      ]
     },
     "execution_count": 33,
     "metadata": {},
     "output_type": "execute_result"
    }
   ],
   "source": [
    "#number of approvals in the test set\n",
    "np.count_nonzero(predicted)"
   ]
  },
  {
   "cell_type": "code",
   "execution_count": 39,
   "metadata": {
    "collapsed": false
   },
   "outputs": [
    {
     "data": {
      "text/plain": [
       "0.9944881134969326"
      ]
     },
     "execution_count": 39,
     "metadata": {},
     "output_type": "execute_result"
    }
   ],
   "source": [
    "#percent approval in the test set\n",
    "62247/62592.0"
   ]
  },
  {
   "cell_type": "code",
   "execution_count": 30,
   "metadata": {
    "collapsed": false
   },
   "outputs": [
    {
     "data": {
      "text/plain": [
       "[<matplotlib.lines.Line2D at 0x112c83590>]"
      ]
     },
     "execution_count": 30,
     "metadata": {},
     "output_type": "execute_result"
    },
    {
     "data": {
      "image/png": "[encoded data removed]",
      "text/plain": [
       "<matplotlib.figure.Figure at 0x1130da310>"
      ]
     },
     "metadata": {},
     "output_type": "display_data"
    }
   ],
   "source": [
    "\n",
    "import matplotlib.pyplot as plt\n",
    "plt.style.use('fivethirtyeight')\n",
    "%matplotlib inline\n",
    "\n",
    "plt.plot(predicted)"
   ]
  },
  {
   "cell_type": "code",
   "execution_count": 91,
   "metadata": {
    "collapsed": false
   },
   "outputs": [
    {
     "name": "stdout",
     "output_type": "stream",
     "text": [
      "[[ 0.45190609  0.54809391]\n",
      " [ 0.30229047  0.69770953]\n",
      " [ 0.25852072  0.74147928]\n",
      " ..., \n",
      " [ 0.2223745   0.7776255 ]\n",
      " [ 0.16940084  0.83059916]\n",
      " [ 0.42475793  0.57524207]]\n"
     ]
    }
   ],
   "source": [
    "# generate class probabilities\n",
    "probs = model.predict_proba(X_test)\n",
    "print probs"
   ]
  },
  {
   "cell_type": "code",
   "execution_count": null,
   "metadata": {
    "collapsed": false
   },
   "outputs": [],
   "source": [
    "#lets try cross validation on the train set to see if the model score gets better\n"
   ]
  },
  {
   "cell_type": "code",
   "execution_count": 96,
   "metadata": {
    "collapsed": false
   },
   "outputs": [
    {
     "name": "stdout",
     "output_type": "stream",
     "text": [
      "[ 0.75563369  0.7533962   0.7544757   0.75703325  0.75671355  0.75431586\n",
      "  0.7547954   0.75319693  0.75431586  0.75411671]\n",
      "0.754799314048\n"
     ]
    }
   ],
   "source": [
    "# lets evaluate the model using 10-fold cross-validation\n",
    "scores = cross_val_score(LogisticRegression(), X, y, scoring='accuracy', cv=10)\n",
    "print scores\n",
    "print scores.mean()"
   ]
  },
  {
   "cell_type": "markdown",
   "metadata": {},
   "source": [
    " "
   ]
  },
  {
   "cell_type": "code",
   "execution_count": null,
   "metadata": {
    "collapsed": true
   },
   "outputs": [],
   "source": []
  }
 ],
 "metadata": {
  "anaconda-cloud": {},
  "kernelspec": {
   "display_name": "Python [Root]",
   "language": "python",
   "name": "Python [Root]"
  },
  "language_info": {
   "codemirror_mode": {
    "name": "ipython",
    "version": 2
   },
   "file_extension": ".py",
   "mimetype": "text/x-python",
   "name": "python",
   "nbconvert_exporter": "python",
   "pygments_lexer": "ipython2",
   "version": "2.7.12"
  }
 },
 "nbformat": 4,
 "nbformat_minor": 0
}
